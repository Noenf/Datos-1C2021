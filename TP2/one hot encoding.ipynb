{
 "cells": [
  {
   "cell_type": "code",
   "execution_count": 1,
   "metadata": {},
   "outputs": [],
   "source": [
    "import datetime as datetime\n",
    "import pandas as pd\n",
    "import numpy as np\n",
    "import matplotlib.pyplot as plt\n",
    "%matplotlib inline"
   ]
  },
  {
   "cell_type": "code",
   "execution_count": 4,
   "metadata": {},
   "outputs": [],
   "source": [
    "train_values = pd.read_csv('train_values.csv')"
   ]
  },
  {
   "cell_type": "code",
   "execution_count": 5,
   "metadata": {},
   "outputs": [],
   "source": [
    "test_values = pd.read_csv('test_values.csv')"
   ]
  },
  {
   "cell_type": "code",
   "execution_count": 7,
   "metadata": {},
   "outputs": [
    {
     "data": {
      "text/plain": [
       "(260601, 69)"
      ]
     },
     "execution_count": 7,
     "metadata": {},
     "output_type": "execute_result"
    }
   ],
   "source": [
    "train_oneHotEncoding=pd.get_dummies(train_values)\n",
    "train_oneHotEncoding.shape"
   ]
  },
  {
   "cell_type": "code",
   "execution_count": 8,
   "metadata": {},
   "outputs": [
    {
     "data": {
      "text/plain": [
       "(86868, 69)"
      ]
     },
     "execution_count": 8,
     "metadata": {},
     "output_type": "execute_result"
    }
   ],
   "source": [
    "test_oneHotEncoding=pd.get_dummies(test_values)\n",
    "test_oneHotEncoding.shape"
   ]
  },
  {
   "cell_type": "code",
   "execution_count": 14,
   "metadata": {},
   "outputs": [
    {
     "name": "stdout",
     "output_type": "stream",
     "text": [
      "<class 'pandas.core.frame.DataFrame'>\n",
      "RangeIndex: 260601 entries, 0 to 260600\n",
      "Data columns (total 69 columns):\n",
      " #   Column                                  Non-Null Count   Dtype\n",
      "---  ------                                  --------------   -----\n",
      " 0   building_id                             260601 non-null  int64\n",
      " 1   geo_level_1_id                          260601 non-null  int64\n",
      " 2   geo_level_2_id                          260601 non-null  int64\n",
      " 3   geo_level_3_id                          260601 non-null  int64\n",
      " 4   count_floors_pre_eq                     260601 non-null  int64\n",
      " 5   age                                     260601 non-null  int64\n",
      " 6   area_percentage                         260601 non-null  int64\n",
      " 7   height_percentage                       260601 non-null  int64\n",
      " 8   has_superstructure_adobe_mud            260601 non-null  int64\n",
      " 9   has_superstructure_mud_mortar_stone     260601 non-null  int64\n",
      " 10  has_superstructure_stone_flag           260601 non-null  int64\n",
      " 11  has_superstructure_cement_mortar_stone  260601 non-null  int64\n",
      " 12  has_superstructure_mud_mortar_brick     260601 non-null  int64\n",
      " 13  has_superstructure_cement_mortar_brick  260601 non-null  int64\n",
      " 14  has_superstructure_timber               260601 non-null  int64\n",
      " 15  has_superstructure_bamboo               260601 non-null  int64\n",
      " 16  has_superstructure_rc_non_engineered    260601 non-null  int64\n",
      " 17  has_superstructure_rc_engineered        260601 non-null  int64\n",
      " 18  has_superstructure_other                260601 non-null  int64\n",
      " 19  count_families                          260601 non-null  int64\n",
      " 20  has_secondary_use                       260601 non-null  int64\n",
      " 21  has_secondary_use_agriculture           260601 non-null  int64\n",
      " 22  has_secondary_use_hotel                 260601 non-null  int64\n",
      " 23  has_secondary_use_rental                260601 non-null  int64\n",
      " 24  has_secondary_use_institution           260601 non-null  int64\n",
      " 25  has_secondary_use_school                260601 non-null  int64\n",
      " 26  has_secondary_use_industry              260601 non-null  int64\n",
      " 27  has_secondary_use_health_post           260601 non-null  int64\n",
      " 28  has_secondary_use_gov_office            260601 non-null  int64\n",
      " 29  has_secondary_use_use_police            260601 non-null  int64\n",
      " 30  has_secondary_use_other                 260601 non-null  int64\n",
      " 31  land_surface_condition_n                260601 non-null  uint8\n",
      " 32  land_surface_condition_o                260601 non-null  uint8\n",
      " 33  land_surface_condition_t                260601 non-null  uint8\n",
      " 34  foundation_type_h                       260601 non-null  uint8\n",
      " 35  foundation_type_i                       260601 non-null  uint8\n",
      " 36  foundation_type_r                       260601 non-null  uint8\n",
      " 37  foundation_type_u                       260601 non-null  uint8\n",
      " 38  foundation_type_w                       260601 non-null  uint8\n",
      " 39  roof_type_n                             260601 non-null  uint8\n",
      " 40  roof_type_q                             260601 non-null  uint8\n",
      " 41  roof_type_x                             260601 non-null  uint8\n",
      " 42  ground_floor_type_f                     260601 non-null  uint8\n",
      " 43  ground_floor_type_m                     260601 non-null  uint8\n",
      " 44  ground_floor_type_v                     260601 non-null  uint8\n",
      " 45  ground_floor_type_x                     260601 non-null  uint8\n",
      " 46  ground_floor_type_z                     260601 non-null  uint8\n",
      " 47  other_floor_type_j                      260601 non-null  uint8\n",
      " 48  other_floor_type_q                      260601 non-null  uint8\n",
      " 49  other_floor_type_s                      260601 non-null  uint8\n",
      " 50  other_floor_type_x                      260601 non-null  uint8\n",
      " 51  position_j                              260601 non-null  uint8\n",
      " 52  position_o                              260601 non-null  uint8\n",
      " 53  position_s                              260601 non-null  uint8\n",
      " 54  position_t                              260601 non-null  uint8\n",
      " 55  plan_configuration_a                    260601 non-null  uint8\n",
      " 56  plan_configuration_c                    260601 non-null  uint8\n",
      " 57  plan_configuration_d                    260601 non-null  uint8\n",
      " 58  plan_configuration_f                    260601 non-null  uint8\n",
      " 59  plan_configuration_m                    260601 non-null  uint8\n",
      " 60  plan_configuration_n                    260601 non-null  uint8\n",
      " 61  plan_configuration_o                    260601 non-null  uint8\n",
      " 62  plan_configuration_q                    260601 non-null  uint8\n",
      " 63  plan_configuration_s                    260601 non-null  uint8\n",
      " 64  plan_configuration_u                    260601 non-null  uint8\n",
      " 65  legal_ownership_status_a                260601 non-null  uint8\n",
      " 66  legal_ownership_status_r                260601 non-null  uint8\n",
      " 67  legal_ownership_status_v                260601 non-null  uint8\n",
      " 68  legal_ownership_status_w                260601 non-null  uint8\n",
      "dtypes: int64(31), uint8(38)\n",
      "memory usage: 71.1 MB\n"
     ]
    }
   ],
   "source": [
    "train_oneHotEncoding.info()"
   ]
  },
  {
   "cell_type": "code",
   "execution_count": 18,
   "metadata": {},
   "outputs": [],
   "source": [
    "test_oneHotEncoding.to_csv(r'./test_oneHotEncoding.csv',index=False , header=True)\n",
    "train_oneHotEncoding.to_csv(r'./train_oneHotEncoding.csv',index=False , header=True)"
   ]
  }
 ],
 "metadata": {
  "kernelspec": {
   "display_name": "Python 3",
   "language": "python",
   "name": "python3"
  },
  "language_info": {
   "codemirror_mode": {
    "name": "ipython",
    "version": 3
   },
   "file_extension": ".py",
   "mimetype": "text/x-python",
   "name": "python",
   "nbconvert_exporter": "python",
   "pygments_lexer": "ipython3",
   "version": "3.7.2"
  }
 },
 "nbformat": 4,
 "nbformat_minor": 4
}
