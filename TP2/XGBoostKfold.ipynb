{
 "cells": [
  {
   "cell_type": "code",
   "execution_count": 1,
   "metadata": {},
   "outputs": [
    {
     "name": "stderr",
     "output_type": "stream",
     "text": [
      "/usr/local/lib/python3.5/dist-packages/xgboost/__init__.py:29: FutureWarning: Python 3.5 support is deprecated; XGBoost will require Python 3.6+ in the near future. Consider upgrading to Python 3.6+.\n",
      "  FutureWarning)\n"
     ]
    }
   ],
   "source": [
    "import pandas as pd\n",
    "import numpy as np\n",
    "import xgboost as xgb"
   ]
  },
  {
   "cell_type": "code",
   "execution_count": 2,
   "metadata": {},
   "outputs": [],
   "source": [
    "train = pd.read_csv('dataset_v4.csv')\n",
    "train_labels = pd.read_csv('train_labels.csv')"
   ]
  },
  {
   "cell_type": "code",
   "execution_count": 3,
   "metadata": {},
   "outputs": [
    {
     "name": "stdout",
     "output_type": "stream",
     "text": [
      "<class 'pandas.core.frame.DataFrame'>\n",
      "RangeIndex: 260601 entries, 0 to 260600\n",
      "Data columns (total 35 columns):\n",
      "building_id                               260601 non-null int64\n",
      "geo_level_1_id                            260601 non-null int64\n",
      "geo_level_2_id                            260601 non-null int64\n",
      "geo_level_3_id                            260601 non-null int64\n",
      "age                                       260601 non-null int64\n",
      "area_percentage                           260601 non-null int64\n",
      "height_percentage                         260601 non-null int64\n",
      "has_superstructure_adobe_mud              260601 non-null bool\n",
      "has_superstructure_mud_mortar_stone       260601 non-null bool\n",
      "has_superstructure_stone_flag             260601 non-null bool\n",
      "has_superstructure_cement_mortar_stone    260601 non-null bool\n",
      "has_superstructure_mud_mortar_brick       260601 non-null bool\n",
      "has_superstructure_cement_mortar_brick    260601 non-null bool\n",
      "has_superstructure_timber                 260601 non-null bool\n",
      "has_superstructure_bamboo                 260601 non-null bool\n",
      "has_superstructure_rc_non_engineered      260601 non-null bool\n",
      "has_superstructure_rc_engineered          260601 non-null bool\n",
      "land_surface_condition_C0                 260601 non-null int64\n",
      "land_surface_condition_C1                 260601 non-null int64\n",
      "foundation_type_C0                        260601 non-null int64\n",
      "foundation_type_C1                        260601 non-null int64\n",
      "foundation_type_C2                        260601 non-null int64\n",
      "ground_floor_type_C0                      260601 non-null int64\n",
      "ground_floor_type_C1                      260601 non-null int64\n",
      "ground_floor_type_C2                      260601 non-null int64\n",
      "other_floor_type_C0                       260601 non-null int64\n",
      "other_floor_type_C1                       260601 non-null int64\n",
      "other_floor_type_C2                       260601 non-null int64\n",
      "position_C0                               260601 non-null int64\n",
      "position_C1                               260601 non-null int64\n",
      "position_C2                               260601 non-null int64\n",
      "plan_configuration_C0                     260601 non-null int64\n",
      "plan_configuration_C1                     260601 non-null int64\n",
      "plan_configuration_C2                     260601 non-null int64\n",
      "plan_configuration_C3                     260601 non-null int64\n",
      "dtypes: bool(10), int64(25)\n",
      "memory usage: 52.2 MB\n"
     ]
    }
   ],
   "source": [
    "train.info() ##Nos quedamos con las columnas numericas solamente - geo_level_3_id "
   ]
  },
  {
   "cell_type": "code",
   "execution_count": 4,
   "metadata": {},
   "outputs": [
    {
     "name": "stdout",
     "output_type": "stream",
     "text": [
      "<class 'pandas.core.frame.DataFrame'>\n",
      "RangeIndex: 260601 entries, 0 to 260600\n",
      "Data columns (total 2 columns):\n",
      "building_id     260601 non-null int64\n",
      "damage_grade    260601 non-null int64\n",
      "dtypes: int64(2)\n",
      "memory usage: 4.0 MB\n"
     ]
    }
   ],
   "source": [
    "train_labels.info()"
   ]
  },
  {
   "cell_type": "code",
   "execution_count": 5,
   "metadata": {},
   "outputs": [],
   "source": [
    "train1 = train.loc[:,['building_id','geo_level_1_id','geo_level_2_id','age','area_percentage','height_percentage']]             "
   ]
  },
  {
   "cell_type": "code",
   "execution_count": 7,
   "metadata": {},
   "outputs": [
    {
     "name": "stdout",
     "output_type": "stream",
     "text": [
      "<class 'pandas.core.frame.DataFrame'>\n",
      "RangeIndex: 260601 entries, 0 to 260600\n",
      "Data columns (total 6 columns):\n",
      "building_id          260601 non-null int64\n",
      "geo_level_1_id       260601 non-null int64\n",
      "geo_level_2_id       260601 non-null int64\n",
      "age                  260601 non-null int64\n",
      "area_percentage      260601 non-null int64\n",
      "height_percentage    260601 non-null int64\n",
      "dtypes: int64(6)\n",
      "memory usage: 11.9 MB\n"
     ]
    }
   ],
   "source": [
    "train1.info()"
   ]
  },
  {
   "cell_type": "code",
   "execution_count": 8,
   "metadata": {},
   "outputs": [],
   "source": [
    "from sklearn.model_selection import KFold"
   ]
  },
  {
   "cell_type": "code",
   "execution_count": 9,
   "metadata": {},
   "outputs": [],
   "source": [
    "from sklearn.metrics import accuracy_score"
   ]
  },
  {
   "cell_type": "code",
   "execution_count": 10,
   "metadata": {},
   "outputs": [],
   "source": [
    "x = np.array(train1)\n",
    "y = np.array(train_labels['damage_grade'])"
   ]
  },
  {
   "cell_type": "code",
   "execution_count": 11,
   "metadata": {},
   "outputs": [
    {
     "name": "stdout",
     "output_type": "stream",
     "text": [
      "accuracy=26.12%\n",
      "accuracy=25.74%\n",
      "accuracy=25.95%\n"
     ]
    }
   ],
   "source": [
    "kf = KFold(n_splits=3)\n",
    "for train_index, test_index in kf.split(x, y):\n",
    "    xgb_model = xgb.XGBRFRegressor(random_state=42).fit(\n",
    "    x[train_index], y[train_index])\n",
    "    \n",
    "    xgb_model.predict(x[test_index])\n",
    "    score = xgb_model.score(x[test_index], y[test_index])\n",
    "    print(\"accuracy=%.2f%%\" % ( score * 100)) "
   ]
  },
  {
   "cell_type": "code",
   "execution_count": 12,
   "metadata": {},
   "outputs": [
    {
     "name": "stdout",
     "output_type": "stream",
     "text": [
      "accuracy=26.13%\n"
     ]
    }
   ],
   "source": [
    "score = xgb_model.score(x, y)\n",
    "print(\"accuracy=%.2f%%\" % ( score * 100)) "
   ]
  },
  {
   "cell_type": "code",
   "execution_count": 33,
   "metadata": {},
   "outputs": [],
   "source": [
    "x2 = np.array(train.drop(labels=['building_id','geo_level_1_id','geo_level_2_id','geo_level_3_id'], axis=1))\n",
    "y2 = np.array(train_labels['damage_grade'])"
   ]
  },
  {
   "cell_type": "code",
   "execution_count": 34,
   "metadata": {},
   "outputs": [
    {
     "name": "stderr",
     "output_type": "stream",
     "text": [
      "/usr/local/lib/python3.5/dist-packages/sklearn/preprocessing/label.py:151: DeprecationWarning: The truth value of an empty array is ambiguous. Returning False, but in future this will result in an error. Use `array.size > 0` to check that an array is not empty.\n",
      "  if diff:\n",
      "/usr/local/lib/python3.5/dist-packages/sklearn/preprocessing/label.py:151: DeprecationWarning: The truth value of an empty array is ambiguous. Returning False, but in future this will result in an error. Use `array.size > 0` to check that an array is not empty.\n",
      "  if diff:\n"
     ]
    },
    {
     "name": "stdout",
     "output_type": "stream",
     "text": [
      "accuracy=59.76%\n"
     ]
    },
    {
     "name": "stderr",
     "output_type": "stream",
     "text": [
      "/usr/local/lib/python3.5/dist-packages/sklearn/preprocessing/label.py:151: DeprecationWarning: The truth value of an empty array is ambiguous. Returning False, but in future this will result in an error. Use `array.size > 0` to check that an array is not empty.\n",
      "  if diff:\n",
      "/usr/local/lib/python3.5/dist-packages/sklearn/preprocessing/label.py:151: DeprecationWarning: The truth value of an empty array is ambiguous. Returning False, but in future this will result in an error. Use `array.size > 0` to check that an array is not empty.\n",
      "  if diff:\n"
     ]
    },
    {
     "name": "stdout",
     "output_type": "stream",
     "text": [
      "accuracy=60.05%\n"
     ]
    },
    {
     "name": "stderr",
     "output_type": "stream",
     "text": [
      "/usr/local/lib/python3.5/dist-packages/sklearn/preprocessing/label.py:151: DeprecationWarning: The truth value of an empty array is ambiguous. Returning False, but in future this will result in an error. Use `array.size > 0` to check that an array is not empty.\n",
      "  if diff:\n"
     ]
    },
    {
     "name": "stdout",
     "output_type": "stream",
     "text": [
      "accuracy=60.05%\n"
     ]
    },
    {
     "name": "stderr",
     "output_type": "stream",
     "text": [
      "/usr/local/lib/python3.5/dist-packages/sklearn/preprocessing/label.py:151: DeprecationWarning: The truth value of an empty array is ambiguous. Returning False, but in future this will result in an error. Use `array.size > 0` to check that an array is not empty.\n",
      "  if diff:\n"
     ]
    }
   ],
   "source": [
    "for train_index, test_index in kf.split(x2, y2):\n",
    "    xgb_model_v2 = xgb.XGBClassifier(objective = 'binary:logistic',random_state=42).fit(\n",
    "    x2[train_index], y2[train_index])\n",
    "    \n",
    "    xgb_model_v2.predict(x2[test_index])\n",
    "    score = xgb_model_v2.score(x2[test_index], y2[test_index])\n",
    "    print(\"accuracy=%.2f%%\" % ( score * 100)) "
   ]
  },
  {
   "cell_type": "code",
   "execution_count": 35,
   "metadata": {},
   "outputs": [
    {
     "name": "stdout",
     "output_type": "stream",
     "text": [
      "accuracy=61.18%\n"
     ]
    },
    {
     "name": "stderr",
     "output_type": "stream",
     "text": [
      "/usr/local/lib/python3.5/dist-packages/sklearn/preprocessing/label.py:151: DeprecationWarning: The truth value of an empty array is ambiguous. Returning False, but in future this will result in an error. Use `array.size > 0` to check that an array is not empty.\n",
      "  if diff:\n"
     ]
    }
   ],
   "source": [
    "score = xgb_model_v2.score(x2, y2)\n",
    "print(\"accuracy=%.2f%%\" % ( score * 100)) "
   ]
  },
  {
   "cell_type": "code",
   "execution_count": 37,
   "metadata": {},
   "outputs": [],
   "source": [
    "from sklearn.metrics import accuracy_score"
   ]
  },
  {
   "cell_type": "code",
   "execution_count": 41,
   "metadata": {},
   "outputs": [
    {
     "name": "stdout",
     "output_type": "stream",
     "text": [
      "accuracy=61.18%\n"
     ]
    },
    {
     "name": "stderr",
     "output_type": "stream",
     "text": [
      "/usr/local/lib/python3.5/dist-packages/sklearn/preprocessing/label.py:151: DeprecationWarning: The truth value of an empty array is ambiguous. Returning False, but in future this will result in an error. Use `array.size > 0` to check that an array is not empty.\n",
      "  if diff:\n"
     ]
    }
   ],
   "source": [
    "preds = xgb_model_v2.predict(x2)\n",
    "accuracy = accuracy_score(y2, preds)\n",
    "print(\"accuracy=%.2f%%\" % ( accuracy * 100)) \n"
   ]
  },
  {
   "cell_type": "code",
   "execution_count": 32,
   "metadata": {},
   "outputs": [
    {
     "data": {
      "text/html": [
       "<div>\n",
       "<style scoped>\n",
       "    .dataframe tbody tr th:only-of-type {\n",
       "        vertical-align: middle;\n",
       "    }\n",
       "\n",
       "    .dataframe tbody tr th {\n",
       "        vertical-align: top;\n",
       "    }\n",
       "\n",
       "    .dataframe thead th {\n",
       "        text-align: right;\n",
       "    }\n",
       "</style>\n",
       "<table border=\"1\" class=\"dataframe\">\n",
       "  <thead>\n",
       "    <tr style=\"text-align: right;\">\n",
       "      <th></th>\n",
       "      <th>building_id</th>\n",
       "      <th>damage_grade</th>\n",
       "    </tr>\n",
       "  </thead>\n",
       "  <tbody>\n",
       "    <tr>\n",
       "      <th>0</th>\n",
       "      <td>802906</td>\n",
       "      <td>3</td>\n",
       "    </tr>\n",
       "    <tr>\n",
       "      <th>1</th>\n",
       "      <td>28830</td>\n",
       "      <td>2</td>\n",
       "    </tr>\n",
       "    <tr>\n",
       "      <th>2</th>\n",
       "      <td>94947</td>\n",
       "      <td>3</td>\n",
       "    </tr>\n",
       "    <tr>\n",
       "      <th>3</th>\n",
       "      <td>590882</td>\n",
       "      <td>2</td>\n",
       "    </tr>\n",
       "    <tr>\n",
       "      <th>4</th>\n",
       "      <td>201944</td>\n",
       "      <td>3</td>\n",
       "    </tr>\n",
       "  </tbody>\n",
       "</table>\n",
       "</div>"
      ],
      "text/plain": [
       "   building_id  damage_grade\n",
       "0       802906             3\n",
       "1        28830             2\n",
       "2        94947             3\n",
       "3       590882             2\n",
       "4       201944             3"
      ]
     },
     "execution_count": 32,
     "metadata": {},
     "output_type": "execute_result"
    }
   ],
   "source": [
    "train_labels.head()"
   ]
  },
  {
   "cell_type": "code",
   "execution_count": 42,
   "metadata": {},
   "outputs": [],
   "source": [
    "test_data = pd.read_csv('encoded_test_values.csv')"
   ]
  },
  {
   "cell_type": "code",
   "execution_count": 43,
   "metadata": {},
   "outputs": [
    {
     "name": "stdout",
     "output_type": "stream",
     "text": [
      "<class 'pandas.core.frame.DataFrame'>\n",
      "RangeIndex: 86868 entries, 0 to 86867\n",
      "Data columns (total 39 columns):\n",
      "count_floors_pre_eq                       86868 non-null int64\n",
      "age                                       86868 non-null int64\n",
      "area_percentage                           86868 non-null int64\n",
      "height_percentage                         86868 non-null int64\n",
      "has_superstructure_adobe_mud              86868 non-null int64\n",
      "has_superstructure_mud_mortar_stone       86868 non-null int64\n",
      "has_superstructure_stone_flag             86868 non-null int64\n",
      "has_superstructure_cement_mortar_stone    86868 non-null int64\n",
      "has_superstructure_mud_mortar_brick       86868 non-null int64\n",
      "has_superstructure_cement_mortar_brick    86868 non-null int64\n",
      "has_superstructure_timber                 86868 non-null int64\n",
      "has_superstructure_bamboo                 86868 non-null int64\n",
      "has_superstructure_rc_non_engineered      86868 non-null int64\n",
      "has_superstructure_rc_engineered          86868 non-null int64\n",
      "has_superstructure_other                  86868 non-null int64\n",
      "count_families                            86868 non-null int64\n",
      "roof_type_C1                              86868 non-null int64\n",
      "roof_type_C0                              86868 non-null int64\n",
      "land_surface_condition_C1                 86868 non-null int64\n",
      "land_surface_condition_C0                 86868 non-null int64\n",
      "foundation_type_C0                        86868 non-null int64\n",
      "foundation_type_C1                        86868 non-null int64\n",
      "foundation_type_C2                        86868 non-null int64\n",
      "ground_floor_type_C0                      86868 non-null int64\n",
      "ground_floor_type_C1                      86868 non-null int64\n",
      "ground_floor_type_C2                      86868 non-null int64\n",
      "other_floor_type_C0                       86868 non-null int64\n",
      "other_floor_type_C1                       86868 non-null int64\n",
      "other_floor_type_C2                       86868 non-null int64\n",
      "position_C0                               86868 non-null int64\n",
      "position_C1                               86868 non-null int64\n",
      "position_C2                               86868 non-null int64\n",
      "plan_configuration_C0                     86868 non-null int64\n",
      "plan_configuration_C1                     86868 non-null int64\n",
      "plan_configuration_C2                     86868 non-null int64\n",
      "plan_configuration_C3                     86868 non-null int64\n",
      "legal_ownership_status_C0                 86868 non-null int64\n",
      "legal_ownership_status_C1                 86868 non-null int64\n",
      "legal_ownership_status_C2                 86868 non-null int64\n",
      "dtypes: int64(39)\n",
      "memory usage: 25.8 MB\n"
     ]
    }
   ],
   "source": [
    "test_data = test_data.drop(labels=['building_id','geo_level_1_id','geo_level_2_id','geo_level_3_id','land_surface_condition','foundation_type','roof_type',\\\n",
    "'ground_floor_type','other_floor_type','position', 'plan_configuration','legal_ownership_status',\\\n",
    " 'has_secondary_use','has_secondary_use_agriculture','has_secondary_use_hotel','has_secondary_use_rental',\\\n",
    "'has_secondary_use_institution','has_secondary_use_school','has_secondary_use_industry','has_secondary_use_health_post',\\\n",
    "'has_secondary_use_gov_office','has_secondary_use_use_police','has_secondary_use_other'],axis=1)\n",
    "\n",
    "test_data.info()"
   ]
  },
  {
   "cell_type": "code",
   "execution_count": 46,
   "metadata": {},
   "outputs": [
    {
     "name": "stdout",
     "output_type": "stream",
     "text": [
      "<class 'pandas.core.frame.DataFrame'>\n",
      "RangeIndex: 260601 entries, 0 to 260600\n",
      "Data columns (total 35 columns):\n",
      "building_id                               260601 non-null int64\n",
      "geo_level_1_id                            260601 non-null int64\n",
      "geo_level_2_id                            260601 non-null int64\n",
      "geo_level_3_id                            260601 non-null int64\n",
      "age                                       260601 non-null int64\n",
      "area_percentage                           260601 non-null int64\n",
      "height_percentage                         260601 non-null int64\n",
      "has_superstructure_adobe_mud              260601 non-null bool\n",
      "has_superstructure_mud_mortar_stone       260601 non-null bool\n",
      "has_superstructure_stone_flag             260601 non-null bool\n",
      "has_superstructure_cement_mortar_stone    260601 non-null bool\n",
      "has_superstructure_mud_mortar_brick       260601 non-null bool\n",
      "has_superstructure_cement_mortar_brick    260601 non-null bool\n",
      "has_superstructure_timber                 260601 non-null bool\n",
      "has_superstructure_bamboo                 260601 non-null bool\n",
      "has_superstructure_rc_non_engineered      260601 non-null bool\n",
      "has_superstructure_rc_engineered          260601 non-null bool\n",
      "land_surface_condition_C0                 260601 non-null int64\n",
      "land_surface_condition_C1                 260601 non-null int64\n",
      "foundation_type_C0                        260601 non-null int64\n",
      "foundation_type_C1                        260601 non-null int64\n",
      "foundation_type_C2                        260601 non-null int64\n",
      "ground_floor_type_C0                      260601 non-null int64\n",
      "ground_floor_type_C1                      260601 non-null int64\n",
      "ground_floor_type_C2                      260601 non-null int64\n",
      "other_floor_type_C0                       260601 non-null int64\n",
      "other_floor_type_C1                       260601 non-null int64\n",
      "other_floor_type_C2                       260601 non-null int64\n",
      "position_C0                               260601 non-null int64\n",
      "position_C1                               260601 non-null int64\n",
      "position_C2                               260601 non-null int64\n",
      "plan_configuration_C0                     260601 non-null int64\n",
      "plan_configuration_C1                     260601 non-null int64\n",
      "plan_configuration_C2                     260601 non-null int64\n",
      "plan_configuration_C3                     260601 non-null int64\n",
      "dtypes: bool(10), int64(25)\n",
      "memory usage: 52.2 MB\n"
     ]
    }
   ],
   "source": [
    "#preds = xgb_model_v2.predict(np.array(test_data))\n",
    "train.info()"
   ]
  },
  {
   "cell_type": "code",
   "execution_count": 52,
   "metadata": {},
   "outputs": [],
   "source": [
    "test_data = test_data.drop(labels=['count_families','legal_ownership_status_C0','legal_ownership_status_C1',\\\n",
    "                                   'legal_ownership_status_C2','roof_type_C0',\\\n",
    "'roof_type_C1','count_floors_pre_eq'],axis=1)"
   ]
  },
  {
   "cell_type": "code",
   "execution_count": 53,
   "metadata": {},
   "outputs": [
    {
     "name": "stdout",
     "output_type": "stream",
     "text": [
      "<class 'pandas.core.frame.DataFrame'>\n",
      "RangeIndex: 86868 entries, 0 to 86867\n",
      "Data columns (total 32 columns):\n",
      "age                                       86868 non-null int64\n",
      "area_percentage                           86868 non-null int64\n",
      "height_percentage                         86868 non-null int64\n",
      "has_superstructure_adobe_mud              86868 non-null int64\n",
      "has_superstructure_mud_mortar_stone       86868 non-null int64\n",
      "has_superstructure_stone_flag             86868 non-null int64\n",
      "has_superstructure_cement_mortar_stone    86868 non-null int64\n",
      "has_superstructure_mud_mortar_brick       86868 non-null int64\n",
      "has_superstructure_cement_mortar_brick    86868 non-null int64\n",
      "has_superstructure_timber                 86868 non-null int64\n",
      "has_superstructure_bamboo                 86868 non-null int64\n",
      "has_superstructure_rc_non_engineered      86868 non-null int64\n",
      "has_superstructure_rc_engineered          86868 non-null int64\n",
      "has_superstructure_other                  86868 non-null int64\n",
      "land_surface_condition_C1                 86868 non-null int64\n",
      "land_surface_condition_C0                 86868 non-null int64\n",
      "foundation_type_C0                        86868 non-null int64\n",
      "foundation_type_C1                        86868 non-null int64\n",
      "foundation_type_C2                        86868 non-null int64\n",
      "ground_floor_type_C0                      86868 non-null int64\n",
      "ground_floor_type_C1                      86868 non-null int64\n",
      "ground_floor_type_C2                      86868 non-null int64\n",
      "other_floor_type_C0                       86868 non-null int64\n",
      "other_floor_type_C1                       86868 non-null int64\n",
      "other_floor_type_C2                       86868 non-null int64\n",
      "position_C0                               86868 non-null int64\n",
      "position_C1                               86868 non-null int64\n",
      "position_C2                               86868 non-null int64\n",
      "plan_configuration_C0                     86868 non-null int64\n",
      "plan_configuration_C1                     86868 non-null int64\n",
      "plan_configuration_C2                     86868 non-null int64\n",
      "plan_configuration_C3                     86868 non-null int64\n",
      "dtypes: int64(32)\n",
      "memory usage: 21.2 MB\n"
     ]
    }
   ],
   "source": [
    "test_data.info()"
   ]
  },
  {
   "cell_type": "code",
   "execution_count": 56,
   "metadata": {},
   "outputs": [
    {
     "name": "stdout",
     "output_type": "stream",
     "text": [
      "<class 'pandas.core.frame.DataFrame'>\n",
      "RangeIndex: 86868 entries, 0 to 86867\n",
      "Data columns (total 31 columns):\n",
      "age                                       86868 non-null int64\n",
      "area_percentage                           86868 non-null int64\n",
      "height_percentage                         86868 non-null int64\n",
      "has_superstructure_adobe_mud              86868 non-null int64\n",
      "has_superstructure_mud_mortar_stone       86868 non-null int64\n",
      "has_superstructure_stone_flag             86868 non-null int64\n",
      "has_superstructure_cement_mortar_stone    86868 non-null int64\n",
      "has_superstructure_mud_mortar_brick       86868 non-null int64\n",
      "has_superstructure_cement_mortar_brick    86868 non-null int64\n",
      "has_superstructure_timber                 86868 non-null int64\n",
      "has_superstructure_bamboo                 86868 non-null int64\n",
      "has_superstructure_rc_non_engineered      86868 non-null int64\n",
      "has_superstructure_rc_engineered          86868 non-null int64\n",
      "land_surface_condition_C1                 86868 non-null int64\n",
      "land_surface_condition_C0                 86868 non-null int64\n",
      "foundation_type_C0                        86868 non-null int64\n",
      "foundation_type_C1                        86868 non-null int64\n",
      "foundation_type_C2                        86868 non-null int64\n",
      "ground_floor_type_C0                      86868 non-null int64\n",
      "ground_floor_type_C1                      86868 non-null int64\n",
      "ground_floor_type_C2                      86868 non-null int64\n",
      "other_floor_type_C0                       86868 non-null int64\n",
      "other_floor_type_C1                       86868 non-null int64\n",
      "other_floor_type_C2                       86868 non-null int64\n",
      "position_C0                               86868 non-null int64\n",
      "position_C1                               86868 non-null int64\n",
      "position_C2                               86868 non-null int64\n",
      "plan_configuration_C0                     86868 non-null int64\n",
      "plan_configuration_C1                     86868 non-null int64\n",
      "plan_configuration_C2                     86868 non-null int64\n",
      "plan_configuration_C3                     86868 non-null int64\n",
      "dtypes: int64(31)\n",
      "memory usage: 20.5 MB\n"
     ]
    }
   ],
   "source": [
    "test_data = test_data.drop(labels=['has_superstructure_other'], axis=1)\n",
    "test_data.info()"
   ]
  },
  {
   "cell_type": "code",
   "execution_count": 58,
   "metadata": {},
   "outputs": [
    {
     "name": "stderr",
     "output_type": "stream",
     "text": [
      "/usr/local/lib/python3.5/dist-packages/sklearn/preprocessing/label.py:151: DeprecationWarning: The truth value of an empty array is ambiguous. Returning False, but in future this will result in an error. Use `array.size > 0` to check that an array is not empty.\n",
      "  if diff:\n"
     ]
    }
   ],
   "source": [
    "predictions = xgb_model_v2.predict(np.array(test_data))"
   ]
  },
  {
   "cell_type": "code",
   "execution_count": 59,
   "metadata": {},
   "outputs": [
    {
     "data": {
      "text/html": [
       "<div>\n",
       "<style scoped>\n",
       "    .dataframe tbody tr th:only-of-type {\n",
       "        vertical-align: middle;\n",
       "    }\n",
       "\n",
       "    .dataframe tbody tr th {\n",
       "        vertical-align: top;\n",
       "    }\n",
       "\n",
       "    .dataframe thead th {\n",
       "        text-align: right;\n",
       "    }\n",
       "</style>\n",
       "<table border=\"1\" class=\"dataframe\">\n",
       "  <thead>\n",
       "    <tr style=\"text-align: right;\">\n",
       "      <th></th>\n",
       "      <th>damage_grade</th>\n",
       "    </tr>\n",
       "    <tr>\n",
       "      <th>building_id</th>\n",
       "      <th></th>\n",
       "    </tr>\n",
       "  </thead>\n",
       "  <tbody>\n",
       "    <tr>\n",
       "      <th>300051</th>\n",
       "      <td>2</td>\n",
       "    </tr>\n",
       "    <tr>\n",
       "      <th>99355</th>\n",
       "      <td>2</td>\n",
       "    </tr>\n",
       "    <tr>\n",
       "      <th>890251</th>\n",
       "      <td>2</td>\n",
       "    </tr>\n",
       "    <tr>\n",
       "      <th>745817</th>\n",
       "      <td>1</td>\n",
       "    </tr>\n",
       "    <tr>\n",
       "      <th>421793</th>\n",
       "      <td>2</td>\n",
       "    </tr>\n",
       "  </tbody>\n",
       "</table>\n",
       "</div>"
      ],
      "text/plain": [
       "             damage_grade\n",
       "building_id              \n",
       "300051                  2\n",
       "99355                   2\n",
       "890251                  2\n",
       "745817                  1\n",
       "421793                  2"
      ]
     },
     "execution_count": 59,
     "metadata": {},
     "output_type": "execute_result"
    }
   ],
   "source": [
    "submit = pd.read_csv('submission_format.csv', index_col='building_id')\n",
    "submission1= pd.DataFrame(\n",
    "    data=predictions,\n",
    "    columns=submit.columns,\n",
    "    index=submit.index\n",
    ")\n",
    "submission1.head()"
   ]
  },
  {
   "cell_type": "code",
   "execution_count": 60,
   "metadata": {},
   "outputs": [
    {
     "name": "stdout",
     "output_type": "stream",
     "text": [
      "<class 'pandas.core.frame.DataFrame'>\n",
      "Int64Index: 86868 entries, 300051 to 501372\n",
      "Data columns (total 1 columns):\n",
      "damage_grade    86868 non-null int64\n",
      "dtypes: int64(1)\n",
      "memory usage: 1.3 MB\n"
     ]
    }
   ],
   "source": [
    "submission1.info()"
   ]
  },
  {
   "cell_type": "code",
   "execution_count": 61,
   "metadata": {},
   "outputs": [],
   "source": [
    "submission1.to_csv('submitXGBwithKfold.csv') ##score 0.5847 xgboostclassifier"
   ]
  },
  {
   "cell_type": "code",
   "execution_count": 62,
   "metadata": {},
   "outputs": [],
   "source": [
    "test_data_R = pd.read_csv('encoded_test_values.csv')\n",
    "test_data_R = test_data_R.loc[:,['building_id','geo_level_1_id','geo_level_2_id','age','area_percentage','height_percentage']]"
   ]
  },
  {
   "cell_type": "code",
   "execution_count": 64,
   "metadata": {},
   "outputs": [],
   "source": [
    "preds = xgb_model.predict(np.array(test_data_R))"
   ]
  },
  {
   "cell_type": "code",
   "execution_count": 65,
   "metadata": {},
   "outputs": [
    {
     "data": {
      "text/html": [
       "<div>\n",
       "<style scoped>\n",
       "    .dataframe tbody tr th:only-of-type {\n",
       "        vertical-align: middle;\n",
       "    }\n",
       "\n",
       "    .dataframe tbody tr th {\n",
       "        vertical-align: top;\n",
       "    }\n",
       "\n",
       "    .dataframe thead th {\n",
       "        text-align: right;\n",
       "    }\n",
       "</style>\n",
       "<table border=\"1\" class=\"dataframe\">\n",
       "  <thead>\n",
       "    <tr style=\"text-align: right;\">\n",
       "      <th></th>\n",
       "      <th>damage_grade</th>\n",
       "    </tr>\n",
       "    <tr>\n",
       "      <th>building_id</th>\n",
       "      <th></th>\n",
       "    </tr>\n",
       "  </thead>\n",
       "  <tbody>\n",
       "    <tr>\n",
       "      <th>300051</th>\n",
       "      <td>2.836146</td>\n",
       "    </tr>\n",
       "    <tr>\n",
       "      <th>99355</th>\n",
       "      <td>2.202962</td>\n",
       "    </tr>\n",
       "    <tr>\n",
       "      <th>890251</th>\n",
       "      <td>1.905238</td>\n",
       "    </tr>\n",
       "    <tr>\n",
       "      <th>745817</th>\n",
       "      <td>1.248947</td>\n",
       "    </tr>\n",
       "    <tr>\n",
       "      <th>421793</th>\n",
       "      <td>2.816657</td>\n",
       "    </tr>\n",
       "  </tbody>\n",
       "</table>\n",
       "</div>"
      ],
      "text/plain": [
       "             damage_grade\n",
       "building_id              \n",
       "300051           2.836146\n",
       "99355            2.202962\n",
       "890251           1.905238\n",
       "745817           1.248947\n",
       "421793           2.816657"
      ]
     },
     "execution_count": 65,
     "metadata": {},
     "output_type": "execute_result"
    }
   ],
   "source": [
    "submission2= pd.DataFrame(\n",
    "    data=preds,\n",
    "    columns=submit.columns,\n",
    "    index=submit.index\n",
    ")\n",
    "submission2.head()"
   ]
  },
  {
   "cell_type": "code",
   "execution_count": 67,
   "metadata": {},
   "outputs": [],
   "source": [
    "submission2['damage_grade'] = submission2['damage_grade'].apply(lambda x: round(x))\n",
    "submission2['damage_grade'] = submission2['damage_grade'].astype('int64')"
   ]
  },
  {
   "cell_type": "code",
   "execution_count": 68,
   "metadata": {},
   "outputs": [
    {
     "data": {
      "text/plain": [
       "2    72120\n",
       "3    13010\n",
       "1     1738\n",
       "Name: damage_grade, dtype: int64"
      ]
     },
     "execution_count": 68,
     "metadata": {},
     "output_type": "execute_result"
    }
   ],
   "source": [
    "submission2['damage_grade'].value_counts()"
   ]
  },
  {
   "cell_type": "code",
   "execution_count": 69,
   "metadata": {},
   "outputs": [
    {
     "data": {
      "text/plain": [
       "2    78126\n",
       "3     5016\n",
       "1     3726\n",
       "Name: damage_grade, dtype: int64"
      ]
     },
     "execution_count": 69,
     "metadata": {},
     "output_type": "execute_result"
    }
   ],
   "source": [
    "submission1['damage_grade'].value_counts()"
   ]
  },
  {
   "cell_type": "code",
   "execution_count": 70,
   "metadata": {},
   "outputs": [],
   "source": [
    "submission2.to_csv('submitXGBRWithKfold.csv') #submit"
   ]
  },
  {
   "cell_type": "code",
   "execution_count": null,
   "metadata": {},
   "outputs": [],
   "source": []
  }
 ],
 "metadata": {
  "kernelspec": {
   "display_name": "Python 3",
   "language": "python",
   "name": "python3"
  },
  "language_info": {
   "codemirror_mode": {
    "name": "ipython",
    "version": 3
   },
   "file_extension": ".py",
   "mimetype": "text/x-python",
   "name": "python",
   "nbconvert_exporter": "python",
   "pygments_lexer": "ipython3",
   "version": "3.5.2"
  }
 },
 "nbformat": 4,
 "nbformat_minor": 2
}
