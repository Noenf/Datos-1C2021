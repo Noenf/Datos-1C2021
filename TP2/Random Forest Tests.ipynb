{
 "cells": [
  {
   "cell_type": "code",
   "execution_count": 61,
   "id": "d1788b97",
   "metadata": {},
   "outputs": [],
   "source": [
    "%matplotlib inline\n",
    "\n",
    "from pathlib import Path\n",
    "\n",
    "import numpy as np\n",
    "import pandas as pd\n",
    "\n",
    "import matplotlib.pyplot as plt\n",
    "import seaborn as sns"
   ]
  },
  {
   "cell_type": "code",
   "execution_count": 62,
   "id": "9ada9cd6",
   "metadata": {},
   "outputs": [],
   "source": [
    "df1 = pd.read_csv('dataset_v1').set_index('building_id')\n",
    "df2 = pd.read_csv('dataset_v2').drop(columns=['Unnamed: 0']).set_index('building_id')\n",
    "df3 = pd.read_csv('dataset_v3').set_index('building_id')\n",
    "\n",
    "train_labels = pd.read_csv('train_labels.csv').set_index('building_id')"
   ]
  },
  {
   "cell_type": "code",
   "execution_count": 63,
   "id": "58bb83d3",
   "metadata": {},
   "outputs": [
    {
     "name": "stdout",
     "output_type": "stream",
     "text": [
      "<class 'pandas.core.frame.DataFrame'>\n",
      "Int64Index: 260601 entries, 802906 to 747594\n",
      "Data columns (total 31 columns):\n",
      " #   Column                                  Non-Null Count   Dtype\n",
      "---  ------                                  --------------   -----\n",
      " 0   age                                     260601 non-null  int64\n",
      " 1   area_percentage                         260601 non-null  int64\n",
      " 2   height_percentage                       260601 non-null  int64\n",
      " 3   has_superstructure_adobe_mud            260601 non-null  bool \n",
      " 4   has_superstructure_mud_mortar_stone     260601 non-null  bool \n",
      " 5   has_superstructure_stone_flag           260601 non-null  bool \n",
      " 6   has_superstructure_cement_mortar_stone  260601 non-null  bool \n",
      " 7   has_superstructure_mud_mortar_brick     260601 non-null  bool \n",
      " 8   has_superstructure_cement_mortar_brick  260601 non-null  bool \n",
      " 9   has_superstructure_timber               260601 non-null  bool \n",
      " 10  has_superstructure_bamboo               260601 non-null  bool \n",
      " 11  has_superstructure_rc_non_engineered    260601 non-null  bool \n",
      " 12  has_superstructure_rc_engineered        260601 non-null  bool \n",
      " 13  land_surface_condition_C0               260601 non-null  int64\n",
      " 14  land_surface_condition_C1               260601 non-null  int64\n",
      " 15  foundation_type_C0                      260601 non-null  int64\n",
      " 16  foundation_type_C1                      260601 non-null  int64\n",
      " 17  foundation_type_C2                      260601 non-null  int64\n",
      " 18  ground_floor_type_C0                    260601 non-null  int64\n",
      " 19  ground_floor_type_C1                    260601 non-null  int64\n",
      " 20  ground_floor_type_C2                    260601 non-null  int64\n",
      " 21  other_floor_type_C0                     260601 non-null  int64\n",
      " 22  other_floor_type_C1                     260601 non-null  int64\n",
      " 23  other_floor_type_C2                     260601 non-null  int64\n",
      " 24  position_C0                             260601 non-null  int64\n",
      " 25  position_C1                             260601 non-null  int64\n",
      " 26  position_C2                             260601 non-null  int64\n",
      " 27  plan_configuration_C0                   260601 non-null  int64\n",
      " 28  plan_configuration_C1                   260601 non-null  int64\n",
      " 29  plan_configuration_C2                   260601 non-null  int64\n",
      " 30  plan_configuration_C3                   260601 non-null  int64\n",
      "dtypes: bool(10), int64(21)\n",
      "memory usage: 56.2 MB\n"
     ]
    }
   ],
   "source": [
    "selected_features = [\n",
    "    'age',\n",
    "    'area_percentage',\n",
    "    'height_percentage',\n",
    "    'has_superstructure_adobe_mud',\n",
    "    'has_superstructure_mud_mortar_stone',\n",
    "    'has_superstructure_stone_flag',\n",
    "    'has_superstructure_cement_mortar_stone',\n",
    "    'has_superstructure_mud_mortar_brick',\n",
    "    'has_superstructure_cement_mortar_brick',\n",
    "    'has_superstructure_timber',\n",
    "    'has_superstructure_bamboo',\n",
    "    'has_superstructure_rc_non_engineered',\n",
    "    'has_superstructure_rc_engineered'\n",
    "]\n",
    "\n",
    "df2_selected_features = [\n",
    "    'land_surface_condition_C0',\n",
    "    'land_surface_condition_C1',\n",
    "    'foundation_type_C0',\n",
    "    'foundation_type_C1',\n",
    "    'foundation_type_C2',\n",
    "    'ground_floor_type_C0',\n",
    "    'ground_floor_type_C1',\n",
    "    'ground_floor_type_C2',\n",
    "    'other_floor_type_C0',\n",
    "    'other_floor_type_C1',\n",
    "    'other_floor_type_C2',\n",
    "    'position_C0',\n",
    "    'position_C1',\n",
    "    'position_C2',\n",
    "    'plan_configuration_C0',\n",
    "    'plan_configuration_C1',\n",
    "    'plan_configuration_C2',\n",
    "    'plan_configuration_C3'\n",
    "]\n",
    "df2_subset = df2.loc[: , df2_selected_features]\n",
    "train_subset = df1.join(df2_subset).loc[:, selected_features + df2_selected_features]\n",
    "train_subset.info()"
   ]
  },
  {
   "cell_type": "code",
   "execution_count": 64,
   "id": "587d2ee1",
   "metadata": {},
   "outputs": [],
   "source": [
    "# for preprocessing the data\n",
    "from sklearn.preprocessing import StandardScaler\n",
    "\n",
    "# the model\n",
    "from sklearn.ensemble import RandomForestClassifier\n",
    "\n",
    "# for combining the preprocess with model training\n",
    "from sklearn.pipeline import make_pipeline\n",
    "\n",
    "# for optimizing the hyperparameters of the pipeline\n",
    "from sklearn.model_selection import GridSearchCV"
   ]
  },
  {
   "cell_type": "code",
   "execution_count": 65,
   "id": "f63ae586",
   "metadata": {},
   "outputs": [
    {
     "data": {
      "text/plain": [
       "Pipeline(steps=[('standardscaler', StandardScaler()),\n",
       "                ('randomforestclassifier',\n",
       "                 RandomForestClassifier(random_state=2018))])"
      ]
     },
     "execution_count": 65,
     "metadata": {},
     "output_type": "execute_result"
    }
   ],
   "source": [
    "pipe_random_forest = make_pipeline(StandardScaler(), RandomForestClassifier(random_state=2018))\n",
    "\n",
    "pipe_random_forest"
   ]
  },
  {
   "cell_type": "code",
   "execution_count": 66,
   "id": "8c70c7af",
   "metadata": {},
   "outputs": [],
   "source": [
    "param_grid = {\n",
    "    'randomforestclassifier__n_estimators': [50, 100],\n",
    "    'randomforestclassifier__min_samples_leaf': [1, 5]\n",
    "}\n",
    "\n",
    "gs = GridSearchCV(pipe_random_forest, param_grid, cv=5)"
   ]
  },
  {
   "cell_type": "code",
   "execution_count": 67,
   "id": "678b538a",
   "metadata": {},
   "outputs": [
    {
     "data": {
      "text/plain": [
       "GridSearchCV(cv=5,\n",
       "             estimator=Pipeline(steps=[('standardscaler', StandardScaler()),\n",
       "                                       ('randomforestclassifier',\n",
       "                                        RandomForestClassifier(random_state=2018))]),\n",
       "             param_grid={'randomforestclassifier__min_samples_leaf': [1, 5],\n",
       "                         'randomforestclassifier__n_estimators': [50, 100]})"
      ]
     },
     "execution_count": 67,
     "metadata": {},
     "output_type": "execute_result"
    }
   ],
   "source": [
    "gs.fit(train_subset, train_labels.values.ravel())"
   ]
  },
  {
   "cell_type": "code",
   "execution_count": 68,
   "id": "027dc36b",
   "metadata": {},
   "outputs": [
    {
     "data": {
      "text/plain": [
       "{'randomforestclassifier__min_samples_leaf': 5,\n",
       " 'randomforestclassifier__n_estimators': 50}"
      ]
     },
     "execution_count": 68,
     "metadata": {},
     "output_type": "execute_result"
    }
   ],
   "source": [
    "gs.best_params_"
   ]
  },
  {
   "cell_type": "markdown",
   "id": "1b665e03",
   "metadata": {},
   "source": [
    "Vemos como es el score para este modelo con el mismo subset de datos"
   ]
  },
  {
   "cell_type": "code",
   "execution_count": 69,
   "id": "642285ff",
   "metadata": {},
   "outputs": [
    {
     "data": {
      "text/plain": [
       "0.6257804075962871"
      ]
     },
     "execution_count": 69,
     "metadata": {},
     "output_type": "execute_result"
    }
   ],
   "source": [
    "from sklearn.metrics import f1_score\n",
    "\n",
    "in_sample_predictions = gs.predict(train_subset)\n",
    "f1_score(train_labels, in_sample_predictions, average='micro')"
   ]
  },
  {
   "cell_type": "code",
   "execution_count": 70,
   "id": "be9d0281",
   "metadata": {},
   "outputs": [
    {
     "name": "stdout",
     "output_type": "stream",
     "text": [
      "<class 'pandas.core.frame.DataFrame'>\n",
      "Int64Index: 86868 entries, 300051 to 501372\n",
      "Data columns (total 31 columns):\n",
      " #   Column                                  Non-Null Count  Dtype\n",
      "---  ------                                  --------------  -----\n",
      " 0   age                                     86868 non-null  int64\n",
      " 1   area_percentage                         86868 non-null  int64\n",
      " 2   height_percentage                       86868 non-null  int64\n",
      " 3   has_superstructure_adobe_mud            86868 non-null  bool \n",
      " 4   has_superstructure_mud_mortar_stone     86868 non-null  bool \n",
      " 5   has_superstructure_stone_flag           86868 non-null  bool \n",
      " 6   has_superstructure_cement_mortar_stone  86868 non-null  bool \n",
      " 7   has_superstructure_mud_mortar_brick     86868 non-null  bool \n",
      " 8   has_superstructure_cement_mortar_brick  86868 non-null  bool \n",
      " 9   has_superstructure_timber               86868 non-null  bool \n",
      " 10  has_superstructure_bamboo               86868 non-null  bool \n",
      " 11  has_superstructure_rc_non_engineered    86868 non-null  bool \n",
      " 12  has_superstructure_rc_engineered        86868 non-null  bool \n",
      " 13  land_surface_condition_C0               86868 non-null  int64\n",
      " 14  land_surface_condition_C1               86868 non-null  int64\n",
      " 15  foundation_type_C0                      86868 non-null  int64\n",
      " 16  foundation_type_C1                      86868 non-null  int64\n",
      " 17  foundation_type_C2                      86868 non-null  int64\n",
      " 18  ground_floor_type_C0                    86868 non-null  int64\n",
      " 19  ground_floor_type_C1                    86868 non-null  int64\n",
      " 20  ground_floor_type_C2                    86868 non-null  int64\n",
      " 21  other_floor_type_C0                     86868 non-null  int64\n",
      " 22  other_floor_type_C1                     86868 non-null  int64\n",
      " 23  other_floor_type_C2                     86868 non-null  int64\n",
      " 24  position_C0                             86868 non-null  int64\n",
      " 25  position_C1                             86868 non-null  int64\n",
      " 26  position_C2                             86868 non-null  int64\n",
      " 27  plan_configuration_C0                   86868 non-null  int64\n",
      " 28  plan_configuration_C1                   86868 non-null  int64\n",
      " 29  plan_configuration_C2                   86868 non-null  int64\n",
      " 30  plan_configuration_C3                   86868 non-null  int64\n",
      "dtypes: bool(10), int64(21)\n",
      "memory usage: 15.4 MB\n"
     ]
    },
    {
     "name": "stderr",
     "output_type": "stream",
     "text": [
      "/home/fscaccheri/.local/lib/python3.6/site-packages/ipykernel_launcher.py:6: SettingWithCopyWarning: \n",
      "A value is trying to be set on a copy of a slice from a DataFrame.\n",
      "Try using .loc[row_indexer,col_indexer] = value instead\n",
      "\n",
      "See the caveats in the documentation: https://pandas.pydata.org/pandas-docs/stable/user_guide/indexing.html#returning-a-view-versus-a-copy\n",
      "  \n"
     ]
    }
   ],
   "source": [
    "test_values = pd.read_csv('encoded_test_values.csv', index_col='building_id')\n",
    "test_subset = test_values[selected_features + df2_selected_features]\n",
    "\n",
    "for feature in (selected_features + df2_selected_features):\n",
    "    if (feature.startswith('has_superstructure')):\n",
    "        test_subset[feature] = test_subset[feature].astype('bool')\n",
    "test_subset.info()"
   ]
  },
  {
   "cell_type": "code",
   "execution_count": 71,
   "id": "5f91c75d",
   "metadata": {},
   "outputs": [],
   "source": [
    "predictions = gs.predict(test_subset)"
   ]
  },
  {
   "cell_type": "code",
   "execution_count": 72,
   "id": "80e61400",
   "metadata": {},
   "outputs": [],
   "source": [
    "sub_format = pd.read_csv('submission_format.csv', index_col='building_id')"
   ]
  },
  {
   "cell_type": "code",
   "execution_count": 73,
   "id": "3c03e887",
   "metadata": {},
   "outputs": [],
   "source": [
    "submission = pd.DataFrame(data=predictions, columns=sub_format.columns, index=sub_format.index)"
   ]
  },
  {
   "cell_type": "code",
   "execution_count": 74,
   "id": "fa88b28b",
   "metadata": {},
   "outputs": [],
   "source": [
    "submission.to_csv('submission_2.csv')"
   ]
  },
  {
   "cell_type": "markdown",
   "id": "f7038fdc",
   "metadata": {},
   "source": [
    "Pruebo incluyendo geo_level_1_id"
   ]
  },
  {
   "cell_type": "code",
   "execution_count": 75,
   "id": "dabac3eb",
   "metadata": {},
   "outputs": [
    {
     "name": "stdout",
     "output_type": "stream",
     "text": [
      "<class 'pandas.core.frame.DataFrame'>\n",
      "Int64Index: 260601 entries, 802906 to 747594\n",
      "Data columns (total 32 columns):\n",
      " #   Column                                  Non-Null Count   Dtype\n",
      "---  ------                                  --------------   -----\n",
      " 0   age                                     260601 non-null  int64\n",
      " 1   area_percentage                         260601 non-null  int64\n",
      " 2   height_percentage                       260601 non-null  int64\n",
      " 3   has_superstructure_adobe_mud            260601 non-null  bool \n",
      " 4   has_superstructure_mud_mortar_stone     260601 non-null  bool \n",
      " 5   has_superstructure_stone_flag           260601 non-null  bool \n",
      " 6   has_superstructure_cement_mortar_stone  260601 non-null  bool \n",
      " 7   has_superstructure_mud_mortar_brick     260601 non-null  bool \n",
      " 8   has_superstructure_cement_mortar_brick  260601 non-null  bool \n",
      " 9   has_superstructure_timber               260601 non-null  bool \n",
      " 10  has_superstructure_bamboo               260601 non-null  bool \n",
      " 11  has_superstructure_rc_non_engineered    260601 non-null  bool \n",
      " 12  has_superstructure_rc_engineered        260601 non-null  bool \n",
      " 13  geo_level_1_id                          260601 non-null  int64\n",
      " 14  land_surface_condition_C0               260601 non-null  int64\n",
      " 15  land_surface_condition_C1               260601 non-null  int64\n",
      " 16  foundation_type_C0                      260601 non-null  int64\n",
      " 17  foundation_type_C1                      260601 non-null  int64\n",
      " 18  foundation_type_C2                      260601 non-null  int64\n",
      " 19  ground_floor_type_C0                    260601 non-null  int64\n",
      " 20  ground_floor_type_C1                    260601 non-null  int64\n",
      " 21  ground_floor_type_C2                    260601 non-null  int64\n",
      " 22  other_floor_type_C0                     260601 non-null  int64\n",
      " 23  other_floor_type_C1                     260601 non-null  int64\n",
      " 24  other_floor_type_C2                     260601 non-null  int64\n",
      " 25  position_C0                             260601 non-null  int64\n",
      " 26  position_C1                             260601 non-null  int64\n",
      " 27  position_C2                             260601 non-null  int64\n",
      " 28  plan_configuration_C0                   260601 non-null  int64\n",
      " 29  plan_configuration_C1                   260601 non-null  int64\n",
      " 30  plan_configuration_C2                   260601 non-null  int64\n",
      " 31  plan_configuration_C3                   260601 non-null  int64\n",
      "dtypes: bool(10), int64(22)\n",
      "memory usage: 58.2 MB\n"
     ]
    }
   ],
   "source": [
    "new_selected_features = selected_features + ['geo_level_1_id']\n",
    "\n",
    "train_subset = df1.join(df2_subset).loc[:, new_selected_features + df2_selected_features]\n",
    "train_subset.info()"
   ]
  },
  {
   "cell_type": "code",
   "execution_count": 76,
   "id": "8d020490",
   "metadata": {},
   "outputs": [
    {
     "data": {
      "text/plain": [
       "GridSearchCV(cv=5,\n",
       "             estimator=Pipeline(steps=[('standardscaler', StandardScaler()),\n",
       "                                       ('randomforestclassifier',\n",
       "                                        RandomForestClassifier(random_state=2018))]),\n",
       "             param_grid={'randomforestclassifier__min_samples_leaf': [1, 5],\n",
       "                         'randomforestclassifier__n_estimators': [50, 100]})"
      ]
     },
     "execution_count": 76,
     "metadata": {},
     "output_type": "execute_result"
    }
   ],
   "source": [
    "gs.fit(train_subset, train_labels.values.ravel())"
   ]
  },
  {
   "cell_type": "code",
   "execution_count": 77,
   "id": "8fffb513",
   "metadata": {},
   "outputs": [
    {
     "data": {
      "text/plain": [
       "{'randomforestclassifier__min_samples_leaf': 5,\n",
       " 'randomforestclassifier__n_estimators': 100}"
      ]
     },
     "execution_count": 77,
     "metadata": {},
     "output_type": "execute_result"
    }
   ],
   "source": [
    "gs.best_params_"
   ]
  },
  {
   "cell_type": "code",
   "execution_count": 78,
   "id": "1ac92226",
   "metadata": {},
   "outputs": [
    {
     "data": {
      "text/plain": [
       "0.7113978841217032"
      ]
     },
     "execution_count": 78,
     "metadata": {},
     "output_type": "execute_result"
    }
   ],
   "source": [
    "in_sample_preds = gs.predict(train_subset)\n",
    "in_sample_score = f1_score(train_labels, in_sample_preds, average='micro')\n",
    "in_sample_score"
   ]
  },
  {
   "cell_type": "code",
   "execution_count": 79,
   "id": "69416fce",
   "metadata": {},
   "outputs": [
    {
     "name": "stdout",
     "output_type": "stream",
     "text": [
      "<class 'pandas.core.frame.DataFrame'>\n",
      "Int64Index: 86868 entries, 300051 to 501372\n",
      "Data columns (total 32 columns):\n",
      " #   Column                                  Non-Null Count  Dtype\n",
      "---  ------                                  --------------  -----\n",
      " 0   age                                     86868 non-null  int64\n",
      " 1   area_percentage                         86868 non-null  int64\n",
      " 2   height_percentage                       86868 non-null  int64\n",
      " 3   has_superstructure_adobe_mud            86868 non-null  bool \n",
      " 4   has_superstructure_mud_mortar_stone     86868 non-null  bool \n",
      " 5   has_superstructure_stone_flag           86868 non-null  bool \n",
      " 6   has_superstructure_cement_mortar_stone  86868 non-null  bool \n",
      " 7   has_superstructure_mud_mortar_brick     86868 non-null  bool \n",
      " 8   has_superstructure_cement_mortar_brick  86868 non-null  bool \n",
      " 9   has_superstructure_timber               86868 non-null  bool \n",
      " 10  has_superstructure_bamboo               86868 non-null  bool \n",
      " 11  has_superstructure_rc_non_engineered    86868 non-null  bool \n",
      " 12  has_superstructure_rc_engineered        86868 non-null  bool \n",
      " 13  geo_level_1_id                          86868 non-null  int64\n",
      " 14  land_surface_condition_C0               86868 non-null  int64\n",
      " 15  land_surface_condition_C1               86868 non-null  int64\n",
      " 16  foundation_type_C0                      86868 non-null  int64\n",
      " 17  foundation_type_C1                      86868 non-null  int64\n",
      " 18  foundation_type_C2                      86868 non-null  int64\n",
      " 19  ground_floor_type_C0                    86868 non-null  int64\n",
      " 20  ground_floor_type_C1                    86868 non-null  int64\n",
      " 21  ground_floor_type_C2                    86868 non-null  int64\n",
      " 22  other_floor_type_C0                     86868 non-null  int64\n",
      " 23  other_floor_type_C1                     86868 non-null  int64\n",
      " 24  other_floor_type_C2                     86868 non-null  int64\n",
      " 25  position_C0                             86868 non-null  int64\n",
      " 26  position_C1                             86868 non-null  int64\n",
      " 27  position_C2                             86868 non-null  int64\n",
      " 28  plan_configuration_C0                   86868 non-null  int64\n",
      " 29  plan_configuration_C1                   86868 non-null  int64\n",
      " 30  plan_configuration_C2                   86868 non-null  int64\n",
      " 31  plan_configuration_C3                   86868 non-null  int64\n",
      "dtypes: bool(10), int64(22)\n",
      "memory usage: 16.1 MB\n"
     ]
    },
    {
     "name": "stderr",
     "output_type": "stream",
     "text": [
      "/home/fscaccheri/.local/lib/python3.6/site-packages/ipykernel_launcher.py:5: SettingWithCopyWarning: \n",
      "A value is trying to be set on a copy of a slice from a DataFrame.\n",
      "Try using .loc[row_indexer,col_indexer] = value instead\n",
      "\n",
      "See the caveats in the documentation: https://pandas.pydata.org/pandas-docs/stable/user_guide/indexing.html#returning-a-view-versus-a-copy\n",
      "  \"\"\"\n"
     ]
    }
   ],
   "source": [
    "test_subset = test_values[new_selected_features + df2_selected_features]\n",
    "\n",
    "for feature in (selected_features + df2_selected_features):\n",
    "    if (feature.startswith('has_superstructure')):\n",
    "        test_subset[feature] = test_subset[feature].astype('bool')\n",
    "test_subset.info()"
   ]
  },
  {
   "cell_type": "code",
   "execution_count": 80,
   "id": "38a8fb75",
   "metadata": {},
   "outputs": [],
   "source": [
    "prediction = gs.predict(test_subset)"
   ]
  },
  {
   "cell_type": "code",
   "execution_count": 81,
   "id": "88301ea7",
   "metadata": {},
   "outputs": [],
   "source": [
    "submission = pd.DataFrame(data=prediction, columns=sub_format.columns, index=sub_format.index)\n",
    "submission.to_csv('submission_4.csv')"
   ]
  },
  {
   "cell_type": "code",
   "execution_count": null,
   "id": "6b5cc3ed",
   "metadata": {},
   "outputs": [],
   "source": []
  }
 ],
 "metadata": {
  "kernelspec": {
   "display_name": "Python 3",
   "language": "python",
   "name": "python3"
  },
  "language_info": {
   "codemirror_mode": {
    "name": "ipython",
    "version": 3
   },
   "file_extension": ".py",
   "mimetype": "text/x-python",
   "name": "python",
   "nbconvert_exporter": "python",
   "pygments_lexer": "ipython3",
   "version": "3.6.9"
  }
 },
 "nbformat": 4,
 "nbformat_minor": 5
}
