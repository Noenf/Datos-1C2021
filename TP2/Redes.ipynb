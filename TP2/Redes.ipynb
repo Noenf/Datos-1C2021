{
 "cells": [
  {
   "cell_type": "code",
   "execution_count": 1,
   "metadata": {},
   "outputs": [],
   "source": [
    "import pandas as pd\n",
    "import numpy as np\n",
    "import matplotlib.pyplot as plt\n",
    "from matplotlib.legend import Legend\n",
    "import matplotlib.patches as mpatches\n",
    "import seaborn as sns\n",
    "#from statsmodels.graphics.mosaicplot import mosaic\n",
    "import io\n",
    "import requests\n",
    "\n",
    "%matplotlib inline\n",
    "\n",
    "\n",
    "#import xgboost as xgb\n",
    "#from xgboost import XGBClassifier\n",
    "from sklearn.ensemble import RandomForestRegressor\n",
    "from sklearn.metrics import mean_squared_error\n",
    "from sklearn.metrics import accuracy_score\n",
    "import matplotlib.pyplot as plt\n",
    "from sklearn import tree\n",
    "\n",
    "from sklearn.metrics import log_loss"
   ]
  },
  {
   "cell_type": "code",
   "execution_count": 2,
   "metadata": {},
   "outputs": [],
   "source": [
    "entrenamiento_df = pd.read_csv('dataset_v3')"
   ]
  },
  {
   "cell_type": "code",
   "execution_count": 3,
   "metadata": {},
   "outputs": [],
   "source": [
    "test_df = pd.read_csv('encoded_test_values.csv')"
   ]
  },
  {
   "cell_type": "code",
   "execution_count": 4,
   "metadata": {},
   "outputs": [
    {
     "data": {
      "text/html": [
       "<div>\n",
       "<style scoped>\n",
       "    .dataframe tbody tr th:only-of-type {\n",
       "        vertical-align: middle;\n",
       "    }\n",
       "\n",
       "    .dataframe tbody tr th {\n",
       "        vertical-align: top;\n",
       "    }\n",
       "\n",
       "    .dataframe thead th {\n",
       "        text-align: right;\n",
       "    }\n",
       "</style>\n",
       "<table border=\"1\" class=\"dataframe\">\n",
       "  <thead>\n",
       "    <tr style=\"text-align: right;\">\n",
       "      <th></th>\n",
       "      <th>building_id</th>\n",
       "      <th>geo_level_1_id</th>\n",
       "      <th>geo_level_2_id</th>\n",
       "      <th>geo_level_3_id</th>\n",
       "      <th>count_floors_pre_eq</th>\n",
       "      <th>age</th>\n",
       "      <th>count_families</th>\n",
       "      <th>damage_grade</th>\n",
       "      <th>roof_type_C1</th>\n",
       "      <th>roof_type_C0</th>\n",
       "      <th>...</th>\n",
       "      <th>has_superstructure_cement_mortar_stone_mean</th>\n",
       "      <th>has_superstructure_mud_mortar_brick_mean</th>\n",
       "      <th>has_superstructure_cement_mortar_brick_mean</th>\n",
       "      <th>has_superstructure_timber_mean</th>\n",
       "      <th>has_superstructure_bamboo_mean</th>\n",
       "      <th>has_superstructure_rc_non_engineered_mean</th>\n",
       "      <th>has_superstructure_rc_engineered_mean</th>\n",
       "      <th>has_superstructure_other_mean</th>\n",
       "      <th>area_percentage_norm</th>\n",
       "      <th>height_percentage_norm</th>\n",
       "    </tr>\n",
       "  </thead>\n",
       "  <tbody>\n",
       "    <tr>\n",
       "      <th>0</th>\n",
       "      <td>802906</td>\n",
       "      <td>6</td>\n",
       "      <td>487</td>\n",
       "      <td>12198</td>\n",
       "      <td>2</td>\n",
       "      <td>30</td>\n",
       "      <td>1</td>\n",
       "      <td>3</td>\n",
       "      <td>0</td>\n",
       "      <td>1</td>\n",
       "      <td>...</td>\n",
       "      <td>0.981765</td>\n",
       "      <td>0.931846</td>\n",
       "      <td>0.924732</td>\n",
       "      <td>0.745012</td>\n",
       "      <td>0.914989</td>\n",
       "      <td>0.95741</td>\n",
       "      <td>0.984141</td>\n",
       "      <td>0.985015</td>\n",
       "      <td>0.050505</td>\n",
       "      <td>0.100000</td>\n",
       "    </tr>\n",
       "    <tr>\n",
       "      <th>1</th>\n",
       "      <td>28830</td>\n",
       "      <td>8</td>\n",
       "      <td>900</td>\n",
       "      <td>2812</td>\n",
       "      <td>2</td>\n",
       "      <td>10</td>\n",
       "      <td>1</td>\n",
       "      <td>2</td>\n",
       "      <td>0</td>\n",
       "      <td>1</td>\n",
       "      <td>...</td>\n",
       "      <td>0.981765</td>\n",
       "      <td>0.931846</td>\n",
       "      <td>0.924732</td>\n",
       "      <td>0.745012</td>\n",
       "      <td>0.914989</td>\n",
       "      <td>0.95741</td>\n",
       "      <td>0.984141</td>\n",
       "      <td>0.985015</td>\n",
       "      <td>0.070707</td>\n",
       "      <td>0.166667</td>\n",
       "    </tr>\n",
       "    <tr>\n",
       "      <th>2</th>\n",
       "      <td>94947</td>\n",
       "      <td>21</td>\n",
       "      <td>363</td>\n",
       "      <td>8973</td>\n",
       "      <td>2</td>\n",
       "      <td>10</td>\n",
       "      <td>1</td>\n",
       "      <td>3</td>\n",
       "      <td>0</td>\n",
       "      <td>1</td>\n",
       "      <td>...</td>\n",
       "      <td>0.981765</td>\n",
       "      <td>0.931846</td>\n",
       "      <td>0.924732</td>\n",
       "      <td>0.745012</td>\n",
       "      <td>0.914989</td>\n",
       "      <td>0.95741</td>\n",
       "      <td>0.984141</td>\n",
       "      <td>0.985015</td>\n",
       "      <td>0.040404</td>\n",
       "      <td>0.100000</td>\n",
       "    </tr>\n",
       "    <tr>\n",
       "      <th>3</th>\n",
       "      <td>590882</td>\n",
       "      <td>22</td>\n",
       "      <td>418</td>\n",
       "      <td>10694</td>\n",
       "      <td>2</td>\n",
       "      <td>10</td>\n",
       "      <td>1</td>\n",
       "      <td>2</td>\n",
       "      <td>0</td>\n",
       "      <td>1</td>\n",
       "      <td>...</td>\n",
       "      <td>0.981765</td>\n",
       "      <td>0.931846</td>\n",
       "      <td>0.924732</td>\n",
       "      <td>0.254988</td>\n",
       "      <td>0.085011</td>\n",
       "      <td>0.95741</td>\n",
       "      <td>0.984141</td>\n",
       "      <td>0.985015</td>\n",
       "      <td>0.050505</td>\n",
       "      <td>0.100000</td>\n",
       "    </tr>\n",
       "    <tr>\n",
       "      <th>4</th>\n",
       "      <td>201944</td>\n",
       "      <td>11</td>\n",
       "      <td>131</td>\n",
       "      <td>1488</td>\n",
       "      <td>3</td>\n",
       "      <td>30</td>\n",
       "      <td>1</td>\n",
       "      <td>3</td>\n",
       "      <td>0</td>\n",
       "      <td>1</td>\n",
       "      <td>...</td>\n",
       "      <td>0.981765</td>\n",
       "      <td>0.931846</td>\n",
       "      <td>0.924732</td>\n",
       "      <td>0.745012</td>\n",
       "      <td>0.914989</td>\n",
       "      <td>0.95741</td>\n",
       "      <td>0.984141</td>\n",
       "      <td>0.985015</td>\n",
       "      <td>0.070707</td>\n",
       "      <td>0.233333</td>\n",
       "    </tr>\n",
       "  </tbody>\n",
       "</table>\n",
       "<p>5 rows × 44 columns</p>\n",
       "</div>"
      ],
      "text/plain": [
       "   building_id  geo_level_1_id  geo_level_2_id  geo_level_3_id  \\\n",
       "0       802906               6             487           12198   \n",
       "1        28830               8             900            2812   \n",
       "2        94947              21             363            8973   \n",
       "3       590882              22             418           10694   \n",
       "4       201944              11             131            1488   \n",
       "\n",
       "   count_floors_pre_eq  age  count_families  damage_grade  roof_type_C1  \\\n",
       "0                    2   30               1             3             0   \n",
       "1                    2   10               1             2             0   \n",
       "2                    2   10               1             3             0   \n",
       "3                    2   10               1             2             0   \n",
       "4                    3   30               1             3             0   \n",
       "\n",
       "   roof_type_C0  ...  has_superstructure_cement_mortar_stone_mean  \\\n",
       "0             1  ...                                     0.981765   \n",
       "1             1  ...                                     0.981765   \n",
       "2             1  ...                                     0.981765   \n",
       "3             1  ...                                     0.981765   \n",
       "4             1  ...                                     0.981765   \n",
       "\n",
       "   has_superstructure_mud_mortar_brick_mean  \\\n",
       "0                                  0.931846   \n",
       "1                                  0.931846   \n",
       "2                                  0.931846   \n",
       "3                                  0.931846   \n",
       "4                                  0.931846   \n",
       "\n",
       "   has_superstructure_cement_mortar_brick_mean  \\\n",
       "0                                     0.924732   \n",
       "1                                     0.924732   \n",
       "2                                     0.924732   \n",
       "3                                     0.924732   \n",
       "4                                     0.924732   \n",
       "\n",
       "   has_superstructure_timber_mean  has_superstructure_bamboo_mean  \\\n",
       "0                        0.745012                        0.914989   \n",
       "1                        0.745012                        0.914989   \n",
       "2                        0.745012                        0.914989   \n",
       "3                        0.254988                        0.085011   \n",
       "4                        0.745012                        0.914989   \n",
       "\n",
       "   has_superstructure_rc_non_engineered_mean  \\\n",
       "0                                    0.95741   \n",
       "1                                    0.95741   \n",
       "2                                    0.95741   \n",
       "3                                    0.95741   \n",
       "4                                    0.95741   \n",
       "\n",
       "   has_superstructure_rc_engineered_mean  has_superstructure_other_mean  \\\n",
       "0                               0.984141                       0.985015   \n",
       "1                               0.984141                       0.985015   \n",
       "2                               0.984141                       0.985015   \n",
       "3                               0.984141                       0.985015   \n",
       "4                               0.984141                       0.985015   \n",
       "\n",
       "   area_percentage_norm  height_percentage_norm  \n",
       "0              0.050505                0.100000  \n",
       "1              0.070707                0.166667  \n",
       "2              0.040404                0.100000  \n",
       "3              0.050505                0.100000  \n",
       "4              0.070707                0.233333  \n",
       "\n",
       "[5 rows x 44 columns]"
      ]
     },
     "execution_count": 4,
     "metadata": {},
     "output_type": "execute_result"
    }
   ],
   "source": [
    "entrenamiento_df.head()"
   ]
  },
  {
   "cell_type": "code",
   "execution_count": 5,
   "metadata": {},
   "outputs": [
    {
     "data": {
      "text/html": [
       "<div>\n",
       "<style scoped>\n",
       "    .dataframe tbody tr th:only-of-type {\n",
       "        vertical-align: middle;\n",
       "    }\n",
       "\n",
       "    .dataframe tbody tr th {\n",
       "        vertical-align: top;\n",
       "    }\n",
       "\n",
       "    .dataframe thead th {\n",
       "        text-align: right;\n",
       "    }\n",
       "</style>\n",
       "<table border=\"1\" class=\"dataframe\">\n",
       "  <thead>\n",
       "    <tr style=\"text-align: right;\">\n",
       "      <th></th>\n",
       "      <th>building_id</th>\n",
       "      <th>geo_level_1_id</th>\n",
       "      <th>geo_level_2_id</th>\n",
       "      <th>geo_level_3_id</th>\n",
       "      <th>count_floors_pre_eq</th>\n",
       "      <th>age</th>\n",
       "      <th>area_percentage</th>\n",
       "      <th>height_percentage</th>\n",
       "      <th>land_surface_condition</th>\n",
       "      <th>foundation_type</th>\n",
       "      <th>...</th>\n",
       "      <th>position_C0</th>\n",
       "      <th>position_C1</th>\n",
       "      <th>position_C2</th>\n",
       "      <th>plan_configuration_C0</th>\n",
       "      <th>plan_configuration_C1</th>\n",
       "      <th>plan_configuration_C2</th>\n",
       "      <th>plan_configuration_C3</th>\n",
       "      <th>legal_ownership_status_C0</th>\n",
       "      <th>legal_ownership_status_C1</th>\n",
       "      <th>legal_ownership_status_C2</th>\n",
       "    </tr>\n",
       "  </thead>\n",
       "  <tbody>\n",
       "    <tr>\n",
       "      <th>0</th>\n",
       "      <td>300051</td>\n",
       "      <td>17</td>\n",
       "      <td>596</td>\n",
       "      <td>11307</td>\n",
       "      <td>3</td>\n",
       "      <td>20</td>\n",
       "      <td>7</td>\n",
       "      <td>6</td>\n",
       "      <td>t</td>\n",
       "      <td>r</td>\n",
       "      <td>...</td>\n",
       "      <td>0</td>\n",
       "      <td>1</td>\n",
       "      <td>0</td>\n",
       "      <td>1</td>\n",
       "      <td>0</td>\n",
       "      <td>0</td>\n",
       "      <td>0</td>\n",
       "      <td>1</td>\n",
       "      <td>0</td>\n",
       "      <td>0</td>\n",
       "    </tr>\n",
       "    <tr>\n",
       "      <th>1</th>\n",
       "      <td>99355</td>\n",
       "      <td>6</td>\n",
       "      <td>141</td>\n",
       "      <td>11987</td>\n",
       "      <td>2</td>\n",
       "      <td>25</td>\n",
       "      <td>13</td>\n",
       "      <td>5</td>\n",
       "      <td>t</td>\n",
       "      <td>r</td>\n",
       "      <td>...</td>\n",
       "      <td>0</td>\n",
       "      <td>1</td>\n",
       "      <td>0</td>\n",
       "      <td>1</td>\n",
       "      <td>0</td>\n",
       "      <td>0</td>\n",
       "      <td>0</td>\n",
       "      <td>1</td>\n",
       "      <td>0</td>\n",
       "      <td>0</td>\n",
       "    </tr>\n",
       "    <tr>\n",
       "      <th>2</th>\n",
       "      <td>890251</td>\n",
       "      <td>22</td>\n",
       "      <td>19</td>\n",
       "      <td>10044</td>\n",
       "      <td>2</td>\n",
       "      <td>5</td>\n",
       "      <td>4</td>\n",
       "      <td>5</td>\n",
       "      <td>t</td>\n",
       "      <td>r</td>\n",
       "      <td>...</td>\n",
       "      <td>0</td>\n",
       "      <td>1</td>\n",
       "      <td>0</td>\n",
       "      <td>1</td>\n",
       "      <td>0</td>\n",
       "      <td>0</td>\n",
       "      <td>0</td>\n",
       "      <td>1</td>\n",
       "      <td>0</td>\n",
       "      <td>0</td>\n",
       "    </tr>\n",
       "    <tr>\n",
       "      <th>3</th>\n",
       "      <td>745817</td>\n",
       "      <td>26</td>\n",
       "      <td>39</td>\n",
       "      <td>633</td>\n",
       "      <td>1</td>\n",
       "      <td>0</td>\n",
       "      <td>19</td>\n",
       "      <td>3</td>\n",
       "      <td>t</td>\n",
       "      <td>r</td>\n",
       "      <td>...</td>\n",
       "      <td>1</td>\n",
       "      <td>0</td>\n",
       "      <td>0</td>\n",
       "      <td>1</td>\n",
       "      <td>0</td>\n",
       "      <td>0</td>\n",
       "      <td>0</td>\n",
       "      <td>1</td>\n",
       "      <td>0</td>\n",
       "      <td>0</td>\n",
       "    </tr>\n",
       "    <tr>\n",
       "      <th>4</th>\n",
       "      <td>421793</td>\n",
       "      <td>17</td>\n",
       "      <td>289</td>\n",
       "      <td>7970</td>\n",
       "      <td>3</td>\n",
       "      <td>15</td>\n",
       "      <td>8</td>\n",
       "      <td>7</td>\n",
       "      <td>t</td>\n",
       "      <td>r</td>\n",
       "      <td>...</td>\n",
       "      <td>1</td>\n",
       "      <td>0</td>\n",
       "      <td>0</td>\n",
       "      <td>1</td>\n",
       "      <td>0</td>\n",
       "      <td>0</td>\n",
       "      <td>0</td>\n",
       "      <td>1</td>\n",
       "      <td>0</td>\n",
       "      <td>0</td>\n",
       "    </tr>\n",
       "  </tbody>\n",
       "</table>\n",
       "<p>5 rows × 62 columns</p>\n",
       "</div>"
      ],
      "text/plain": [
       "   building_id  geo_level_1_id  geo_level_2_id  geo_level_3_id  \\\n",
       "0       300051              17             596           11307   \n",
       "1        99355               6             141           11987   \n",
       "2       890251              22              19           10044   \n",
       "3       745817              26              39             633   \n",
       "4       421793              17             289            7970   \n",
       "\n",
       "   count_floors_pre_eq  age  area_percentage  height_percentage  \\\n",
       "0                    3   20                7                  6   \n",
       "1                    2   25               13                  5   \n",
       "2                    2    5                4                  5   \n",
       "3                    1    0               19                  3   \n",
       "4                    3   15                8                  7   \n",
       "\n",
       "  land_surface_condition foundation_type  ... position_C0 position_C1  \\\n",
       "0                      t               r  ...           0           1   \n",
       "1                      t               r  ...           0           1   \n",
       "2                      t               r  ...           0           1   \n",
       "3                      t               r  ...           1           0   \n",
       "4                      t               r  ...           1           0   \n",
       "\n",
       "  position_C2 plan_configuration_C0 plan_configuration_C1  \\\n",
       "0           0                     1                     0   \n",
       "1           0                     1                     0   \n",
       "2           0                     1                     0   \n",
       "3           0                     1                     0   \n",
       "4           0                     1                     0   \n",
       "\n",
       "   plan_configuration_C2  plan_configuration_C3  legal_ownership_status_C0  \\\n",
       "0                      0                      0                          1   \n",
       "1                      0                      0                          1   \n",
       "2                      0                      0                          1   \n",
       "3                      0                      0                          1   \n",
       "4                      0                      0                          1   \n",
       "\n",
       "   legal_ownership_status_C1  legal_ownership_status_C2  \n",
       "0                          0                          0  \n",
       "1                          0                          0  \n",
       "2                          0                          0  \n",
       "3                          0                          0  \n",
       "4                          0                          0  \n",
       "\n",
       "[5 rows x 62 columns]"
      ]
     },
     "execution_count": 5,
     "metadata": {},
     "output_type": "execute_result"
    }
   ],
   "source": [
    "test_df.head()"
   ]
  },
  {
   "cell_type": "markdown",
   "metadata": {},
   "source": [
    "##### Separo el dataset \"entrenamiento_df\" en las variables atributo y la variable objetivo"
   ]
  },
  {
   "cell_type": "code",
   "execution_count": 6,
   "metadata": {},
   "outputs": [],
   "source": [
    "x=entrenamiento_df.drop(['damage_grade'], axis=1)"
   ]
  },
  {
   "cell_type": "code",
   "execution_count": 7,
   "metadata": {},
   "outputs": [],
   "source": [
    "y=entrenamiento_df['damage_grade']"
   ]
  },
  {
   "cell_type": "markdown",
   "metadata": {},
   "source": [
    "##### Genero una subdivision del dataset de entrenamiento para tener una etapa de validacion\n",
    "##### Entreno el algoritmo con X_train e y_train, para luego intentar predecir los valores objetivo para X_test"
   ]
  },
  {
   "cell_type": "code",
   "execution_count": 8,
   "metadata": {},
   "outputs": [],
   "source": [
    "from sklearn.model_selection import train_test_split\n",
    "\n",
    "X_train, X_test, y_train, y_test = \\\n",
    "    train_test_split(x, y, test_size=0.2, random_state=123)"
   ]
  },
  {
   "cell_type": "code",
   "execution_count": 9,
   "metadata": {},
   "outputs": [],
   "source": [
    "from sklearn.linear_model import LogisticRegression\n",
    "clfLR = LogisticRegression(random_state=0)"
   ]
  },
  {
   "cell_type": "code",
   "execution_count": 10,
   "metadata": {},
   "outputs": [
    {
     "data": {
      "text/plain": [
       "LogisticRegression(random_state=0)"
      ]
     },
     "execution_count": 10,
     "metadata": {},
     "output_type": "execute_result"
    }
   ],
   "source": [
    "clfLR.fit(X_train, y_train)"
   ]
  },
  {
   "cell_type": "code",
   "execution_count": 11,
   "metadata": {},
   "outputs": [],
   "source": [
    "y_validation =clfLR.predict(X_test)"
   ]
  },
  {
   "cell_type": "code",
   "execution_count": 12,
   "metadata": {},
   "outputs": [
    {
     "data": {
      "text/plain": [
       "0.5668924233993976"
      ]
     },
     "execution_count": 12,
     "metadata": {},
     "output_type": "execute_result"
    }
   ],
   "source": [
    "accuracy_score(y_test, y_validation)"
   ]
  },
  {
   "cell_type": "markdown",
   "metadata": {},
   "source": [
    "##### Ahora la posta"
   ]
  },
  {
   "cell_type": "code",
   "execution_count": 13,
   "metadata": {
    "scrolled": true
   },
   "outputs": [
    {
     "data": {
      "text/plain": [
       "LogisticRegression(random_state=0)"
      ]
     },
     "execution_count": 13,
     "metadata": {},
     "output_type": "execute_result"
    }
   ],
   "source": [
    "clfLR.fit(x,y)"
   ]
  },
  {
   "cell_type": "code",
   "execution_count": 14,
   "metadata": {},
   "outputs": [],
   "source": [
    "test_df = test_df.drop(labels=['land_surface_condition','foundation_type','roof_type',\\\n",
    "'ground_floor_type','other_floor_type','position', 'plan_configuration','legal_ownership_status',\\\n",
    " 'has_secondary_use','has_secondary_use_agriculture','has_secondary_use_hotel','has_secondary_use_rental',\\\n",
    "'has_secondary_use_institution','has_secondary_use_school','has_secondary_use_industry','has_secondary_use_health_post',\\\n",
    "'has_secondary_use_gov_office','has_secondary_use_use_police','has_secondary_use_other'],axis=1)"
   ]
  },
  {
   "cell_type": "code",
   "execution_count": 15,
   "metadata": {
    "scrolled": true
   },
   "outputs": [],
   "source": [
    "y_prediction_1=clfLR.predict(test_df)"
   ]
  },
  {
   "cell_type": "code",
   "execution_count": 16,
   "metadata": {},
   "outputs": [],
   "source": [
    "#Creo un nuevo df con los id de los edificios del df de prueba\n",
    "prediccion1=test_df['building_id'].to_frame()\n",
    "prediccion1.insert(1,'damage_grade', y_prediction_1, True)\n",
    "prediccion1.to_csv(r'./logRegression1.csv',index=False , header=True)"
   ]
  },
  {
   "cell_type": "markdown",
   "metadata": {},
   "source": [
    "## Ahora vamos a hacer una prediccion con datasets basados en One Hot Encoding"
   ]
  },
  {
   "cell_type": "code",
   "execution_count": 17,
   "metadata": {},
   "outputs": [],
   "source": [
    "test_oneHot = pd.read_csv('test_oneHotEncoding.csv')\n",
    "train_oneHot = pd.read_csv('train_oneHotEncoding.csv')\n",
    "train_labels = pd.read_csv('train_labels.csv')\n",
    "train_labels = train_labels['damage_grade']"
   ]
  },
  {
   "cell_type": "code",
   "execution_count": 18,
   "metadata": {},
   "outputs": [],
   "source": [
    "clfLR.fit(train_oneHot, train_labels)\n",
    "predict_oneHot =clfLR.predict(test_oneHot)"
   ]
  },
  {
   "cell_type": "code",
   "execution_count": 19,
   "metadata": {},
   "outputs": [],
   "source": [
    "#Creo un nuevo df con los id de los edificios del df de prueba\n",
    "predict_oneHot_logReg=test_oneHot['building_id'].to_frame()\n",
    "predict_oneHot_logReg.insert(1,'damage_grade', predict_oneHot, True)\n",
    "predict_oneHot_logReg.to_csv(r'./oneHot_logRegression.csv',index=False , header=True)"
   ]
  },
  {
   "cell_type": "code",
   "execution_count": null,
   "metadata": {},
   "outputs": [],
   "source": []
  },
  {
   "cell_type": "code",
   "execution_count": 20,
   "metadata": {},
   "outputs": [],
   "source": [
    "from sklearn.neural_network import MLPClassifier"
   ]
  },
  {
   "cell_type": "code",
   "execution_count": 21,
   "metadata": {},
   "outputs": [],
   "source": [
    "\n",
    "nro_neuronas=100#150\n",
    "capas=3#3\n",
    "#clfLR = MLPClassifier(hidden_layer_sizes=(nro_neuronas,capas50),random_state=1)#solver='lbfgs', alpha=1e-5,hidden_layer_sizes=(5, 2), random_state=1)\n",
    "clfLR = MLPClassifier(hidden_layer_sizes=(50,50,50 ),random_state=1)#solver='lbfgs', alpha=1e-5,hidden_layer_sizes=(5, 2), random_state=1)"
   ]
  },
  {
   "cell_type": "code",
   "execution_count": 22,
   "metadata": {},
   "outputs": [],
   "source": [
    "clfLR.fit(train_oneHot, train_labels)\n",
    "predict_oneHot =clfLR.predict(test_oneHot)"
   ]
  },
  {
   "cell_type": "code",
   "execution_count": 23,
   "metadata": {},
   "outputs": [],
   "source": [
    "#Creo un nuevo df con los id de los edificios del df de prueba\n",
    "predict_oneHot_MLP=test_oneHot['building_id'].to_frame()\n",
    "predict_oneHot_MLP.insert(1,'damage_grade', predict_oneHot, True)\n",
    "predict_oneHot_MLP.to_csv(r'./oneHot_multiLayerPerceptron.csv',index=False , header=True)"
   ]
  }
 ],
 "metadata": {
  "kernelspec": {
   "display_name": "Python 3",
   "language": "python",
   "name": "python3"
  },
  "language_info": {
   "codemirror_mode": {
    "name": "ipython",
    "version": 3
   },
   "file_extension": ".py",
   "mimetype": "text/x-python",
   "name": "python",
   "nbconvert_exporter": "python",
   "pygments_lexer": "ipython3",
   "version": "3.7.2"
  }
 },
 "nbformat": 4,
 "nbformat_minor": 4
}
