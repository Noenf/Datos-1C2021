{
 "cells": [
  {
   "cell_type": "code",
   "execution_count": 23,
   "id": "ad37843f",
   "metadata": {},
   "outputs": [],
   "source": [
    "import pandas as pd\n",
    "import numpy as np\n",
    "import matplotlib.pyplot as plt\n",
    "from matplotlib.legend import Legend\n",
    "import matplotlib.patches as mpatches\n",
    "import seaborn as sns\n",
    "#from statsmodels.graphics.mosaicplot import mosaic\n",
    "import io\n",
    "import requests\n",
    "\n",
    "%matplotlib inline\n",
    "\n",
    "\n",
    "import xgboost as xgb\n",
    "from xgboost import XGBClassifier\n",
    "from sklearn.ensemble import RandomForestRegressor\n",
    "from sklearn.metrics import mean_squared_error\n",
    "from sklearn.metrics import accuracy_score\n",
    "import matplotlib.pyplot as plt\n",
    "from sklearn import tree\n",
    "from sklearn.metrics import log_loss\n",
    "\n",
    "pd.set_option('display.max_columns', None)"
   ]
  },
  {
   "cell_type": "code",
   "execution_count": 57,
   "id": "321732bd",
   "metadata": {},
   "outputs": [],
   "source": [
    "df4 = pd.read_csv('dataset_v4.csv').set_index('building_id')\n",
    "train_labels = pd.read_csv('train_labels.csv').set_index('building_id')"
   ]
  },
  {
   "cell_type": "code",
   "execution_count": 62,
   "id": "feb3c058",
   "metadata": {},
   "outputs": [
    {
     "data": {
      "text/html": [
       "<div>\n",
       "<style scoped>\n",
       "    .dataframe tbody tr th:only-of-type {\n",
       "        vertical-align: middle;\n",
       "    }\n",
       "\n",
       "    .dataframe tbody tr th {\n",
       "        vertical-align: top;\n",
       "    }\n",
       "\n",
       "    .dataframe thead th {\n",
       "        text-align: right;\n",
       "    }\n",
       "</style>\n",
       "<table border=\"1\" class=\"dataframe\">\n",
       "  <thead>\n",
       "    <tr style=\"text-align: right;\">\n",
       "      <th></th>\n",
       "      <th>damage_grade</th>\n",
       "    </tr>\n",
       "    <tr>\n",
       "      <th>building_id</th>\n",
       "      <th></th>\n",
       "    </tr>\n",
       "  </thead>\n",
       "  <tbody>\n",
       "    <tr>\n",
       "      <th>802906</th>\n",
       "      <td>3</td>\n",
       "    </tr>\n",
       "    <tr>\n",
       "      <th>28830</th>\n",
       "      <td>2</td>\n",
       "    </tr>\n",
       "    <tr>\n",
       "      <th>94947</th>\n",
       "      <td>3</td>\n",
       "    </tr>\n",
       "    <tr>\n",
       "      <th>590882</th>\n",
       "      <td>2</td>\n",
       "    </tr>\n",
       "    <tr>\n",
       "      <th>201944</th>\n",
       "      <td>3</td>\n",
       "    </tr>\n",
       "  </tbody>\n",
       "</table>\n",
       "</div>"
      ],
      "text/plain": [
       "             damage_grade\n",
       "building_id              \n",
       "802906                  3\n",
       "28830                   2\n",
       "94947                   3\n",
       "590882                  2\n",
       "201944                  3"
      ]
     },
     "execution_count": 62,
     "metadata": {},
     "output_type": "execute_result"
    }
   ],
   "source": [
    "# df4 es mi set de entrenamiento\n",
    "train_labels.head()"
   ]
  },
  {
   "cell_type": "code",
   "execution_count": 7,
   "id": "220cbe20",
   "metadata": {},
   "outputs": [],
   "source": [
    "from sklearn.model_selection import train_test_split\n",
    "from catboost import Pool, CatBoostClassifier"
   ]
  },
  {
   "cell_type": "code",
   "execution_count": 63,
   "id": "31b1ea6f",
   "metadata": {},
   "outputs": [],
   "source": [
    "x, y = df4, train_labels"
   ]
  },
  {
   "cell_type": "code",
   "execution_count": 68,
   "id": "60ce3459",
   "metadata": {},
   "outputs": [],
   "source": [
    "x_train, x_test, y_train, y_test = train_test_split(x, y, test_size=0.2, random_state=2048)"
   ]
  },
  {
   "cell_type": "code",
   "execution_count": 69,
   "id": "1673972c",
   "metadata": {},
   "outputs": [
    {
     "name": "stdout",
     "output_type": "stream",
     "text": [
      "<class 'pandas.core.frame.DataFrame'>\n",
      "Int64Index: 208480 entries, 285985 to 370619\n",
      "Data columns (total 36 columns):\n",
      " #   Column                                  Non-Null Count   Dtype\n",
      "---  ------                                  --------------   -----\n",
      " 0   geo_level_1_id                          208480 non-null  int64\n",
      " 1   geo_level_2_id                          208480 non-null  int64\n",
      " 2   geo_level_3_id                          208480 non-null  int64\n",
      " 3   age                                     208480 non-null  int64\n",
      " 4   area_percentage                         208480 non-null  int64\n",
      " 5   height_percentage                       208480 non-null  int64\n",
      " 6   has_superstructure_adobe_mud            208480 non-null  bool \n",
      " 7   has_superstructure_mud_mortar_stone     208480 non-null  bool \n",
      " 8   has_superstructure_stone_flag           208480 non-null  bool \n",
      " 9   has_superstructure_cement_mortar_stone  208480 non-null  bool \n",
      " 10  has_superstructure_mud_mortar_brick     208480 non-null  bool \n",
      " 11  has_superstructure_cement_mortar_brick  208480 non-null  bool \n",
      " 12  has_superstructure_timber               208480 non-null  bool \n",
      " 13  has_superstructure_bamboo               208480 non-null  bool \n",
      " 14  has_superstructure_rc_non_engineered    208480 non-null  bool \n",
      " 15  has_superstructure_rc_engineered        208480 non-null  bool \n",
      " 16  roof_type_C0                            208480 non-null  int64\n",
      " 17  roof_type_C1                            208480 non-null  int64\n",
      " 18  land_surface_condition_C0               208480 non-null  int64\n",
      " 19  land_surface_condition_C1               208480 non-null  int64\n",
      " 20  foundation_type_C0                      208480 non-null  int64\n",
      " 21  foundation_type_C1                      208480 non-null  int64\n",
      " 22  foundation_type_C2                      208480 non-null  int64\n",
      " 23  ground_floor_type_C0                    208480 non-null  int64\n",
      " 24  ground_floor_type_C1                    208480 non-null  int64\n",
      " 25  ground_floor_type_C2                    208480 non-null  int64\n",
      " 26  other_floor_type_C0                     208480 non-null  int64\n",
      " 27  other_floor_type_C1                     208480 non-null  int64\n",
      " 28  other_floor_type_C2                     208480 non-null  int64\n",
      " 29  position_C0                             208480 non-null  int64\n",
      " 30  position_C1                             208480 non-null  int64\n",
      " 31  position_C2                             208480 non-null  int64\n",
      " 32  plan_configuration_C0                   208480 non-null  int64\n",
      " 33  plan_configuration_C1                   208480 non-null  int64\n",
      " 34  plan_configuration_C2                   208480 non-null  int64\n",
      " 35  plan_configuration_C3                   208480 non-null  int64\n",
      "dtypes: bool(10), int64(26)\n",
      "memory usage: 44.9 MB\n"
     ]
    }
   ],
   "source": [
    "x_train.info()"
   ]
  },
  {
   "cell_type": "markdown",
   "id": "90a59ef0",
   "metadata": {},
   "source": [
    "# RandomForest\n"
   ]
  },
  {
   "cell_type": "code",
   "execution_count": 70,
   "id": "06c12ed6",
   "metadata": {},
   "outputs": [],
   "source": [
    "from sklearn.ensemble import RandomForestClassifier"
   ]
  },
  {
   "cell_type": "code",
   "execution_count": 71,
   "id": "3983188b",
   "metadata": {},
   "outputs": [],
   "source": [
    "clfRF = RandomForestClassifier(n_estimators=50, max_features=\"log2\")"
   ]
  },
  {
   "cell_type": "code",
   "execution_count": null,
   "id": "19c508a7",
   "metadata": {},
   "outputs": [
    {
     "name": "stderr",
     "output_type": "stream",
     "text": [
      "/home/fscaccheri/.local/lib/python3.6/site-packages/ipykernel_launcher.py:1: DataConversionWarning: A column-vector y was passed when a 1d array was expected. Please change the shape of y to (n_samples,), for example using ravel().\n",
      "  \"\"\"Entry point for launching an IPython kernel.\n"
     ]
    }
   ],
   "source": [
    "clfRF.fit(x_train, y_train)"
   ]
  },
  {
   "cell_type": "code",
   "execution_count": null,
   "id": "422a774a",
   "metadata": {},
   "outputs": [],
   "source": [
    "y_pred = clfRF.predict(x_test)\n",
    "accuracy_score(y_test, y_pred)"
   ]
  },
  {
   "cell_type": "markdown",
   "id": "2ce2e608",
   "metadata": {},
   "source": [
    "# XGBoost"
   ]
  },
  {
   "cell_type": "code",
   "execution_count": null,
   "id": "673493bd",
   "metadata": {},
   "outputs": [],
   "source": [
    "from sklearn.model_selection import KFold\n",
    "from sklearn.ensemble import RandomForestRegressor"
   ]
  },
  {
   "cell_type": "code",
   "execution_count": null,
   "id": "c259af42",
   "metadata": {},
   "outputs": [],
   "source": [
    "arr_x = np.array(x)\n",
    "arr_y = np.array(y)"
   ]
  },
  {
   "cell_type": "code",
   "execution_count": null,
   "id": "46d9d85f",
   "metadata": {},
   "outputs": [],
   "source": [
    "kf = KFold(n_splits=3)\n",
    "for train_index, test_index in kf.split(arr_y, arr_y):\n",
    "    xgb_model = xgb.XGBRFClassifier(random_state=40).fit(\n",
    "    arr_x[train_index], arr_y[train_index])"
   ]
  },
  {
   "cell_type": "code",
   "execution_count": null,
   "id": "698f4ab7",
   "metadata": {},
   "outputs": [],
   "source": [
    "score = xgb_model.score(x, y)\n",
    "print(\"accuracy=%.2f%%\" % ( score * 100))"
   ]
  },
  {
   "cell_type": "markdown",
   "id": "3d709fbb",
   "metadata": {},
   "source": [
    "# VotingClassifier"
   ]
  },
  {
   "cell_type": "code",
   "execution_count": null,
   "id": "4db4d118",
   "metadata": {},
   "outputs": [],
   "source": [
    "from sklearn.ensemble import VotingClassifier"
   ]
  },
  {
   "cell_type": "code",
   "execution_count": null,
   "id": "f946c270",
   "metadata": {},
   "outputs": [],
   "source": [
    "eclf = VotingClassifier(estimators=[('rf', clfRF),('xgb', xgb_model)], voting='hard')"
   ]
  },
  {
   "cell_type": "code",
   "execution_count": null,
   "id": "cbe373ee",
   "metadata": {},
   "outputs": [],
   "source": [
    "eclf = eclf.fit(x_train, y_train)"
   ]
  },
  {
   "cell_type": "code",
   "execution_count": null,
   "id": "e7525f8b",
   "metadata": {},
   "outputs": [],
   "source": [
    "y_pred =eclf.predict(x_test)"
   ]
  },
  {
   "cell_type": "code",
   "execution_count": null,
   "id": "3d0892d6",
   "metadata": {},
   "outputs": [],
   "source": [
    "accuracy_score(y_test, y_pred)"
   ]
  },
  {
   "cell_type": "code",
   "execution_count": null,
   "id": "b87ec9fe",
   "metadata": {},
   "outputs": [],
   "source": [
    "# Ahora entrenamos con el set completo de datos\n",
    "eclf = eclf.fit(x, y)"
   ]
  },
  {
   "cell_type": "code",
   "execution_count": null,
   "id": "ee5d43e1",
   "metadata": {},
   "outputs": [],
   "source": [
    "test_values = pd.read_csv('encoded_test_values.csv').set_index('building_id')"
   ]
  },
  {
   "cell_type": "code",
   "execution_count": null,
   "id": "841d4838",
   "metadata": {},
   "outputs": [],
   "source": [
    "test_values = test_values[\n",
    "    ['geo_level_1_id', 'geo_level_2_id', 'geo_level_3_id',\n",
    "     'age', 'area_percentage', 'height_percentage',\n",
    "       'has_superstructure_adobe_mud',\n",
    "       'has_superstructure_mud_mortar_stone', 'has_superstructure_stone_flag',\n",
    "       'has_superstructure_cement_mortar_stone',\n",
    "       'has_superstructure_mud_mortar_brick',\n",
    "       'has_superstructure_cement_mortar_brick', 'has_superstructure_timber',\n",
    "       'has_superstructure_bamboo', 'has_superstructure_rc_non_engineered',\n",
    "       'has_superstructure_rc_engineered',\n",
    "       'roof_type_C0', 'roof_type_C1', 'land_surface_condition_C1',\n",
    "       'land_surface_condition_C0', 'foundation_type_C0', 'foundation_type_C1',\n",
    "       'foundation_type_C2', 'ground_floor_type_C0', 'ground_floor_type_C1',\n",
    "       'ground_floor_type_C2', 'other_floor_type_C0', 'other_floor_type_C1',\n",
    "       'other_floor_type_C2', 'position_C0', 'position_C1', 'position_C2',\n",
    "       'plan_configuration_C0', 'plan_configuration_C1',\n",
    "       'plan_configuration_C2', 'plan_configuration_C3'\n",
    "    ]\n",
    "]\n",
    "\n",
    "for col in test_values.columns:\n",
    "    if col.startswith('has_superstructure'):\n",
    "        test_values[col] = test_values[col].astype(bool)\n",
    "\n",
    "test_values.info()"
   ]
  },
  {
   "cell_type": "code",
   "execution_count": null,
   "id": "8c527592",
   "metadata": {},
   "outputs": [],
   "source": [
    "prediction =eclf.predict(test_values)"
   ]
  },
  {
   "cell_type": "code",
   "execution_count": null,
   "id": "85a1782a",
   "metadata": {},
   "outputs": [],
   "source": [
    "sub_format = pd.read_csv('submission_format.csv', index_col='building_id')"
   ]
  },
  {
   "cell_type": "code",
   "execution_count": null,
   "id": "8c5cb9b4",
   "metadata": {},
   "outputs": [],
   "source": [
    "submission = pd.DataFrame(data=prediction, columns=sub_format.columns, index=sub_format.index)\n",
    "submission.to_csv('submission_ensamble.csv')"
   ]
  }
 ],
 "metadata": {
  "kernelspec": {
   "display_name": "Python 3",
   "language": "python",
   "name": "python3"
  },
  "language_info": {
   "codemirror_mode": {
    "name": "ipython",
    "version": 3
   },
   "file_extension": ".py",
   "mimetype": "text/x-python",
   "name": "python",
   "nbconvert_exporter": "python",
   "pygments_lexer": "ipython3",
   "version": "3.6.9"
  }
 },
 "nbformat": 4,
 "nbformat_minor": 5
}
