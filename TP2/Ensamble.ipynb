{
 "cells": [
  {
   "cell_type": "code",
   "execution_count": 2,
   "id": "ad37843f",
   "metadata": {},
   "outputs": [],
   "source": [
    "import pandas as pd\n",
    "import numpy as np\n",
    "import matplotlib.pyplot as plt\n",
    "from matplotlib.legend import Legend\n",
    "import matplotlib.patches as mpatches\n",
    "import seaborn as sns\n",
    "#from statsmodels.graphics.mosaicplot import mosaic\n",
    "import io\n",
    "import requests\n",
    "\n",
    "%matplotlib inline\n",
    "\n",
    "\n",
    "import xgboost as xgb\n",
    "from xgboost import XGBClassifier\n",
    "from sklearn.ensemble import RandomForestRegressor\n",
    "from sklearn.metrics import mean_squared_error\n",
    "from sklearn.metrics import accuracy_score\n",
    "import matplotlib.pyplot as plt\n",
    "from sklearn import tree\n",
    "from sklearn.metrics import log_loss\n",
    "\n",
    "pd.set_option('display.max_columns', None)"
   ]
  },
  {
   "cell_type": "code",
   "execution_count": 23,
   "id": "321732bd",
   "metadata": {},
   "outputs": [],
   "source": [
    "df2 = pd.read_csv('dataset_v2').set_index('building_id').drop(columns=['damage_grade', 'Unnamed: 0'])\n",
    "df1 = pd.read_csv('dataset_v1').set_index('building_id')\n",
    "train_labels = pd.read_csv('train_labels.csv').set_index('building_id')"
   ]
  },
  {
   "cell_type": "code",
   "execution_count": 25,
   "id": "a051cffa",
   "metadata": {},
   "outputs": [
    {
     "name": "stdout",
     "output_type": "stream",
     "text": [
      "<class 'pandas.core.frame.DataFrame'>\n",
      "Int64Index: 260601 entries, 802906 to 747594\n",
      "Data columns (total 53 columns):\n",
      " #   Column                                  Non-Null Count   Dtype\n",
      "---  ------                                  --------------   -----\n",
      " 0   geo_level_1_id                          260601 non-null  int64\n",
      " 1   geo_level_2_id                          260601 non-null  int64\n",
      " 2   geo_level_3_id                          260601 non-null  int64\n",
      " 3   count_floors_pre_eq                     260601 non-null  int64\n",
      " 4   age                                     260601 non-null  int64\n",
      " 5   area_percentage                         260601 non-null  int64\n",
      " 6   height_percentage                       260601 non-null  int64\n",
      " 7   has_superstructure_adobe_mud            260601 non-null  bool \n",
      " 8   has_superstructure_mud_mortar_stone     260601 non-null  bool \n",
      " 9   has_superstructure_stone_flag           260601 non-null  bool \n",
      " 10  has_superstructure_cement_mortar_stone  260601 non-null  bool \n",
      " 11  has_superstructure_mud_mortar_brick     260601 non-null  bool \n",
      " 12  has_superstructure_cement_mortar_brick  260601 non-null  bool \n",
      " 13  has_superstructure_timber               260601 non-null  bool \n",
      " 14  has_superstructure_bamboo               260601 non-null  bool \n",
      " 15  has_superstructure_rc_non_engineered    260601 non-null  bool \n",
      " 16  has_superstructure_rc_engineered        260601 non-null  bool \n",
      " 17  has_superstructure_other                260601 non-null  bool \n",
      " 18  count_families                          260601 non-null  int64\n",
      " 19  has_secondary_use                       260601 non-null  bool \n",
      " 20  has_secondary_use_agriculture           260601 non-null  bool \n",
      " 21  has_secondary_use_hotel                 260601 non-null  bool \n",
      " 22  has_secondary_use_rental                260601 non-null  bool \n",
      " 23  has_secondary_use_institution           260601 non-null  bool \n",
      " 24  has_secondary_use_school                260601 non-null  bool \n",
      " 25  has_secondary_use_industry              260601 non-null  bool \n",
      " 26  has_secondary_use_health_post           260601 non-null  bool \n",
      " 27  has_secondary_use_gov_office            260601 non-null  bool \n",
      " 28  has_secondary_use_use_police            260601 non-null  bool \n",
      " 29  has_secondary_use_other                 260601 non-null  bool \n",
      " 30  roof_type_C1                            260601 non-null  int64\n",
      " 31  roof_type_C0                            260601 non-null  int64\n",
      " 32  land_surface_condition_C0               260601 non-null  int64\n",
      " 33  land_surface_condition_C1               260601 non-null  int64\n",
      " 34  foundation_type_C0                      260601 non-null  int64\n",
      " 35  foundation_type_C1                      260601 non-null  int64\n",
      " 36  foundation_type_C2                      260601 non-null  int64\n",
      " 37  ground_floor_type_C0                    260601 non-null  int64\n",
      " 38  ground_floor_type_C1                    260601 non-null  int64\n",
      " 39  ground_floor_type_C2                    260601 non-null  int64\n",
      " 40  other_floor_type_C0                     260601 non-null  int64\n",
      " 41  other_floor_type_C1                     260601 non-null  int64\n",
      " 42  other_floor_type_C2                     260601 non-null  int64\n",
      " 43  position_C0                             260601 non-null  int64\n",
      " 44  position_C1                             260601 non-null  int64\n",
      " 45  position_C2                             260601 non-null  int64\n",
      " 46  plan_configuration_C0                   260601 non-null  int64\n",
      " 47  plan_configuration_C1                   260601 non-null  int64\n",
      " 48  plan_configuration_C2                   260601 non-null  int64\n",
      " 49  plan_configuration_C3                   260601 non-null  int64\n",
      " 50  legal_ownership_status_C0               260601 non-null  int64\n",
      " 51  legal_ownership_status_C1               260601 non-null  int64\n",
      " 52  legal_ownership_status_C2               260601 non-null  int64\n",
      "dtypes: bool(22), int64(31)\n",
      "memory usage: 69.1 MB\n"
     ]
    }
   ],
   "source": [
    "df2.info()"
   ]
  },
  {
   "cell_type": "code",
   "execution_count": 26,
   "id": "feb3c058",
   "metadata": {},
   "outputs": [
    {
     "data": {
      "text/html": [
       "<div>\n",
       "<style scoped>\n",
       "    .dataframe tbody tr th:only-of-type {\n",
       "        vertical-align: middle;\n",
       "    }\n",
       "\n",
       "    .dataframe tbody tr th {\n",
       "        vertical-align: top;\n",
       "    }\n",
       "\n",
       "    .dataframe thead th {\n",
       "        text-align: right;\n",
       "    }\n",
       "</style>\n",
       "<table border=\"1\" class=\"dataframe\">\n",
       "  <thead>\n",
       "    <tr style=\"text-align: right;\">\n",
       "      <th></th>\n",
       "      <th>damage_grade</th>\n",
       "    </tr>\n",
       "    <tr>\n",
       "      <th>building_id</th>\n",
       "      <th></th>\n",
       "    </tr>\n",
       "  </thead>\n",
       "  <tbody>\n",
       "    <tr>\n",
       "      <th>802906</th>\n",
       "      <td>3</td>\n",
       "    </tr>\n",
       "    <tr>\n",
       "      <th>28830</th>\n",
       "      <td>2</td>\n",
       "    </tr>\n",
       "    <tr>\n",
       "      <th>94947</th>\n",
       "      <td>3</td>\n",
       "    </tr>\n",
       "    <tr>\n",
       "      <th>590882</th>\n",
       "      <td>2</td>\n",
       "    </tr>\n",
       "    <tr>\n",
       "      <th>201944</th>\n",
       "      <td>3</td>\n",
       "    </tr>\n",
       "  </tbody>\n",
       "</table>\n",
       "</div>"
      ],
      "text/plain": [
       "             damage_grade\n",
       "building_id              \n",
       "802906                  3\n",
       "28830                   2\n",
       "94947                   3\n",
       "590882                  2\n",
       "201944                  3"
      ]
     },
     "execution_count": 26,
     "metadata": {},
     "output_type": "execute_result"
    }
   ],
   "source": [
    "# df2 es mi set de entrenamiento\n",
    "train_labels.head()"
   ]
  },
  {
   "cell_type": "code",
   "execution_count": 27,
   "id": "220cbe20",
   "metadata": {},
   "outputs": [],
   "source": [
    "from sklearn.model_selection import train_test_split\n",
    "from catboost import Pool, CatBoostClassifier"
   ]
  },
  {
   "cell_type": "code",
   "execution_count": 34,
   "id": "31b1ea6f",
   "metadata": {},
   "outputs": [],
   "source": [
    "x, y = df2, train_labels"
   ]
  },
  {
   "cell_type": "code",
   "execution_count": 35,
   "id": "60ce3459",
   "metadata": {},
   "outputs": [],
   "source": [
    "x_train, x_test, y_train, y_test = train_test_split(x, y, test_size=0.2, random_state=2048)"
   ]
  },
  {
   "cell_type": "code",
   "execution_count": 69,
   "id": "8669b295",
   "metadata": {},
   "outputs": [
    {
     "name": "stdout",
     "output_type": "stream",
     "text": [
      "<class 'pandas.core.frame.DataFrame'>\n",
      "Int64Index: 208480 entries, 285985 to 370619\n",
      "Data columns (total 36 columns):\n",
      " #   Column                                  Non-Null Count   Dtype\n",
      "---  ------                                  --------------   -----\n",
      " 0   geo_level_1_id                          208480 non-null  int64\n",
      " 1   geo_level_2_id                          208480 non-null  int64\n",
      " 2   geo_level_3_id                          208480 non-null  int64\n",
      " 3   age                                     208480 non-null  int64\n",
      " 4   area_percentage                         208480 non-null  int64\n",
      " 5   height_percentage                       208480 non-null  int64\n",
      " 6   has_superstructure_adobe_mud            208480 non-null  bool \n",
      " 7   has_superstructure_mud_mortar_stone     208480 non-null  bool \n",
      " 8   has_superstructure_stone_flag           208480 non-null  bool \n",
      " 9   has_superstructure_cement_mortar_stone  208480 non-null  bool \n",
      " 10  has_superstructure_mud_mortar_brick     208480 non-null  bool \n",
      " 11  has_superstructure_cement_mortar_brick  208480 non-null  bool \n",
      " 12  has_superstructure_timber               208480 non-null  bool \n",
      " 13  has_superstructure_bamboo               208480 non-null  bool \n",
      " 14  has_superstructure_rc_non_engineered    208480 non-null  bool \n",
      " 15  has_superstructure_rc_engineered        208480 non-null  bool \n",
      " 16  roof_type_C0                            208480 non-null  int64\n",
      " 17  roof_type_C1                            208480 non-null  int64\n",
      " 18  land_surface_condition_C0               208480 non-null  int64\n",
      " 19  land_surface_condition_C1               208480 non-null  int64\n",
      " 20  foundation_type_C0                      208480 non-null  int64\n",
      " 21  foundation_type_C1                      208480 non-null  int64\n",
      " 22  foundation_type_C2                      208480 non-null  int64\n",
      " 23  ground_floor_type_C0                    208480 non-null  int64\n",
      " 24  ground_floor_type_C1                    208480 non-null  int64\n",
      " 25  ground_floor_type_C2                    208480 non-null  int64\n",
      " 26  other_floor_type_C0                     208480 non-null  int64\n",
      " 27  other_floor_type_C1                     208480 non-null  int64\n",
      " 28  other_floor_type_C2                     208480 non-null  int64\n",
      " 29  position_C0                             208480 non-null  int64\n",
      " 30  position_C1                             208480 non-null  int64\n",
      " 31  position_C2                             208480 non-null  int64\n",
      " 32  plan_configuration_C0                   208480 non-null  int64\n",
      " 33  plan_configuration_C1                   208480 non-null  int64\n",
      " 34  plan_configuration_C2                   208480 non-null  int64\n",
      " 35  plan_configuration_C3                   208480 non-null  int64\n",
      "dtypes: bool(10), int64(26)\n",
      "memory usage: 44.9 MB\n"
     ]
    }
   ],
   "source": [
    "x_train.info()"
   ]
  },
  {
   "cell_type": "markdown",
   "id": "e6f78494",
   "metadata": {},
   "source": [
    "# RandomForest\n"
   ]
  },
  {
   "cell_type": "code",
   "execution_count": 37,
   "id": "c24ecccb",
   "metadata": {},
   "outputs": [],
   "source": [
    "from sklearn.ensemble import RandomForestClassifier"
   ]
  },
  {
   "cell_type": "code",
   "execution_count": 38,
   "id": "d2b21f5a",
   "metadata": {},
   "outputs": [],
   "source": [
    "clfRF = RandomForestClassifier(min_samples_leaf=5, n_estimators=50, max_features=\"log2\")"
   ]
  },
  {
   "cell_type": "code",
   "execution_count": 39,
   "id": "ce33ed7a",
   "metadata": {},
   "outputs": [
    {
     "name": "stderr",
     "output_type": "stream",
     "text": [
      "/home/fscaccheri/.local/lib/python3.6/site-packages/ipykernel_launcher.py:1: DataConversionWarning: A column-vector y was passed when a 1d array was expected. Please change the shape of y to (n_samples,), for example using ravel().\n",
      "  \"\"\"Entry point for launching an IPython kernel.\n"
     ]
    },
    {
     "data": {
      "text/plain": [
       "RandomForestClassifier(max_features='log2', min_samples_leaf=5, n_estimators=50)"
      ]
     },
     "execution_count": 39,
     "metadata": {},
     "output_type": "execute_result"
    }
   ],
   "source": [
    "clfRF.fit(x_train, y_train)"
   ]
  },
  {
   "cell_type": "code",
   "execution_count": 40,
   "id": "85d69159",
   "metadata": {},
   "outputs": [
    {
     "data": {
      "text/plain": [
       "0.6938853820916713"
      ]
     },
     "execution_count": 40,
     "metadata": {},
     "output_type": "execute_result"
    }
   ],
   "source": [
    "y_pred = clfRF.predict(x_test)\n",
    "accuracy_score(y_test, y_pred)"
   ]
  },
  {
   "cell_type": "markdown",
   "id": "106ad5c2",
   "metadata": {},
   "source": [
    "# XGBoost"
   ]
  },
  {
   "cell_type": "code",
   "execution_count": 41,
   "id": "31a8ce0e",
   "metadata": {},
   "outputs": [],
   "source": [
    "from sklearn.model_selection import KFold\n",
    "from sklearn.ensemble import RandomForestRegressor"
   ]
  },
  {
   "cell_type": "code",
   "execution_count": 73,
   "id": "3dad06b5",
   "metadata": {},
   "outputs": [],
   "source": [
    "arr_x = np.array(x)\n",
    "arr_y = np.array(y)"
   ]
  },
  {
   "cell_type": "code",
   "execution_count": 74,
   "id": "b79d91ac",
   "metadata": {},
   "outputs": [],
   "source": [
    "from sklearn.model_selection import GridSearchCV"
   ]
  },
  {
   "cell_type": "code",
   "execution_count": 105,
   "id": "62b03fbc",
   "metadata": {},
   "outputs": [],
   "source": [
    "param_grid = {\n",
    "    'learning_rate': [0.03, 0.1],\n",
    "    'n_estimators': [100, 120],\n",
    "    'reg_lambda': [1e-05, 3e-05],\n",
    "    'reg_alpha': [0.1, 0.5],\n",
    "    'colsample_bynode': [0.3, 0.8],\n",
    "    'max_depth': [10, 15]\n",
    "}\n",
    "\n",
    "xgb_model = xgb.XGBRFClassifier(\n",
    "    random_state=40,\n",
    "    max_depth=10,\n",
    "    colsample_bynode=0.8\n",
    ")\n",
    "\n",
    "gs = GridSearchCV(xgb_model, param_grid, cv=5, verbose=3)"
   ]
  },
  {
   "cell_type": "code",
   "execution_count": 106,
   "id": "c7c4da00",
   "metadata": {},
   "outputs": [
    {
     "name": "stdout",
     "output_type": "stream",
     "text": [
      "Fitting 5 folds for each of 64 candidates, totalling 320 fits\n"
     ]
    },
    {
     "name": "stderr",
     "output_type": "stream",
     "text": [
      "/home/fscaccheri/.local/lib/python3.6/site-packages/xgboost/sklearn.py:1146: UserWarning: The use of label encoder in XGBClassifier is deprecated and will be removed in a future release. To remove this warning, do the following: 1) Pass option use_label_encoder=False when constructing XGBClassifier object; and 2) Encode your labels (y) as integers starting with 0, i.e. 0, 1, 2, ..., [num_class - 1].\n",
      "  warnings.warn(label_encoder_deprecation_msg, UserWarning)\n",
      "/home/fscaccheri/.local/lib/python3.6/site-packages/sklearn/utils/validation.py:63: DataConversionWarning: A column-vector y was passed when a 1d array was expected. Please change the shape of y to (n_samples, ), for example using ravel().\n",
      "  return f(*args, **kwargs)\n"
     ]
    },
    {
     "name": "stdout",
     "output_type": "stream",
     "text": [
      "[16:41:19] WARNING: ../src/learner.cc:1095: Starting in XGBoost 1.3.0, the default evaluation metric used with the objective 'multi:softprob' was changed from 'merror' to 'mlogloss'. Explicitly set eval_metric if you'd like to restore the old behavior.\n",
      "[CV 1/5] END colsample_bynode=0.3, learning_rate=0.03, max_depth=10, n_estimators=100, reg_alpha=0.1, reg_lambda=1e-05;, score=0.674 total time=  15.1s\n"
     ]
    },
    {
     "name": "stderr",
     "output_type": "stream",
     "text": [
      "/home/fscaccheri/.local/lib/python3.6/site-packages/xgboost/sklearn.py:1146: UserWarning: The use of label encoder in XGBClassifier is deprecated and will be removed in a future release. To remove this warning, do the following: 1) Pass option use_label_encoder=False when constructing XGBClassifier object; and 2) Encode your labels (y) as integers starting with 0, i.e. 0, 1, 2, ..., [num_class - 1].\n",
      "  warnings.warn(label_encoder_deprecation_msg, UserWarning)\n",
      "/home/fscaccheri/.local/lib/python3.6/site-packages/sklearn/utils/validation.py:63: DataConversionWarning: A column-vector y was passed when a 1d array was expected. Please change the shape of y to (n_samples, ), for example using ravel().\n",
      "  return f(*args, **kwargs)\n"
     ]
    },
    {
     "name": "stdout",
     "output_type": "stream",
     "text": [
      "[16:41:35] WARNING: ../src/learner.cc:1095: Starting in XGBoost 1.3.0, the default evaluation metric used with the objective 'multi:softprob' was changed from 'merror' to 'mlogloss'. Explicitly set eval_metric if you'd like to restore the old behavior.\n",
      "[CV 2/5] END colsample_bynode=0.3, learning_rate=0.03, max_depth=10, n_estimators=100, reg_alpha=0.1, reg_lambda=1e-05;, score=0.676 total time=  16.0s\n"
     ]
    },
    {
     "name": "stderr",
     "output_type": "stream",
     "text": [
      "/home/fscaccheri/.local/lib/python3.6/site-packages/xgboost/sklearn.py:1146: UserWarning: The use of label encoder in XGBClassifier is deprecated and will be removed in a future release. To remove this warning, do the following: 1) Pass option use_label_encoder=False when constructing XGBClassifier object; and 2) Encode your labels (y) as integers starting with 0, i.e. 0, 1, 2, ..., [num_class - 1].\n",
      "  warnings.warn(label_encoder_deprecation_msg, UserWarning)\n",
      "/home/fscaccheri/.local/lib/python3.6/site-packages/sklearn/utils/validation.py:63: DataConversionWarning: A column-vector y was passed when a 1d array was expected. Please change the shape of y to (n_samples, ), for example using ravel().\n",
      "  return f(*args, **kwargs)\n"
     ]
    },
    {
     "name": "stdout",
     "output_type": "stream",
     "text": [
      "[16:41:51] WARNING: ../src/learner.cc:1095: Starting in XGBoost 1.3.0, the default evaluation metric used with the objective 'multi:softprob' was changed from 'merror' to 'mlogloss'. Explicitly set eval_metric if you'd like to restore the old behavior.\n",
      "[CV 3/5] END colsample_bynode=0.3, learning_rate=0.03, max_depth=10, n_estimators=100, reg_alpha=0.1, reg_lambda=1e-05;, score=0.683 total time=  16.3s\n"
     ]
    },
    {
     "name": "stderr",
     "output_type": "stream",
     "text": [
      "/home/fscaccheri/.local/lib/python3.6/site-packages/xgboost/sklearn.py:1146: UserWarning: The use of label encoder in XGBClassifier is deprecated and will be removed in a future release. To remove this warning, do the following: 1) Pass option use_label_encoder=False when constructing XGBClassifier object; and 2) Encode your labels (y) as integers starting with 0, i.e. 0, 1, 2, ..., [num_class - 1].\n",
      "  warnings.warn(label_encoder_deprecation_msg, UserWarning)\n",
      "/home/fscaccheri/.local/lib/python3.6/site-packages/sklearn/utils/validation.py:63: DataConversionWarning: A column-vector y was passed when a 1d array was expected. Please change the shape of y to (n_samples, ), for example using ravel().\n",
      "  return f(*args, **kwargs)\n"
     ]
    },
    {
     "name": "stdout",
     "output_type": "stream",
     "text": [
      "[16:42:08] WARNING: ../src/learner.cc:1095: Starting in XGBoost 1.3.0, the default evaluation metric used with the objective 'multi:softprob' was changed from 'merror' to 'mlogloss'. Explicitly set eval_metric if you'd like to restore the old behavior.\n",
      "[CV 4/5] END colsample_bynode=0.3, learning_rate=0.03, max_depth=10, n_estimators=100, reg_alpha=0.1, reg_lambda=1e-05;, score=0.679 total time=  17.0s\n"
     ]
    },
    {
     "name": "stderr",
     "output_type": "stream",
     "text": [
      "/home/fscaccheri/.local/lib/python3.6/site-packages/xgboost/sklearn.py:1146: UserWarning: The use of label encoder in XGBClassifier is deprecated and will be removed in a future release. To remove this warning, do the following: 1) Pass option use_label_encoder=False when constructing XGBClassifier object; and 2) Encode your labels (y) as integers starting with 0, i.e. 0, 1, 2, ..., [num_class - 1].\n",
      "  warnings.warn(label_encoder_deprecation_msg, UserWarning)\n",
      "/home/fscaccheri/.local/lib/python3.6/site-packages/sklearn/utils/validation.py:63: DataConversionWarning: A column-vector y was passed when a 1d array was expected. Please change the shape of y to (n_samples, ), for example using ravel().\n",
      "  return f(*args, **kwargs)\n"
     ]
    },
    {
     "name": "stdout",
     "output_type": "stream",
     "text": [
      "[16:42:28] WARNING: ../src/learner.cc:1095: Starting in XGBoost 1.3.0, the default evaluation metric used with the objective 'multi:softprob' was changed from 'merror' to 'mlogloss'. Explicitly set eval_metric if you'd like to restore the old behavior.\n",
      "[CV 5/5] END colsample_bynode=0.3, learning_rate=0.03, max_depth=10, n_estimators=100, reg_alpha=0.1, reg_lambda=1e-05;, score=0.680 total time=  20.1s\n"
     ]
    },
    {
     "name": "stderr",
     "output_type": "stream",
     "text": [
      "/home/fscaccheri/.local/lib/python3.6/site-packages/xgboost/sklearn.py:1146: UserWarning: The use of label encoder in XGBClassifier is deprecated and will be removed in a future release. To remove this warning, do the following: 1) Pass option use_label_encoder=False when constructing XGBClassifier object; and 2) Encode your labels (y) as integers starting with 0, i.e. 0, 1, 2, ..., [num_class - 1].\n",
      "  warnings.warn(label_encoder_deprecation_msg, UserWarning)\n",
      "/home/fscaccheri/.local/lib/python3.6/site-packages/sklearn/utils/validation.py:63: DataConversionWarning: A column-vector y was passed when a 1d array was expected. Please change the shape of y to (n_samples, ), for example using ravel().\n",
      "  return f(*args, **kwargs)\n"
     ]
    },
    {
     "name": "stdout",
     "output_type": "stream",
     "text": [
      "[16:42:46] WARNING: ../src/learner.cc:1095: Starting in XGBoost 1.3.0, the default evaluation metric used with the objective 'multi:softprob' was changed from 'merror' to 'mlogloss'. Explicitly set eval_metric if you'd like to restore the old behavior.\n",
      "[CV 1/5] END colsample_bynode=0.3, learning_rate=0.03, max_depth=10, n_estimators=100, reg_alpha=0.1, reg_lambda=3e-05;, score=0.674 total time=  17.7s\n"
     ]
    },
    {
     "name": "stderr",
     "output_type": "stream",
     "text": [
      "/home/fscaccheri/.local/lib/python3.6/site-packages/xgboost/sklearn.py:1146: UserWarning: The use of label encoder in XGBClassifier is deprecated and will be removed in a future release. To remove this warning, do the following: 1) Pass option use_label_encoder=False when constructing XGBClassifier object; and 2) Encode your labels (y) as integers starting with 0, i.e. 0, 1, 2, ..., [num_class - 1].\n",
      "  warnings.warn(label_encoder_deprecation_msg, UserWarning)\n",
      "/home/fscaccheri/.local/lib/python3.6/site-packages/sklearn/utils/validation.py:63: DataConversionWarning: A column-vector y was passed when a 1d array was expected. Please change the shape of y to (n_samples, ), for example using ravel().\n",
      "  return f(*args, **kwargs)\n"
     ]
    },
    {
     "name": "stdout",
     "output_type": "stream",
     "text": [
      "[16:43:00] WARNING: ../src/learner.cc:1095: Starting in XGBoost 1.3.0, the default evaluation metric used with the objective 'multi:softprob' was changed from 'merror' to 'mlogloss'. Explicitly set eval_metric if you'd like to restore the old behavior.\n",
      "[CV 2/5] END colsample_bynode=0.3, learning_rate=0.03, max_depth=10, n_estimators=100, reg_alpha=0.1, reg_lambda=3e-05;, score=0.676 total time=  14.1s\n"
     ]
    },
    {
     "name": "stderr",
     "output_type": "stream",
     "text": [
      "/home/fscaccheri/.local/lib/python3.6/site-packages/xgboost/sklearn.py:1146: UserWarning: The use of label encoder in XGBClassifier is deprecated and will be removed in a future release. To remove this warning, do the following: 1) Pass option use_label_encoder=False when constructing XGBClassifier object; and 2) Encode your labels (y) as integers starting with 0, i.e. 0, 1, 2, ..., [num_class - 1].\n",
      "  warnings.warn(label_encoder_deprecation_msg, UserWarning)\n",
      "/home/fscaccheri/.local/lib/python3.6/site-packages/sklearn/utils/validation.py:63: DataConversionWarning: A column-vector y was passed when a 1d array was expected. Please change the shape of y to (n_samples, ), for example using ravel().\n",
      "  return f(*args, **kwargs)\n"
     ]
    },
    {
     "name": "stdout",
     "output_type": "stream",
     "text": [
      "[16:43:13] WARNING: ../src/learner.cc:1095: Starting in XGBoost 1.3.0, the default evaluation metric used with the objective 'multi:softprob' was changed from 'merror' to 'mlogloss'. Explicitly set eval_metric if you'd like to restore the old behavior.\n",
      "[CV 3/5] END colsample_bynode=0.3, learning_rate=0.03, max_depth=10, n_estimators=100, reg_alpha=0.1, reg_lambda=3e-05;, score=0.683 total time=  12.5s\n"
     ]
    },
    {
     "name": "stderr",
     "output_type": "stream",
     "text": [
      "/home/fscaccheri/.local/lib/python3.6/site-packages/xgboost/sklearn.py:1146: UserWarning: The use of label encoder in XGBClassifier is deprecated and will be removed in a future release. To remove this warning, do the following: 1) Pass option use_label_encoder=False when constructing XGBClassifier object; and 2) Encode your labels (y) as integers starting with 0, i.e. 0, 1, 2, ..., [num_class - 1].\n",
      "  warnings.warn(label_encoder_deprecation_msg, UserWarning)\n",
      "/home/fscaccheri/.local/lib/python3.6/site-packages/sklearn/utils/validation.py:63: DataConversionWarning: A column-vector y was passed when a 1d array was expected. Please change the shape of y to (n_samples, ), for example using ravel().\n",
      "  return f(*args, **kwargs)\n"
     ]
    },
    {
     "name": "stdout",
     "output_type": "stream",
     "text": [
      "[16:43:25] WARNING: ../src/learner.cc:1095: Starting in XGBoost 1.3.0, the default evaluation metric used with the objective 'multi:softprob' was changed from 'merror' to 'mlogloss'. Explicitly set eval_metric if you'd like to restore the old behavior.\n",
      "[CV 4/5] END colsample_bynode=0.3, learning_rate=0.03, max_depth=10, n_estimators=100, reg_alpha=0.1, reg_lambda=3e-05;, score=0.679 total time=  12.4s\n"
     ]
    },
    {
     "name": "stderr",
     "output_type": "stream",
     "text": [
      "/home/fscaccheri/.local/lib/python3.6/site-packages/xgboost/sklearn.py:1146: UserWarning: The use of label encoder in XGBClassifier is deprecated and will be removed in a future release. To remove this warning, do the following: 1) Pass option use_label_encoder=False when constructing XGBClassifier object; and 2) Encode your labels (y) as integers starting with 0, i.e. 0, 1, 2, ..., [num_class - 1].\n",
      "  warnings.warn(label_encoder_deprecation_msg, UserWarning)\n",
      "/home/fscaccheri/.local/lib/python3.6/site-packages/sklearn/utils/validation.py:63: DataConversionWarning: A column-vector y was passed when a 1d array was expected. Please change the shape of y to (n_samples, ), for example using ravel().\n",
      "  return f(*args, **kwargs)\n"
     ]
    },
    {
     "name": "stdout",
     "output_type": "stream",
     "text": [
      "[16:43:38] WARNING: ../src/learner.cc:1095: Starting in XGBoost 1.3.0, the default evaluation metric used with the objective 'multi:softprob' was changed from 'merror' to 'mlogloss'. Explicitly set eval_metric if you'd like to restore the old behavior.\n",
      "[CV 5/5] END colsample_bynode=0.3, learning_rate=0.03, max_depth=10, n_estimators=100, reg_alpha=0.1, reg_lambda=3e-05;, score=0.680 total time=  13.2s\n"
     ]
    },
    {
     "name": "stderr",
     "output_type": "stream",
     "text": [
      "/home/fscaccheri/.local/lib/python3.6/site-packages/xgboost/sklearn.py:1146: UserWarning: The use of label encoder in XGBClassifier is deprecated and will be removed in a future release. To remove this warning, do the following: 1) Pass option use_label_encoder=False when constructing XGBClassifier object; and 2) Encode your labels (y) as integers starting with 0, i.e. 0, 1, 2, ..., [num_class - 1].\n",
      "  warnings.warn(label_encoder_deprecation_msg, UserWarning)\n",
      "/home/fscaccheri/.local/lib/python3.6/site-packages/sklearn/utils/validation.py:63: DataConversionWarning: A column-vector y was passed when a 1d array was expected. Please change the shape of y to (n_samples, ), for example using ravel().\n",
      "  return f(*args, **kwargs)\n"
     ]
    },
    {
     "name": "stdout",
     "output_type": "stream",
     "text": [
      "[16:43:53] WARNING: ../src/learner.cc:1095: Starting in XGBoost 1.3.0, the default evaluation metric used with the objective 'multi:softprob' was changed from 'merror' to 'mlogloss'. Explicitly set eval_metric if you'd like to restore the old behavior.\n",
      "[CV 1/5] END colsample_bynode=0.3, learning_rate=0.03, max_depth=10, n_estimators=100, reg_alpha=0.5, reg_lambda=1e-05;, score=0.674 total time=  15.3s\n"
     ]
    },
    {
     "name": "stderr",
     "output_type": "stream",
     "text": [
      "/home/fscaccheri/.local/lib/python3.6/site-packages/xgboost/sklearn.py:1146: UserWarning: The use of label encoder in XGBClassifier is deprecated and will be removed in a future release. To remove this warning, do the following: 1) Pass option use_label_encoder=False when constructing XGBClassifier object; and 2) Encode your labels (y) as integers starting with 0, i.e. 0, 1, 2, ..., [num_class - 1].\n",
      "  warnings.warn(label_encoder_deprecation_msg, UserWarning)\n",
      "/home/fscaccheri/.local/lib/python3.6/site-packages/sklearn/utils/validation.py:63: DataConversionWarning: A column-vector y was passed when a 1d array was expected. Please change the shape of y to (n_samples, ), for example using ravel().\n",
      "  return f(*args, **kwargs)\n"
     ]
    },
    {
     "name": "stdout",
     "output_type": "stream",
     "text": [
      "[16:44:14] WARNING: ../src/learner.cc:1095: Starting in XGBoost 1.3.0, the default evaluation metric used with the objective 'multi:softprob' was changed from 'merror' to 'mlogloss'. Explicitly set eval_metric if you'd like to restore the old behavior.\n",
      "[CV 2/5] END colsample_bynode=0.3, learning_rate=0.03, max_depth=10, n_estimators=100, reg_alpha=0.5, reg_lambda=1e-05;, score=0.677 total time=  20.8s\n"
     ]
    },
    {
     "name": "stderr",
     "output_type": "stream",
     "text": [
      "/home/fscaccheri/.local/lib/python3.6/site-packages/xgboost/sklearn.py:1146: UserWarning: The use of label encoder in XGBClassifier is deprecated and will be removed in a future release. To remove this warning, do the following: 1) Pass option use_label_encoder=False when constructing XGBClassifier object; and 2) Encode your labels (y) as integers starting with 0, i.e. 0, 1, 2, ..., [num_class - 1].\n",
      "  warnings.warn(label_encoder_deprecation_msg, UserWarning)\n",
      "/home/fscaccheri/.local/lib/python3.6/site-packages/sklearn/utils/validation.py:63: DataConversionWarning: A column-vector y was passed when a 1d array was expected. Please change the shape of y to (n_samples, ), for example using ravel().\n",
      "  return f(*args, **kwargs)\n"
     ]
    },
    {
     "name": "stdout",
     "output_type": "stream",
     "text": [
      "[16:44:30] WARNING: ../src/learner.cc:1095: Starting in XGBoost 1.3.0, the default evaluation metric used with the objective 'multi:softprob' was changed from 'merror' to 'mlogloss'. Explicitly set eval_metric if you'd like to restore the old behavior.\n",
      "[CV 3/5] END colsample_bynode=0.3, learning_rate=0.03, max_depth=10, n_estimators=100, reg_alpha=0.5, reg_lambda=1e-05;, score=0.682 total time=  16.0s\n"
     ]
    },
    {
     "name": "stderr",
     "output_type": "stream",
     "text": [
      "/home/fscaccheri/.local/lib/python3.6/site-packages/xgboost/sklearn.py:1146: UserWarning: The use of label encoder in XGBClassifier is deprecated and will be removed in a future release. To remove this warning, do the following: 1) Pass option use_label_encoder=False when constructing XGBClassifier object; and 2) Encode your labels (y) as integers starting with 0, i.e. 0, 1, 2, ..., [num_class - 1].\n",
      "  warnings.warn(label_encoder_deprecation_msg, UserWarning)\n",
      "/home/fscaccheri/.local/lib/python3.6/site-packages/sklearn/utils/validation.py:63: DataConversionWarning: A column-vector y was passed when a 1d array was expected. Please change the shape of y to (n_samples, ), for example using ravel().\n",
      "  return f(*args, **kwargs)\n"
     ]
    },
    {
     "name": "stdout",
     "output_type": "stream",
     "text": [
      "[16:44:44] WARNING: ../src/learner.cc:1095: Starting in XGBoost 1.3.0, the default evaluation metric used with the objective 'multi:softprob' was changed from 'merror' to 'mlogloss'. Explicitly set eval_metric if you'd like to restore the old behavior.\n",
      "[CV 4/5] END colsample_bynode=0.3, learning_rate=0.03, max_depth=10, n_estimators=100, reg_alpha=0.5, reg_lambda=1e-05;, score=0.679 total time=  13.9s\n"
     ]
    },
    {
     "name": "stderr",
     "output_type": "stream",
     "text": [
      "/home/fscaccheri/.local/lib/python3.6/site-packages/xgboost/sklearn.py:1146: UserWarning: The use of label encoder in XGBClassifier is deprecated and will be removed in a future release. To remove this warning, do the following: 1) Pass option use_label_encoder=False when constructing XGBClassifier object; and 2) Encode your labels (y) as integers starting with 0, i.e. 0, 1, 2, ..., [num_class - 1].\n",
      "  warnings.warn(label_encoder_deprecation_msg, UserWarning)\n",
      "/home/fscaccheri/.local/lib/python3.6/site-packages/sklearn/utils/validation.py:63: DataConversionWarning: A column-vector y was passed when a 1d array was expected. Please change the shape of y to (n_samples, ), for example using ravel().\n",
      "  return f(*args, **kwargs)\n"
     ]
    },
    {
     "name": "stdout",
     "output_type": "stream",
     "text": [
      "[16:44:58] WARNING: ../src/learner.cc:1095: Starting in XGBoost 1.3.0, the default evaluation metric used with the objective 'multi:softprob' was changed from 'merror' to 'mlogloss'. Explicitly set eval_metric if you'd like to restore the old behavior.\n",
      "[CV 5/5] END colsample_bynode=0.3, learning_rate=0.03, max_depth=10, n_estimators=100, reg_alpha=0.5, reg_lambda=1e-05;, score=0.680 total time=  13.9s\n"
     ]
    },
    {
     "name": "stderr",
     "output_type": "stream",
     "text": [
      "/home/fscaccheri/.local/lib/python3.6/site-packages/xgboost/sklearn.py:1146: UserWarning: The use of label encoder in XGBClassifier is deprecated and will be removed in a future release. To remove this warning, do the following: 1) Pass option use_label_encoder=False when constructing XGBClassifier object; and 2) Encode your labels (y) as integers starting with 0, i.e. 0, 1, 2, ..., [num_class - 1].\n",
      "  warnings.warn(label_encoder_deprecation_msg, UserWarning)\n",
      "/home/fscaccheri/.local/lib/python3.6/site-packages/sklearn/utils/validation.py:63: DataConversionWarning: A column-vector y was passed when a 1d array was expected. Please change the shape of y to (n_samples, ), for example using ravel().\n",
      "  return f(*args, **kwargs)\n"
     ]
    },
    {
     "name": "stdout",
     "output_type": "stream",
     "text": [
      "[16:45:12] WARNING: ../src/learner.cc:1095: Starting in XGBoost 1.3.0, the default evaluation metric used with the objective 'multi:softprob' was changed from 'merror' to 'mlogloss'. Explicitly set eval_metric if you'd like to restore the old behavior.\n",
      "[CV 1/5] END colsample_bynode=0.3, learning_rate=0.03, max_depth=10, n_estimators=100, reg_alpha=0.5, reg_lambda=3e-05;, score=0.674 total time=  13.9s\n"
     ]
    },
    {
     "name": "stderr",
     "output_type": "stream",
     "text": [
      "/home/fscaccheri/.local/lib/python3.6/site-packages/xgboost/sklearn.py:1146: UserWarning: The use of label encoder in XGBClassifier is deprecated and will be removed in a future release. To remove this warning, do the following: 1) Pass option use_label_encoder=False when constructing XGBClassifier object; and 2) Encode your labels (y) as integers starting with 0, i.e. 0, 1, 2, ..., [num_class - 1].\n",
      "  warnings.warn(label_encoder_deprecation_msg, UserWarning)\n",
      "/home/fscaccheri/.local/lib/python3.6/site-packages/sklearn/utils/validation.py:63: DataConversionWarning: A column-vector y was passed when a 1d array was expected. Please change the shape of y to (n_samples, ), for example using ravel().\n",
      "  return f(*args, **kwargs)\n"
     ]
    },
    {
     "name": "stdout",
     "output_type": "stream",
     "text": [
      "[16:45:26] WARNING: ../src/learner.cc:1095: Starting in XGBoost 1.3.0, the default evaluation metric used with the objective 'multi:softprob' was changed from 'merror' to 'mlogloss'. Explicitly set eval_metric if you'd like to restore the old behavior.\n",
      "[CV 2/5] END colsample_bynode=0.3, learning_rate=0.03, max_depth=10, n_estimators=100, reg_alpha=0.5, reg_lambda=3e-05;, score=0.677 total time=  13.9s\n"
     ]
    },
    {
     "name": "stderr",
     "output_type": "stream",
     "text": [
      "/home/fscaccheri/.local/lib/python3.6/site-packages/xgboost/sklearn.py:1146: UserWarning: The use of label encoder in XGBClassifier is deprecated and will be removed in a future release. To remove this warning, do the following: 1) Pass option use_label_encoder=False when constructing XGBClassifier object; and 2) Encode your labels (y) as integers starting with 0, i.e. 0, 1, 2, ..., [num_class - 1].\n",
      "  warnings.warn(label_encoder_deprecation_msg, UserWarning)\n",
      "/home/fscaccheri/.local/lib/python3.6/site-packages/sklearn/utils/validation.py:63: DataConversionWarning: A column-vector y was passed when a 1d array was expected. Please change the shape of y to (n_samples, ), for example using ravel().\n",
      "  return f(*args, **kwargs)\n"
     ]
    },
    {
     "name": "stdout",
     "output_type": "stream",
     "text": [
      "[16:45:40] WARNING: ../src/learner.cc:1095: Starting in XGBoost 1.3.0, the default evaluation metric used with the objective 'multi:softprob' was changed from 'merror' to 'mlogloss'. Explicitly set eval_metric if you'd like to restore the old behavior.\n",
      "[CV 3/5] END colsample_bynode=0.3, learning_rate=0.03, max_depth=10, n_estimators=100, reg_alpha=0.5, reg_lambda=3e-05;, score=0.682 total time=  13.9s\n"
     ]
    },
    {
     "name": "stderr",
     "output_type": "stream",
     "text": [
      "/home/fscaccheri/.local/lib/python3.6/site-packages/xgboost/sklearn.py:1146: UserWarning: The use of label encoder in XGBClassifier is deprecated and will be removed in a future release. To remove this warning, do the following: 1) Pass option use_label_encoder=False when constructing XGBClassifier object; and 2) Encode your labels (y) as integers starting with 0, i.e. 0, 1, 2, ..., [num_class - 1].\n",
      "  warnings.warn(label_encoder_deprecation_msg, UserWarning)\n",
      "/home/fscaccheri/.local/lib/python3.6/site-packages/sklearn/utils/validation.py:63: DataConversionWarning: A column-vector y was passed when a 1d array was expected. Please change the shape of y to (n_samples, ), for example using ravel().\n",
      "  return f(*args, **kwargs)\n"
     ]
    },
    {
     "name": "stdout",
     "output_type": "stream",
     "text": [
      "[16:45:55] WARNING: ../src/learner.cc:1095: Starting in XGBoost 1.3.0, the default evaluation metric used with the objective 'multi:softprob' was changed from 'merror' to 'mlogloss'. Explicitly set eval_metric if you'd like to restore the old behavior.\n",
      "[CV 4/5] END colsample_bynode=0.3, learning_rate=0.03, max_depth=10, n_estimators=100, reg_alpha=0.5, reg_lambda=3e-05;, score=0.679 total time=  15.5s\n"
     ]
    },
    {
     "name": "stderr",
     "output_type": "stream",
     "text": [
      "/home/fscaccheri/.local/lib/python3.6/site-packages/xgboost/sklearn.py:1146: UserWarning: The use of label encoder in XGBClassifier is deprecated and will be removed in a future release. To remove this warning, do the following: 1) Pass option use_label_encoder=False when constructing XGBClassifier object; and 2) Encode your labels (y) as integers starting with 0, i.e. 0, 1, 2, ..., [num_class - 1].\n",
      "  warnings.warn(label_encoder_deprecation_msg, UserWarning)\n",
      "/home/fscaccheri/.local/lib/python3.6/site-packages/sklearn/utils/validation.py:63: DataConversionWarning: A column-vector y was passed when a 1d array was expected. Please change the shape of y to (n_samples, ), for example using ravel().\n",
      "  return f(*args, **kwargs)\n"
     ]
    },
    {
     "name": "stdout",
     "output_type": "stream",
     "text": [
      "[16:46:09] WARNING: ../src/learner.cc:1095: Starting in XGBoost 1.3.0, the default evaluation metric used with the objective 'multi:softprob' was changed from 'merror' to 'mlogloss'. Explicitly set eval_metric if you'd like to restore the old behavior.\n",
      "[CV 5/5] END colsample_bynode=0.3, learning_rate=0.03, max_depth=10, n_estimators=100, reg_alpha=0.5, reg_lambda=3e-05;, score=0.680 total time=  14.1s\n"
     ]
    },
    {
     "name": "stderr",
     "output_type": "stream",
     "text": [
      "/home/fscaccheri/.local/lib/python3.6/site-packages/xgboost/sklearn.py:1146: UserWarning: The use of label encoder in XGBClassifier is deprecated and will be removed in a future release. To remove this warning, do the following: 1) Pass option use_label_encoder=False when constructing XGBClassifier object; and 2) Encode your labels (y) as integers starting with 0, i.e. 0, 1, 2, ..., [num_class - 1].\n",
      "  warnings.warn(label_encoder_deprecation_msg, UserWarning)\n",
      "/home/fscaccheri/.local/lib/python3.6/site-packages/sklearn/utils/validation.py:63: DataConversionWarning: A column-vector y was passed when a 1d array was expected. Please change the shape of y to (n_samples, ), for example using ravel().\n",
      "  return f(*args, **kwargs)\n"
     ]
    },
    {
     "name": "stdout",
     "output_type": "stream",
     "text": [
      "[16:46:27] WARNING: ../src/learner.cc:1095: Starting in XGBoost 1.3.0, the default evaluation metric used with the objective 'multi:softprob' was changed from 'merror' to 'mlogloss'. Explicitly set eval_metric if you'd like to restore the old behavior.\n",
      "[CV 1/5] END colsample_bynode=0.3, learning_rate=0.03, max_depth=10, n_estimators=120, reg_alpha=0.1, reg_lambda=1e-05;, score=0.675 total time=  18.0s\n"
     ]
    },
    {
     "name": "stderr",
     "output_type": "stream",
     "text": [
      "/home/fscaccheri/.local/lib/python3.6/site-packages/xgboost/sklearn.py:1146: UserWarning: The use of label encoder in XGBClassifier is deprecated and will be removed in a future release. To remove this warning, do the following: 1) Pass option use_label_encoder=False when constructing XGBClassifier object; and 2) Encode your labels (y) as integers starting with 0, i.e. 0, 1, 2, ..., [num_class - 1].\n",
      "  warnings.warn(label_encoder_deprecation_msg, UserWarning)\n",
      "/home/fscaccheri/.local/lib/python3.6/site-packages/sklearn/utils/validation.py:63: DataConversionWarning: A column-vector y was passed when a 1d array was expected. Please change the shape of y to (n_samples, ), for example using ravel().\n",
      "  return f(*args, **kwargs)\n"
     ]
    },
    {
     "name": "stdout",
     "output_type": "stream",
     "text": [
      "[16:46:45] WARNING: ../src/learner.cc:1095: Starting in XGBoost 1.3.0, the default evaluation metric used with the objective 'multi:softprob' was changed from 'merror' to 'mlogloss'. Explicitly set eval_metric if you'd like to restore the old behavior.\n",
      "[CV 2/5] END colsample_bynode=0.3, learning_rate=0.03, max_depth=10, n_estimators=120, reg_alpha=0.1, reg_lambda=1e-05;, score=0.677 total time=  18.1s\n"
     ]
    },
    {
     "name": "stderr",
     "output_type": "stream",
     "text": [
      "/home/fscaccheri/.local/lib/python3.6/site-packages/xgboost/sklearn.py:1146: UserWarning: The use of label encoder in XGBClassifier is deprecated and will be removed in a future release. To remove this warning, do the following: 1) Pass option use_label_encoder=False when constructing XGBClassifier object; and 2) Encode your labels (y) as integers starting with 0, i.e. 0, 1, 2, ..., [num_class - 1].\n",
      "  warnings.warn(label_encoder_deprecation_msg, UserWarning)\n",
      "/home/fscaccheri/.local/lib/python3.6/site-packages/sklearn/utils/validation.py:63: DataConversionWarning: A column-vector y was passed when a 1d array was expected. Please change the shape of y to (n_samples, ), for example using ravel().\n",
      "  return f(*args, **kwargs)\n"
     ]
    },
    {
     "name": "stdout",
     "output_type": "stream",
     "text": [
      "[16:47:02] WARNING: ../src/learner.cc:1095: Starting in XGBoost 1.3.0, the default evaluation metric used with the objective 'multi:softprob' was changed from 'merror' to 'mlogloss'. Explicitly set eval_metric if you'd like to restore the old behavior.\n",
      "[CV 3/5] END colsample_bynode=0.3, learning_rate=0.03, max_depth=10, n_estimators=120, reg_alpha=0.1, reg_lambda=1e-05;, score=0.683 total time=  16.5s\n"
     ]
    },
    {
     "name": "stderr",
     "output_type": "stream",
     "text": [
      "/home/fscaccheri/.local/lib/python3.6/site-packages/xgboost/sklearn.py:1146: UserWarning: The use of label encoder in XGBClassifier is deprecated and will be removed in a future release. To remove this warning, do the following: 1) Pass option use_label_encoder=False when constructing XGBClassifier object; and 2) Encode your labels (y) as integers starting with 0, i.e. 0, 1, 2, ..., [num_class - 1].\n",
      "  warnings.warn(label_encoder_deprecation_msg, UserWarning)\n",
      "/home/fscaccheri/.local/lib/python3.6/site-packages/sklearn/utils/validation.py:63: DataConversionWarning: A column-vector y was passed when a 1d array was expected. Please change the shape of y to (n_samples, ), for example using ravel().\n",
      "  return f(*args, **kwargs)\n"
     ]
    },
    {
     "name": "stdout",
     "output_type": "stream",
     "text": [
      "[16:47:23] WARNING: ../src/learner.cc:1095: Starting in XGBoost 1.3.0, the default evaluation metric used with the objective 'multi:softprob' was changed from 'merror' to 'mlogloss'. Explicitly set eval_metric if you'd like to restore the old behavior.\n",
      "[CV 4/5] END colsample_bynode=0.3, learning_rate=0.03, max_depth=10, n_estimators=120, reg_alpha=0.1, reg_lambda=1e-05;, score=0.679 total time=  21.6s\n"
     ]
    },
    {
     "name": "stderr",
     "output_type": "stream",
     "text": [
      "/home/fscaccheri/.local/lib/python3.6/site-packages/xgboost/sklearn.py:1146: UserWarning: The use of label encoder in XGBClassifier is deprecated and will be removed in a future release. To remove this warning, do the following: 1) Pass option use_label_encoder=False when constructing XGBClassifier object; and 2) Encode your labels (y) as integers starting with 0, i.e. 0, 1, 2, ..., [num_class - 1].\n",
      "  warnings.warn(label_encoder_deprecation_msg, UserWarning)\n",
      "/home/fscaccheri/.local/lib/python3.6/site-packages/sklearn/utils/validation.py:63: DataConversionWarning: A column-vector y was passed when a 1d array was expected. Please change the shape of y to (n_samples, ), for example using ravel().\n",
      "  return f(*args, **kwargs)\n"
     ]
    },
    {
     "name": "stdout",
     "output_type": "stream",
     "text": [
      "[16:47:47] WARNING: ../src/learner.cc:1095: Starting in XGBoost 1.3.0, the default evaluation metric used with the objective 'multi:softprob' was changed from 'merror' to 'mlogloss'. Explicitly set eval_metric if you'd like to restore the old behavior.\n",
      "[CV 5/5] END colsample_bynode=0.3, learning_rate=0.03, max_depth=10, n_estimators=120, reg_alpha=0.1, reg_lambda=1e-05;, score=0.680 total time=  23.8s\n"
     ]
    },
    {
     "name": "stderr",
     "output_type": "stream",
     "text": [
      "/home/fscaccheri/.local/lib/python3.6/site-packages/xgboost/sklearn.py:1146: UserWarning: The use of label encoder in XGBClassifier is deprecated and will be removed in a future release. To remove this warning, do the following: 1) Pass option use_label_encoder=False when constructing XGBClassifier object; and 2) Encode your labels (y) as integers starting with 0, i.e. 0, 1, 2, ..., [num_class - 1].\n",
      "  warnings.warn(label_encoder_deprecation_msg, UserWarning)\n",
      "/home/fscaccheri/.local/lib/python3.6/site-packages/sklearn/utils/validation.py:63: DataConversionWarning: A column-vector y was passed when a 1d array was expected. Please change the shape of y to (n_samples, ), for example using ravel().\n",
      "  return f(*args, **kwargs)\n"
     ]
    },
    {
     "name": "stdout",
     "output_type": "stream",
     "text": [
      "[16:48:09] WARNING: ../src/learner.cc:1095: Starting in XGBoost 1.3.0, the default evaluation metric used with the objective 'multi:softprob' was changed from 'merror' to 'mlogloss'. Explicitly set eval_metric if you'd like to restore the old behavior.\n",
      "[CV 1/5] END colsample_bynode=0.3, learning_rate=0.03, max_depth=10, n_estimators=120, reg_alpha=0.1, reg_lambda=3e-05;, score=0.675 total time=  22.0s\n"
     ]
    },
    {
     "name": "stderr",
     "output_type": "stream",
     "text": [
      "/home/fscaccheri/.local/lib/python3.6/site-packages/xgboost/sklearn.py:1146: UserWarning: The use of label encoder in XGBClassifier is deprecated and will be removed in a future release. To remove this warning, do the following: 1) Pass option use_label_encoder=False when constructing XGBClassifier object; and 2) Encode your labels (y) as integers starting with 0, i.e. 0, 1, 2, ..., [num_class - 1].\n",
      "  warnings.warn(label_encoder_deprecation_msg, UserWarning)\n",
      "/home/fscaccheri/.local/lib/python3.6/site-packages/sklearn/utils/validation.py:63: DataConversionWarning: A column-vector y was passed when a 1d array was expected. Please change the shape of y to (n_samples, ), for example using ravel().\n",
      "  return f(*args, **kwargs)\n"
     ]
    },
    {
     "name": "stdout",
     "output_type": "stream",
     "text": [
      "[16:48:30] WARNING: ../src/learner.cc:1095: Starting in XGBoost 1.3.0, the default evaluation metric used with the objective 'multi:softprob' was changed from 'merror' to 'mlogloss'. Explicitly set eval_metric if you'd like to restore the old behavior.\n",
      "[CV 2/5] END colsample_bynode=0.3, learning_rate=0.03, max_depth=10, n_estimators=120, reg_alpha=0.1, reg_lambda=3e-05;, score=0.677 total time=  21.4s\n"
     ]
    },
    {
     "name": "stderr",
     "output_type": "stream",
     "text": [
      "/home/fscaccheri/.local/lib/python3.6/site-packages/xgboost/sklearn.py:1146: UserWarning: The use of label encoder in XGBClassifier is deprecated and will be removed in a future release. To remove this warning, do the following: 1) Pass option use_label_encoder=False when constructing XGBClassifier object; and 2) Encode your labels (y) as integers starting with 0, i.e. 0, 1, 2, ..., [num_class - 1].\n",
      "  warnings.warn(label_encoder_deprecation_msg, UserWarning)\n",
      "/home/fscaccheri/.local/lib/python3.6/site-packages/sklearn/utils/validation.py:63: DataConversionWarning: A column-vector y was passed when a 1d array was expected. Please change the shape of y to (n_samples, ), for example using ravel().\n",
      "  return f(*args, **kwargs)\n"
     ]
    },
    {
     "name": "stdout",
     "output_type": "stream",
     "text": [
      "[16:48:52] WARNING: ../src/learner.cc:1095: Starting in XGBoost 1.3.0, the default evaluation metric used with the objective 'multi:softprob' was changed from 'merror' to 'mlogloss'. Explicitly set eval_metric if you'd like to restore the old behavior.\n",
      "[CV 3/5] END colsample_bynode=0.3, learning_rate=0.03, max_depth=10, n_estimators=120, reg_alpha=0.1, reg_lambda=3e-05;, score=0.683 total time=  21.5s\n"
     ]
    },
    {
     "name": "stderr",
     "output_type": "stream",
     "text": [
      "/home/fscaccheri/.local/lib/python3.6/site-packages/xgboost/sklearn.py:1146: UserWarning: The use of label encoder in XGBClassifier is deprecated and will be removed in a future release. To remove this warning, do the following: 1) Pass option use_label_encoder=False when constructing XGBClassifier object; and 2) Encode your labels (y) as integers starting with 0, i.e. 0, 1, 2, ..., [num_class - 1].\n",
      "  warnings.warn(label_encoder_deprecation_msg, UserWarning)\n",
      "/home/fscaccheri/.local/lib/python3.6/site-packages/sklearn/utils/validation.py:63: DataConversionWarning: A column-vector y was passed when a 1d array was expected. Please change the shape of y to (n_samples, ), for example using ravel().\n",
      "  return f(*args, **kwargs)\n"
     ]
    },
    {
     "name": "stdout",
     "output_type": "stream",
     "text": [
      "[16:49:14] WARNING: ../src/learner.cc:1095: Starting in XGBoost 1.3.0, the default evaluation metric used with the objective 'multi:softprob' was changed from 'merror' to 'mlogloss'. Explicitly set eval_metric if you'd like to restore the old behavior.\n",
      "[CV 4/5] END colsample_bynode=0.3, learning_rate=0.03, max_depth=10, n_estimators=120, reg_alpha=0.1, reg_lambda=3e-05;, score=0.679 total time=  21.9s\n"
     ]
    },
    {
     "name": "stderr",
     "output_type": "stream",
     "text": [
      "/home/fscaccheri/.local/lib/python3.6/site-packages/xgboost/sklearn.py:1146: UserWarning: The use of label encoder in XGBClassifier is deprecated and will be removed in a future release. To remove this warning, do the following: 1) Pass option use_label_encoder=False when constructing XGBClassifier object; and 2) Encode your labels (y) as integers starting with 0, i.e. 0, 1, 2, ..., [num_class - 1].\n",
      "  warnings.warn(label_encoder_deprecation_msg, UserWarning)\n",
      "/home/fscaccheri/.local/lib/python3.6/site-packages/sklearn/utils/validation.py:63: DataConversionWarning: A column-vector y was passed when a 1d array was expected. Please change the shape of y to (n_samples, ), for example using ravel().\n",
      "  return f(*args, **kwargs)\n"
     ]
    },
    {
     "name": "stdout",
     "output_type": "stream",
     "text": [
      "[16:49:37] WARNING: ../src/learner.cc:1095: Starting in XGBoost 1.3.0, the default evaluation metric used with the objective 'multi:softprob' was changed from 'merror' to 'mlogloss'. Explicitly set eval_metric if you'd like to restore the old behavior.\n",
      "[CV 5/5] END colsample_bynode=0.3, learning_rate=0.03, max_depth=10, n_estimators=120, reg_alpha=0.1, reg_lambda=3e-05;, score=0.680 total time=  23.0s\n"
     ]
    },
    {
     "name": "stderr",
     "output_type": "stream",
     "text": [
      "/home/fscaccheri/.local/lib/python3.6/site-packages/xgboost/sklearn.py:1146: UserWarning: The use of label encoder in XGBClassifier is deprecated and will be removed in a future release. To remove this warning, do the following: 1) Pass option use_label_encoder=False when constructing XGBClassifier object; and 2) Encode your labels (y) as integers starting with 0, i.e. 0, 1, 2, ..., [num_class - 1].\n",
      "  warnings.warn(label_encoder_deprecation_msg, UserWarning)\n",
      "/home/fscaccheri/.local/lib/python3.6/site-packages/sklearn/utils/validation.py:63: DataConversionWarning: A column-vector y was passed when a 1d array was expected. Please change the shape of y to (n_samples, ), for example using ravel().\n",
      "  return f(*args, **kwargs)\n"
     ]
    },
    {
     "name": "stdout",
     "output_type": "stream",
     "text": [
      "[16:49:56] WARNING: ../src/learner.cc:1095: Starting in XGBoost 1.3.0, the default evaluation metric used with the objective 'multi:softprob' was changed from 'merror' to 'mlogloss'. Explicitly set eval_metric if you'd like to restore the old behavior.\n",
      "[CV 1/5] END colsample_bynode=0.3, learning_rate=0.03, max_depth=10, n_estimators=120, reg_alpha=0.5, reg_lambda=1e-05;, score=0.675 total time=  19.2s\n"
     ]
    },
    {
     "name": "stderr",
     "output_type": "stream",
     "text": [
      "/home/fscaccheri/.local/lib/python3.6/site-packages/xgboost/sklearn.py:1146: UserWarning: The use of label encoder in XGBClassifier is deprecated and will be removed in a future release. To remove this warning, do the following: 1) Pass option use_label_encoder=False when constructing XGBClassifier object; and 2) Encode your labels (y) as integers starting with 0, i.e. 0, 1, 2, ..., [num_class - 1].\n",
      "  warnings.warn(label_encoder_deprecation_msg, UserWarning)\n",
      "/home/fscaccheri/.local/lib/python3.6/site-packages/sklearn/utils/validation.py:63: DataConversionWarning: A column-vector y was passed when a 1d array was expected. Please change the shape of y to (n_samples, ), for example using ravel().\n",
      "  return f(*args, **kwargs)\n"
     ]
    },
    {
     "name": "stdout",
     "output_type": "stream",
     "text": [
      "[16:50:16] WARNING: ../src/learner.cc:1095: Starting in XGBoost 1.3.0, the default evaluation metric used with the objective 'multi:softprob' was changed from 'merror' to 'mlogloss'. Explicitly set eval_metric if you'd like to restore the old behavior.\n",
      "[CV 2/5] END colsample_bynode=0.3, learning_rate=0.03, max_depth=10, n_estimators=120, reg_alpha=0.5, reg_lambda=1e-05;, score=0.677 total time=  19.6s\n"
     ]
    },
    {
     "name": "stderr",
     "output_type": "stream",
     "text": [
      "/home/fscaccheri/.local/lib/python3.6/site-packages/xgboost/sklearn.py:1146: UserWarning: The use of label encoder in XGBClassifier is deprecated and will be removed in a future release. To remove this warning, do the following: 1) Pass option use_label_encoder=False when constructing XGBClassifier object; and 2) Encode your labels (y) as integers starting with 0, i.e. 0, 1, 2, ..., [num_class - 1].\n",
      "  warnings.warn(label_encoder_deprecation_msg, UserWarning)\n",
      "/home/fscaccheri/.local/lib/python3.6/site-packages/sklearn/utils/validation.py:63: DataConversionWarning: A column-vector y was passed when a 1d array was expected. Please change the shape of y to (n_samples, ), for example using ravel().\n",
      "  return f(*args, **kwargs)\n"
     ]
    },
    {
     "name": "stdout",
     "output_type": "stream",
     "text": [
      "[16:50:35] WARNING: ../src/learner.cc:1095: Starting in XGBoost 1.3.0, the default evaluation metric used with the objective 'multi:softprob' was changed from 'merror' to 'mlogloss'. Explicitly set eval_metric if you'd like to restore the old behavior.\n",
      "[CV 3/5] END colsample_bynode=0.3, learning_rate=0.03, max_depth=10, n_estimators=120, reg_alpha=0.5, reg_lambda=1e-05;, score=0.684 total time=  19.2s\n"
     ]
    },
    {
     "name": "stderr",
     "output_type": "stream",
     "text": [
      "/home/fscaccheri/.local/lib/python3.6/site-packages/xgboost/sklearn.py:1146: UserWarning: The use of label encoder in XGBClassifier is deprecated and will be removed in a future release. To remove this warning, do the following: 1) Pass option use_label_encoder=False when constructing XGBClassifier object; and 2) Encode your labels (y) as integers starting with 0, i.e. 0, 1, 2, ..., [num_class - 1].\n",
      "  warnings.warn(label_encoder_deprecation_msg, UserWarning)\n",
      "/home/fscaccheri/.local/lib/python3.6/site-packages/sklearn/utils/validation.py:63: DataConversionWarning: A column-vector y was passed when a 1d array was expected. Please change the shape of y to (n_samples, ), for example using ravel().\n",
      "  return f(*args, **kwargs)\n"
     ]
    },
    {
     "name": "stdout",
     "output_type": "stream",
     "text": [
      "[16:50:53] WARNING: ../src/learner.cc:1095: Starting in XGBoost 1.3.0, the default evaluation metric used with the objective 'multi:softprob' was changed from 'merror' to 'mlogloss'. Explicitly set eval_metric if you'd like to restore the old behavior.\n",
      "[CV 4/5] END colsample_bynode=0.3, learning_rate=0.03, max_depth=10, n_estimators=120, reg_alpha=0.5, reg_lambda=1e-05;, score=0.679 total time=  18.0s\n"
     ]
    },
    {
     "name": "stderr",
     "output_type": "stream",
     "text": [
      "/home/fscaccheri/.local/lib/python3.6/site-packages/xgboost/sklearn.py:1146: UserWarning: The use of label encoder in XGBClassifier is deprecated and will be removed in a future release. To remove this warning, do the following: 1) Pass option use_label_encoder=False when constructing XGBClassifier object; and 2) Encode your labels (y) as integers starting with 0, i.e. 0, 1, 2, ..., [num_class - 1].\n",
      "  warnings.warn(label_encoder_deprecation_msg, UserWarning)\n",
      "/home/fscaccheri/.local/lib/python3.6/site-packages/sklearn/utils/validation.py:63: DataConversionWarning: A column-vector y was passed when a 1d array was expected. Please change the shape of y to (n_samples, ), for example using ravel().\n",
      "  return f(*args, **kwargs)\n"
     ]
    },
    {
     "name": "stdout",
     "output_type": "stream",
     "text": [
      "[16:51:10] WARNING: ../src/learner.cc:1095: Starting in XGBoost 1.3.0, the default evaluation metric used with the objective 'multi:softprob' was changed from 'merror' to 'mlogloss'. Explicitly set eval_metric if you'd like to restore the old behavior.\n",
      "[CV 5/5] END colsample_bynode=0.3, learning_rate=0.03, max_depth=10, n_estimators=120, reg_alpha=0.5, reg_lambda=1e-05;, score=0.680 total time=  16.8s\n"
     ]
    },
    {
     "name": "stderr",
     "output_type": "stream",
     "text": [
      "/home/fscaccheri/.local/lib/python3.6/site-packages/xgboost/sklearn.py:1146: UserWarning: The use of label encoder in XGBClassifier is deprecated and will be removed in a future release. To remove this warning, do the following: 1) Pass option use_label_encoder=False when constructing XGBClassifier object; and 2) Encode your labels (y) as integers starting with 0, i.e. 0, 1, 2, ..., [num_class - 1].\n",
      "  warnings.warn(label_encoder_deprecation_msg, UserWarning)\n",
      "/home/fscaccheri/.local/lib/python3.6/site-packages/sklearn/utils/validation.py:63: DataConversionWarning: A column-vector y was passed when a 1d array was expected. Please change the shape of y to (n_samples, ), for example using ravel().\n",
      "  return f(*args, **kwargs)\n"
     ]
    },
    {
     "name": "stdout",
     "output_type": "stream",
     "text": [
      "[16:51:29] WARNING: ../src/learner.cc:1095: Starting in XGBoost 1.3.0, the default evaluation metric used with the objective 'multi:softprob' was changed from 'merror' to 'mlogloss'. Explicitly set eval_metric if you'd like to restore the old behavior.\n",
      "[CV 1/5] END colsample_bynode=0.3, learning_rate=0.03, max_depth=10, n_estimators=120, reg_alpha=0.5, reg_lambda=3e-05;, score=0.675 total time=  19.6s\n"
     ]
    },
    {
     "name": "stderr",
     "output_type": "stream",
     "text": [
      "/home/fscaccheri/.local/lib/python3.6/site-packages/xgboost/sklearn.py:1146: UserWarning: The use of label encoder in XGBClassifier is deprecated and will be removed in a future release. To remove this warning, do the following: 1) Pass option use_label_encoder=False when constructing XGBClassifier object; and 2) Encode your labels (y) as integers starting with 0, i.e. 0, 1, 2, ..., [num_class - 1].\n",
      "  warnings.warn(label_encoder_deprecation_msg, UserWarning)\n",
      "/home/fscaccheri/.local/lib/python3.6/site-packages/sklearn/utils/validation.py:63: DataConversionWarning: A column-vector y was passed when a 1d array was expected. Please change the shape of y to (n_samples, ), for example using ravel().\n",
      "  return f(*args, **kwargs)\n"
     ]
    },
    {
     "name": "stdout",
     "output_type": "stream",
     "text": [
      "[16:51:49] WARNING: ../src/learner.cc:1095: Starting in XGBoost 1.3.0, the default evaluation metric used with the objective 'multi:softprob' was changed from 'merror' to 'mlogloss'. Explicitly set eval_metric if you'd like to restore the old behavior.\n",
      "[CV 2/5] END colsample_bynode=0.3, learning_rate=0.03, max_depth=10, n_estimators=120, reg_alpha=0.5, reg_lambda=3e-05;, score=0.677 total time=  19.3s\n"
     ]
    },
    {
     "name": "stderr",
     "output_type": "stream",
     "text": [
      "/home/fscaccheri/.local/lib/python3.6/site-packages/xgboost/sklearn.py:1146: UserWarning: The use of label encoder in XGBClassifier is deprecated and will be removed in a future release. To remove this warning, do the following: 1) Pass option use_label_encoder=False when constructing XGBClassifier object; and 2) Encode your labels (y) as integers starting with 0, i.e. 0, 1, 2, ..., [num_class - 1].\n",
      "  warnings.warn(label_encoder_deprecation_msg, UserWarning)\n",
      "/home/fscaccheri/.local/lib/python3.6/site-packages/sklearn/utils/validation.py:63: DataConversionWarning: A column-vector y was passed when a 1d array was expected. Please change the shape of y to (n_samples, ), for example using ravel().\n",
      "  return f(*args, **kwargs)\n"
     ]
    },
    {
     "name": "stdout",
     "output_type": "stream",
     "text": [
      "[16:52:07] WARNING: ../src/learner.cc:1095: Starting in XGBoost 1.3.0, the default evaluation metric used with the objective 'multi:softprob' was changed from 'merror' to 'mlogloss'. Explicitly set eval_metric if you'd like to restore the old behavior.\n",
      "[CV 3/5] END colsample_bynode=0.3, learning_rate=0.03, max_depth=10, n_estimators=120, reg_alpha=0.5, reg_lambda=3e-05;, score=0.684 total time=  17.9s\n"
     ]
    },
    {
     "name": "stderr",
     "output_type": "stream",
     "text": [
      "/home/fscaccheri/.local/lib/python3.6/site-packages/xgboost/sklearn.py:1146: UserWarning: The use of label encoder in XGBClassifier is deprecated and will be removed in a future release. To remove this warning, do the following: 1) Pass option use_label_encoder=False when constructing XGBClassifier object; and 2) Encode your labels (y) as integers starting with 0, i.e. 0, 1, 2, ..., [num_class - 1].\n",
      "  warnings.warn(label_encoder_deprecation_msg, UserWarning)\n",
      "/home/fscaccheri/.local/lib/python3.6/site-packages/sklearn/utils/validation.py:63: DataConversionWarning: A column-vector y was passed when a 1d array was expected. Please change the shape of y to (n_samples, ), for example using ravel().\n",
      "  return f(*args, **kwargs)\n"
     ]
    },
    {
     "name": "stdout",
     "output_type": "stream",
     "text": [
      "[16:52:26] WARNING: ../src/learner.cc:1095: Starting in XGBoost 1.3.0, the default evaluation metric used with the objective 'multi:softprob' was changed from 'merror' to 'mlogloss'. Explicitly set eval_metric if you'd like to restore the old behavior.\n",
      "[CV 4/5] END colsample_bynode=0.3, learning_rate=0.03, max_depth=10, n_estimators=120, reg_alpha=0.5, reg_lambda=3e-05;, score=0.679 total time=  19.0s\n"
     ]
    },
    {
     "name": "stderr",
     "output_type": "stream",
     "text": [
      "/home/fscaccheri/.local/lib/python3.6/site-packages/xgboost/sklearn.py:1146: UserWarning: The use of label encoder in XGBClassifier is deprecated and will be removed in a future release. To remove this warning, do the following: 1) Pass option use_label_encoder=False when constructing XGBClassifier object; and 2) Encode your labels (y) as integers starting with 0, i.e. 0, 1, 2, ..., [num_class - 1].\n",
      "  warnings.warn(label_encoder_deprecation_msg, UserWarning)\n",
      "/home/fscaccheri/.local/lib/python3.6/site-packages/sklearn/utils/validation.py:63: DataConversionWarning: A column-vector y was passed when a 1d array was expected. Please change the shape of y to (n_samples, ), for example using ravel().\n",
      "  return f(*args, **kwargs)\n"
     ]
    },
    {
     "name": "stdout",
     "output_type": "stream",
     "text": [
      "[16:52:45] WARNING: ../src/learner.cc:1095: Starting in XGBoost 1.3.0, the default evaluation metric used with the objective 'multi:softprob' was changed from 'merror' to 'mlogloss'. Explicitly set eval_metric if you'd like to restore the old behavior.\n",
      "[CV 5/5] END colsample_bynode=0.3, learning_rate=0.03, max_depth=10, n_estimators=120, reg_alpha=0.5, reg_lambda=3e-05;, score=0.680 total time=  19.4s\n"
     ]
    },
    {
     "name": "stderr",
     "output_type": "stream",
     "text": [
      "/home/fscaccheri/.local/lib/python3.6/site-packages/xgboost/sklearn.py:1146: UserWarning: The use of label encoder in XGBClassifier is deprecated and will be removed in a future release. To remove this warning, do the following: 1) Pass option use_label_encoder=False when constructing XGBClassifier object; and 2) Encode your labels (y) as integers starting with 0, i.e. 0, 1, 2, ..., [num_class - 1].\n",
      "  warnings.warn(label_encoder_deprecation_msg, UserWarning)\n",
      "/home/fscaccheri/.local/lib/python3.6/site-packages/sklearn/utils/validation.py:63: DataConversionWarning: A column-vector y was passed when a 1d array was expected. Please change the shape of y to (n_samples, ), for example using ravel().\n",
      "  return f(*args, **kwargs)\n"
     ]
    },
    {
     "name": "stdout",
     "output_type": "stream",
     "text": [
      "[16:53:11] WARNING: ../src/learner.cc:1095: Starting in XGBoost 1.3.0, the default evaluation metric used with the objective 'multi:softprob' was changed from 'merror' to 'mlogloss'. Explicitly set eval_metric if you'd like to restore the old behavior.\n",
      "[CV 1/5] END colsample_bynode=0.3, learning_rate=0.03, max_depth=15, n_estimators=100, reg_alpha=0.1, reg_lambda=1e-05;, score=0.707 total time=  29.5s\n"
     ]
    },
    {
     "name": "stderr",
     "output_type": "stream",
     "text": [
      "/home/fscaccheri/.local/lib/python3.6/site-packages/xgboost/sklearn.py:1146: UserWarning: The use of label encoder in XGBClassifier is deprecated and will be removed in a future release. To remove this warning, do the following: 1) Pass option use_label_encoder=False when constructing XGBClassifier object; and 2) Encode your labels (y) as integers starting with 0, i.e. 0, 1, 2, ..., [num_class - 1].\n",
      "  warnings.warn(label_encoder_deprecation_msg, UserWarning)\n",
      "/home/fscaccheri/.local/lib/python3.6/site-packages/sklearn/utils/validation.py:63: DataConversionWarning: A column-vector y was passed when a 1d array was expected. Please change the shape of y to (n_samples, ), for example using ravel().\n",
      "  return f(*args, **kwargs)\n"
     ]
    },
    {
     "name": "stdout",
     "output_type": "stream",
     "text": [
      "[16:53:43] WARNING: ../src/learner.cc:1095: Starting in XGBoost 1.3.0, the default evaluation metric used with the objective 'multi:softprob' was changed from 'merror' to 'mlogloss'. Explicitly set eval_metric if you'd like to restore the old behavior.\n",
      "[CV 2/5] END colsample_bynode=0.3, learning_rate=0.03, max_depth=15, n_estimators=100, reg_alpha=0.1, reg_lambda=1e-05;, score=0.706 total time=  31.3s\n"
     ]
    },
    {
     "name": "stderr",
     "output_type": "stream",
     "text": [
      "/home/fscaccheri/.local/lib/python3.6/site-packages/xgboost/sklearn.py:1146: UserWarning: The use of label encoder in XGBClassifier is deprecated and will be removed in a future release. To remove this warning, do the following: 1) Pass option use_label_encoder=False when constructing XGBClassifier object; and 2) Encode your labels (y) as integers starting with 0, i.e. 0, 1, 2, ..., [num_class - 1].\n",
      "  warnings.warn(label_encoder_deprecation_msg, UserWarning)\n",
      "/home/fscaccheri/.local/lib/python3.6/site-packages/sklearn/utils/validation.py:63: DataConversionWarning: A column-vector y was passed when a 1d array was expected. Please change the shape of y to (n_samples, ), for example using ravel().\n",
      "  return f(*args, **kwargs)\n"
     ]
    },
    {
     "name": "stdout",
     "output_type": "stream",
     "text": [
      "[16:54:14] WARNING: ../src/learner.cc:1095: Starting in XGBoost 1.3.0, the default evaluation metric used with the objective 'multi:softprob' was changed from 'merror' to 'mlogloss'. Explicitly set eval_metric if you'd like to restore the old behavior.\n",
      "[CV 3/5] END colsample_bynode=0.3, learning_rate=0.03, max_depth=15, n_estimators=100, reg_alpha=0.1, reg_lambda=1e-05;, score=0.715 total time=  31.8s\n"
     ]
    },
    {
     "name": "stderr",
     "output_type": "stream",
     "text": [
      "/home/fscaccheri/.local/lib/python3.6/site-packages/xgboost/sklearn.py:1146: UserWarning: The use of label encoder in XGBClassifier is deprecated and will be removed in a future release. To remove this warning, do the following: 1) Pass option use_label_encoder=False when constructing XGBClassifier object; and 2) Encode your labels (y) as integers starting with 0, i.e. 0, 1, 2, ..., [num_class - 1].\n",
      "  warnings.warn(label_encoder_deprecation_msg, UserWarning)\n",
      "/home/fscaccheri/.local/lib/python3.6/site-packages/sklearn/utils/validation.py:63: DataConversionWarning: A column-vector y was passed when a 1d array was expected. Please change the shape of y to (n_samples, ), for example using ravel().\n",
      "  return f(*args, **kwargs)\n"
     ]
    },
    {
     "name": "stdout",
     "output_type": "stream",
     "text": [
      "[16:54:45] WARNING: ../src/learner.cc:1095: Starting in XGBoost 1.3.0, the default evaluation metric used with the objective 'multi:softprob' was changed from 'merror' to 'mlogloss'. Explicitly set eval_metric if you'd like to restore the old behavior.\n",
      "[CV 4/5] END colsample_bynode=0.3, learning_rate=0.03, max_depth=15, n_estimators=100, reg_alpha=0.1, reg_lambda=1e-05;, score=0.710 total time=  30.4s\n"
     ]
    },
    {
     "name": "stderr",
     "output_type": "stream",
     "text": [
      "/home/fscaccheri/.local/lib/python3.6/site-packages/xgboost/sklearn.py:1146: UserWarning: The use of label encoder in XGBClassifier is deprecated and will be removed in a future release. To remove this warning, do the following: 1) Pass option use_label_encoder=False when constructing XGBClassifier object; and 2) Encode your labels (y) as integers starting with 0, i.e. 0, 1, 2, ..., [num_class - 1].\n",
      "  warnings.warn(label_encoder_deprecation_msg, UserWarning)\n",
      "/home/fscaccheri/.local/lib/python3.6/site-packages/sklearn/utils/validation.py:63: DataConversionWarning: A column-vector y was passed when a 1d array was expected. Please change the shape of y to (n_samples, ), for example using ravel().\n",
      "  return f(*args, **kwargs)\n"
     ]
    },
    {
     "name": "stdout",
     "output_type": "stream",
     "text": [
      "[16:55:14] WARNING: ../src/learner.cc:1095: Starting in XGBoost 1.3.0, the default evaluation metric used with the objective 'multi:softprob' was changed from 'merror' to 'mlogloss'. Explicitly set eval_metric if you'd like to restore the old behavior.\n",
      "[CV 5/5] END colsample_bynode=0.3, learning_rate=0.03, max_depth=15, n_estimators=100, reg_alpha=0.1, reg_lambda=1e-05;, score=0.711 total time=  29.2s\n"
     ]
    },
    {
     "name": "stderr",
     "output_type": "stream",
     "text": [
      "/home/fscaccheri/.local/lib/python3.6/site-packages/xgboost/sklearn.py:1146: UserWarning: The use of label encoder in XGBClassifier is deprecated and will be removed in a future release. To remove this warning, do the following: 1) Pass option use_label_encoder=False when constructing XGBClassifier object; and 2) Encode your labels (y) as integers starting with 0, i.e. 0, 1, 2, ..., [num_class - 1].\n",
      "  warnings.warn(label_encoder_deprecation_msg, UserWarning)\n",
      "/home/fscaccheri/.local/lib/python3.6/site-packages/sklearn/utils/validation.py:63: DataConversionWarning: A column-vector y was passed when a 1d array was expected. Please change the shape of y to (n_samples, ), for example using ravel().\n",
      "  return f(*args, **kwargs)\n"
     ]
    },
    {
     "name": "stdout",
     "output_type": "stream",
     "text": [
      "[16:55:45] WARNING: ../src/learner.cc:1095: Starting in XGBoost 1.3.0, the default evaluation metric used with the objective 'multi:softprob' was changed from 'merror' to 'mlogloss'. Explicitly set eval_metric if you'd like to restore the old behavior.\n",
      "[CV 1/5] END colsample_bynode=0.3, learning_rate=0.03, max_depth=15, n_estimators=100, reg_alpha=0.1, reg_lambda=3e-05;, score=0.707 total time=  30.6s\n"
     ]
    },
    {
     "name": "stderr",
     "output_type": "stream",
     "text": [
      "/home/fscaccheri/.local/lib/python3.6/site-packages/xgboost/sklearn.py:1146: UserWarning: The use of label encoder in XGBClassifier is deprecated and will be removed in a future release. To remove this warning, do the following: 1) Pass option use_label_encoder=False when constructing XGBClassifier object; and 2) Encode your labels (y) as integers starting with 0, i.e. 0, 1, 2, ..., [num_class - 1].\n",
      "  warnings.warn(label_encoder_deprecation_msg, UserWarning)\n",
      "/home/fscaccheri/.local/lib/python3.6/site-packages/sklearn/utils/validation.py:63: DataConversionWarning: A column-vector y was passed when a 1d array was expected. Please change the shape of y to (n_samples, ), for example using ravel().\n",
      "  return f(*args, **kwargs)\n"
     ]
    },
    {
     "name": "stdout",
     "output_type": "stream",
     "text": [
      "[16:56:20] WARNING: ../src/learner.cc:1095: Starting in XGBoost 1.3.0, the default evaluation metric used with the objective 'multi:softprob' was changed from 'merror' to 'mlogloss'. Explicitly set eval_metric if you'd like to restore the old behavior.\n",
      "[CV 2/5] END colsample_bynode=0.3, learning_rate=0.03, max_depth=15, n_estimators=100, reg_alpha=0.1, reg_lambda=3e-05;, score=0.706 total time=  36.0s\n"
     ]
    },
    {
     "name": "stderr",
     "output_type": "stream",
     "text": [
      "/home/fscaccheri/.local/lib/python3.6/site-packages/xgboost/sklearn.py:1146: UserWarning: The use of label encoder in XGBClassifier is deprecated and will be removed in a future release. To remove this warning, do the following: 1) Pass option use_label_encoder=False when constructing XGBClassifier object; and 2) Encode your labels (y) as integers starting with 0, i.e. 0, 1, 2, ..., [num_class - 1].\n",
      "  warnings.warn(label_encoder_deprecation_msg, UserWarning)\n",
      "/home/fscaccheri/.local/lib/python3.6/site-packages/sklearn/utils/validation.py:63: DataConversionWarning: A column-vector y was passed when a 1d array was expected. Please change the shape of y to (n_samples, ), for example using ravel().\n",
      "  return f(*args, **kwargs)\n"
     ]
    },
    {
     "name": "stdout",
     "output_type": "stream",
     "text": [
      "[16:56:56] WARNING: ../src/learner.cc:1095: Starting in XGBoost 1.3.0, the default evaluation metric used with the objective 'multi:softprob' was changed from 'merror' to 'mlogloss'. Explicitly set eval_metric if you'd like to restore the old behavior.\n",
      "[CV 3/5] END colsample_bynode=0.3, learning_rate=0.03, max_depth=15, n_estimators=100, reg_alpha=0.1, reg_lambda=3e-05;, score=0.715 total time=  35.0s\n"
     ]
    },
    {
     "name": "stderr",
     "output_type": "stream",
     "text": [
      "/home/fscaccheri/.local/lib/python3.6/site-packages/xgboost/sklearn.py:1146: UserWarning: The use of label encoder in XGBClassifier is deprecated and will be removed in a future release. To remove this warning, do the following: 1) Pass option use_label_encoder=False when constructing XGBClassifier object; and 2) Encode your labels (y) as integers starting with 0, i.e. 0, 1, 2, ..., [num_class - 1].\n",
      "  warnings.warn(label_encoder_deprecation_msg, UserWarning)\n",
      "/home/fscaccheri/.local/lib/python3.6/site-packages/sklearn/utils/validation.py:63: DataConversionWarning: A column-vector y was passed when a 1d array was expected. Please change the shape of y to (n_samples, ), for example using ravel().\n",
      "  return f(*args, **kwargs)\n"
     ]
    },
    {
     "name": "stdout",
     "output_type": "stream",
     "text": [
      "[16:57:24] WARNING: ../src/learner.cc:1095: Starting in XGBoost 1.3.0, the default evaluation metric used with the objective 'multi:softprob' was changed from 'merror' to 'mlogloss'. Explicitly set eval_metric if you'd like to restore the old behavior.\n",
      "[CV 4/5] END colsample_bynode=0.3, learning_rate=0.03, max_depth=15, n_estimators=100, reg_alpha=0.1, reg_lambda=3e-05;, score=0.710 total time=  28.7s\n"
     ]
    },
    {
     "name": "stderr",
     "output_type": "stream",
     "text": [
      "/home/fscaccheri/.local/lib/python3.6/site-packages/xgboost/sklearn.py:1146: UserWarning: The use of label encoder in XGBClassifier is deprecated and will be removed in a future release. To remove this warning, do the following: 1) Pass option use_label_encoder=False when constructing XGBClassifier object; and 2) Encode your labels (y) as integers starting with 0, i.e. 0, 1, 2, ..., [num_class - 1].\n",
      "  warnings.warn(label_encoder_deprecation_msg, UserWarning)\n",
      "/home/fscaccheri/.local/lib/python3.6/site-packages/sklearn/utils/validation.py:63: DataConversionWarning: A column-vector y was passed when a 1d array was expected. Please change the shape of y to (n_samples, ), for example using ravel().\n",
      "  return f(*args, **kwargs)\n"
     ]
    },
    {
     "name": "stdout",
     "output_type": "stream",
     "text": [
      "[16:57:55] WARNING: ../src/learner.cc:1095: Starting in XGBoost 1.3.0, the default evaluation metric used with the objective 'multi:softprob' was changed from 'merror' to 'mlogloss'. Explicitly set eval_metric if you'd like to restore the old behavior.\n",
      "[CV 5/5] END colsample_bynode=0.3, learning_rate=0.03, max_depth=15, n_estimators=100, reg_alpha=0.1, reg_lambda=3e-05;, score=0.711 total time=  30.9s\n"
     ]
    },
    {
     "name": "stderr",
     "output_type": "stream",
     "text": [
      "/home/fscaccheri/.local/lib/python3.6/site-packages/xgboost/sklearn.py:1146: UserWarning: The use of label encoder in XGBClassifier is deprecated and will be removed in a future release. To remove this warning, do the following: 1) Pass option use_label_encoder=False when constructing XGBClassifier object; and 2) Encode your labels (y) as integers starting with 0, i.e. 0, 1, 2, ..., [num_class - 1].\n",
      "  warnings.warn(label_encoder_deprecation_msg, UserWarning)\n",
      "/home/fscaccheri/.local/lib/python3.6/site-packages/sklearn/utils/validation.py:63: DataConversionWarning: A column-vector y was passed when a 1d array was expected. Please change the shape of y to (n_samples, ), for example using ravel().\n",
      "  return f(*args, **kwargs)\n"
     ]
    },
    {
     "name": "stdout",
     "output_type": "stream",
     "text": [
      "[16:58:26] WARNING: ../src/learner.cc:1095: Starting in XGBoost 1.3.0, the default evaluation metric used with the objective 'multi:softprob' was changed from 'merror' to 'mlogloss'. Explicitly set eval_metric if you'd like to restore the old behavior.\n",
      "[CV 1/5] END colsample_bynode=0.3, learning_rate=0.03, max_depth=15, n_estimators=100, reg_alpha=0.5, reg_lambda=1e-05;, score=0.705 total time=  29.7s\n"
     ]
    },
    {
     "name": "stderr",
     "output_type": "stream",
     "text": [
      "/home/fscaccheri/.local/lib/python3.6/site-packages/xgboost/sklearn.py:1146: UserWarning: The use of label encoder in XGBClassifier is deprecated and will be removed in a future release. To remove this warning, do the following: 1) Pass option use_label_encoder=False when constructing XGBClassifier object; and 2) Encode your labels (y) as integers starting with 0, i.e. 0, 1, 2, ..., [num_class - 1].\n",
      "  warnings.warn(label_encoder_deprecation_msg, UserWarning)\n",
      "/home/fscaccheri/.local/lib/python3.6/site-packages/sklearn/utils/validation.py:63: DataConversionWarning: A column-vector y was passed when a 1d array was expected. Please change the shape of y to (n_samples, ), for example using ravel().\n",
      "  return f(*args, **kwargs)\n"
     ]
    },
    {
     "name": "stdout",
     "output_type": "stream",
     "text": [
      "[16:58:55] WARNING: ../src/learner.cc:1095: Starting in XGBoost 1.3.0, the default evaluation metric used with the objective 'multi:softprob' was changed from 'merror' to 'mlogloss'. Explicitly set eval_metric if you'd like to restore the old behavior.\n",
      "[CV 2/5] END colsample_bynode=0.3, learning_rate=0.03, max_depth=15, n_estimators=100, reg_alpha=0.5, reg_lambda=1e-05;, score=0.706 total time=  29.3s\n"
     ]
    },
    {
     "name": "stderr",
     "output_type": "stream",
     "text": [
      "/home/fscaccheri/.local/lib/python3.6/site-packages/xgboost/sklearn.py:1146: UserWarning: The use of label encoder in XGBClassifier is deprecated and will be removed in a future release. To remove this warning, do the following: 1) Pass option use_label_encoder=False when constructing XGBClassifier object; and 2) Encode your labels (y) as integers starting with 0, i.e. 0, 1, 2, ..., [num_class - 1].\n",
      "  warnings.warn(label_encoder_deprecation_msg, UserWarning)\n",
      "/home/fscaccheri/.local/lib/python3.6/site-packages/sklearn/utils/validation.py:63: DataConversionWarning: A column-vector y was passed when a 1d array was expected. Please change the shape of y to (n_samples, ), for example using ravel().\n",
      "  return f(*args, **kwargs)\n"
     ]
    },
    {
     "name": "stdout",
     "output_type": "stream",
     "text": [
      "[16:59:25] WARNING: ../src/learner.cc:1095: Starting in XGBoost 1.3.0, the default evaluation metric used with the objective 'multi:softprob' was changed from 'merror' to 'mlogloss'. Explicitly set eval_metric if you'd like to restore the old behavior.\n",
      "[CV 3/5] END colsample_bynode=0.3, learning_rate=0.03, max_depth=15, n_estimators=100, reg_alpha=0.5, reg_lambda=1e-05;, score=0.715 total time=  29.4s\n"
     ]
    },
    {
     "name": "stderr",
     "output_type": "stream",
     "text": [
      "/home/fscaccheri/.local/lib/python3.6/site-packages/xgboost/sklearn.py:1146: UserWarning: The use of label encoder in XGBClassifier is deprecated and will be removed in a future release. To remove this warning, do the following: 1) Pass option use_label_encoder=False when constructing XGBClassifier object; and 2) Encode your labels (y) as integers starting with 0, i.e. 0, 1, 2, ..., [num_class - 1].\n",
      "  warnings.warn(label_encoder_deprecation_msg, UserWarning)\n",
      "/home/fscaccheri/.local/lib/python3.6/site-packages/sklearn/utils/validation.py:63: DataConversionWarning: A column-vector y was passed when a 1d array was expected. Please change the shape of y to (n_samples, ), for example using ravel().\n",
      "  return f(*args, **kwargs)\n"
     ]
    },
    {
     "name": "stdout",
     "output_type": "stream",
     "text": [
      "[16:59:53] WARNING: ../src/learner.cc:1095: Starting in XGBoost 1.3.0, the default evaluation metric used with the objective 'multi:softprob' was changed from 'merror' to 'mlogloss'. Explicitly set eval_metric if you'd like to restore the old behavior.\n",
      "[CV 4/5] END colsample_bynode=0.3, learning_rate=0.03, max_depth=15, n_estimators=100, reg_alpha=0.5, reg_lambda=1e-05;, score=0.709 total time=  28.4s\n"
     ]
    },
    {
     "name": "stderr",
     "output_type": "stream",
     "text": [
      "/home/fscaccheri/.local/lib/python3.6/site-packages/xgboost/sklearn.py:1146: UserWarning: The use of label encoder in XGBClassifier is deprecated and will be removed in a future release. To remove this warning, do the following: 1) Pass option use_label_encoder=False when constructing XGBClassifier object; and 2) Encode your labels (y) as integers starting with 0, i.e. 0, 1, 2, ..., [num_class - 1].\n",
      "  warnings.warn(label_encoder_deprecation_msg, UserWarning)\n",
      "/home/fscaccheri/.local/lib/python3.6/site-packages/sklearn/utils/validation.py:63: DataConversionWarning: A column-vector y was passed when a 1d array was expected. Please change the shape of y to (n_samples, ), for example using ravel().\n",
      "  return f(*args, **kwargs)\n"
     ]
    },
    {
     "name": "stdout",
     "output_type": "stream",
     "text": [
      "[17:00:24] WARNING: ../src/learner.cc:1095: Starting in XGBoost 1.3.0, the default evaluation metric used with the objective 'multi:softprob' was changed from 'merror' to 'mlogloss'. Explicitly set eval_metric if you'd like to restore the old behavior.\n",
      "[CV 5/5] END colsample_bynode=0.3, learning_rate=0.03, max_depth=15, n_estimators=100, reg_alpha=0.5, reg_lambda=1e-05;, score=0.710 total time=  31.4s\n"
     ]
    },
    {
     "name": "stderr",
     "output_type": "stream",
     "text": [
      "/home/fscaccheri/.local/lib/python3.6/site-packages/xgboost/sklearn.py:1146: UserWarning: The use of label encoder in XGBClassifier is deprecated and will be removed in a future release. To remove this warning, do the following: 1) Pass option use_label_encoder=False when constructing XGBClassifier object; and 2) Encode your labels (y) as integers starting with 0, i.e. 0, 1, 2, ..., [num_class - 1].\n",
      "  warnings.warn(label_encoder_deprecation_msg, UserWarning)\n",
      "/home/fscaccheri/.local/lib/python3.6/site-packages/sklearn/utils/validation.py:63: DataConversionWarning: A column-vector y was passed when a 1d array was expected. Please change the shape of y to (n_samples, ), for example using ravel().\n",
      "  return f(*args, **kwargs)\n"
     ]
    },
    {
     "name": "stdout",
     "output_type": "stream",
     "text": [
      "[17:00:54] WARNING: ../src/learner.cc:1095: Starting in XGBoost 1.3.0, the default evaluation metric used with the objective 'multi:softprob' was changed from 'merror' to 'mlogloss'. Explicitly set eval_metric if you'd like to restore the old behavior.\n",
      "[CV 1/5] END colsample_bynode=0.3, learning_rate=0.03, max_depth=15, n_estimators=100, reg_alpha=0.5, reg_lambda=3e-05;, score=0.705 total time=  30.1s\n"
     ]
    },
    {
     "name": "stderr",
     "output_type": "stream",
     "text": [
      "/home/fscaccheri/.local/lib/python3.6/site-packages/xgboost/sklearn.py:1146: UserWarning: The use of label encoder in XGBClassifier is deprecated and will be removed in a future release. To remove this warning, do the following: 1) Pass option use_label_encoder=False when constructing XGBClassifier object; and 2) Encode your labels (y) as integers starting with 0, i.e. 0, 1, 2, ..., [num_class - 1].\n",
      "  warnings.warn(label_encoder_deprecation_msg, UserWarning)\n",
      "/home/fscaccheri/.local/lib/python3.6/site-packages/sklearn/utils/validation.py:63: DataConversionWarning: A column-vector y was passed when a 1d array was expected. Please change the shape of y to (n_samples, ), for example using ravel().\n",
      "  return f(*args, **kwargs)\n"
     ]
    },
    {
     "name": "stdout",
     "output_type": "stream",
     "text": [
      "[17:01:24] WARNING: ../src/learner.cc:1095: Starting in XGBoost 1.3.0, the default evaluation metric used with the objective 'multi:softprob' was changed from 'merror' to 'mlogloss'. Explicitly set eval_metric if you'd like to restore the old behavior.\n",
      "[CV 2/5] END colsample_bynode=0.3, learning_rate=0.03, max_depth=15, n_estimators=100, reg_alpha=0.5, reg_lambda=3e-05;, score=0.706 total time=  29.8s\n"
     ]
    },
    {
     "name": "stderr",
     "output_type": "stream",
     "text": [
      "/home/fscaccheri/.local/lib/python3.6/site-packages/xgboost/sklearn.py:1146: UserWarning: The use of label encoder in XGBClassifier is deprecated and will be removed in a future release. To remove this warning, do the following: 1) Pass option use_label_encoder=False when constructing XGBClassifier object; and 2) Encode your labels (y) as integers starting with 0, i.e. 0, 1, 2, ..., [num_class - 1].\n",
      "  warnings.warn(label_encoder_deprecation_msg, UserWarning)\n",
      "/home/fscaccheri/.local/lib/python3.6/site-packages/sklearn/utils/validation.py:63: DataConversionWarning: A column-vector y was passed when a 1d array was expected. Please change the shape of y to (n_samples, ), for example using ravel().\n",
      "  return f(*args, **kwargs)\n"
     ]
    },
    {
     "name": "stdout",
     "output_type": "stream",
     "text": [
      "[17:01:56] WARNING: ../src/learner.cc:1095: Starting in XGBoost 1.3.0, the default evaluation metric used with the objective 'multi:softprob' was changed from 'merror' to 'mlogloss'. Explicitly set eval_metric if you'd like to restore the old behavior.\n",
      "[CV 3/5] END colsample_bynode=0.3, learning_rate=0.03, max_depth=15, n_estimators=100, reg_alpha=0.5, reg_lambda=3e-05;, score=0.715 total time=  31.6s\n"
     ]
    },
    {
     "name": "stderr",
     "output_type": "stream",
     "text": [
      "/home/fscaccheri/.local/lib/python3.6/site-packages/xgboost/sklearn.py:1146: UserWarning: The use of label encoder in XGBClassifier is deprecated and will be removed in a future release. To remove this warning, do the following: 1) Pass option use_label_encoder=False when constructing XGBClassifier object; and 2) Encode your labels (y) as integers starting with 0, i.e. 0, 1, 2, ..., [num_class - 1].\n",
      "  warnings.warn(label_encoder_deprecation_msg, UserWarning)\n",
      "/home/fscaccheri/.local/lib/python3.6/site-packages/sklearn/utils/validation.py:63: DataConversionWarning: A column-vector y was passed when a 1d array was expected. Please change the shape of y to (n_samples, ), for example using ravel().\n",
      "  return f(*args, **kwargs)\n"
     ]
    },
    {
     "name": "stdout",
     "output_type": "stream",
     "text": [
      "[17:02:33] WARNING: ../src/learner.cc:1095: Starting in XGBoost 1.3.0, the default evaluation metric used with the objective 'multi:softprob' was changed from 'merror' to 'mlogloss'. Explicitly set eval_metric if you'd like to restore the old behavior.\n",
      "[CV 4/5] END colsample_bynode=0.3, learning_rate=0.03, max_depth=15, n_estimators=100, reg_alpha=0.5, reg_lambda=3e-05;, score=0.709 total time=  37.2s\n"
     ]
    },
    {
     "name": "stderr",
     "output_type": "stream",
     "text": [
      "/home/fscaccheri/.local/lib/python3.6/site-packages/xgboost/sklearn.py:1146: UserWarning: The use of label encoder in XGBClassifier is deprecated and will be removed in a future release. To remove this warning, do the following: 1) Pass option use_label_encoder=False when constructing XGBClassifier object; and 2) Encode your labels (y) as integers starting with 0, i.e. 0, 1, 2, ..., [num_class - 1].\n",
      "  warnings.warn(label_encoder_deprecation_msg, UserWarning)\n",
      "/home/fscaccheri/.local/lib/python3.6/site-packages/sklearn/utils/validation.py:63: DataConversionWarning: A column-vector y was passed when a 1d array was expected. Please change the shape of y to (n_samples, ), for example using ravel().\n",
      "  return f(*args, **kwargs)\n"
     ]
    },
    {
     "name": "stdout",
     "output_type": "stream",
     "text": [
      "[17:03:04] WARNING: ../src/learner.cc:1095: Starting in XGBoost 1.3.0, the default evaluation metric used with the objective 'multi:softprob' was changed from 'merror' to 'mlogloss'. Explicitly set eval_metric if you'd like to restore the old behavior.\n",
      "[CV 5/5] END colsample_bynode=0.3, learning_rate=0.03, max_depth=15, n_estimators=100, reg_alpha=0.5, reg_lambda=3e-05;, score=0.710 total time=  30.8s\n"
     ]
    },
    {
     "name": "stderr",
     "output_type": "stream",
     "text": [
      "/home/fscaccheri/.local/lib/python3.6/site-packages/xgboost/sklearn.py:1146: UserWarning: The use of label encoder in XGBClassifier is deprecated and will be removed in a future release. To remove this warning, do the following: 1) Pass option use_label_encoder=False when constructing XGBClassifier object; and 2) Encode your labels (y) as integers starting with 0, i.e. 0, 1, 2, ..., [num_class - 1].\n",
      "  warnings.warn(label_encoder_deprecation_msg, UserWarning)\n",
      "/home/fscaccheri/.local/lib/python3.6/site-packages/sklearn/utils/validation.py:63: DataConversionWarning: A column-vector y was passed when a 1d array was expected. Please change the shape of y to (n_samples, ), for example using ravel().\n",
      "  return f(*args, **kwargs)\n"
     ]
    },
    {
     "name": "stdout",
     "output_type": "stream",
     "text": [
      "[17:03:35] WARNING: ../src/learner.cc:1095: Starting in XGBoost 1.3.0, the default evaluation metric used with the objective 'multi:softprob' was changed from 'merror' to 'mlogloss'. Explicitly set eval_metric if you'd like to restore the old behavior.\n",
      "[CV 1/5] END colsample_bynode=0.3, learning_rate=0.03, max_depth=15, n_estimators=120, reg_alpha=0.1, reg_lambda=1e-05;, score=0.707 total time=  33.4s\n"
     ]
    },
    {
     "name": "stderr",
     "output_type": "stream",
     "text": [
      "/home/fscaccheri/.local/lib/python3.6/site-packages/xgboost/sklearn.py:1146: UserWarning: The use of label encoder in XGBClassifier is deprecated and will be removed in a future release. To remove this warning, do the following: 1) Pass option use_label_encoder=False when constructing XGBClassifier object; and 2) Encode your labels (y) as integers starting with 0, i.e. 0, 1, 2, ..., [num_class - 1].\n",
      "  warnings.warn(label_encoder_deprecation_msg, UserWarning)\n",
      "/home/fscaccheri/.local/lib/python3.6/site-packages/sklearn/utils/validation.py:63: DataConversionWarning: A column-vector y was passed when a 1d array was expected. Please change the shape of y to (n_samples, ), for example using ravel().\n",
      "  return f(*args, **kwargs)\n"
     ]
    },
    {
     "name": "stdout",
     "output_type": "stream",
     "text": [
      "[17:04:19] WARNING: ../src/learner.cc:1095: Starting in XGBoost 1.3.0, the default evaluation metric used with the objective 'multi:softprob' was changed from 'merror' to 'mlogloss'. Explicitly set eval_metric if you'd like to restore the old behavior.\n",
      "[CV 2/5] END colsample_bynode=0.3, learning_rate=0.03, max_depth=15, n_estimators=120, reg_alpha=0.1, reg_lambda=1e-05;, score=0.707 total time=  44.1s\n"
     ]
    },
    {
     "name": "stderr",
     "output_type": "stream",
     "text": [
      "/home/fscaccheri/.local/lib/python3.6/site-packages/xgboost/sklearn.py:1146: UserWarning: The use of label encoder in XGBClassifier is deprecated and will be removed in a future release. To remove this warning, do the following: 1) Pass option use_label_encoder=False when constructing XGBClassifier object; and 2) Encode your labels (y) as integers starting with 0, i.e. 0, 1, 2, ..., [num_class - 1].\n",
      "  warnings.warn(label_encoder_deprecation_msg, UserWarning)\n",
      "/home/fscaccheri/.local/lib/python3.6/site-packages/sklearn/utils/validation.py:63: DataConversionWarning: A column-vector y was passed when a 1d array was expected. Please change the shape of y to (n_samples, ), for example using ravel().\n",
      "  return f(*args, **kwargs)\n"
     ]
    },
    {
     "name": "stdout",
     "output_type": "stream",
     "text": [
      "[17:04:58] WARNING: ../src/learner.cc:1095: Starting in XGBoost 1.3.0, the default evaluation metric used with the objective 'multi:softprob' was changed from 'merror' to 'mlogloss'. Explicitly set eval_metric if you'd like to restore the old behavior.\n",
      "[CV 3/5] END colsample_bynode=0.3, learning_rate=0.03, max_depth=15, n_estimators=120, reg_alpha=0.1, reg_lambda=1e-05;, score=0.715 total time=  38.5s\n"
     ]
    },
    {
     "name": "stderr",
     "output_type": "stream",
     "text": [
      "/home/fscaccheri/.local/lib/python3.6/site-packages/xgboost/sklearn.py:1146: UserWarning: The use of label encoder in XGBClassifier is deprecated and will be removed in a future release. To remove this warning, do the following: 1) Pass option use_label_encoder=False when constructing XGBClassifier object; and 2) Encode your labels (y) as integers starting with 0, i.e. 0, 1, 2, ..., [num_class - 1].\n",
      "  warnings.warn(label_encoder_deprecation_msg, UserWarning)\n",
      "/home/fscaccheri/.local/lib/python3.6/site-packages/sklearn/utils/validation.py:63: DataConversionWarning: A column-vector y was passed when a 1d array was expected. Please change the shape of y to (n_samples, ), for example using ravel().\n",
      "  return f(*args, **kwargs)\n"
     ]
    },
    {
     "name": "stdout",
     "output_type": "stream",
     "text": [
      "[17:05:32] WARNING: ../src/learner.cc:1095: Starting in XGBoost 1.3.0, the default evaluation metric used with the objective 'multi:softprob' was changed from 'merror' to 'mlogloss'. Explicitly set eval_metric if you'd like to restore the old behavior.\n",
      "[CV 4/5] END colsample_bynode=0.3, learning_rate=0.03, max_depth=15, n_estimators=120, reg_alpha=0.1, reg_lambda=1e-05;, score=0.710 total time=  33.9s\n"
     ]
    },
    {
     "name": "stderr",
     "output_type": "stream",
     "text": [
      "/home/fscaccheri/.local/lib/python3.6/site-packages/xgboost/sklearn.py:1146: UserWarning: The use of label encoder in XGBClassifier is deprecated and will be removed in a future release. To remove this warning, do the following: 1) Pass option use_label_encoder=False when constructing XGBClassifier object; and 2) Encode your labels (y) as integers starting with 0, i.e. 0, 1, 2, ..., [num_class - 1].\n",
      "  warnings.warn(label_encoder_deprecation_msg, UserWarning)\n",
      "/home/fscaccheri/.local/lib/python3.6/site-packages/sklearn/utils/validation.py:63: DataConversionWarning: A column-vector y was passed when a 1d array was expected. Please change the shape of y to (n_samples, ), for example using ravel().\n",
      "  return f(*args, **kwargs)\n"
     ]
    },
    {
     "name": "stdout",
     "output_type": "stream",
     "text": [
      "[17:06:12] WARNING: ../src/learner.cc:1095: Starting in XGBoost 1.3.0, the default evaluation metric used with the objective 'multi:softprob' was changed from 'merror' to 'mlogloss'. Explicitly set eval_metric if you'd like to restore the old behavior.\n",
      "[CV 5/5] END colsample_bynode=0.3, learning_rate=0.03, max_depth=15, n_estimators=120, reg_alpha=0.1, reg_lambda=1e-05;, score=0.711 total time=  40.4s\n"
     ]
    },
    {
     "name": "stderr",
     "output_type": "stream",
     "text": [
      "/home/fscaccheri/.local/lib/python3.6/site-packages/xgboost/sklearn.py:1146: UserWarning: The use of label encoder in XGBClassifier is deprecated and will be removed in a future release. To remove this warning, do the following: 1) Pass option use_label_encoder=False when constructing XGBClassifier object; and 2) Encode your labels (y) as integers starting with 0, i.e. 0, 1, 2, ..., [num_class - 1].\n",
      "  warnings.warn(label_encoder_deprecation_msg, UserWarning)\n",
      "/home/fscaccheri/.local/lib/python3.6/site-packages/sklearn/utils/validation.py:63: DataConversionWarning: A column-vector y was passed when a 1d array was expected. Please change the shape of y to (n_samples, ), for example using ravel().\n",
      "  return f(*args, **kwargs)\n"
     ]
    },
    {
     "name": "stdout",
     "output_type": "stream",
     "text": [
      "[17:07:05] WARNING: ../src/learner.cc:1095: Starting in XGBoost 1.3.0, the default evaluation metric used with the objective 'multi:softprob' was changed from 'merror' to 'mlogloss'. Explicitly set eval_metric if you'd like to restore the old behavior.\n",
      "[CV 1/5] END colsample_bynode=0.3, learning_rate=0.03, max_depth=15, n_estimators=120, reg_alpha=0.1, reg_lambda=3e-05;, score=0.707 total time=  52.5s\n"
     ]
    },
    {
     "name": "stderr",
     "output_type": "stream",
     "text": [
      "/home/fscaccheri/.local/lib/python3.6/site-packages/xgboost/sklearn.py:1146: UserWarning: The use of label encoder in XGBClassifier is deprecated and will be removed in a future release. To remove this warning, do the following: 1) Pass option use_label_encoder=False when constructing XGBClassifier object; and 2) Encode your labels (y) as integers starting with 0, i.e. 0, 1, 2, ..., [num_class - 1].\n",
      "  warnings.warn(label_encoder_deprecation_msg, UserWarning)\n",
      "/home/fscaccheri/.local/lib/python3.6/site-packages/sklearn/utils/validation.py:63: DataConversionWarning: A column-vector y was passed when a 1d array was expected. Please change the shape of y to (n_samples, ), for example using ravel().\n",
      "  return f(*args, **kwargs)\n"
     ]
    },
    {
     "name": "stdout",
     "output_type": "stream",
     "text": [
      "[17:07:40] WARNING: ../src/learner.cc:1095: Starting in XGBoost 1.3.0, the default evaluation metric used with the objective 'multi:softprob' was changed from 'merror' to 'mlogloss'. Explicitly set eval_metric if you'd like to restore the old behavior.\n",
      "[CV 2/5] END colsample_bynode=0.3, learning_rate=0.03, max_depth=15, n_estimators=120, reg_alpha=0.1, reg_lambda=3e-05;, score=0.707 total time=  35.7s\n"
     ]
    },
    {
     "name": "stderr",
     "output_type": "stream",
     "text": [
      "/home/fscaccheri/.local/lib/python3.6/site-packages/xgboost/sklearn.py:1146: UserWarning: The use of label encoder in XGBClassifier is deprecated and will be removed in a future release. To remove this warning, do the following: 1) Pass option use_label_encoder=False when constructing XGBClassifier object; and 2) Encode your labels (y) as integers starting with 0, i.e. 0, 1, 2, ..., [num_class - 1].\n",
      "  warnings.warn(label_encoder_deprecation_msg, UserWarning)\n",
      "/home/fscaccheri/.local/lib/python3.6/site-packages/sklearn/utils/validation.py:63: DataConversionWarning: A column-vector y was passed when a 1d array was expected. Please change the shape of y to (n_samples, ), for example using ravel().\n",
      "  return f(*args, **kwargs)\n"
     ]
    },
    {
     "name": "stdout",
     "output_type": "stream",
     "text": [
      "[17:08:30] WARNING: ../src/learner.cc:1095: Starting in XGBoost 1.3.0, the default evaluation metric used with the objective 'multi:softprob' was changed from 'merror' to 'mlogloss'. Explicitly set eval_metric if you'd like to restore the old behavior.\n",
      "[CV 3/5] END colsample_bynode=0.3, learning_rate=0.03, max_depth=15, n_estimators=120, reg_alpha=0.1, reg_lambda=3e-05;, score=0.715 total time=  49.4s\n"
     ]
    },
    {
     "name": "stderr",
     "output_type": "stream",
     "text": [
      "/home/fscaccheri/.local/lib/python3.6/site-packages/xgboost/sklearn.py:1146: UserWarning: The use of label encoder in XGBClassifier is deprecated and will be removed in a future release. To remove this warning, do the following: 1) Pass option use_label_encoder=False when constructing XGBClassifier object; and 2) Encode your labels (y) as integers starting with 0, i.e. 0, 1, 2, ..., [num_class - 1].\n",
      "  warnings.warn(label_encoder_deprecation_msg, UserWarning)\n",
      "/home/fscaccheri/.local/lib/python3.6/site-packages/sklearn/utils/validation.py:63: DataConversionWarning: A column-vector y was passed when a 1d array was expected. Please change the shape of y to (n_samples, ), for example using ravel().\n",
      "  return f(*args, **kwargs)\n"
     ]
    },
    {
     "name": "stdout",
     "output_type": "stream",
     "text": [
      "[17:09:02] WARNING: ../src/learner.cc:1095: Starting in XGBoost 1.3.0, the default evaluation metric used with the objective 'multi:softprob' was changed from 'merror' to 'mlogloss'. Explicitly set eval_metric if you'd like to restore the old behavior.\n",
      "[CV 4/5] END colsample_bynode=0.3, learning_rate=0.03, max_depth=15, n_estimators=120, reg_alpha=0.1, reg_lambda=3e-05;, score=0.710 total time=  32.4s\n"
     ]
    },
    {
     "name": "stderr",
     "output_type": "stream",
     "text": [
      "/home/fscaccheri/.local/lib/python3.6/site-packages/xgboost/sklearn.py:1146: UserWarning: The use of label encoder in XGBClassifier is deprecated and will be removed in a future release. To remove this warning, do the following: 1) Pass option use_label_encoder=False when constructing XGBClassifier object; and 2) Encode your labels (y) as integers starting with 0, i.e. 0, 1, 2, ..., [num_class - 1].\n",
      "  warnings.warn(label_encoder_deprecation_msg, UserWarning)\n",
      "/home/fscaccheri/.local/lib/python3.6/site-packages/sklearn/utils/validation.py:63: DataConversionWarning: A column-vector y was passed when a 1d array was expected. Please change the shape of y to (n_samples, ), for example using ravel().\n",
      "  return f(*args, **kwargs)\n"
     ]
    },
    {
     "name": "stdout",
     "output_type": "stream",
     "text": [
      "[17:09:48] WARNING: ../src/learner.cc:1095: Starting in XGBoost 1.3.0, the default evaluation metric used with the objective 'multi:softprob' was changed from 'merror' to 'mlogloss'. Explicitly set eval_metric if you'd like to restore the old behavior.\n",
      "[CV 5/5] END colsample_bynode=0.3, learning_rate=0.03, max_depth=15, n_estimators=120, reg_alpha=0.1, reg_lambda=3e-05;, score=0.711 total time=  45.4s\n"
     ]
    },
    {
     "name": "stderr",
     "output_type": "stream",
     "text": [
      "/home/fscaccheri/.local/lib/python3.6/site-packages/xgboost/sklearn.py:1146: UserWarning: The use of label encoder in XGBClassifier is deprecated and will be removed in a future release. To remove this warning, do the following: 1) Pass option use_label_encoder=False when constructing XGBClassifier object; and 2) Encode your labels (y) as integers starting with 0, i.e. 0, 1, 2, ..., [num_class - 1].\n",
      "  warnings.warn(label_encoder_deprecation_msg, UserWarning)\n",
      "/home/fscaccheri/.local/lib/python3.6/site-packages/sklearn/utils/validation.py:63: DataConversionWarning: A column-vector y was passed when a 1d array was expected. Please change the shape of y to (n_samples, ), for example using ravel().\n",
      "  return f(*args, **kwargs)\n"
     ]
    },
    {
     "name": "stdout",
     "output_type": "stream",
     "text": [
      "[17:10:16] WARNING: ../src/learner.cc:1095: Starting in XGBoost 1.3.0, the default evaluation metric used with the objective 'multi:softprob' was changed from 'merror' to 'mlogloss'. Explicitly set eval_metric if you'd like to restore the old behavior.\n",
      "[CV 1/5] END colsample_bynode=0.3, learning_rate=0.03, max_depth=15, n_estimators=120, reg_alpha=0.5, reg_lambda=1e-05;, score=0.706 total time=  27.3s\n"
     ]
    },
    {
     "name": "stderr",
     "output_type": "stream",
     "text": [
      "/home/fscaccheri/.local/lib/python3.6/site-packages/xgboost/sklearn.py:1146: UserWarning: The use of label encoder in XGBClassifier is deprecated and will be removed in a future release. To remove this warning, do the following: 1) Pass option use_label_encoder=False when constructing XGBClassifier object; and 2) Encode your labels (y) as integers starting with 0, i.e. 0, 1, 2, ..., [num_class - 1].\n",
      "  warnings.warn(label_encoder_deprecation_msg, UserWarning)\n",
      "/home/fscaccheri/.local/lib/python3.6/site-packages/sklearn/utils/validation.py:63: DataConversionWarning: A column-vector y was passed when a 1d array was expected. Please change the shape of y to (n_samples, ), for example using ravel().\n",
      "  return f(*args, **kwargs)\n"
     ]
    },
    {
     "name": "stdout",
     "output_type": "stream",
     "text": [
      "[17:10:43] WARNING: ../src/learner.cc:1095: Starting in XGBoost 1.3.0, the default evaluation metric used with the objective 'multi:softprob' was changed from 'merror' to 'mlogloss'. Explicitly set eval_metric if you'd like to restore the old behavior.\n",
      "[CV 2/5] END colsample_bynode=0.3, learning_rate=0.03, max_depth=15, n_estimators=120, reg_alpha=0.5, reg_lambda=1e-05;, score=0.707 total time=  27.0s\n"
     ]
    },
    {
     "name": "stderr",
     "output_type": "stream",
     "text": [
      "/home/fscaccheri/.local/lib/python3.6/site-packages/xgboost/sklearn.py:1146: UserWarning: The use of label encoder in XGBClassifier is deprecated and will be removed in a future release. To remove this warning, do the following: 1) Pass option use_label_encoder=False when constructing XGBClassifier object; and 2) Encode your labels (y) as integers starting with 0, i.e. 0, 1, 2, ..., [num_class - 1].\n",
      "  warnings.warn(label_encoder_deprecation_msg, UserWarning)\n",
      "/home/fscaccheri/.local/lib/python3.6/site-packages/sklearn/utils/validation.py:63: DataConversionWarning: A column-vector y was passed when a 1d array was expected. Please change the shape of y to (n_samples, ), for example using ravel().\n",
      "  return f(*args, **kwargs)\n"
     ]
    },
    {
     "name": "stdout",
     "output_type": "stream",
     "text": [
      "[17:11:11] WARNING: ../src/learner.cc:1095: Starting in XGBoost 1.3.0, the default evaluation metric used with the objective 'multi:softprob' was changed from 'merror' to 'mlogloss'. Explicitly set eval_metric if you'd like to restore the old behavior.\n",
      "[CV 3/5] END colsample_bynode=0.3, learning_rate=0.03, max_depth=15, n_estimators=120, reg_alpha=0.5, reg_lambda=1e-05;, score=0.714 total time=  27.6s\n"
     ]
    },
    {
     "name": "stderr",
     "output_type": "stream",
     "text": [
      "/home/fscaccheri/.local/lib/python3.6/site-packages/xgboost/sklearn.py:1146: UserWarning: The use of label encoder in XGBClassifier is deprecated and will be removed in a future release. To remove this warning, do the following: 1) Pass option use_label_encoder=False when constructing XGBClassifier object; and 2) Encode your labels (y) as integers starting with 0, i.e. 0, 1, 2, ..., [num_class - 1].\n",
      "  warnings.warn(label_encoder_deprecation_msg, UserWarning)\n",
      "/home/fscaccheri/.local/lib/python3.6/site-packages/sklearn/utils/validation.py:63: DataConversionWarning: A column-vector y was passed when a 1d array was expected. Please change the shape of y to (n_samples, ), for example using ravel().\n",
      "  return f(*args, **kwargs)\n"
     ]
    },
    {
     "name": "stdout",
     "output_type": "stream",
     "text": [
      "[17:11:38] WARNING: ../src/learner.cc:1095: Starting in XGBoost 1.3.0, the default evaluation metric used with the objective 'multi:softprob' was changed from 'merror' to 'mlogloss'. Explicitly set eval_metric if you'd like to restore the old behavior.\n",
      "[CV 4/5] END colsample_bynode=0.3, learning_rate=0.03, max_depth=15, n_estimators=120, reg_alpha=0.5, reg_lambda=1e-05;, score=0.709 total time=  27.2s\n"
     ]
    },
    {
     "name": "stderr",
     "output_type": "stream",
     "text": [
      "/home/fscaccheri/.local/lib/python3.6/site-packages/xgboost/sklearn.py:1146: UserWarning: The use of label encoder in XGBClassifier is deprecated and will be removed in a future release. To remove this warning, do the following: 1) Pass option use_label_encoder=False when constructing XGBClassifier object; and 2) Encode your labels (y) as integers starting with 0, i.e. 0, 1, 2, ..., [num_class - 1].\n",
      "  warnings.warn(label_encoder_deprecation_msg, UserWarning)\n",
      "/home/fscaccheri/.local/lib/python3.6/site-packages/sklearn/utils/validation.py:63: DataConversionWarning: A column-vector y was passed when a 1d array was expected. Please change the shape of y to (n_samples, ), for example using ravel().\n",
      "  return f(*args, **kwargs)\n"
     ]
    },
    {
     "name": "stdout",
     "output_type": "stream",
     "text": [
      "[17:12:05] WARNING: ../src/learner.cc:1095: Starting in XGBoost 1.3.0, the default evaluation metric used with the objective 'multi:softprob' was changed from 'merror' to 'mlogloss'. Explicitly set eval_metric if you'd like to restore the old behavior.\n",
      "[CV 5/5] END colsample_bynode=0.3, learning_rate=0.03, max_depth=15, n_estimators=120, reg_alpha=0.5, reg_lambda=1e-05;, score=0.710 total time=  27.1s\n"
     ]
    },
    {
     "name": "stderr",
     "output_type": "stream",
     "text": [
      "/home/fscaccheri/.local/lib/python3.6/site-packages/xgboost/sklearn.py:1146: UserWarning: The use of label encoder in XGBClassifier is deprecated and will be removed in a future release. To remove this warning, do the following: 1) Pass option use_label_encoder=False when constructing XGBClassifier object; and 2) Encode your labels (y) as integers starting with 0, i.e. 0, 1, 2, ..., [num_class - 1].\n",
      "  warnings.warn(label_encoder_deprecation_msg, UserWarning)\n",
      "/home/fscaccheri/.local/lib/python3.6/site-packages/sklearn/utils/validation.py:63: DataConversionWarning: A column-vector y was passed when a 1d array was expected. Please change the shape of y to (n_samples, ), for example using ravel().\n",
      "  return f(*args, **kwargs)\n"
     ]
    },
    {
     "name": "stdout",
     "output_type": "stream",
     "text": [
      "[17:12:32] WARNING: ../src/learner.cc:1095: Starting in XGBoost 1.3.0, the default evaluation metric used with the objective 'multi:softprob' was changed from 'merror' to 'mlogloss'. Explicitly set eval_metric if you'd like to restore the old behavior.\n",
      "[CV 1/5] END colsample_bynode=0.3, learning_rate=0.03, max_depth=15, n_estimators=120, reg_alpha=0.5, reg_lambda=3e-05;, score=0.706 total time=  27.0s\n"
     ]
    },
    {
     "name": "stderr",
     "output_type": "stream",
     "text": [
      "/home/fscaccheri/.local/lib/python3.6/site-packages/xgboost/sklearn.py:1146: UserWarning: The use of label encoder in XGBClassifier is deprecated and will be removed in a future release. To remove this warning, do the following: 1) Pass option use_label_encoder=False when constructing XGBClassifier object; and 2) Encode your labels (y) as integers starting with 0, i.e. 0, 1, 2, ..., [num_class - 1].\n",
      "  warnings.warn(label_encoder_deprecation_msg, UserWarning)\n",
      "/home/fscaccheri/.local/lib/python3.6/site-packages/sklearn/utils/validation.py:63: DataConversionWarning: A column-vector y was passed when a 1d array was expected. Please change the shape of y to (n_samples, ), for example using ravel().\n",
      "  return f(*args, **kwargs)\n"
     ]
    },
    {
     "name": "stdout",
     "output_type": "stream",
     "text": [
      "[17:12:59] WARNING: ../src/learner.cc:1095: Starting in XGBoost 1.3.0, the default evaluation metric used with the objective 'multi:softprob' was changed from 'merror' to 'mlogloss'. Explicitly set eval_metric if you'd like to restore the old behavior.\n",
      "[CV 2/5] END colsample_bynode=0.3, learning_rate=0.03, max_depth=15, n_estimators=120, reg_alpha=0.5, reg_lambda=3e-05;, score=0.707 total time=  27.0s\n"
     ]
    },
    {
     "name": "stderr",
     "output_type": "stream",
     "text": [
      "/home/fscaccheri/.local/lib/python3.6/site-packages/xgboost/sklearn.py:1146: UserWarning: The use of label encoder in XGBClassifier is deprecated and will be removed in a future release. To remove this warning, do the following: 1) Pass option use_label_encoder=False when constructing XGBClassifier object; and 2) Encode your labels (y) as integers starting with 0, i.e. 0, 1, 2, ..., [num_class - 1].\n",
      "  warnings.warn(label_encoder_deprecation_msg, UserWarning)\n",
      "/home/fscaccheri/.local/lib/python3.6/site-packages/sklearn/utils/validation.py:63: DataConversionWarning: A column-vector y was passed when a 1d array was expected. Please change the shape of y to (n_samples, ), for example using ravel().\n",
      "  return f(*args, **kwargs)\n"
     ]
    },
    {
     "name": "stdout",
     "output_type": "stream",
     "text": [
      "[17:13:30] WARNING: ../src/learner.cc:1095: Starting in XGBoost 1.3.0, the default evaluation metric used with the objective 'multi:softprob' was changed from 'merror' to 'mlogloss'. Explicitly set eval_metric if you'd like to restore the old behavior.\n",
      "[CV 3/5] END colsample_bynode=0.3, learning_rate=0.03, max_depth=15, n_estimators=120, reg_alpha=0.5, reg_lambda=3e-05;, score=0.714 total time=  30.5s\n"
     ]
    },
    {
     "name": "stderr",
     "output_type": "stream",
     "text": [
      "/home/fscaccheri/.local/lib/python3.6/site-packages/xgboost/sklearn.py:1146: UserWarning: The use of label encoder in XGBClassifier is deprecated and will be removed in a future release. To remove this warning, do the following: 1) Pass option use_label_encoder=False when constructing XGBClassifier object; and 2) Encode your labels (y) as integers starting with 0, i.e. 0, 1, 2, ..., [num_class - 1].\n",
      "  warnings.warn(label_encoder_deprecation_msg, UserWarning)\n",
      "/home/fscaccheri/.local/lib/python3.6/site-packages/sklearn/utils/validation.py:63: DataConversionWarning: A column-vector y was passed when a 1d array was expected. Please change the shape of y to (n_samples, ), for example using ravel().\n",
      "  return f(*args, **kwargs)\n"
     ]
    },
    {
     "name": "stdout",
     "output_type": "stream",
     "text": [
      "[17:13:58] WARNING: ../src/learner.cc:1095: Starting in XGBoost 1.3.0, the default evaluation metric used with the objective 'multi:softprob' was changed from 'merror' to 'mlogloss'. Explicitly set eval_metric if you'd like to restore the old behavior.\n",
      "[CV 4/5] END colsample_bynode=0.3, learning_rate=0.03, max_depth=15, n_estimators=120, reg_alpha=0.5, reg_lambda=3e-05;, score=0.709 total time=  28.7s\n"
     ]
    },
    {
     "name": "stderr",
     "output_type": "stream",
     "text": [
      "/home/fscaccheri/.local/lib/python3.6/site-packages/xgboost/sklearn.py:1146: UserWarning: The use of label encoder in XGBClassifier is deprecated and will be removed in a future release. To remove this warning, do the following: 1) Pass option use_label_encoder=False when constructing XGBClassifier object; and 2) Encode your labels (y) as integers starting with 0, i.e. 0, 1, 2, ..., [num_class - 1].\n",
      "  warnings.warn(label_encoder_deprecation_msg, UserWarning)\n",
      "/home/fscaccheri/.local/lib/python3.6/site-packages/sklearn/utils/validation.py:63: DataConversionWarning: A column-vector y was passed when a 1d array was expected. Please change the shape of y to (n_samples, ), for example using ravel().\n",
      "  return f(*args, **kwargs)\n"
     ]
    },
    {
     "name": "stdout",
     "output_type": "stream",
     "text": [
      "[17:14:35] WARNING: ../src/learner.cc:1095: Starting in XGBoost 1.3.0, the default evaluation metric used with the objective 'multi:softprob' was changed from 'merror' to 'mlogloss'. Explicitly set eval_metric if you'd like to restore the old behavior.\n",
      "[CV 5/5] END colsample_bynode=0.3, learning_rate=0.03, max_depth=15, n_estimators=120, reg_alpha=0.5, reg_lambda=3e-05;, score=0.710 total time=  36.1s\n"
     ]
    },
    {
     "name": "stderr",
     "output_type": "stream",
     "text": [
      "/home/fscaccheri/.local/lib/python3.6/site-packages/xgboost/sklearn.py:1146: UserWarning: The use of label encoder in XGBClassifier is deprecated and will be removed in a future release. To remove this warning, do the following: 1) Pass option use_label_encoder=False when constructing XGBClassifier object; and 2) Encode your labels (y) as integers starting with 0, i.e. 0, 1, 2, ..., [num_class - 1].\n",
      "  warnings.warn(label_encoder_deprecation_msg, UserWarning)\n",
      "/home/fscaccheri/.local/lib/python3.6/site-packages/sklearn/utils/validation.py:63: DataConversionWarning: A column-vector y was passed when a 1d array was expected. Please change the shape of y to (n_samples, ), for example using ravel().\n",
      "  return f(*args, **kwargs)\n"
     ]
    },
    {
     "name": "stdout",
     "output_type": "stream",
     "text": [
      "[17:14:52] WARNING: ../src/learner.cc:1095: Starting in XGBoost 1.3.0, the default evaluation metric used with the objective 'multi:softprob' was changed from 'merror' to 'mlogloss'. Explicitly set eval_metric if you'd like to restore the old behavior.\n",
      "[CV 1/5] END colsample_bynode=0.3, learning_rate=0.1, max_depth=10, n_estimators=100, reg_alpha=0.1, reg_lambda=1e-05;, score=0.674 total time=  14.7s\n"
     ]
    },
    {
     "name": "stderr",
     "output_type": "stream",
     "text": [
      "/home/fscaccheri/.local/lib/python3.6/site-packages/xgboost/sklearn.py:1146: UserWarning: The use of label encoder in XGBClassifier is deprecated and will be removed in a future release. To remove this warning, do the following: 1) Pass option use_label_encoder=False when constructing XGBClassifier object; and 2) Encode your labels (y) as integers starting with 0, i.e. 0, 1, 2, ..., [num_class - 1].\n",
      "  warnings.warn(label_encoder_deprecation_msg, UserWarning)\n",
      "/home/fscaccheri/.local/lib/python3.6/site-packages/sklearn/utils/validation.py:63: DataConversionWarning: A column-vector y was passed when a 1d array was expected. Please change the shape of y to (n_samples, ), for example using ravel().\n",
      "  return f(*args, **kwargs)\n"
     ]
    },
    {
     "name": "stdout",
     "output_type": "stream",
     "text": [
      "[17:15:07] WARNING: ../src/learner.cc:1095: Starting in XGBoost 1.3.0, the default evaluation metric used with the objective 'multi:softprob' was changed from 'merror' to 'mlogloss'. Explicitly set eval_metric if you'd like to restore the old behavior.\n",
      "[CV 2/5] END colsample_bynode=0.3, learning_rate=0.1, max_depth=10, n_estimators=100, reg_alpha=0.1, reg_lambda=1e-05;, score=0.676 total time=  14.8s\n"
     ]
    },
    {
     "name": "stderr",
     "output_type": "stream",
     "text": [
      "/home/fscaccheri/.local/lib/python3.6/site-packages/xgboost/sklearn.py:1146: UserWarning: The use of label encoder in XGBClassifier is deprecated and will be removed in a future release. To remove this warning, do the following: 1) Pass option use_label_encoder=False when constructing XGBClassifier object; and 2) Encode your labels (y) as integers starting with 0, i.e. 0, 1, 2, ..., [num_class - 1].\n",
      "  warnings.warn(label_encoder_deprecation_msg, UserWarning)\n",
      "/home/fscaccheri/.local/lib/python3.6/site-packages/sklearn/utils/validation.py:63: DataConversionWarning: A column-vector y was passed when a 1d array was expected. Please change the shape of y to (n_samples, ), for example using ravel().\n",
      "  return f(*args, **kwargs)\n"
     ]
    },
    {
     "name": "stdout",
     "output_type": "stream",
     "text": [
      "[17:15:20] WARNING: ../src/learner.cc:1095: Starting in XGBoost 1.3.0, the default evaluation metric used with the objective 'multi:softprob' was changed from 'merror' to 'mlogloss'. Explicitly set eval_metric if you'd like to restore the old behavior.\n",
      "[CV 3/5] END colsample_bynode=0.3, learning_rate=0.1, max_depth=10, n_estimators=100, reg_alpha=0.1, reg_lambda=1e-05;, score=0.683 total time=  13.0s\n"
     ]
    },
    {
     "name": "stderr",
     "output_type": "stream",
     "text": [
      "/home/fscaccheri/.local/lib/python3.6/site-packages/xgboost/sklearn.py:1146: UserWarning: The use of label encoder in XGBClassifier is deprecated and will be removed in a future release. To remove this warning, do the following: 1) Pass option use_label_encoder=False when constructing XGBClassifier object; and 2) Encode your labels (y) as integers starting with 0, i.e. 0, 1, 2, ..., [num_class - 1].\n",
      "  warnings.warn(label_encoder_deprecation_msg, UserWarning)\n",
      "/home/fscaccheri/.local/lib/python3.6/site-packages/sklearn/utils/validation.py:63: DataConversionWarning: A column-vector y was passed when a 1d array was expected. Please change the shape of y to (n_samples, ), for example using ravel().\n",
      "  return f(*args, **kwargs)\n"
     ]
    },
    {
     "name": "stdout",
     "output_type": "stream",
     "text": [
      "[17:15:33] WARNING: ../src/learner.cc:1095: Starting in XGBoost 1.3.0, the default evaluation metric used with the objective 'multi:softprob' was changed from 'merror' to 'mlogloss'. Explicitly set eval_metric if you'd like to restore the old behavior.\n",
      "[CV 4/5] END colsample_bynode=0.3, learning_rate=0.1, max_depth=10, n_estimators=100, reg_alpha=0.1, reg_lambda=1e-05;, score=0.679 total time=  13.2s\n"
     ]
    },
    {
     "name": "stderr",
     "output_type": "stream",
     "text": [
      "/home/fscaccheri/.local/lib/python3.6/site-packages/xgboost/sklearn.py:1146: UserWarning: The use of label encoder in XGBClassifier is deprecated and will be removed in a future release. To remove this warning, do the following: 1) Pass option use_label_encoder=False when constructing XGBClassifier object; and 2) Encode your labels (y) as integers starting with 0, i.e. 0, 1, 2, ..., [num_class - 1].\n",
      "  warnings.warn(label_encoder_deprecation_msg, UserWarning)\n",
      "/home/fscaccheri/.local/lib/python3.6/site-packages/sklearn/utils/validation.py:63: DataConversionWarning: A column-vector y was passed when a 1d array was expected. Please change the shape of y to (n_samples, ), for example using ravel().\n",
      "  return f(*args, **kwargs)\n"
     ]
    },
    {
     "name": "stdout",
     "output_type": "stream",
     "text": [
      "[17:15:48] WARNING: ../src/learner.cc:1095: Starting in XGBoost 1.3.0, the default evaluation metric used with the objective 'multi:softprob' was changed from 'merror' to 'mlogloss'. Explicitly set eval_metric if you'd like to restore the old behavior.\n",
      "[CV 5/5] END colsample_bynode=0.3, learning_rate=0.1, max_depth=10, n_estimators=100, reg_alpha=0.1, reg_lambda=1e-05;, score=0.680 total time=  14.5s\n"
     ]
    },
    {
     "name": "stderr",
     "output_type": "stream",
     "text": [
      "/home/fscaccheri/.local/lib/python3.6/site-packages/xgboost/sklearn.py:1146: UserWarning: The use of label encoder in XGBClassifier is deprecated and will be removed in a future release. To remove this warning, do the following: 1) Pass option use_label_encoder=False when constructing XGBClassifier object; and 2) Encode your labels (y) as integers starting with 0, i.e. 0, 1, 2, ..., [num_class - 1].\n",
      "  warnings.warn(label_encoder_deprecation_msg, UserWarning)\n",
      "/home/fscaccheri/.local/lib/python3.6/site-packages/sklearn/utils/validation.py:63: DataConversionWarning: A column-vector y was passed when a 1d array was expected. Please change the shape of y to (n_samples, ), for example using ravel().\n",
      "  return f(*args, **kwargs)\n"
     ]
    },
    {
     "name": "stdout",
     "output_type": "stream",
     "text": [
      "[17:16:01] WARNING: ../src/learner.cc:1095: Starting in XGBoost 1.3.0, the default evaluation metric used with the objective 'multi:softprob' was changed from 'merror' to 'mlogloss'. Explicitly set eval_metric if you'd like to restore the old behavior.\n",
      "[CV 1/5] END colsample_bynode=0.3, learning_rate=0.1, max_depth=10, n_estimators=100, reg_alpha=0.1, reg_lambda=3e-05;, score=0.674 total time=  13.2s\n"
     ]
    },
    {
     "name": "stderr",
     "output_type": "stream",
     "text": [
      "/home/fscaccheri/.local/lib/python3.6/site-packages/xgboost/sklearn.py:1146: UserWarning: The use of label encoder in XGBClassifier is deprecated and will be removed in a future release. To remove this warning, do the following: 1) Pass option use_label_encoder=False when constructing XGBClassifier object; and 2) Encode your labels (y) as integers starting with 0, i.e. 0, 1, 2, ..., [num_class - 1].\n",
      "  warnings.warn(label_encoder_deprecation_msg, UserWarning)\n",
      "/home/fscaccheri/.local/lib/python3.6/site-packages/sklearn/utils/validation.py:63: DataConversionWarning: A column-vector y was passed when a 1d array was expected. Please change the shape of y to (n_samples, ), for example using ravel().\n",
      "  return f(*args, **kwargs)\n"
     ]
    },
    {
     "name": "stdout",
     "output_type": "stream",
     "text": [
      "[17:16:15] WARNING: ../src/learner.cc:1095: Starting in XGBoost 1.3.0, the default evaluation metric used with the objective 'multi:softprob' was changed from 'merror' to 'mlogloss'. Explicitly set eval_metric if you'd like to restore the old behavior.\n",
      "[CV 2/5] END colsample_bynode=0.3, learning_rate=0.1, max_depth=10, n_estimators=100, reg_alpha=0.1, reg_lambda=3e-05;, score=0.676 total time=  13.9s\n"
     ]
    },
    {
     "name": "stderr",
     "output_type": "stream",
     "text": [
      "/home/fscaccheri/.local/lib/python3.6/site-packages/xgboost/sklearn.py:1146: UserWarning: The use of label encoder in XGBClassifier is deprecated and will be removed in a future release. To remove this warning, do the following: 1) Pass option use_label_encoder=False when constructing XGBClassifier object; and 2) Encode your labels (y) as integers starting with 0, i.e. 0, 1, 2, ..., [num_class - 1].\n",
      "  warnings.warn(label_encoder_deprecation_msg, UserWarning)\n",
      "/home/fscaccheri/.local/lib/python3.6/site-packages/sklearn/utils/validation.py:63: DataConversionWarning: A column-vector y was passed when a 1d array was expected. Please change the shape of y to (n_samples, ), for example using ravel().\n",
      "  return f(*args, **kwargs)\n"
     ]
    },
    {
     "name": "stdout",
     "output_type": "stream",
     "text": [
      "[17:16:28] WARNING: ../src/learner.cc:1095: Starting in XGBoost 1.3.0, the default evaluation metric used with the objective 'multi:softprob' was changed from 'merror' to 'mlogloss'. Explicitly set eval_metric if you'd like to restore the old behavior.\n",
      "[CV 3/5] END colsample_bynode=0.3, learning_rate=0.1, max_depth=10, n_estimators=100, reg_alpha=0.1, reg_lambda=3e-05;, score=0.683 total time=  13.5s\n"
     ]
    },
    {
     "name": "stderr",
     "output_type": "stream",
     "text": [
      "/home/fscaccheri/.local/lib/python3.6/site-packages/xgboost/sklearn.py:1146: UserWarning: The use of label encoder in XGBClassifier is deprecated and will be removed in a future release. To remove this warning, do the following: 1) Pass option use_label_encoder=False when constructing XGBClassifier object; and 2) Encode your labels (y) as integers starting with 0, i.e. 0, 1, 2, ..., [num_class - 1].\n",
      "  warnings.warn(label_encoder_deprecation_msg, UserWarning)\n",
      "/home/fscaccheri/.local/lib/python3.6/site-packages/sklearn/utils/validation.py:63: DataConversionWarning: A column-vector y was passed when a 1d array was expected. Please change the shape of y to (n_samples, ), for example using ravel().\n",
      "  return f(*args, **kwargs)\n"
     ]
    },
    {
     "name": "stdout",
     "output_type": "stream",
     "text": [
      "[17:16:42] WARNING: ../src/learner.cc:1095: Starting in XGBoost 1.3.0, the default evaluation metric used with the objective 'multi:softprob' was changed from 'merror' to 'mlogloss'. Explicitly set eval_metric if you'd like to restore the old behavior.\n",
      "[CV 4/5] END colsample_bynode=0.3, learning_rate=0.1, max_depth=10, n_estimators=100, reg_alpha=0.1, reg_lambda=3e-05;, score=0.679 total time=  13.2s\n"
     ]
    },
    {
     "name": "stderr",
     "output_type": "stream",
     "text": [
      "/home/fscaccheri/.local/lib/python3.6/site-packages/xgboost/sklearn.py:1146: UserWarning: The use of label encoder in XGBClassifier is deprecated and will be removed in a future release. To remove this warning, do the following: 1) Pass option use_label_encoder=False when constructing XGBClassifier object; and 2) Encode your labels (y) as integers starting with 0, i.e. 0, 1, 2, ..., [num_class - 1].\n",
      "  warnings.warn(label_encoder_deprecation_msg, UserWarning)\n",
      "/home/fscaccheri/.local/lib/python3.6/site-packages/sklearn/utils/validation.py:63: DataConversionWarning: A column-vector y was passed when a 1d array was expected. Please change the shape of y to (n_samples, ), for example using ravel().\n",
      "  return f(*args, **kwargs)\n"
     ]
    },
    {
     "name": "stdout",
     "output_type": "stream",
     "text": [
      "[17:16:55] WARNING: ../src/learner.cc:1095: Starting in XGBoost 1.3.0, the default evaluation metric used with the objective 'multi:softprob' was changed from 'merror' to 'mlogloss'. Explicitly set eval_metric if you'd like to restore the old behavior.\n",
      "[CV 5/5] END colsample_bynode=0.3, learning_rate=0.1, max_depth=10, n_estimators=100, reg_alpha=0.1, reg_lambda=3e-05;, score=0.680 total time=  13.1s\n"
     ]
    },
    {
     "name": "stderr",
     "output_type": "stream",
     "text": [
      "/home/fscaccheri/.local/lib/python3.6/site-packages/xgboost/sklearn.py:1146: UserWarning: The use of label encoder in XGBClassifier is deprecated and will be removed in a future release. To remove this warning, do the following: 1) Pass option use_label_encoder=False when constructing XGBClassifier object; and 2) Encode your labels (y) as integers starting with 0, i.e. 0, 1, 2, ..., [num_class - 1].\n",
      "  warnings.warn(label_encoder_deprecation_msg, UserWarning)\n",
      "/home/fscaccheri/.local/lib/python3.6/site-packages/sklearn/utils/validation.py:63: DataConversionWarning: A column-vector y was passed when a 1d array was expected. Please change the shape of y to (n_samples, ), for example using ravel().\n",
      "  return f(*args, **kwargs)\n"
     ]
    },
    {
     "name": "stdout",
     "output_type": "stream",
     "text": [
      "[17:17:08] WARNING: ../src/learner.cc:1095: Starting in XGBoost 1.3.0, the default evaluation metric used with the objective 'multi:softprob' was changed from 'merror' to 'mlogloss'. Explicitly set eval_metric if you'd like to restore the old behavior.\n",
      "[CV 1/5] END colsample_bynode=0.3, learning_rate=0.1, max_depth=10, n_estimators=100, reg_alpha=0.5, reg_lambda=1e-05;, score=0.674 total time=  13.3s\n"
     ]
    },
    {
     "name": "stderr",
     "output_type": "stream",
     "text": [
      "/home/fscaccheri/.local/lib/python3.6/site-packages/xgboost/sklearn.py:1146: UserWarning: The use of label encoder in XGBClassifier is deprecated and will be removed in a future release. To remove this warning, do the following: 1) Pass option use_label_encoder=False when constructing XGBClassifier object; and 2) Encode your labels (y) as integers starting with 0, i.e. 0, 1, 2, ..., [num_class - 1].\n",
      "  warnings.warn(label_encoder_deprecation_msg, UserWarning)\n",
      "/home/fscaccheri/.local/lib/python3.6/site-packages/sklearn/utils/validation.py:63: DataConversionWarning: A column-vector y was passed when a 1d array was expected. Please change the shape of y to (n_samples, ), for example using ravel().\n",
      "  return f(*args, **kwargs)\n"
     ]
    },
    {
     "name": "stdout",
     "output_type": "stream",
     "text": [
      "[17:17:21] WARNING: ../src/learner.cc:1095: Starting in XGBoost 1.3.0, the default evaluation metric used with the objective 'multi:softprob' was changed from 'merror' to 'mlogloss'. Explicitly set eval_metric if you'd like to restore the old behavior.\n",
      "[CV 2/5] END colsample_bynode=0.3, learning_rate=0.1, max_depth=10, n_estimators=100, reg_alpha=0.5, reg_lambda=1e-05;, score=0.677 total time=  13.1s\n"
     ]
    },
    {
     "name": "stderr",
     "output_type": "stream",
     "text": [
      "/home/fscaccheri/.local/lib/python3.6/site-packages/xgboost/sklearn.py:1146: UserWarning: The use of label encoder in XGBClassifier is deprecated and will be removed in a future release. To remove this warning, do the following: 1) Pass option use_label_encoder=False when constructing XGBClassifier object; and 2) Encode your labels (y) as integers starting with 0, i.e. 0, 1, 2, ..., [num_class - 1].\n",
      "  warnings.warn(label_encoder_deprecation_msg, UserWarning)\n",
      "/home/fscaccheri/.local/lib/python3.6/site-packages/sklearn/utils/validation.py:63: DataConversionWarning: A column-vector y was passed when a 1d array was expected. Please change the shape of y to (n_samples, ), for example using ravel().\n",
      "  return f(*args, **kwargs)\n"
     ]
    },
    {
     "name": "stdout",
     "output_type": "stream",
     "text": [
      "[17:17:35] WARNING: ../src/learner.cc:1095: Starting in XGBoost 1.3.0, the default evaluation metric used with the objective 'multi:softprob' was changed from 'merror' to 'mlogloss'. Explicitly set eval_metric if you'd like to restore the old behavior.\n",
      "[CV 3/5] END colsample_bynode=0.3, learning_rate=0.1, max_depth=10, n_estimators=100, reg_alpha=0.5, reg_lambda=1e-05;, score=0.682 total time=  13.2s\n"
     ]
    },
    {
     "name": "stderr",
     "output_type": "stream",
     "text": [
      "/home/fscaccheri/.local/lib/python3.6/site-packages/xgboost/sklearn.py:1146: UserWarning: The use of label encoder in XGBClassifier is deprecated and will be removed in a future release. To remove this warning, do the following: 1) Pass option use_label_encoder=False when constructing XGBClassifier object; and 2) Encode your labels (y) as integers starting with 0, i.e. 0, 1, 2, ..., [num_class - 1].\n",
      "  warnings.warn(label_encoder_deprecation_msg, UserWarning)\n",
      "/home/fscaccheri/.local/lib/python3.6/site-packages/sklearn/utils/validation.py:63: DataConversionWarning: A column-vector y was passed when a 1d array was expected. Please change the shape of y to (n_samples, ), for example using ravel().\n",
      "  return f(*args, **kwargs)\n"
     ]
    },
    {
     "name": "stdout",
     "output_type": "stream",
     "text": [
      "[17:17:48] WARNING: ../src/learner.cc:1095: Starting in XGBoost 1.3.0, the default evaluation metric used with the objective 'multi:softprob' was changed from 'merror' to 'mlogloss'. Explicitly set eval_metric if you'd like to restore the old behavior.\n",
      "[CV 4/5] END colsample_bynode=0.3, learning_rate=0.1, max_depth=10, n_estimators=100, reg_alpha=0.5, reg_lambda=1e-05;, score=0.679 total time=  13.0s\n"
     ]
    },
    {
     "name": "stderr",
     "output_type": "stream",
     "text": [
      "/home/fscaccheri/.local/lib/python3.6/site-packages/xgboost/sklearn.py:1146: UserWarning: The use of label encoder in XGBClassifier is deprecated and will be removed in a future release. To remove this warning, do the following: 1) Pass option use_label_encoder=False when constructing XGBClassifier object; and 2) Encode your labels (y) as integers starting with 0, i.e. 0, 1, 2, ..., [num_class - 1].\n",
      "  warnings.warn(label_encoder_deprecation_msg, UserWarning)\n",
      "/home/fscaccheri/.local/lib/python3.6/site-packages/sklearn/utils/validation.py:63: DataConversionWarning: A column-vector y was passed when a 1d array was expected. Please change the shape of y to (n_samples, ), for example using ravel().\n",
      "  return f(*args, **kwargs)\n"
     ]
    },
    {
     "name": "stdout",
     "output_type": "stream",
     "text": [
      "[17:18:02] WARNING: ../src/learner.cc:1095: Starting in XGBoost 1.3.0, the default evaluation metric used with the objective 'multi:softprob' was changed from 'merror' to 'mlogloss'. Explicitly set eval_metric if you'd like to restore the old behavior.\n",
      "[CV 5/5] END colsample_bynode=0.3, learning_rate=0.1, max_depth=10, n_estimators=100, reg_alpha=0.5, reg_lambda=1e-05;, score=0.680 total time=  14.3s\n"
     ]
    },
    {
     "name": "stderr",
     "output_type": "stream",
     "text": [
      "/home/fscaccheri/.local/lib/python3.6/site-packages/xgboost/sklearn.py:1146: UserWarning: The use of label encoder in XGBClassifier is deprecated and will be removed in a future release. To remove this warning, do the following: 1) Pass option use_label_encoder=False when constructing XGBClassifier object; and 2) Encode your labels (y) as integers starting with 0, i.e. 0, 1, 2, ..., [num_class - 1].\n",
      "  warnings.warn(label_encoder_deprecation_msg, UserWarning)\n",
      "/home/fscaccheri/.local/lib/python3.6/site-packages/sklearn/utils/validation.py:63: DataConversionWarning: A column-vector y was passed when a 1d array was expected. Please change the shape of y to (n_samples, ), for example using ravel().\n",
      "  return f(*args, **kwargs)\n"
     ]
    },
    {
     "name": "stdout",
     "output_type": "stream",
     "text": [
      "[17:18:16] WARNING: ../src/learner.cc:1095: Starting in XGBoost 1.3.0, the default evaluation metric used with the objective 'multi:softprob' was changed from 'merror' to 'mlogloss'. Explicitly set eval_metric if you'd like to restore the old behavior.\n",
      "[CV 1/5] END colsample_bynode=0.3, learning_rate=0.1, max_depth=10, n_estimators=100, reg_alpha=0.5, reg_lambda=3e-05;, score=0.674 total time=  13.8s\n"
     ]
    },
    {
     "name": "stderr",
     "output_type": "stream",
     "text": [
      "/home/fscaccheri/.local/lib/python3.6/site-packages/xgboost/sklearn.py:1146: UserWarning: The use of label encoder in XGBClassifier is deprecated and will be removed in a future release. To remove this warning, do the following: 1) Pass option use_label_encoder=False when constructing XGBClassifier object; and 2) Encode your labels (y) as integers starting with 0, i.e. 0, 1, 2, ..., [num_class - 1].\n",
      "  warnings.warn(label_encoder_deprecation_msg, UserWarning)\n",
      "/home/fscaccheri/.local/lib/python3.6/site-packages/sklearn/utils/validation.py:63: DataConversionWarning: A column-vector y was passed when a 1d array was expected. Please change the shape of y to (n_samples, ), for example using ravel().\n",
      "  return f(*args, **kwargs)\n"
     ]
    },
    {
     "name": "stdout",
     "output_type": "stream",
     "text": [
      "[17:18:29] WARNING: ../src/learner.cc:1095: Starting in XGBoost 1.3.0, the default evaluation metric used with the objective 'multi:softprob' was changed from 'merror' to 'mlogloss'. Explicitly set eval_metric if you'd like to restore the old behavior.\n",
      "[CV 2/5] END colsample_bynode=0.3, learning_rate=0.1, max_depth=10, n_estimators=100, reg_alpha=0.5, reg_lambda=3e-05;, score=0.677 total time=  13.7s\n"
     ]
    },
    {
     "name": "stderr",
     "output_type": "stream",
     "text": [
      "/home/fscaccheri/.local/lib/python3.6/site-packages/xgboost/sklearn.py:1146: UserWarning: The use of label encoder in XGBClassifier is deprecated and will be removed in a future release. To remove this warning, do the following: 1) Pass option use_label_encoder=False when constructing XGBClassifier object; and 2) Encode your labels (y) as integers starting with 0, i.e. 0, 1, 2, ..., [num_class - 1].\n",
      "  warnings.warn(label_encoder_deprecation_msg, UserWarning)\n",
      "/home/fscaccheri/.local/lib/python3.6/site-packages/sklearn/utils/validation.py:63: DataConversionWarning: A column-vector y was passed when a 1d array was expected. Please change the shape of y to (n_samples, ), for example using ravel().\n",
      "  return f(*args, **kwargs)\n"
     ]
    },
    {
     "name": "stdout",
     "output_type": "stream",
     "text": [
      "[17:18:42] WARNING: ../src/learner.cc:1095: Starting in XGBoost 1.3.0, the default evaluation metric used with the objective 'multi:softprob' was changed from 'merror' to 'mlogloss'. Explicitly set eval_metric if you'd like to restore the old behavior.\n",
      "[CV 3/5] END colsample_bynode=0.3, learning_rate=0.1, max_depth=10, n_estimators=100, reg_alpha=0.5, reg_lambda=3e-05;, score=0.682 total time=  13.1s\n"
     ]
    },
    {
     "name": "stderr",
     "output_type": "stream",
     "text": [
      "/home/fscaccheri/.local/lib/python3.6/site-packages/xgboost/sklearn.py:1146: UserWarning: The use of label encoder in XGBClassifier is deprecated and will be removed in a future release. To remove this warning, do the following: 1) Pass option use_label_encoder=False when constructing XGBClassifier object; and 2) Encode your labels (y) as integers starting with 0, i.e. 0, 1, 2, ..., [num_class - 1].\n",
      "  warnings.warn(label_encoder_deprecation_msg, UserWarning)\n",
      "/home/fscaccheri/.local/lib/python3.6/site-packages/sklearn/utils/validation.py:63: DataConversionWarning: A column-vector y was passed when a 1d array was expected. Please change the shape of y to (n_samples, ), for example using ravel().\n",
      "  return f(*args, **kwargs)\n"
     ]
    },
    {
     "name": "stdout",
     "output_type": "stream",
     "text": [
      "[17:18:56] WARNING: ../src/learner.cc:1095: Starting in XGBoost 1.3.0, the default evaluation metric used with the objective 'multi:softprob' was changed from 'merror' to 'mlogloss'. Explicitly set eval_metric if you'd like to restore the old behavior.\n",
      "[CV 4/5] END colsample_bynode=0.3, learning_rate=0.1, max_depth=10, n_estimators=100, reg_alpha=0.5, reg_lambda=3e-05;, score=0.679 total time=  13.1s\n"
     ]
    },
    {
     "name": "stderr",
     "output_type": "stream",
     "text": [
      "/home/fscaccheri/.local/lib/python3.6/site-packages/xgboost/sklearn.py:1146: UserWarning: The use of label encoder in XGBClassifier is deprecated and will be removed in a future release. To remove this warning, do the following: 1) Pass option use_label_encoder=False when constructing XGBClassifier object; and 2) Encode your labels (y) as integers starting with 0, i.e. 0, 1, 2, ..., [num_class - 1].\n",
      "  warnings.warn(label_encoder_deprecation_msg, UserWarning)\n",
      "/home/fscaccheri/.local/lib/python3.6/site-packages/sklearn/utils/validation.py:63: DataConversionWarning: A column-vector y was passed when a 1d array was expected. Please change the shape of y to (n_samples, ), for example using ravel().\n",
      "  return f(*args, **kwargs)\n"
     ]
    },
    {
     "name": "stdout",
     "output_type": "stream",
     "text": [
      "[17:19:08] WARNING: ../src/learner.cc:1095: Starting in XGBoost 1.3.0, the default evaluation metric used with the objective 'multi:softprob' was changed from 'merror' to 'mlogloss'. Explicitly set eval_metric if you'd like to restore the old behavior.\n",
      "[CV 5/5] END colsample_bynode=0.3, learning_rate=0.1, max_depth=10, n_estimators=100, reg_alpha=0.5, reg_lambda=3e-05;, score=0.680 total time=  12.9s\n"
     ]
    },
    {
     "name": "stderr",
     "output_type": "stream",
     "text": [
      "/home/fscaccheri/.local/lib/python3.6/site-packages/xgboost/sklearn.py:1146: UserWarning: The use of label encoder in XGBClassifier is deprecated and will be removed in a future release. To remove this warning, do the following: 1) Pass option use_label_encoder=False when constructing XGBClassifier object; and 2) Encode your labels (y) as integers starting with 0, i.e. 0, 1, 2, ..., [num_class - 1].\n",
      "  warnings.warn(label_encoder_deprecation_msg, UserWarning)\n",
      "/home/fscaccheri/.local/lib/python3.6/site-packages/sklearn/utils/validation.py:63: DataConversionWarning: A column-vector y was passed when a 1d array was expected. Please change the shape of y to (n_samples, ), for example using ravel().\n",
      "  return f(*args, **kwargs)\n"
     ]
    },
    {
     "name": "stdout",
     "output_type": "stream",
     "text": [
      "[17:19:24] WARNING: ../src/learner.cc:1095: Starting in XGBoost 1.3.0, the default evaluation metric used with the objective 'multi:softprob' was changed from 'merror' to 'mlogloss'. Explicitly set eval_metric if you'd like to restore the old behavior.\n",
      "[CV 1/5] END colsample_bynode=0.3, learning_rate=0.1, max_depth=10, n_estimators=120, reg_alpha=0.1, reg_lambda=1e-05;, score=0.675 total time=  15.6s\n"
     ]
    },
    {
     "name": "stderr",
     "output_type": "stream",
     "text": [
      "/home/fscaccheri/.local/lib/python3.6/site-packages/xgboost/sklearn.py:1146: UserWarning: The use of label encoder in XGBClassifier is deprecated and will be removed in a future release. To remove this warning, do the following: 1) Pass option use_label_encoder=False when constructing XGBClassifier object; and 2) Encode your labels (y) as integers starting with 0, i.e. 0, 1, 2, ..., [num_class - 1].\n",
      "  warnings.warn(label_encoder_deprecation_msg, UserWarning)\n",
      "/home/fscaccheri/.local/lib/python3.6/site-packages/sklearn/utils/validation.py:63: DataConversionWarning: A column-vector y was passed when a 1d array was expected. Please change the shape of y to (n_samples, ), for example using ravel().\n",
      "  return f(*args, **kwargs)\n"
     ]
    },
    {
     "name": "stdout",
     "output_type": "stream",
     "text": [
      "[17:19:39] WARNING: ../src/learner.cc:1095: Starting in XGBoost 1.3.0, the default evaluation metric used with the objective 'multi:softprob' was changed from 'merror' to 'mlogloss'. Explicitly set eval_metric if you'd like to restore the old behavior.\n",
      "[CV 2/5] END colsample_bynode=0.3, learning_rate=0.1, max_depth=10, n_estimators=120, reg_alpha=0.1, reg_lambda=1e-05;, score=0.677 total time=  15.0s\n"
     ]
    },
    {
     "name": "stderr",
     "output_type": "stream",
     "text": [
      "/home/fscaccheri/.local/lib/python3.6/site-packages/xgboost/sklearn.py:1146: UserWarning: The use of label encoder in XGBClassifier is deprecated and will be removed in a future release. To remove this warning, do the following: 1) Pass option use_label_encoder=False when constructing XGBClassifier object; and 2) Encode your labels (y) as integers starting with 0, i.e. 0, 1, 2, ..., [num_class - 1].\n",
      "  warnings.warn(label_encoder_deprecation_msg, UserWarning)\n",
      "/home/fscaccheri/.local/lib/python3.6/site-packages/sklearn/utils/validation.py:63: DataConversionWarning: A column-vector y was passed when a 1d array was expected. Please change the shape of y to (n_samples, ), for example using ravel().\n",
      "  return f(*args, **kwargs)\n"
     ]
    },
    {
     "name": "stdout",
     "output_type": "stream",
     "text": [
      "[17:19:55] WARNING: ../src/learner.cc:1095: Starting in XGBoost 1.3.0, the default evaluation metric used with the objective 'multi:softprob' was changed from 'merror' to 'mlogloss'. Explicitly set eval_metric if you'd like to restore the old behavior.\n",
      "[CV 3/5] END colsample_bynode=0.3, learning_rate=0.1, max_depth=10, n_estimators=120, reg_alpha=0.1, reg_lambda=1e-05;, score=0.683 total time=  15.9s\n"
     ]
    },
    {
     "name": "stderr",
     "output_type": "stream",
     "text": [
      "/home/fscaccheri/.local/lib/python3.6/site-packages/xgboost/sklearn.py:1146: UserWarning: The use of label encoder in XGBClassifier is deprecated and will be removed in a future release. To remove this warning, do the following: 1) Pass option use_label_encoder=False when constructing XGBClassifier object; and 2) Encode your labels (y) as integers starting with 0, i.e. 0, 1, 2, ..., [num_class - 1].\n",
      "  warnings.warn(label_encoder_deprecation_msg, UserWarning)\n",
      "/home/fscaccheri/.local/lib/python3.6/site-packages/sklearn/utils/validation.py:63: DataConversionWarning: A column-vector y was passed when a 1d array was expected. Please change the shape of y to (n_samples, ), for example using ravel().\n",
      "  return f(*args, **kwargs)\n"
     ]
    },
    {
     "name": "stdout",
     "output_type": "stream",
     "text": [
      "[17:20:11] WARNING: ../src/learner.cc:1095: Starting in XGBoost 1.3.0, the default evaluation metric used with the objective 'multi:softprob' was changed from 'merror' to 'mlogloss'. Explicitly set eval_metric if you'd like to restore the old behavior.\n",
      "[CV 4/5] END colsample_bynode=0.3, learning_rate=0.1, max_depth=10, n_estimators=120, reg_alpha=0.1, reg_lambda=1e-05;, score=0.679 total time=  15.8s\n"
     ]
    },
    {
     "name": "stderr",
     "output_type": "stream",
     "text": [
      "/home/fscaccheri/.local/lib/python3.6/site-packages/xgboost/sklearn.py:1146: UserWarning: The use of label encoder in XGBClassifier is deprecated and will be removed in a future release. To remove this warning, do the following: 1) Pass option use_label_encoder=False when constructing XGBClassifier object; and 2) Encode your labels (y) as integers starting with 0, i.e. 0, 1, 2, ..., [num_class - 1].\n",
      "  warnings.warn(label_encoder_deprecation_msg, UserWarning)\n",
      "/home/fscaccheri/.local/lib/python3.6/site-packages/sklearn/utils/validation.py:63: DataConversionWarning: A column-vector y was passed when a 1d array was expected. Please change the shape of y to (n_samples, ), for example using ravel().\n",
      "  return f(*args, **kwargs)\n"
     ]
    },
    {
     "name": "stdout",
     "output_type": "stream",
     "text": [
      "[17:20:26] WARNING: ../src/learner.cc:1095: Starting in XGBoost 1.3.0, the default evaluation metric used with the objective 'multi:softprob' was changed from 'merror' to 'mlogloss'. Explicitly set eval_metric if you'd like to restore the old behavior.\n",
      "[CV 5/5] END colsample_bynode=0.3, learning_rate=0.1, max_depth=10, n_estimators=120, reg_alpha=0.1, reg_lambda=1e-05;, score=0.680 total time=  15.1s\n"
     ]
    },
    {
     "name": "stderr",
     "output_type": "stream",
     "text": [
      "/home/fscaccheri/.local/lib/python3.6/site-packages/xgboost/sklearn.py:1146: UserWarning: The use of label encoder in XGBClassifier is deprecated and will be removed in a future release. To remove this warning, do the following: 1) Pass option use_label_encoder=False when constructing XGBClassifier object; and 2) Encode your labels (y) as integers starting with 0, i.e. 0, 1, 2, ..., [num_class - 1].\n",
      "  warnings.warn(label_encoder_deprecation_msg, UserWarning)\n",
      "/home/fscaccheri/.local/lib/python3.6/site-packages/sklearn/utils/validation.py:63: DataConversionWarning: A column-vector y was passed when a 1d array was expected. Please change the shape of y to (n_samples, ), for example using ravel().\n",
      "  return f(*args, **kwargs)\n"
     ]
    },
    {
     "name": "stdout",
     "output_type": "stream",
     "text": [
      "[17:20:41] WARNING: ../src/learner.cc:1095: Starting in XGBoost 1.3.0, the default evaluation metric used with the objective 'multi:softprob' was changed from 'merror' to 'mlogloss'. Explicitly set eval_metric if you'd like to restore the old behavior.\n",
      "[CV 1/5] END colsample_bynode=0.3, learning_rate=0.1, max_depth=10, n_estimators=120, reg_alpha=0.1, reg_lambda=3e-05;, score=0.675 total time=  15.3s\n"
     ]
    },
    {
     "name": "stderr",
     "output_type": "stream",
     "text": [
      "/home/fscaccheri/.local/lib/python3.6/site-packages/xgboost/sklearn.py:1146: UserWarning: The use of label encoder in XGBClassifier is deprecated and will be removed in a future release. To remove this warning, do the following: 1) Pass option use_label_encoder=False when constructing XGBClassifier object; and 2) Encode your labels (y) as integers starting with 0, i.e. 0, 1, 2, ..., [num_class - 1].\n",
      "  warnings.warn(label_encoder_deprecation_msg, UserWarning)\n",
      "/home/fscaccheri/.local/lib/python3.6/site-packages/sklearn/utils/validation.py:63: DataConversionWarning: A column-vector y was passed when a 1d array was expected. Please change the shape of y to (n_samples, ), for example using ravel().\n",
      "  return f(*args, **kwargs)\n"
     ]
    },
    {
     "name": "stdout",
     "output_type": "stream",
     "text": [
      "[17:20:56] WARNING: ../src/learner.cc:1095: Starting in XGBoost 1.3.0, the default evaluation metric used with the objective 'multi:softprob' was changed from 'merror' to 'mlogloss'. Explicitly set eval_metric if you'd like to restore the old behavior.\n",
      "[CV 2/5] END colsample_bynode=0.3, learning_rate=0.1, max_depth=10, n_estimators=120, reg_alpha=0.1, reg_lambda=3e-05;, score=0.677 total time=  15.2s\n"
     ]
    },
    {
     "name": "stderr",
     "output_type": "stream",
     "text": [
      "/home/fscaccheri/.local/lib/python3.6/site-packages/xgboost/sklearn.py:1146: UserWarning: The use of label encoder in XGBClassifier is deprecated and will be removed in a future release. To remove this warning, do the following: 1) Pass option use_label_encoder=False when constructing XGBClassifier object; and 2) Encode your labels (y) as integers starting with 0, i.e. 0, 1, 2, ..., [num_class - 1].\n",
      "  warnings.warn(label_encoder_deprecation_msg, UserWarning)\n",
      "/home/fscaccheri/.local/lib/python3.6/site-packages/sklearn/utils/validation.py:63: DataConversionWarning: A column-vector y was passed when a 1d array was expected. Please change the shape of y to (n_samples, ), for example using ravel().\n",
      "  return f(*args, **kwargs)\n"
     ]
    },
    {
     "name": "stdout",
     "output_type": "stream",
     "text": [
      "[17:21:11] WARNING: ../src/learner.cc:1095: Starting in XGBoost 1.3.0, the default evaluation metric used with the objective 'multi:softprob' was changed from 'merror' to 'mlogloss'. Explicitly set eval_metric if you'd like to restore the old behavior.\n",
      "[CV 3/5] END colsample_bynode=0.3, learning_rate=0.1, max_depth=10, n_estimators=120, reg_alpha=0.1, reg_lambda=3e-05;, score=0.683 total time=  15.2s\n"
     ]
    },
    {
     "name": "stderr",
     "output_type": "stream",
     "text": [
      "/home/fscaccheri/.local/lib/python3.6/site-packages/xgboost/sklearn.py:1146: UserWarning: The use of label encoder in XGBClassifier is deprecated and will be removed in a future release. To remove this warning, do the following: 1) Pass option use_label_encoder=False when constructing XGBClassifier object; and 2) Encode your labels (y) as integers starting with 0, i.e. 0, 1, 2, ..., [num_class - 1].\n",
      "  warnings.warn(label_encoder_deprecation_msg, UserWarning)\n",
      "/home/fscaccheri/.local/lib/python3.6/site-packages/sklearn/utils/validation.py:63: DataConversionWarning: A column-vector y was passed when a 1d array was expected. Please change the shape of y to (n_samples, ), for example using ravel().\n",
      "  return f(*args, **kwargs)\n"
     ]
    },
    {
     "name": "stdout",
     "output_type": "stream",
     "text": [
      "[17:21:27] WARNING: ../src/learner.cc:1095: Starting in XGBoost 1.3.0, the default evaluation metric used with the objective 'multi:softprob' was changed from 'merror' to 'mlogloss'. Explicitly set eval_metric if you'd like to restore the old behavior.\n",
      "[CV 4/5] END colsample_bynode=0.3, learning_rate=0.1, max_depth=10, n_estimators=120, reg_alpha=0.1, reg_lambda=3e-05;, score=0.679 total time=  15.2s\n"
     ]
    },
    {
     "name": "stderr",
     "output_type": "stream",
     "text": [
      "/home/fscaccheri/.local/lib/python3.6/site-packages/xgboost/sklearn.py:1146: UserWarning: The use of label encoder in XGBClassifier is deprecated and will be removed in a future release. To remove this warning, do the following: 1) Pass option use_label_encoder=False when constructing XGBClassifier object; and 2) Encode your labels (y) as integers starting with 0, i.e. 0, 1, 2, ..., [num_class - 1].\n",
      "  warnings.warn(label_encoder_deprecation_msg, UserWarning)\n",
      "/home/fscaccheri/.local/lib/python3.6/site-packages/sklearn/utils/validation.py:63: DataConversionWarning: A column-vector y was passed when a 1d array was expected. Please change the shape of y to (n_samples, ), for example using ravel().\n",
      "  return f(*args, **kwargs)\n"
     ]
    },
    {
     "name": "stdout",
     "output_type": "stream",
     "text": [
      "[17:21:42] WARNING: ../src/learner.cc:1095: Starting in XGBoost 1.3.0, the default evaluation metric used with the objective 'multi:softprob' was changed from 'merror' to 'mlogloss'. Explicitly set eval_metric if you'd like to restore the old behavior.\n",
      "[CV 5/5] END colsample_bynode=0.3, learning_rate=0.1, max_depth=10, n_estimators=120, reg_alpha=0.1, reg_lambda=3e-05;, score=0.680 total time=  15.0s\n"
     ]
    },
    {
     "name": "stderr",
     "output_type": "stream",
     "text": [
      "/home/fscaccheri/.local/lib/python3.6/site-packages/xgboost/sklearn.py:1146: UserWarning: The use of label encoder in XGBClassifier is deprecated and will be removed in a future release. To remove this warning, do the following: 1) Pass option use_label_encoder=False when constructing XGBClassifier object; and 2) Encode your labels (y) as integers starting with 0, i.e. 0, 1, 2, ..., [num_class - 1].\n",
      "  warnings.warn(label_encoder_deprecation_msg, UserWarning)\n",
      "/home/fscaccheri/.local/lib/python3.6/site-packages/sklearn/utils/validation.py:63: DataConversionWarning: A column-vector y was passed when a 1d array was expected. Please change the shape of y to (n_samples, ), for example using ravel().\n",
      "  return f(*args, **kwargs)\n"
     ]
    },
    {
     "name": "stdout",
     "output_type": "stream",
     "text": [
      "[17:21:57] WARNING: ../src/learner.cc:1095: Starting in XGBoost 1.3.0, the default evaluation metric used with the objective 'multi:softprob' was changed from 'merror' to 'mlogloss'. Explicitly set eval_metric if you'd like to restore the old behavior.\n",
      "[CV 1/5] END colsample_bynode=0.3, learning_rate=0.1, max_depth=10, n_estimators=120, reg_alpha=0.5, reg_lambda=1e-05;, score=0.675 total time=  15.2s\n"
     ]
    },
    {
     "name": "stderr",
     "output_type": "stream",
     "text": [
      "/home/fscaccheri/.local/lib/python3.6/site-packages/xgboost/sklearn.py:1146: UserWarning: The use of label encoder in XGBClassifier is deprecated and will be removed in a future release. To remove this warning, do the following: 1) Pass option use_label_encoder=False when constructing XGBClassifier object; and 2) Encode your labels (y) as integers starting with 0, i.e. 0, 1, 2, ..., [num_class - 1].\n",
      "  warnings.warn(label_encoder_deprecation_msg, UserWarning)\n",
      "/home/fscaccheri/.local/lib/python3.6/site-packages/sklearn/utils/validation.py:63: DataConversionWarning: A column-vector y was passed when a 1d array was expected. Please change the shape of y to (n_samples, ), for example using ravel().\n",
      "  return f(*args, **kwargs)\n"
     ]
    },
    {
     "name": "stdout",
     "output_type": "stream",
     "text": [
      "[17:22:12] WARNING: ../src/learner.cc:1095: Starting in XGBoost 1.3.0, the default evaluation metric used with the objective 'multi:softprob' was changed from 'merror' to 'mlogloss'. Explicitly set eval_metric if you'd like to restore the old behavior.\n",
      "[CV 2/5] END colsample_bynode=0.3, learning_rate=0.1, max_depth=10, n_estimators=120, reg_alpha=0.5, reg_lambda=1e-05;, score=0.677 total time=  15.2s\n"
     ]
    },
    {
     "name": "stderr",
     "output_type": "stream",
     "text": [
      "/home/fscaccheri/.local/lib/python3.6/site-packages/xgboost/sklearn.py:1146: UserWarning: The use of label encoder in XGBClassifier is deprecated and will be removed in a future release. To remove this warning, do the following: 1) Pass option use_label_encoder=False when constructing XGBClassifier object; and 2) Encode your labels (y) as integers starting with 0, i.e. 0, 1, 2, ..., [num_class - 1].\n",
      "  warnings.warn(label_encoder_deprecation_msg, UserWarning)\n",
      "/home/fscaccheri/.local/lib/python3.6/site-packages/sklearn/utils/validation.py:63: DataConversionWarning: A column-vector y was passed when a 1d array was expected. Please change the shape of y to (n_samples, ), for example using ravel().\n",
      "  return f(*args, **kwargs)\n"
     ]
    },
    {
     "name": "stdout",
     "output_type": "stream",
     "text": [
      "[17:22:27] WARNING: ../src/learner.cc:1095: Starting in XGBoost 1.3.0, the default evaluation metric used with the objective 'multi:softprob' was changed from 'merror' to 'mlogloss'. Explicitly set eval_metric if you'd like to restore the old behavior.\n",
      "[CV 3/5] END colsample_bynode=0.3, learning_rate=0.1, max_depth=10, n_estimators=120, reg_alpha=0.5, reg_lambda=1e-05;, score=0.684 total time=  15.1s\n"
     ]
    },
    {
     "name": "stderr",
     "output_type": "stream",
     "text": [
      "/home/fscaccheri/.local/lib/python3.6/site-packages/xgboost/sklearn.py:1146: UserWarning: The use of label encoder in XGBClassifier is deprecated and will be removed in a future release. To remove this warning, do the following: 1) Pass option use_label_encoder=False when constructing XGBClassifier object; and 2) Encode your labels (y) as integers starting with 0, i.e. 0, 1, 2, ..., [num_class - 1].\n",
      "  warnings.warn(label_encoder_deprecation_msg, UserWarning)\n",
      "/home/fscaccheri/.local/lib/python3.6/site-packages/sklearn/utils/validation.py:63: DataConversionWarning: A column-vector y was passed when a 1d array was expected. Please change the shape of y to (n_samples, ), for example using ravel().\n",
      "  return f(*args, **kwargs)\n"
     ]
    },
    {
     "name": "stdout",
     "output_type": "stream",
     "text": [
      "[17:22:42] WARNING: ../src/learner.cc:1095: Starting in XGBoost 1.3.0, the default evaluation metric used with the objective 'multi:softprob' was changed from 'merror' to 'mlogloss'. Explicitly set eval_metric if you'd like to restore the old behavior.\n",
      "[CV 4/5] END colsample_bynode=0.3, learning_rate=0.1, max_depth=10, n_estimators=120, reg_alpha=0.5, reg_lambda=1e-05;, score=0.679 total time=  15.1s\n"
     ]
    },
    {
     "name": "stderr",
     "output_type": "stream",
     "text": [
      "/home/fscaccheri/.local/lib/python3.6/site-packages/xgboost/sklearn.py:1146: UserWarning: The use of label encoder in XGBClassifier is deprecated and will be removed in a future release. To remove this warning, do the following: 1) Pass option use_label_encoder=False when constructing XGBClassifier object; and 2) Encode your labels (y) as integers starting with 0, i.e. 0, 1, 2, ..., [num_class - 1].\n",
      "  warnings.warn(label_encoder_deprecation_msg, UserWarning)\n",
      "/home/fscaccheri/.local/lib/python3.6/site-packages/sklearn/utils/validation.py:63: DataConversionWarning: A column-vector y was passed when a 1d array was expected. Please change the shape of y to (n_samples, ), for example using ravel().\n",
      "  return f(*args, **kwargs)\n"
     ]
    },
    {
     "name": "stdout",
     "output_type": "stream",
     "text": [
      "[17:22:57] WARNING: ../src/learner.cc:1095: Starting in XGBoost 1.3.0, the default evaluation metric used with the objective 'multi:softprob' was changed from 'merror' to 'mlogloss'. Explicitly set eval_metric if you'd like to restore the old behavior.\n",
      "[CV 5/5] END colsample_bynode=0.3, learning_rate=0.1, max_depth=10, n_estimators=120, reg_alpha=0.5, reg_lambda=1e-05;, score=0.680 total time=  15.0s\n"
     ]
    },
    {
     "name": "stderr",
     "output_type": "stream",
     "text": [
      "/home/fscaccheri/.local/lib/python3.6/site-packages/xgboost/sklearn.py:1146: UserWarning: The use of label encoder in XGBClassifier is deprecated and will be removed in a future release. To remove this warning, do the following: 1) Pass option use_label_encoder=False when constructing XGBClassifier object; and 2) Encode your labels (y) as integers starting with 0, i.e. 0, 1, 2, ..., [num_class - 1].\n",
      "  warnings.warn(label_encoder_deprecation_msg, UserWarning)\n",
      "/home/fscaccheri/.local/lib/python3.6/site-packages/sklearn/utils/validation.py:63: DataConversionWarning: A column-vector y was passed when a 1d array was expected. Please change the shape of y to (n_samples, ), for example using ravel().\n",
      "  return f(*args, **kwargs)\n"
     ]
    },
    {
     "name": "stdout",
     "output_type": "stream",
     "text": [
      "[17:23:17] WARNING: ../src/learner.cc:1095: Starting in XGBoost 1.3.0, the default evaluation metric used with the objective 'multi:softprob' was changed from 'merror' to 'mlogloss'. Explicitly set eval_metric if you'd like to restore the old behavior.\n",
      "[CV 1/5] END colsample_bynode=0.3, learning_rate=0.1, max_depth=10, n_estimators=120, reg_alpha=0.5, reg_lambda=3e-05;, score=0.675 total time=  19.4s\n"
     ]
    },
    {
     "name": "stderr",
     "output_type": "stream",
     "text": [
      "/home/fscaccheri/.local/lib/python3.6/site-packages/xgboost/sklearn.py:1146: UserWarning: The use of label encoder in XGBClassifier is deprecated and will be removed in a future release. To remove this warning, do the following: 1) Pass option use_label_encoder=False when constructing XGBClassifier object; and 2) Encode your labels (y) as integers starting with 0, i.e. 0, 1, 2, ..., [num_class - 1].\n",
      "  warnings.warn(label_encoder_deprecation_msg, UserWarning)\n",
      "/home/fscaccheri/.local/lib/python3.6/site-packages/sklearn/utils/validation.py:63: DataConversionWarning: A column-vector y was passed when a 1d array was expected. Please change the shape of y to (n_samples, ), for example using ravel().\n",
      "  return f(*args, **kwargs)\n"
     ]
    },
    {
     "name": "stdout",
     "output_type": "stream",
     "text": [
      "[17:23:37] WARNING: ../src/learner.cc:1095: Starting in XGBoost 1.3.0, the default evaluation metric used with the objective 'multi:softprob' was changed from 'merror' to 'mlogloss'. Explicitly set eval_metric if you'd like to restore the old behavior.\n",
      "[CV 2/5] END colsample_bynode=0.3, learning_rate=0.1, max_depth=10, n_estimators=120, reg_alpha=0.5, reg_lambda=3e-05;, score=0.677 total time=  20.2s\n"
     ]
    },
    {
     "name": "stderr",
     "output_type": "stream",
     "text": [
      "/home/fscaccheri/.local/lib/python3.6/site-packages/xgboost/sklearn.py:1146: UserWarning: The use of label encoder in XGBClassifier is deprecated and will be removed in a future release. To remove this warning, do the following: 1) Pass option use_label_encoder=False when constructing XGBClassifier object; and 2) Encode your labels (y) as integers starting with 0, i.e. 0, 1, 2, ..., [num_class - 1].\n",
      "  warnings.warn(label_encoder_deprecation_msg, UserWarning)\n",
      "/home/fscaccheri/.local/lib/python3.6/site-packages/sklearn/utils/validation.py:63: DataConversionWarning: A column-vector y was passed when a 1d array was expected. Please change the shape of y to (n_samples, ), for example using ravel().\n",
      "  return f(*args, **kwargs)\n"
     ]
    },
    {
     "name": "stdout",
     "output_type": "stream",
     "text": [
      "[17:23:56] WARNING: ../src/learner.cc:1095: Starting in XGBoost 1.3.0, the default evaluation metric used with the objective 'multi:softprob' was changed from 'merror' to 'mlogloss'. Explicitly set eval_metric if you'd like to restore the old behavior.\n",
      "[CV 3/5] END colsample_bynode=0.3, learning_rate=0.1, max_depth=10, n_estimators=120, reg_alpha=0.5, reg_lambda=3e-05;, score=0.684 total time=  19.0s\n"
     ]
    },
    {
     "name": "stderr",
     "output_type": "stream",
     "text": [
      "/home/fscaccheri/.local/lib/python3.6/site-packages/xgboost/sklearn.py:1146: UserWarning: The use of label encoder in XGBClassifier is deprecated and will be removed in a future release. To remove this warning, do the following: 1) Pass option use_label_encoder=False when constructing XGBClassifier object; and 2) Encode your labels (y) as integers starting with 0, i.e. 0, 1, 2, ..., [num_class - 1].\n",
      "  warnings.warn(label_encoder_deprecation_msg, UserWarning)\n",
      "/home/fscaccheri/.local/lib/python3.6/site-packages/sklearn/utils/validation.py:63: DataConversionWarning: A column-vector y was passed when a 1d array was expected. Please change the shape of y to (n_samples, ), for example using ravel().\n",
      "  return f(*args, **kwargs)\n"
     ]
    },
    {
     "name": "stdout",
     "output_type": "stream",
     "text": [
      "[17:24:15] WARNING: ../src/learner.cc:1095: Starting in XGBoost 1.3.0, the default evaluation metric used with the objective 'multi:softprob' was changed from 'merror' to 'mlogloss'. Explicitly set eval_metric if you'd like to restore the old behavior.\n",
      "[CV 4/5] END colsample_bynode=0.3, learning_rate=0.1, max_depth=10, n_estimators=120, reg_alpha=0.5, reg_lambda=3e-05;, score=0.679 total time=  18.6s\n"
     ]
    },
    {
     "name": "stderr",
     "output_type": "stream",
     "text": [
      "/home/fscaccheri/.local/lib/python3.6/site-packages/xgboost/sklearn.py:1146: UserWarning: The use of label encoder in XGBClassifier is deprecated and will be removed in a future release. To remove this warning, do the following: 1) Pass option use_label_encoder=False when constructing XGBClassifier object; and 2) Encode your labels (y) as integers starting with 0, i.e. 0, 1, 2, ..., [num_class - 1].\n",
      "  warnings.warn(label_encoder_deprecation_msg, UserWarning)\n",
      "/home/fscaccheri/.local/lib/python3.6/site-packages/sklearn/utils/validation.py:63: DataConversionWarning: A column-vector y was passed when a 1d array was expected. Please change the shape of y to (n_samples, ), for example using ravel().\n",
      "  return f(*args, **kwargs)\n"
     ]
    },
    {
     "name": "stdout",
     "output_type": "stream",
     "text": [
      "[17:24:34] WARNING: ../src/learner.cc:1095: Starting in XGBoost 1.3.0, the default evaluation metric used with the objective 'multi:softprob' was changed from 'merror' to 'mlogloss'. Explicitly set eval_metric if you'd like to restore the old behavior.\n",
      "[CV 5/5] END colsample_bynode=0.3, learning_rate=0.1, max_depth=10, n_estimators=120, reg_alpha=0.5, reg_lambda=3e-05;, score=0.680 total time=  19.2s\n"
     ]
    },
    {
     "name": "stderr",
     "output_type": "stream",
     "text": [
      "/home/fscaccheri/.local/lib/python3.6/site-packages/xgboost/sklearn.py:1146: UserWarning: The use of label encoder in XGBClassifier is deprecated and will be removed in a future release. To remove this warning, do the following: 1) Pass option use_label_encoder=False when constructing XGBClassifier object; and 2) Encode your labels (y) as integers starting with 0, i.e. 0, 1, 2, ..., [num_class - 1].\n",
      "  warnings.warn(label_encoder_deprecation_msg, UserWarning)\n",
      "/home/fscaccheri/.local/lib/python3.6/site-packages/sklearn/utils/validation.py:63: DataConversionWarning: A column-vector y was passed when a 1d array was expected. Please change the shape of y to (n_samples, ), for example using ravel().\n",
      "  return f(*args, **kwargs)\n"
     ]
    },
    {
     "name": "stdout",
     "output_type": "stream",
     "text": [
      "[17:25:00] WARNING: ../src/learner.cc:1095: Starting in XGBoost 1.3.0, the default evaluation metric used with the objective 'multi:softprob' was changed from 'merror' to 'mlogloss'. Explicitly set eval_metric if you'd like to restore the old behavior.\n",
      "[CV 1/5] END colsample_bynode=0.3, learning_rate=0.1, max_depth=15, n_estimators=100, reg_alpha=0.1, reg_lambda=1e-05;, score=0.707 total time=  29.7s\n"
     ]
    },
    {
     "name": "stderr",
     "output_type": "stream",
     "text": [
      "/home/fscaccheri/.local/lib/python3.6/site-packages/xgboost/sklearn.py:1146: UserWarning: The use of label encoder in XGBClassifier is deprecated and will be removed in a future release. To remove this warning, do the following: 1) Pass option use_label_encoder=False when constructing XGBClassifier object; and 2) Encode your labels (y) as integers starting with 0, i.e. 0, 1, 2, ..., [num_class - 1].\n",
      "  warnings.warn(label_encoder_deprecation_msg, UserWarning)\n",
      "/home/fscaccheri/.local/lib/python3.6/site-packages/sklearn/utils/validation.py:63: DataConversionWarning: A column-vector y was passed when a 1d array was expected. Please change the shape of y to (n_samples, ), for example using ravel().\n",
      "  return f(*args, **kwargs)\n"
     ]
    },
    {
     "name": "stdout",
     "output_type": "stream",
     "text": [
      "[17:25:30] WARNING: ../src/learner.cc:1095: Starting in XGBoost 1.3.0, the default evaluation metric used with the objective 'multi:softprob' was changed from 'merror' to 'mlogloss'. Explicitly set eval_metric if you'd like to restore the old behavior.\n",
      "[CV 2/5] END colsample_bynode=0.3, learning_rate=0.1, max_depth=15, n_estimators=100, reg_alpha=0.1, reg_lambda=1e-05;, score=0.706 total time=  29.6s\n"
     ]
    },
    {
     "name": "stderr",
     "output_type": "stream",
     "text": [
      "/home/fscaccheri/.local/lib/python3.6/site-packages/xgboost/sklearn.py:1146: UserWarning: The use of label encoder in XGBClassifier is deprecated and will be removed in a future release. To remove this warning, do the following: 1) Pass option use_label_encoder=False when constructing XGBClassifier object; and 2) Encode your labels (y) as integers starting with 0, i.e. 0, 1, 2, ..., [num_class - 1].\n",
      "  warnings.warn(label_encoder_deprecation_msg, UserWarning)\n",
      "/home/fscaccheri/.local/lib/python3.6/site-packages/sklearn/utils/validation.py:63: DataConversionWarning: A column-vector y was passed when a 1d array was expected. Please change the shape of y to (n_samples, ), for example using ravel().\n",
      "  return f(*args, **kwargs)\n"
     ]
    },
    {
     "name": "stdout",
     "output_type": "stream",
     "text": [
      "[17:26:01] WARNING: ../src/learner.cc:1095: Starting in XGBoost 1.3.0, the default evaluation metric used with the objective 'multi:softprob' was changed from 'merror' to 'mlogloss'. Explicitly set eval_metric if you'd like to restore the old behavior.\n",
      "[CV 3/5] END colsample_bynode=0.3, learning_rate=0.1, max_depth=15, n_estimators=100, reg_alpha=0.1, reg_lambda=1e-05;, score=0.715 total time=  30.7s\n"
     ]
    },
    {
     "name": "stderr",
     "output_type": "stream",
     "text": [
      "/home/fscaccheri/.local/lib/python3.6/site-packages/xgboost/sklearn.py:1146: UserWarning: The use of label encoder in XGBClassifier is deprecated and will be removed in a future release. To remove this warning, do the following: 1) Pass option use_label_encoder=False when constructing XGBClassifier object; and 2) Encode your labels (y) as integers starting with 0, i.e. 0, 1, 2, ..., [num_class - 1].\n",
      "  warnings.warn(label_encoder_deprecation_msg, UserWarning)\n",
      "/home/fscaccheri/.local/lib/python3.6/site-packages/sklearn/utils/validation.py:63: DataConversionWarning: A column-vector y was passed when a 1d array was expected. Please change the shape of y to (n_samples, ), for example using ravel().\n",
      "  return f(*args, **kwargs)\n"
     ]
    },
    {
     "name": "stdout",
     "output_type": "stream",
     "text": [
      "[17:26:31] WARNING: ../src/learner.cc:1095: Starting in XGBoost 1.3.0, the default evaluation metric used with the objective 'multi:softprob' was changed from 'merror' to 'mlogloss'. Explicitly set eval_metric if you'd like to restore the old behavior.\n",
      "[CV 4/5] END colsample_bynode=0.3, learning_rate=0.1, max_depth=15, n_estimators=100, reg_alpha=0.1, reg_lambda=1e-05;, score=0.710 total time=  29.8s\n"
     ]
    },
    {
     "name": "stderr",
     "output_type": "stream",
     "text": [
      "/home/fscaccheri/.local/lib/python3.6/site-packages/xgboost/sklearn.py:1146: UserWarning: The use of label encoder in XGBClassifier is deprecated and will be removed in a future release. To remove this warning, do the following: 1) Pass option use_label_encoder=False when constructing XGBClassifier object; and 2) Encode your labels (y) as integers starting with 0, i.e. 0, 1, 2, ..., [num_class - 1].\n",
      "  warnings.warn(label_encoder_deprecation_msg, UserWarning)\n",
      "/home/fscaccheri/.local/lib/python3.6/site-packages/sklearn/utils/validation.py:63: DataConversionWarning: A column-vector y was passed when a 1d array was expected. Please change the shape of y to (n_samples, ), for example using ravel().\n",
      "  return f(*args, **kwargs)\n"
     ]
    },
    {
     "name": "stdout",
     "output_type": "stream",
     "text": [
      "[17:27:03] WARNING: ../src/learner.cc:1095: Starting in XGBoost 1.3.0, the default evaluation metric used with the objective 'multi:softprob' was changed from 'merror' to 'mlogloss'. Explicitly set eval_metric if you'd like to restore the old behavior.\n",
      "[CV 5/5] END colsample_bynode=0.3, learning_rate=0.1, max_depth=15, n_estimators=100, reg_alpha=0.1, reg_lambda=1e-05;, score=0.711 total time=  32.3s\n"
     ]
    },
    {
     "name": "stderr",
     "output_type": "stream",
     "text": [
      "/home/fscaccheri/.local/lib/python3.6/site-packages/xgboost/sklearn.py:1146: UserWarning: The use of label encoder in XGBClassifier is deprecated and will be removed in a future release. To remove this warning, do the following: 1) Pass option use_label_encoder=False when constructing XGBClassifier object; and 2) Encode your labels (y) as integers starting with 0, i.e. 0, 1, 2, ..., [num_class - 1].\n",
      "  warnings.warn(label_encoder_deprecation_msg, UserWarning)\n",
      "/home/fscaccheri/.local/lib/python3.6/site-packages/sklearn/utils/validation.py:63: DataConversionWarning: A column-vector y was passed when a 1d array was expected. Please change the shape of y to (n_samples, ), for example using ravel().\n",
      "  return f(*args, **kwargs)\n"
     ]
    },
    {
     "name": "stdout",
     "output_type": "stream",
     "text": [
      "[17:27:32] WARNING: ../src/learner.cc:1095: Starting in XGBoost 1.3.0, the default evaluation metric used with the objective 'multi:softprob' was changed from 'merror' to 'mlogloss'. Explicitly set eval_metric if you'd like to restore the old behavior.\n",
      "[CV 1/5] END colsample_bynode=0.3, learning_rate=0.1, max_depth=15, n_estimators=100, reg_alpha=0.1, reg_lambda=3e-05;, score=0.707 total time=  29.8s\n"
     ]
    },
    {
     "name": "stderr",
     "output_type": "stream",
     "text": [
      "/home/fscaccheri/.local/lib/python3.6/site-packages/xgboost/sklearn.py:1146: UserWarning: The use of label encoder in XGBClassifier is deprecated and will be removed in a future release. To remove this warning, do the following: 1) Pass option use_label_encoder=False when constructing XGBClassifier object; and 2) Encode your labels (y) as integers starting with 0, i.e. 0, 1, 2, ..., [num_class - 1].\n",
      "  warnings.warn(label_encoder_deprecation_msg, UserWarning)\n",
      "/home/fscaccheri/.local/lib/python3.6/site-packages/sklearn/utils/validation.py:63: DataConversionWarning: A column-vector y was passed when a 1d array was expected. Please change the shape of y to (n_samples, ), for example using ravel().\n",
      "  return f(*args, **kwargs)\n"
     ]
    },
    {
     "name": "stdout",
     "output_type": "stream",
     "text": [
      "[17:28:07] WARNING: ../src/learner.cc:1095: Starting in XGBoost 1.3.0, the default evaluation metric used with the objective 'multi:softprob' was changed from 'merror' to 'mlogloss'. Explicitly set eval_metric if you'd like to restore the old behavior.\n",
      "[CV 2/5] END colsample_bynode=0.3, learning_rate=0.1, max_depth=15, n_estimators=100, reg_alpha=0.1, reg_lambda=3e-05;, score=0.706 total time=  34.4s\n"
     ]
    },
    {
     "name": "stderr",
     "output_type": "stream",
     "text": [
      "/home/fscaccheri/.local/lib/python3.6/site-packages/xgboost/sklearn.py:1146: UserWarning: The use of label encoder in XGBClassifier is deprecated and will be removed in a future release. To remove this warning, do the following: 1) Pass option use_label_encoder=False when constructing XGBClassifier object; and 2) Encode your labels (y) as integers starting with 0, i.e. 0, 1, 2, ..., [num_class - 1].\n",
      "  warnings.warn(label_encoder_deprecation_msg, UserWarning)\n",
      "/home/fscaccheri/.local/lib/python3.6/site-packages/sklearn/utils/validation.py:63: DataConversionWarning: A column-vector y was passed when a 1d array was expected. Please change the shape of y to (n_samples, ), for example using ravel().\n",
      "  return f(*args, **kwargs)\n"
     ]
    },
    {
     "name": "stdout",
     "output_type": "stream",
     "text": [
      "[17:28:31] WARNING: ../src/learner.cc:1095: Starting in XGBoost 1.3.0, the default evaluation metric used with the objective 'multi:softprob' was changed from 'merror' to 'mlogloss'. Explicitly set eval_metric if you'd like to restore the old behavior.\n",
      "[CV 3/5] END colsample_bynode=0.3, learning_rate=0.1, max_depth=15, n_estimators=100, reg_alpha=0.1, reg_lambda=3e-05;, score=0.715 total time=  24.0s\n"
     ]
    },
    {
     "name": "stderr",
     "output_type": "stream",
     "text": [
      "/home/fscaccheri/.local/lib/python3.6/site-packages/xgboost/sklearn.py:1146: UserWarning: The use of label encoder in XGBClassifier is deprecated and will be removed in a future release. To remove this warning, do the following: 1) Pass option use_label_encoder=False when constructing XGBClassifier object; and 2) Encode your labels (y) as integers starting with 0, i.e. 0, 1, 2, ..., [num_class - 1].\n",
      "  warnings.warn(label_encoder_deprecation_msg, UserWarning)\n",
      "/home/fscaccheri/.local/lib/python3.6/site-packages/sklearn/utils/validation.py:63: DataConversionWarning: A column-vector y was passed when a 1d array was expected. Please change the shape of y to (n_samples, ), for example using ravel().\n",
      "  return f(*args, **kwargs)\n"
     ]
    },
    {
     "name": "stdout",
     "output_type": "stream",
     "text": [
      "[17:28:55] WARNING: ../src/learner.cc:1095: Starting in XGBoost 1.3.0, the default evaluation metric used with the objective 'multi:softprob' was changed from 'merror' to 'mlogloss'. Explicitly set eval_metric if you'd like to restore the old behavior.\n",
      "[CV 4/5] END colsample_bynode=0.3, learning_rate=0.1, max_depth=15, n_estimators=100, reg_alpha=0.1, reg_lambda=3e-05;, score=0.710 total time=  23.5s\n"
     ]
    },
    {
     "name": "stderr",
     "output_type": "stream",
     "text": [
      "/home/fscaccheri/.local/lib/python3.6/site-packages/xgboost/sklearn.py:1146: UserWarning: The use of label encoder in XGBClassifier is deprecated and will be removed in a future release. To remove this warning, do the following: 1) Pass option use_label_encoder=False when constructing XGBClassifier object; and 2) Encode your labels (y) as integers starting with 0, i.e. 0, 1, 2, ..., [num_class - 1].\n",
      "  warnings.warn(label_encoder_deprecation_msg, UserWarning)\n",
      "/home/fscaccheri/.local/lib/python3.6/site-packages/sklearn/utils/validation.py:63: DataConversionWarning: A column-vector y was passed when a 1d array was expected. Please change the shape of y to (n_samples, ), for example using ravel().\n",
      "  return f(*args, **kwargs)\n"
     ]
    },
    {
     "name": "stdout",
     "output_type": "stream",
     "text": [
      "[17:29:18] WARNING: ../src/learner.cc:1095: Starting in XGBoost 1.3.0, the default evaluation metric used with the objective 'multi:softprob' was changed from 'merror' to 'mlogloss'. Explicitly set eval_metric if you'd like to restore the old behavior.\n",
      "[CV 5/5] END colsample_bynode=0.3, learning_rate=0.1, max_depth=15, n_estimators=100, reg_alpha=0.1, reg_lambda=3e-05;, score=0.711 total time=  23.7s\n"
     ]
    },
    {
     "name": "stderr",
     "output_type": "stream",
     "text": [
      "/home/fscaccheri/.local/lib/python3.6/site-packages/xgboost/sklearn.py:1146: UserWarning: The use of label encoder in XGBClassifier is deprecated and will be removed in a future release. To remove this warning, do the following: 1) Pass option use_label_encoder=False when constructing XGBClassifier object; and 2) Encode your labels (y) as integers starting with 0, i.e. 0, 1, 2, ..., [num_class - 1].\n",
      "  warnings.warn(label_encoder_deprecation_msg, UserWarning)\n",
      "/home/fscaccheri/.local/lib/python3.6/site-packages/sklearn/utils/validation.py:63: DataConversionWarning: A column-vector y was passed when a 1d array was expected. Please change the shape of y to (n_samples, ), for example using ravel().\n",
      "  return f(*args, **kwargs)\n"
     ]
    },
    {
     "name": "stdout",
     "output_type": "stream",
     "text": [
      "[17:29:41] WARNING: ../src/learner.cc:1095: Starting in XGBoost 1.3.0, the default evaluation metric used with the objective 'multi:softprob' was changed from 'merror' to 'mlogloss'. Explicitly set eval_metric if you'd like to restore the old behavior.\n",
      "[CV 1/5] END colsample_bynode=0.3, learning_rate=0.1, max_depth=15, n_estimators=100, reg_alpha=0.5, reg_lambda=1e-05;, score=0.705 total time=  22.2s\n"
     ]
    },
    {
     "name": "stderr",
     "output_type": "stream",
     "text": [
      "/home/fscaccheri/.local/lib/python3.6/site-packages/xgboost/sklearn.py:1146: UserWarning: The use of label encoder in XGBClassifier is deprecated and will be removed in a future release. To remove this warning, do the following: 1) Pass option use_label_encoder=False when constructing XGBClassifier object; and 2) Encode your labels (y) as integers starting with 0, i.e. 0, 1, 2, ..., [num_class - 1].\n",
      "  warnings.warn(label_encoder_deprecation_msg, UserWarning)\n",
      "/home/fscaccheri/.local/lib/python3.6/site-packages/sklearn/utils/validation.py:63: DataConversionWarning: A column-vector y was passed when a 1d array was expected. Please change the shape of y to (n_samples, ), for example using ravel().\n",
      "  return f(*args, **kwargs)\n"
     ]
    },
    {
     "name": "stdout",
     "output_type": "stream",
     "text": [
      "[17:30:04] WARNING: ../src/learner.cc:1095: Starting in XGBoost 1.3.0, the default evaluation metric used with the objective 'multi:softprob' was changed from 'merror' to 'mlogloss'. Explicitly set eval_metric if you'd like to restore the old behavior.\n",
      "[CV 2/5] END colsample_bynode=0.3, learning_rate=0.1, max_depth=15, n_estimators=100, reg_alpha=0.5, reg_lambda=1e-05;, score=0.706 total time=  22.8s\n"
     ]
    },
    {
     "name": "stderr",
     "output_type": "stream",
     "text": [
      "/home/fscaccheri/.local/lib/python3.6/site-packages/xgboost/sklearn.py:1146: UserWarning: The use of label encoder in XGBClassifier is deprecated and will be removed in a future release. To remove this warning, do the following: 1) Pass option use_label_encoder=False when constructing XGBClassifier object; and 2) Encode your labels (y) as integers starting with 0, i.e. 0, 1, 2, ..., [num_class - 1].\n",
      "  warnings.warn(label_encoder_deprecation_msg, UserWarning)\n",
      "/home/fscaccheri/.local/lib/python3.6/site-packages/sklearn/utils/validation.py:63: DataConversionWarning: A column-vector y was passed when a 1d array was expected. Please change the shape of y to (n_samples, ), for example using ravel().\n",
      "  return f(*args, **kwargs)\n"
     ]
    },
    {
     "name": "stdout",
     "output_type": "stream",
     "text": [
      "[17:30:27] WARNING: ../src/learner.cc:1095: Starting in XGBoost 1.3.0, the default evaluation metric used with the objective 'multi:softprob' was changed from 'merror' to 'mlogloss'. Explicitly set eval_metric if you'd like to restore the old behavior.\n",
      "[CV 3/5] END colsample_bynode=0.3, learning_rate=0.1, max_depth=15, n_estimators=100, reg_alpha=0.5, reg_lambda=1e-05;, score=0.715 total time=  22.5s\n"
     ]
    },
    {
     "name": "stderr",
     "output_type": "stream",
     "text": [
      "/home/fscaccheri/.local/lib/python3.6/site-packages/xgboost/sklearn.py:1146: UserWarning: The use of label encoder in XGBClassifier is deprecated and will be removed in a future release. To remove this warning, do the following: 1) Pass option use_label_encoder=False when constructing XGBClassifier object; and 2) Encode your labels (y) as integers starting with 0, i.e. 0, 1, 2, ..., [num_class - 1].\n",
      "  warnings.warn(label_encoder_deprecation_msg, UserWarning)\n",
      "/home/fscaccheri/.local/lib/python3.6/site-packages/sklearn/utils/validation.py:63: DataConversionWarning: A column-vector y was passed when a 1d array was expected. Please change the shape of y to (n_samples, ), for example using ravel().\n",
      "  return f(*args, **kwargs)\n"
     ]
    },
    {
     "name": "stdout",
     "output_type": "stream",
     "text": [
      "[17:30:52] WARNING: ../src/learner.cc:1095: Starting in XGBoost 1.3.0, the default evaluation metric used with the objective 'multi:softprob' was changed from 'merror' to 'mlogloss'. Explicitly set eval_metric if you'd like to restore the old behavior.\n",
      "[CV 4/5] END colsample_bynode=0.3, learning_rate=0.1, max_depth=15, n_estimators=100, reg_alpha=0.5, reg_lambda=1e-05;, score=0.709 total time=  25.6s\n"
     ]
    },
    {
     "name": "stderr",
     "output_type": "stream",
     "text": [
      "/home/fscaccheri/.local/lib/python3.6/site-packages/xgboost/sklearn.py:1146: UserWarning: The use of label encoder in XGBClassifier is deprecated and will be removed in a future release. To remove this warning, do the following: 1) Pass option use_label_encoder=False when constructing XGBClassifier object; and 2) Encode your labels (y) as integers starting with 0, i.e. 0, 1, 2, ..., [num_class - 1].\n",
      "  warnings.warn(label_encoder_deprecation_msg, UserWarning)\n",
      "/home/fscaccheri/.local/lib/python3.6/site-packages/sklearn/utils/validation.py:63: DataConversionWarning: A column-vector y was passed when a 1d array was expected. Please change the shape of y to (n_samples, ), for example using ravel().\n",
      "  return f(*args, **kwargs)\n"
     ]
    },
    {
     "name": "stdout",
     "output_type": "stream",
     "text": [
      "[17:31:21] WARNING: ../src/learner.cc:1095: Starting in XGBoost 1.3.0, the default evaluation metric used with the objective 'multi:softprob' was changed from 'merror' to 'mlogloss'. Explicitly set eval_metric if you'd like to restore the old behavior.\n",
      "[CV 5/5] END colsample_bynode=0.3, learning_rate=0.1, max_depth=15, n_estimators=100, reg_alpha=0.5, reg_lambda=1e-05;, score=0.710 total time=  29.1s\n"
     ]
    },
    {
     "name": "stderr",
     "output_type": "stream",
     "text": [
      "/home/fscaccheri/.local/lib/python3.6/site-packages/xgboost/sklearn.py:1146: UserWarning: The use of label encoder in XGBClassifier is deprecated and will be removed in a future release. To remove this warning, do the following: 1) Pass option use_label_encoder=False when constructing XGBClassifier object; and 2) Encode your labels (y) as integers starting with 0, i.e. 0, 1, 2, ..., [num_class - 1].\n",
      "  warnings.warn(label_encoder_deprecation_msg, UserWarning)\n",
      "/home/fscaccheri/.local/lib/python3.6/site-packages/sklearn/utils/validation.py:63: DataConversionWarning: A column-vector y was passed when a 1d array was expected. Please change the shape of y to (n_samples, ), for example using ravel().\n",
      "  return f(*args, **kwargs)\n"
     ]
    },
    {
     "name": "stdout",
     "output_type": "stream",
     "text": [
      "[17:31:46] WARNING: ../src/learner.cc:1095: Starting in XGBoost 1.3.0, the default evaluation metric used with the objective 'multi:softprob' was changed from 'merror' to 'mlogloss'. Explicitly set eval_metric if you'd like to restore the old behavior.\n",
      "[CV 1/5] END colsample_bynode=0.3, learning_rate=0.1, max_depth=15, n_estimators=100, reg_alpha=0.5, reg_lambda=3e-05;, score=0.705 total time=  24.5s\n"
     ]
    },
    {
     "name": "stderr",
     "output_type": "stream",
     "text": [
      "/home/fscaccheri/.local/lib/python3.6/site-packages/xgboost/sklearn.py:1146: UserWarning: The use of label encoder in XGBClassifier is deprecated and will be removed in a future release. To remove this warning, do the following: 1) Pass option use_label_encoder=False when constructing XGBClassifier object; and 2) Encode your labels (y) as integers starting with 0, i.e. 0, 1, 2, ..., [num_class - 1].\n",
      "  warnings.warn(label_encoder_deprecation_msg, UserWarning)\n",
      "/home/fscaccheri/.local/lib/python3.6/site-packages/sklearn/utils/validation.py:63: DataConversionWarning: A column-vector y was passed when a 1d array was expected. Please change the shape of y to (n_samples, ), for example using ravel().\n",
      "  return f(*args, **kwargs)\n"
     ]
    },
    {
     "name": "stdout",
     "output_type": "stream",
     "text": [
      "[17:32:11] WARNING: ../src/learner.cc:1095: Starting in XGBoost 1.3.0, the default evaluation metric used with the objective 'multi:softprob' was changed from 'merror' to 'mlogloss'. Explicitly set eval_metric if you'd like to restore the old behavior.\n",
      "[CV 2/5] END colsample_bynode=0.3, learning_rate=0.1, max_depth=15, n_estimators=100, reg_alpha=0.5, reg_lambda=3e-05;, score=0.706 total time=  25.5s\n"
     ]
    },
    {
     "name": "stderr",
     "output_type": "stream",
     "text": [
      "/home/fscaccheri/.local/lib/python3.6/site-packages/xgboost/sklearn.py:1146: UserWarning: The use of label encoder in XGBClassifier is deprecated and will be removed in a future release. To remove this warning, do the following: 1) Pass option use_label_encoder=False when constructing XGBClassifier object; and 2) Encode your labels (y) as integers starting with 0, i.e. 0, 1, 2, ..., [num_class - 1].\n",
      "  warnings.warn(label_encoder_deprecation_msg, UserWarning)\n",
      "/home/fscaccheri/.local/lib/python3.6/site-packages/sklearn/utils/validation.py:63: DataConversionWarning: A column-vector y was passed when a 1d array was expected. Please change the shape of y to (n_samples, ), for example using ravel().\n",
      "  return f(*args, **kwargs)\n"
     ]
    },
    {
     "name": "stdout",
     "output_type": "stream",
     "text": [
      "[17:32:38] WARNING: ../src/learner.cc:1095: Starting in XGBoost 1.3.0, the default evaluation metric used with the objective 'multi:softprob' was changed from 'merror' to 'mlogloss'. Explicitly set eval_metric if you'd like to restore the old behavior.\n",
      "[CV 3/5] END colsample_bynode=0.3, learning_rate=0.1, max_depth=15, n_estimators=100, reg_alpha=0.5, reg_lambda=3e-05;, score=0.715 total time=  26.4s\n"
     ]
    },
    {
     "name": "stderr",
     "output_type": "stream",
     "text": [
      "/home/fscaccheri/.local/lib/python3.6/site-packages/xgboost/sklearn.py:1146: UserWarning: The use of label encoder in XGBClassifier is deprecated and will be removed in a future release. To remove this warning, do the following: 1) Pass option use_label_encoder=False when constructing XGBClassifier object; and 2) Encode your labels (y) as integers starting with 0, i.e. 0, 1, 2, ..., [num_class - 1].\n",
      "  warnings.warn(label_encoder_deprecation_msg, UserWarning)\n",
      "/home/fscaccheri/.local/lib/python3.6/site-packages/sklearn/utils/validation.py:63: DataConversionWarning: A column-vector y was passed when a 1d array was expected. Please change the shape of y to (n_samples, ), for example using ravel().\n",
      "  return f(*args, **kwargs)\n"
     ]
    },
    {
     "name": "stdout",
     "output_type": "stream",
     "text": [
      "[17:33:01] WARNING: ../src/learner.cc:1095: Starting in XGBoost 1.3.0, the default evaluation metric used with the objective 'multi:softprob' was changed from 'merror' to 'mlogloss'. Explicitly set eval_metric if you'd like to restore the old behavior.\n",
      "[CV 4/5] END colsample_bynode=0.3, learning_rate=0.1, max_depth=15, n_estimators=100, reg_alpha=0.5, reg_lambda=3e-05;, score=0.709 total time=  23.0s\n"
     ]
    },
    {
     "name": "stderr",
     "output_type": "stream",
     "text": [
      "/home/fscaccheri/.local/lib/python3.6/site-packages/xgboost/sklearn.py:1146: UserWarning: The use of label encoder in XGBClassifier is deprecated and will be removed in a future release. To remove this warning, do the following: 1) Pass option use_label_encoder=False when constructing XGBClassifier object; and 2) Encode your labels (y) as integers starting with 0, i.e. 0, 1, 2, ..., [num_class - 1].\n",
      "  warnings.warn(label_encoder_deprecation_msg, UserWarning)\n",
      "/home/fscaccheri/.local/lib/python3.6/site-packages/sklearn/utils/validation.py:63: DataConversionWarning: A column-vector y was passed when a 1d array was expected. Please change the shape of y to (n_samples, ), for example using ravel().\n",
      "  return f(*args, **kwargs)\n"
     ]
    },
    {
     "name": "stdout",
     "output_type": "stream",
     "text": [
      "[17:33:24] WARNING: ../src/learner.cc:1095: Starting in XGBoost 1.3.0, the default evaluation metric used with the objective 'multi:softprob' was changed from 'merror' to 'mlogloss'. Explicitly set eval_metric if you'd like to restore the old behavior.\n",
      "[CV 5/5] END colsample_bynode=0.3, learning_rate=0.1, max_depth=15, n_estimators=100, reg_alpha=0.5, reg_lambda=3e-05;, score=0.710 total time=  22.8s\n"
     ]
    },
    {
     "name": "stderr",
     "output_type": "stream",
     "text": [
      "/home/fscaccheri/.local/lib/python3.6/site-packages/xgboost/sklearn.py:1146: UserWarning: The use of label encoder in XGBClassifier is deprecated and will be removed in a future release. To remove this warning, do the following: 1) Pass option use_label_encoder=False when constructing XGBClassifier object; and 2) Encode your labels (y) as integers starting with 0, i.e. 0, 1, 2, ..., [num_class - 1].\n",
      "  warnings.warn(label_encoder_deprecation_msg, UserWarning)\n",
      "/home/fscaccheri/.local/lib/python3.6/site-packages/sklearn/utils/validation.py:63: DataConversionWarning: A column-vector y was passed when a 1d array was expected. Please change the shape of y to (n_samples, ), for example using ravel().\n",
      "  return f(*args, **kwargs)\n"
     ]
    },
    {
     "name": "stdout",
     "output_type": "stream",
     "text": [
      "[17:33:51] WARNING: ../src/learner.cc:1095: Starting in XGBoost 1.3.0, the default evaluation metric used with the objective 'multi:softprob' was changed from 'merror' to 'mlogloss'. Explicitly set eval_metric if you'd like to restore the old behavior.\n",
      "[CV 1/5] END colsample_bynode=0.3, learning_rate=0.1, max_depth=15, n_estimators=120, reg_alpha=0.1, reg_lambda=1e-05;, score=0.707 total time=  29.0s\n"
     ]
    },
    {
     "name": "stderr",
     "output_type": "stream",
     "text": [
      "/home/fscaccheri/.local/lib/python3.6/site-packages/xgboost/sklearn.py:1146: UserWarning: The use of label encoder in XGBClassifier is deprecated and will be removed in a future release. To remove this warning, do the following: 1) Pass option use_label_encoder=False when constructing XGBClassifier object; and 2) Encode your labels (y) as integers starting with 0, i.e. 0, 1, 2, ..., [num_class - 1].\n",
      "  warnings.warn(label_encoder_deprecation_msg, UserWarning)\n",
      "/home/fscaccheri/.local/lib/python3.6/site-packages/sklearn/utils/validation.py:63: DataConversionWarning: A column-vector y was passed when a 1d array was expected. Please change the shape of y to (n_samples, ), for example using ravel().\n",
      "  return f(*args, **kwargs)\n"
     ]
    },
    {
     "name": "stdout",
     "output_type": "stream",
     "text": [
      "[17:34:19] WARNING: ../src/learner.cc:1095: Starting in XGBoost 1.3.0, the default evaluation metric used with the objective 'multi:softprob' was changed from 'merror' to 'mlogloss'. Explicitly set eval_metric if you'd like to restore the old behavior.\n",
      "[CV 2/5] END colsample_bynode=0.3, learning_rate=0.1, max_depth=15, n_estimators=120, reg_alpha=0.1, reg_lambda=1e-05;, score=0.707 total time=  28.5s\n"
     ]
    },
    {
     "name": "stderr",
     "output_type": "stream",
     "text": [
      "/home/fscaccheri/.local/lib/python3.6/site-packages/xgboost/sklearn.py:1146: UserWarning: The use of label encoder in XGBClassifier is deprecated and will be removed in a future release. To remove this warning, do the following: 1) Pass option use_label_encoder=False when constructing XGBClassifier object; and 2) Encode your labels (y) as integers starting with 0, i.e. 0, 1, 2, ..., [num_class - 1].\n",
      "  warnings.warn(label_encoder_deprecation_msg, UserWarning)\n",
      "/home/fscaccheri/.local/lib/python3.6/site-packages/sklearn/utils/validation.py:63: DataConversionWarning: A column-vector y was passed when a 1d array was expected. Please change the shape of y to (n_samples, ), for example using ravel().\n",
      "  return f(*args, **kwargs)\n"
     ]
    },
    {
     "name": "stdout",
     "output_type": "stream",
     "text": [
      "[17:34:48] WARNING: ../src/learner.cc:1095: Starting in XGBoost 1.3.0, the default evaluation metric used with the objective 'multi:softprob' was changed from 'merror' to 'mlogloss'. Explicitly set eval_metric if you'd like to restore the old behavior.\n",
      "[CV 3/5] END colsample_bynode=0.3, learning_rate=0.1, max_depth=15, n_estimators=120, reg_alpha=0.1, reg_lambda=1e-05;, score=0.715 total time=  28.6s\n"
     ]
    },
    {
     "name": "stderr",
     "output_type": "stream",
     "text": [
      "/home/fscaccheri/.local/lib/python3.6/site-packages/xgboost/sklearn.py:1146: UserWarning: The use of label encoder in XGBClassifier is deprecated and will be removed in a future release. To remove this warning, do the following: 1) Pass option use_label_encoder=False when constructing XGBClassifier object; and 2) Encode your labels (y) as integers starting with 0, i.e. 0, 1, 2, ..., [num_class - 1].\n",
      "  warnings.warn(label_encoder_deprecation_msg, UserWarning)\n",
      "/home/fscaccheri/.local/lib/python3.6/site-packages/sklearn/utils/validation.py:63: DataConversionWarning: A column-vector y was passed when a 1d array was expected. Please change the shape of y to (n_samples, ), for example using ravel().\n",
      "  return f(*args, **kwargs)\n"
     ]
    },
    {
     "name": "stdout",
     "output_type": "stream",
     "text": [
      "[17:35:17] WARNING: ../src/learner.cc:1095: Starting in XGBoost 1.3.0, the default evaluation metric used with the objective 'multi:softprob' was changed from 'merror' to 'mlogloss'. Explicitly set eval_metric if you'd like to restore the old behavior.\n",
      "[CV 4/5] END colsample_bynode=0.3, learning_rate=0.1, max_depth=15, n_estimators=120, reg_alpha=0.1, reg_lambda=1e-05;, score=0.710 total time=  29.3s\n"
     ]
    },
    {
     "name": "stderr",
     "output_type": "stream",
     "text": [
      "/home/fscaccheri/.local/lib/python3.6/site-packages/xgboost/sklearn.py:1146: UserWarning: The use of label encoder in XGBClassifier is deprecated and will be removed in a future release. To remove this warning, do the following: 1) Pass option use_label_encoder=False when constructing XGBClassifier object; and 2) Encode your labels (y) as integers starting with 0, i.e. 0, 1, 2, ..., [num_class - 1].\n",
      "  warnings.warn(label_encoder_deprecation_msg, UserWarning)\n",
      "/home/fscaccheri/.local/lib/python3.6/site-packages/sklearn/utils/validation.py:63: DataConversionWarning: A column-vector y was passed when a 1d array was expected. Please change the shape of y to (n_samples, ), for example using ravel().\n",
      "  return f(*args, **kwargs)\n"
     ]
    },
    {
     "name": "stdout",
     "output_type": "stream",
     "text": [
      "[17:35:46] WARNING: ../src/learner.cc:1095: Starting in XGBoost 1.3.0, the default evaluation metric used with the objective 'multi:softprob' was changed from 'merror' to 'mlogloss'. Explicitly set eval_metric if you'd like to restore the old behavior.\n",
      "[CV 5/5] END colsample_bynode=0.3, learning_rate=0.1, max_depth=15, n_estimators=120, reg_alpha=0.1, reg_lambda=1e-05;, score=0.711 total time=  28.9s\n"
     ]
    },
    {
     "name": "stderr",
     "output_type": "stream",
     "text": [
      "/home/fscaccheri/.local/lib/python3.6/site-packages/xgboost/sklearn.py:1146: UserWarning: The use of label encoder in XGBClassifier is deprecated and will be removed in a future release. To remove this warning, do the following: 1) Pass option use_label_encoder=False when constructing XGBClassifier object; and 2) Encode your labels (y) as integers starting with 0, i.e. 0, 1, 2, ..., [num_class - 1].\n",
      "  warnings.warn(label_encoder_deprecation_msg, UserWarning)\n",
      "/home/fscaccheri/.local/lib/python3.6/site-packages/sklearn/utils/validation.py:63: DataConversionWarning: A column-vector y was passed when a 1d array was expected. Please change the shape of y to (n_samples, ), for example using ravel().\n",
      "  return f(*args, **kwargs)\n"
     ]
    },
    {
     "name": "stdout",
     "output_type": "stream",
     "text": [
      "[17:36:15] WARNING: ../src/learner.cc:1095: Starting in XGBoost 1.3.0, the default evaluation metric used with the objective 'multi:softprob' was changed from 'merror' to 'mlogloss'. Explicitly set eval_metric if you'd like to restore the old behavior.\n",
      "[CV 1/5] END colsample_bynode=0.3, learning_rate=0.1, max_depth=15, n_estimators=120, reg_alpha=0.1, reg_lambda=3e-05;, score=0.707 total time=  29.1s\n"
     ]
    },
    {
     "name": "stderr",
     "output_type": "stream",
     "text": [
      "/home/fscaccheri/.local/lib/python3.6/site-packages/xgboost/sklearn.py:1146: UserWarning: The use of label encoder in XGBClassifier is deprecated and will be removed in a future release. To remove this warning, do the following: 1) Pass option use_label_encoder=False when constructing XGBClassifier object; and 2) Encode your labels (y) as integers starting with 0, i.e. 0, 1, 2, ..., [num_class - 1].\n",
      "  warnings.warn(label_encoder_deprecation_msg, UserWarning)\n",
      "/home/fscaccheri/.local/lib/python3.6/site-packages/sklearn/utils/validation.py:63: DataConversionWarning: A column-vector y was passed when a 1d array was expected. Please change the shape of y to (n_samples, ), for example using ravel().\n",
      "  return f(*args, **kwargs)\n"
     ]
    },
    {
     "name": "stdout",
     "output_type": "stream",
     "text": [
      "[17:36:46] WARNING: ../src/learner.cc:1095: Starting in XGBoost 1.3.0, the default evaluation metric used with the objective 'multi:softprob' was changed from 'merror' to 'mlogloss'. Explicitly set eval_metric if you'd like to restore the old behavior.\n",
      "[CV 2/5] END colsample_bynode=0.3, learning_rate=0.1, max_depth=15, n_estimators=120, reg_alpha=0.1, reg_lambda=3e-05;, score=0.707 total time=  30.7s\n"
     ]
    },
    {
     "name": "stderr",
     "output_type": "stream",
     "text": [
      "/home/fscaccheri/.local/lib/python3.6/site-packages/xgboost/sklearn.py:1146: UserWarning: The use of label encoder in XGBClassifier is deprecated and will be removed in a future release. To remove this warning, do the following: 1) Pass option use_label_encoder=False when constructing XGBClassifier object; and 2) Encode your labels (y) as integers starting with 0, i.e. 0, 1, 2, ..., [num_class - 1].\n",
      "  warnings.warn(label_encoder_deprecation_msg, UserWarning)\n",
      "/home/fscaccheri/.local/lib/python3.6/site-packages/sklearn/utils/validation.py:63: DataConversionWarning: A column-vector y was passed when a 1d array was expected. Please change the shape of y to (n_samples, ), for example using ravel().\n",
      "  return f(*args, **kwargs)\n"
     ]
    },
    {
     "name": "stdout",
     "output_type": "stream",
     "text": [
      "[17:37:16] WARNING: ../src/learner.cc:1095: Starting in XGBoost 1.3.0, the default evaluation metric used with the objective 'multi:softprob' was changed from 'merror' to 'mlogloss'. Explicitly set eval_metric if you'd like to restore the old behavior.\n",
      "[CV 3/5] END colsample_bynode=0.3, learning_rate=0.1, max_depth=15, n_estimators=120, reg_alpha=0.1, reg_lambda=3e-05;, score=0.715 total time=  30.2s\n"
     ]
    },
    {
     "name": "stderr",
     "output_type": "stream",
     "text": [
      "/home/fscaccheri/.local/lib/python3.6/site-packages/xgboost/sklearn.py:1146: UserWarning: The use of label encoder in XGBClassifier is deprecated and will be removed in a future release. To remove this warning, do the following: 1) Pass option use_label_encoder=False when constructing XGBClassifier object; and 2) Encode your labels (y) as integers starting with 0, i.e. 0, 1, 2, ..., [num_class - 1].\n",
      "  warnings.warn(label_encoder_deprecation_msg, UserWarning)\n",
      "/home/fscaccheri/.local/lib/python3.6/site-packages/sklearn/utils/validation.py:63: DataConversionWarning: A column-vector y was passed when a 1d array was expected. Please change the shape of y to (n_samples, ), for example using ravel().\n",
      "  return f(*args, **kwargs)\n"
     ]
    },
    {
     "name": "stdout",
     "output_type": "stream",
     "text": [
      "[17:37:49] WARNING: ../src/learner.cc:1095: Starting in XGBoost 1.3.0, the default evaluation metric used with the objective 'multi:softprob' was changed from 'merror' to 'mlogloss'. Explicitly set eval_metric if you'd like to restore the old behavior.\n",
      "[CV 4/5] END colsample_bynode=0.3, learning_rate=0.1, max_depth=15, n_estimators=120, reg_alpha=0.1, reg_lambda=3e-05;, score=0.710 total time=  33.3s\n"
     ]
    },
    {
     "name": "stderr",
     "output_type": "stream",
     "text": [
      "/home/fscaccheri/.local/lib/python3.6/site-packages/xgboost/sklearn.py:1146: UserWarning: The use of label encoder in XGBClassifier is deprecated and will be removed in a future release. To remove this warning, do the following: 1) Pass option use_label_encoder=False when constructing XGBClassifier object; and 2) Encode your labels (y) as integers starting with 0, i.e. 0, 1, 2, ..., [num_class - 1].\n",
      "  warnings.warn(label_encoder_deprecation_msg, UserWarning)\n",
      "/home/fscaccheri/.local/lib/python3.6/site-packages/sklearn/utils/validation.py:63: DataConversionWarning: A column-vector y was passed when a 1d array was expected. Please change the shape of y to (n_samples, ), for example using ravel().\n",
      "  return f(*args, **kwargs)\n"
     ]
    },
    {
     "name": "stdout",
     "output_type": "stream",
     "text": [
      "[17:38:23] WARNING: ../src/learner.cc:1095: Starting in XGBoost 1.3.0, the default evaluation metric used with the objective 'multi:softprob' was changed from 'merror' to 'mlogloss'. Explicitly set eval_metric if you'd like to restore the old behavior.\n",
      "[CV 5/5] END colsample_bynode=0.3, learning_rate=0.1, max_depth=15, n_estimators=120, reg_alpha=0.1, reg_lambda=3e-05;, score=0.711 total time=  33.4s\n"
     ]
    },
    {
     "name": "stderr",
     "output_type": "stream",
     "text": [
      "/home/fscaccheri/.local/lib/python3.6/site-packages/xgboost/sklearn.py:1146: UserWarning: The use of label encoder in XGBClassifier is deprecated and will be removed in a future release. To remove this warning, do the following: 1) Pass option use_label_encoder=False when constructing XGBClassifier object; and 2) Encode your labels (y) as integers starting with 0, i.e. 0, 1, 2, ..., [num_class - 1].\n",
      "  warnings.warn(label_encoder_deprecation_msg, UserWarning)\n",
      "/home/fscaccheri/.local/lib/python3.6/site-packages/sklearn/utils/validation.py:63: DataConversionWarning: A column-vector y was passed when a 1d array was expected. Please change the shape of y to (n_samples, ), for example using ravel().\n",
      "  return f(*args, **kwargs)\n"
     ]
    },
    {
     "name": "stdout",
     "output_type": "stream",
     "text": [
      "[17:38:56] WARNING: ../src/learner.cc:1095: Starting in XGBoost 1.3.0, the default evaluation metric used with the objective 'multi:softprob' was changed from 'merror' to 'mlogloss'. Explicitly set eval_metric if you'd like to restore the old behavior.\n",
      "[CV 1/5] END colsample_bynode=0.3, learning_rate=0.1, max_depth=15, n_estimators=120, reg_alpha=0.5, reg_lambda=1e-05;, score=0.706 total time=  32.3s\n"
     ]
    },
    {
     "name": "stderr",
     "output_type": "stream",
     "text": [
      "/home/fscaccheri/.local/lib/python3.6/site-packages/xgboost/sklearn.py:1146: UserWarning: The use of label encoder in XGBClassifier is deprecated and will be removed in a future release. To remove this warning, do the following: 1) Pass option use_label_encoder=False when constructing XGBClassifier object; and 2) Encode your labels (y) as integers starting with 0, i.e. 0, 1, 2, ..., [num_class - 1].\n",
      "  warnings.warn(label_encoder_deprecation_msg, UserWarning)\n",
      "/home/fscaccheri/.local/lib/python3.6/site-packages/sklearn/utils/validation.py:63: DataConversionWarning: A column-vector y was passed when a 1d array was expected. Please change the shape of y to (n_samples, ), for example using ravel().\n",
      "  return f(*args, **kwargs)\n"
     ]
    },
    {
     "name": "stdout",
     "output_type": "stream",
     "text": [
      "[17:39:23] WARNING: ../src/learner.cc:1095: Starting in XGBoost 1.3.0, the default evaluation metric used with the objective 'multi:softprob' was changed from 'merror' to 'mlogloss'. Explicitly set eval_metric if you'd like to restore the old behavior.\n",
      "[CV 2/5] END colsample_bynode=0.3, learning_rate=0.1, max_depth=15, n_estimators=120, reg_alpha=0.5, reg_lambda=1e-05;, score=0.707 total time=  26.8s\n"
     ]
    },
    {
     "name": "stderr",
     "output_type": "stream",
     "text": [
      "/home/fscaccheri/.local/lib/python3.6/site-packages/xgboost/sklearn.py:1146: UserWarning: The use of label encoder in XGBClassifier is deprecated and will be removed in a future release. To remove this warning, do the following: 1) Pass option use_label_encoder=False when constructing XGBClassifier object; and 2) Encode your labels (y) as integers starting with 0, i.e. 0, 1, 2, ..., [num_class - 1].\n",
      "  warnings.warn(label_encoder_deprecation_msg, UserWarning)\n",
      "/home/fscaccheri/.local/lib/python3.6/site-packages/sklearn/utils/validation.py:63: DataConversionWarning: A column-vector y was passed when a 1d array was expected. Please change the shape of y to (n_samples, ), for example using ravel().\n",
      "  return f(*args, **kwargs)\n"
     ]
    },
    {
     "name": "stdout",
     "output_type": "stream",
     "text": [
      "[17:39:50] WARNING: ../src/learner.cc:1095: Starting in XGBoost 1.3.0, the default evaluation metric used with the objective 'multi:softprob' was changed from 'merror' to 'mlogloss'. Explicitly set eval_metric if you'd like to restore the old behavior.\n",
      "[CV 3/5] END colsample_bynode=0.3, learning_rate=0.1, max_depth=15, n_estimators=120, reg_alpha=0.5, reg_lambda=1e-05;, score=0.714 total time=  26.9s\n"
     ]
    },
    {
     "name": "stderr",
     "output_type": "stream",
     "text": [
      "/home/fscaccheri/.local/lib/python3.6/site-packages/xgboost/sklearn.py:1146: UserWarning: The use of label encoder in XGBClassifier is deprecated and will be removed in a future release. To remove this warning, do the following: 1) Pass option use_label_encoder=False when constructing XGBClassifier object; and 2) Encode your labels (y) as integers starting with 0, i.e. 0, 1, 2, ..., [num_class - 1].\n",
      "  warnings.warn(label_encoder_deprecation_msg, UserWarning)\n",
      "/home/fscaccheri/.local/lib/python3.6/site-packages/sklearn/utils/validation.py:63: DataConversionWarning: A column-vector y was passed when a 1d array was expected. Please change the shape of y to (n_samples, ), for example using ravel().\n",
      "  return f(*args, **kwargs)\n"
     ]
    },
    {
     "name": "stdout",
     "output_type": "stream",
     "text": [
      "[17:40:18] WARNING: ../src/learner.cc:1095: Starting in XGBoost 1.3.0, the default evaluation metric used with the objective 'multi:softprob' was changed from 'merror' to 'mlogloss'. Explicitly set eval_metric if you'd like to restore the old behavior.\n",
      "[CV 4/5] END colsample_bynode=0.3, learning_rate=0.1, max_depth=15, n_estimators=120, reg_alpha=0.5, reg_lambda=1e-05;, score=0.709 total time=  27.8s\n"
     ]
    },
    {
     "name": "stderr",
     "output_type": "stream",
     "text": [
      "/home/fscaccheri/.local/lib/python3.6/site-packages/xgboost/sklearn.py:1146: UserWarning: The use of label encoder in XGBClassifier is deprecated and will be removed in a future release. To remove this warning, do the following: 1) Pass option use_label_encoder=False when constructing XGBClassifier object; and 2) Encode your labels (y) as integers starting with 0, i.e. 0, 1, 2, ..., [num_class - 1].\n",
      "  warnings.warn(label_encoder_deprecation_msg, UserWarning)\n",
      "/home/fscaccheri/.local/lib/python3.6/site-packages/sklearn/utils/validation.py:63: DataConversionWarning: A column-vector y was passed when a 1d array was expected. Please change the shape of y to (n_samples, ), for example using ravel().\n",
      "  return f(*args, **kwargs)\n"
     ]
    },
    {
     "name": "stdout",
     "output_type": "stream",
     "text": [
      "[17:40:45] WARNING: ../src/learner.cc:1095: Starting in XGBoost 1.3.0, the default evaluation metric used with the objective 'multi:softprob' was changed from 'merror' to 'mlogloss'. Explicitly set eval_metric if you'd like to restore the old behavior.\n",
      "[CV 5/5] END colsample_bynode=0.3, learning_rate=0.1, max_depth=15, n_estimators=120, reg_alpha=0.5, reg_lambda=1e-05;, score=0.710 total time=  27.1s\n"
     ]
    },
    {
     "name": "stderr",
     "output_type": "stream",
     "text": [
      "/home/fscaccheri/.local/lib/python3.6/site-packages/xgboost/sklearn.py:1146: UserWarning: The use of label encoder in XGBClassifier is deprecated and will be removed in a future release. To remove this warning, do the following: 1) Pass option use_label_encoder=False when constructing XGBClassifier object; and 2) Encode your labels (y) as integers starting with 0, i.e. 0, 1, 2, ..., [num_class - 1].\n",
      "  warnings.warn(label_encoder_deprecation_msg, UserWarning)\n",
      "/home/fscaccheri/.local/lib/python3.6/site-packages/sklearn/utils/validation.py:63: DataConversionWarning: A column-vector y was passed when a 1d array was expected. Please change the shape of y to (n_samples, ), for example using ravel().\n",
      "  return f(*args, **kwargs)\n"
     ]
    },
    {
     "name": "stdout",
     "output_type": "stream",
     "text": [
      "[17:41:12] WARNING: ../src/learner.cc:1095: Starting in XGBoost 1.3.0, the default evaluation metric used with the objective 'multi:softprob' was changed from 'merror' to 'mlogloss'. Explicitly set eval_metric if you'd like to restore the old behavior.\n",
      "[CV 1/5] END colsample_bynode=0.3, learning_rate=0.1, max_depth=15, n_estimators=120, reg_alpha=0.5, reg_lambda=3e-05;, score=0.706 total time=  27.0s\n"
     ]
    },
    {
     "name": "stderr",
     "output_type": "stream",
     "text": [
      "/home/fscaccheri/.local/lib/python3.6/site-packages/xgboost/sklearn.py:1146: UserWarning: The use of label encoder in XGBClassifier is deprecated and will be removed in a future release. To remove this warning, do the following: 1) Pass option use_label_encoder=False when constructing XGBClassifier object; and 2) Encode your labels (y) as integers starting with 0, i.e. 0, 1, 2, ..., [num_class - 1].\n",
      "  warnings.warn(label_encoder_deprecation_msg, UserWarning)\n",
      "/home/fscaccheri/.local/lib/python3.6/site-packages/sklearn/utils/validation.py:63: DataConversionWarning: A column-vector y was passed when a 1d array was expected. Please change the shape of y to (n_samples, ), for example using ravel().\n",
      "  return f(*args, **kwargs)\n"
     ]
    },
    {
     "name": "stdout",
     "output_type": "stream",
     "text": [
      "[17:41:42] WARNING: ../src/learner.cc:1095: Starting in XGBoost 1.3.0, the default evaluation metric used with the objective 'multi:softprob' was changed from 'merror' to 'mlogloss'. Explicitly set eval_metric if you'd like to restore the old behavior.\n",
      "[CV 2/5] END colsample_bynode=0.3, learning_rate=0.1, max_depth=15, n_estimators=120, reg_alpha=0.5, reg_lambda=3e-05;, score=0.707 total time=  29.9s\n"
     ]
    },
    {
     "name": "stderr",
     "output_type": "stream",
     "text": [
      "/home/fscaccheri/.local/lib/python3.6/site-packages/xgboost/sklearn.py:1146: UserWarning: The use of label encoder in XGBClassifier is deprecated and will be removed in a future release. To remove this warning, do the following: 1) Pass option use_label_encoder=False when constructing XGBClassifier object; and 2) Encode your labels (y) as integers starting with 0, i.e. 0, 1, 2, ..., [num_class - 1].\n",
      "  warnings.warn(label_encoder_deprecation_msg, UserWarning)\n",
      "/home/fscaccheri/.local/lib/python3.6/site-packages/sklearn/utils/validation.py:63: DataConversionWarning: A column-vector y was passed when a 1d array was expected. Please change the shape of y to (n_samples, ), for example using ravel().\n",
      "  return f(*args, **kwargs)\n"
     ]
    },
    {
     "name": "stdout",
     "output_type": "stream",
     "text": [
      "[17:42:23] WARNING: ../src/learner.cc:1095: Starting in XGBoost 1.3.0, the default evaluation metric used with the objective 'multi:softprob' was changed from 'merror' to 'mlogloss'. Explicitly set eval_metric if you'd like to restore the old behavior.\n",
      "[CV 3/5] END colsample_bynode=0.3, learning_rate=0.1, max_depth=15, n_estimators=120, reg_alpha=0.5, reg_lambda=3e-05;, score=0.714 total time=  41.3s\n"
     ]
    },
    {
     "name": "stderr",
     "output_type": "stream",
     "text": [
      "/home/fscaccheri/.local/lib/python3.6/site-packages/xgboost/sklearn.py:1146: UserWarning: The use of label encoder in XGBClassifier is deprecated and will be removed in a future release. To remove this warning, do the following: 1) Pass option use_label_encoder=False when constructing XGBClassifier object; and 2) Encode your labels (y) as integers starting with 0, i.e. 0, 1, 2, ..., [num_class - 1].\n",
      "  warnings.warn(label_encoder_deprecation_msg, UserWarning)\n",
      "/home/fscaccheri/.local/lib/python3.6/site-packages/sklearn/utils/validation.py:63: DataConversionWarning: A column-vector y was passed when a 1d array was expected. Please change the shape of y to (n_samples, ), for example using ravel().\n",
      "  return f(*args, **kwargs)\n"
     ]
    },
    {
     "name": "stdout",
     "output_type": "stream",
     "text": [
      "[17:42:55] WARNING: ../src/learner.cc:1095: Starting in XGBoost 1.3.0, the default evaluation metric used with the objective 'multi:softprob' was changed from 'merror' to 'mlogloss'. Explicitly set eval_metric if you'd like to restore the old behavior.\n",
      "[CV 4/5] END colsample_bynode=0.3, learning_rate=0.1, max_depth=15, n_estimators=120, reg_alpha=0.5, reg_lambda=3e-05;, score=0.709 total time=  32.5s\n"
     ]
    },
    {
     "name": "stderr",
     "output_type": "stream",
     "text": [
      "/home/fscaccheri/.local/lib/python3.6/site-packages/xgboost/sklearn.py:1146: UserWarning: The use of label encoder in XGBClassifier is deprecated and will be removed in a future release. To remove this warning, do the following: 1) Pass option use_label_encoder=False when constructing XGBClassifier object; and 2) Encode your labels (y) as integers starting with 0, i.e. 0, 1, 2, ..., [num_class - 1].\n",
      "  warnings.warn(label_encoder_deprecation_msg, UserWarning)\n",
      "/home/fscaccheri/.local/lib/python3.6/site-packages/sklearn/utils/validation.py:63: DataConversionWarning: A column-vector y was passed when a 1d array was expected. Please change the shape of y to (n_samples, ), for example using ravel().\n",
      "  return f(*args, **kwargs)\n"
     ]
    },
    {
     "name": "stdout",
     "output_type": "stream",
     "text": [
      "[17:43:30] WARNING: ../src/learner.cc:1095: Starting in XGBoost 1.3.0, the default evaluation metric used with the objective 'multi:softprob' was changed from 'merror' to 'mlogloss'. Explicitly set eval_metric if you'd like to restore the old behavior.\n",
      "[CV 5/5] END colsample_bynode=0.3, learning_rate=0.1, max_depth=15, n_estimators=120, reg_alpha=0.5, reg_lambda=3e-05;, score=0.710 total time=  33.9s\n"
     ]
    },
    {
     "name": "stderr",
     "output_type": "stream",
     "text": [
      "/home/fscaccheri/.local/lib/python3.6/site-packages/xgboost/sklearn.py:1146: UserWarning: The use of label encoder in XGBClassifier is deprecated and will be removed in a future release. To remove this warning, do the following: 1) Pass option use_label_encoder=False when constructing XGBClassifier object; and 2) Encode your labels (y) as integers starting with 0, i.e. 0, 1, 2, ..., [num_class - 1].\n",
      "  warnings.warn(label_encoder_deprecation_msg, UserWarning)\n",
      "/home/fscaccheri/.local/lib/python3.6/site-packages/sklearn/utils/validation.py:63: DataConversionWarning: A column-vector y was passed when a 1d array was expected. Please change the shape of y to (n_samples, ), for example using ravel().\n",
      "  return f(*args, **kwargs)\n"
     ]
    },
    {
     "name": "stdout",
     "output_type": "stream",
     "text": [
      "[17:43:57] WARNING: ../src/learner.cc:1095: Starting in XGBoost 1.3.0, the default evaluation metric used with the objective 'multi:softprob' was changed from 'merror' to 'mlogloss'. Explicitly set eval_metric if you'd like to restore the old behavior.\n",
      "[CV 1/5] END colsample_bynode=0.8, learning_rate=0.03, max_depth=10, n_estimators=100, reg_alpha=0.1, reg_lambda=1e-05;, score=0.693 total time=  24.7s\n"
     ]
    },
    {
     "name": "stderr",
     "output_type": "stream",
     "text": [
      "/home/fscaccheri/.local/lib/python3.6/site-packages/xgboost/sklearn.py:1146: UserWarning: The use of label encoder in XGBClassifier is deprecated and will be removed in a future release. To remove this warning, do the following: 1) Pass option use_label_encoder=False when constructing XGBClassifier object; and 2) Encode your labels (y) as integers starting with 0, i.e. 0, 1, 2, ..., [num_class - 1].\n",
      "  warnings.warn(label_encoder_deprecation_msg, UserWarning)\n",
      "/home/fscaccheri/.local/lib/python3.6/site-packages/sklearn/utils/validation.py:63: DataConversionWarning: A column-vector y was passed when a 1d array was expected. Please change the shape of y to (n_samples, ), for example using ravel().\n",
      "  return f(*args, **kwargs)\n"
     ]
    },
    {
     "name": "stdout",
     "output_type": "stream",
     "text": [
      "[17:44:22] WARNING: ../src/learner.cc:1095: Starting in XGBoost 1.3.0, the default evaluation metric used with the objective 'multi:softprob' was changed from 'merror' to 'mlogloss'. Explicitly set eval_metric if you'd like to restore the old behavior.\n",
      "[CV 2/5] END colsample_bynode=0.8, learning_rate=0.03, max_depth=10, n_estimators=100, reg_alpha=0.1, reg_lambda=1e-05;, score=0.691 total time=  24.6s\n"
     ]
    },
    {
     "name": "stderr",
     "output_type": "stream",
     "text": [
      "/home/fscaccheri/.local/lib/python3.6/site-packages/xgboost/sklearn.py:1146: UserWarning: The use of label encoder in XGBClassifier is deprecated and will be removed in a future release. To remove this warning, do the following: 1) Pass option use_label_encoder=False when constructing XGBClassifier object; and 2) Encode your labels (y) as integers starting with 0, i.e. 0, 1, 2, ..., [num_class - 1].\n",
      "  warnings.warn(label_encoder_deprecation_msg, UserWarning)\n",
      "/home/fscaccheri/.local/lib/python3.6/site-packages/sklearn/utils/validation.py:63: DataConversionWarning: A column-vector y was passed when a 1d array was expected. Please change the shape of y to (n_samples, ), for example using ravel().\n",
      "  return f(*args, **kwargs)\n"
     ]
    },
    {
     "name": "stdout",
     "output_type": "stream",
     "text": [
      "[17:44:48] WARNING: ../src/learner.cc:1095: Starting in XGBoost 1.3.0, the default evaluation metric used with the objective 'multi:softprob' was changed from 'merror' to 'mlogloss'. Explicitly set eval_metric if you'd like to restore the old behavior.\n",
      "[CV 3/5] END colsample_bynode=0.8, learning_rate=0.03, max_depth=10, n_estimators=100, reg_alpha=0.1, reg_lambda=1e-05;, score=0.698 total time=  25.9s\n"
     ]
    },
    {
     "name": "stderr",
     "output_type": "stream",
     "text": [
      "/home/fscaccheri/.local/lib/python3.6/site-packages/xgboost/sklearn.py:1146: UserWarning: The use of label encoder in XGBClassifier is deprecated and will be removed in a future release. To remove this warning, do the following: 1) Pass option use_label_encoder=False when constructing XGBClassifier object; and 2) Encode your labels (y) as integers starting with 0, i.e. 0, 1, 2, ..., [num_class - 1].\n",
      "  warnings.warn(label_encoder_deprecation_msg, UserWarning)\n",
      "/home/fscaccheri/.local/lib/python3.6/site-packages/sklearn/utils/validation.py:63: DataConversionWarning: A column-vector y was passed when a 1d array was expected. Please change the shape of y to (n_samples, ), for example using ravel().\n",
      "  return f(*args, **kwargs)\n"
     ]
    },
    {
     "name": "stdout",
     "output_type": "stream",
     "text": [
      "[17:45:15] WARNING: ../src/learner.cc:1095: Starting in XGBoost 1.3.0, the default evaluation metric used with the objective 'multi:softprob' was changed from 'merror' to 'mlogloss'. Explicitly set eval_metric if you'd like to restore the old behavior.\n",
      "[CV 4/5] END colsample_bynode=0.8, learning_rate=0.03, max_depth=10, n_estimators=100, reg_alpha=0.1, reg_lambda=1e-05;, score=0.695 total time=  27.0s\n"
     ]
    },
    {
     "name": "stderr",
     "output_type": "stream",
     "text": [
      "/home/fscaccheri/.local/lib/python3.6/site-packages/xgboost/sklearn.py:1146: UserWarning: The use of label encoder in XGBClassifier is deprecated and will be removed in a future release. To remove this warning, do the following: 1) Pass option use_label_encoder=False when constructing XGBClassifier object; and 2) Encode your labels (y) as integers starting with 0, i.e. 0, 1, 2, ..., [num_class - 1].\n",
      "  warnings.warn(label_encoder_deprecation_msg, UserWarning)\n",
      "/home/fscaccheri/.local/lib/python3.6/site-packages/sklearn/utils/validation.py:63: DataConversionWarning: A column-vector y was passed when a 1d array was expected. Please change the shape of y to (n_samples, ), for example using ravel().\n",
      "  return f(*args, **kwargs)\n"
     ]
    },
    {
     "name": "stdout",
     "output_type": "stream",
     "text": [
      "[17:45:40] WARNING: ../src/learner.cc:1095: Starting in XGBoost 1.3.0, the default evaluation metric used with the objective 'multi:softprob' was changed from 'merror' to 'mlogloss'. Explicitly set eval_metric if you'd like to restore the old behavior.\n",
      "[CV 5/5] END colsample_bynode=0.8, learning_rate=0.03, max_depth=10, n_estimators=100, reg_alpha=0.1, reg_lambda=1e-05;, score=0.695 total time=  25.2s\n"
     ]
    },
    {
     "name": "stderr",
     "output_type": "stream",
     "text": [
      "/home/fscaccheri/.local/lib/python3.6/site-packages/xgboost/sklearn.py:1146: UserWarning: The use of label encoder in XGBClassifier is deprecated and will be removed in a future release. To remove this warning, do the following: 1) Pass option use_label_encoder=False when constructing XGBClassifier object; and 2) Encode your labels (y) as integers starting with 0, i.e. 0, 1, 2, ..., [num_class - 1].\n",
      "  warnings.warn(label_encoder_deprecation_msg, UserWarning)\n",
      "/home/fscaccheri/.local/lib/python3.6/site-packages/sklearn/utils/validation.py:63: DataConversionWarning: A column-vector y was passed when a 1d array was expected. Please change the shape of y to (n_samples, ), for example using ravel().\n",
      "  return f(*args, **kwargs)\n"
     ]
    },
    {
     "name": "stdout",
     "output_type": "stream",
     "text": [
      "[17:46:08] WARNING: ../src/learner.cc:1095: Starting in XGBoost 1.3.0, the default evaluation metric used with the objective 'multi:softprob' was changed from 'merror' to 'mlogloss'. Explicitly set eval_metric if you'd like to restore the old behavior.\n",
      "[CV 1/5] END colsample_bynode=0.8, learning_rate=0.03, max_depth=10, n_estimators=100, reg_alpha=0.1, reg_lambda=3e-05;, score=0.693 total time=  28.2s\n"
     ]
    },
    {
     "name": "stderr",
     "output_type": "stream",
     "text": [
      "/home/fscaccheri/.local/lib/python3.6/site-packages/xgboost/sklearn.py:1146: UserWarning: The use of label encoder in XGBClassifier is deprecated and will be removed in a future release. To remove this warning, do the following: 1) Pass option use_label_encoder=False when constructing XGBClassifier object; and 2) Encode your labels (y) as integers starting with 0, i.e. 0, 1, 2, ..., [num_class - 1].\n",
      "  warnings.warn(label_encoder_deprecation_msg, UserWarning)\n",
      "/home/fscaccheri/.local/lib/python3.6/site-packages/sklearn/utils/validation.py:63: DataConversionWarning: A column-vector y was passed when a 1d array was expected. Please change the shape of y to (n_samples, ), for example using ravel().\n",
      "  return f(*args, **kwargs)\n"
     ]
    },
    {
     "name": "stdout",
     "output_type": "stream",
     "text": [
      "[17:46:33] WARNING: ../src/learner.cc:1095: Starting in XGBoost 1.3.0, the default evaluation metric used with the objective 'multi:softprob' was changed from 'merror' to 'mlogloss'. Explicitly set eval_metric if you'd like to restore the old behavior.\n",
      "[CV 2/5] END colsample_bynode=0.8, learning_rate=0.03, max_depth=10, n_estimators=100, reg_alpha=0.1, reg_lambda=3e-05;, score=0.691 total time=  24.6s\n"
     ]
    },
    {
     "name": "stderr",
     "output_type": "stream",
     "text": [
      "/home/fscaccheri/.local/lib/python3.6/site-packages/xgboost/sklearn.py:1146: UserWarning: The use of label encoder in XGBClassifier is deprecated and will be removed in a future release. To remove this warning, do the following: 1) Pass option use_label_encoder=False when constructing XGBClassifier object; and 2) Encode your labels (y) as integers starting with 0, i.e. 0, 1, 2, ..., [num_class - 1].\n",
      "  warnings.warn(label_encoder_deprecation_msg, UserWarning)\n",
      "/home/fscaccheri/.local/lib/python3.6/site-packages/sklearn/utils/validation.py:63: DataConversionWarning: A column-vector y was passed when a 1d array was expected. Please change the shape of y to (n_samples, ), for example using ravel().\n",
      "  return f(*args, **kwargs)\n"
     ]
    },
    {
     "name": "stdout",
     "output_type": "stream",
     "text": [
      "[17:46:58] WARNING: ../src/learner.cc:1095: Starting in XGBoost 1.3.0, the default evaluation metric used with the objective 'multi:softprob' was changed from 'merror' to 'mlogloss'. Explicitly set eval_metric if you'd like to restore the old behavior.\n",
      "[CV 3/5] END colsample_bynode=0.8, learning_rate=0.03, max_depth=10, n_estimators=100, reg_alpha=0.1, reg_lambda=3e-05;, score=0.698 total time=  24.8s\n"
     ]
    },
    {
     "name": "stderr",
     "output_type": "stream",
     "text": [
      "/home/fscaccheri/.local/lib/python3.6/site-packages/xgboost/sklearn.py:1146: UserWarning: The use of label encoder in XGBClassifier is deprecated and will be removed in a future release. To remove this warning, do the following: 1) Pass option use_label_encoder=False when constructing XGBClassifier object; and 2) Encode your labels (y) as integers starting with 0, i.e. 0, 1, 2, ..., [num_class - 1].\n",
      "  warnings.warn(label_encoder_deprecation_msg, UserWarning)\n",
      "/home/fscaccheri/.local/lib/python3.6/site-packages/sklearn/utils/validation.py:63: DataConversionWarning: A column-vector y was passed when a 1d array was expected. Please change the shape of y to (n_samples, ), for example using ravel().\n",
      "  return f(*args, **kwargs)\n"
     ]
    },
    {
     "name": "stdout",
     "output_type": "stream",
     "text": [
      "[17:47:23] WARNING: ../src/learner.cc:1095: Starting in XGBoost 1.3.0, the default evaluation metric used with the objective 'multi:softprob' was changed from 'merror' to 'mlogloss'. Explicitly set eval_metric if you'd like to restore the old behavior.\n",
      "[CV 4/5] END colsample_bynode=0.8, learning_rate=0.03, max_depth=10, n_estimators=100, reg_alpha=0.1, reg_lambda=3e-05;, score=0.695 total time=  25.4s\n"
     ]
    },
    {
     "name": "stderr",
     "output_type": "stream",
     "text": [
      "/home/fscaccheri/.local/lib/python3.6/site-packages/xgboost/sklearn.py:1146: UserWarning: The use of label encoder in XGBClassifier is deprecated and will be removed in a future release. To remove this warning, do the following: 1) Pass option use_label_encoder=False when constructing XGBClassifier object; and 2) Encode your labels (y) as integers starting with 0, i.e. 0, 1, 2, ..., [num_class - 1].\n",
      "  warnings.warn(label_encoder_deprecation_msg, UserWarning)\n",
      "/home/fscaccheri/.local/lib/python3.6/site-packages/sklearn/utils/validation.py:63: DataConversionWarning: A column-vector y was passed when a 1d array was expected. Please change the shape of y to (n_samples, ), for example using ravel().\n",
      "  return f(*args, **kwargs)\n"
     ]
    },
    {
     "name": "stdout",
     "output_type": "stream",
     "text": [
      "[17:47:48] WARNING: ../src/learner.cc:1095: Starting in XGBoost 1.3.0, the default evaluation metric used with the objective 'multi:softprob' was changed from 'merror' to 'mlogloss'. Explicitly set eval_metric if you'd like to restore the old behavior.\n",
      "[CV 5/5] END colsample_bynode=0.8, learning_rate=0.03, max_depth=10, n_estimators=100, reg_alpha=0.1, reg_lambda=3e-05;, score=0.695 total time=  24.7s\n"
     ]
    },
    {
     "name": "stderr",
     "output_type": "stream",
     "text": [
      "/home/fscaccheri/.local/lib/python3.6/site-packages/xgboost/sklearn.py:1146: UserWarning: The use of label encoder in XGBClassifier is deprecated and will be removed in a future release. To remove this warning, do the following: 1) Pass option use_label_encoder=False when constructing XGBClassifier object; and 2) Encode your labels (y) as integers starting with 0, i.e. 0, 1, 2, ..., [num_class - 1].\n",
      "  warnings.warn(label_encoder_deprecation_msg, UserWarning)\n",
      "/home/fscaccheri/.local/lib/python3.6/site-packages/sklearn/utils/validation.py:63: DataConversionWarning: A column-vector y was passed when a 1d array was expected. Please change the shape of y to (n_samples, ), for example using ravel().\n",
      "  return f(*args, **kwargs)\n"
     ]
    },
    {
     "name": "stdout",
     "output_type": "stream",
     "text": [
      "[17:48:12] WARNING: ../src/learner.cc:1095: Starting in XGBoost 1.3.0, the default evaluation metric used with the objective 'multi:softprob' was changed from 'merror' to 'mlogloss'. Explicitly set eval_metric if you'd like to restore the old behavior.\n",
      "[CV 1/5] END colsample_bynode=0.8, learning_rate=0.03, max_depth=10, n_estimators=100, reg_alpha=0.5, reg_lambda=1e-05;, score=0.693 total time=  24.7s\n"
     ]
    },
    {
     "name": "stderr",
     "output_type": "stream",
     "text": [
      "/home/fscaccheri/.local/lib/python3.6/site-packages/xgboost/sklearn.py:1146: UserWarning: The use of label encoder in XGBClassifier is deprecated and will be removed in a future release. To remove this warning, do the following: 1) Pass option use_label_encoder=False when constructing XGBClassifier object; and 2) Encode your labels (y) as integers starting with 0, i.e. 0, 1, 2, ..., [num_class - 1].\n",
      "  warnings.warn(label_encoder_deprecation_msg, UserWarning)\n",
      "/home/fscaccheri/.local/lib/python3.6/site-packages/sklearn/utils/validation.py:63: DataConversionWarning: A column-vector y was passed when a 1d array was expected. Please change the shape of y to (n_samples, ), for example using ravel().\n",
      "  return f(*args, **kwargs)\n"
     ]
    },
    {
     "name": "stdout",
     "output_type": "stream",
     "text": [
      "[17:48:37] WARNING: ../src/learner.cc:1095: Starting in XGBoost 1.3.0, the default evaluation metric used with the objective 'multi:softprob' was changed from 'merror' to 'mlogloss'. Explicitly set eval_metric if you'd like to restore the old behavior.\n",
      "[CV 2/5] END colsample_bynode=0.8, learning_rate=0.03, max_depth=10, n_estimators=100, reg_alpha=0.5, reg_lambda=1e-05;, score=0.691 total time=  24.8s\n"
     ]
    },
    {
     "name": "stderr",
     "output_type": "stream",
     "text": [
      "/home/fscaccheri/.local/lib/python3.6/site-packages/xgboost/sklearn.py:1146: UserWarning: The use of label encoder in XGBClassifier is deprecated and will be removed in a future release. To remove this warning, do the following: 1) Pass option use_label_encoder=False when constructing XGBClassifier object; and 2) Encode your labels (y) as integers starting with 0, i.e. 0, 1, 2, ..., [num_class - 1].\n",
      "  warnings.warn(label_encoder_deprecation_msg, UserWarning)\n",
      "/home/fscaccheri/.local/lib/python3.6/site-packages/sklearn/utils/validation.py:63: DataConversionWarning: A column-vector y was passed when a 1d array was expected. Please change the shape of y to (n_samples, ), for example using ravel().\n",
      "  return f(*args, **kwargs)\n"
     ]
    },
    {
     "name": "stdout",
     "output_type": "stream",
     "text": [
      "[17:49:02] WARNING: ../src/learner.cc:1095: Starting in XGBoost 1.3.0, the default evaluation metric used with the objective 'multi:softprob' was changed from 'merror' to 'mlogloss'. Explicitly set eval_metric if you'd like to restore the old behavior.\n",
      "[CV 3/5] END colsample_bynode=0.8, learning_rate=0.03, max_depth=10, n_estimators=100, reg_alpha=0.5, reg_lambda=1e-05;, score=0.698 total time=  25.1s\n"
     ]
    },
    {
     "name": "stderr",
     "output_type": "stream",
     "text": [
      "/home/fscaccheri/.local/lib/python3.6/site-packages/xgboost/sklearn.py:1146: UserWarning: The use of label encoder in XGBClassifier is deprecated and will be removed in a future release. To remove this warning, do the following: 1) Pass option use_label_encoder=False when constructing XGBClassifier object; and 2) Encode your labels (y) as integers starting with 0, i.e. 0, 1, 2, ..., [num_class - 1].\n",
      "  warnings.warn(label_encoder_deprecation_msg, UserWarning)\n",
      "/home/fscaccheri/.local/lib/python3.6/site-packages/sklearn/utils/validation.py:63: DataConversionWarning: A column-vector y was passed when a 1d array was expected. Please change the shape of y to (n_samples, ), for example using ravel().\n",
      "  return f(*args, **kwargs)\n"
     ]
    },
    {
     "name": "stdout",
     "output_type": "stream",
     "text": [
      "[17:49:30] WARNING: ../src/learner.cc:1095: Starting in XGBoost 1.3.0, the default evaluation metric used with the objective 'multi:softprob' was changed from 'merror' to 'mlogloss'. Explicitly set eval_metric if you'd like to restore the old behavior.\n",
      "[CV 4/5] END colsample_bynode=0.8, learning_rate=0.03, max_depth=10, n_estimators=100, reg_alpha=0.5, reg_lambda=1e-05;, score=0.694 total time=  28.2s\n"
     ]
    },
    {
     "name": "stderr",
     "output_type": "stream",
     "text": [
      "/home/fscaccheri/.local/lib/python3.6/site-packages/xgboost/sklearn.py:1146: UserWarning: The use of label encoder in XGBClassifier is deprecated and will be removed in a future release. To remove this warning, do the following: 1) Pass option use_label_encoder=False when constructing XGBClassifier object; and 2) Encode your labels (y) as integers starting with 0, i.e. 0, 1, 2, ..., [num_class - 1].\n",
      "  warnings.warn(label_encoder_deprecation_msg, UserWarning)\n",
      "/home/fscaccheri/.local/lib/python3.6/site-packages/sklearn/utils/validation.py:63: DataConversionWarning: A column-vector y was passed when a 1d array was expected. Please change the shape of y to (n_samples, ), for example using ravel().\n",
      "  return f(*args, **kwargs)\n"
     ]
    },
    {
     "name": "stdout",
     "output_type": "stream",
     "text": [
      "[17:49:57] WARNING: ../src/learner.cc:1095: Starting in XGBoost 1.3.0, the default evaluation metric used with the objective 'multi:softprob' was changed from 'merror' to 'mlogloss'. Explicitly set eval_metric if you'd like to restore the old behavior.\n",
      "[CV 5/5] END colsample_bynode=0.8, learning_rate=0.03, max_depth=10, n_estimators=100, reg_alpha=0.5, reg_lambda=1e-05;, score=0.695 total time=  26.4s\n"
     ]
    },
    {
     "name": "stderr",
     "output_type": "stream",
     "text": [
      "/home/fscaccheri/.local/lib/python3.6/site-packages/xgboost/sklearn.py:1146: UserWarning: The use of label encoder in XGBClassifier is deprecated and will be removed in a future release. To remove this warning, do the following: 1) Pass option use_label_encoder=False when constructing XGBClassifier object; and 2) Encode your labels (y) as integers starting with 0, i.e. 0, 1, 2, ..., [num_class - 1].\n",
      "  warnings.warn(label_encoder_deprecation_msg, UserWarning)\n",
      "/home/fscaccheri/.local/lib/python3.6/site-packages/sklearn/utils/validation.py:63: DataConversionWarning: A column-vector y was passed when a 1d array was expected. Please change the shape of y to (n_samples, ), for example using ravel().\n",
      "  return f(*args, **kwargs)\n"
     ]
    },
    {
     "name": "stdout",
     "output_type": "stream",
     "text": [
      "[17:50:23] WARNING: ../src/learner.cc:1095: Starting in XGBoost 1.3.0, the default evaluation metric used with the objective 'multi:softprob' was changed from 'merror' to 'mlogloss'. Explicitly set eval_metric if you'd like to restore the old behavior.\n",
      "[CV 1/5] END colsample_bynode=0.8, learning_rate=0.03, max_depth=10, n_estimators=100, reg_alpha=0.5, reg_lambda=3e-05;, score=0.693 total time=  26.2s\n"
     ]
    },
    {
     "name": "stderr",
     "output_type": "stream",
     "text": [
      "/home/fscaccheri/.local/lib/python3.6/site-packages/xgboost/sklearn.py:1146: UserWarning: The use of label encoder in XGBClassifier is deprecated and will be removed in a future release. To remove this warning, do the following: 1) Pass option use_label_encoder=False when constructing XGBClassifier object; and 2) Encode your labels (y) as integers starting with 0, i.e. 0, 1, 2, ..., [num_class - 1].\n",
      "  warnings.warn(label_encoder_deprecation_msg, UserWarning)\n",
      "/home/fscaccheri/.local/lib/python3.6/site-packages/sklearn/utils/validation.py:63: DataConversionWarning: A column-vector y was passed when a 1d array was expected. Please change the shape of y to (n_samples, ), for example using ravel().\n",
      "  return f(*args, **kwargs)\n"
     ]
    },
    {
     "name": "stdout",
     "output_type": "stream",
     "text": [
      "[17:50:48] WARNING: ../src/learner.cc:1095: Starting in XGBoost 1.3.0, the default evaluation metric used with the objective 'multi:softprob' was changed from 'merror' to 'mlogloss'. Explicitly set eval_metric if you'd like to restore the old behavior.\n",
      "[CV 2/5] END colsample_bynode=0.8, learning_rate=0.03, max_depth=10, n_estimators=100, reg_alpha=0.5, reg_lambda=3e-05;, score=0.691 total time=  24.7s\n"
     ]
    },
    {
     "name": "stderr",
     "output_type": "stream",
     "text": [
      "/home/fscaccheri/.local/lib/python3.6/site-packages/xgboost/sklearn.py:1146: UserWarning: The use of label encoder in XGBClassifier is deprecated and will be removed in a future release. To remove this warning, do the following: 1) Pass option use_label_encoder=False when constructing XGBClassifier object; and 2) Encode your labels (y) as integers starting with 0, i.e. 0, 1, 2, ..., [num_class - 1].\n",
      "  warnings.warn(label_encoder_deprecation_msg, UserWarning)\n",
      "/home/fscaccheri/.local/lib/python3.6/site-packages/sklearn/utils/validation.py:63: DataConversionWarning: A column-vector y was passed when a 1d array was expected. Please change the shape of y to (n_samples, ), for example using ravel().\n",
      "  return f(*args, **kwargs)\n"
     ]
    },
    {
     "name": "stdout",
     "output_type": "stream",
     "text": [
      "[17:51:12] WARNING: ../src/learner.cc:1095: Starting in XGBoost 1.3.0, the default evaluation metric used with the objective 'multi:softprob' was changed from 'merror' to 'mlogloss'. Explicitly set eval_metric if you'd like to restore the old behavior.\n",
      "[CV 3/5] END colsample_bynode=0.8, learning_rate=0.03, max_depth=10, n_estimators=100, reg_alpha=0.5, reg_lambda=3e-05;, score=0.698 total time=  24.7s\n"
     ]
    },
    {
     "name": "stderr",
     "output_type": "stream",
     "text": [
      "/home/fscaccheri/.local/lib/python3.6/site-packages/xgboost/sklearn.py:1146: UserWarning: The use of label encoder in XGBClassifier is deprecated and will be removed in a future release. To remove this warning, do the following: 1) Pass option use_label_encoder=False when constructing XGBClassifier object; and 2) Encode your labels (y) as integers starting with 0, i.e. 0, 1, 2, ..., [num_class - 1].\n",
      "  warnings.warn(label_encoder_deprecation_msg, UserWarning)\n",
      "/home/fscaccheri/.local/lib/python3.6/site-packages/sklearn/utils/validation.py:63: DataConversionWarning: A column-vector y was passed when a 1d array was expected. Please change the shape of y to (n_samples, ), for example using ravel().\n",
      "  return f(*args, **kwargs)\n"
     ]
    },
    {
     "name": "stdout",
     "output_type": "stream",
     "text": [
      "[17:51:44] WARNING: ../src/learner.cc:1095: Starting in XGBoost 1.3.0, the default evaluation metric used with the objective 'multi:softprob' was changed from 'merror' to 'mlogloss'. Explicitly set eval_metric if you'd like to restore the old behavior.\n",
      "[CV 4/5] END colsample_bynode=0.8, learning_rate=0.03, max_depth=10, n_estimators=100, reg_alpha=0.5, reg_lambda=3e-05;, score=0.694 total time=  31.3s\n"
     ]
    },
    {
     "name": "stderr",
     "output_type": "stream",
     "text": [
      "/home/fscaccheri/.local/lib/python3.6/site-packages/xgboost/sklearn.py:1146: UserWarning: The use of label encoder in XGBClassifier is deprecated and will be removed in a future release. To remove this warning, do the following: 1) Pass option use_label_encoder=False when constructing XGBClassifier object; and 2) Encode your labels (y) as integers starting with 0, i.e. 0, 1, 2, ..., [num_class - 1].\n",
      "  warnings.warn(label_encoder_deprecation_msg, UserWarning)\n",
      "/home/fscaccheri/.local/lib/python3.6/site-packages/sklearn/utils/validation.py:63: DataConversionWarning: A column-vector y was passed when a 1d array was expected. Please change the shape of y to (n_samples, ), for example using ravel().\n",
      "  return f(*args, **kwargs)\n"
     ]
    },
    {
     "name": "stdout",
     "output_type": "stream",
     "text": [
      "[17:52:09] WARNING: ../src/learner.cc:1095: Starting in XGBoost 1.3.0, the default evaluation metric used with the objective 'multi:softprob' was changed from 'merror' to 'mlogloss'. Explicitly set eval_metric if you'd like to restore the old behavior.\n",
      "[CV 5/5] END colsample_bynode=0.8, learning_rate=0.03, max_depth=10, n_estimators=100, reg_alpha=0.5, reg_lambda=3e-05;, score=0.695 total time=  25.3s\n"
     ]
    },
    {
     "name": "stderr",
     "output_type": "stream",
     "text": [
      "/home/fscaccheri/.local/lib/python3.6/site-packages/xgboost/sklearn.py:1146: UserWarning: The use of label encoder in XGBClassifier is deprecated and will be removed in a future release. To remove this warning, do the following: 1) Pass option use_label_encoder=False when constructing XGBClassifier object; and 2) Encode your labels (y) as integers starting with 0, i.e. 0, 1, 2, ..., [num_class - 1].\n",
      "  warnings.warn(label_encoder_deprecation_msg, UserWarning)\n",
      "/home/fscaccheri/.local/lib/python3.6/site-packages/sklearn/utils/validation.py:63: DataConversionWarning: A column-vector y was passed when a 1d array was expected. Please change the shape of y to (n_samples, ), for example using ravel().\n",
      "  return f(*args, **kwargs)\n"
     ]
    },
    {
     "name": "stdout",
     "output_type": "stream",
     "text": [
      "[17:52:44] WARNING: ../src/learner.cc:1095: Starting in XGBoost 1.3.0, the default evaluation metric used with the objective 'multi:softprob' was changed from 'merror' to 'mlogloss'. Explicitly set eval_metric if you'd like to restore the old behavior.\n",
      "[CV 1/5] END colsample_bynode=0.8, learning_rate=0.03, max_depth=10, n_estimators=120, reg_alpha=0.1, reg_lambda=1e-05;, score=0.693 total time=  35.3s\n"
     ]
    },
    {
     "name": "stderr",
     "output_type": "stream",
     "text": [
      "/home/fscaccheri/.local/lib/python3.6/site-packages/xgboost/sklearn.py:1146: UserWarning: The use of label encoder in XGBClassifier is deprecated and will be removed in a future release. To remove this warning, do the following: 1) Pass option use_label_encoder=False when constructing XGBClassifier object; and 2) Encode your labels (y) as integers starting with 0, i.e. 0, 1, 2, ..., [num_class - 1].\n",
      "  warnings.warn(label_encoder_deprecation_msg, UserWarning)\n",
      "/home/fscaccheri/.local/lib/python3.6/site-packages/sklearn/utils/validation.py:63: DataConversionWarning: A column-vector y was passed when a 1d array was expected. Please change the shape of y to (n_samples, ), for example using ravel().\n",
      "  return f(*args, **kwargs)\n"
     ]
    },
    {
     "name": "stdout",
     "output_type": "stream",
     "text": [
      "[17:53:20] WARNING: ../src/learner.cc:1095: Starting in XGBoost 1.3.0, the default evaluation metric used with the objective 'multi:softprob' was changed from 'merror' to 'mlogloss'. Explicitly set eval_metric if you'd like to restore the old behavior.\n",
      "[CV 2/5] END colsample_bynode=0.8, learning_rate=0.03, max_depth=10, n_estimators=120, reg_alpha=0.1, reg_lambda=1e-05;, score=0.692 total time=  36.0s\n"
     ]
    },
    {
     "name": "stderr",
     "output_type": "stream",
     "text": [
      "/home/fscaccheri/.local/lib/python3.6/site-packages/xgboost/sklearn.py:1146: UserWarning: The use of label encoder in XGBClassifier is deprecated and will be removed in a future release. To remove this warning, do the following: 1) Pass option use_label_encoder=False when constructing XGBClassifier object; and 2) Encode your labels (y) as integers starting with 0, i.e. 0, 1, 2, ..., [num_class - 1].\n",
      "  warnings.warn(label_encoder_deprecation_msg, UserWarning)\n",
      "/home/fscaccheri/.local/lib/python3.6/site-packages/sklearn/utils/validation.py:63: DataConversionWarning: A column-vector y was passed when a 1d array was expected. Please change the shape of y to (n_samples, ), for example using ravel().\n",
      "  return f(*args, **kwargs)\n"
     ]
    },
    {
     "name": "stdout",
     "output_type": "stream",
     "text": [
      "[17:53:51] WARNING: ../src/learner.cc:1095: Starting in XGBoost 1.3.0, the default evaluation metric used with the objective 'multi:softprob' was changed from 'merror' to 'mlogloss'. Explicitly set eval_metric if you'd like to restore the old behavior.\n",
      "[CV 3/5] END colsample_bynode=0.8, learning_rate=0.03, max_depth=10, n_estimators=120, reg_alpha=0.1, reg_lambda=1e-05;, score=0.698 total time=  31.3s\n"
     ]
    },
    {
     "name": "stderr",
     "output_type": "stream",
     "text": [
      "/home/fscaccheri/.local/lib/python3.6/site-packages/xgboost/sklearn.py:1146: UserWarning: The use of label encoder in XGBClassifier is deprecated and will be removed in a future release. To remove this warning, do the following: 1) Pass option use_label_encoder=False when constructing XGBClassifier object; and 2) Encode your labels (y) as integers starting with 0, i.e. 0, 1, 2, ..., [num_class - 1].\n",
      "  warnings.warn(label_encoder_deprecation_msg, UserWarning)\n",
      "/home/fscaccheri/.local/lib/python3.6/site-packages/sklearn/utils/validation.py:63: DataConversionWarning: A column-vector y was passed when a 1d array was expected. Please change the shape of y to (n_samples, ), for example using ravel().\n",
      "  return f(*args, **kwargs)\n"
     ]
    },
    {
     "name": "stdout",
     "output_type": "stream",
     "text": [
      "[17:54:25] WARNING: ../src/learner.cc:1095: Starting in XGBoost 1.3.0, the default evaluation metric used with the objective 'multi:softprob' was changed from 'merror' to 'mlogloss'. Explicitly set eval_metric if you'd like to restore the old behavior.\n",
      "[CV 4/5] END colsample_bynode=0.8, learning_rate=0.03, max_depth=10, n_estimators=120, reg_alpha=0.1, reg_lambda=1e-05;, score=0.694 total time=  33.4s\n"
     ]
    },
    {
     "name": "stderr",
     "output_type": "stream",
     "text": [
      "/home/fscaccheri/.local/lib/python3.6/site-packages/xgboost/sklearn.py:1146: UserWarning: The use of label encoder in XGBClassifier is deprecated and will be removed in a future release. To remove this warning, do the following: 1) Pass option use_label_encoder=False when constructing XGBClassifier object; and 2) Encode your labels (y) as integers starting with 0, i.e. 0, 1, 2, ..., [num_class - 1].\n",
      "  warnings.warn(label_encoder_deprecation_msg, UserWarning)\n",
      "/home/fscaccheri/.local/lib/python3.6/site-packages/sklearn/utils/validation.py:63: DataConversionWarning: A column-vector y was passed when a 1d array was expected. Please change the shape of y to (n_samples, ), for example using ravel().\n",
      "  return f(*args, **kwargs)\n"
     ]
    },
    {
     "name": "stdout",
     "output_type": "stream",
     "text": [
      "[17:54:55] WARNING: ../src/learner.cc:1095: Starting in XGBoost 1.3.0, the default evaluation metric used with the objective 'multi:softprob' was changed from 'merror' to 'mlogloss'. Explicitly set eval_metric if you'd like to restore the old behavior.\n",
      "[CV 5/5] END colsample_bynode=0.8, learning_rate=0.03, max_depth=10, n_estimators=120, reg_alpha=0.1, reg_lambda=1e-05;, score=0.694 total time=  30.1s\n"
     ]
    },
    {
     "name": "stderr",
     "output_type": "stream",
     "text": [
      "/home/fscaccheri/.local/lib/python3.6/site-packages/xgboost/sklearn.py:1146: UserWarning: The use of label encoder in XGBClassifier is deprecated and will be removed in a future release. To remove this warning, do the following: 1) Pass option use_label_encoder=False when constructing XGBClassifier object; and 2) Encode your labels (y) as integers starting with 0, i.e. 0, 1, 2, ..., [num_class - 1].\n",
      "  warnings.warn(label_encoder_deprecation_msg, UserWarning)\n",
      "/home/fscaccheri/.local/lib/python3.6/site-packages/sklearn/utils/validation.py:63: DataConversionWarning: A column-vector y was passed when a 1d array was expected. Please change the shape of y to (n_samples, ), for example using ravel().\n",
      "  return f(*args, **kwargs)\n"
     ]
    },
    {
     "name": "stdout",
     "output_type": "stream",
     "text": [
      "[17:55:26] WARNING: ../src/learner.cc:1095: Starting in XGBoost 1.3.0, the default evaluation metric used with the objective 'multi:softprob' was changed from 'merror' to 'mlogloss'. Explicitly set eval_metric if you'd like to restore the old behavior.\n",
      "[CV 1/5] END colsample_bynode=0.8, learning_rate=0.03, max_depth=10, n_estimators=120, reg_alpha=0.1, reg_lambda=3e-05;, score=0.693 total time=  30.5s\n"
     ]
    },
    {
     "name": "stderr",
     "output_type": "stream",
     "text": [
      "/home/fscaccheri/.local/lib/python3.6/site-packages/xgboost/sklearn.py:1146: UserWarning: The use of label encoder in XGBClassifier is deprecated and will be removed in a future release. To remove this warning, do the following: 1) Pass option use_label_encoder=False when constructing XGBClassifier object; and 2) Encode your labels (y) as integers starting with 0, i.e. 0, 1, 2, ..., [num_class - 1].\n",
      "  warnings.warn(label_encoder_deprecation_msg, UserWarning)\n",
      "/home/fscaccheri/.local/lib/python3.6/site-packages/sklearn/utils/validation.py:63: DataConversionWarning: A column-vector y was passed when a 1d array was expected. Please change the shape of y to (n_samples, ), for example using ravel().\n",
      "  return f(*args, **kwargs)\n"
     ]
    },
    {
     "name": "stdout",
     "output_type": "stream",
     "text": [
      "[17:55:55] WARNING: ../src/learner.cc:1095: Starting in XGBoost 1.3.0, the default evaluation metric used with the objective 'multi:softprob' was changed from 'merror' to 'mlogloss'. Explicitly set eval_metric if you'd like to restore the old behavior.\n",
      "[CV 2/5] END colsample_bynode=0.8, learning_rate=0.03, max_depth=10, n_estimators=120, reg_alpha=0.1, reg_lambda=3e-05;, score=0.692 total time=  29.6s\n"
     ]
    },
    {
     "name": "stderr",
     "output_type": "stream",
     "text": [
      "/home/fscaccheri/.local/lib/python3.6/site-packages/xgboost/sklearn.py:1146: UserWarning: The use of label encoder in XGBClassifier is deprecated and will be removed in a future release. To remove this warning, do the following: 1) Pass option use_label_encoder=False when constructing XGBClassifier object; and 2) Encode your labels (y) as integers starting with 0, i.e. 0, 1, 2, ..., [num_class - 1].\n",
      "  warnings.warn(label_encoder_deprecation_msg, UserWarning)\n",
      "/home/fscaccheri/.local/lib/python3.6/site-packages/sklearn/utils/validation.py:63: DataConversionWarning: A column-vector y was passed when a 1d array was expected. Please change the shape of y to (n_samples, ), for example using ravel().\n",
      "  return f(*args, **kwargs)\n"
     ]
    },
    {
     "name": "stdout",
     "output_type": "stream",
     "text": [
      "[17:56:25] WARNING: ../src/learner.cc:1095: Starting in XGBoost 1.3.0, the default evaluation metric used with the objective 'multi:softprob' was changed from 'merror' to 'mlogloss'. Explicitly set eval_metric if you'd like to restore the old behavior.\n",
      "[CV 3/5] END colsample_bynode=0.8, learning_rate=0.03, max_depth=10, n_estimators=120, reg_alpha=0.1, reg_lambda=3e-05;, score=0.698 total time=  29.5s\n"
     ]
    },
    {
     "name": "stderr",
     "output_type": "stream",
     "text": [
      "/home/fscaccheri/.local/lib/python3.6/site-packages/xgboost/sklearn.py:1146: UserWarning: The use of label encoder in XGBClassifier is deprecated and will be removed in a future release. To remove this warning, do the following: 1) Pass option use_label_encoder=False when constructing XGBClassifier object; and 2) Encode your labels (y) as integers starting with 0, i.e. 0, 1, 2, ..., [num_class - 1].\n",
      "  warnings.warn(label_encoder_deprecation_msg, UserWarning)\n",
      "/home/fscaccheri/.local/lib/python3.6/site-packages/sklearn/utils/validation.py:63: DataConversionWarning: A column-vector y was passed when a 1d array was expected. Please change the shape of y to (n_samples, ), for example using ravel().\n",
      "  return f(*args, **kwargs)\n"
     ]
    },
    {
     "name": "stdout",
     "output_type": "stream",
     "text": [
      "[17:56:55] WARNING: ../src/learner.cc:1095: Starting in XGBoost 1.3.0, the default evaluation metric used with the objective 'multi:softprob' was changed from 'merror' to 'mlogloss'. Explicitly set eval_metric if you'd like to restore the old behavior.\n",
      "[CV 4/5] END colsample_bynode=0.8, learning_rate=0.03, max_depth=10, n_estimators=120, reg_alpha=0.1, reg_lambda=3e-05;, score=0.694 total time=  29.9s\n"
     ]
    },
    {
     "name": "stderr",
     "output_type": "stream",
     "text": [
      "/home/fscaccheri/.local/lib/python3.6/site-packages/xgboost/sklearn.py:1146: UserWarning: The use of label encoder in XGBClassifier is deprecated and will be removed in a future release. To remove this warning, do the following: 1) Pass option use_label_encoder=False when constructing XGBClassifier object; and 2) Encode your labels (y) as integers starting with 0, i.e. 0, 1, 2, ..., [num_class - 1].\n",
      "  warnings.warn(label_encoder_deprecation_msg, UserWarning)\n",
      "/home/fscaccheri/.local/lib/python3.6/site-packages/sklearn/utils/validation.py:63: DataConversionWarning: A column-vector y was passed when a 1d array was expected. Please change the shape of y to (n_samples, ), for example using ravel().\n",
      "  return f(*args, **kwargs)\n"
     ]
    },
    {
     "name": "stdout",
     "output_type": "stream",
     "text": [
      "[17:57:24] WARNING: ../src/learner.cc:1095: Starting in XGBoost 1.3.0, the default evaluation metric used with the objective 'multi:softprob' was changed from 'merror' to 'mlogloss'. Explicitly set eval_metric if you'd like to restore the old behavior.\n",
      "[CV 5/5] END colsample_bynode=0.8, learning_rate=0.03, max_depth=10, n_estimators=120, reg_alpha=0.1, reg_lambda=3e-05;, score=0.694 total time=  29.5s\n"
     ]
    },
    {
     "name": "stderr",
     "output_type": "stream",
     "text": [
      "/home/fscaccheri/.local/lib/python3.6/site-packages/xgboost/sklearn.py:1146: UserWarning: The use of label encoder in XGBClassifier is deprecated and will be removed in a future release. To remove this warning, do the following: 1) Pass option use_label_encoder=False when constructing XGBClassifier object; and 2) Encode your labels (y) as integers starting with 0, i.e. 0, 1, 2, ..., [num_class - 1].\n",
      "  warnings.warn(label_encoder_deprecation_msg, UserWarning)\n",
      "/home/fscaccheri/.local/lib/python3.6/site-packages/sklearn/utils/validation.py:63: DataConversionWarning: A column-vector y was passed when a 1d array was expected. Please change the shape of y to (n_samples, ), for example using ravel().\n",
      "  return f(*args, **kwargs)\n"
     ]
    },
    {
     "name": "stdout",
     "output_type": "stream",
     "text": [
      "[17:57:53] WARNING: ../src/learner.cc:1095: Starting in XGBoost 1.3.0, the default evaluation metric used with the objective 'multi:softprob' was changed from 'merror' to 'mlogloss'. Explicitly set eval_metric if you'd like to restore the old behavior.\n",
      "[CV 1/5] END colsample_bynode=0.8, learning_rate=0.03, max_depth=10, n_estimators=120, reg_alpha=0.5, reg_lambda=1e-05;, score=0.693 total time=  29.3s\n"
     ]
    },
    {
     "name": "stderr",
     "output_type": "stream",
     "text": [
      "/home/fscaccheri/.local/lib/python3.6/site-packages/xgboost/sklearn.py:1146: UserWarning: The use of label encoder in XGBClassifier is deprecated and will be removed in a future release. To remove this warning, do the following: 1) Pass option use_label_encoder=False when constructing XGBClassifier object; and 2) Encode your labels (y) as integers starting with 0, i.e. 0, 1, 2, ..., [num_class - 1].\n",
      "  warnings.warn(label_encoder_deprecation_msg, UserWarning)\n",
      "/home/fscaccheri/.local/lib/python3.6/site-packages/sklearn/utils/validation.py:63: DataConversionWarning: A column-vector y was passed when a 1d array was expected. Please change the shape of y to (n_samples, ), for example using ravel().\n",
      "  return f(*args, **kwargs)\n"
     ]
    },
    {
     "name": "stdout",
     "output_type": "stream",
     "text": [
      "[17:58:23] WARNING: ../src/learner.cc:1095: Starting in XGBoost 1.3.0, the default evaluation metric used with the objective 'multi:softprob' was changed from 'merror' to 'mlogloss'. Explicitly set eval_metric if you'd like to restore the old behavior.\n",
      "[CV 2/5] END colsample_bynode=0.8, learning_rate=0.03, max_depth=10, n_estimators=120, reg_alpha=0.5, reg_lambda=1e-05;, score=0.691 total time=  29.5s\n"
     ]
    },
    {
     "name": "stderr",
     "output_type": "stream",
     "text": [
      "/home/fscaccheri/.local/lib/python3.6/site-packages/xgboost/sklearn.py:1146: UserWarning: The use of label encoder in XGBClassifier is deprecated and will be removed in a future release. To remove this warning, do the following: 1) Pass option use_label_encoder=False when constructing XGBClassifier object; and 2) Encode your labels (y) as integers starting with 0, i.e. 0, 1, 2, ..., [num_class - 1].\n",
      "  warnings.warn(label_encoder_deprecation_msg, UserWarning)\n",
      "/home/fscaccheri/.local/lib/python3.6/site-packages/sklearn/utils/validation.py:63: DataConversionWarning: A column-vector y was passed when a 1d array was expected. Please change the shape of y to (n_samples, ), for example using ravel().\n",
      "  return f(*args, **kwargs)\n"
     ]
    },
    {
     "name": "stdout",
     "output_type": "stream",
     "text": [
      "[17:58:53] WARNING: ../src/learner.cc:1095: Starting in XGBoost 1.3.0, the default evaluation metric used with the objective 'multi:softprob' was changed from 'merror' to 'mlogloss'. Explicitly set eval_metric if you'd like to restore the old behavior.\n",
      "[CV 3/5] END colsample_bynode=0.8, learning_rate=0.03, max_depth=10, n_estimators=120, reg_alpha=0.5, reg_lambda=1e-05;, score=0.698 total time=  29.7s\n"
     ]
    },
    {
     "name": "stderr",
     "output_type": "stream",
     "text": [
      "/home/fscaccheri/.local/lib/python3.6/site-packages/xgboost/sklearn.py:1146: UserWarning: The use of label encoder in XGBClassifier is deprecated and will be removed in a future release. To remove this warning, do the following: 1) Pass option use_label_encoder=False when constructing XGBClassifier object; and 2) Encode your labels (y) as integers starting with 0, i.e. 0, 1, 2, ..., [num_class - 1].\n",
      "  warnings.warn(label_encoder_deprecation_msg, UserWarning)\n",
      "/home/fscaccheri/.local/lib/python3.6/site-packages/sklearn/utils/validation.py:63: DataConversionWarning: A column-vector y was passed when a 1d array was expected. Please change the shape of y to (n_samples, ), for example using ravel().\n",
      "  return f(*args, **kwargs)\n"
     ]
    },
    {
     "name": "stdout",
     "output_type": "stream",
     "text": [
      "[17:59:22] WARNING: ../src/learner.cc:1095: Starting in XGBoost 1.3.0, the default evaluation metric used with the objective 'multi:softprob' was changed from 'merror' to 'mlogloss'. Explicitly set eval_metric if you'd like to restore the old behavior.\n",
      "[CV 4/5] END colsample_bynode=0.8, learning_rate=0.03, max_depth=10, n_estimators=120, reg_alpha=0.5, reg_lambda=1e-05;, score=0.694 total time=  29.4s\n"
     ]
    },
    {
     "name": "stderr",
     "output_type": "stream",
     "text": [
      "/home/fscaccheri/.local/lib/python3.6/site-packages/xgboost/sklearn.py:1146: UserWarning: The use of label encoder in XGBClassifier is deprecated and will be removed in a future release. To remove this warning, do the following: 1) Pass option use_label_encoder=False when constructing XGBClassifier object; and 2) Encode your labels (y) as integers starting with 0, i.e. 0, 1, 2, ..., [num_class - 1].\n",
      "  warnings.warn(label_encoder_deprecation_msg, UserWarning)\n",
      "/home/fscaccheri/.local/lib/python3.6/site-packages/sklearn/utils/validation.py:63: DataConversionWarning: A column-vector y was passed when a 1d array was expected. Please change the shape of y to (n_samples, ), for example using ravel().\n",
      "  return f(*args, **kwargs)\n"
     ]
    },
    {
     "name": "stdout",
     "output_type": "stream",
     "text": [
      "[17:59:54] WARNING: ../src/learner.cc:1095: Starting in XGBoost 1.3.0, the default evaluation metric used with the objective 'multi:softprob' was changed from 'merror' to 'mlogloss'. Explicitly set eval_metric if you'd like to restore the old behavior.\n",
      "[CV 5/5] END colsample_bynode=0.8, learning_rate=0.03, max_depth=10, n_estimators=120, reg_alpha=0.5, reg_lambda=1e-05;, score=0.694 total time=  31.7s\n"
     ]
    },
    {
     "name": "stderr",
     "output_type": "stream",
     "text": [
      "/home/fscaccheri/.local/lib/python3.6/site-packages/xgboost/sklearn.py:1146: UserWarning: The use of label encoder in XGBClassifier is deprecated and will be removed in a future release. To remove this warning, do the following: 1) Pass option use_label_encoder=False when constructing XGBClassifier object; and 2) Encode your labels (y) as integers starting with 0, i.e. 0, 1, 2, ..., [num_class - 1].\n",
      "  warnings.warn(label_encoder_deprecation_msg, UserWarning)\n",
      "/home/fscaccheri/.local/lib/python3.6/site-packages/sklearn/utils/validation.py:63: DataConversionWarning: A column-vector y was passed when a 1d array was expected. Please change the shape of y to (n_samples, ), for example using ravel().\n",
      "  return f(*args, **kwargs)\n"
     ]
    },
    {
     "name": "stdout",
     "output_type": "stream",
     "text": [
      "[18:00:25] WARNING: ../src/learner.cc:1095: Starting in XGBoost 1.3.0, the default evaluation metric used with the objective 'multi:softprob' was changed from 'merror' to 'mlogloss'. Explicitly set eval_metric if you'd like to restore the old behavior.\n",
      "[CV 1/5] END colsample_bynode=0.8, learning_rate=0.03, max_depth=10, n_estimators=120, reg_alpha=0.5, reg_lambda=3e-05;, score=0.693 total time=  30.9s\n"
     ]
    },
    {
     "name": "stderr",
     "output_type": "stream",
     "text": [
      "/home/fscaccheri/.local/lib/python3.6/site-packages/xgboost/sklearn.py:1146: UserWarning: The use of label encoder in XGBClassifier is deprecated and will be removed in a future release. To remove this warning, do the following: 1) Pass option use_label_encoder=False when constructing XGBClassifier object; and 2) Encode your labels (y) as integers starting with 0, i.e. 0, 1, 2, ..., [num_class - 1].\n",
      "  warnings.warn(label_encoder_deprecation_msg, UserWarning)\n",
      "/home/fscaccheri/.local/lib/python3.6/site-packages/sklearn/utils/validation.py:63: DataConversionWarning: A column-vector y was passed when a 1d array was expected. Please change the shape of y to (n_samples, ), for example using ravel().\n",
      "  return f(*args, **kwargs)\n"
     ]
    },
    {
     "name": "stdout",
     "output_type": "stream",
     "text": [
      "[18:00:55] WARNING: ../src/learner.cc:1095: Starting in XGBoost 1.3.0, the default evaluation metric used with the objective 'multi:softprob' was changed from 'merror' to 'mlogloss'. Explicitly set eval_metric if you'd like to restore the old behavior.\n",
      "[CV 2/5] END colsample_bynode=0.8, learning_rate=0.03, max_depth=10, n_estimators=120, reg_alpha=0.5, reg_lambda=3e-05;, score=0.691 total time=  29.8s\n"
     ]
    },
    {
     "name": "stderr",
     "output_type": "stream",
     "text": [
      "/home/fscaccheri/.local/lib/python3.6/site-packages/xgboost/sklearn.py:1146: UserWarning: The use of label encoder in XGBClassifier is deprecated and will be removed in a future release. To remove this warning, do the following: 1) Pass option use_label_encoder=False when constructing XGBClassifier object; and 2) Encode your labels (y) as integers starting with 0, i.e. 0, 1, 2, ..., [num_class - 1].\n",
      "  warnings.warn(label_encoder_deprecation_msg, UserWarning)\n",
      "/home/fscaccheri/.local/lib/python3.6/site-packages/sklearn/utils/validation.py:63: DataConversionWarning: A column-vector y was passed when a 1d array was expected. Please change the shape of y to (n_samples, ), for example using ravel().\n",
      "  return f(*args, **kwargs)\n"
     ]
    },
    {
     "name": "stdout",
     "output_type": "stream",
     "text": [
      "[18:01:25] WARNING: ../src/learner.cc:1095: Starting in XGBoost 1.3.0, the default evaluation metric used with the objective 'multi:softprob' was changed from 'merror' to 'mlogloss'. Explicitly set eval_metric if you'd like to restore the old behavior.\n",
      "[CV 3/5] END colsample_bynode=0.8, learning_rate=0.03, max_depth=10, n_estimators=120, reg_alpha=0.5, reg_lambda=3e-05;, score=0.698 total time=  30.1s\n"
     ]
    },
    {
     "name": "stderr",
     "output_type": "stream",
     "text": [
      "/home/fscaccheri/.local/lib/python3.6/site-packages/xgboost/sklearn.py:1146: UserWarning: The use of label encoder in XGBClassifier is deprecated and will be removed in a future release. To remove this warning, do the following: 1) Pass option use_label_encoder=False when constructing XGBClassifier object; and 2) Encode your labels (y) as integers starting with 0, i.e. 0, 1, 2, ..., [num_class - 1].\n",
      "  warnings.warn(label_encoder_deprecation_msg, UserWarning)\n",
      "/home/fscaccheri/.local/lib/python3.6/site-packages/sklearn/utils/validation.py:63: DataConversionWarning: A column-vector y was passed when a 1d array was expected. Please change the shape of y to (n_samples, ), for example using ravel().\n",
      "  return f(*args, **kwargs)\n"
     ]
    },
    {
     "name": "stdout",
     "output_type": "stream",
     "text": [
      "[18:01:56] WARNING: ../src/learner.cc:1095: Starting in XGBoost 1.3.0, the default evaluation metric used with the objective 'multi:softprob' was changed from 'merror' to 'mlogloss'. Explicitly set eval_metric if you'd like to restore the old behavior.\n",
      "[CV 4/5] END colsample_bynode=0.8, learning_rate=0.03, max_depth=10, n_estimators=120, reg_alpha=0.5, reg_lambda=3e-05;, score=0.694 total time=  30.8s\n"
     ]
    },
    {
     "name": "stderr",
     "output_type": "stream",
     "text": [
      "/home/fscaccheri/.local/lib/python3.6/site-packages/xgboost/sklearn.py:1146: UserWarning: The use of label encoder in XGBClassifier is deprecated and will be removed in a future release. To remove this warning, do the following: 1) Pass option use_label_encoder=False when constructing XGBClassifier object; and 2) Encode your labels (y) as integers starting with 0, i.e. 0, 1, 2, ..., [num_class - 1].\n",
      "  warnings.warn(label_encoder_deprecation_msg, UserWarning)\n",
      "/home/fscaccheri/.local/lib/python3.6/site-packages/sklearn/utils/validation.py:63: DataConversionWarning: A column-vector y was passed when a 1d array was expected. Please change the shape of y to (n_samples, ), for example using ravel().\n",
      "  return f(*args, **kwargs)\n"
     ]
    },
    {
     "name": "stdout",
     "output_type": "stream",
     "text": [
      "[18:02:28] WARNING: ../src/learner.cc:1095: Starting in XGBoost 1.3.0, the default evaluation metric used with the objective 'multi:softprob' was changed from 'merror' to 'mlogloss'. Explicitly set eval_metric if you'd like to restore the old behavior.\n",
      "[CV 5/5] END colsample_bynode=0.8, learning_rate=0.03, max_depth=10, n_estimators=120, reg_alpha=0.5, reg_lambda=3e-05;, score=0.694 total time=  32.8s\n"
     ]
    },
    {
     "name": "stderr",
     "output_type": "stream",
     "text": [
      "/home/fscaccheri/.local/lib/python3.6/site-packages/xgboost/sklearn.py:1146: UserWarning: The use of label encoder in XGBClassifier is deprecated and will be removed in a future release. To remove this warning, do the following: 1) Pass option use_label_encoder=False when constructing XGBClassifier object; and 2) Encode your labels (y) as integers starting with 0, i.e. 0, 1, 2, ..., [num_class - 1].\n",
      "  warnings.warn(label_encoder_deprecation_msg, UserWarning)\n",
      "/home/fscaccheri/.local/lib/python3.6/site-packages/sklearn/utils/validation.py:63: DataConversionWarning: A column-vector y was passed when a 1d array was expected. Please change the shape of y to (n_samples, ), for example using ravel().\n",
      "  return f(*args, **kwargs)\n"
     ]
    },
    {
     "name": "stdout",
     "output_type": "stream",
     "text": [
      "[18:03:14] WARNING: ../src/learner.cc:1095: Starting in XGBoost 1.3.0, the default evaluation metric used with the objective 'multi:softprob' was changed from 'merror' to 'mlogloss'. Explicitly set eval_metric if you'd like to restore the old behavior.\n",
      "[CV 1/5] END colsample_bynode=0.8, learning_rate=0.03, max_depth=15, n_estimators=100, reg_alpha=0.1, reg_lambda=1e-05;, score=0.727 total time=  49.8s\n"
     ]
    },
    {
     "name": "stderr",
     "output_type": "stream",
     "text": [
      "/home/fscaccheri/.local/lib/python3.6/site-packages/xgboost/sklearn.py:1146: UserWarning: The use of label encoder in XGBClassifier is deprecated and will be removed in a future release. To remove this warning, do the following: 1) Pass option use_label_encoder=False when constructing XGBClassifier object; and 2) Encode your labels (y) as integers starting with 0, i.e. 0, 1, 2, ..., [num_class - 1].\n",
      "  warnings.warn(label_encoder_deprecation_msg, UserWarning)\n",
      "/home/fscaccheri/.local/lib/python3.6/site-packages/sklearn/utils/validation.py:63: DataConversionWarning: A column-vector y was passed when a 1d array was expected. Please change the shape of y to (n_samples, ), for example using ravel().\n",
      "  return f(*args, **kwargs)\n"
     ]
    },
    {
     "name": "stdout",
     "output_type": "stream",
     "text": [
      "[18:04:02] WARNING: ../src/learner.cc:1095: Starting in XGBoost 1.3.0, the default evaluation metric used with the objective 'multi:softprob' was changed from 'merror' to 'mlogloss'. Explicitly set eval_metric if you'd like to restore the old behavior.\n",
      "[CV 2/5] END colsample_bynode=0.8, learning_rate=0.03, max_depth=15, n_estimators=100, reg_alpha=0.1, reg_lambda=1e-05;, score=0.726 total time=  47.6s\n"
     ]
    },
    {
     "name": "stderr",
     "output_type": "stream",
     "text": [
      "/home/fscaccheri/.local/lib/python3.6/site-packages/xgboost/sklearn.py:1146: UserWarning: The use of label encoder in XGBClassifier is deprecated and will be removed in a future release. To remove this warning, do the following: 1) Pass option use_label_encoder=False when constructing XGBClassifier object; and 2) Encode your labels (y) as integers starting with 0, i.e. 0, 1, 2, ..., [num_class - 1].\n",
      "  warnings.warn(label_encoder_deprecation_msg, UserWarning)\n",
      "/home/fscaccheri/.local/lib/python3.6/site-packages/sklearn/utils/validation.py:63: DataConversionWarning: A column-vector y was passed when a 1d array was expected. Please change the shape of y to (n_samples, ), for example using ravel().\n",
      "  return f(*args, **kwargs)\n"
     ]
    },
    {
     "name": "stdout",
     "output_type": "stream",
     "text": [
      "[18:04:52] WARNING: ../src/learner.cc:1095: Starting in XGBoost 1.3.0, the default evaluation metric used with the objective 'multi:softprob' was changed from 'merror' to 'mlogloss'. Explicitly set eval_metric if you'd like to restore the old behavior.\n",
      "[CV 3/5] END colsample_bynode=0.8, learning_rate=0.03, max_depth=15, n_estimators=100, reg_alpha=0.1, reg_lambda=1e-05;, score=0.732 total time=  50.6s\n"
     ]
    },
    {
     "name": "stderr",
     "output_type": "stream",
     "text": [
      "/home/fscaccheri/.local/lib/python3.6/site-packages/xgboost/sklearn.py:1146: UserWarning: The use of label encoder in XGBClassifier is deprecated and will be removed in a future release. To remove this warning, do the following: 1) Pass option use_label_encoder=False when constructing XGBClassifier object; and 2) Encode your labels (y) as integers starting with 0, i.e. 0, 1, 2, ..., [num_class - 1].\n",
      "  warnings.warn(label_encoder_deprecation_msg, UserWarning)\n",
      "/home/fscaccheri/.local/lib/python3.6/site-packages/sklearn/utils/validation.py:63: DataConversionWarning: A column-vector y was passed when a 1d array was expected. Please change the shape of y to (n_samples, ), for example using ravel().\n",
      "  return f(*args, **kwargs)\n"
     ]
    },
    {
     "name": "stdout",
     "output_type": "stream",
     "text": [
      "[18:05:40] WARNING: ../src/learner.cc:1095: Starting in XGBoost 1.3.0, the default evaluation metric used with the objective 'multi:softprob' was changed from 'merror' to 'mlogloss'. Explicitly set eval_metric if you'd like to restore the old behavior.\n",
      "[CV 4/5] END colsample_bynode=0.8, learning_rate=0.03, max_depth=15, n_estimators=100, reg_alpha=0.1, reg_lambda=1e-05;, score=0.730 total time=  47.4s\n"
     ]
    },
    {
     "name": "stderr",
     "output_type": "stream",
     "text": [
      "/home/fscaccheri/.local/lib/python3.6/site-packages/xgboost/sklearn.py:1146: UserWarning: The use of label encoder in XGBClassifier is deprecated and will be removed in a future release. To remove this warning, do the following: 1) Pass option use_label_encoder=False when constructing XGBClassifier object; and 2) Encode your labels (y) as integers starting with 0, i.e. 0, 1, 2, ..., [num_class - 1].\n",
      "  warnings.warn(label_encoder_deprecation_msg, UserWarning)\n",
      "/home/fscaccheri/.local/lib/python3.6/site-packages/sklearn/utils/validation.py:63: DataConversionWarning: A column-vector y was passed when a 1d array was expected. Please change the shape of y to (n_samples, ), for example using ravel().\n",
      "  return f(*args, **kwargs)\n"
     ]
    },
    {
     "name": "stdout",
     "output_type": "stream",
     "text": [
      "[18:06:28] WARNING: ../src/learner.cc:1095: Starting in XGBoost 1.3.0, the default evaluation metric used with the objective 'multi:softprob' was changed from 'merror' to 'mlogloss'. Explicitly set eval_metric if you'd like to restore the old behavior.\n",
      "[CV 5/5] END colsample_bynode=0.8, learning_rate=0.03, max_depth=15, n_estimators=100, reg_alpha=0.1, reg_lambda=1e-05;, score=0.729 total time=  47.9s\n"
     ]
    },
    {
     "name": "stderr",
     "output_type": "stream",
     "text": [
      "/home/fscaccheri/.local/lib/python3.6/site-packages/xgboost/sklearn.py:1146: UserWarning: The use of label encoder in XGBClassifier is deprecated and will be removed in a future release. To remove this warning, do the following: 1) Pass option use_label_encoder=False when constructing XGBClassifier object; and 2) Encode your labels (y) as integers starting with 0, i.e. 0, 1, 2, ..., [num_class - 1].\n",
      "  warnings.warn(label_encoder_deprecation_msg, UserWarning)\n",
      "/home/fscaccheri/.local/lib/python3.6/site-packages/sklearn/utils/validation.py:63: DataConversionWarning: A column-vector y was passed when a 1d array was expected. Please change the shape of y to (n_samples, ), for example using ravel().\n",
      "  return f(*args, **kwargs)\n"
     ]
    },
    {
     "name": "stdout",
     "output_type": "stream",
     "text": [
      "[18:07:18] WARNING: ../src/learner.cc:1095: Starting in XGBoost 1.3.0, the default evaluation metric used with the objective 'multi:softprob' was changed from 'merror' to 'mlogloss'. Explicitly set eval_metric if you'd like to restore the old behavior.\n",
      "[CV 1/5] END colsample_bynode=0.8, learning_rate=0.03, max_depth=15, n_estimators=100, reg_alpha=0.1, reg_lambda=3e-05;, score=0.727 total time=  50.7s\n"
     ]
    },
    {
     "name": "stderr",
     "output_type": "stream",
     "text": [
      "/home/fscaccheri/.local/lib/python3.6/site-packages/xgboost/sklearn.py:1146: UserWarning: The use of label encoder in XGBClassifier is deprecated and will be removed in a future release. To remove this warning, do the following: 1) Pass option use_label_encoder=False when constructing XGBClassifier object; and 2) Encode your labels (y) as integers starting with 0, i.e. 0, 1, 2, ..., [num_class - 1].\n",
      "  warnings.warn(label_encoder_deprecation_msg, UserWarning)\n",
      "/home/fscaccheri/.local/lib/python3.6/site-packages/sklearn/utils/validation.py:63: DataConversionWarning: A column-vector y was passed when a 1d array was expected. Please change the shape of y to (n_samples, ), for example using ravel().\n",
      "  return f(*args, **kwargs)\n"
     ]
    },
    {
     "name": "stdout",
     "output_type": "stream",
     "text": [
      "[18:08:06] WARNING: ../src/learner.cc:1095: Starting in XGBoost 1.3.0, the default evaluation metric used with the objective 'multi:softprob' was changed from 'merror' to 'mlogloss'. Explicitly set eval_metric if you'd like to restore the old behavior.\n",
      "[CV 2/5] END colsample_bynode=0.8, learning_rate=0.03, max_depth=15, n_estimators=100, reg_alpha=0.1, reg_lambda=3e-05;, score=0.726 total time=  47.5s\n"
     ]
    },
    {
     "name": "stderr",
     "output_type": "stream",
     "text": [
      "/home/fscaccheri/.local/lib/python3.6/site-packages/xgboost/sklearn.py:1146: UserWarning: The use of label encoder in XGBClassifier is deprecated and will be removed in a future release. To remove this warning, do the following: 1) Pass option use_label_encoder=False when constructing XGBClassifier object; and 2) Encode your labels (y) as integers starting with 0, i.e. 0, 1, 2, ..., [num_class - 1].\n",
      "  warnings.warn(label_encoder_deprecation_msg, UserWarning)\n",
      "/home/fscaccheri/.local/lib/python3.6/site-packages/sklearn/utils/validation.py:63: DataConversionWarning: A column-vector y was passed when a 1d array was expected. Please change the shape of y to (n_samples, ), for example using ravel().\n",
      "  return f(*args, **kwargs)\n"
     ]
    },
    {
     "name": "stdout",
     "output_type": "stream",
     "text": [
      "[18:08:54] WARNING: ../src/learner.cc:1095: Starting in XGBoost 1.3.0, the default evaluation metric used with the objective 'multi:softprob' was changed from 'merror' to 'mlogloss'. Explicitly set eval_metric if you'd like to restore the old behavior.\n",
      "[CV 3/5] END colsample_bynode=0.8, learning_rate=0.03, max_depth=15, n_estimators=100, reg_alpha=0.1, reg_lambda=3e-05;, score=0.732 total time=  48.3s\n"
     ]
    },
    {
     "name": "stderr",
     "output_type": "stream",
     "text": [
      "/home/fscaccheri/.local/lib/python3.6/site-packages/xgboost/sklearn.py:1146: UserWarning: The use of label encoder in XGBClassifier is deprecated and will be removed in a future release. To remove this warning, do the following: 1) Pass option use_label_encoder=False when constructing XGBClassifier object; and 2) Encode your labels (y) as integers starting with 0, i.e. 0, 1, 2, ..., [num_class - 1].\n",
      "  warnings.warn(label_encoder_deprecation_msg, UserWarning)\n",
      "/home/fscaccheri/.local/lib/python3.6/site-packages/sklearn/utils/validation.py:63: DataConversionWarning: A column-vector y was passed when a 1d array was expected. Please change the shape of y to (n_samples, ), for example using ravel().\n",
      "  return f(*args, **kwargs)\n"
     ]
    },
    {
     "name": "stdout",
     "output_type": "stream",
     "text": [
      "[18:09:42] WARNING: ../src/learner.cc:1095: Starting in XGBoost 1.3.0, the default evaluation metric used with the objective 'multi:softprob' was changed from 'merror' to 'mlogloss'. Explicitly set eval_metric if you'd like to restore the old behavior.\n",
      "[CV 4/5] END colsample_bynode=0.8, learning_rate=0.03, max_depth=15, n_estimators=100, reg_alpha=0.1, reg_lambda=3e-05;, score=0.730 total time=  47.6s\n"
     ]
    },
    {
     "name": "stderr",
     "output_type": "stream",
     "text": [
      "/home/fscaccheri/.local/lib/python3.6/site-packages/xgboost/sklearn.py:1146: UserWarning: The use of label encoder in XGBClassifier is deprecated and will be removed in a future release. To remove this warning, do the following: 1) Pass option use_label_encoder=False when constructing XGBClassifier object; and 2) Encode your labels (y) as integers starting with 0, i.e. 0, 1, 2, ..., [num_class - 1].\n",
      "  warnings.warn(label_encoder_deprecation_msg, UserWarning)\n",
      "/home/fscaccheri/.local/lib/python3.6/site-packages/sklearn/utils/validation.py:63: DataConversionWarning: A column-vector y was passed when a 1d array was expected. Please change the shape of y to (n_samples, ), for example using ravel().\n",
      "  return f(*args, **kwargs)\n"
     ]
    },
    {
     "name": "stdout",
     "output_type": "stream",
     "text": [
      "[18:10:29] WARNING: ../src/learner.cc:1095: Starting in XGBoost 1.3.0, the default evaluation metric used with the objective 'multi:softprob' was changed from 'merror' to 'mlogloss'. Explicitly set eval_metric if you'd like to restore the old behavior.\n",
      "[CV 5/5] END colsample_bynode=0.8, learning_rate=0.03, max_depth=15, n_estimators=100, reg_alpha=0.1, reg_lambda=3e-05;, score=0.729 total time=  46.8s\n"
     ]
    },
    {
     "name": "stderr",
     "output_type": "stream",
     "text": [
      "/home/fscaccheri/.local/lib/python3.6/site-packages/xgboost/sklearn.py:1146: UserWarning: The use of label encoder in XGBClassifier is deprecated and will be removed in a future release. To remove this warning, do the following: 1) Pass option use_label_encoder=False when constructing XGBClassifier object; and 2) Encode your labels (y) as integers starting with 0, i.e. 0, 1, 2, ..., [num_class - 1].\n",
      "  warnings.warn(label_encoder_deprecation_msg, UserWarning)\n",
      "/home/fscaccheri/.local/lib/python3.6/site-packages/sklearn/utils/validation.py:63: DataConversionWarning: A column-vector y was passed when a 1d array was expected. Please change the shape of y to (n_samples, ), for example using ravel().\n",
      "  return f(*args, **kwargs)\n"
     ]
    },
    {
     "name": "stdout",
     "output_type": "stream",
     "text": [
      "[18:11:15] WARNING: ../src/learner.cc:1095: Starting in XGBoost 1.3.0, the default evaluation metric used with the objective 'multi:softprob' was changed from 'merror' to 'mlogloss'. Explicitly set eval_metric if you'd like to restore the old behavior.\n",
      "[CV 1/5] END colsample_bynode=0.8, learning_rate=0.03, max_depth=15, n_estimators=100, reg_alpha=0.5, reg_lambda=1e-05;, score=0.726 total time=  45.8s\n"
     ]
    },
    {
     "name": "stderr",
     "output_type": "stream",
     "text": [
      "/home/fscaccheri/.local/lib/python3.6/site-packages/xgboost/sklearn.py:1146: UserWarning: The use of label encoder in XGBClassifier is deprecated and will be removed in a future release. To remove this warning, do the following: 1) Pass option use_label_encoder=False when constructing XGBClassifier object; and 2) Encode your labels (y) as integers starting with 0, i.e. 0, 1, 2, ..., [num_class - 1].\n",
      "  warnings.warn(label_encoder_deprecation_msg, UserWarning)\n",
      "/home/fscaccheri/.local/lib/python3.6/site-packages/sklearn/utils/validation.py:63: DataConversionWarning: A column-vector y was passed when a 1d array was expected. Please change the shape of y to (n_samples, ), for example using ravel().\n",
      "  return f(*args, **kwargs)\n"
     ]
    },
    {
     "name": "stdout",
     "output_type": "stream",
     "text": [
      "[18:12:07] WARNING: ../src/learner.cc:1095: Starting in XGBoost 1.3.0, the default evaluation metric used with the objective 'multi:softprob' was changed from 'merror' to 'mlogloss'. Explicitly set eval_metric if you'd like to restore the old behavior.\n",
      "[CV 2/5] END colsample_bynode=0.8, learning_rate=0.03, max_depth=15, n_estimators=100, reg_alpha=0.5, reg_lambda=1e-05;, score=0.725 total time=  51.4s\n"
     ]
    },
    {
     "name": "stderr",
     "output_type": "stream",
     "text": [
      "/home/fscaccheri/.local/lib/python3.6/site-packages/xgboost/sklearn.py:1146: UserWarning: The use of label encoder in XGBClassifier is deprecated and will be removed in a future release. To remove this warning, do the following: 1) Pass option use_label_encoder=False when constructing XGBClassifier object; and 2) Encode your labels (y) as integers starting with 0, i.e. 0, 1, 2, ..., [num_class - 1].\n",
      "  warnings.warn(label_encoder_deprecation_msg, UserWarning)\n",
      "/home/fscaccheri/.local/lib/python3.6/site-packages/sklearn/utils/validation.py:63: DataConversionWarning: A column-vector y was passed when a 1d array was expected. Please change the shape of y to (n_samples, ), for example using ravel().\n",
      "  return f(*args, **kwargs)\n"
     ]
    },
    {
     "name": "stdout",
     "output_type": "stream",
     "text": [
      "[18:12:58] WARNING: ../src/learner.cc:1095: Starting in XGBoost 1.3.0, the default evaluation metric used with the objective 'multi:softprob' was changed from 'merror' to 'mlogloss'. Explicitly set eval_metric if you'd like to restore the old behavior.\n",
      "[CV 3/5] END colsample_bynode=0.8, learning_rate=0.03, max_depth=15, n_estimators=100, reg_alpha=0.5, reg_lambda=1e-05;, score=0.732 total time=  51.7s\n"
     ]
    },
    {
     "name": "stderr",
     "output_type": "stream",
     "text": [
      "/home/fscaccheri/.local/lib/python3.6/site-packages/xgboost/sklearn.py:1146: UserWarning: The use of label encoder in XGBClassifier is deprecated and will be removed in a future release. To remove this warning, do the following: 1) Pass option use_label_encoder=False when constructing XGBClassifier object; and 2) Encode your labels (y) as integers starting with 0, i.e. 0, 1, 2, ..., [num_class - 1].\n",
      "  warnings.warn(label_encoder_deprecation_msg, UserWarning)\n",
      "/home/fscaccheri/.local/lib/python3.6/site-packages/sklearn/utils/validation.py:63: DataConversionWarning: A column-vector y was passed when a 1d array was expected. Please change the shape of y to (n_samples, ), for example using ravel().\n",
      "  return f(*args, **kwargs)\n"
     ]
    },
    {
     "name": "stdout",
     "output_type": "stream",
     "text": [
      "[18:13:45] WARNING: ../src/learner.cc:1095: Starting in XGBoost 1.3.0, the default evaluation metric used with the objective 'multi:softprob' was changed from 'merror' to 'mlogloss'. Explicitly set eval_metric if you'd like to restore the old behavior.\n",
      "[CV 4/5] END colsample_bynode=0.8, learning_rate=0.03, max_depth=15, n_estimators=100, reg_alpha=0.5, reg_lambda=1e-05;, score=0.729 total time=  47.0s\n"
     ]
    },
    {
     "name": "stderr",
     "output_type": "stream",
     "text": [
      "/home/fscaccheri/.local/lib/python3.6/site-packages/xgboost/sklearn.py:1146: UserWarning: The use of label encoder in XGBClassifier is deprecated and will be removed in a future release. To remove this warning, do the following: 1) Pass option use_label_encoder=False when constructing XGBClassifier object; and 2) Encode your labels (y) as integers starting with 0, i.e. 0, 1, 2, ..., [num_class - 1].\n",
      "  warnings.warn(label_encoder_deprecation_msg, UserWarning)\n",
      "/home/fscaccheri/.local/lib/python3.6/site-packages/sklearn/utils/validation.py:63: DataConversionWarning: A column-vector y was passed when a 1d array was expected. Please change the shape of y to (n_samples, ), for example using ravel().\n",
      "  return f(*args, **kwargs)\n"
     ]
    },
    {
     "name": "stdout",
     "output_type": "stream",
     "text": [
      "[18:14:34] WARNING: ../src/learner.cc:1095: Starting in XGBoost 1.3.0, the default evaluation metric used with the objective 'multi:softprob' was changed from 'merror' to 'mlogloss'. Explicitly set eval_metric if you'd like to restore the old behavior.\n",
      "[CV 5/5] END colsample_bynode=0.8, learning_rate=0.03, max_depth=15, n_estimators=100, reg_alpha=0.5, reg_lambda=1e-05;, score=0.728 total time=  49.2s\n"
     ]
    },
    {
     "name": "stderr",
     "output_type": "stream",
     "text": [
      "/home/fscaccheri/.local/lib/python3.6/site-packages/xgboost/sklearn.py:1146: UserWarning: The use of label encoder in XGBClassifier is deprecated and will be removed in a future release. To remove this warning, do the following: 1) Pass option use_label_encoder=False when constructing XGBClassifier object; and 2) Encode your labels (y) as integers starting with 0, i.e. 0, 1, 2, ..., [num_class - 1].\n",
      "  warnings.warn(label_encoder_deprecation_msg, UserWarning)\n",
      "/home/fscaccheri/.local/lib/python3.6/site-packages/sklearn/utils/validation.py:63: DataConversionWarning: A column-vector y was passed when a 1d array was expected. Please change the shape of y to (n_samples, ), for example using ravel().\n",
      "  return f(*args, **kwargs)\n"
     ]
    },
    {
     "name": "stdout",
     "output_type": "stream",
     "text": [
      "[18:15:25] WARNING: ../src/learner.cc:1095: Starting in XGBoost 1.3.0, the default evaluation metric used with the objective 'multi:softprob' was changed from 'merror' to 'mlogloss'. Explicitly set eval_metric if you'd like to restore the old behavior.\n",
      "[CV 1/5] END colsample_bynode=0.8, learning_rate=0.03, max_depth=15, n_estimators=100, reg_alpha=0.5, reg_lambda=3e-05;, score=0.726 total time=  50.6s\n"
     ]
    },
    {
     "name": "stderr",
     "output_type": "stream",
     "text": [
      "/home/fscaccheri/.local/lib/python3.6/site-packages/xgboost/sklearn.py:1146: UserWarning: The use of label encoder in XGBClassifier is deprecated and will be removed in a future release. To remove this warning, do the following: 1) Pass option use_label_encoder=False when constructing XGBClassifier object; and 2) Encode your labels (y) as integers starting with 0, i.e. 0, 1, 2, ..., [num_class - 1].\n",
      "  warnings.warn(label_encoder_deprecation_msg, UserWarning)\n",
      "/home/fscaccheri/.local/lib/python3.6/site-packages/sklearn/utils/validation.py:63: DataConversionWarning: A column-vector y was passed when a 1d array was expected. Please change the shape of y to (n_samples, ), for example using ravel().\n",
      "  return f(*args, **kwargs)\n"
     ]
    },
    {
     "name": "stdout",
     "output_type": "stream",
     "text": [
      "[18:16:12] WARNING: ../src/learner.cc:1095: Starting in XGBoost 1.3.0, the default evaluation metric used with the objective 'multi:softprob' was changed from 'merror' to 'mlogloss'. Explicitly set eval_metric if you'd like to restore the old behavior.\n",
      "[CV 2/5] END colsample_bynode=0.8, learning_rate=0.03, max_depth=15, n_estimators=100, reg_alpha=0.5, reg_lambda=3e-05;, score=0.725 total time=  47.0s\n"
     ]
    },
    {
     "name": "stderr",
     "output_type": "stream",
     "text": [
      "/home/fscaccheri/.local/lib/python3.6/site-packages/xgboost/sklearn.py:1146: UserWarning: The use of label encoder in XGBClassifier is deprecated and will be removed in a future release. To remove this warning, do the following: 1) Pass option use_label_encoder=False when constructing XGBClassifier object; and 2) Encode your labels (y) as integers starting with 0, i.e. 0, 1, 2, ..., [num_class - 1].\n",
      "  warnings.warn(label_encoder_deprecation_msg, UserWarning)\n",
      "/home/fscaccheri/.local/lib/python3.6/site-packages/sklearn/utils/validation.py:63: DataConversionWarning: A column-vector y was passed when a 1d array was expected. Please change the shape of y to (n_samples, ), for example using ravel().\n",
      "  return f(*args, **kwargs)\n"
     ]
    },
    {
     "name": "stdout",
     "output_type": "stream",
     "text": [
      "[18:17:00] WARNING: ../src/learner.cc:1095: Starting in XGBoost 1.3.0, the default evaluation metric used with the objective 'multi:softprob' was changed from 'merror' to 'mlogloss'. Explicitly set eval_metric if you'd like to restore the old behavior.\n",
      "[CV 3/5] END colsample_bynode=0.8, learning_rate=0.03, max_depth=15, n_estimators=100, reg_alpha=0.5, reg_lambda=3e-05;, score=0.732 total time=  47.6s\n"
     ]
    },
    {
     "name": "stderr",
     "output_type": "stream",
     "text": [
      "/home/fscaccheri/.local/lib/python3.6/site-packages/xgboost/sklearn.py:1146: UserWarning: The use of label encoder in XGBClassifier is deprecated and will be removed in a future release. To remove this warning, do the following: 1) Pass option use_label_encoder=False when constructing XGBClassifier object; and 2) Encode your labels (y) as integers starting with 0, i.e. 0, 1, 2, ..., [num_class - 1].\n",
      "  warnings.warn(label_encoder_deprecation_msg, UserWarning)\n",
      "/home/fscaccheri/.local/lib/python3.6/site-packages/sklearn/utils/validation.py:63: DataConversionWarning: A column-vector y was passed when a 1d array was expected. Please change the shape of y to (n_samples, ), for example using ravel().\n",
      "  return f(*args, **kwargs)\n"
     ]
    },
    {
     "name": "stdout",
     "output_type": "stream",
     "text": [
      "[18:17:46] WARNING: ../src/learner.cc:1095: Starting in XGBoost 1.3.0, the default evaluation metric used with the objective 'multi:softprob' was changed from 'merror' to 'mlogloss'. Explicitly set eval_metric if you'd like to restore the old behavior.\n",
      "[CV 4/5] END colsample_bynode=0.8, learning_rate=0.03, max_depth=15, n_estimators=100, reg_alpha=0.5, reg_lambda=3e-05;, score=0.729 total time=  45.7s\n"
     ]
    },
    {
     "name": "stderr",
     "output_type": "stream",
     "text": [
      "/home/fscaccheri/.local/lib/python3.6/site-packages/xgboost/sklearn.py:1146: UserWarning: The use of label encoder in XGBClassifier is deprecated and will be removed in a future release. To remove this warning, do the following: 1) Pass option use_label_encoder=False when constructing XGBClassifier object; and 2) Encode your labels (y) as integers starting with 0, i.e. 0, 1, 2, ..., [num_class - 1].\n",
      "  warnings.warn(label_encoder_deprecation_msg, UserWarning)\n",
      "/home/fscaccheri/.local/lib/python3.6/site-packages/sklearn/utils/validation.py:63: DataConversionWarning: A column-vector y was passed when a 1d array was expected. Please change the shape of y to (n_samples, ), for example using ravel().\n",
      "  return f(*args, **kwargs)\n"
     ]
    },
    {
     "name": "stdout",
     "output_type": "stream",
     "text": [
      "[18:18:32] WARNING: ../src/learner.cc:1095: Starting in XGBoost 1.3.0, the default evaluation metric used with the objective 'multi:softprob' was changed from 'merror' to 'mlogloss'. Explicitly set eval_metric if you'd like to restore the old behavior.\n",
      "[CV 5/5] END colsample_bynode=0.8, learning_rate=0.03, max_depth=15, n_estimators=100, reg_alpha=0.5, reg_lambda=3e-05;, score=0.728 total time=  46.3s\n"
     ]
    },
    {
     "name": "stderr",
     "output_type": "stream",
     "text": [
      "/home/fscaccheri/.local/lib/python3.6/site-packages/xgboost/sklearn.py:1146: UserWarning: The use of label encoder in XGBClassifier is deprecated and will be removed in a future release. To remove this warning, do the following: 1) Pass option use_label_encoder=False when constructing XGBClassifier object; and 2) Encode your labels (y) as integers starting with 0, i.e. 0, 1, 2, ..., [num_class - 1].\n",
      "  warnings.warn(label_encoder_deprecation_msg, UserWarning)\n",
      "/home/fscaccheri/.local/lib/python3.6/site-packages/sklearn/utils/validation.py:63: DataConversionWarning: A column-vector y was passed when a 1d array was expected. Please change the shape of y to (n_samples, ), for example using ravel().\n",
      "  return f(*args, **kwargs)\n"
     ]
    },
    {
     "name": "stdout",
     "output_type": "stream",
     "text": [
      "[18:19:27] WARNING: ../src/learner.cc:1095: Starting in XGBoost 1.3.0, the default evaluation metric used with the objective 'multi:softprob' was changed from 'merror' to 'mlogloss'. Explicitly set eval_metric if you'd like to restore the old behavior.\n",
      "[CV 1/5] END colsample_bynode=0.8, learning_rate=0.03, max_depth=15, n_estimators=120, reg_alpha=0.1, reg_lambda=1e-05;, score=0.726 total time=  56.5s\n"
     ]
    },
    {
     "name": "stderr",
     "output_type": "stream",
     "text": [
      "/home/fscaccheri/.local/lib/python3.6/site-packages/xgboost/sklearn.py:1146: UserWarning: The use of label encoder in XGBClassifier is deprecated and will be removed in a future release. To remove this warning, do the following: 1) Pass option use_label_encoder=False when constructing XGBClassifier object; and 2) Encode your labels (y) as integers starting with 0, i.e. 0, 1, 2, ..., [num_class - 1].\n",
      "  warnings.warn(label_encoder_deprecation_msg, UserWarning)\n",
      "/home/fscaccheri/.local/lib/python3.6/site-packages/sklearn/utils/validation.py:63: DataConversionWarning: A column-vector y was passed when a 1d array was expected. Please change the shape of y to (n_samples, ), for example using ravel().\n",
      "  return f(*args, **kwargs)\n"
     ]
    },
    {
     "name": "stdout",
     "output_type": "stream",
     "text": [
      "[18:20:22] WARNING: ../src/learner.cc:1095: Starting in XGBoost 1.3.0, the default evaluation metric used with the objective 'multi:softprob' was changed from 'merror' to 'mlogloss'. Explicitly set eval_metric if you'd like to restore the old behavior.\n",
      "[CV 2/5] END colsample_bynode=0.8, learning_rate=0.03, max_depth=15, n_estimators=120, reg_alpha=0.1, reg_lambda=1e-05;, score=0.726 total time=  55.6s\n"
     ]
    },
    {
     "name": "stderr",
     "output_type": "stream",
     "text": [
      "/home/fscaccheri/.local/lib/python3.6/site-packages/xgboost/sklearn.py:1146: UserWarning: The use of label encoder in XGBClassifier is deprecated and will be removed in a future release. To remove this warning, do the following: 1) Pass option use_label_encoder=False when constructing XGBClassifier object; and 2) Encode your labels (y) as integers starting with 0, i.e. 0, 1, 2, ..., [num_class - 1].\n",
      "  warnings.warn(label_encoder_deprecation_msg, UserWarning)\n",
      "/home/fscaccheri/.local/lib/python3.6/site-packages/sklearn/utils/validation.py:63: DataConversionWarning: A column-vector y was passed when a 1d array was expected. Please change the shape of y to (n_samples, ), for example using ravel().\n",
      "  return f(*args, **kwargs)\n"
     ]
    },
    {
     "name": "stdout",
     "output_type": "stream",
     "text": [
      "[18:21:23] WARNING: ../src/learner.cc:1095: Starting in XGBoost 1.3.0, the default evaluation metric used with the objective 'multi:softprob' was changed from 'merror' to 'mlogloss'. Explicitly set eval_metric if you'd like to restore the old behavior.\n",
      "[CV 3/5] END colsample_bynode=0.8, learning_rate=0.03, max_depth=15, n_estimators=120, reg_alpha=0.1, reg_lambda=1e-05;, score=0.732 total time= 1.0min\n"
     ]
    },
    {
     "name": "stderr",
     "output_type": "stream",
     "text": [
      "/home/fscaccheri/.local/lib/python3.6/site-packages/xgboost/sklearn.py:1146: UserWarning: The use of label encoder in XGBClassifier is deprecated and will be removed in a future release. To remove this warning, do the following: 1) Pass option use_label_encoder=False when constructing XGBClassifier object; and 2) Encode your labels (y) as integers starting with 0, i.e. 0, 1, 2, ..., [num_class - 1].\n",
      "  warnings.warn(label_encoder_deprecation_msg, UserWarning)\n",
      "/home/fscaccheri/.local/lib/python3.6/site-packages/sklearn/utils/validation.py:63: DataConversionWarning: A column-vector y was passed when a 1d array was expected. Please change the shape of y to (n_samples, ), for example using ravel().\n",
      "  return f(*args, **kwargs)\n"
     ]
    },
    {
     "name": "stdout",
     "output_type": "stream",
     "text": [
      "[18:22:20] WARNING: ../src/learner.cc:1095: Starting in XGBoost 1.3.0, the default evaluation metric used with the objective 'multi:softprob' was changed from 'merror' to 'mlogloss'. Explicitly set eval_metric if you'd like to restore the old behavior.\n",
      "[CV 4/5] END colsample_bynode=0.8, learning_rate=0.03, max_depth=15, n_estimators=120, reg_alpha=0.1, reg_lambda=1e-05;, score=0.730 total time=  57.3s\n"
     ]
    },
    {
     "name": "stderr",
     "output_type": "stream",
     "text": [
      "/home/fscaccheri/.local/lib/python3.6/site-packages/xgboost/sklearn.py:1146: UserWarning: The use of label encoder in XGBClassifier is deprecated and will be removed in a future release. To remove this warning, do the following: 1) Pass option use_label_encoder=False when constructing XGBClassifier object; and 2) Encode your labels (y) as integers starting with 0, i.e. 0, 1, 2, ..., [num_class - 1].\n",
      "  warnings.warn(label_encoder_deprecation_msg, UserWarning)\n",
      "/home/fscaccheri/.local/lib/python3.6/site-packages/sklearn/utils/validation.py:63: DataConversionWarning: A column-vector y was passed when a 1d array was expected. Please change the shape of y to (n_samples, ), for example using ravel().\n",
      "  return f(*args, **kwargs)\n"
     ]
    },
    {
     "name": "stdout",
     "output_type": "stream",
     "text": [
      "[18:23:19] WARNING: ../src/learner.cc:1095: Starting in XGBoost 1.3.0, the default evaluation metric used with the objective 'multi:softprob' was changed from 'merror' to 'mlogloss'. Explicitly set eval_metric if you'd like to restore the old behavior.\n",
      "[CV 5/5] END colsample_bynode=0.8, learning_rate=0.03, max_depth=15, n_estimators=120, reg_alpha=0.1, reg_lambda=1e-05;, score=0.729 total time=  59.2s\n"
     ]
    },
    {
     "name": "stderr",
     "output_type": "stream",
     "text": [
      "/home/fscaccheri/.local/lib/python3.6/site-packages/xgboost/sklearn.py:1146: UserWarning: The use of label encoder in XGBClassifier is deprecated and will be removed in a future release. To remove this warning, do the following: 1) Pass option use_label_encoder=False when constructing XGBClassifier object; and 2) Encode your labels (y) as integers starting with 0, i.e. 0, 1, 2, ..., [num_class - 1].\n",
      "  warnings.warn(label_encoder_deprecation_msg, UserWarning)\n",
      "/home/fscaccheri/.local/lib/python3.6/site-packages/sklearn/utils/validation.py:63: DataConversionWarning: A column-vector y was passed when a 1d array was expected. Please change the shape of y to (n_samples, ), for example using ravel().\n",
      "  return f(*args, **kwargs)\n"
     ]
    },
    {
     "name": "stdout",
     "output_type": "stream",
     "text": [
      "[18:24:17] WARNING: ../src/learner.cc:1095: Starting in XGBoost 1.3.0, the default evaluation metric used with the objective 'multi:softprob' was changed from 'merror' to 'mlogloss'. Explicitly set eval_metric if you'd like to restore the old behavior.\n",
      "[CV 1/5] END colsample_bynode=0.8, learning_rate=0.03, max_depth=15, n_estimators=120, reg_alpha=0.1, reg_lambda=3e-05;, score=0.726 total time=  57.8s\n"
     ]
    },
    {
     "name": "stderr",
     "output_type": "stream",
     "text": [
      "/home/fscaccheri/.local/lib/python3.6/site-packages/xgboost/sklearn.py:1146: UserWarning: The use of label encoder in XGBClassifier is deprecated and will be removed in a future release. To remove this warning, do the following: 1) Pass option use_label_encoder=False when constructing XGBClassifier object; and 2) Encode your labels (y) as integers starting with 0, i.e. 0, 1, 2, ..., [num_class - 1].\n",
      "  warnings.warn(label_encoder_deprecation_msg, UserWarning)\n",
      "/home/fscaccheri/.local/lib/python3.6/site-packages/sklearn/utils/validation.py:63: DataConversionWarning: A column-vector y was passed when a 1d array was expected. Please change the shape of y to (n_samples, ), for example using ravel().\n",
      "  return f(*args, **kwargs)\n"
     ]
    },
    {
     "name": "stdout",
     "output_type": "stream",
     "text": [
      "[18:25:17] WARNING: ../src/learner.cc:1095: Starting in XGBoost 1.3.0, the default evaluation metric used with the objective 'multi:softprob' was changed from 'merror' to 'mlogloss'. Explicitly set eval_metric if you'd like to restore the old behavior.\n",
      "[CV 2/5] END colsample_bynode=0.8, learning_rate=0.03, max_depth=15, n_estimators=120, reg_alpha=0.1, reg_lambda=3e-05;, score=0.726 total time=  59.6s\n"
     ]
    },
    {
     "name": "stderr",
     "output_type": "stream",
     "text": [
      "/home/fscaccheri/.local/lib/python3.6/site-packages/xgboost/sklearn.py:1146: UserWarning: The use of label encoder in XGBClassifier is deprecated and will be removed in a future release. To remove this warning, do the following: 1) Pass option use_label_encoder=False when constructing XGBClassifier object; and 2) Encode your labels (y) as integers starting with 0, i.e. 0, 1, 2, ..., [num_class - 1].\n",
      "  warnings.warn(label_encoder_deprecation_msg, UserWarning)\n",
      "/home/fscaccheri/.local/lib/python3.6/site-packages/sklearn/utils/validation.py:63: DataConversionWarning: A column-vector y was passed when a 1d array was expected. Please change the shape of y to (n_samples, ), for example using ravel().\n",
      "  return f(*args, **kwargs)\n"
     ]
    },
    {
     "name": "stdout",
     "output_type": "stream",
     "text": [
      "[18:26:13] WARNING: ../src/learner.cc:1095: Starting in XGBoost 1.3.0, the default evaluation metric used with the objective 'multi:softprob' was changed from 'merror' to 'mlogloss'. Explicitly set eval_metric if you'd like to restore the old behavior.\n",
      "[CV 3/5] END colsample_bynode=0.8, learning_rate=0.03, max_depth=15, n_estimators=120, reg_alpha=0.1, reg_lambda=3e-05;, score=0.732 total time=  55.8s\n"
     ]
    },
    {
     "name": "stderr",
     "output_type": "stream",
     "text": [
      "/home/fscaccheri/.local/lib/python3.6/site-packages/xgboost/sklearn.py:1146: UserWarning: The use of label encoder in XGBClassifier is deprecated and will be removed in a future release. To remove this warning, do the following: 1) Pass option use_label_encoder=False when constructing XGBClassifier object; and 2) Encode your labels (y) as integers starting with 0, i.e. 0, 1, 2, ..., [num_class - 1].\n",
      "  warnings.warn(label_encoder_deprecation_msg, UserWarning)\n",
      "/home/fscaccheri/.local/lib/python3.6/site-packages/sklearn/utils/validation.py:63: DataConversionWarning: A column-vector y was passed when a 1d array was expected. Please change the shape of y to (n_samples, ), for example using ravel().\n",
      "  return f(*args, **kwargs)\n"
     ]
    },
    {
     "name": "stdout",
     "output_type": "stream",
     "text": [
      "[18:27:14] WARNING: ../src/learner.cc:1095: Starting in XGBoost 1.3.0, the default evaluation metric used with the objective 'multi:softprob' was changed from 'merror' to 'mlogloss'. Explicitly set eval_metric if you'd like to restore the old behavior.\n",
      "[CV 4/5] END colsample_bynode=0.8, learning_rate=0.03, max_depth=15, n_estimators=120, reg_alpha=0.1, reg_lambda=3e-05;, score=0.730 total time= 1.0min\n"
     ]
    },
    {
     "name": "stderr",
     "output_type": "stream",
     "text": [
      "/home/fscaccheri/.local/lib/python3.6/site-packages/xgboost/sklearn.py:1146: UserWarning: The use of label encoder in XGBClassifier is deprecated and will be removed in a future release. To remove this warning, do the following: 1) Pass option use_label_encoder=False when constructing XGBClassifier object; and 2) Encode your labels (y) as integers starting with 0, i.e. 0, 1, 2, ..., [num_class - 1].\n",
      "  warnings.warn(label_encoder_deprecation_msg, UserWarning)\n",
      "/home/fscaccheri/.local/lib/python3.6/site-packages/sklearn/utils/validation.py:63: DataConversionWarning: A column-vector y was passed when a 1d array was expected. Please change the shape of y to (n_samples, ), for example using ravel().\n",
      "  return f(*args, **kwargs)\n"
     ]
    },
    {
     "name": "stdout",
     "output_type": "stream",
     "text": [
      "[18:28:14] WARNING: ../src/learner.cc:1095: Starting in XGBoost 1.3.0, the default evaluation metric used with the objective 'multi:softprob' was changed from 'merror' to 'mlogloss'. Explicitly set eval_metric if you'd like to restore the old behavior.\n",
      "[CV 5/5] END colsample_bynode=0.8, learning_rate=0.03, max_depth=15, n_estimators=120, reg_alpha=0.1, reg_lambda=3e-05;, score=0.729 total time= 1.0min\n"
     ]
    },
    {
     "name": "stderr",
     "output_type": "stream",
     "text": [
      "/home/fscaccheri/.local/lib/python3.6/site-packages/xgboost/sklearn.py:1146: UserWarning: The use of label encoder in XGBClassifier is deprecated and will be removed in a future release. To remove this warning, do the following: 1) Pass option use_label_encoder=False when constructing XGBClassifier object; and 2) Encode your labels (y) as integers starting with 0, i.e. 0, 1, 2, ..., [num_class - 1].\n",
      "  warnings.warn(label_encoder_deprecation_msg, UserWarning)\n",
      "/home/fscaccheri/.local/lib/python3.6/site-packages/sklearn/utils/validation.py:63: DataConversionWarning: A column-vector y was passed when a 1d array was expected. Please change the shape of y to (n_samples, ), for example using ravel().\n",
      "  return f(*args, **kwargs)\n"
     ]
    },
    {
     "name": "stdout",
     "output_type": "stream",
     "text": [
      "[18:29:12] WARNING: ../src/learner.cc:1095: Starting in XGBoost 1.3.0, the default evaluation metric used with the objective 'multi:softprob' was changed from 'merror' to 'mlogloss'. Explicitly set eval_metric if you'd like to restore the old behavior.\n",
      "[CV 1/5] END colsample_bynode=0.8, learning_rate=0.03, max_depth=15, n_estimators=120, reg_alpha=0.5, reg_lambda=1e-05;, score=0.726 total time=  56.4s\n"
     ]
    },
    {
     "name": "stderr",
     "output_type": "stream",
     "text": [
      "/home/fscaccheri/.local/lib/python3.6/site-packages/xgboost/sklearn.py:1146: UserWarning: The use of label encoder in XGBClassifier is deprecated and will be removed in a future release. To remove this warning, do the following: 1) Pass option use_label_encoder=False when constructing XGBClassifier object; and 2) Encode your labels (y) as integers starting with 0, i.e. 0, 1, 2, ..., [num_class - 1].\n",
      "  warnings.warn(label_encoder_deprecation_msg, UserWarning)\n",
      "/home/fscaccheri/.local/lib/python3.6/site-packages/sklearn/utils/validation.py:63: DataConversionWarning: A column-vector y was passed when a 1d array was expected. Please change the shape of y to (n_samples, ), for example using ravel().\n",
      "  return f(*args, **kwargs)\n"
     ]
    },
    {
     "name": "stdout",
     "output_type": "stream",
     "text": [
      "[18:30:07] WARNING: ../src/learner.cc:1095: Starting in XGBoost 1.3.0, the default evaluation metric used with the objective 'multi:softprob' was changed from 'merror' to 'mlogloss'. Explicitly set eval_metric if you'd like to restore the old behavior.\n",
      "[CV 2/5] END colsample_bynode=0.8, learning_rate=0.03, max_depth=15, n_estimators=120, reg_alpha=0.5, reg_lambda=1e-05;, score=0.726 total time=  55.5s\n"
     ]
    },
    {
     "name": "stderr",
     "output_type": "stream",
     "text": [
      "/home/fscaccheri/.local/lib/python3.6/site-packages/xgboost/sklearn.py:1146: UserWarning: The use of label encoder in XGBClassifier is deprecated and will be removed in a future release. To remove this warning, do the following: 1) Pass option use_label_encoder=False when constructing XGBClassifier object; and 2) Encode your labels (y) as integers starting with 0, i.e. 0, 1, 2, ..., [num_class - 1].\n",
      "  warnings.warn(label_encoder_deprecation_msg, UserWarning)\n",
      "/home/fscaccheri/.local/lib/python3.6/site-packages/sklearn/utils/validation.py:63: DataConversionWarning: A column-vector y was passed when a 1d array was expected. Please change the shape of y to (n_samples, ), for example using ravel().\n",
      "  return f(*args, **kwargs)\n"
     ]
    },
    {
     "name": "stdout",
     "output_type": "stream",
     "text": [
      "[18:31:07] WARNING: ../src/learner.cc:1095: Starting in XGBoost 1.3.0, the default evaluation metric used with the objective 'multi:softprob' was changed from 'merror' to 'mlogloss'. Explicitly set eval_metric if you'd like to restore the old behavior.\n",
      "[CV 3/5] END colsample_bynode=0.8, learning_rate=0.03, max_depth=15, n_estimators=120, reg_alpha=0.5, reg_lambda=1e-05;, score=0.732 total time=  59.8s\n"
     ]
    },
    {
     "name": "stderr",
     "output_type": "stream",
     "text": [
      "/home/fscaccheri/.local/lib/python3.6/site-packages/xgboost/sklearn.py:1146: UserWarning: The use of label encoder in XGBClassifier is deprecated and will be removed in a future release. To remove this warning, do the following: 1) Pass option use_label_encoder=False when constructing XGBClassifier object; and 2) Encode your labels (y) as integers starting with 0, i.e. 0, 1, 2, ..., [num_class - 1].\n",
      "  warnings.warn(label_encoder_deprecation_msg, UserWarning)\n",
      "/home/fscaccheri/.local/lib/python3.6/site-packages/sklearn/utils/validation.py:63: DataConversionWarning: A column-vector y was passed when a 1d array was expected. Please change the shape of y to (n_samples, ), for example using ravel().\n",
      "  return f(*args, **kwargs)\n"
     ]
    },
    {
     "name": "stdout",
     "output_type": "stream",
     "text": [
      "[18:32:02] WARNING: ../src/learner.cc:1095: Starting in XGBoost 1.3.0, the default evaluation metric used with the objective 'multi:softprob' was changed from 'merror' to 'mlogloss'. Explicitly set eval_metric if you'd like to restore the old behavior.\n",
      "[CV 4/5] END colsample_bynode=0.8, learning_rate=0.03, max_depth=15, n_estimators=120, reg_alpha=0.5, reg_lambda=1e-05;, score=0.730 total time=  55.2s\n"
     ]
    },
    {
     "name": "stderr",
     "output_type": "stream",
     "text": [
      "/home/fscaccheri/.local/lib/python3.6/site-packages/xgboost/sklearn.py:1146: UserWarning: The use of label encoder in XGBClassifier is deprecated and will be removed in a future release. To remove this warning, do the following: 1) Pass option use_label_encoder=False when constructing XGBClassifier object; and 2) Encode your labels (y) as integers starting with 0, i.e. 0, 1, 2, ..., [num_class - 1].\n",
      "  warnings.warn(label_encoder_deprecation_msg, UserWarning)\n",
      "/home/fscaccheri/.local/lib/python3.6/site-packages/sklearn/utils/validation.py:63: DataConversionWarning: A column-vector y was passed when a 1d array was expected. Please change the shape of y to (n_samples, ), for example using ravel().\n",
      "  return f(*args, **kwargs)\n"
     ]
    },
    {
     "name": "stdout",
     "output_type": "stream",
     "text": [
      "[18:32:57] WARNING: ../src/learner.cc:1095: Starting in XGBoost 1.3.0, the default evaluation metric used with the objective 'multi:softprob' was changed from 'merror' to 'mlogloss'. Explicitly set eval_metric if you'd like to restore the old behavior.\n",
      "[CV 5/5] END colsample_bynode=0.8, learning_rate=0.03, max_depth=15, n_estimators=120, reg_alpha=0.5, reg_lambda=1e-05;, score=0.729 total time=  54.5s\n"
     ]
    },
    {
     "name": "stderr",
     "output_type": "stream",
     "text": [
      "/home/fscaccheri/.local/lib/python3.6/site-packages/xgboost/sklearn.py:1146: UserWarning: The use of label encoder in XGBClassifier is deprecated and will be removed in a future release. To remove this warning, do the following: 1) Pass option use_label_encoder=False when constructing XGBClassifier object; and 2) Encode your labels (y) as integers starting with 0, i.e. 0, 1, 2, ..., [num_class - 1].\n",
      "  warnings.warn(label_encoder_deprecation_msg, UserWarning)\n",
      "/home/fscaccheri/.local/lib/python3.6/site-packages/sklearn/utils/validation.py:63: DataConversionWarning: A column-vector y was passed when a 1d array was expected. Please change the shape of y to (n_samples, ), for example using ravel().\n",
      "  return f(*args, **kwargs)\n"
     ]
    },
    {
     "name": "stdout",
     "output_type": "stream",
     "text": [
      "[18:33:55] WARNING: ../src/learner.cc:1095: Starting in XGBoost 1.3.0, the default evaluation metric used with the objective 'multi:softprob' was changed from 'merror' to 'mlogloss'. Explicitly set eval_metric if you'd like to restore the old behavior.\n",
      "[CV 1/5] END colsample_bynode=0.8, learning_rate=0.03, max_depth=15, n_estimators=120, reg_alpha=0.5, reg_lambda=3e-05;, score=0.726 total time=  58.7s\n"
     ]
    },
    {
     "name": "stderr",
     "output_type": "stream",
     "text": [
      "/home/fscaccheri/.local/lib/python3.6/site-packages/xgboost/sklearn.py:1146: UserWarning: The use of label encoder in XGBClassifier is deprecated and will be removed in a future release. To remove this warning, do the following: 1) Pass option use_label_encoder=False when constructing XGBClassifier object; and 2) Encode your labels (y) as integers starting with 0, i.e. 0, 1, 2, ..., [num_class - 1].\n",
      "  warnings.warn(label_encoder_deprecation_msg, UserWarning)\n",
      "/home/fscaccheri/.local/lib/python3.6/site-packages/sklearn/utils/validation.py:63: DataConversionWarning: A column-vector y was passed when a 1d array was expected. Please change the shape of y to (n_samples, ), for example using ravel().\n",
      "  return f(*args, **kwargs)\n"
     ]
    },
    {
     "name": "stdout",
     "output_type": "stream",
     "text": [
      "[18:34:49] WARNING: ../src/learner.cc:1095: Starting in XGBoost 1.3.0, the default evaluation metric used with the objective 'multi:softprob' was changed from 'merror' to 'mlogloss'. Explicitly set eval_metric if you'd like to restore the old behavior.\n",
      "[CV 2/5] END colsample_bynode=0.8, learning_rate=0.03, max_depth=15, n_estimators=120, reg_alpha=0.5, reg_lambda=3e-05;, score=0.726 total time=  54.1s\n"
     ]
    },
    {
     "name": "stderr",
     "output_type": "stream",
     "text": [
      "/home/fscaccheri/.local/lib/python3.6/site-packages/xgboost/sklearn.py:1146: UserWarning: The use of label encoder in XGBClassifier is deprecated and will be removed in a future release. To remove this warning, do the following: 1) Pass option use_label_encoder=False when constructing XGBClassifier object; and 2) Encode your labels (y) as integers starting with 0, i.e. 0, 1, 2, ..., [num_class - 1].\n",
      "  warnings.warn(label_encoder_deprecation_msg, UserWarning)\n",
      "/home/fscaccheri/.local/lib/python3.6/site-packages/sklearn/utils/validation.py:63: DataConversionWarning: A column-vector y was passed when a 1d array was expected. Please change the shape of y to (n_samples, ), for example using ravel().\n",
      "  return f(*args, **kwargs)\n"
     ]
    },
    {
     "name": "stdout",
     "output_type": "stream",
     "text": [
      "[18:35:44] WARNING: ../src/learner.cc:1095: Starting in XGBoost 1.3.0, the default evaluation metric used with the objective 'multi:softprob' was changed from 'merror' to 'mlogloss'. Explicitly set eval_metric if you'd like to restore the old behavior.\n",
      "[CV 3/5] END colsample_bynode=0.8, learning_rate=0.03, max_depth=15, n_estimators=120, reg_alpha=0.5, reg_lambda=3e-05;, score=0.732 total time=  54.4s\n"
     ]
    },
    {
     "name": "stderr",
     "output_type": "stream",
     "text": [
      "/home/fscaccheri/.local/lib/python3.6/site-packages/xgboost/sklearn.py:1146: UserWarning: The use of label encoder in XGBClassifier is deprecated and will be removed in a future release. To remove this warning, do the following: 1) Pass option use_label_encoder=False when constructing XGBClassifier object; and 2) Encode your labels (y) as integers starting with 0, i.e. 0, 1, 2, ..., [num_class - 1].\n",
      "  warnings.warn(label_encoder_deprecation_msg, UserWarning)\n",
      "/home/fscaccheri/.local/lib/python3.6/site-packages/sklearn/utils/validation.py:63: DataConversionWarning: A column-vector y was passed when a 1d array was expected. Please change the shape of y to (n_samples, ), for example using ravel().\n",
      "  return f(*args, **kwargs)\n"
     ]
    },
    {
     "name": "stdout",
     "output_type": "stream",
     "text": [
      "[18:36:41] WARNING: ../src/learner.cc:1095: Starting in XGBoost 1.3.0, the default evaluation metric used with the objective 'multi:softprob' was changed from 'merror' to 'mlogloss'. Explicitly set eval_metric if you'd like to restore the old behavior.\n",
      "[CV 4/5] END colsample_bynode=0.8, learning_rate=0.03, max_depth=15, n_estimators=120, reg_alpha=0.5, reg_lambda=3e-05;, score=0.730 total time=  56.9s\n"
     ]
    },
    {
     "name": "stderr",
     "output_type": "stream",
     "text": [
      "/home/fscaccheri/.local/lib/python3.6/site-packages/xgboost/sklearn.py:1146: UserWarning: The use of label encoder in XGBClassifier is deprecated and will be removed in a future release. To remove this warning, do the following: 1) Pass option use_label_encoder=False when constructing XGBClassifier object; and 2) Encode your labels (y) as integers starting with 0, i.e. 0, 1, 2, ..., [num_class - 1].\n",
      "  warnings.warn(label_encoder_deprecation_msg, UserWarning)\n",
      "/home/fscaccheri/.local/lib/python3.6/site-packages/sklearn/utils/validation.py:63: DataConversionWarning: A column-vector y was passed when a 1d array was expected. Please change the shape of y to (n_samples, ), for example using ravel().\n",
      "  return f(*args, **kwargs)\n"
     ]
    },
    {
     "name": "stdout",
     "output_type": "stream",
     "text": [
      "[18:37:35] WARNING: ../src/learner.cc:1095: Starting in XGBoost 1.3.0, the default evaluation metric used with the objective 'multi:softprob' was changed from 'merror' to 'mlogloss'. Explicitly set eval_metric if you'd like to restore the old behavior.\n",
      "[CV 5/5] END colsample_bynode=0.8, learning_rate=0.03, max_depth=15, n_estimators=120, reg_alpha=0.5, reg_lambda=3e-05;, score=0.729 total time=  54.6s\n"
     ]
    },
    {
     "name": "stderr",
     "output_type": "stream",
     "text": [
      "/home/fscaccheri/.local/lib/python3.6/site-packages/xgboost/sklearn.py:1146: UserWarning: The use of label encoder in XGBClassifier is deprecated and will be removed in a future release. To remove this warning, do the following: 1) Pass option use_label_encoder=False when constructing XGBClassifier object; and 2) Encode your labels (y) as integers starting with 0, i.e. 0, 1, 2, ..., [num_class - 1].\n",
      "  warnings.warn(label_encoder_deprecation_msg, UserWarning)\n",
      "/home/fscaccheri/.local/lib/python3.6/site-packages/sklearn/utils/validation.py:63: DataConversionWarning: A column-vector y was passed when a 1d array was expected. Please change the shape of y to (n_samples, ), for example using ravel().\n",
      "  return f(*args, **kwargs)\n"
     ]
    },
    {
     "name": "stdout",
     "output_type": "stream",
     "text": [
      "[18:38:06] WARNING: ../src/learner.cc:1095: Starting in XGBoost 1.3.0, the default evaluation metric used with the objective 'multi:softprob' was changed from 'merror' to 'mlogloss'. Explicitly set eval_metric if you'd like to restore the old behavior.\n",
      "[CV 1/5] END colsample_bynode=0.8, learning_rate=0.1, max_depth=10, n_estimators=100, reg_alpha=0.1, reg_lambda=1e-05;, score=0.693 total time=  26.3s\n"
     ]
    },
    {
     "name": "stderr",
     "output_type": "stream",
     "text": [
      "/home/fscaccheri/.local/lib/python3.6/site-packages/xgboost/sklearn.py:1146: UserWarning: The use of label encoder in XGBClassifier is deprecated and will be removed in a future release. To remove this warning, do the following: 1) Pass option use_label_encoder=False when constructing XGBClassifier object; and 2) Encode your labels (y) as integers starting with 0, i.e. 0, 1, 2, ..., [num_class - 1].\n",
      "  warnings.warn(label_encoder_deprecation_msg, UserWarning)\n",
      "/home/fscaccheri/.local/lib/python3.6/site-packages/sklearn/utils/validation.py:63: DataConversionWarning: A column-vector y was passed when a 1d array was expected. Please change the shape of y to (n_samples, ), for example using ravel().\n",
      "  return f(*args, **kwargs)\n"
     ]
    },
    {
     "name": "stdout",
     "output_type": "stream",
     "text": [
      "[18:38:31] WARNING: ../src/learner.cc:1095: Starting in XGBoost 1.3.0, the default evaluation metric used with the objective 'multi:softprob' was changed from 'merror' to 'mlogloss'. Explicitly set eval_metric if you'd like to restore the old behavior.\n",
      "[CV 2/5] END colsample_bynode=0.8, learning_rate=0.1, max_depth=10, n_estimators=100, reg_alpha=0.1, reg_lambda=1e-05;, score=0.691 total time=  25.5s\n"
     ]
    },
    {
     "name": "stderr",
     "output_type": "stream",
     "text": [
      "/home/fscaccheri/.local/lib/python3.6/site-packages/xgboost/sklearn.py:1146: UserWarning: The use of label encoder in XGBClassifier is deprecated and will be removed in a future release. To remove this warning, do the following: 1) Pass option use_label_encoder=False when constructing XGBClassifier object; and 2) Encode your labels (y) as integers starting with 0, i.e. 0, 1, 2, ..., [num_class - 1].\n",
      "  warnings.warn(label_encoder_deprecation_msg, UserWarning)\n",
      "/home/fscaccheri/.local/lib/python3.6/site-packages/sklearn/utils/validation.py:63: DataConversionWarning: A column-vector y was passed when a 1d array was expected. Please change the shape of y to (n_samples, ), for example using ravel().\n",
      "  return f(*args, **kwargs)\n"
     ]
    },
    {
     "name": "stdout",
     "output_type": "stream",
     "text": [
      "[18:38:58] WARNING: ../src/learner.cc:1095: Starting in XGBoost 1.3.0, the default evaluation metric used with the objective 'multi:softprob' was changed from 'merror' to 'mlogloss'. Explicitly set eval_metric if you'd like to restore the old behavior.\n",
      "[CV 3/5] END colsample_bynode=0.8, learning_rate=0.1, max_depth=10, n_estimators=100, reg_alpha=0.1, reg_lambda=1e-05;, score=0.698 total time=  26.4s\n"
     ]
    },
    {
     "name": "stderr",
     "output_type": "stream",
     "text": [
      "/home/fscaccheri/.local/lib/python3.6/site-packages/xgboost/sklearn.py:1146: UserWarning: The use of label encoder in XGBClassifier is deprecated and will be removed in a future release. To remove this warning, do the following: 1) Pass option use_label_encoder=False when constructing XGBClassifier object; and 2) Encode your labels (y) as integers starting with 0, i.e. 0, 1, 2, ..., [num_class - 1].\n",
      "  warnings.warn(label_encoder_deprecation_msg, UserWarning)\n",
      "/home/fscaccheri/.local/lib/python3.6/site-packages/sklearn/utils/validation.py:63: DataConversionWarning: A column-vector y was passed when a 1d array was expected. Please change the shape of y to (n_samples, ), for example using ravel().\n",
      "  return f(*args, **kwargs)\n"
     ]
    },
    {
     "name": "stdout",
     "output_type": "stream",
     "text": [
      "[18:39:23] WARNING: ../src/learner.cc:1095: Starting in XGBoost 1.3.0, the default evaluation metric used with the objective 'multi:softprob' was changed from 'merror' to 'mlogloss'. Explicitly set eval_metric if you'd like to restore the old behavior.\n",
      "[CV 4/5] END colsample_bynode=0.8, learning_rate=0.1, max_depth=10, n_estimators=100, reg_alpha=0.1, reg_lambda=1e-05;, score=0.695 total time=  25.8s\n"
     ]
    },
    {
     "name": "stderr",
     "output_type": "stream",
     "text": [
      "/home/fscaccheri/.local/lib/python3.6/site-packages/xgboost/sklearn.py:1146: UserWarning: The use of label encoder in XGBClassifier is deprecated and will be removed in a future release. To remove this warning, do the following: 1) Pass option use_label_encoder=False when constructing XGBClassifier object; and 2) Encode your labels (y) as integers starting with 0, i.e. 0, 1, 2, ..., [num_class - 1].\n",
      "  warnings.warn(label_encoder_deprecation_msg, UserWarning)\n",
      "/home/fscaccheri/.local/lib/python3.6/site-packages/sklearn/utils/validation.py:63: DataConversionWarning: A column-vector y was passed when a 1d array was expected. Please change the shape of y to (n_samples, ), for example using ravel().\n",
      "  return f(*args, **kwargs)\n"
     ]
    },
    {
     "name": "stdout",
     "output_type": "stream",
     "text": [
      "[18:39:49] WARNING: ../src/learner.cc:1095: Starting in XGBoost 1.3.0, the default evaluation metric used with the objective 'multi:softprob' was changed from 'merror' to 'mlogloss'. Explicitly set eval_metric if you'd like to restore the old behavior.\n",
      "[CV 5/5] END colsample_bynode=0.8, learning_rate=0.1, max_depth=10, n_estimators=100, reg_alpha=0.1, reg_lambda=1e-05;, score=0.695 total time=  25.7s\n"
     ]
    },
    {
     "name": "stderr",
     "output_type": "stream",
     "text": [
      "/home/fscaccheri/.local/lib/python3.6/site-packages/xgboost/sklearn.py:1146: UserWarning: The use of label encoder in XGBClassifier is deprecated and will be removed in a future release. To remove this warning, do the following: 1) Pass option use_label_encoder=False when constructing XGBClassifier object; and 2) Encode your labels (y) as integers starting with 0, i.e. 0, 1, 2, ..., [num_class - 1].\n",
      "  warnings.warn(label_encoder_deprecation_msg, UserWarning)\n",
      "/home/fscaccheri/.local/lib/python3.6/site-packages/sklearn/utils/validation.py:63: DataConversionWarning: A column-vector y was passed when a 1d array was expected. Please change the shape of y to (n_samples, ), for example using ravel().\n",
      "  return f(*args, **kwargs)\n"
     ]
    },
    {
     "name": "stdout",
     "output_type": "stream",
     "text": [
      "[18:40:15] WARNING: ../src/learner.cc:1095: Starting in XGBoost 1.3.0, the default evaluation metric used with the objective 'multi:softprob' was changed from 'merror' to 'mlogloss'. Explicitly set eval_metric if you'd like to restore the old behavior.\n",
      "[CV 1/5] END colsample_bynode=0.8, learning_rate=0.1, max_depth=10, n_estimators=100, reg_alpha=0.1, reg_lambda=3e-05;, score=0.693 total time=  25.8s\n"
     ]
    },
    {
     "name": "stderr",
     "output_type": "stream",
     "text": [
      "/home/fscaccheri/.local/lib/python3.6/site-packages/xgboost/sklearn.py:1146: UserWarning: The use of label encoder in XGBClassifier is deprecated and will be removed in a future release. To remove this warning, do the following: 1) Pass option use_label_encoder=False when constructing XGBClassifier object; and 2) Encode your labels (y) as integers starting with 0, i.e. 0, 1, 2, ..., [num_class - 1].\n",
      "  warnings.warn(label_encoder_deprecation_msg, UserWarning)\n",
      "/home/fscaccheri/.local/lib/python3.6/site-packages/sklearn/utils/validation.py:63: DataConversionWarning: A column-vector y was passed when a 1d array was expected. Please change the shape of y to (n_samples, ), for example using ravel().\n",
      "  return f(*args, **kwargs)\n"
     ]
    },
    {
     "name": "stdout",
     "output_type": "stream",
     "text": [
      "[18:40:40] WARNING: ../src/learner.cc:1095: Starting in XGBoost 1.3.0, the default evaluation metric used with the objective 'multi:softprob' was changed from 'merror' to 'mlogloss'. Explicitly set eval_metric if you'd like to restore the old behavior.\n",
      "[CV 2/5] END colsample_bynode=0.8, learning_rate=0.1, max_depth=10, n_estimators=100, reg_alpha=0.1, reg_lambda=3e-05;, score=0.691 total time=  25.5s\n"
     ]
    },
    {
     "name": "stderr",
     "output_type": "stream",
     "text": [
      "/home/fscaccheri/.local/lib/python3.6/site-packages/xgboost/sklearn.py:1146: UserWarning: The use of label encoder in XGBClassifier is deprecated and will be removed in a future release. To remove this warning, do the following: 1) Pass option use_label_encoder=False when constructing XGBClassifier object; and 2) Encode your labels (y) as integers starting with 0, i.e. 0, 1, 2, ..., [num_class - 1].\n",
      "  warnings.warn(label_encoder_deprecation_msg, UserWarning)\n",
      "/home/fscaccheri/.local/lib/python3.6/site-packages/sklearn/utils/validation.py:63: DataConversionWarning: A column-vector y was passed when a 1d array was expected. Please change the shape of y to (n_samples, ), for example using ravel().\n",
      "  return f(*args, **kwargs)\n"
     ]
    },
    {
     "name": "stdout",
     "output_type": "stream",
     "text": [
      "[18:41:07] WARNING: ../src/learner.cc:1095: Starting in XGBoost 1.3.0, the default evaluation metric used with the objective 'multi:softprob' was changed from 'merror' to 'mlogloss'. Explicitly set eval_metric if you'd like to restore the old behavior.\n",
      "[CV 3/5] END colsample_bynode=0.8, learning_rate=0.1, max_depth=10, n_estimators=100, reg_alpha=0.1, reg_lambda=3e-05;, score=0.698 total time=  26.4s\n"
     ]
    },
    {
     "name": "stderr",
     "output_type": "stream",
     "text": [
      "/home/fscaccheri/.local/lib/python3.6/site-packages/xgboost/sklearn.py:1146: UserWarning: The use of label encoder in XGBClassifier is deprecated and will be removed in a future release. To remove this warning, do the following: 1) Pass option use_label_encoder=False when constructing XGBClassifier object; and 2) Encode your labels (y) as integers starting with 0, i.e. 0, 1, 2, ..., [num_class - 1].\n",
      "  warnings.warn(label_encoder_deprecation_msg, UserWarning)\n",
      "/home/fscaccheri/.local/lib/python3.6/site-packages/sklearn/utils/validation.py:63: DataConversionWarning: A column-vector y was passed when a 1d array was expected. Please change the shape of y to (n_samples, ), for example using ravel().\n",
      "  return f(*args, **kwargs)\n"
     ]
    },
    {
     "name": "stdout",
     "output_type": "stream",
     "text": [
      "[18:41:33] WARNING: ../src/learner.cc:1095: Starting in XGBoost 1.3.0, the default evaluation metric used with the objective 'multi:softprob' was changed from 'merror' to 'mlogloss'. Explicitly set eval_metric if you'd like to restore the old behavior.\n",
      "[CV 4/5] END colsample_bynode=0.8, learning_rate=0.1, max_depth=10, n_estimators=100, reg_alpha=0.1, reg_lambda=3e-05;, score=0.695 total time=  26.1s\n"
     ]
    },
    {
     "name": "stderr",
     "output_type": "stream",
     "text": [
      "/home/fscaccheri/.local/lib/python3.6/site-packages/xgboost/sklearn.py:1146: UserWarning: The use of label encoder in XGBClassifier is deprecated and will be removed in a future release. To remove this warning, do the following: 1) Pass option use_label_encoder=False when constructing XGBClassifier object; and 2) Encode your labels (y) as integers starting with 0, i.e. 0, 1, 2, ..., [num_class - 1].\n",
      "  warnings.warn(label_encoder_deprecation_msg, UserWarning)\n",
      "/home/fscaccheri/.local/lib/python3.6/site-packages/sklearn/utils/validation.py:63: DataConversionWarning: A column-vector y was passed when a 1d array was expected. Please change the shape of y to (n_samples, ), for example using ravel().\n",
      "  return f(*args, **kwargs)\n"
     ]
    },
    {
     "name": "stdout",
     "output_type": "stream",
     "text": [
      "[18:41:58] WARNING: ../src/learner.cc:1095: Starting in XGBoost 1.3.0, the default evaluation metric used with the objective 'multi:softprob' was changed from 'merror' to 'mlogloss'. Explicitly set eval_metric if you'd like to restore the old behavior.\n",
      "[CV 5/5] END colsample_bynode=0.8, learning_rate=0.1, max_depth=10, n_estimators=100, reg_alpha=0.1, reg_lambda=3e-05;, score=0.695 total time=  25.6s\n"
     ]
    },
    {
     "name": "stderr",
     "output_type": "stream",
     "text": [
      "/home/fscaccheri/.local/lib/python3.6/site-packages/xgboost/sklearn.py:1146: UserWarning: The use of label encoder in XGBClassifier is deprecated and will be removed in a future release. To remove this warning, do the following: 1) Pass option use_label_encoder=False when constructing XGBClassifier object; and 2) Encode your labels (y) as integers starting with 0, i.e. 0, 1, 2, ..., [num_class - 1].\n",
      "  warnings.warn(label_encoder_deprecation_msg, UserWarning)\n",
      "/home/fscaccheri/.local/lib/python3.6/site-packages/sklearn/utils/validation.py:63: DataConversionWarning: A column-vector y was passed when a 1d array was expected. Please change the shape of y to (n_samples, ), for example using ravel().\n",
      "  return f(*args, **kwargs)\n"
     ]
    },
    {
     "name": "stdout",
     "output_type": "stream",
     "text": [
      "[18:42:25] WARNING: ../src/learner.cc:1095: Starting in XGBoost 1.3.0, the default evaluation metric used with the objective 'multi:softprob' was changed from 'merror' to 'mlogloss'. Explicitly set eval_metric if you'd like to restore the old behavior.\n",
      "[CV 1/5] END colsample_bynode=0.8, learning_rate=0.1, max_depth=10, n_estimators=100, reg_alpha=0.5, reg_lambda=1e-05;, score=0.693 total time=  27.0s\n"
     ]
    },
    {
     "name": "stderr",
     "output_type": "stream",
     "text": [
      "/home/fscaccheri/.local/lib/python3.6/site-packages/xgboost/sklearn.py:1146: UserWarning: The use of label encoder in XGBClassifier is deprecated and will be removed in a future release. To remove this warning, do the following: 1) Pass option use_label_encoder=False when constructing XGBClassifier object; and 2) Encode your labels (y) as integers starting with 0, i.e. 0, 1, 2, ..., [num_class - 1].\n",
      "  warnings.warn(label_encoder_deprecation_msg, UserWarning)\n",
      "/home/fscaccheri/.local/lib/python3.6/site-packages/sklearn/utils/validation.py:63: DataConversionWarning: A column-vector y was passed when a 1d array was expected. Please change the shape of y to (n_samples, ), for example using ravel().\n",
      "  return f(*args, **kwargs)\n"
     ]
    },
    {
     "name": "stdout",
     "output_type": "stream",
     "text": [
      "[18:42:51] WARNING: ../src/learner.cc:1095: Starting in XGBoost 1.3.0, the default evaluation metric used with the objective 'multi:softprob' was changed from 'merror' to 'mlogloss'. Explicitly set eval_metric if you'd like to restore the old behavior.\n",
      "[CV 2/5] END colsample_bynode=0.8, learning_rate=0.1, max_depth=10, n_estimators=100, reg_alpha=0.5, reg_lambda=1e-05;, score=0.691 total time=  25.8s\n"
     ]
    },
    {
     "name": "stderr",
     "output_type": "stream",
     "text": [
      "/home/fscaccheri/.local/lib/python3.6/site-packages/xgboost/sklearn.py:1146: UserWarning: The use of label encoder in XGBClassifier is deprecated and will be removed in a future release. To remove this warning, do the following: 1) Pass option use_label_encoder=False when constructing XGBClassifier object; and 2) Encode your labels (y) as integers starting with 0, i.e. 0, 1, 2, ..., [num_class - 1].\n",
      "  warnings.warn(label_encoder_deprecation_msg, UserWarning)\n",
      "/home/fscaccheri/.local/lib/python3.6/site-packages/sklearn/utils/validation.py:63: DataConversionWarning: A column-vector y was passed when a 1d array was expected. Please change the shape of y to (n_samples, ), for example using ravel().\n",
      "  return f(*args, **kwargs)\n"
     ]
    },
    {
     "name": "stdout",
     "output_type": "stream",
     "text": [
      "[18:43:19] WARNING: ../src/learner.cc:1095: Starting in XGBoost 1.3.0, the default evaluation metric used with the objective 'multi:softprob' was changed from 'merror' to 'mlogloss'. Explicitly set eval_metric if you'd like to restore the old behavior.\n",
      "[CV 3/5] END colsample_bynode=0.8, learning_rate=0.1, max_depth=10, n_estimators=100, reg_alpha=0.5, reg_lambda=1e-05;, score=0.698 total time=  27.9s\n"
     ]
    },
    {
     "name": "stderr",
     "output_type": "stream",
     "text": [
      "/home/fscaccheri/.local/lib/python3.6/site-packages/xgboost/sklearn.py:1146: UserWarning: The use of label encoder in XGBClassifier is deprecated and will be removed in a future release. To remove this warning, do the following: 1) Pass option use_label_encoder=False when constructing XGBClassifier object; and 2) Encode your labels (y) as integers starting with 0, i.e. 0, 1, 2, ..., [num_class - 1].\n",
      "  warnings.warn(label_encoder_deprecation_msg, UserWarning)\n",
      "/home/fscaccheri/.local/lib/python3.6/site-packages/sklearn/utils/validation.py:63: DataConversionWarning: A column-vector y was passed when a 1d array was expected. Please change the shape of y to (n_samples, ), for example using ravel().\n",
      "  return f(*args, **kwargs)\n"
     ]
    },
    {
     "name": "stdout",
     "output_type": "stream",
     "text": [
      "[18:43:47] WARNING: ../src/learner.cc:1095: Starting in XGBoost 1.3.0, the default evaluation metric used with the objective 'multi:softprob' was changed from 'merror' to 'mlogloss'. Explicitly set eval_metric if you'd like to restore the old behavior.\n",
      "[CV 4/5] END colsample_bynode=0.8, learning_rate=0.1, max_depth=10, n_estimators=100, reg_alpha=0.5, reg_lambda=1e-05;, score=0.694 total time=  27.4s\n"
     ]
    },
    {
     "name": "stderr",
     "output_type": "stream",
     "text": [
      "/home/fscaccheri/.local/lib/python3.6/site-packages/xgboost/sklearn.py:1146: UserWarning: The use of label encoder in XGBClassifier is deprecated and will be removed in a future release. To remove this warning, do the following: 1) Pass option use_label_encoder=False when constructing XGBClassifier object; and 2) Encode your labels (y) as integers starting with 0, i.e. 0, 1, 2, ..., [num_class - 1].\n",
      "  warnings.warn(label_encoder_deprecation_msg, UserWarning)\n",
      "/home/fscaccheri/.local/lib/python3.6/site-packages/sklearn/utils/validation.py:63: DataConversionWarning: A column-vector y was passed when a 1d array was expected. Please change the shape of y to (n_samples, ), for example using ravel().\n",
      "  return f(*args, **kwargs)\n"
     ]
    },
    {
     "name": "stdout",
     "output_type": "stream",
     "text": [
      "[18:44:17] WARNING: ../src/learner.cc:1095: Starting in XGBoost 1.3.0, the default evaluation metric used with the objective 'multi:softprob' was changed from 'merror' to 'mlogloss'. Explicitly set eval_metric if you'd like to restore the old behavior.\n",
      "[CV 5/5] END colsample_bynode=0.8, learning_rate=0.1, max_depth=10, n_estimators=100, reg_alpha=0.5, reg_lambda=1e-05;, score=0.695 total time=  30.1s\n"
     ]
    },
    {
     "name": "stderr",
     "output_type": "stream",
     "text": [
      "/home/fscaccheri/.local/lib/python3.6/site-packages/xgboost/sklearn.py:1146: UserWarning: The use of label encoder in XGBClassifier is deprecated and will be removed in a future release. To remove this warning, do the following: 1) Pass option use_label_encoder=False when constructing XGBClassifier object; and 2) Encode your labels (y) as integers starting with 0, i.e. 0, 1, 2, ..., [num_class - 1].\n",
      "  warnings.warn(label_encoder_deprecation_msg, UserWarning)\n",
      "/home/fscaccheri/.local/lib/python3.6/site-packages/sklearn/utils/validation.py:63: DataConversionWarning: A column-vector y was passed when a 1d array was expected. Please change the shape of y to (n_samples, ), for example using ravel().\n",
      "  return f(*args, **kwargs)\n"
     ]
    },
    {
     "name": "stdout",
     "output_type": "stream",
     "text": [
      "[18:44:44] WARNING: ../src/learner.cc:1095: Starting in XGBoost 1.3.0, the default evaluation metric used with the objective 'multi:softprob' was changed from 'merror' to 'mlogloss'. Explicitly set eval_metric if you'd like to restore the old behavior.\n",
      "[CV 1/5] END colsample_bynode=0.8, learning_rate=0.1, max_depth=10, n_estimators=100, reg_alpha=0.5, reg_lambda=3e-05;, score=0.693 total time=  27.5s\n"
     ]
    },
    {
     "name": "stderr",
     "output_type": "stream",
     "text": [
      "/home/fscaccheri/.local/lib/python3.6/site-packages/xgboost/sklearn.py:1146: UserWarning: The use of label encoder in XGBClassifier is deprecated and will be removed in a future release. To remove this warning, do the following: 1) Pass option use_label_encoder=False when constructing XGBClassifier object; and 2) Encode your labels (y) as integers starting with 0, i.e. 0, 1, 2, ..., [num_class - 1].\n",
      "  warnings.warn(label_encoder_deprecation_msg, UserWarning)\n",
      "/home/fscaccheri/.local/lib/python3.6/site-packages/sklearn/utils/validation.py:63: DataConversionWarning: A column-vector y was passed when a 1d array was expected. Please change the shape of y to (n_samples, ), for example using ravel().\n",
      "  return f(*args, **kwargs)\n"
     ]
    },
    {
     "name": "stdout",
     "output_type": "stream",
     "text": [
      "[18:45:12] WARNING: ../src/learner.cc:1095: Starting in XGBoost 1.3.0, the default evaluation metric used with the objective 'multi:softprob' was changed from 'merror' to 'mlogloss'. Explicitly set eval_metric if you'd like to restore the old behavior.\n",
      "[CV 2/5] END colsample_bynode=0.8, learning_rate=0.1, max_depth=10, n_estimators=100, reg_alpha=0.5, reg_lambda=3e-05;, score=0.691 total time=  27.5s\n"
     ]
    },
    {
     "name": "stderr",
     "output_type": "stream",
     "text": [
      "/home/fscaccheri/.local/lib/python3.6/site-packages/xgboost/sklearn.py:1146: UserWarning: The use of label encoder in XGBClassifier is deprecated and will be removed in a future release. To remove this warning, do the following: 1) Pass option use_label_encoder=False when constructing XGBClassifier object; and 2) Encode your labels (y) as integers starting with 0, i.e. 0, 1, 2, ..., [num_class - 1].\n",
      "  warnings.warn(label_encoder_deprecation_msg, UserWarning)\n",
      "/home/fscaccheri/.local/lib/python3.6/site-packages/sklearn/utils/validation.py:63: DataConversionWarning: A column-vector y was passed when a 1d array was expected. Please change the shape of y to (n_samples, ), for example using ravel().\n",
      "  return f(*args, **kwargs)\n"
     ]
    },
    {
     "name": "stdout",
     "output_type": "stream",
     "text": [
      "[18:45:39] WARNING: ../src/learner.cc:1095: Starting in XGBoost 1.3.0, the default evaluation metric used with the objective 'multi:softprob' was changed from 'merror' to 'mlogloss'. Explicitly set eval_metric if you'd like to restore the old behavior.\n",
      "[CV 3/5] END colsample_bynode=0.8, learning_rate=0.1, max_depth=10, n_estimators=100, reg_alpha=0.5, reg_lambda=3e-05;, score=0.698 total time=  27.3s\n"
     ]
    },
    {
     "name": "stderr",
     "output_type": "stream",
     "text": [
      "/home/fscaccheri/.local/lib/python3.6/site-packages/xgboost/sklearn.py:1146: UserWarning: The use of label encoder in XGBClassifier is deprecated and will be removed in a future release. To remove this warning, do the following: 1) Pass option use_label_encoder=False when constructing XGBClassifier object; and 2) Encode your labels (y) as integers starting with 0, i.e. 0, 1, 2, ..., [num_class - 1].\n",
      "  warnings.warn(label_encoder_deprecation_msg, UserWarning)\n",
      "/home/fscaccheri/.local/lib/python3.6/site-packages/sklearn/utils/validation.py:63: DataConversionWarning: A column-vector y was passed when a 1d array was expected. Please change the shape of y to (n_samples, ), for example using ravel().\n",
      "  return f(*args, **kwargs)\n"
     ]
    },
    {
     "name": "stdout",
     "output_type": "stream",
     "text": [
      "[18:46:05] WARNING: ../src/learner.cc:1095: Starting in XGBoost 1.3.0, the default evaluation metric used with the objective 'multi:softprob' was changed from 'merror' to 'mlogloss'. Explicitly set eval_metric if you'd like to restore the old behavior.\n",
      "[CV 4/5] END colsample_bynode=0.8, learning_rate=0.1, max_depth=10, n_estimators=100, reg_alpha=0.5, reg_lambda=3e-05;, score=0.694 total time=  26.5s\n"
     ]
    },
    {
     "name": "stderr",
     "output_type": "stream",
     "text": [
      "/home/fscaccheri/.local/lib/python3.6/site-packages/xgboost/sklearn.py:1146: UserWarning: The use of label encoder in XGBClassifier is deprecated and will be removed in a future release. To remove this warning, do the following: 1) Pass option use_label_encoder=False when constructing XGBClassifier object; and 2) Encode your labels (y) as integers starting with 0, i.e. 0, 1, 2, ..., [num_class - 1].\n",
      "  warnings.warn(label_encoder_deprecation_msg, UserWarning)\n",
      "/home/fscaccheri/.local/lib/python3.6/site-packages/sklearn/utils/validation.py:63: DataConversionWarning: A column-vector y was passed when a 1d array was expected. Please change the shape of y to (n_samples, ), for example using ravel().\n",
      "  return f(*args, **kwargs)\n"
     ]
    },
    {
     "name": "stdout",
     "output_type": "stream",
     "text": [
      "[18:46:31] WARNING: ../src/learner.cc:1095: Starting in XGBoost 1.3.0, the default evaluation metric used with the objective 'multi:softprob' was changed from 'merror' to 'mlogloss'. Explicitly set eval_metric if you'd like to restore the old behavior.\n",
      "[CV 5/5] END colsample_bynode=0.8, learning_rate=0.1, max_depth=10, n_estimators=100, reg_alpha=0.5, reg_lambda=3e-05;, score=0.695 total time=  25.3s\n"
     ]
    },
    {
     "name": "stderr",
     "output_type": "stream",
     "text": [
      "/home/fscaccheri/.local/lib/python3.6/site-packages/xgboost/sklearn.py:1146: UserWarning: The use of label encoder in XGBClassifier is deprecated and will be removed in a future release. To remove this warning, do the following: 1) Pass option use_label_encoder=False when constructing XGBClassifier object; and 2) Encode your labels (y) as integers starting with 0, i.e. 0, 1, 2, ..., [num_class - 1].\n",
      "  warnings.warn(label_encoder_deprecation_msg, UserWarning)\n",
      "/home/fscaccheri/.local/lib/python3.6/site-packages/sklearn/utils/validation.py:63: DataConversionWarning: A column-vector y was passed when a 1d array was expected. Please change the shape of y to (n_samples, ), for example using ravel().\n",
      "  return f(*args, **kwargs)\n"
     ]
    },
    {
     "name": "stdout",
     "output_type": "stream",
     "text": [
      "[18:47:05] WARNING: ../src/learner.cc:1095: Starting in XGBoost 1.3.0, the default evaluation metric used with the objective 'multi:softprob' was changed from 'merror' to 'mlogloss'. Explicitly set eval_metric if you'd like to restore the old behavior.\n",
      "[CV 1/5] END colsample_bynode=0.8, learning_rate=0.1, max_depth=10, n_estimators=120, reg_alpha=0.1, reg_lambda=1e-05;, score=0.693 total time=  34.7s\n"
     ]
    },
    {
     "name": "stderr",
     "output_type": "stream",
     "text": [
      "/home/fscaccheri/.local/lib/python3.6/site-packages/xgboost/sklearn.py:1146: UserWarning: The use of label encoder in XGBClassifier is deprecated and will be removed in a future release. To remove this warning, do the following: 1) Pass option use_label_encoder=False when constructing XGBClassifier object; and 2) Encode your labels (y) as integers starting with 0, i.e. 0, 1, 2, ..., [num_class - 1].\n",
      "  warnings.warn(label_encoder_deprecation_msg, UserWarning)\n",
      "/home/fscaccheri/.local/lib/python3.6/site-packages/sklearn/utils/validation.py:63: DataConversionWarning: A column-vector y was passed when a 1d array was expected. Please change the shape of y to (n_samples, ), for example using ravel().\n",
      "  return f(*args, **kwargs)\n"
     ]
    },
    {
     "name": "stdout",
     "output_type": "stream",
     "text": [
      "[18:47:40] WARNING: ../src/learner.cc:1095: Starting in XGBoost 1.3.0, the default evaluation metric used with the objective 'multi:softprob' was changed from 'merror' to 'mlogloss'. Explicitly set eval_metric if you'd like to restore the old behavior.\n",
      "[CV 2/5] END colsample_bynode=0.8, learning_rate=0.1, max_depth=10, n_estimators=120, reg_alpha=0.1, reg_lambda=1e-05;, score=0.692 total time=  34.5s\n"
     ]
    },
    {
     "name": "stderr",
     "output_type": "stream",
     "text": [
      "/home/fscaccheri/.local/lib/python3.6/site-packages/xgboost/sklearn.py:1146: UserWarning: The use of label encoder in XGBClassifier is deprecated and will be removed in a future release. To remove this warning, do the following: 1) Pass option use_label_encoder=False when constructing XGBClassifier object; and 2) Encode your labels (y) as integers starting with 0, i.e. 0, 1, 2, ..., [num_class - 1].\n",
      "  warnings.warn(label_encoder_deprecation_msg, UserWarning)\n",
      "/home/fscaccheri/.local/lib/python3.6/site-packages/sklearn/utils/validation.py:63: DataConversionWarning: A column-vector y was passed when a 1d array was expected. Please change the shape of y to (n_samples, ), for example using ravel().\n",
      "  return f(*args, **kwargs)\n"
     ]
    },
    {
     "name": "stdout",
     "output_type": "stream",
     "text": [
      "[18:48:14] WARNING: ../src/learner.cc:1095: Starting in XGBoost 1.3.0, the default evaluation metric used with the objective 'multi:softprob' was changed from 'merror' to 'mlogloss'. Explicitly set eval_metric if you'd like to restore the old behavior.\n",
      "[CV 3/5] END colsample_bynode=0.8, learning_rate=0.1, max_depth=10, n_estimators=120, reg_alpha=0.1, reg_lambda=1e-05;, score=0.698 total time=  34.2s\n"
     ]
    },
    {
     "name": "stderr",
     "output_type": "stream",
     "text": [
      "/home/fscaccheri/.local/lib/python3.6/site-packages/xgboost/sklearn.py:1146: UserWarning: The use of label encoder in XGBClassifier is deprecated and will be removed in a future release. To remove this warning, do the following: 1) Pass option use_label_encoder=False when constructing XGBClassifier object; and 2) Encode your labels (y) as integers starting with 0, i.e. 0, 1, 2, ..., [num_class - 1].\n",
      "  warnings.warn(label_encoder_deprecation_msg, UserWarning)\n",
      "/home/fscaccheri/.local/lib/python3.6/site-packages/sklearn/utils/validation.py:63: DataConversionWarning: A column-vector y was passed when a 1d array was expected. Please change the shape of y to (n_samples, ), for example using ravel().\n",
      "  return f(*args, **kwargs)\n"
     ]
    },
    {
     "name": "stdout",
     "output_type": "stream",
     "text": [
      "[18:48:49] WARNING: ../src/learner.cc:1095: Starting in XGBoost 1.3.0, the default evaluation metric used with the objective 'multi:softprob' was changed from 'merror' to 'mlogloss'. Explicitly set eval_metric if you'd like to restore the old behavior.\n",
      "[CV 4/5] END colsample_bynode=0.8, learning_rate=0.1, max_depth=10, n_estimators=120, reg_alpha=0.1, reg_lambda=1e-05;, score=0.694 total time=  34.7s\n"
     ]
    },
    {
     "name": "stderr",
     "output_type": "stream",
     "text": [
      "/home/fscaccheri/.local/lib/python3.6/site-packages/xgboost/sklearn.py:1146: UserWarning: The use of label encoder in XGBClassifier is deprecated and will be removed in a future release. To remove this warning, do the following: 1) Pass option use_label_encoder=False when constructing XGBClassifier object; and 2) Encode your labels (y) as integers starting with 0, i.e. 0, 1, 2, ..., [num_class - 1].\n",
      "  warnings.warn(label_encoder_deprecation_msg, UserWarning)\n",
      "/home/fscaccheri/.local/lib/python3.6/site-packages/sklearn/utils/validation.py:63: DataConversionWarning: A column-vector y was passed when a 1d array was expected. Please change the shape of y to (n_samples, ), for example using ravel().\n",
      "  return f(*args, **kwargs)\n"
     ]
    },
    {
     "name": "stdout",
     "output_type": "stream",
     "text": [
      "[18:49:22] WARNING: ../src/learner.cc:1095: Starting in XGBoost 1.3.0, the default evaluation metric used with the objective 'multi:softprob' was changed from 'merror' to 'mlogloss'. Explicitly set eval_metric if you'd like to restore the old behavior.\n",
      "[CV 5/5] END colsample_bynode=0.8, learning_rate=0.1, max_depth=10, n_estimators=120, reg_alpha=0.1, reg_lambda=1e-05;, score=0.694 total time=  33.6s\n"
     ]
    },
    {
     "name": "stderr",
     "output_type": "stream",
     "text": [
      "/home/fscaccheri/.local/lib/python3.6/site-packages/xgboost/sklearn.py:1146: UserWarning: The use of label encoder in XGBClassifier is deprecated and will be removed in a future release. To remove this warning, do the following: 1) Pass option use_label_encoder=False when constructing XGBClassifier object; and 2) Encode your labels (y) as integers starting with 0, i.e. 0, 1, 2, ..., [num_class - 1].\n",
      "  warnings.warn(label_encoder_deprecation_msg, UserWarning)\n",
      "/home/fscaccheri/.local/lib/python3.6/site-packages/sklearn/utils/validation.py:63: DataConversionWarning: A column-vector y was passed when a 1d array was expected. Please change the shape of y to (n_samples, ), for example using ravel().\n",
      "  return f(*args, **kwargs)\n"
     ]
    },
    {
     "name": "stdout",
     "output_type": "stream",
     "text": [
      "[18:49:56] WARNING: ../src/learner.cc:1095: Starting in XGBoost 1.3.0, the default evaluation metric used with the objective 'multi:softprob' was changed from 'merror' to 'mlogloss'. Explicitly set eval_metric if you'd like to restore the old behavior.\n",
      "[CV 1/5] END colsample_bynode=0.8, learning_rate=0.1, max_depth=10, n_estimators=120, reg_alpha=0.1, reg_lambda=3e-05;, score=0.693 total time=  34.2s\n"
     ]
    },
    {
     "name": "stderr",
     "output_type": "stream",
     "text": [
      "/home/fscaccheri/.local/lib/python3.6/site-packages/xgboost/sklearn.py:1146: UserWarning: The use of label encoder in XGBClassifier is deprecated and will be removed in a future release. To remove this warning, do the following: 1) Pass option use_label_encoder=False when constructing XGBClassifier object; and 2) Encode your labels (y) as integers starting with 0, i.e. 0, 1, 2, ..., [num_class - 1].\n",
      "  warnings.warn(label_encoder_deprecation_msg, UserWarning)\n",
      "/home/fscaccheri/.local/lib/python3.6/site-packages/sklearn/utils/validation.py:63: DataConversionWarning: A column-vector y was passed when a 1d array was expected. Please change the shape of y to (n_samples, ), for example using ravel().\n",
      "  return f(*args, **kwargs)\n"
     ]
    },
    {
     "name": "stdout",
     "output_type": "stream",
     "text": [
      "[18:50:31] WARNING: ../src/learner.cc:1095: Starting in XGBoost 1.3.0, the default evaluation metric used with the objective 'multi:softprob' was changed from 'merror' to 'mlogloss'. Explicitly set eval_metric if you'd like to restore the old behavior.\n",
      "[CV 2/5] END colsample_bynode=0.8, learning_rate=0.1, max_depth=10, n_estimators=120, reg_alpha=0.1, reg_lambda=3e-05;, score=0.692 total time=  34.9s\n"
     ]
    },
    {
     "name": "stderr",
     "output_type": "stream",
     "text": [
      "/home/fscaccheri/.local/lib/python3.6/site-packages/xgboost/sklearn.py:1146: UserWarning: The use of label encoder in XGBClassifier is deprecated and will be removed in a future release. To remove this warning, do the following: 1) Pass option use_label_encoder=False when constructing XGBClassifier object; and 2) Encode your labels (y) as integers starting with 0, i.e. 0, 1, 2, ..., [num_class - 1].\n",
      "  warnings.warn(label_encoder_deprecation_msg, UserWarning)\n",
      "/home/fscaccheri/.local/lib/python3.6/site-packages/sklearn/utils/validation.py:63: DataConversionWarning: A column-vector y was passed when a 1d array was expected. Please change the shape of y to (n_samples, ), for example using ravel().\n",
      "  return f(*args, **kwargs)\n"
     ]
    },
    {
     "name": "stdout",
     "output_type": "stream",
     "text": [
      "[18:51:06] WARNING: ../src/learner.cc:1095: Starting in XGBoost 1.3.0, the default evaluation metric used with the objective 'multi:softprob' was changed from 'merror' to 'mlogloss'. Explicitly set eval_metric if you'd like to restore the old behavior.\n",
      "[CV 3/5] END colsample_bynode=0.8, learning_rate=0.1, max_depth=10, n_estimators=120, reg_alpha=0.1, reg_lambda=3e-05;, score=0.698 total time=  34.4s\n"
     ]
    },
    {
     "name": "stderr",
     "output_type": "stream",
     "text": [
      "/home/fscaccheri/.local/lib/python3.6/site-packages/xgboost/sklearn.py:1146: UserWarning: The use of label encoder in XGBClassifier is deprecated and will be removed in a future release. To remove this warning, do the following: 1) Pass option use_label_encoder=False when constructing XGBClassifier object; and 2) Encode your labels (y) as integers starting with 0, i.e. 0, 1, 2, ..., [num_class - 1].\n",
      "  warnings.warn(label_encoder_deprecation_msg, UserWarning)\n",
      "/home/fscaccheri/.local/lib/python3.6/site-packages/sklearn/utils/validation.py:63: DataConversionWarning: A column-vector y was passed when a 1d array was expected. Please change the shape of y to (n_samples, ), for example using ravel().\n",
      "  return f(*args, **kwargs)\n"
     ]
    },
    {
     "name": "stdout",
     "output_type": "stream",
     "text": [
      "[18:51:40] WARNING: ../src/learner.cc:1095: Starting in XGBoost 1.3.0, the default evaluation metric used with the objective 'multi:softprob' was changed from 'merror' to 'mlogloss'. Explicitly set eval_metric if you'd like to restore the old behavior.\n",
      "[CV 4/5] END colsample_bynode=0.8, learning_rate=0.1, max_depth=10, n_estimators=120, reg_alpha=0.1, reg_lambda=3e-05;, score=0.694 total time=  34.5s\n"
     ]
    },
    {
     "name": "stderr",
     "output_type": "stream",
     "text": [
      "/home/fscaccheri/.local/lib/python3.6/site-packages/xgboost/sklearn.py:1146: UserWarning: The use of label encoder in XGBClassifier is deprecated and will be removed in a future release. To remove this warning, do the following: 1) Pass option use_label_encoder=False when constructing XGBClassifier object; and 2) Encode your labels (y) as integers starting with 0, i.e. 0, 1, 2, ..., [num_class - 1].\n",
      "  warnings.warn(label_encoder_deprecation_msg, UserWarning)\n",
      "/home/fscaccheri/.local/lib/python3.6/site-packages/sklearn/utils/validation.py:63: DataConversionWarning: A column-vector y was passed when a 1d array was expected. Please change the shape of y to (n_samples, ), for example using ravel().\n",
      "  return f(*args, **kwargs)\n"
     ]
    },
    {
     "name": "stdout",
     "output_type": "stream",
     "text": [
      "[18:52:15] WARNING: ../src/learner.cc:1095: Starting in XGBoost 1.3.0, the default evaluation metric used with the objective 'multi:softprob' was changed from 'merror' to 'mlogloss'. Explicitly set eval_metric if you'd like to restore the old behavior.\n",
      "[CV 5/5] END colsample_bynode=0.8, learning_rate=0.1, max_depth=10, n_estimators=120, reg_alpha=0.1, reg_lambda=3e-05;, score=0.694 total time=  34.5s\n"
     ]
    },
    {
     "name": "stderr",
     "output_type": "stream",
     "text": [
      "/home/fscaccheri/.local/lib/python3.6/site-packages/xgboost/sklearn.py:1146: UserWarning: The use of label encoder in XGBClassifier is deprecated and will be removed in a future release. To remove this warning, do the following: 1) Pass option use_label_encoder=False when constructing XGBClassifier object; and 2) Encode your labels (y) as integers starting with 0, i.e. 0, 1, 2, ..., [num_class - 1].\n",
      "  warnings.warn(label_encoder_deprecation_msg, UserWarning)\n",
      "/home/fscaccheri/.local/lib/python3.6/site-packages/sklearn/utils/validation.py:63: DataConversionWarning: A column-vector y was passed when a 1d array was expected. Please change the shape of y to (n_samples, ), for example using ravel().\n",
      "  return f(*args, **kwargs)\n"
     ]
    },
    {
     "name": "stdout",
     "output_type": "stream",
     "text": [
      "[18:52:51] WARNING: ../src/learner.cc:1095: Starting in XGBoost 1.3.0, the default evaluation metric used with the objective 'multi:softprob' was changed from 'merror' to 'mlogloss'. Explicitly set eval_metric if you'd like to restore the old behavior.\n",
      "[CV 1/5] END colsample_bynode=0.8, learning_rate=0.1, max_depth=10, n_estimators=120, reg_alpha=0.5, reg_lambda=1e-05;, score=0.693 total time=  36.0s\n"
     ]
    },
    {
     "name": "stderr",
     "output_type": "stream",
     "text": [
      "/home/fscaccheri/.local/lib/python3.6/site-packages/xgboost/sklearn.py:1146: UserWarning: The use of label encoder in XGBClassifier is deprecated and will be removed in a future release. To remove this warning, do the following: 1) Pass option use_label_encoder=False when constructing XGBClassifier object; and 2) Encode your labels (y) as integers starting with 0, i.e. 0, 1, 2, ..., [num_class - 1].\n",
      "  warnings.warn(label_encoder_deprecation_msg, UserWarning)\n",
      "/home/fscaccheri/.local/lib/python3.6/site-packages/sklearn/utils/validation.py:63: DataConversionWarning: A column-vector y was passed when a 1d array was expected. Please change the shape of y to (n_samples, ), for example using ravel().\n",
      "  return f(*args, **kwargs)\n"
     ]
    },
    {
     "name": "stdout",
     "output_type": "stream",
     "text": [
      "[18:53:25] WARNING: ../src/learner.cc:1095: Starting in XGBoost 1.3.0, the default evaluation metric used with the objective 'multi:softprob' was changed from 'merror' to 'mlogloss'. Explicitly set eval_metric if you'd like to restore the old behavior.\n",
      "[CV 2/5] END colsample_bynode=0.8, learning_rate=0.1, max_depth=10, n_estimators=120, reg_alpha=0.5, reg_lambda=1e-05;, score=0.691 total time=  34.3s\n"
     ]
    },
    {
     "name": "stderr",
     "output_type": "stream",
     "text": [
      "/home/fscaccheri/.local/lib/python3.6/site-packages/xgboost/sklearn.py:1146: UserWarning: The use of label encoder in XGBClassifier is deprecated and will be removed in a future release. To remove this warning, do the following: 1) Pass option use_label_encoder=False when constructing XGBClassifier object; and 2) Encode your labels (y) as integers starting with 0, i.e. 0, 1, 2, ..., [num_class - 1].\n",
      "  warnings.warn(label_encoder_deprecation_msg, UserWarning)\n",
      "/home/fscaccheri/.local/lib/python3.6/site-packages/sklearn/utils/validation.py:63: DataConversionWarning: A column-vector y was passed when a 1d array was expected. Please change the shape of y to (n_samples, ), for example using ravel().\n",
      "  return f(*args, **kwargs)\n"
     ]
    },
    {
     "name": "stdout",
     "output_type": "stream",
     "text": [
      "[18:53:55] WARNING: ../src/learner.cc:1095: Starting in XGBoost 1.3.0, the default evaluation metric used with the objective 'multi:softprob' was changed from 'merror' to 'mlogloss'. Explicitly set eval_metric if you'd like to restore the old behavior.\n",
      "[CV 3/5] END colsample_bynode=0.8, learning_rate=0.1, max_depth=10, n_estimators=120, reg_alpha=0.5, reg_lambda=1e-05;, score=0.698 total time=  29.6s\n"
     ]
    },
    {
     "name": "stderr",
     "output_type": "stream",
     "text": [
      "/home/fscaccheri/.local/lib/python3.6/site-packages/xgboost/sklearn.py:1146: UserWarning: The use of label encoder in XGBClassifier is deprecated and will be removed in a future release. To remove this warning, do the following: 1) Pass option use_label_encoder=False when constructing XGBClassifier object; and 2) Encode your labels (y) as integers starting with 0, i.e. 0, 1, 2, ..., [num_class - 1].\n",
      "  warnings.warn(label_encoder_deprecation_msg, UserWarning)\n",
      "/home/fscaccheri/.local/lib/python3.6/site-packages/sklearn/utils/validation.py:63: DataConversionWarning: A column-vector y was passed when a 1d array was expected. Please change the shape of y to (n_samples, ), for example using ravel().\n",
      "  return f(*args, **kwargs)\n"
     ]
    },
    {
     "name": "stdout",
     "output_type": "stream",
     "text": [
      "[18:54:24] WARNING: ../src/learner.cc:1095: Starting in XGBoost 1.3.0, the default evaluation metric used with the objective 'multi:softprob' was changed from 'merror' to 'mlogloss'. Explicitly set eval_metric if you'd like to restore the old behavior.\n",
      "[CV 4/5] END colsample_bynode=0.8, learning_rate=0.1, max_depth=10, n_estimators=120, reg_alpha=0.5, reg_lambda=1e-05;, score=0.694 total time=  29.6s\n"
     ]
    },
    {
     "name": "stderr",
     "output_type": "stream",
     "text": [
      "/home/fscaccheri/.local/lib/python3.6/site-packages/xgboost/sklearn.py:1146: UserWarning: The use of label encoder in XGBClassifier is deprecated and will be removed in a future release. To remove this warning, do the following: 1) Pass option use_label_encoder=False when constructing XGBClassifier object; and 2) Encode your labels (y) as integers starting with 0, i.e. 0, 1, 2, ..., [num_class - 1].\n",
      "  warnings.warn(label_encoder_deprecation_msg, UserWarning)\n",
      "/home/fscaccheri/.local/lib/python3.6/site-packages/sklearn/utils/validation.py:63: DataConversionWarning: A column-vector y was passed when a 1d array was expected. Please change the shape of y to (n_samples, ), for example using ravel().\n",
      "  return f(*args, **kwargs)\n"
     ]
    },
    {
     "name": "stdout",
     "output_type": "stream",
     "text": [
      "[18:54:54] WARNING: ../src/learner.cc:1095: Starting in XGBoost 1.3.0, the default evaluation metric used with the objective 'multi:softprob' was changed from 'merror' to 'mlogloss'. Explicitly set eval_metric if you'd like to restore the old behavior.\n",
      "[CV 5/5] END colsample_bynode=0.8, learning_rate=0.1, max_depth=10, n_estimators=120, reg_alpha=0.5, reg_lambda=1e-05;, score=0.694 total time=  30.0s\n"
     ]
    },
    {
     "name": "stderr",
     "output_type": "stream",
     "text": [
      "/home/fscaccheri/.local/lib/python3.6/site-packages/xgboost/sklearn.py:1146: UserWarning: The use of label encoder in XGBClassifier is deprecated and will be removed in a future release. To remove this warning, do the following: 1) Pass option use_label_encoder=False when constructing XGBClassifier object; and 2) Encode your labels (y) as integers starting with 0, i.e. 0, 1, 2, ..., [num_class - 1].\n",
      "  warnings.warn(label_encoder_deprecation_msg, UserWarning)\n",
      "/home/fscaccheri/.local/lib/python3.6/site-packages/sklearn/utils/validation.py:63: DataConversionWarning: A column-vector y was passed when a 1d array was expected. Please change the shape of y to (n_samples, ), for example using ravel().\n",
      "  return f(*args, **kwargs)\n"
     ]
    },
    {
     "name": "stdout",
     "output_type": "stream",
     "text": [
      "[18:55:24] WARNING: ../src/learner.cc:1095: Starting in XGBoost 1.3.0, the default evaluation metric used with the objective 'multi:softprob' was changed from 'merror' to 'mlogloss'. Explicitly set eval_metric if you'd like to restore the old behavior.\n",
      "[CV 1/5] END colsample_bynode=0.8, learning_rate=0.1, max_depth=10, n_estimators=120, reg_alpha=0.5, reg_lambda=3e-05;, score=0.693 total time=  30.0s\n"
     ]
    },
    {
     "name": "stderr",
     "output_type": "stream",
     "text": [
      "/home/fscaccheri/.local/lib/python3.6/site-packages/xgboost/sklearn.py:1146: UserWarning: The use of label encoder in XGBClassifier is deprecated and will be removed in a future release. To remove this warning, do the following: 1) Pass option use_label_encoder=False when constructing XGBClassifier object; and 2) Encode your labels (y) as integers starting with 0, i.e. 0, 1, 2, ..., [num_class - 1].\n",
      "  warnings.warn(label_encoder_deprecation_msg, UserWarning)\n",
      "/home/fscaccheri/.local/lib/python3.6/site-packages/sklearn/utils/validation.py:63: DataConversionWarning: A column-vector y was passed when a 1d array was expected. Please change the shape of y to (n_samples, ), for example using ravel().\n",
      "  return f(*args, **kwargs)\n"
     ]
    },
    {
     "name": "stdout",
     "output_type": "stream",
     "text": [
      "[18:55:54] WARNING: ../src/learner.cc:1095: Starting in XGBoost 1.3.0, the default evaluation metric used with the objective 'multi:softprob' was changed from 'merror' to 'mlogloss'. Explicitly set eval_metric if you'd like to restore the old behavior.\n",
      "[CV 2/5] END colsample_bynode=0.8, learning_rate=0.1, max_depth=10, n_estimators=120, reg_alpha=0.5, reg_lambda=3e-05;, score=0.691 total time=  29.7s\n"
     ]
    },
    {
     "name": "stderr",
     "output_type": "stream",
     "text": [
      "/home/fscaccheri/.local/lib/python3.6/site-packages/xgboost/sklearn.py:1146: UserWarning: The use of label encoder in XGBClassifier is deprecated and will be removed in a future release. To remove this warning, do the following: 1) Pass option use_label_encoder=False when constructing XGBClassifier object; and 2) Encode your labels (y) as integers starting with 0, i.e. 0, 1, 2, ..., [num_class - 1].\n",
      "  warnings.warn(label_encoder_deprecation_msg, UserWarning)\n",
      "/home/fscaccheri/.local/lib/python3.6/site-packages/sklearn/utils/validation.py:63: DataConversionWarning: A column-vector y was passed when a 1d array was expected. Please change the shape of y to (n_samples, ), for example using ravel().\n",
      "  return f(*args, **kwargs)\n"
     ]
    },
    {
     "name": "stdout",
     "output_type": "stream",
     "text": [
      "[18:56:24] WARNING: ../src/learner.cc:1095: Starting in XGBoost 1.3.0, the default evaluation metric used with the objective 'multi:softprob' was changed from 'merror' to 'mlogloss'. Explicitly set eval_metric if you'd like to restore the old behavior.\n",
      "[CV 3/5] END colsample_bynode=0.8, learning_rate=0.1, max_depth=10, n_estimators=120, reg_alpha=0.5, reg_lambda=3e-05;, score=0.698 total time=  29.6s\n"
     ]
    },
    {
     "name": "stderr",
     "output_type": "stream",
     "text": [
      "/home/fscaccheri/.local/lib/python3.6/site-packages/xgboost/sklearn.py:1146: UserWarning: The use of label encoder in XGBClassifier is deprecated and will be removed in a future release. To remove this warning, do the following: 1) Pass option use_label_encoder=False when constructing XGBClassifier object; and 2) Encode your labels (y) as integers starting with 0, i.e. 0, 1, 2, ..., [num_class - 1].\n",
      "  warnings.warn(label_encoder_deprecation_msg, UserWarning)\n",
      "/home/fscaccheri/.local/lib/python3.6/site-packages/sklearn/utils/validation.py:63: DataConversionWarning: A column-vector y was passed when a 1d array was expected. Please change the shape of y to (n_samples, ), for example using ravel().\n",
      "  return f(*args, **kwargs)\n"
     ]
    },
    {
     "name": "stdout",
     "output_type": "stream",
     "text": [
      "[18:56:54] WARNING: ../src/learner.cc:1095: Starting in XGBoost 1.3.0, the default evaluation metric used with the objective 'multi:softprob' was changed from 'merror' to 'mlogloss'. Explicitly set eval_metric if you'd like to restore the old behavior.\n",
      "[CV 4/5] END colsample_bynode=0.8, learning_rate=0.1, max_depth=10, n_estimators=120, reg_alpha=0.5, reg_lambda=3e-05;, score=0.694 total time=  30.0s\n"
     ]
    },
    {
     "name": "stderr",
     "output_type": "stream",
     "text": [
      "/home/fscaccheri/.local/lib/python3.6/site-packages/xgboost/sklearn.py:1146: UserWarning: The use of label encoder in XGBClassifier is deprecated and will be removed in a future release. To remove this warning, do the following: 1) Pass option use_label_encoder=False when constructing XGBClassifier object; and 2) Encode your labels (y) as integers starting with 0, i.e. 0, 1, 2, ..., [num_class - 1].\n",
      "  warnings.warn(label_encoder_deprecation_msg, UserWarning)\n",
      "/home/fscaccheri/.local/lib/python3.6/site-packages/sklearn/utils/validation.py:63: DataConversionWarning: A column-vector y was passed when a 1d array was expected. Please change the shape of y to (n_samples, ), for example using ravel().\n",
      "  return f(*args, **kwargs)\n"
     ]
    },
    {
     "name": "stdout",
     "output_type": "stream",
     "text": [
      "[18:57:23] WARNING: ../src/learner.cc:1095: Starting in XGBoost 1.3.0, the default evaluation metric used with the objective 'multi:softprob' was changed from 'merror' to 'mlogloss'. Explicitly set eval_metric if you'd like to restore the old behavior.\n",
      "[CV 5/5] END colsample_bynode=0.8, learning_rate=0.1, max_depth=10, n_estimators=120, reg_alpha=0.5, reg_lambda=3e-05;, score=0.694 total time=  29.9s\n"
     ]
    },
    {
     "name": "stderr",
     "output_type": "stream",
     "text": [
      "/home/fscaccheri/.local/lib/python3.6/site-packages/xgboost/sklearn.py:1146: UserWarning: The use of label encoder in XGBClassifier is deprecated and will be removed in a future release. To remove this warning, do the following: 1) Pass option use_label_encoder=False when constructing XGBClassifier object; and 2) Encode your labels (y) as integers starting with 0, i.e. 0, 1, 2, ..., [num_class - 1].\n",
      "  warnings.warn(label_encoder_deprecation_msg, UserWarning)\n",
      "/home/fscaccheri/.local/lib/python3.6/site-packages/sklearn/utils/validation.py:63: DataConversionWarning: A column-vector y was passed when a 1d array was expected. Please change the shape of y to (n_samples, ), for example using ravel().\n",
      "  return f(*args, **kwargs)\n"
     ]
    },
    {
     "name": "stdout",
     "output_type": "stream",
     "text": [
      "[18:58:13] WARNING: ../src/learner.cc:1095: Starting in XGBoost 1.3.0, the default evaluation metric used with the objective 'multi:softprob' was changed from 'merror' to 'mlogloss'. Explicitly set eval_metric if you'd like to restore the old behavior.\n",
      "[CV 1/5] END colsample_bynode=0.8, learning_rate=0.1, max_depth=15, n_estimators=100, reg_alpha=0.1, reg_lambda=1e-05;, score=0.727 total time=  53.3s\n"
     ]
    },
    {
     "name": "stderr",
     "output_type": "stream",
     "text": [
      "/home/fscaccheri/.local/lib/python3.6/site-packages/xgboost/sklearn.py:1146: UserWarning: The use of label encoder in XGBClassifier is deprecated and will be removed in a future release. To remove this warning, do the following: 1) Pass option use_label_encoder=False when constructing XGBClassifier object; and 2) Encode your labels (y) as integers starting with 0, i.e. 0, 1, 2, ..., [num_class - 1].\n",
      "  warnings.warn(label_encoder_deprecation_msg, UserWarning)\n",
      "/home/fscaccheri/.local/lib/python3.6/site-packages/sklearn/utils/validation.py:63: DataConversionWarning: A column-vector y was passed when a 1d array was expected. Please change the shape of y to (n_samples, ), for example using ravel().\n",
      "  return f(*args, **kwargs)\n"
     ]
    },
    {
     "name": "stdout",
     "output_type": "stream",
     "text": [
      "[18:59:15] WARNING: ../src/learner.cc:1095: Starting in XGBoost 1.3.0, the default evaluation metric used with the objective 'multi:softprob' was changed from 'merror' to 'mlogloss'. Explicitly set eval_metric if you'd like to restore the old behavior.\n",
      "[CV 2/5] END colsample_bynode=0.8, learning_rate=0.1, max_depth=15, n_estimators=100, reg_alpha=0.1, reg_lambda=1e-05;, score=0.726 total time= 1.0min\n"
     ]
    },
    {
     "name": "stderr",
     "output_type": "stream",
     "text": [
      "/home/fscaccheri/.local/lib/python3.6/site-packages/xgboost/sklearn.py:1146: UserWarning: The use of label encoder in XGBClassifier is deprecated and will be removed in a future release. To remove this warning, do the following: 1) Pass option use_label_encoder=False when constructing XGBClassifier object; and 2) Encode your labels (y) as integers starting with 0, i.e. 0, 1, 2, ..., [num_class - 1].\n",
      "  warnings.warn(label_encoder_deprecation_msg, UserWarning)\n",
      "/home/fscaccheri/.local/lib/python3.6/site-packages/sklearn/utils/validation.py:63: DataConversionWarning: A column-vector y was passed when a 1d array was expected. Please change the shape of y to (n_samples, ), for example using ravel().\n",
      "  return f(*args, **kwargs)\n"
     ]
    },
    {
     "name": "stdout",
     "output_type": "stream",
     "text": [
      "[19:00:19] WARNING: ../src/learner.cc:1095: Starting in XGBoost 1.3.0, the default evaluation metric used with the objective 'multi:softprob' was changed from 'merror' to 'mlogloss'. Explicitly set eval_metric if you'd like to restore the old behavior.\n",
      "[CV 3/5] END colsample_bynode=0.8, learning_rate=0.1, max_depth=15, n_estimators=100, reg_alpha=0.1, reg_lambda=1e-05;, score=0.732 total time= 1.1min\n"
     ]
    },
    {
     "name": "stderr",
     "output_type": "stream",
     "text": [
      "/home/fscaccheri/.local/lib/python3.6/site-packages/xgboost/sklearn.py:1146: UserWarning: The use of label encoder in XGBClassifier is deprecated and will be removed in a future release. To remove this warning, do the following: 1) Pass option use_label_encoder=False when constructing XGBClassifier object; and 2) Encode your labels (y) as integers starting with 0, i.e. 0, 1, 2, ..., [num_class - 1].\n",
      "  warnings.warn(label_encoder_deprecation_msg, UserWarning)\n",
      "/home/fscaccheri/.local/lib/python3.6/site-packages/sklearn/utils/validation.py:63: DataConversionWarning: A column-vector y was passed when a 1d array was expected. Please change the shape of y to (n_samples, ), for example using ravel().\n",
      "  return f(*args, **kwargs)\n"
     ]
    },
    {
     "name": "stdout",
     "output_type": "stream",
     "text": [
      "[19:01:15] WARNING: ../src/learner.cc:1095: Starting in XGBoost 1.3.0, the default evaluation metric used with the objective 'multi:softprob' was changed from 'merror' to 'mlogloss'. Explicitly set eval_metric if you'd like to restore the old behavior.\n",
      "[CV 4/5] END colsample_bynode=0.8, learning_rate=0.1, max_depth=15, n_estimators=100, reg_alpha=0.1, reg_lambda=1e-05;, score=0.730 total time=  56.4s\n"
     ]
    },
    {
     "name": "stderr",
     "output_type": "stream",
     "text": [
      "/home/fscaccheri/.local/lib/python3.6/site-packages/xgboost/sklearn.py:1146: UserWarning: The use of label encoder in XGBClassifier is deprecated and will be removed in a future release. To remove this warning, do the following: 1) Pass option use_label_encoder=False when constructing XGBClassifier object; and 2) Encode your labels (y) as integers starting with 0, i.e. 0, 1, 2, ..., [num_class - 1].\n",
      "  warnings.warn(label_encoder_deprecation_msg, UserWarning)\n",
      "/home/fscaccheri/.local/lib/python3.6/site-packages/sklearn/utils/validation.py:63: DataConversionWarning: A column-vector y was passed when a 1d array was expected. Please change the shape of y to (n_samples, ), for example using ravel().\n",
      "  return f(*args, **kwargs)\n"
     ]
    },
    {
     "name": "stdout",
     "output_type": "stream",
     "text": [
      "[19:02:14] WARNING: ../src/learner.cc:1095: Starting in XGBoost 1.3.0, the default evaluation metric used with the objective 'multi:softprob' was changed from 'merror' to 'mlogloss'. Explicitly set eval_metric if you'd like to restore the old behavior.\n",
      "[CV 5/5] END colsample_bynode=0.8, learning_rate=0.1, max_depth=15, n_estimators=100, reg_alpha=0.1, reg_lambda=1e-05;, score=0.729 total time=  58.9s\n"
     ]
    },
    {
     "name": "stderr",
     "output_type": "stream",
     "text": [
      "/home/fscaccheri/.local/lib/python3.6/site-packages/xgboost/sklearn.py:1146: UserWarning: The use of label encoder in XGBClassifier is deprecated and will be removed in a future release. To remove this warning, do the following: 1) Pass option use_label_encoder=False when constructing XGBClassifier object; and 2) Encode your labels (y) as integers starting with 0, i.e. 0, 1, 2, ..., [num_class - 1].\n",
      "  warnings.warn(label_encoder_deprecation_msg, UserWarning)\n",
      "/home/fscaccheri/.local/lib/python3.6/site-packages/sklearn/utils/validation.py:63: DataConversionWarning: A column-vector y was passed when a 1d array was expected. Please change the shape of y to (n_samples, ), for example using ravel().\n",
      "  return f(*args, **kwargs)\n"
     ]
    },
    {
     "name": "stdout",
     "output_type": "stream",
     "text": [
      "[19:03:10] WARNING: ../src/learner.cc:1095: Starting in XGBoost 1.3.0, the default evaluation metric used with the objective 'multi:softprob' was changed from 'merror' to 'mlogloss'. Explicitly set eval_metric if you'd like to restore the old behavior.\n",
      "[CV 1/5] END colsample_bynode=0.8, learning_rate=0.1, max_depth=15, n_estimators=100, reg_alpha=0.1, reg_lambda=3e-05;, score=0.727 total time=  55.7s\n"
     ]
    },
    {
     "name": "stderr",
     "output_type": "stream",
     "text": [
      "/home/fscaccheri/.local/lib/python3.6/site-packages/xgboost/sklearn.py:1146: UserWarning: The use of label encoder in XGBClassifier is deprecated and will be removed in a future release. To remove this warning, do the following: 1) Pass option use_label_encoder=False when constructing XGBClassifier object; and 2) Encode your labels (y) as integers starting with 0, i.e. 0, 1, 2, ..., [num_class - 1].\n",
      "  warnings.warn(label_encoder_deprecation_msg, UserWarning)\n",
      "/home/fscaccheri/.local/lib/python3.6/site-packages/sklearn/utils/validation.py:63: DataConversionWarning: A column-vector y was passed when a 1d array was expected. Please change the shape of y to (n_samples, ), for example using ravel().\n",
      "  return f(*args, **kwargs)\n"
     ]
    },
    {
     "name": "stdout",
     "output_type": "stream",
     "text": [
      "[19:04:02] WARNING: ../src/learner.cc:1095: Starting in XGBoost 1.3.0, the default evaluation metric used with the objective 'multi:softprob' was changed from 'merror' to 'mlogloss'. Explicitly set eval_metric if you'd like to restore the old behavior.\n",
      "[CV 2/5] END colsample_bynode=0.8, learning_rate=0.1, max_depth=15, n_estimators=100, reg_alpha=0.1, reg_lambda=3e-05;, score=0.726 total time=  51.9s\n"
     ]
    },
    {
     "name": "stderr",
     "output_type": "stream",
     "text": [
      "/home/fscaccheri/.local/lib/python3.6/site-packages/xgboost/sklearn.py:1146: UserWarning: The use of label encoder in XGBClassifier is deprecated and will be removed in a future release. To remove this warning, do the following: 1) Pass option use_label_encoder=False when constructing XGBClassifier object; and 2) Encode your labels (y) as integers starting with 0, i.e. 0, 1, 2, ..., [num_class - 1].\n",
      "  warnings.warn(label_encoder_deprecation_msg, UserWarning)\n",
      "/home/fscaccheri/.local/lib/python3.6/site-packages/sklearn/utils/validation.py:63: DataConversionWarning: A column-vector y was passed when a 1d array was expected. Please change the shape of y to (n_samples, ), for example using ravel().\n",
      "  return f(*args, **kwargs)\n"
     ]
    },
    {
     "name": "stdout",
     "output_type": "stream",
     "text": [
      "[19:04:50] WARNING: ../src/learner.cc:1095: Starting in XGBoost 1.3.0, the default evaluation metric used with the objective 'multi:softprob' was changed from 'merror' to 'mlogloss'. Explicitly set eval_metric if you'd like to restore the old behavior.\n",
      "[CV 3/5] END colsample_bynode=0.8, learning_rate=0.1, max_depth=15, n_estimators=100, reg_alpha=0.1, reg_lambda=3e-05;, score=0.732 total time=  48.2s\n"
     ]
    },
    {
     "name": "stderr",
     "output_type": "stream",
     "text": [
      "/home/fscaccheri/.local/lib/python3.6/site-packages/xgboost/sklearn.py:1146: UserWarning: The use of label encoder in XGBClassifier is deprecated and will be removed in a future release. To remove this warning, do the following: 1) Pass option use_label_encoder=False when constructing XGBClassifier object; and 2) Encode your labels (y) as integers starting with 0, i.e. 0, 1, 2, ..., [num_class - 1].\n",
      "  warnings.warn(label_encoder_deprecation_msg, UserWarning)\n",
      "/home/fscaccheri/.local/lib/python3.6/site-packages/sklearn/utils/validation.py:63: DataConversionWarning: A column-vector y was passed when a 1d array was expected. Please change the shape of y to (n_samples, ), for example using ravel().\n",
      "  return f(*args, **kwargs)\n"
     ]
    },
    {
     "name": "stdout",
     "output_type": "stream",
     "text": [
      "[19:05:39] WARNING: ../src/learner.cc:1095: Starting in XGBoost 1.3.0, the default evaluation metric used with the objective 'multi:softprob' was changed from 'merror' to 'mlogloss'. Explicitly set eval_metric if you'd like to restore the old behavior.\n",
      "[CV 4/5] END colsample_bynode=0.8, learning_rate=0.1, max_depth=15, n_estimators=100, reg_alpha=0.1, reg_lambda=3e-05;, score=0.730 total time=  48.6s\n"
     ]
    },
    {
     "name": "stderr",
     "output_type": "stream",
     "text": [
      "/home/fscaccheri/.local/lib/python3.6/site-packages/xgboost/sklearn.py:1146: UserWarning: The use of label encoder in XGBClassifier is deprecated and will be removed in a future release. To remove this warning, do the following: 1) Pass option use_label_encoder=False when constructing XGBClassifier object; and 2) Encode your labels (y) as integers starting with 0, i.e. 0, 1, 2, ..., [num_class - 1].\n",
      "  warnings.warn(label_encoder_deprecation_msg, UserWarning)\n",
      "/home/fscaccheri/.local/lib/python3.6/site-packages/sklearn/utils/validation.py:63: DataConversionWarning: A column-vector y was passed when a 1d array was expected. Please change the shape of y to (n_samples, ), for example using ravel().\n",
      "  return f(*args, **kwargs)\n"
     ]
    },
    {
     "name": "stdout",
     "output_type": "stream",
     "text": [
      "[19:06:34] WARNING: ../src/learner.cc:1095: Starting in XGBoost 1.3.0, the default evaluation metric used with the objective 'multi:softprob' was changed from 'merror' to 'mlogloss'. Explicitly set eval_metric if you'd like to restore the old behavior.\n",
      "[CV 5/5] END colsample_bynode=0.8, learning_rate=0.1, max_depth=15, n_estimators=100, reg_alpha=0.1, reg_lambda=3e-05;, score=0.729 total time=  55.3s\n"
     ]
    },
    {
     "name": "stderr",
     "output_type": "stream",
     "text": [
      "/home/fscaccheri/.local/lib/python3.6/site-packages/xgboost/sklearn.py:1146: UserWarning: The use of label encoder in XGBClassifier is deprecated and will be removed in a future release. To remove this warning, do the following: 1) Pass option use_label_encoder=False when constructing XGBClassifier object; and 2) Encode your labels (y) as integers starting with 0, i.e. 0, 1, 2, ..., [num_class - 1].\n",
      "  warnings.warn(label_encoder_deprecation_msg, UserWarning)\n",
      "/home/fscaccheri/.local/lib/python3.6/site-packages/sklearn/utils/validation.py:63: DataConversionWarning: A column-vector y was passed when a 1d array was expected. Please change the shape of y to (n_samples, ), for example using ravel().\n",
      "  return f(*args, **kwargs)\n"
     ]
    },
    {
     "name": "stdout",
     "output_type": "stream",
     "text": [
      "[19:07:24] WARNING: ../src/learner.cc:1095: Starting in XGBoost 1.3.0, the default evaluation metric used with the objective 'multi:softprob' was changed from 'merror' to 'mlogloss'. Explicitly set eval_metric if you'd like to restore the old behavior.\n",
      "[CV 1/5] END colsample_bynode=0.8, learning_rate=0.1, max_depth=15, n_estimators=100, reg_alpha=0.5, reg_lambda=1e-05;, score=0.726 total time=  48.8s\n"
     ]
    },
    {
     "name": "stderr",
     "output_type": "stream",
     "text": [
      "/home/fscaccheri/.local/lib/python3.6/site-packages/xgboost/sklearn.py:1146: UserWarning: The use of label encoder in XGBClassifier is deprecated and will be removed in a future release. To remove this warning, do the following: 1) Pass option use_label_encoder=False when constructing XGBClassifier object; and 2) Encode your labels (y) as integers starting with 0, i.e. 0, 1, 2, ..., [num_class - 1].\n",
      "  warnings.warn(label_encoder_deprecation_msg, UserWarning)\n",
      "/home/fscaccheri/.local/lib/python3.6/site-packages/sklearn/utils/validation.py:63: DataConversionWarning: A column-vector y was passed when a 1d array was expected. Please change the shape of y to (n_samples, ), for example using ravel().\n",
      "  return f(*args, **kwargs)\n"
     ]
    },
    {
     "name": "stdout",
     "output_type": "stream",
     "text": [
      "[19:08:12] WARNING: ../src/learner.cc:1095: Starting in XGBoost 1.3.0, the default evaluation metric used with the objective 'multi:softprob' was changed from 'merror' to 'mlogloss'. Explicitly set eval_metric if you'd like to restore the old behavior.\n",
      "[CV 2/5] END colsample_bynode=0.8, learning_rate=0.1, max_depth=15, n_estimators=100, reg_alpha=0.5, reg_lambda=1e-05;, score=0.725 total time=  48.3s\n"
     ]
    },
    {
     "name": "stderr",
     "output_type": "stream",
     "text": [
      "/home/fscaccheri/.local/lib/python3.6/site-packages/xgboost/sklearn.py:1146: UserWarning: The use of label encoder in XGBClassifier is deprecated and will be removed in a future release. To remove this warning, do the following: 1) Pass option use_label_encoder=False when constructing XGBClassifier object; and 2) Encode your labels (y) as integers starting with 0, i.e. 0, 1, 2, ..., [num_class - 1].\n",
      "  warnings.warn(label_encoder_deprecation_msg, UserWarning)\n",
      "/home/fscaccheri/.local/lib/python3.6/site-packages/sklearn/utils/validation.py:63: DataConversionWarning: A column-vector y was passed when a 1d array was expected. Please change the shape of y to (n_samples, ), for example using ravel().\n",
      "  return f(*args, **kwargs)\n"
     ]
    },
    {
     "name": "stdout",
     "output_type": "stream",
     "text": [
      "[19:09:00] WARNING: ../src/learner.cc:1095: Starting in XGBoost 1.3.0, the default evaluation metric used with the objective 'multi:softprob' was changed from 'merror' to 'mlogloss'. Explicitly set eval_metric if you'd like to restore the old behavior.\n",
      "[CV 3/5] END colsample_bynode=0.8, learning_rate=0.1, max_depth=15, n_estimators=100, reg_alpha=0.5, reg_lambda=1e-05;, score=0.732 total time=  48.3s\n"
     ]
    },
    {
     "name": "stderr",
     "output_type": "stream",
     "text": [
      "/home/fscaccheri/.local/lib/python3.6/site-packages/xgboost/sklearn.py:1146: UserWarning: The use of label encoder in XGBClassifier is deprecated and will be removed in a future release. To remove this warning, do the following: 1) Pass option use_label_encoder=False when constructing XGBClassifier object; and 2) Encode your labels (y) as integers starting with 0, i.e. 0, 1, 2, ..., [num_class - 1].\n",
      "  warnings.warn(label_encoder_deprecation_msg, UserWarning)\n",
      "/home/fscaccheri/.local/lib/python3.6/site-packages/sklearn/utils/validation.py:63: DataConversionWarning: A column-vector y was passed when a 1d array was expected. Please change the shape of y to (n_samples, ), for example using ravel().\n",
      "  return f(*args, **kwargs)\n"
     ]
    },
    {
     "name": "stdout",
     "output_type": "stream",
     "text": [
      "[19:09:48] WARNING: ../src/learner.cc:1095: Starting in XGBoost 1.3.0, the default evaluation metric used with the objective 'multi:softprob' was changed from 'merror' to 'mlogloss'. Explicitly set eval_metric if you'd like to restore the old behavior.\n",
      "[CV 4/5] END colsample_bynode=0.8, learning_rate=0.1, max_depth=15, n_estimators=100, reg_alpha=0.5, reg_lambda=1e-05;, score=0.729 total time=  48.0s\n"
     ]
    },
    {
     "name": "stderr",
     "output_type": "stream",
     "text": [
      "/home/fscaccheri/.local/lib/python3.6/site-packages/xgboost/sklearn.py:1146: UserWarning: The use of label encoder in XGBClassifier is deprecated and will be removed in a future release. To remove this warning, do the following: 1) Pass option use_label_encoder=False when constructing XGBClassifier object; and 2) Encode your labels (y) as integers starting with 0, i.e. 0, 1, 2, ..., [num_class - 1].\n",
      "  warnings.warn(label_encoder_deprecation_msg, UserWarning)\n",
      "/home/fscaccheri/.local/lib/python3.6/site-packages/sklearn/utils/validation.py:63: DataConversionWarning: A column-vector y was passed when a 1d array was expected. Please change the shape of y to (n_samples, ), for example using ravel().\n",
      "  return f(*args, **kwargs)\n"
     ]
    },
    {
     "name": "stdout",
     "output_type": "stream",
     "text": [
      "[19:10:37] WARNING: ../src/learner.cc:1095: Starting in XGBoost 1.3.0, the default evaluation metric used with the objective 'multi:softprob' was changed from 'merror' to 'mlogloss'. Explicitly set eval_metric if you'd like to restore the old behavior.\n",
      "[CV 5/5] END colsample_bynode=0.8, learning_rate=0.1, max_depth=15, n_estimators=100, reg_alpha=0.5, reg_lambda=1e-05;, score=0.728 total time=  48.5s\n"
     ]
    },
    {
     "name": "stderr",
     "output_type": "stream",
     "text": [
      "/home/fscaccheri/.local/lib/python3.6/site-packages/xgboost/sklearn.py:1146: UserWarning: The use of label encoder in XGBClassifier is deprecated and will be removed in a future release. To remove this warning, do the following: 1) Pass option use_label_encoder=False when constructing XGBClassifier object; and 2) Encode your labels (y) as integers starting with 0, i.e. 0, 1, 2, ..., [num_class - 1].\n",
      "  warnings.warn(label_encoder_deprecation_msg, UserWarning)\n",
      "/home/fscaccheri/.local/lib/python3.6/site-packages/sklearn/utils/validation.py:63: DataConversionWarning: A column-vector y was passed when a 1d array was expected. Please change the shape of y to (n_samples, ), for example using ravel().\n",
      "  return f(*args, **kwargs)\n"
     ]
    },
    {
     "name": "stdout",
     "output_type": "stream",
     "text": [
      "[19:11:25] WARNING: ../src/learner.cc:1095: Starting in XGBoost 1.3.0, the default evaluation metric used with the objective 'multi:softprob' was changed from 'merror' to 'mlogloss'. Explicitly set eval_metric if you'd like to restore the old behavior.\n",
      "[CV 1/5] END colsample_bynode=0.8, learning_rate=0.1, max_depth=15, n_estimators=100, reg_alpha=0.5, reg_lambda=3e-05;, score=0.726 total time=  48.4s\n"
     ]
    },
    {
     "name": "stderr",
     "output_type": "stream",
     "text": [
      "/home/fscaccheri/.local/lib/python3.6/site-packages/xgboost/sklearn.py:1146: UserWarning: The use of label encoder in XGBClassifier is deprecated and will be removed in a future release. To remove this warning, do the following: 1) Pass option use_label_encoder=False when constructing XGBClassifier object; and 2) Encode your labels (y) as integers starting with 0, i.e. 0, 1, 2, ..., [num_class - 1].\n",
      "  warnings.warn(label_encoder_deprecation_msg, UserWarning)\n",
      "/home/fscaccheri/.local/lib/python3.6/site-packages/sklearn/utils/validation.py:63: DataConversionWarning: A column-vector y was passed when a 1d array was expected. Please change the shape of y to (n_samples, ), for example using ravel().\n",
      "  return f(*args, **kwargs)\n"
     ]
    },
    {
     "name": "stdout",
     "output_type": "stream",
     "text": [
      "[19:12:13] WARNING: ../src/learner.cc:1095: Starting in XGBoost 1.3.0, the default evaluation metric used with the objective 'multi:softprob' was changed from 'merror' to 'mlogloss'. Explicitly set eval_metric if you'd like to restore the old behavior.\n",
      "[CV 2/5] END colsample_bynode=0.8, learning_rate=0.1, max_depth=15, n_estimators=100, reg_alpha=0.5, reg_lambda=3e-05;, score=0.725 total time=  48.1s\n"
     ]
    },
    {
     "name": "stderr",
     "output_type": "stream",
     "text": [
      "/home/fscaccheri/.local/lib/python3.6/site-packages/xgboost/sklearn.py:1146: UserWarning: The use of label encoder in XGBClassifier is deprecated and will be removed in a future release. To remove this warning, do the following: 1) Pass option use_label_encoder=False when constructing XGBClassifier object; and 2) Encode your labels (y) as integers starting with 0, i.e. 0, 1, 2, ..., [num_class - 1].\n",
      "  warnings.warn(label_encoder_deprecation_msg, UserWarning)\n",
      "/home/fscaccheri/.local/lib/python3.6/site-packages/sklearn/utils/validation.py:63: DataConversionWarning: A column-vector y was passed when a 1d array was expected. Please change the shape of y to (n_samples, ), for example using ravel().\n",
      "  return f(*args, **kwargs)\n"
     ]
    },
    {
     "name": "stdout",
     "output_type": "stream",
     "text": [
      "[19:13:01] WARNING: ../src/learner.cc:1095: Starting in XGBoost 1.3.0, the default evaluation metric used with the objective 'multi:softprob' was changed from 'merror' to 'mlogloss'. Explicitly set eval_metric if you'd like to restore the old behavior.\n",
      "[CV 3/5] END colsample_bynode=0.8, learning_rate=0.1, max_depth=15, n_estimators=100, reg_alpha=0.5, reg_lambda=3e-05;, score=0.732 total time=  48.1s\n"
     ]
    },
    {
     "name": "stderr",
     "output_type": "stream",
     "text": [
      "/home/fscaccheri/.local/lib/python3.6/site-packages/xgboost/sklearn.py:1146: UserWarning: The use of label encoder in XGBClassifier is deprecated and will be removed in a future release. To remove this warning, do the following: 1) Pass option use_label_encoder=False when constructing XGBClassifier object; and 2) Encode your labels (y) as integers starting with 0, i.e. 0, 1, 2, ..., [num_class - 1].\n",
      "  warnings.warn(label_encoder_deprecation_msg, UserWarning)\n",
      "/home/fscaccheri/.local/lib/python3.6/site-packages/sklearn/utils/validation.py:63: DataConversionWarning: A column-vector y was passed when a 1d array was expected. Please change the shape of y to (n_samples, ), for example using ravel().\n",
      "  return f(*args, **kwargs)\n"
     ]
    },
    {
     "name": "stdout",
     "output_type": "stream",
     "text": [
      "[19:13:49] WARNING: ../src/learner.cc:1095: Starting in XGBoost 1.3.0, the default evaluation metric used with the objective 'multi:softprob' was changed from 'merror' to 'mlogloss'. Explicitly set eval_metric if you'd like to restore the old behavior.\n",
      "[CV 4/5] END colsample_bynode=0.8, learning_rate=0.1, max_depth=15, n_estimators=100, reg_alpha=0.5, reg_lambda=3e-05;, score=0.729 total time=  47.9s\n"
     ]
    },
    {
     "name": "stderr",
     "output_type": "stream",
     "text": [
      "/home/fscaccheri/.local/lib/python3.6/site-packages/xgboost/sklearn.py:1146: UserWarning: The use of label encoder in XGBClassifier is deprecated and will be removed in a future release. To remove this warning, do the following: 1) Pass option use_label_encoder=False when constructing XGBClassifier object; and 2) Encode your labels (y) as integers starting with 0, i.e. 0, 1, 2, ..., [num_class - 1].\n",
      "  warnings.warn(label_encoder_deprecation_msg, UserWarning)\n",
      "/home/fscaccheri/.local/lib/python3.6/site-packages/sklearn/utils/validation.py:63: DataConversionWarning: A column-vector y was passed when a 1d array was expected. Please change the shape of y to (n_samples, ), for example using ravel().\n",
      "  return f(*args, **kwargs)\n"
     ]
    },
    {
     "name": "stdout",
     "output_type": "stream",
     "text": [
      "[19:14:38] WARNING: ../src/learner.cc:1095: Starting in XGBoost 1.3.0, the default evaluation metric used with the objective 'multi:softprob' was changed from 'merror' to 'mlogloss'. Explicitly set eval_metric if you'd like to restore the old behavior.\n",
      "[CV 5/5] END colsample_bynode=0.8, learning_rate=0.1, max_depth=15, n_estimators=100, reg_alpha=0.5, reg_lambda=3e-05;, score=0.728 total time=  48.5s\n"
     ]
    },
    {
     "name": "stderr",
     "output_type": "stream",
     "text": [
      "/home/fscaccheri/.local/lib/python3.6/site-packages/xgboost/sklearn.py:1146: UserWarning: The use of label encoder in XGBClassifier is deprecated and will be removed in a future release. To remove this warning, do the following: 1) Pass option use_label_encoder=False when constructing XGBClassifier object; and 2) Encode your labels (y) as integers starting with 0, i.e. 0, 1, 2, ..., [num_class - 1].\n",
      "  warnings.warn(label_encoder_deprecation_msg, UserWarning)\n",
      "/home/fscaccheri/.local/lib/python3.6/site-packages/sklearn/utils/validation.py:63: DataConversionWarning: A column-vector y was passed when a 1d array was expected. Please change the shape of y to (n_samples, ), for example using ravel().\n",
      "  return f(*args, **kwargs)\n"
     ]
    },
    {
     "name": "stdout",
     "output_type": "stream",
     "text": [
      "[19:15:36] WARNING: ../src/learner.cc:1095: Starting in XGBoost 1.3.0, the default evaluation metric used with the objective 'multi:softprob' was changed from 'merror' to 'mlogloss'. Explicitly set eval_metric if you'd like to restore the old behavior.\n",
      "[CV 1/5] END colsample_bynode=0.8, learning_rate=0.1, max_depth=15, n_estimators=120, reg_alpha=0.1, reg_lambda=1e-05;, score=0.726 total time=  59.9s\n"
     ]
    },
    {
     "name": "stderr",
     "output_type": "stream",
     "text": [
      "/home/fscaccheri/.local/lib/python3.6/site-packages/xgboost/sklearn.py:1146: UserWarning: The use of label encoder in XGBClassifier is deprecated and will be removed in a future release. To remove this warning, do the following: 1) Pass option use_label_encoder=False when constructing XGBClassifier object; and 2) Encode your labels (y) as integers starting with 0, i.e. 0, 1, 2, ..., [num_class - 1].\n",
      "  warnings.warn(label_encoder_deprecation_msg, UserWarning)\n",
      "/home/fscaccheri/.local/lib/python3.6/site-packages/sklearn/utils/validation.py:63: DataConversionWarning: A column-vector y was passed when a 1d array was expected. Please change the shape of y to (n_samples, ), for example using ravel().\n",
      "  return f(*args, **kwargs)\n"
     ]
    },
    {
     "name": "stdout",
     "output_type": "stream",
     "text": [
      "[19:16:36] WARNING: ../src/learner.cc:1095: Starting in XGBoost 1.3.0, the default evaluation metric used with the objective 'multi:softprob' was changed from 'merror' to 'mlogloss'. Explicitly set eval_metric if you'd like to restore the old behavior.\n",
      "[CV 2/5] END colsample_bynode=0.8, learning_rate=0.1, max_depth=15, n_estimators=120, reg_alpha=0.1, reg_lambda=1e-05;, score=0.726 total time=  59.4s\n"
     ]
    },
    {
     "name": "stderr",
     "output_type": "stream",
     "text": [
      "/home/fscaccheri/.local/lib/python3.6/site-packages/xgboost/sklearn.py:1146: UserWarning: The use of label encoder in XGBClassifier is deprecated and will be removed in a future release. To remove this warning, do the following: 1) Pass option use_label_encoder=False when constructing XGBClassifier object; and 2) Encode your labels (y) as integers starting with 0, i.e. 0, 1, 2, ..., [num_class - 1].\n",
      "  warnings.warn(label_encoder_deprecation_msg, UserWarning)\n",
      "/home/fscaccheri/.local/lib/python3.6/site-packages/sklearn/utils/validation.py:63: DataConversionWarning: A column-vector y was passed when a 1d array was expected. Please change the shape of y to (n_samples, ), for example using ravel().\n",
      "  return f(*args, **kwargs)\n"
     ]
    },
    {
     "name": "stdout",
     "output_type": "stream",
     "text": [
      "[19:17:31] WARNING: ../src/learner.cc:1095: Starting in XGBoost 1.3.0, the default evaluation metric used with the objective 'multi:softprob' was changed from 'merror' to 'mlogloss'. Explicitly set eval_metric if you'd like to restore the old behavior.\n",
      "[CV 3/5] END colsample_bynode=0.8, learning_rate=0.1, max_depth=15, n_estimators=120, reg_alpha=0.1, reg_lambda=1e-05;, score=0.732 total time=  54.9s\n"
     ]
    },
    {
     "name": "stderr",
     "output_type": "stream",
     "text": [
      "/home/fscaccheri/.local/lib/python3.6/site-packages/xgboost/sklearn.py:1146: UserWarning: The use of label encoder in XGBClassifier is deprecated and will be removed in a future release. To remove this warning, do the following: 1) Pass option use_label_encoder=False when constructing XGBClassifier object; and 2) Encode your labels (y) as integers starting with 0, i.e. 0, 1, 2, ..., [num_class - 1].\n",
      "  warnings.warn(label_encoder_deprecation_msg, UserWarning)\n",
      "/home/fscaccheri/.local/lib/python3.6/site-packages/sklearn/utils/validation.py:63: DataConversionWarning: A column-vector y was passed when a 1d array was expected. Please change the shape of y to (n_samples, ), for example using ravel().\n",
      "  return f(*args, **kwargs)\n"
     ]
    },
    {
     "name": "stdout",
     "output_type": "stream",
     "text": [
      "[19:18:25] WARNING: ../src/learner.cc:1095: Starting in XGBoost 1.3.0, the default evaluation metric used with the objective 'multi:softprob' was changed from 'merror' to 'mlogloss'. Explicitly set eval_metric if you'd like to restore the old behavior.\n",
      "[CV 4/5] END colsample_bynode=0.8, learning_rate=0.1, max_depth=15, n_estimators=120, reg_alpha=0.1, reg_lambda=1e-05;, score=0.730 total time=  54.7s\n"
     ]
    },
    {
     "name": "stderr",
     "output_type": "stream",
     "text": [
      "/home/fscaccheri/.local/lib/python3.6/site-packages/xgboost/sklearn.py:1146: UserWarning: The use of label encoder in XGBClassifier is deprecated and will be removed in a future release. To remove this warning, do the following: 1) Pass option use_label_encoder=False when constructing XGBClassifier object; and 2) Encode your labels (y) as integers starting with 0, i.e. 0, 1, 2, ..., [num_class - 1].\n",
      "  warnings.warn(label_encoder_deprecation_msg, UserWarning)\n",
      "/home/fscaccheri/.local/lib/python3.6/site-packages/sklearn/utils/validation.py:63: DataConversionWarning: A column-vector y was passed when a 1d array was expected. Please change the shape of y to (n_samples, ), for example using ravel().\n",
      "  return f(*args, **kwargs)\n"
     ]
    },
    {
     "name": "stdout",
     "output_type": "stream",
     "text": [
      "[19:19:20] WARNING: ../src/learner.cc:1095: Starting in XGBoost 1.3.0, the default evaluation metric used with the objective 'multi:softprob' was changed from 'merror' to 'mlogloss'. Explicitly set eval_metric if you'd like to restore the old behavior.\n",
      "[CV 5/5] END colsample_bynode=0.8, learning_rate=0.1, max_depth=15, n_estimators=120, reg_alpha=0.1, reg_lambda=1e-05;, score=0.729 total time=  55.2s\n"
     ]
    },
    {
     "name": "stderr",
     "output_type": "stream",
     "text": [
      "/home/fscaccheri/.local/lib/python3.6/site-packages/xgboost/sklearn.py:1146: UserWarning: The use of label encoder in XGBClassifier is deprecated and will be removed in a future release. To remove this warning, do the following: 1) Pass option use_label_encoder=False when constructing XGBClassifier object; and 2) Encode your labels (y) as integers starting with 0, i.e. 0, 1, 2, ..., [num_class - 1].\n",
      "  warnings.warn(label_encoder_deprecation_msg, UserWarning)\n",
      "/home/fscaccheri/.local/lib/python3.6/site-packages/sklearn/utils/validation.py:63: DataConversionWarning: A column-vector y was passed when a 1d array was expected. Please change the shape of y to (n_samples, ), for example using ravel().\n",
      "  return f(*args, **kwargs)\n"
     ]
    },
    {
     "name": "stdout",
     "output_type": "stream",
     "text": [
      "[19:20:16] WARNING: ../src/learner.cc:1095: Starting in XGBoost 1.3.0, the default evaluation metric used with the objective 'multi:softprob' was changed from 'merror' to 'mlogloss'. Explicitly set eval_metric if you'd like to restore the old behavior.\n",
      "[CV 1/5] END colsample_bynode=0.8, learning_rate=0.1, max_depth=15, n_estimators=120, reg_alpha=0.1, reg_lambda=3e-05;, score=0.726 total time=  55.5s\n"
     ]
    },
    {
     "name": "stderr",
     "output_type": "stream",
     "text": [
      "/home/fscaccheri/.local/lib/python3.6/site-packages/xgboost/sklearn.py:1146: UserWarning: The use of label encoder in XGBClassifier is deprecated and will be removed in a future release. To remove this warning, do the following: 1) Pass option use_label_encoder=False when constructing XGBClassifier object; and 2) Encode your labels (y) as integers starting with 0, i.e. 0, 1, 2, ..., [num_class - 1].\n",
      "  warnings.warn(label_encoder_deprecation_msg, UserWarning)\n",
      "/home/fscaccheri/.local/lib/python3.6/site-packages/sklearn/utils/validation.py:63: DataConversionWarning: A column-vector y was passed when a 1d array was expected. Please change the shape of y to (n_samples, ), for example using ravel().\n",
      "  return f(*args, **kwargs)\n"
     ]
    },
    {
     "name": "stdout",
     "output_type": "stream",
     "text": [
      "[19:21:11] WARNING: ../src/learner.cc:1095: Starting in XGBoost 1.3.0, the default evaluation metric used with the objective 'multi:softprob' was changed from 'merror' to 'mlogloss'. Explicitly set eval_metric if you'd like to restore the old behavior.\n",
      "[CV 2/5] END colsample_bynode=0.8, learning_rate=0.1, max_depth=15, n_estimators=120, reg_alpha=0.1, reg_lambda=3e-05;, score=0.726 total time=  55.3s\n"
     ]
    },
    {
     "name": "stderr",
     "output_type": "stream",
     "text": [
      "/home/fscaccheri/.local/lib/python3.6/site-packages/xgboost/sklearn.py:1146: UserWarning: The use of label encoder in XGBClassifier is deprecated and will be removed in a future release. To remove this warning, do the following: 1) Pass option use_label_encoder=False when constructing XGBClassifier object; and 2) Encode your labels (y) as integers starting with 0, i.e. 0, 1, 2, ..., [num_class - 1].\n",
      "  warnings.warn(label_encoder_deprecation_msg, UserWarning)\n",
      "/home/fscaccheri/.local/lib/python3.6/site-packages/sklearn/utils/validation.py:63: DataConversionWarning: A column-vector y was passed when a 1d array was expected. Please change the shape of y to (n_samples, ), for example using ravel().\n",
      "  return f(*args, **kwargs)\n"
     ]
    },
    {
     "name": "stdout",
     "output_type": "stream",
     "text": [
      "[19:22:06] WARNING: ../src/learner.cc:1095: Starting in XGBoost 1.3.0, the default evaluation metric used with the objective 'multi:softprob' was changed from 'merror' to 'mlogloss'. Explicitly set eval_metric if you'd like to restore the old behavior.\n",
      "[CV 3/5] END colsample_bynode=0.8, learning_rate=0.1, max_depth=15, n_estimators=120, reg_alpha=0.1, reg_lambda=3e-05;, score=0.732 total time=  54.6s\n"
     ]
    },
    {
     "name": "stderr",
     "output_type": "stream",
     "text": [
      "/home/fscaccheri/.local/lib/python3.6/site-packages/xgboost/sklearn.py:1146: UserWarning: The use of label encoder in XGBClassifier is deprecated and will be removed in a future release. To remove this warning, do the following: 1) Pass option use_label_encoder=False when constructing XGBClassifier object; and 2) Encode your labels (y) as integers starting with 0, i.e. 0, 1, 2, ..., [num_class - 1].\n",
      "  warnings.warn(label_encoder_deprecation_msg, UserWarning)\n",
      "/home/fscaccheri/.local/lib/python3.6/site-packages/sklearn/utils/validation.py:63: DataConversionWarning: A column-vector y was passed when a 1d array was expected. Please change the shape of y to (n_samples, ), for example using ravel().\n",
      "  return f(*args, **kwargs)\n"
     ]
    },
    {
     "name": "stdout",
     "output_type": "stream",
     "text": [
      "[19:23:01] WARNING: ../src/learner.cc:1095: Starting in XGBoost 1.3.0, the default evaluation metric used with the objective 'multi:softprob' was changed from 'merror' to 'mlogloss'. Explicitly set eval_metric if you'd like to restore the old behavior.\n",
      "[CV 4/5] END colsample_bynode=0.8, learning_rate=0.1, max_depth=15, n_estimators=120, reg_alpha=0.1, reg_lambda=3e-05;, score=0.730 total time=  55.2s\n"
     ]
    },
    {
     "name": "stderr",
     "output_type": "stream",
     "text": [
      "/home/fscaccheri/.local/lib/python3.6/site-packages/xgboost/sklearn.py:1146: UserWarning: The use of label encoder in XGBClassifier is deprecated and will be removed in a future release. To remove this warning, do the following: 1) Pass option use_label_encoder=False when constructing XGBClassifier object; and 2) Encode your labels (y) as integers starting with 0, i.e. 0, 1, 2, ..., [num_class - 1].\n",
      "  warnings.warn(label_encoder_deprecation_msg, UserWarning)\n",
      "/home/fscaccheri/.local/lib/python3.6/site-packages/sklearn/utils/validation.py:63: DataConversionWarning: A column-vector y was passed when a 1d array was expected. Please change the shape of y to (n_samples, ), for example using ravel().\n",
      "  return f(*args, **kwargs)\n"
     ]
    },
    {
     "name": "stdout",
     "output_type": "stream",
     "text": [
      "[19:23:56] WARNING: ../src/learner.cc:1095: Starting in XGBoost 1.3.0, the default evaluation metric used with the objective 'multi:softprob' was changed from 'merror' to 'mlogloss'. Explicitly set eval_metric if you'd like to restore the old behavior.\n",
      "[CV 5/5] END colsample_bynode=0.8, learning_rate=0.1, max_depth=15, n_estimators=120, reg_alpha=0.1, reg_lambda=3e-05;, score=0.729 total time=  55.1s\n"
     ]
    },
    {
     "name": "stderr",
     "output_type": "stream",
     "text": [
      "/home/fscaccheri/.local/lib/python3.6/site-packages/xgboost/sklearn.py:1146: UserWarning: The use of label encoder in XGBClassifier is deprecated and will be removed in a future release. To remove this warning, do the following: 1) Pass option use_label_encoder=False when constructing XGBClassifier object; and 2) Encode your labels (y) as integers starting with 0, i.e. 0, 1, 2, ..., [num_class - 1].\n",
      "  warnings.warn(label_encoder_deprecation_msg, UserWarning)\n",
      "/home/fscaccheri/.local/lib/python3.6/site-packages/sklearn/utils/validation.py:63: DataConversionWarning: A column-vector y was passed when a 1d array was expected. Please change the shape of y to (n_samples, ), for example using ravel().\n",
      "  return f(*args, **kwargs)\n"
     ]
    },
    {
     "name": "stdout",
     "output_type": "stream",
     "text": [
      "[19:24:51] WARNING: ../src/learner.cc:1095: Starting in XGBoost 1.3.0, the default evaluation metric used with the objective 'multi:softprob' was changed from 'merror' to 'mlogloss'. Explicitly set eval_metric if you'd like to restore the old behavior.\n",
      "[CV 1/5] END colsample_bynode=0.8, learning_rate=0.1, max_depth=15, n_estimators=120, reg_alpha=0.5, reg_lambda=1e-05;, score=0.726 total time=  53.4s\n"
     ]
    },
    {
     "name": "stderr",
     "output_type": "stream",
     "text": [
      "/home/fscaccheri/.local/lib/python3.6/site-packages/xgboost/sklearn.py:1146: UserWarning: The use of label encoder in XGBClassifier is deprecated and will be removed in a future release. To remove this warning, do the following: 1) Pass option use_label_encoder=False when constructing XGBClassifier object; and 2) Encode your labels (y) as integers starting with 0, i.e. 0, 1, 2, ..., [num_class - 1].\n",
      "  warnings.warn(label_encoder_deprecation_msg, UserWarning)\n",
      "/home/fscaccheri/.local/lib/python3.6/site-packages/sklearn/utils/validation.py:63: DataConversionWarning: A column-vector y was passed when a 1d array was expected. Please change the shape of y to (n_samples, ), for example using ravel().\n",
      "  return f(*args, **kwargs)\n"
     ]
    },
    {
     "name": "stdout",
     "output_type": "stream",
     "text": [
      "[19:26:03] WARNING: ../src/learner.cc:1095: Starting in XGBoost 1.3.0, the default evaluation metric used with the objective 'multi:softprob' was changed from 'merror' to 'mlogloss'. Explicitly set eval_metric if you'd like to restore the old behavior.\n",
      "[CV 2/5] END colsample_bynode=0.8, learning_rate=0.1, max_depth=15, n_estimators=120, reg_alpha=0.5, reg_lambda=1e-05;, score=0.726 total time= 1.2min\n"
     ]
    },
    {
     "name": "stderr",
     "output_type": "stream",
     "text": [
      "/home/fscaccheri/.local/lib/python3.6/site-packages/xgboost/sklearn.py:1146: UserWarning: The use of label encoder in XGBClassifier is deprecated and will be removed in a future release. To remove this warning, do the following: 1) Pass option use_label_encoder=False when constructing XGBClassifier object; and 2) Encode your labels (y) as integers starting with 0, i.e. 0, 1, 2, ..., [num_class - 1].\n",
      "  warnings.warn(label_encoder_deprecation_msg, UserWarning)\n",
      "/home/fscaccheri/.local/lib/python3.6/site-packages/sklearn/utils/validation.py:63: DataConversionWarning: A column-vector y was passed when a 1d array was expected. Please change the shape of y to (n_samples, ), for example using ravel().\n",
      "  return f(*args, **kwargs)\n"
     ]
    },
    {
     "name": "stdout",
     "output_type": "stream",
     "text": [
      "[19:27:05] WARNING: ../src/learner.cc:1095: Starting in XGBoost 1.3.0, the default evaluation metric used with the objective 'multi:softprob' was changed from 'merror' to 'mlogloss'. Explicitly set eval_metric if you'd like to restore the old behavior.\n",
      "[CV 3/5] END colsample_bynode=0.8, learning_rate=0.1, max_depth=15, n_estimators=120, reg_alpha=0.5, reg_lambda=1e-05;, score=0.732 total time= 1.0min\n"
     ]
    },
    {
     "name": "stderr",
     "output_type": "stream",
     "text": [
      "/home/fscaccheri/.local/lib/python3.6/site-packages/xgboost/sklearn.py:1146: UserWarning: The use of label encoder in XGBClassifier is deprecated and will be removed in a future release. To remove this warning, do the following: 1) Pass option use_label_encoder=False when constructing XGBClassifier object; and 2) Encode your labels (y) as integers starting with 0, i.e. 0, 1, 2, ..., [num_class - 1].\n",
      "  warnings.warn(label_encoder_deprecation_msg, UserWarning)\n",
      "/home/fscaccheri/.local/lib/python3.6/site-packages/sklearn/utils/validation.py:63: DataConversionWarning: A column-vector y was passed when a 1d array was expected. Please change the shape of y to (n_samples, ), for example using ravel().\n",
      "  return f(*args, **kwargs)\n"
     ]
    },
    {
     "name": "stdout",
     "output_type": "stream",
     "text": [
      "[19:28:11] WARNING: ../src/learner.cc:1095: Starting in XGBoost 1.3.0, the default evaluation metric used with the objective 'multi:softprob' was changed from 'merror' to 'mlogloss'. Explicitly set eval_metric if you'd like to restore the old behavior.\n",
      "[CV 4/5] END colsample_bynode=0.8, learning_rate=0.1, max_depth=15, n_estimators=120, reg_alpha=0.5, reg_lambda=1e-05;, score=0.730 total time= 1.1min\n"
     ]
    },
    {
     "name": "stderr",
     "output_type": "stream",
     "text": [
      "/home/fscaccheri/.local/lib/python3.6/site-packages/xgboost/sklearn.py:1146: UserWarning: The use of label encoder in XGBClassifier is deprecated and will be removed in a future release. To remove this warning, do the following: 1) Pass option use_label_encoder=False when constructing XGBClassifier object; and 2) Encode your labels (y) as integers starting with 0, i.e. 0, 1, 2, ..., [num_class - 1].\n",
      "  warnings.warn(label_encoder_deprecation_msg, UserWarning)\n",
      "/home/fscaccheri/.local/lib/python3.6/site-packages/sklearn/utils/validation.py:63: DataConversionWarning: A column-vector y was passed when a 1d array was expected. Please change the shape of y to (n_samples, ), for example using ravel().\n",
      "  return f(*args, **kwargs)\n"
     ]
    },
    {
     "name": "stdout",
     "output_type": "stream",
     "text": [
      "[19:29:22] WARNING: ../src/learner.cc:1095: Starting in XGBoost 1.3.0, the default evaluation metric used with the objective 'multi:softprob' was changed from 'merror' to 'mlogloss'. Explicitly set eval_metric if you'd like to restore the old behavior.\n",
      "[CV 5/5] END colsample_bynode=0.8, learning_rate=0.1, max_depth=15, n_estimators=120, reg_alpha=0.5, reg_lambda=1e-05;, score=0.729 total time= 1.2min\n"
     ]
    },
    {
     "name": "stderr",
     "output_type": "stream",
     "text": [
      "/home/fscaccheri/.local/lib/python3.6/site-packages/xgboost/sklearn.py:1146: UserWarning: The use of label encoder in XGBClassifier is deprecated and will be removed in a future release. To remove this warning, do the following: 1) Pass option use_label_encoder=False when constructing XGBClassifier object; and 2) Encode your labels (y) as integers starting with 0, i.e. 0, 1, 2, ..., [num_class - 1].\n",
      "  warnings.warn(label_encoder_deprecation_msg, UserWarning)\n",
      "/home/fscaccheri/.local/lib/python3.6/site-packages/sklearn/utils/validation.py:63: DataConversionWarning: A column-vector y was passed when a 1d array was expected. Please change the shape of y to (n_samples, ), for example using ravel().\n",
      "  return f(*args, **kwargs)\n"
     ]
    },
    {
     "name": "stdout",
     "output_type": "stream",
     "text": [
      "[19:30:34] WARNING: ../src/learner.cc:1095: Starting in XGBoost 1.3.0, the default evaluation metric used with the objective 'multi:softprob' was changed from 'merror' to 'mlogloss'. Explicitly set eval_metric if you'd like to restore the old behavior.\n",
      "[CV 1/5] END colsample_bynode=0.8, learning_rate=0.1, max_depth=15, n_estimators=120, reg_alpha=0.5, reg_lambda=3e-05;, score=0.726 total time= 1.2min\n"
     ]
    },
    {
     "name": "stderr",
     "output_type": "stream",
     "text": [
      "/home/fscaccheri/.local/lib/python3.6/site-packages/xgboost/sklearn.py:1146: UserWarning: The use of label encoder in XGBClassifier is deprecated and will be removed in a future release. To remove this warning, do the following: 1) Pass option use_label_encoder=False when constructing XGBClassifier object; and 2) Encode your labels (y) as integers starting with 0, i.e. 0, 1, 2, ..., [num_class - 1].\n",
      "  warnings.warn(label_encoder_deprecation_msg, UserWarning)\n",
      "/home/fscaccheri/.local/lib/python3.6/site-packages/sklearn/utils/validation.py:63: DataConversionWarning: A column-vector y was passed when a 1d array was expected. Please change the shape of y to (n_samples, ), for example using ravel().\n",
      "  return f(*args, **kwargs)\n"
     ]
    },
    {
     "name": "stdout",
     "output_type": "stream",
     "text": [
      "[19:31:45] WARNING: ../src/learner.cc:1095: Starting in XGBoost 1.3.0, the default evaluation metric used with the objective 'multi:softprob' was changed from 'merror' to 'mlogloss'. Explicitly set eval_metric if you'd like to restore the old behavior.\n",
      "[CV 2/5] END colsample_bynode=0.8, learning_rate=0.1, max_depth=15, n_estimators=120, reg_alpha=0.5, reg_lambda=3e-05;, score=0.726 total time= 1.2min\n"
     ]
    },
    {
     "name": "stderr",
     "output_type": "stream",
     "text": [
      "/home/fscaccheri/.local/lib/python3.6/site-packages/xgboost/sklearn.py:1146: UserWarning: The use of label encoder in XGBClassifier is deprecated and will be removed in a future release. To remove this warning, do the following: 1) Pass option use_label_encoder=False when constructing XGBClassifier object; and 2) Encode your labels (y) as integers starting with 0, i.e. 0, 1, 2, ..., [num_class - 1].\n",
      "  warnings.warn(label_encoder_deprecation_msg, UserWarning)\n",
      "/home/fscaccheri/.local/lib/python3.6/site-packages/sklearn/utils/validation.py:63: DataConversionWarning: A column-vector y was passed when a 1d array was expected. Please change the shape of y to (n_samples, ), for example using ravel().\n",
      "  return f(*args, **kwargs)\n"
     ]
    },
    {
     "name": "stdout",
     "output_type": "stream",
     "text": [
      "[19:32:51] WARNING: ../src/learner.cc:1095: Starting in XGBoost 1.3.0, the default evaluation metric used with the objective 'multi:softprob' was changed from 'merror' to 'mlogloss'. Explicitly set eval_metric if you'd like to restore the old behavior.\n",
      "[CV 3/5] END colsample_bynode=0.8, learning_rate=0.1, max_depth=15, n_estimators=120, reg_alpha=0.5, reg_lambda=3e-05;, score=0.732 total time= 1.1min\n"
     ]
    },
    {
     "name": "stderr",
     "output_type": "stream",
     "text": [
      "/home/fscaccheri/.local/lib/python3.6/site-packages/xgboost/sklearn.py:1146: UserWarning: The use of label encoder in XGBClassifier is deprecated and will be removed in a future release. To remove this warning, do the following: 1) Pass option use_label_encoder=False when constructing XGBClassifier object; and 2) Encode your labels (y) as integers starting with 0, i.e. 0, 1, 2, ..., [num_class - 1].\n",
      "  warnings.warn(label_encoder_deprecation_msg, UserWarning)\n",
      "/home/fscaccheri/.local/lib/python3.6/site-packages/sklearn/utils/validation.py:63: DataConversionWarning: A column-vector y was passed when a 1d array was expected. Please change the shape of y to (n_samples, ), for example using ravel().\n",
      "  return f(*args, **kwargs)\n"
     ]
    },
    {
     "name": "stdout",
     "output_type": "stream",
     "text": [
      "[19:34:00] WARNING: ../src/learner.cc:1095: Starting in XGBoost 1.3.0, the default evaluation metric used with the objective 'multi:softprob' was changed from 'merror' to 'mlogloss'. Explicitly set eval_metric if you'd like to restore the old behavior.\n",
      "[CV 4/5] END colsample_bynode=0.8, learning_rate=0.1, max_depth=15, n_estimators=120, reg_alpha=0.5, reg_lambda=3e-05;, score=0.730 total time= 1.1min\n"
     ]
    },
    {
     "name": "stderr",
     "output_type": "stream",
     "text": [
      "/home/fscaccheri/.local/lib/python3.6/site-packages/xgboost/sklearn.py:1146: UserWarning: The use of label encoder in XGBClassifier is deprecated and will be removed in a future release. To remove this warning, do the following: 1) Pass option use_label_encoder=False when constructing XGBClassifier object; and 2) Encode your labels (y) as integers starting with 0, i.e. 0, 1, 2, ..., [num_class - 1].\n",
      "  warnings.warn(label_encoder_deprecation_msg, UserWarning)\n",
      "/home/fscaccheri/.local/lib/python3.6/site-packages/sklearn/utils/validation.py:63: DataConversionWarning: A column-vector y was passed when a 1d array was expected. Please change the shape of y to (n_samples, ), for example using ravel().\n",
      "  return f(*args, **kwargs)\n"
     ]
    },
    {
     "name": "stdout",
     "output_type": "stream",
     "text": [
      "[19:35:10] WARNING: ../src/learner.cc:1095: Starting in XGBoost 1.3.0, the default evaluation metric used with the objective 'multi:softprob' was changed from 'merror' to 'mlogloss'. Explicitly set eval_metric if you'd like to restore the old behavior.\n",
      "[CV 5/5] END colsample_bynode=0.8, learning_rate=0.1, max_depth=15, n_estimators=120, reg_alpha=0.5, reg_lambda=3e-05;, score=0.729 total time= 1.2min\n"
     ]
    },
    {
     "name": "stderr",
     "output_type": "stream",
     "text": [
      "/home/fscaccheri/.local/lib/python3.6/site-packages/xgboost/sklearn.py:1146: UserWarning: The use of label encoder in XGBClassifier is deprecated and will be removed in a future release. To remove this warning, do the following: 1) Pass option use_label_encoder=False when constructing XGBClassifier object; and 2) Encode your labels (y) as integers starting with 0, i.e. 0, 1, 2, ..., [num_class - 1].\n",
      "  warnings.warn(label_encoder_deprecation_msg, UserWarning)\n",
      "/home/fscaccheri/.local/lib/python3.6/site-packages/sklearn/utils/validation.py:63: DataConversionWarning: A column-vector y was passed when a 1d array was expected. Please change the shape of y to (n_samples, ), for example using ravel().\n",
      "  return f(*args, **kwargs)\n"
     ]
    },
    {
     "name": "stdout",
     "output_type": "stream",
     "text": [
      "[19:36:21] WARNING: ../src/learner.cc:1095: Starting in XGBoost 1.3.0, the default evaluation metric used with the objective 'multi:softprob' was changed from 'merror' to 'mlogloss'. Explicitly set eval_metric if you'd like to restore the old behavior.\n"
     ]
    },
    {
     "data": {
      "text/plain": [
       "GridSearchCV(cv=5,\n",
       "             estimator=XGBRFClassifier(base_score=None, booster=None,\n",
       "                                       colsample_bylevel=None,\n",
       "                                       colsample_bytree=None, gamma=None,\n",
       "                                       gpu_id=None, importance_type='gain',\n",
       "                                       interaction_constraints=None,\n",
       "                                       max_delta_step=None, max_depth=10,\n",
       "                                       min_child_weight=None, missing=nan,\n",
       "                                       monotone_constraints=None,\n",
       "                                       n_estimators=100, n_jobs=None,\n",
       "                                       num_parallel_tree=None,\n",
       "                                       objective='binary:logistic',\n",
       "                                       random_state=40, reg_alpha=None,\n",
       "                                       scale_pos_weight=None, tree_method=None,\n",
       "                                       validate_parameters=None,\n",
       "                                       verbosity=None),\n",
       "             param_grid={'colsample_bynode': [0.3, 0.8],\n",
       "                         'learning_rate': [0.03, 0.1], 'max_depth': [10, 15],\n",
       "                         'n_estimators': [100, 120], 'reg_alpha': [0.1, 0.5],\n",
       "                         'reg_lambda': [1e-05, 3e-05]},\n",
       "             verbose=3)"
      ]
     },
     "execution_count": 106,
     "metadata": {},
     "output_type": "execute_result"
    }
   ],
   "source": [
    "gs.fit(x_train, y_train)"
   ]
  },
  {
   "cell_type": "code",
   "execution_count": 107,
   "id": "734f744c",
   "metadata": {},
   "outputs": [
    {
     "data": {
      "text/plain": [
       "{'colsample_bynode': 0.8,\n",
       " 'learning_rate': 0.1,\n",
       " 'max_depth': 15,\n",
       " 'n_estimators': 100,\n",
       " 'reg_alpha': 0.1,\n",
       " 'reg_lambda': 3e-05}"
      ]
     },
     "execution_count": 107,
     "metadata": {},
     "output_type": "execute_result"
    }
   ],
   "source": [
    "gs.best_params_"
   ]
  },
  {
   "cell_type": "code",
   "execution_count": 123,
   "id": "78c7f101",
   "metadata": {},
   "outputs": [
    {
     "name": "stderr",
     "output_type": "stream",
     "text": [
      "/home/fscaccheri/.local/lib/python3.6/site-packages/xgboost/sklearn.py:1146: UserWarning: The use of label encoder in XGBClassifier is deprecated and will be removed in a future release. To remove this warning, do the following: 1) Pass option use_label_encoder=False when constructing XGBClassifier object; and 2) Encode your labels (y) as integers starting with 0, i.e. 0, 1, 2, ..., [num_class - 1].\n",
      "  warnings.warn(label_encoder_deprecation_msg, UserWarning)\n",
      "/home/fscaccheri/.local/lib/python3.6/site-packages/sklearn/utils/validation.py:63: DataConversionWarning: A column-vector y was passed when a 1d array was expected. Please change the shape of y to (n_samples, ), for example using ravel().\n",
      "  return f(*args, **kwargs)\n"
     ]
    },
    {
     "name": "stdout",
     "output_type": "stream",
     "text": [
      "[21:32:21] WARNING: ../src/learner.cc:1095: Starting in XGBoost 1.3.0, the default evaluation metric used with the objective 'multi:softprob' was changed from 'merror' to 'mlogloss'. Explicitly set eval_metric if you'd like to restore the old behavior.\n",
      "[21:32:50] WARNING: ../src/learner.cc:1095: Starting in XGBoost 1.3.0, the default evaluation metric used with the objective 'multi:softprob' was changed from 'merror' to 'mlogloss'. Explicitly set eval_metric if you'd like to restore the old behavior.\n",
      "[21:33:18] WARNING: ../src/learner.cc:1095: Starting in XGBoost 1.3.0, the default evaluation metric used with the objective 'multi:softprob' was changed from 'merror' to 'mlogloss'. Explicitly set eval_metric if you'd like to restore the old behavior.\n"
     ]
    },
    {
     "data": {
      "text/plain": [
       "'\\nparametros del intento anterior\\nrandom_state=40,\\ncolsample_bynode=0.8,\\nlearning_rate=0.3,\\nmax_depth=10,\\nn_estimators= 100,\\nreg_alpha=0.5,\\nreg_lambda=1e-05\\n\\nlos nuevos:\\nrandom_state=40,\\ncolsample_bynode=0.8,\\nlearning_rate=0.1,\\nmax_depth=15,\\nn_estimators= 100,\\nreg_alpha=0.1,\\nreg_lambda=3e-05\\n'"
      ]
     },
     "execution_count": 123,
     "metadata": {},
     "output_type": "execute_result"
    }
   ],
   "source": [
    "kf = KFold(n_splits=3)\n",
    "for train_index, test_index in kf.split(arr_y, arr_y):\n",
    "    xgb_model = xgb.XGBRFClassifier(\n",
    "        random_state=40,\n",
    "        colsample_bynode=0.8,\n",
    "        learning_rate=0.1,\n",
    "        max_depth=15,\n",
    "        n_estimators= 100,\n",
    "        reg_alpha=0.1,\n",
    "        reg_lambda=3e-05\n",
    "    )\n",
    "    xgb_model.fit(arr_x[train_index], arr_y[train_index])\n",
    "    \n",
    "'''\n",
    "parametros del intento anterior\n",
    "random_state=40,\n",
    "colsample_bynode=0.8,\n",
    "learning_rate=0.3,\n",
    "max_depth=10,\n",
    "n_estimators= 100,\n",
    "reg_alpha=0.5,\n",
    "reg_lambda=1e-05\n",
    "'''"
   ]
  },
  {
   "cell_type": "code",
   "execution_count": 124,
   "id": "321d1d55",
   "metadata": {},
   "outputs": [
    {
     "name": "stdout",
     "output_type": "stream",
     "text": [
      "accuracy=70.12%\n"
     ]
    }
   ],
   "source": [
    "score = xgb_model.score(x, y)\n",
    "print(\"accuracy=%.2f%%\" % ( score * 100))"
   ]
  },
  {
   "cell_type": "markdown",
   "id": "9f1943d3",
   "metadata": {},
   "source": [
    "# Catboost"
   ]
  },
  {
   "cell_type": "code",
   "execution_count": 88,
   "id": "d866811f",
   "metadata": {},
   "outputs": [],
   "source": [
    "cbm = CatBoostClassifier(\n",
    "    learning_rate=0.3,\n",
    "    depth=5,\n",
    "    loss_function='MultiClass'\n",
    ")\n",
    "\n",
    "#cbm.fit(x, y)"
   ]
  },
  {
   "cell_type": "code",
   "execution_count": 49,
   "id": "ba5dfac0",
   "metadata": {},
   "outputs": [
    {
     "data": {
      "text/plain": [
       "0.7482051104945875"
      ]
     },
     "execution_count": 49,
     "metadata": {},
     "output_type": "execute_result"
    }
   ],
   "source": [
    "from sklearn.metrics import f1_score\n",
    "\n",
    "preds = cbm.predict(x)\n",
    "f1_score(y, preds, average='micro')"
   ]
  },
  {
   "cell_type": "code",
   "execution_count": 50,
   "id": "a1517569",
   "metadata": {},
   "outputs": [
    {
     "data": {
      "text/plain": [
       "0.7482051104945875"
      ]
     },
     "execution_count": 50,
     "metadata": {},
     "output_type": "execute_result"
    }
   ],
   "source": [
    "cbm.score(x,y)"
   ]
  },
  {
   "cell_type": "markdown",
   "id": "05ed8596",
   "metadata": {},
   "source": [
    "# VotingClassifier"
   ]
  },
  {
   "cell_type": "code",
   "execution_count": 52,
   "id": "a08973de",
   "metadata": {},
   "outputs": [],
   "source": [
    "from sklearn.ensemble import VotingClassifier"
   ]
  },
  {
   "cell_type": "code",
   "execution_count": 125,
   "id": "ea297273",
   "metadata": {},
   "outputs": [],
   "source": [
    "eclf = VotingClassifier(estimators=[('rf', clfRF),('xgb', xgb_model), ('cb', cbm)], voting='soft')"
   ]
  },
  {
   "cell_type": "code",
   "execution_count": 111,
   "id": "2550dd73",
   "metadata": {},
   "outputs": [
    {
     "name": "stderr",
     "output_type": "stream",
     "text": [
      "/home/fscaccheri/.local/lib/python3.6/site-packages/sklearn/utils/validation.py:63: DataConversionWarning: A column-vector y was passed when a 1d array was expected. Please change the shape of y to (n_samples, ), for example using ravel().\n",
      "  return f(*args, **kwargs)\n",
      "/home/fscaccheri/.local/lib/python3.6/site-packages/xgboost/sklearn.py:1146: UserWarning: The use of label encoder in XGBClassifier is deprecated and will be removed in a future release. To remove this warning, do the following: 1) Pass option use_label_encoder=False when constructing XGBClassifier object; and 2) Encode your labels (y) as integers starting with 0, i.e. 0, 1, 2, ..., [num_class - 1].\n",
      "  warnings.warn(label_encoder_deprecation_msg, UserWarning)\n"
     ]
    },
    {
     "name": "stdout",
     "output_type": "stream",
     "text": [
      "[20:09:05] WARNING: ../src/learner.cc:1095: Starting in XGBoost 1.3.0, the default evaluation metric used with the objective 'multi:softprob' was changed from 'merror' to 'mlogloss'. Explicitly set eval_metric if you'd like to restore the old behavior.\n",
      "0:\tlearn: 0.9685935\ttotal: 50.3ms\tremaining: 50.2s\n",
      "1:\tlearn: 0.8864004\ttotal: 90.4ms\tremaining: 45.1s\n",
      "2:\tlearn: 0.8423944\ttotal: 132ms\tremaining: 43.8s\n",
      "3:\tlearn: 0.8130961\ttotal: 165ms\tremaining: 41s\n",
      "4:\tlearn: 0.7898322\ttotal: 205ms\tremaining: 40.8s\n",
      "5:\tlearn: 0.7740178\ttotal: 243ms\tremaining: 40.3s\n",
      "6:\tlearn: 0.7647921\ttotal: 292ms\tremaining: 41.4s\n",
      "7:\tlearn: 0.7548027\ttotal: 336ms\tremaining: 41.6s\n",
      "8:\tlearn: 0.7444708\ttotal: 389ms\tremaining: 42.8s\n",
      "9:\tlearn: 0.7386741\ttotal: 428ms\tremaining: 42.4s\n",
      "10:\tlearn: 0.7325371\ttotal: 479ms\tremaining: 43s\n",
      "11:\tlearn: 0.7280504\ttotal: 516ms\tremaining: 42.4s\n",
      "12:\tlearn: 0.7254275\ttotal: 552ms\tremaining: 41.9s\n",
      "13:\tlearn: 0.7223992\ttotal: 585ms\tremaining: 41.2s\n",
      "14:\tlearn: 0.7181275\ttotal: 628ms\tremaining: 41.2s\n",
      "15:\tlearn: 0.7163829\ttotal: 665ms\tremaining: 40.9s\n",
      "16:\tlearn: 0.7145922\ttotal: 700ms\tremaining: 40.5s\n",
      "17:\tlearn: 0.7125773\ttotal: 749ms\tremaining: 40.9s\n",
      "18:\tlearn: 0.7112903\ttotal: 777ms\tremaining: 40.1s\n",
      "19:\tlearn: 0.7094141\ttotal: 813ms\tremaining: 39.8s\n",
      "20:\tlearn: 0.7079984\ttotal: 855ms\tremaining: 39.9s\n",
      "21:\tlearn: 0.7058453\ttotal: 920ms\tremaining: 40.9s\n",
      "22:\tlearn: 0.7037922\ttotal: 971ms\tremaining: 41.2s\n",
      "23:\tlearn: 0.7026335\ttotal: 1.02s\tremaining: 41.4s\n",
      "24:\tlearn: 0.7016806\ttotal: 1.06s\tremaining: 41.3s\n",
      "25:\tlearn: 0.7008841\ttotal: 1.1s\tremaining: 41.1s\n",
      "26:\tlearn: 0.6997447\ttotal: 1.14s\tremaining: 41s\n",
      "27:\tlearn: 0.6990288\ttotal: 1.17s\tremaining: 40.7s\n",
      "28:\tlearn: 0.6985217\ttotal: 1.2s\tremaining: 40.2s\n",
      "29:\tlearn: 0.6971652\ttotal: 1.24s\tremaining: 40.2s\n",
      "30:\tlearn: 0.6963861\ttotal: 1.29s\tremaining: 40.2s\n",
      "31:\tlearn: 0.6957157\ttotal: 1.31s\tremaining: 39.8s\n",
      "32:\tlearn: 0.6949779\ttotal: 1.35s\tremaining: 39.5s\n",
      "33:\tlearn: 0.6941873\ttotal: 1.38s\tremaining: 39.3s\n",
      "34:\tlearn: 0.6934677\ttotal: 1.41s\tremaining: 39s\n",
      "35:\tlearn: 0.6927005\ttotal: 1.45s\tremaining: 38.8s\n",
      "36:\tlearn: 0.6912075\ttotal: 1.49s\tremaining: 38.8s\n",
      "37:\tlearn: 0.6904332\ttotal: 1.54s\tremaining: 38.9s\n",
      "38:\tlearn: 0.6894308\ttotal: 1.58s\tremaining: 38.8s\n",
      "39:\tlearn: 0.6890268\ttotal: 1.62s\tremaining: 38.8s\n",
      "40:\tlearn: 0.6883777\ttotal: 1.65s\tremaining: 38.7s\n",
      "41:\tlearn: 0.6878581\ttotal: 1.69s\tremaining: 38.5s\n",
      "42:\tlearn: 0.6870665\ttotal: 1.73s\tremaining: 38.4s\n",
      "43:\tlearn: 0.6860733\ttotal: 1.77s\tremaining: 38.5s\n",
      "44:\tlearn: 0.6850663\ttotal: 1.82s\tremaining: 38.7s\n",
      "45:\tlearn: 0.6842933\ttotal: 1.86s\tremaining: 38.7s\n",
      "46:\tlearn: 0.6832147\ttotal: 1.9s\tremaining: 38.6s\n",
      "47:\tlearn: 0.6827372\ttotal: 1.94s\tremaining: 38.5s\n",
      "48:\tlearn: 0.6821991\ttotal: 1.97s\tremaining: 38.3s\n",
      "49:\tlearn: 0.6816463\ttotal: 2.01s\tremaining: 38.2s\n",
      "50:\tlearn: 0.6808690\ttotal: 2.05s\tremaining: 38.1s\n",
      "51:\tlearn: 0.6804123\ttotal: 2.09s\tremaining: 38.1s\n",
      "52:\tlearn: 0.6798969\ttotal: 2.13s\tremaining: 38.1s\n",
      "53:\tlearn: 0.6794442\ttotal: 2.17s\tremaining: 38s\n",
      "54:\tlearn: 0.6789399\ttotal: 2.2s\tremaining: 37.8s\n",
      "55:\tlearn: 0.6784697\ttotal: 2.24s\tremaining: 37.7s\n",
      "56:\tlearn: 0.6774806\ttotal: 2.27s\tremaining: 37.6s\n",
      "57:\tlearn: 0.6771423\ttotal: 2.3s\tremaining: 37.4s\n",
      "58:\tlearn: 0.6767012\ttotal: 2.35s\tremaining: 37.4s\n",
      "59:\tlearn: 0.6763506\ttotal: 2.38s\tremaining: 37.3s\n",
      "60:\tlearn: 0.6758202\ttotal: 2.42s\tremaining: 37.2s\n",
      "61:\tlearn: 0.6752006\ttotal: 2.46s\tremaining: 37.2s\n",
      "62:\tlearn: 0.6747792\ttotal: 2.49s\tremaining: 37.1s\n",
      "63:\tlearn: 0.6744040\ttotal: 2.53s\tremaining: 37s\n",
      "64:\tlearn: 0.6733698\ttotal: 2.58s\tremaining: 37.1s\n",
      "65:\tlearn: 0.6727776\ttotal: 2.62s\tremaining: 37.1s\n",
      "66:\tlearn: 0.6721215\ttotal: 2.66s\tremaining: 37.1s\n",
      "67:\tlearn: 0.6716897\ttotal: 2.7s\tremaining: 37s\n",
      "68:\tlearn: 0.6711916\ttotal: 2.73s\tremaining: 36.9s\n",
      "69:\tlearn: 0.6708295\ttotal: 2.76s\tremaining: 36.7s\n",
      "70:\tlearn: 0.6703949\ttotal: 2.8s\tremaining: 36.7s\n",
      "71:\tlearn: 0.6701559\ttotal: 2.85s\tremaining: 36.7s\n",
      "72:\tlearn: 0.6699488\ttotal: 2.89s\tremaining: 36.6s\n",
      "73:\tlearn: 0.6696909\ttotal: 2.92s\tremaining: 36.6s\n",
      "74:\tlearn: 0.6693447\ttotal: 2.96s\tremaining: 36.5s\n",
      "75:\tlearn: 0.6682360\ttotal: 3s\tremaining: 36.4s\n",
      "76:\tlearn: 0.6679222\ttotal: 3.02s\tremaining: 36.3s\n",
      "77:\tlearn: 0.6676098\ttotal: 3.06s\tremaining: 36.2s\n",
      "78:\tlearn: 0.6670380\ttotal: 3.11s\tremaining: 36.2s\n",
      "79:\tlearn: 0.6667383\ttotal: 3.14s\tremaining: 36.1s\n",
      "80:\tlearn: 0.6663067\ttotal: 3.17s\tremaining: 36s\n",
      "81:\tlearn: 0.6660328\ttotal: 3.21s\tremaining: 35.9s\n",
      "82:\tlearn: 0.6657676\ttotal: 3.24s\tremaining: 35.8s\n",
      "83:\tlearn: 0.6652176\ttotal: 3.28s\tremaining: 35.8s\n",
      "84:\tlearn: 0.6649033\ttotal: 3.31s\tremaining: 35.7s\n",
      "85:\tlearn: 0.6645620\ttotal: 3.34s\tremaining: 35.5s\n",
      "86:\tlearn: 0.6642212\ttotal: 3.38s\tremaining: 35.5s\n",
      "87:\tlearn: 0.6639151\ttotal: 3.43s\tremaining: 35.5s\n",
      "88:\tlearn: 0.6634768\ttotal: 3.46s\tremaining: 35.4s\n",
      "89:\tlearn: 0.6630356\ttotal: 3.5s\tremaining: 35.4s\n",
      "90:\tlearn: 0.6624911\ttotal: 3.54s\tremaining: 35.4s\n",
      "91:\tlearn: 0.6621841\ttotal: 3.58s\tremaining: 35.3s\n",
      "92:\tlearn: 0.6618956\ttotal: 3.61s\tremaining: 35.2s\n",
      "93:\tlearn: 0.6615554\ttotal: 3.65s\tremaining: 35.2s\n",
      "94:\tlearn: 0.6609533\ttotal: 3.68s\tremaining: 35.1s\n",
      "95:\tlearn: 0.6608016\ttotal: 3.72s\tremaining: 35s\n",
      "96:\tlearn: 0.6604635\ttotal: 3.75s\tremaining: 34.9s\n",
      "97:\tlearn: 0.6602333\ttotal: 3.79s\tremaining: 34.8s\n",
      "98:\tlearn: 0.6599080\ttotal: 3.82s\tremaining: 34.8s\n",
      "99:\tlearn: 0.6597764\ttotal: 3.86s\tremaining: 34.7s\n",
      "100:\tlearn: 0.6591518\ttotal: 3.91s\tremaining: 34.8s\n",
      "101:\tlearn: 0.6586991\ttotal: 3.95s\tremaining: 34.8s\n",
      "102:\tlearn: 0.6583728\ttotal: 3.98s\tremaining: 34.7s\n",
      "103:\tlearn: 0.6579473\ttotal: 4.02s\tremaining: 34.6s\n",
      "104:\tlearn: 0.6576514\ttotal: 4.05s\tremaining: 34.5s\n",
      "105:\tlearn: 0.6573682\ttotal: 4.09s\tremaining: 34.5s\n",
      "106:\tlearn: 0.6568738\ttotal: 4.13s\tremaining: 34.4s\n",
      "107:\tlearn: 0.6566353\ttotal: 4.17s\tremaining: 34.5s\n",
      "108:\tlearn: 0.6562668\ttotal: 4.21s\tremaining: 34.4s\n",
      "109:\tlearn: 0.6561107\ttotal: 4.24s\tremaining: 34.3s\n",
      "110:\tlearn: 0.6557794\ttotal: 4.28s\tremaining: 34.3s\n",
      "111:\tlearn: 0.6556212\ttotal: 4.31s\tremaining: 34.2s\n",
      "112:\tlearn: 0.6553503\ttotal: 4.35s\tremaining: 34.1s\n",
      "113:\tlearn: 0.6550323\ttotal: 4.38s\tremaining: 34s\n",
      "114:\tlearn: 0.6542213\ttotal: 4.44s\tremaining: 34.1s\n",
      "115:\tlearn: 0.6540579\ttotal: 4.47s\tremaining: 34.1s\n",
      "116:\tlearn: 0.6538075\ttotal: 4.51s\tremaining: 34s\n",
      "117:\tlearn: 0.6535955\ttotal: 4.54s\tremaining: 34s\n",
      "118:\tlearn: 0.6533121\ttotal: 4.58s\tremaining: 33.9s\n",
      "119:\tlearn: 0.6529119\ttotal: 4.62s\tremaining: 33.9s\n",
      "120:\tlearn: 0.6527386\ttotal: 4.65s\tremaining: 33.8s\n",
      "121:\tlearn: 0.6525517\ttotal: 4.7s\tremaining: 33.8s\n",
      "122:\tlearn: 0.6523756\ttotal: 4.73s\tremaining: 33.7s\n",
      "123:\tlearn: 0.6520938\ttotal: 4.76s\tremaining: 33.6s\n",
      "124:\tlearn: 0.6518342\ttotal: 4.79s\tremaining: 33.6s\n",
      "125:\tlearn: 0.6513179\ttotal: 4.84s\tremaining: 33.6s\n",
      "126:\tlearn: 0.6511032\ttotal: 4.87s\tremaining: 33.5s\n",
      "127:\tlearn: 0.6508428\ttotal: 4.91s\tremaining: 33.5s\n",
      "128:\tlearn: 0.6506134\ttotal: 4.95s\tremaining: 33.5s\n",
      "129:\tlearn: 0.6502881\ttotal: 4.99s\tremaining: 33.4s\n",
      "130:\tlearn: 0.6500323\ttotal: 5.02s\tremaining: 33.3s\n",
      "131:\tlearn: 0.6497661\ttotal: 5.05s\tremaining: 33.2s\n",
      "132:\tlearn: 0.6495654\ttotal: 5.09s\tremaining: 33.2s\n",
      "133:\tlearn: 0.6494599\ttotal: 5.12s\tremaining: 33.1s\n",
      "134:\tlearn: 0.6493451\ttotal: 5.15s\tremaining: 33s\n",
      "135:\tlearn: 0.6492103\ttotal: 5.18s\tremaining: 32.9s\n",
      "136:\tlearn: 0.6487993\ttotal: 5.23s\tremaining: 32.9s\n",
      "137:\tlearn: 0.6485997\ttotal: 5.26s\tremaining: 32.9s\n",
      "138:\tlearn: 0.6483227\ttotal: 5.29s\tremaining: 32.8s\n",
      "139:\tlearn: 0.6481776\ttotal: 5.33s\tremaining: 32.8s\n",
      "140:\tlearn: 0.6479250\ttotal: 5.37s\tremaining: 32.7s\n",
      "141:\tlearn: 0.6475711\ttotal: 5.41s\tremaining: 32.7s\n",
      "142:\tlearn: 0.6473527\ttotal: 5.45s\tremaining: 32.6s\n",
      "143:\tlearn: 0.6470591\ttotal: 5.5s\tremaining: 32.7s\n",
      "144:\tlearn: 0.6469200\ttotal: 5.53s\tremaining: 32.6s\n",
      "145:\tlearn: 0.6468331\ttotal: 5.57s\tremaining: 32.6s\n",
      "146:\tlearn: 0.6466648\ttotal: 5.6s\tremaining: 32.5s\n",
      "147:\tlearn: 0.6464513\ttotal: 5.64s\tremaining: 32.5s\n",
      "148:\tlearn: 0.6463190\ttotal: 5.67s\tremaining: 32.4s\n",
      "149:\tlearn: 0.6461278\ttotal: 5.71s\tremaining: 32.4s\n",
      "150:\tlearn: 0.6459157\ttotal: 5.77s\tremaining: 32.4s\n",
      "151:\tlearn: 0.6454997\ttotal: 5.81s\tremaining: 32.4s\n",
      "152:\tlearn: 0.6453752\ttotal: 5.85s\tremaining: 32.4s\n",
      "153:\tlearn: 0.6448105\ttotal: 5.9s\tremaining: 32.4s\n",
      "154:\tlearn: 0.6445315\ttotal: 5.94s\tremaining: 32.4s\n",
      "155:\tlearn: 0.6441284\ttotal: 5.98s\tremaining: 32.4s\n",
      "156:\tlearn: 0.6439850\ttotal: 6.03s\tremaining: 32.4s\n",
      "157:\tlearn: 0.6437122\ttotal: 6.07s\tremaining: 32.4s\n",
      "158:\tlearn: 0.6436117\ttotal: 6.1s\tremaining: 32.3s\n"
     ]
    },
    {
     "name": "stdout",
     "output_type": "stream",
     "text": [
      "159:\tlearn: 0.6434395\ttotal: 6.14s\tremaining: 32.2s\n",
      "160:\tlearn: 0.6432942\ttotal: 6.18s\tremaining: 32.2s\n",
      "161:\tlearn: 0.6431832\ttotal: 6.21s\tremaining: 32.1s\n",
      "162:\tlearn: 0.6430686\ttotal: 6.25s\tremaining: 32.1s\n",
      "163:\tlearn: 0.6429243\ttotal: 6.3s\tremaining: 32.1s\n",
      "164:\tlearn: 0.6427332\ttotal: 6.35s\tremaining: 32.1s\n",
      "165:\tlearn: 0.6423652\ttotal: 6.38s\tremaining: 32.1s\n",
      "166:\tlearn: 0.6420604\ttotal: 6.43s\tremaining: 32.1s\n",
      "167:\tlearn: 0.6419183\ttotal: 6.46s\tremaining: 32s\n",
      "168:\tlearn: 0.6418094\ttotal: 6.49s\tremaining: 31.9s\n",
      "169:\tlearn: 0.6416834\ttotal: 6.52s\tremaining: 31.8s\n",
      "170:\tlearn: 0.6416186\ttotal: 6.56s\tremaining: 31.8s\n",
      "171:\tlearn: 0.6413800\ttotal: 6.6s\tremaining: 31.8s\n",
      "172:\tlearn: 0.6411600\ttotal: 6.64s\tremaining: 31.8s\n",
      "173:\tlearn: 0.6410462\ttotal: 6.68s\tremaining: 31.7s\n",
      "174:\tlearn: 0.6408884\ttotal: 6.72s\tremaining: 31.7s\n",
      "175:\tlearn: 0.6407370\ttotal: 6.76s\tremaining: 31.7s\n",
      "176:\tlearn: 0.6404449\ttotal: 6.79s\tremaining: 31.6s\n",
      "177:\tlearn: 0.6402203\ttotal: 6.83s\tremaining: 31.6s\n",
      "178:\tlearn: 0.6400193\ttotal: 6.88s\tremaining: 31.6s\n",
      "179:\tlearn: 0.6399128\ttotal: 6.91s\tremaining: 31.5s\n",
      "180:\tlearn: 0.6396891\ttotal: 6.95s\tremaining: 31.5s\n",
      "181:\tlearn: 0.6395147\ttotal: 7s\tremaining: 31.4s\n",
      "182:\tlearn: 0.6393856\ttotal: 7.03s\tremaining: 31.4s\n",
      "183:\tlearn: 0.6391491\ttotal: 7.08s\tremaining: 31.4s\n",
      "184:\tlearn: 0.6389940\ttotal: 7.11s\tremaining: 31.3s\n",
      "185:\tlearn: 0.6387815\ttotal: 7.15s\tremaining: 31.3s\n",
      "186:\tlearn: 0.6386113\ttotal: 7.19s\tremaining: 31.3s\n",
      "187:\tlearn: 0.6384423\ttotal: 7.23s\tremaining: 31.2s\n",
      "188:\tlearn: 0.6382487\ttotal: 7.29s\tremaining: 31.3s\n",
      "189:\tlearn: 0.6381513\ttotal: 7.32s\tremaining: 31.2s\n",
      "190:\tlearn: 0.6378840\ttotal: 7.35s\tremaining: 31.1s\n",
      "191:\tlearn: 0.6377007\ttotal: 7.39s\tremaining: 31.1s\n",
      "192:\tlearn: 0.6376062\ttotal: 7.43s\tremaining: 31.1s\n",
      "193:\tlearn: 0.6373895\ttotal: 7.47s\tremaining: 31s\n",
      "194:\tlearn: 0.6371790\ttotal: 7.51s\tremaining: 31s\n",
      "195:\tlearn: 0.6370376\ttotal: 7.55s\tremaining: 31s\n",
      "196:\tlearn: 0.6368591\ttotal: 7.58s\tremaining: 30.9s\n",
      "197:\tlearn: 0.6367600\ttotal: 7.61s\tremaining: 30.8s\n",
      "198:\tlearn: 0.6366470\ttotal: 7.65s\tremaining: 30.8s\n",
      "199:\tlearn: 0.6365766\ttotal: 7.69s\tremaining: 30.8s\n",
      "200:\tlearn: 0.6363837\ttotal: 7.74s\tremaining: 30.8s\n",
      "201:\tlearn: 0.6361496\ttotal: 7.78s\tremaining: 30.7s\n",
      "202:\tlearn: 0.6360076\ttotal: 7.83s\tremaining: 30.7s\n",
      "203:\tlearn: 0.6359167\ttotal: 7.86s\tremaining: 30.7s\n",
      "204:\tlearn: 0.6358037\ttotal: 7.9s\tremaining: 30.6s\n",
      "205:\tlearn: 0.6356414\ttotal: 7.94s\tremaining: 30.6s\n",
      "206:\tlearn: 0.6355127\ttotal: 7.98s\tremaining: 30.6s\n",
      "207:\tlearn: 0.6353476\ttotal: 8.02s\tremaining: 30.5s\n",
      "208:\tlearn: 0.6352558\ttotal: 8.04s\tremaining: 30.4s\n",
      "209:\tlearn: 0.6349234\ttotal: 8.08s\tremaining: 30.4s\n",
      "210:\tlearn: 0.6348247\ttotal: 8.14s\tremaining: 30.4s\n",
      "211:\tlearn: 0.6345939\ttotal: 8.19s\tremaining: 30.4s\n",
      "212:\tlearn: 0.6344979\ttotal: 8.23s\tremaining: 30.4s\n",
      "213:\tlearn: 0.6343651\ttotal: 8.26s\tremaining: 30.4s\n",
      "214:\tlearn: 0.6342569\ttotal: 8.3s\tremaining: 30.3s\n",
      "215:\tlearn: 0.6341585\ttotal: 8.35s\tremaining: 30.3s\n",
      "216:\tlearn: 0.6338555\ttotal: 8.39s\tremaining: 30.3s\n",
      "217:\tlearn: 0.6337609\ttotal: 8.43s\tremaining: 30.2s\n",
      "218:\tlearn: 0.6336413\ttotal: 8.46s\tremaining: 30.2s\n",
      "219:\tlearn: 0.6334390\ttotal: 8.5s\tremaining: 30.1s\n",
      "220:\tlearn: 0.6333395\ttotal: 8.54s\tremaining: 30.1s\n",
      "221:\tlearn: 0.6332070\ttotal: 8.58s\tremaining: 30.1s\n",
      "222:\tlearn: 0.6330003\ttotal: 8.61s\tremaining: 30s\n",
      "223:\tlearn: 0.6329005\ttotal: 8.65s\tremaining: 30s\n",
      "224:\tlearn: 0.6327817\ttotal: 8.69s\tremaining: 29.9s\n",
      "225:\tlearn: 0.6326350\ttotal: 8.73s\tremaining: 29.9s\n",
      "226:\tlearn: 0.6325057\ttotal: 8.76s\tremaining: 29.8s\n",
      "227:\tlearn: 0.6322766\ttotal: 8.8s\tremaining: 29.8s\n",
      "228:\tlearn: 0.6322145\ttotal: 8.84s\tremaining: 29.8s\n",
      "229:\tlearn: 0.6321232\ttotal: 8.87s\tremaining: 29.7s\n",
      "230:\tlearn: 0.6319575\ttotal: 8.91s\tremaining: 29.7s\n",
      "231:\tlearn: 0.6318032\ttotal: 8.96s\tremaining: 29.7s\n",
      "232:\tlearn: 0.6316938\ttotal: 9s\tremaining: 29.6s\n",
      "233:\tlearn: 0.6315608\ttotal: 9.03s\tremaining: 29.6s\n",
      "234:\tlearn: 0.6314345\ttotal: 9.07s\tremaining: 29.5s\n",
      "235:\tlearn: 0.6313652\ttotal: 9.1s\tremaining: 29.5s\n",
      "236:\tlearn: 0.6312867\ttotal: 9.13s\tremaining: 29.4s\n",
      "237:\tlearn: 0.6310372\ttotal: 9.17s\tremaining: 29.4s\n",
      "238:\tlearn: 0.6309025\ttotal: 9.21s\tremaining: 29.3s\n",
      "239:\tlearn: 0.6306574\ttotal: 9.25s\tremaining: 29.3s\n",
      "240:\tlearn: 0.6305721\ttotal: 9.28s\tremaining: 29.2s\n",
      "241:\tlearn: 0.6304144\ttotal: 9.32s\tremaining: 29.2s\n",
      "242:\tlearn: 0.6302857\ttotal: 9.36s\tremaining: 29.2s\n",
      "243:\tlearn: 0.6300758\ttotal: 9.4s\tremaining: 29.1s\n",
      "244:\tlearn: 0.6297926\ttotal: 9.44s\tremaining: 29.1s\n",
      "245:\tlearn: 0.6295548\ttotal: 9.49s\tremaining: 29.1s\n",
      "246:\tlearn: 0.6294262\ttotal: 9.52s\tremaining: 29s\n",
      "247:\tlearn: 0.6293532\ttotal: 9.55s\tremaining: 29s\n",
      "248:\tlearn: 0.6292026\ttotal: 9.59s\tremaining: 28.9s\n",
      "249:\tlearn: 0.6290341\ttotal: 9.63s\tremaining: 28.9s\n",
      "250:\tlearn: 0.6288543\ttotal: 9.66s\tremaining: 28.8s\n",
      "251:\tlearn: 0.6286254\ttotal: 9.7s\tremaining: 28.8s\n",
      "252:\tlearn: 0.6282986\ttotal: 9.74s\tremaining: 28.8s\n",
      "253:\tlearn: 0.6281609\ttotal: 9.78s\tremaining: 28.7s\n",
      "254:\tlearn: 0.6280179\ttotal: 9.81s\tremaining: 28.7s\n",
      "255:\tlearn: 0.6277880\ttotal: 9.85s\tremaining: 28.6s\n",
      "256:\tlearn: 0.6275668\ttotal: 9.89s\tremaining: 28.6s\n",
      "257:\tlearn: 0.6274403\ttotal: 9.92s\tremaining: 28.5s\n",
      "258:\tlearn: 0.6272304\ttotal: 9.96s\tremaining: 28.5s\n",
      "259:\tlearn: 0.6271521\ttotal: 9.99s\tremaining: 28.4s\n",
      "260:\tlearn: 0.6270160\ttotal: 10s\tremaining: 28.4s\n",
      "261:\tlearn: 0.6268300\ttotal: 10.1s\tremaining: 28.4s\n",
      "262:\tlearn: 0.6267638\ttotal: 10.1s\tremaining: 28.3s\n",
      "263:\tlearn: 0.6267072\ttotal: 10.1s\tremaining: 28.3s\n",
      "264:\tlearn: 0.6266307\ttotal: 10.2s\tremaining: 28.2s\n",
      "265:\tlearn: 0.6264596\ttotal: 10.2s\tremaining: 28.2s\n",
      "266:\tlearn: 0.6263214\ttotal: 10.3s\tremaining: 28.2s\n",
      "267:\tlearn: 0.6261365\ttotal: 10.3s\tremaining: 28.1s\n",
      "268:\tlearn: 0.6260442\ttotal: 10.3s\tremaining: 28.1s\n",
      "269:\tlearn: 0.6258593\ttotal: 10.4s\tremaining: 28.1s\n",
      "270:\tlearn: 0.6256213\ttotal: 10.4s\tremaining: 28.1s\n",
      "271:\tlearn: 0.6255362\ttotal: 10.5s\tremaining: 28s\n",
      "272:\tlearn: 0.6253354\ttotal: 10.5s\tremaining: 28s\n",
      "273:\tlearn: 0.6249499\ttotal: 10.6s\tremaining: 28s\n",
      "274:\tlearn: 0.6248791\ttotal: 10.6s\tremaining: 27.9s\n",
      "275:\tlearn: 0.6247622\ttotal: 10.6s\tremaining: 27.9s\n",
      "276:\tlearn: 0.6246239\ttotal: 10.7s\tremaining: 27.9s\n",
      "277:\tlearn: 0.6245390\ttotal: 10.7s\tremaining: 27.9s\n",
      "278:\tlearn: 0.6243133\ttotal: 10.8s\tremaining: 27.8s\n",
      "279:\tlearn: 0.6242451\ttotal: 10.8s\tremaining: 27.8s\n",
      "280:\tlearn: 0.6240847\ttotal: 10.9s\tremaining: 27.8s\n",
      "281:\tlearn: 0.6239114\ttotal: 10.9s\tremaining: 27.7s\n",
      "282:\tlearn: 0.6237998\ttotal: 10.9s\tremaining: 27.7s\n",
      "283:\tlearn: 0.6236282\ttotal: 11s\tremaining: 27.7s\n",
      "284:\tlearn: 0.6234763\ttotal: 11s\tremaining: 27.6s\n",
      "285:\tlearn: 0.6234625\ttotal: 11s\tremaining: 27.6s\n",
      "286:\tlearn: 0.6233428\ttotal: 11.1s\tremaining: 27.6s\n",
      "287:\tlearn: 0.6232357\ttotal: 11.1s\tremaining: 27.5s\n",
      "288:\tlearn: 0.6231837\ttotal: 11.2s\tremaining: 27.5s\n",
      "289:\tlearn: 0.6229129\ttotal: 11.2s\tremaining: 27.4s\n",
      "290:\tlearn: 0.6228747\ttotal: 11.3s\tremaining: 27.4s\n",
      "291:\tlearn: 0.6227485\ttotal: 11.3s\tremaining: 27.5s\n",
      "292:\tlearn: 0.6225515\ttotal: 11.4s\tremaining: 27.5s\n",
      "293:\tlearn: 0.6224686\ttotal: 11.4s\tremaining: 27.4s\n",
      "294:\tlearn: 0.6223746\ttotal: 11.5s\tremaining: 27.4s\n",
      "295:\tlearn: 0.6222877\ttotal: 11.5s\tremaining: 27.4s\n",
      "296:\tlearn: 0.6221566\ttotal: 11.5s\tremaining: 27.3s\n",
      "297:\tlearn: 0.6220692\ttotal: 11.6s\tremaining: 27.3s\n",
      "298:\tlearn: 0.6219904\ttotal: 11.6s\tremaining: 27.2s\n",
      "299:\tlearn: 0.6218640\ttotal: 11.7s\tremaining: 27.2s\n",
      "300:\tlearn: 0.6217378\ttotal: 11.7s\tremaining: 27.1s\n",
      "301:\tlearn: 0.6215634\ttotal: 11.7s\tremaining: 27.1s\n",
      "302:\tlearn: 0.6214884\ttotal: 11.8s\tremaining: 27s\n",
      "303:\tlearn: 0.6212687\ttotal: 11.8s\tremaining: 27s\n",
      "304:\tlearn: 0.6211202\ttotal: 11.8s\tremaining: 26.9s\n",
      "305:\tlearn: 0.6210599\ttotal: 11.9s\tremaining: 26.9s\n",
      "306:\tlearn: 0.6209305\ttotal: 11.9s\tremaining: 26.9s\n",
      "307:\tlearn: 0.6208269\ttotal: 12s\tremaining: 26.9s\n",
      "308:\tlearn: 0.6207708\ttotal: 12s\tremaining: 26.8s\n",
      "309:\tlearn: 0.6206943\ttotal: 12s\tremaining: 26.8s\n",
      "310:\tlearn: 0.6205399\ttotal: 12.1s\tremaining: 26.7s\n",
      "311:\tlearn: 0.6204602\ttotal: 12.1s\tremaining: 26.7s\n",
      "312:\tlearn: 0.6203558\ttotal: 12.1s\tremaining: 26.6s\n",
      "313:\tlearn: 0.6202606\ttotal: 12.2s\tremaining: 26.6s\n",
      "314:\tlearn: 0.6201686\ttotal: 12.2s\tremaining: 26.5s\n",
      "315:\tlearn: 0.6200404\ttotal: 12.2s\tremaining: 26.5s\n",
      "316:\tlearn: 0.6199139\ttotal: 12.3s\tremaining: 26.4s\n",
      "317:\tlearn: 0.6197637\ttotal: 12.3s\tremaining: 26.4s\n"
     ]
    },
    {
     "name": "stdout",
     "output_type": "stream",
     "text": [
      "318:\tlearn: 0.6197021\ttotal: 12.3s\tremaining: 26.3s\n",
      "319:\tlearn: 0.6195904\ttotal: 12.4s\tremaining: 26.3s\n",
      "320:\tlearn: 0.6195279\ttotal: 12.4s\tremaining: 26.3s\n",
      "321:\tlearn: 0.6194127\ttotal: 12.5s\tremaining: 26.2s\n",
      "322:\tlearn: 0.6190565\ttotal: 12.5s\tremaining: 26.2s\n",
      "323:\tlearn: 0.6187990\ttotal: 12.5s\tremaining: 26.2s\n",
      "324:\tlearn: 0.6187495\ttotal: 12.6s\tremaining: 26.1s\n",
      "325:\tlearn: 0.6185882\ttotal: 12.6s\tremaining: 26.1s\n",
      "326:\tlearn: 0.6184869\ttotal: 12.7s\tremaining: 26s\n",
      "327:\tlearn: 0.6184043\ttotal: 12.7s\tremaining: 26s\n",
      "328:\tlearn: 0.6182318\ttotal: 12.7s\tremaining: 26s\n",
      "329:\tlearn: 0.6181935\ttotal: 12.8s\tremaining: 25.9s\n",
      "330:\tlearn: 0.6178536\ttotal: 12.8s\tremaining: 25.9s\n",
      "331:\tlearn: 0.6178066\ttotal: 12.8s\tremaining: 25.8s\n",
      "332:\tlearn: 0.6177327\ttotal: 12.9s\tremaining: 25.8s\n",
      "333:\tlearn: 0.6176949\ttotal: 12.9s\tremaining: 25.7s\n",
      "334:\tlearn: 0.6176297\ttotal: 12.9s\tremaining: 25.7s\n",
      "335:\tlearn: 0.6175384\ttotal: 13s\tremaining: 25.6s\n",
      "336:\tlearn: 0.6173937\ttotal: 13s\tremaining: 25.6s\n",
      "337:\tlearn: 0.6172807\ttotal: 13s\tremaining: 25.5s\n",
      "338:\tlearn: 0.6171538\ttotal: 13.1s\tremaining: 25.5s\n",
      "339:\tlearn: 0.6171104\ttotal: 13.1s\tremaining: 25.4s\n",
      "340:\tlearn: 0.6168968\ttotal: 13.2s\tremaining: 25.4s\n",
      "341:\tlearn: 0.6166942\ttotal: 13.2s\tremaining: 25.4s\n",
      "342:\tlearn: 0.6165371\ttotal: 13.2s\tremaining: 25.4s\n",
      "343:\tlearn: 0.6163871\ttotal: 13.3s\tremaining: 25.3s\n",
      "344:\tlearn: 0.6163224\ttotal: 13.3s\tremaining: 25.3s\n",
      "345:\tlearn: 0.6162676\ttotal: 13.3s\tremaining: 25.2s\n",
      "346:\tlearn: 0.6161246\ttotal: 13.4s\tremaining: 25.2s\n",
      "347:\tlearn: 0.6159828\ttotal: 13.4s\tremaining: 25.1s\n",
      "348:\tlearn: 0.6159135\ttotal: 13.5s\tremaining: 25.1s\n",
      "349:\tlearn: 0.6156355\ttotal: 13.5s\tremaining: 25.1s\n",
      "350:\tlearn: 0.6156160\ttotal: 13.5s\tremaining: 25s\n",
      "351:\tlearn: 0.6155611\ttotal: 13.6s\tremaining: 25s\n",
      "352:\tlearn: 0.6154747\ttotal: 13.6s\tremaining: 24.9s\n",
      "353:\tlearn: 0.6153655\ttotal: 13.6s\tremaining: 24.9s\n",
      "354:\tlearn: 0.6152982\ttotal: 13.7s\tremaining: 24.8s\n",
      "355:\tlearn: 0.6151367\ttotal: 13.7s\tremaining: 24.8s\n",
      "356:\tlearn: 0.6150683\ttotal: 13.7s\tremaining: 24.8s\n",
      "357:\tlearn: 0.6150056\ttotal: 13.8s\tremaining: 24.7s\n",
      "358:\tlearn: 0.6148539\ttotal: 13.8s\tremaining: 24.7s\n",
      "359:\tlearn: 0.6143306\ttotal: 13.9s\tremaining: 24.6s\n",
      "360:\tlearn: 0.6142823\ttotal: 13.9s\tremaining: 24.6s\n",
      "361:\tlearn: 0.6141805\ttotal: 13.9s\tremaining: 24.5s\n",
      "362:\tlearn: 0.6141016\ttotal: 14s\tremaining: 24.5s\n",
      "363:\tlearn: 0.6139878\ttotal: 14s\tremaining: 24.5s\n",
      "364:\tlearn: 0.6139308\ttotal: 14s\tremaining: 24.4s\n",
      "365:\tlearn: 0.6137913\ttotal: 14.1s\tremaining: 24.4s\n",
      "366:\tlearn: 0.6136539\ttotal: 14.1s\tremaining: 24.4s\n",
      "367:\tlearn: 0.6135568\ttotal: 14.1s\tremaining: 24.3s\n",
      "368:\tlearn: 0.6134868\ttotal: 14.2s\tremaining: 24.3s\n",
      "369:\tlearn: 0.6133161\ttotal: 14.3s\tremaining: 24.3s\n",
      "370:\tlearn: 0.6131702\ttotal: 14.3s\tremaining: 24.3s\n",
      "371:\tlearn: 0.6131207\ttotal: 14.4s\tremaining: 24.3s\n",
      "372:\tlearn: 0.6130514\ttotal: 14.4s\tremaining: 24.2s\n",
      "373:\tlearn: 0.6129167\ttotal: 14.4s\tremaining: 24.2s\n",
      "374:\tlearn: 0.6127768\ttotal: 14.5s\tremaining: 24.1s\n",
      "375:\tlearn: 0.6127322\ttotal: 14.5s\tremaining: 24.1s\n",
      "376:\tlearn: 0.6125620\ttotal: 14.6s\tremaining: 24.1s\n",
      "377:\tlearn: 0.6125036\ttotal: 14.6s\tremaining: 24s\n",
      "378:\tlearn: 0.6123673\ttotal: 14.6s\tremaining: 24s\n",
      "379:\tlearn: 0.6122807\ttotal: 14.7s\tremaining: 24s\n",
      "380:\tlearn: 0.6121783\ttotal: 14.7s\tremaining: 23.9s\n",
      "381:\tlearn: 0.6120293\ttotal: 14.8s\tremaining: 23.9s\n",
      "382:\tlearn: 0.6119427\ttotal: 14.8s\tremaining: 23.9s\n",
      "383:\tlearn: 0.6118099\ttotal: 14.8s\tremaining: 23.8s\n",
      "384:\tlearn: 0.6117866\ttotal: 14.9s\tremaining: 23.8s\n",
      "385:\tlearn: 0.6116920\ttotal: 14.9s\tremaining: 23.7s\n",
      "386:\tlearn: 0.6115938\ttotal: 14.9s\tremaining: 23.7s\n",
      "387:\tlearn: 0.6114905\ttotal: 15s\tremaining: 23.6s\n",
      "388:\tlearn: 0.6113744\ttotal: 15s\tremaining: 23.6s\n",
      "389:\tlearn: 0.6112882\ttotal: 15.1s\tremaining: 23.6s\n",
      "390:\tlearn: 0.6111737\ttotal: 15.1s\tremaining: 23.5s\n",
      "391:\tlearn: 0.6110593\ttotal: 15.2s\tremaining: 23.5s\n",
      "392:\tlearn: 0.6109990\ttotal: 15.2s\tremaining: 23.5s\n",
      "393:\tlearn: 0.6108235\ttotal: 15.2s\tremaining: 23.4s\n",
      "394:\tlearn: 0.6107515\ttotal: 15.3s\tremaining: 23.4s\n",
      "395:\tlearn: 0.6106623\ttotal: 15.3s\tremaining: 23.3s\n",
      "396:\tlearn: 0.6105430\ttotal: 15.3s\tremaining: 23.3s\n",
      "397:\tlearn: 0.6104991\ttotal: 15.4s\tremaining: 23.3s\n",
      "398:\tlearn: 0.6104522\ttotal: 15.4s\tremaining: 23.2s\n",
      "399:\tlearn: 0.6103823\ttotal: 15.5s\tremaining: 23.2s\n",
      "400:\tlearn: 0.6102652\ttotal: 15.5s\tremaining: 23.2s\n",
      "401:\tlearn: 0.6102208\ttotal: 15.5s\tremaining: 23.1s\n",
      "402:\tlearn: 0.6100903\ttotal: 15.6s\tremaining: 23.1s\n",
      "403:\tlearn: 0.6100102\ttotal: 15.6s\tremaining: 23s\n",
      "404:\tlearn: 0.6098609\ttotal: 15.7s\tremaining: 23s\n",
      "405:\tlearn: 0.6097443\ttotal: 15.7s\tremaining: 23s\n",
      "406:\tlearn: 0.6097263\ttotal: 15.7s\tremaining: 22.9s\n",
      "407:\tlearn: 0.6096080\ttotal: 15.8s\tremaining: 22.9s\n",
      "408:\tlearn: 0.6095256\ttotal: 15.8s\tremaining: 22.8s\n",
      "409:\tlearn: 0.6094575\ttotal: 15.8s\tremaining: 22.8s\n",
      "410:\tlearn: 0.6094018\ttotal: 15.9s\tremaining: 22.8s\n",
      "411:\tlearn: 0.6093470\ttotal: 15.9s\tremaining: 22.7s\n",
      "412:\tlearn: 0.6092053\ttotal: 16s\tremaining: 22.7s\n",
      "413:\tlearn: 0.6091080\ttotal: 16s\tremaining: 22.7s\n",
      "414:\tlearn: 0.6089887\ttotal: 16s\tremaining: 22.6s\n",
      "415:\tlearn: 0.6088825\ttotal: 16.1s\tremaining: 22.6s\n",
      "416:\tlearn: 0.6088180\ttotal: 16.1s\tremaining: 22.5s\n",
      "417:\tlearn: 0.6087460\ttotal: 16.2s\tremaining: 22.5s\n",
      "418:\tlearn: 0.6086664\ttotal: 16.2s\tremaining: 22.5s\n",
      "419:\tlearn: 0.6086324\ttotal: 16.2s\tremaining: 22.4s\n",
      "420:\tlearn: 0.6084488\ttotal: 16.3s\tremaining: 22.4s\n",
      "421:\tlearn: 0.6083470\ttotal: 16.3s\tremaining: 22.3s\n",
      "422:\tlearn: 0.6082738\ttotal: 16.3s\tremaining: 22.3s\n",
      "423:\tlearn: 0.6081944\ttotal: 16.4s\tremaining: 22.3s\n",
      "424:\tlearn: 0.6081205\ttotal: 16.4s\tremaining: 22.2s\n",
      "425:\tlearn: 0.6079661\ttotal: 16.5s\tremaining: 22.2s\n",
      "426:\tlearn: 0.6078132\ttotal: 16.5s\tremaining: 22.2s\n",
      "427:\tlearn: 0.6077134\ttotal: 16.6s\tremaining: 22.1s\n",
      "428:\tlearn: 0.6076351\ttotal: 16.6s\tremaining: 22.1s\n",
      "429:\tlearn: 0.6074575\ttotal: 16.6s\tremaining: 22.1s\n",
      "430:\tlearn: 0.6072910\ttotal: 16.7s\tremaining: 22s\n",
      "431:\tlearn: 0.6072015\ttotal: 16.8s\tremaining: 22s\n",
      "432:\tlearn: 0.6071179\ttotal: 16.8s\tremaining: 22s\n",
      "433:\tlearn: 0.6070497\ttotal: 16.8s\tremaining: 22s\n",
      "434:\tlearn: 0.6069842\ttotal: 16.9s\tremaining: 21.9s\n",
      "435:\tlearn: 0.6069428\ttotal: 16.9s\tremaining: 21.9s\n",
      "436:\tlearn: 0.6068819\ttotal: 17s\tremaining: 21.9s\n",
      "437:\tlearn: 0.6068301\ttotal: 17s\tremaining: 21.8s\n",
      "438:\tlearn: 0.6067107\ttotal: 17s\tremaining: 21.8s\n",
      "439:\tlearn: 0.6065453\ttotal: 17.1s\tremaining: 21.7s\n",
      "440:\tlearn: 0.6064999\ttotal: 17.1s\tremaining: 21.7s\n",
      "441:\tlearn: 0.6064178\ttotal: 17.2s\tremaining: 21.7s\n",
      "442:\tlearn: 0.6063561\ttotal: 17.2s\tremaining: 21.6s\n",
      "443:\tlearn: 0.6063117\ttotal: 17.2s\tremaining: 21.6s\n",
      "444:\tlearn: 0.6061506\ttotal: 17.3s\tremaining: 21.5s\n",
      "445:\tlearn: 0.6060674\ttotal: 17.3s\tremaining: 21.5s\n",
      "446:\tlearn: 0.6058473\ttotal: 17.3s\tremaining: 21.4s\n",
      "447:\tlearn: 0.6057312\ttotal: 17.4s\tremaining: 21.4s\n",
      "448:\tlearn: 0.6056353\ttotal: 17.4s\tremaining: 21.4s\n",
      "449:\tlearn: 0.6056018\ttotal: 17.4s\tremaining: 21.3s\n",
      "450:\tlearn: 0.6055245\ttotal: 17.5s\tremaining: 21.3s\n",
      "451:\tlearn: 0.6053740\ttotal: 17.5s\tremaining: 21.3s\n",
      "452:\tlearn: 0.6053166\ttotal: 17.6s\tremaining: 21.2s\n",
      "453:\tlearn: 0.6051822\ttotal: 17.6s\tremaining: 21.2s\n",
      "454:\tlearn: 0.6050969\ttotal: 17.6s\tremaining: 21.1s\n",
      "455:\tlearn: 0.6050054\ttotal: 17.7s\tremaining: 21.1s\n",
      "456:\tlearn: 0.6049437\ttotal: 17.7s\tremaining: 21s\n",
      "457:\tlearn: 0.6048838\ttotal: 17.7s\tremaining: 21s\n",
      "458:\tlearn: 0.6047792\ttotal: 17.8s\tremaining: 21s\n",
      "459:\tlearn: 0.6046896\ttotal: 17.8s\tremaining: 20.9s\n",
      "460:\tlearn: 0.6045317\ttotal: 17.9s\tremaining: 20.9s\n",
      "461:\tlearn: 0.6044144\ttotal: 17.9s\tremaining: 20.8s\n",
      "462:\tlearn: 0.6042592\ttotal: 17.9s\tremaining: 20.8s\n",
      "463:\tlearn: 0.6041914\ttotal: 18s\tremaining: 20.8s\n",
      "464:\tlearn: 0.6041051\ttotal: 18s\tremaining: 20.7s\n",
      "465:\tlearn: 0.6040878\ttotal: 18s\tremaining: 20.7s\n",
      "466:\tlearn: 0.6040482\ttotal: 18.1s\tremaining: 20.6s\n",
      "467:\tlearn: 0.6039389\ttotal: 18.1s\tremaining: 20.6s\n",
      "468:\tlearn: 0.6038598\ttotal: 18.2s\tremaining: 20.6s\n",
      "469:\tlearn: 0.6038127\ttotal: 18.2s\tremaining: 20.5s\n",
      "470:\tlearn: 0.6035992\ttotal: 18.2s\tremaining: 20.5s\n",
      "471:\tlearn: 0.6034505\ttotal: 18.3s\tremaining: 20.5s\n",
      "472:\tlearn: 0.6033927\ttotal: 18.3s\tremaining: 20.4s\n",
      "473:\tlearn: 0.6033130\ttotal: 18.4s\tremaining: 20.4s\n",
      "474:\tlearn: 0.6032462\ttotal: 18.4s\tremaining: 20.3s\n",
      "475:\tlearn: 0.6031890\ttotal: 18.4s\tremaining: 20.3s\n",
      "476:\tlearn: 0.6031028\ttotal: 18.5s\tremaining: 20.2s\n",
      "477:\tlearn: 0.6030205\ttotal: 18.5s\tremaining: 20.2s\n",
      "478:\tlearn: 0.6029890\ttotal: 18.5s\tremaining: 20.2s\n"
     ]
    },
    {
     "name": "stdout",
     "output_type": "stream",
     "text": [
      "479:\tlearn: 0.6028773\ttotal: 18.6s\tremaining: 20.1s\n",
      "480:\tlearn: 0.6027915\ttotal: 18.6s\tremaining: 20.1s\n",
      "481:\tlearn: 0.6027092\ttotal: 18.6s\tremaining: 20s\n",
      "482:\tlearn: 0.6025877\ttotal: 18.7s\tremaining: 20s\n",
      "483:\tlearn: 0.6024953\ttotal: 18.7s\tremaining: 19.9s\n",
      "484:\tlearn: 0.6024207\ttotal: 18.7s\tremaining: 19.9s\n",
      "485:\tlearn: 0.6023124\ttotal: 18.8s\tremaining: 19.9s\n",
      "486:\tlearn: 0.6022250\ttotal: 18.8s\tremaining: 19.8s\n",
      "487:\tlearn: 0.6021522\ttotal: 18.9s\tremaining: 19.8s\n",
      "488:\tlearn: 0.6020834\ttotal: 18.9s\tremaining: 19.8s\n",
      "489:\tlearn: 0.6020106\ttotal: 18.9s\tremaining: 19.7s\n",
      "490:\tlearn: 0.6019536\ttotal: 19s\tremaining: 19.7s\n",
      "491:\tlearn: 0.6019070\ttotal: 19s\tremaining: 19.6s\n",
      "492:\tlearn: 0.6018492\ttotal: 19s\tremaining: 19.6s\n",
      "493:\tlearn: 0.6017797\ttotal: 19.1s\tremaining: 19.5s\n",
      "494:\tlearn: 0.6017109\ttotal: 19.1s\tremaining: 19.5s\n",
      "495:\tlearn: 0.6016938\ttotal: 19.2s\tremaining: 19.5s\n",
      "496:\tlearn: 0.6016200\ttotal: 19.2s\tremaining: 19.4s\n",
      "497:\tlearn: 0.6015736\ttotal: 19.2s\tremaining: 19.4s\n",
      "498:\tlearn: 0.6014718\ttotal: 19.3s\tremaining: 19.3s\n",
      "499:\tlearn: 0.6014432\ttotal: 19.3s\tremaining: 19.3s\n",
      "500:\tlearn: 0.6013791\ttotal: 19.3s\tremaining: 19.3s\n",
      "501:\tlearn: 0.6012908\ttotal: 19.4s\tremaining: 19.2s\n",
      "502:\tlearn: 0.6011764\ttotal: 19.4s\tremaining: 19.2s\n",
      "503:\tlearn: 0.6011367\ttotal: 19.4s\tremaining: 19.1s\n",
      "504:\tlearn: 0.6011018\ttotal: 19.5s\tremaining: 19.1s\n",
      "505:\tlearn: 0.6010761\ttotal: 19.5s\tremaining: 19.1s\n",
      "506:\tlearn: 0.6010481\ttotal: 19.6s\tremaining: 19s\n",
      "507:\tlearn: 0.6010284\ttotal: 19.6s\tremaining: 19s\n",
      "508:\tlearn: 0.6009965\ttotal: 19.6s\tremaining: 18.9s\n",
      "509:\tlearn: 0.6009220\ttotal: 19.7s\tremaining: 18.9s\n",
      "510:\tlearn: 0.6008232\ttotal: 19.7s\tremaining: 18.9s\n",
      "511:\tlearn: 0.6006509\ttotal: 19.8s\tremaining: 18.8s\n",
      "512:\tlearn: 0.6006101\ttotal: 19.8s\tremaining: 18.8s\n",
      "513:\tlearn: 0.6005330\ttotal: 19.8s\tremaining: 18.8s\n",
      "514:\tlearn: 0.6005013\ttotal: 19.9s\tremaining: 18.7s\n",
      "515:\tlearn: 0.6003416\ttotal: 19.9s\tremaining: 18.7s\n",
      "516:\tlearn: 0.6002829\ttotal: 19.9s\tremaining: 18.6s\n",
      "517:\tlearn: 0.6001361\ttotal: 20s\tremaining: 18.6s\n",
      "518:\tlearn: 0.6000419\ttotal: 20s\tremaining: 18.6s\n",
      "519:\tlearn: 0.6000050\ttotal: 20.1s\tremaining: 18.5s\n",
      "520:\tlearn: 0.5998542\ttotal: 20.1s\tremaining: 18.5s\n",
      "521:\tlearn: 0.5997675\ttotal: 20.1s\tremaining: 18.4s\n",
      "522:\tlearn: 0.5996876\ttotal: 20.2s\tremaining: 18.4s\n",
      "523:\tlearn: 0.5996198\ttotal: 20.2s\tremaining: 18.4s\n",
      "524:\tlearn: 0.5995677\ttotal: 20.3s\tremaining: 18.3s\n",
      "525:\tlearn: 0.5995321\ttotal: 20.3s\tremaining: 18.3s\n",
      "526:\tlearn: 0.5994993\ttotal: 20.3s\tremaining: 18.2s\n",
      "527:\tlearn: 0.5994151\ttotal: 20.4s\tremaining: 18.2s\n",
      "528:\tlearn: 0.5993491\ttotal: 20.4s\tremaining: 18.2s\n",
      "529:\tlearn: 0.5992567\ttotal: 20.4s\tremaining: 18.1s\n",
      "530:\tlearn: 0.5991610\ttotal: 20.5s\tremaining: 18.1s\n",
      "531:\tlearn: 0.5990935\ttotal: 20.5s\tremaining: 18s\n",
      "532:\tlearn: 0.5990092\ttotal: 20.5s\tremaining: 18s\n",
      "533:\tlearn: 0.5989778\ttotal: 20.6s\tremaining: 18s\n",
      "534:\tlearn: 0.5988228\ttotal: 20.6s\tremaining: 17.9s\n",
      "535:\tlearn: 0.5986351\ttotal: 20.7s\tremaining: 17.9s\n",
      "536:\tlearn: 0.5985130\ttotal: 20.7s\tremaining: 17.9s\n",
      "537:\tlearn: 0.5984367\ttotal: 20.7s\tremaining: 17.8s\n",
      "538:\tlearn: 0.5983535\ttotal: 20.8s\tremaining: 17.8s\n",
      "539:\tlearn: 0.5983062\ttotal: 20.8s\tremaining: 17.7s\n",
      "540:\tlearn: 0.5981645\ttotal: 20.9s\tremaining: 17.7s\n",
      "541:\tlearn: 0.5980916\ttotal: 20.9s\tremaining: 17.7s\n",
      "542:\tlearn: 0.5980522\ttotal: 20.9s\tremaining: 17.6s\n",
      "543:\tlearn: 0.5979200\ttotal: 21s\tremaining: 17.6s\n",
      "544:\tlearn: 0.5978956\ttotal: 21s\tremaining: 17.5s\n",
      "545:\tlearn: 0.5978538\ttotal: 21s\tremaining: 17.5s\n",
      "546:\tlearn: 0.5977831\ttotal: 21.1s\tremaining: 17.5s\n",
      "547:\tlearn: 0.5977293\ttotal: 21.1s\tremaining: 17.4s\n",
      "548:\tlearn: 0.5976916\ttotal: 21.2s\tremaining: 17.4s\n",
      "549:\tlearn: 0.5976663\ttotal: 21.2s\tremaining: 17.3s\n",
      "550:\tlearn: 0.5975936\ttotal: 21.2s\tremaining: 17.3s\n",
      "551:\tlearn: 0.5975716\ttotal: 21.3s\tremaining: 17.3s\n",
      "552:\tlearn: 0.5975429\ttotal: 21.3s\tremaining: 17.2s\n",
      "553:\tlearn: 0.5975017\ttotal: 21.3s\tremaining: 17.2s\n",
      "554:\tlearn: 0.5974577\ttotal: 21.4s\tremaining: 17.1s\n",
      "555:\tlearn: 0.5973853\ttotal: 21.4s\tremaining: 17.1s\n",
      "556:\tlearn: 0.5972250\ttotal: 21.4s\tremaining: 17.1s\n",
      "557:\tlearn: 0.5971391\ttotal: 21.5s\tremaining: 17s\n",
      "558:\tlearn: 0.5968865\ttotal: 21.5s\tremaining: 17s\n",
      "559:\tlearn: 0.5968279\ttotal: 21.6s\tremaining: 16.9s\n",
      "560:\tlearn: 0.5967913\ttotal: 21.6s\tremaining: 16.9s\n",
      "561:\tlearn: 0.5967311\ttotal: 21.6s\tremaining: 16.9s\n",
      "562:\tlearn: 0.5966785\ttotal: 21.7s\tremaining: 16.8s\n",
      "563:\tlearn: 0.5965002\ttotal: 21.7s\tremaining: 16.8s\n",
      "564:\tlearn: 0.5964403\ttotal: 21.8s\tremaining: 16.8s\n",
      "565:\tlearn: 0.5963931\ttotal: 21.8s\tremaining: 16.7s\n",
      "566:\tlearn: 0.5963103\ttotal: 21.8s\tremaining: 16.7s\n",
      "567:\tlearn: 0.5961872\ttotal: 21.9s\tremaining: 16.6s\n",
      "568:\tlearn: 0.5961369\ttotal: 21.9s\tremaining: 16.6s\n",
      "569:\tlearn: 0.5960447\ttotal: 22s\tremaining: 16.6s\n",
      "570:\tlearn: 0.5958993\ttotal: 22s\tremaining: 16.5s\n",
      "571:\tlearn: 0.5958512\ttotal: 22.1s\tremaining: 16.5s\n",
      "572:\tlearn: 0.5958020\ttotal: 22.1s\tremaining: 16.5s\n",
      "573:\tlearn: 0.5957255\ttotal: 22.1s\tremaining: 16.4s\n",
      "574:\tlearn: 0.5956678\ttotal: 22.2s\tremaining: 16.4s\n",
      "575:\tlearn: 0.5955702\ttotal: 22.2s\tremaining: 16.3s\n",
      "576:\tlearn: 0.5955373\ttotal: 22.2s\tremaining: 16.3s\n",
      "577:\tlearn: 0.5955092\ttotal: 22.3s\tremaining: 16.3s\n",
      "578:\tlearn: 0.5954328\ttotal: 22.3s\tremaining: 16.2s\n",
      "579:\tlearn: 0.5952916\ttotal: 22.3s\tremaining: 16.2s\n",
      "580:\tlearn: 0.5952652\ttotal: 22.4s\tremaining: 16.1s\n",
      "581:\tlearn: 0.5952081\ttotal: 22.4s\tremaining: 16.1s\n",
      "582:\tlearn: 0.5951694\ttotal: 22.4s\tremaining: 16s\n",
      "583:\tlearn: 0.5951122\ttotal: 22.5s\tremaining: 16s\n",
      "584:\tlearn: 0.5950507\ttotal: 22.5s\tremaining: 16s\n",
      "585:\tlearn: 0.5949953\ttotal: 22.6s\tremaining: 15.9s\n",
      "586:\tlearn: 0.5949523\ttotal: 22.6s\tremaining: 15.9s\n",
      "587:\tlearn: 0.5949049\ttotal: 22.6s\tremaining: 15.9s\n",
      "588:\tlearn: 0.5948433\ttotal: 22.7s\tremaining: 15.8s\n",
      "589:\tlearn: 0.5947421\ttotal: 22.7s\tremaining: 15.8s\n",
      "590:\tlearn: 0.5947011\ttotal: 22.8s\tremaining: 15.8s\n",
      "591:\tlearn: 0.5944868\ttotal: 22.8s\tremaining: 15.7s\n",
      "592:\tlearn: 0.5944485\ttotal: 22.8s\tremaining: 15.7s\n",
      "593:\tlearn: 0.5944088\ttotal: 22.9s\tremaining: 15.6s\n",
      "594:\tlearn: 0.5943113\ttotal: 22.9s\tremaining: 15.6s\n",
      "595:\tlearn: 0.5942636\ttotal: 22.9s\tremaining: 15.6s\n",
      "596:\tlearn: 0.5941984\ttotal: 23s\tremaining: 15.5s\n",
      "597:\tlearn: 0.5940650\ttotal: 23s\tremaining: 15.5s\n",
      "598:\tlearn: 0.5939954\ttotal: 23.1s\tremaining: 15.4s\n",
      "599:\tlearn: 0.5938958\ttotal: 23.1s\tremaining: 15.4s\n",
      "600:\tlearn: 0.5937006\ttotal: 23.2s\tremaining: 15.4s\n",
      "601:\tlearn: 0.5936566\ttotal: 23.2s\tremaining: 15.3s\n",
      "602:\tlearn: 0.5936236\ttotal: 23.2s\tremaining: 15.3s\n",
      "603:\tlearn: 0.5935765\ttotal: 23.3s\tremaining: 15.3s\n",
      "604:\tlearn: 0.5935130\ttotal: 23.3s\tremaining: 15.2s\n",
      "605:\tlearn: 0.5934720\ttotal: 23.3s\tremaining: 15.2s\n",
      "606:\tlearn: 0.5933983\ttotal: 23.4s\tremaining: 15.1s\n",
      "607:\tlearn: 0.5933458\ttotal: 23.4s\tremaining: 15.1s\n",
      "608:\tlearn: 0.5933105\ttotal: 23.5s\tremaining: 15.1s\n",
      "609:\tlearn: 0.5932595\ttotal: 23.5s\tremaining: 15s\n",
      "610:\tlearn: 0.5931873\ttotal: 23.5s\tremaining: 15s\n",
      "611:\tlearn: 0.5931290\ttotal: 23.6s\tremaining: 14.9s\n",
      "612:\tlearn: 0.5930750\ttotal: 23.6s\tremaining: 14.9s\n",
      "613:\tlearn: 0.5929445\ttotal: 23.6s\tremaining: 14.9s\n",
      "614:\tlearn: 0.5929083\ttotal: 23.7s\tremaining: 14.8s\n",
      "615:\tlearn: 0.5928760\ttotal: 23.7s\tremaining: 14.8s\n",
      "616:\tlearn: 0.5927745\ttotal: 23.7s\tremaining: 14.7s\n",
      "617:\tlearn: 0.5926752\ttotal: 23.8s\tremaining: 14.7s\n",
      "618:\tlearn: 0.5925872\ttotal: 23.8s\tremaining: 14.7s\n",
      "619:\tlearn: 0.5925348\ttotal: 23.9s\tremaining: 14.6s\n",
      "620:\tlearn: 0.5924541\ttotal: 23.9s\tremaining: 14.6s\n",
      "621:\tlearn: 0.5923683\ttotal: 23.9s\tremaining: 14.5s\n",
      "622:\tlearn: 0.5923180\ttotal: 24s\tremaining: 14.5s\n",
      "623:\tlearn: 0.5922365\ttotal: 24s\tremaining: 14.5s\n",
      "624:\tlearn: 0.5922027\ttotal: 24s\tremaining: 14.4s\n",
      "625:\tlearn: 0.5921574\ttotal: 24.1s\tremaining: 14.4s\n",
      "626:\tlearn: 0.5920220\ttotal: 24.1s\tremaining: 14.3s\n",
      "627:\tlearn: 0.5919353\ttotal: 24.2s\tremaining: 14.3s\n",
      "628:\tlearn: 0.5917041\ttotal: 24.2s\tremaining: 14.3s\n",
      "629:\tlearn: 0.5916099\ttotal: 24.2s\tremaining: 14.2s\n",
      "630:\tlearn: 0.5915701\ttotal: 24.3s\tremaining: 14.2s\n",
      "631:\tlearn: 0.5915156\ttotal: 24.3s\tremaining: 14.2s\n",
      "632:\tlearn: 0.5914452\ttotal: 24.4s\tremaining: 14.1s\n",
      "633:\tlearn: 0.5913755\ttotal: 24.4s\tremaining: 14.1s\n",
      "634:\tlearn: 0.5913330\ttotal: 24.4s\tremaining: 14s\n",
      "635:\tlearn: 0.5912509\ttotal: 24.5s\tremaining: 14s\n",
      "636:\tlearn: 0.5911947\ttotal: 24.5s\tremaining: 14s\n",
      "637:\tlearn: 0.5911426\ttotal: 24.5s\tremaining: 13.9s\n",
      "638:\tlearn: 0.5911047\ttotal: 24.6s\tremaining: 13.9s\n",
      "639:\tlearn: 0.5909765\ttotal: 24.6s\tremaining: 13.8s\n"
     ]
    },
    {
     "name": "stdout",
     "output_type": "stream",
     "text": [
      "640:\tlearn: 0.5909504\ttotal: 24.7s\tremaining: 13.8s\n",
      "641:\tlearn: 0.5909188\ttotal: 24.7s\tremaining: 13.8s\n",
      "642:\tlearn: 0.5908021\ttotal: 24.7s\tremaining: 13.7s\n",
      "643:\tlearn: 0.5907522\ttotal: 24.8s\tremaining: 13.7s\n",
      "644:\tlearn: 0.5906902\ttotal: 24.8s\tremaining: 13.7s\n",
      "645:\tlearn: 0.5906003\ttotal: 24.8s\tremaining: 13.6s\n",
      "646:\tlearn: 0.5905610\ttotal: 24.9s\tremaining: 13.6s\n",
      "647:\tlearn: 0.5904564\ttotal: 24.9s\tremaining: 13.5s\n",
      "648:\tlearn: 0.5903267\ttotal: 25s\tremaining: 13.5s\n",
      "649:\tlearn: 0.5902895\ttotal: 25s\tremaining: 13.5s\n",
      "650:\tlearn: 0.5902691\ttotal: 25s\tremaining: 13.4s\n",
      "651:\tlearn: 0.5902281\ttotal: 25.1s\tremaining: 13.4s\n",
      "652:\tlearn: 0.5901778\ttotal: 25.1s\tremaining: 13.3s\n",
      "653:\tlearn: 0.5901214\ttotal: 25.1s\tremaining: 13.3s\n",
      "654:\tlearn: 0.5900680\ttotal: 25.2s\tremaining: 13.3s\n",
      "655:\tlearn: 0.5900340\ttotal: 25.2s\tremaining: 13.2s\n",
      "656:\tlearn: 0.5899764\ttotal: 25.2s\tremaining: 13.2s\n",
      "657:\tlearn: 0.5899266\ttotal: 25.3s\tremaining: 13.1s\n",
      "658:\tlearn: 0.5898347\ttotal: 25.3s\tremaining: 13.1s\n",
      "659:\tlearn: 0.5898075\ttotal: 25.3s\tremaining: 13.1s\n",
      "660:\tlearn: 0.5897686\ttotal: 25.4s\tremaining: 13s\n",
      "661:\tlearn: 0.5897391\ttotal: 25.4s\tremaining: 13s\n",
      "662:\tlearn: 0.5896959\ttotal: 25.5s\tremaining: 12.9s\n",
      "663:\tlearn: 0.5896287\ttotal: 25.5s\tremaining: 12.9s\n",
      "664:\tlearn: 0.5895107\ttotal: 25.5s\tremaining: 12.9s\n",
      "665:\tlearn: 0.5894731\ttotal: 25.6s\tremaining: 12.8s\n",
      "666:\tlearn: 0.5893595\ttotal: 25.6s\tremaining: 12.8s\n",
      "667:\tlearn: 0.5893293\ttotal: 25.6s\tremaining: 12.7s\n",
      "668:\tlearn: 0.5892826\ttotal: 25.7s\tremaining: 12.7s\n",
      "669:\tlearn: 0.5892432\ttotal: 25.7s\tremaining: 12.7s\n",
      "670:\tlearn: 0.5892137\ttotal: 25.7s\tremaining: 12.6s\n",
      "671:\tlearn: 0.5891360\ttotal: 25.8s\tremaining: 12.6s\n",
      "672:\tlearn: 0.5890822\ttotal: 25.8s\tremaining: 12.5s\n",
      "673:\tlearn: 0.5889744\ttotal: 25.8s\tremaining: 12.5s\n",
      "674:\tlearn: 0.5889036\ttotal: 25.9s\tremaining: 12.5s\n",
      "675:\tlearn: 0.5888153\ttotal: 25.9s\tremaining: 12.4s\n",
      "676:\tlearn: 0.5886770\ttotal: 26s\tremaining: 12.4s\n",
      "677:\tlearn: 0.5886404\ttotal: 26s\tremaining: 12.4s\n",
      "678:\tlearn: 0.5885994\ttotal: 26.1s\tremaining: 12.3s\n",
      "679:\tlearn: 0.5885540\ttotal: 26.1s\tremaining: 12.3s\n",
      "680:\tlearn: 0.5885070\ttotal: 26.1s\tremaining: 12.2s\n",
      "681:\tlearn: 0.5884380\ttotal: 26.2s\tremaining: 12.2s\n",
      "682:\tlearn: 0.5883303\ttotal: 26.2s\tremaining: 12.2s\n",
      "683:\tlearn: 0.5882794\ttotal: 26.2s\tremaining: 12.1s\n",
      "684:\tlearn: 0.5881961\ttotal: 26.3s\tremaining: 12.1s\n",
      "685:\tlearn: 0.5881359\ttotal: 26.3s\tremaining: 12s\n",
      "686:\tlearn: 0.5880729\ttotal: 26.4s\tremaining: 12s\n",
      "687:\tlearn: 0.5879942\ttotal: 26.4s\tremaining: 12s\n",
      "688:\tlearn: 0.5879605\ttotal: 26.4s\tremaining: 11.9s\n",
      "689:\tlearn: 0.5879415\ttotal: 26.5s\tremaining: 11.9s\n",
      "690:\tlearn: 0.5879211\ttotal: 26.5s\tremaining: 11.8s\n",
      "691:\tlearn: 0.5878767\ttotal: 26.5s\tremaining: 11.8s\n",
      "692:\tlearn: 0.5878583\ttotal: 26.6s\tremaining: 11.8s\n",
      "693:\tlearn: 0.5877820\ttotal: 26.6s\tremaining: 11.7s\n",
      "694:\tlearn: 0.5877005\ttotal: 26.6s\tremaining: 11.7s\n",
      "695:\tlearn: 0.5876258\ttotal: 26.7s\tremaining: 11.7s\n",
      "696:\tlearn: 0.5875719\ttotal: 26.7s\tremaining: 11.6s\n",
      "697:\tlearn: 0.5875205\ttotal: 26.8s\tremaining: 11.6s\n",
      "698:\tlearn: 0.5874430\ttotal: 26.8s\tremaining: 11.5s\n",
      "699:\tlearn: 0.5874068\ttotal: 26.8s\tremaining: 11.5s\n",
      "700:\tlearn: 0.5872688\ttotal: 26.9s\tremaining: 11.5s\n",
      "701:\tlearn: 0.5871865\ttotal: 26.9s\tremaining: 11.4s\n",
      "702:\tlearn: 0.5871026\ttotal: 26.9s\tremaining: 11.4s\n",
      "703:\tlearn: 0.5869738\ttotal: 27s\tremaining: 11.3s\n",
      "704:\tlearn: 0.5868859\ttotal: 27s\tremaining: 11.3s\n",
      "705:\tlearn: 0.5868578\ttotal: 27.1s\tremaining: 11.3s\n",
      "706:\tlearn: 0.5868200\ttotal: 27.1s\tremaining: 11.2s\n",
      "707:\tlearn: 0.5867441\ttotal: 27.1s\tremaining: 11.2s\n",
      "708:\tlearn: 0.5866754\ttotal: 27.2s\tremaining: 11.1s\n",
      "709:\tlearn: 0.5866475\ttotal: 27.2s\tremaining: 11.1s\n",
      "710:\tlearn: 0.5865823\ttotal: 27.2s\tremaining: 11.1s\n",
      "711:\tlearn: 0.5865415\ttotal: 27.3s\tremaining: 11s\n",
      "712:\tlearn: 0.5864163\ttotal: 27.3s\tremaining: 11s\n",
      "713:\tlearn: 0.5863301\ttotal: 27.4s\tremaining: 11s\n",
      "714:\tlearn: 0.5862547\ttotal: 27.4s\tremaining: 10.9s\n",
      "715:\tlearn: 0.5862053\ttotal: 27.4s\tremaining: 10.9s\n",
      "716:\tlearn: 0.5861620\ttotal: 27.5s\tremaining: 10.8s\n",
      "717:\tlearn: 0.5861070\ttotal: 27.5s\tremaining: 10.8s\n",
      "718:\tlearn: 0.5860599\ttotal: 27.5s\tremaining: 10.8s\n",
      "719:\tlearn: 0.5860292\ttotal: 27.6s\tremaining: 10.7s\n",
      "720:\tlearn: 0.5859380\ttotal: 27.6s\tremaining: 10.7s\n",
      "721:\tlearn: 0.5858790\ttotal: 27.7s\tremaining: 10.7s\n",
      "722:\tlearn: 0.5858082\ttotal: 27.7s\tremaining: 10.6s\n",
      "723:\tlearn: 0.5857871\ttotal: 27.8s\tremaining: 10.6s\n",
      "724:\tlearn: 0.5857414\ttotal: 27.8s\tremaining: 10.5s\n",
      "725:\tlearn: 0.5857202\ttotal: 27.8s\tremaining: 10.5s\n",
      "726:\tlearn: 0.5856890\ttotal: 27.9s\tremaining: 10.5s\n",
      "727:\tlearn: 0.5855943\ttotal: 27.9s\tremaining: 10.4s\n",
      "728:\tlearn: 0.5855673\ttotal: 28s\tremaining: 10.4s\n",
      "729:\tlearn: 0.5855293\ttotal: 28s\tremaining: 10.4s\n",
      "730:\tlearn: 0.5854828\ttotal: 28s\tremaining: 10.3s\n",
      "731:\tlearn: 0.5854727\ttotal: 28.1s\tremaining: 10.3s\n",
      "732:\tlearn: 0.5853181\ttotal: 28.1s\tremaining: 10.2s\n",
      "733:\tlearn: 0.5852553\ttotal: 28.1s\tremaining: 10.2s\n",
      "734:\tlearn: 0.5851100\ttotal: 28.2s\tremaining: 10.2s\n",
      "735:\tlearn: 0.5850739\ttotal: 28.2s\tremaining: 10.1s\n",
      "736:\tlearn: 0.5850434\ttotal: 28.3s\tremaining: 10.1s\n",
      "737:\tlearn: 0.5849509\ttotal: 28.3s\tremaining: 10s\n",
      "738:\tlearn: 0.5849108\ttotal: 28.3s\tremaining: 10s\n",
      "739:\tlearn: 0.5848516\ttotal: 28.4s\tremaining: 9.97s\n",
      "740:\tlearn: 0.5847594\ttotal: 28.4s\tremaining: 9.94s\n",
      "741:\tlearn: 0.5846848\ttotal: 28.5s\tremaining: 9.9s\n",
      "742:\tlearn: 0.5846531\ttotal: 28.5s\tremaining: 9.86s\n",
      "743:\tlearn: 0.5845521\ttotal: 28.5s\tremaining: 9.82s\n",
      "744:\tlearn: 0.5844839\ttotal: 28.6s\tremaining: 9.78s\n",
      "745:\tlearn: 0.5844484\ttotal: 28.6s\tremaining: 9.74s\n",
      "746:\tlearn: 0.5843898\ttotal: 28.7s\tremaining: 9.71s\n",
      "747:\tlearn: 0.5843155\ttotal: 28.7s\tremaining: 9.67s\n",
      "748:\tlearn: 0.5842609\ttotal: 28.7s\tremaining: 9.63s\n",
      "749:\tlearn: 0.5842136\ttotal: 28.8s\tremaining: 9.59s\n",
      "750:\tlearn: 0.5841726\ttotal: 28.8s\tremaining: 9.55s\n",
      "751:\tlearn: 0.5841154\ttotal: 28.8s\tremaining: 9.51s\n",
      "752:\tlearn: 0.5840540\ttotal: 28.9s\tremaining: 9.48s\n",
      "753:\tlearn: 0.5840151\ttotal: 28.9s\tremaining: 9.44s\n",
      "754:\tlearn: 0.5839566\ttotal: 29s\tremaining: 9.39s\n",
      "755:\tlearn: 0.5838943\ttotal: 29s\tremaining: 9.36s\n",
      "756:\tlearn: 0.5838517\ttotal: 29s\tremaining: 9.32s\n",
      "757:\tlearn: 0.5837895\ttotal: 29.1s\tremaining: 9.28s\n",
      "758:\tlearn: 0.5837063\ttotal: 29.1s\tremaining: 9.24s\n",
      "759:\tlearn: 0.5836576\ttotal: 29.1s\tremaining: 9.2s\n",
      "760:\tlearn: 0.5836146\ttotal: 29.2s\tremaining: 9.16s\n",
      "761:\tlearn: 0.5835125\ttotal: 29.2s\tremaining: 9.13s\n",
      "762:\tlearn: 0.5834829\ttotal: 29.2s\tremaining: 9.08s\n",
      "763:\tlearn: 0.5834180\ttotal: 29.3s\tremaining: 9.05s\n",
      "764:\tlearn: 0.5833677\ttotal: 29.3s\tremaining: 9.01s\n",
      "765:\tlearn: 0.5833175\ttotal: 29.4s\tremaining: 8.97s\n",
      "766:\tlearn: 0.5832806\ttotal: 29.4s\tremaining: 8.93s\n",
      "767:\tlearn: 0.5832332\ttotal: 29.4s\tremaining: 8.89s\n",
      "768:\tlearn: 0.5831979\ttotal: 29.5s\tremaining: 8.85s\n",
      "769:\tlearn: 0.5831208\ttotal: 29.5s\tremaining: 8.81s\n",
      "770:\tlearn: 0.5830884\ttotal: 29.5s\tremaining: 8.77s\n",
      "771:\tlearn: 0.5830460\ttotal: 29.6s\tremaining: 8.73s\n",
      "772:\tlearn: 0.5830232\ttotal: 29.6s\tremaining: 8.69s\n",
      "773:\tlearn: 0.5829752\ttotal: 29.6s\tremaining: 8.65s\n",
      "774:\tlearn: 0.5829088\ttotal: 29.7s\tremaining: 8.62s\n",
      "775:\tlearn: 0.5828733\ttotal: 29.7s\tremaining: 8.58s\n",
      "776:\tlearn: 0.5828322\ttotal: 29.8s\tremaining: 8.54s\n",
      "777:\tlearn: 0.5828015\ttotal: 29.8s\tremaining: 8.5s\n",
      "778:\tlearn: 0.5827296\ttotal: 29.8s\tremaining: 8.46s\n",
      "779:\tlearn: 0.5827048\ttotal: 29.9s\tremaining: 8.42s\n",
      "780:\tlearn: 0.5826450\ttotal: 29.9s\tremaining: 8.38s\n",
      "781:\tlearn: 0.5826218\ttotal: 29.9s\tremaining: 8.34s\n",
      "782:\tlearn: 0.5825896\ttotal: 30s\tremaining: 8.31s\n",
      "783:\tlearn: 0.5825642\ttotal: 30s\tremaining: 8.27s\n",
      "784:\tlearn: 0.5825139\ttotal: 30s\tremaining: 8.23s\n",
      "785:\tlearn: 0.5824816\ttotal: 30.1s\tremaining: 8.19s\n",
      "786:\tlearn: 0.5824400\ttotal: 30.1s\tremaining: 8.15s\n",
      "787:\tlearn: 0.5823857\ttotal: 30.1s\tremaining: 8.11s\n",
      "788:\tlearn: 0.5822968\ttotal: 30.2s\tremaining: 8.07s\n",
      "789:\tlearn: 0.5822473\ttotal: 30.2s\tremaining: 8.04s\n",
      "790:\tlearn: 0.5822064\ttotal: 30.3s\tremaining: 8s\n",
      "791:\tlearn: 0.5821703\ttotal: 30.3s\tremaining: 7.96s\n",
      "792:\tlearn: 0.5820991\ttotal: 30.3s\tremaining: 7.92s\n",
      "793:\tlearn: 0.5819639\ttotal: 30.4s\tremaining: 7.88s\n",
      "794:\tlearn: 0.5819190\ttotal: 30.4s\tremaining: 7.84s\n",
      "795:\tlearn: 0.5818799\ttotal: 30.4s\tremaining: 7.8s\n",
      "796:\tlearn: 0.5818652\ttotal: 30.5s\tremaining: 7.76s\n",
      "797:\tlearn: 0.5818274\ttotal: 30.5s\tremaining: 7.72s\n",
      "798:\tlearn: 0.5817705\ttotal: 30.5s\tremaining: 7.68s\n",
      "799:\tlearn: 0.5817142\ttotal: 30.6s\tremaining: 7.64s\n"
     ]
    },
    {
     "name": "stdout",
     "output_type": "stream",
     "text": [
      "800:\tlearn: 0.5816818\ttotal: 30.6s\tremaining: 7.61s\n",
      "801:\tlearn: 0.5816389\ttotal: 30.7s\tremaining: 7.57s\n",
      "802:\tlearn: 0.5815951\ttotal: 30.7s\tremaining: 7.53s\n",
      "803:\tlearn: 0.5815474\ttotal: 30.7s\tremaining: 7.5s\n",
      "804:\tlearn: 0.5814629\ttotal: 30.8s\tremaining: 7.46s\n",
      "805:\tlearn: 0.5814230\ttotal: 30.8s\tremaining: 7.42s\n",
      "806:\tlearn: 0.5813705\ttotal: 30.9s\tremaining: 7.38s\n",
      "807:\tlearn: 0.5813364\ttotal: 30.9s\tremaining: 7.34s\n",
      "808:\tlearn: 0.5812852\ttotal: 30.9s\tremaining: 7.3s\n",
      "809:\tlearn: 0.5812557\ttotal: 31s\tremaining: 7.27s\n",
      "810:\tlearn: 0.5811783\ttotal: 31s\tremaining: 7.23s\n",
      "811:\tlearn: 0.5811440\ttotal: 31.1s\tremaining: 7.19s\n",
      "812:\tlearn: 0.5810899\ttotal: 31.1s\tremaining: 7.15s\n",
      "813:\tlearn: 0.5810482\ttotal: 31.1s\tremaining: 7.11s\n",
      "814:\tlearn: 0.5809377\ttotal: 31.2s\tremaining: 7.08s\n",
      "815:\tlearn: 0.5809076\ttotal: 31.2s\tremaining: 7.04s\n",
      "816:\tlearn: 0.5808576\ttotal: 31.2s\tremaining: 7s\n",
      "817:\tlearn: 0.5808171\ttotal: 31.3s\tremaining: 6.96s\n",
      "818:\tlearn: 0.5807761\ttotal: 31.3s\tremaining: 6.92s\n",
      "819:\tlearn: 0.5807295\ttotal: 31.3s\tremaining: 6.88s\n",
      "820:\tlearn: 0.5806412\ttotal: 31.4s\tremaining: 6.84s\n",
      "821:\tlearn: 0.5806126\ttotal: 31.4s\tremaining: 6.8s\n",
      "822:\tlearn: 0.5805759\ttotal: 31.4s\tremaining: 6.76s\n",
      "823:\tlearn: 0.5805463\ttotal: 31.5s\tremaining: 6.72s\n",
      "824:\tlearn: 0.5805152\ttotal: 31.5s\tremaining: 6.69s\n",
      "825:\tlearn: 0.5804897\ttotal: 31.6s\tremaining: 6.65s\n",
      "826:\tlearn: 0.5804222\ttotal: 31.6s\tremaining: 6.61s\n",
      "827:\tlearn: 0.5803818\ttotal: 31.6s\tremaining: 6.57s\n",
      "828:\tlearn: 0.5803492\ttotal: 31.7s\tremaining: 6.53s\n",
      "829:\tlearn: 0.5802628\ttotal: 31.7s\tremaining: 6.49s\n",
      "830:\tlearn: 0.5801594\ttotal: 31.8s\tremaining: 6.46s\n",
      "831:\tlearn: 0.5801213\ttotal: 31.8s\tremaining: 6.42s\n",
      "832:\tlearn: 0.5800117\ttotal: 31.8s\tremaining: 6.38s\n",
      "833:\tlearn: 0.5799999\ttotal: 31.9s\tremaining: 6.34s\n",
      "834:\tlearn: 0.5799776\ttotal: 31.9s\tremaining: 6.3s\n",
      "835:\tlearn: 0.5799472\ttotal: 31.9s\tremaining: 6.26s\n",
      "836:\tlearn: 0.5798923\ttotal: 32s\tremaining: 6.22s\n",
      "837:\tlearn: 0.5798494\ttotal: 32s\tremaining: 6.19s\n",
      "838:\tlearn: 0.5798069\ttotal: 32s\tremaining: 6.15s\n",
      "839:\tlearn: 0.5797282\ttotal: 32.1s\tremaining: 6.11s\n",
      "840:\tlearn: 0.5796468\ttotal: 32.1s\tremaining: 6.07s\n",
      "841:\tlearn: 0.5795888\ttotal: 32.2s\tremaining: 6.03s\n",
      "842:\tlearn: 0.5795360\ttotal: 32.2s\tremaining: 6s\n",
      "843:\tlearn: 0.5794871\ttotal: 32.2s\tremaining: 5.96s\n",
      "844:\tlearn: 0.5793440\ttotal: 32.3s\tremaining: 5.92s\n",
      "845:\tlearn: 0.5793181\ttotal: 32.3s\tremaining: 5.88s\n",
      "846:\tlearn: 0.5792764\ttotal: 32.4s\tremaining: 5.85s\n",
      "847:\tlearn: 0.5792381\ttotal: 32.4s\tremaining: 5.81s\n",
      "848:\tlearn: 0.5791832\ttotal: 32.4s\tremaining: 5.77s\n",
      "849:\tlearn: 0.5791156\ttotal: 32.5s\tremaining: 5.73s\n",
      "850:\tlearn: 0.5790599\ttotal: 32.5s\tremaining: 5.69s\n",
      "851:\tlearn: 0.5790012\ttotal: 32.5s\tremaining: 5.65s\n",
      "852:\tlearn: 0.5789492\ttotal: 32.6s\tremaining: 5.62s\n",
      "853:\tlearn: 0.5788782\ttotal: 32.6s\tremaining: 5.58s\n",
      "854:\tlearn: 0.5788478\ttotal: 32.7s\tremaining: 5.54s\n",
      "855:\tlearn: 0.5788079\ttotal: 32.7s\tremaining: 5.5s\n",
      "856:\tlearn: 0.5787515\ttotal: 32.7s\tremaining: 5.46s\n",
      "857:\tlearn: 0.5786815\ttotal: 32.8s\tremaining: 5.42s\n",
      "858:\tlearn: 0.5786280\ttotal: 32.8s\tremaining: 5.39s\n",
      "859:\tlearn: 0.5785780\ttotal: 32.9s\tremaining: 5.35s\n",
      "860:\tlearn: 0.5785568\ttotal: 32.9s\tremaining: 5.31s\n",
      "861:\tlearn: 0.5785214\ttotal: 32.9s\tremaining: 5.27s\n",
      "862:\tlearn: 0.5784497\ttotal: 33s\tremaining: 5.23s\n",
      "863:\tlearn: 0.5783888\ttotal: 33s\tremaining: 5.19s\n",
      "864:\tlearn: 0.5782571\ttotal: 33s\tremaining: 5.15s\n",
      "865:\tlearn: 0.5782250\ttotal: 33.1s\tremaining: 5.12s\n",
      "866:\tlearn: 0.5781683\ttotal: 33.1s\tremaining: 5.08s\n",
      "867:\tlearn: 0.5781100\ttotal: 33.1s\tremaining: 5.04s\n",
      "868:\tlearn: 0.5779926\ttotal: 33.2s\tremaining: 5s\n",
      "869:\tlearn: 0.5779035\ttotal: 33.2s\tremaining: 4.96s\n",
      "870:\tlearn: 0.5777806\ttotal: 33.3s\tremaining: 4.93s\n",
      "871:\tlearn: 0.5777131\ttotal: 33.3s\tremaining: 4.89s\n",
      "872:\tlearn: 0.5776701\ttotal: 33.3s\tremaining: 4.85s\n",
      "873:\tlearn: 0.5776022\ttotal: 33.4s\tremaining: 4.81s\n",
      "874:\tlearn: 0.5775047\ttotal: 33.4s\tremaining: 4.78s\n",
      "875:\tlearn: 0.5774348\ttotal: 33.5s\tremaining: 4.74s\n",
      "876:\tlearn: 0.5773891\ttotal: 33.5s\tremaining: 4.7s\n",
      "877:\tlearn: 0.5773259\ttotal: 33.6s\tremaining: 4.66s\n",
      "878:\tlearn: 0.5772826\ttotal: 33.6s\tremaining: 4.63s\n",
      "879:\tlearn: 0.5771953\ttotal: 33.7s\tremaining: 4.59s\n",
      "880:\tlearn: 0.5771592\ttotal: 33.7s\tremaining: 4.55s\n",
      "881:\tlearn: 0.5771024\ttotal: 33.7s\tremaining: 4.51s\n",
      "882:\tlearn: 0.5770661\ttotal: 33.8s\tremaining: 4.47s\n",
      "883:\tlearn: 0.5770134\ttotal: 33.8s\tremaining: 4.44s\n",
      "884:\tlearn: 0.5769804\ttotal: 33.8s\tremaining: 4.4s\n",
      "885:\tlearn: 0.5768908\ttotal: 33.9s\tremaining: 4.36s\n",
      "886:\tlearn: 0.5768650\ttotal: 33.9s\tremaining: 4.32s\n",
      "887:\tlearn: 0.5767884\ttotal: 34s\tremaining: 4.28s\n",
      "888:\tlearn: 0.5767330\ttotal: 34s\tremaining: 4.24s\n",
      "889:\tlearn: 0.5766867\ttotal: 34s\tremaining: 4.21s\n",
      "890:\tlearn: 0.5765726\ttotal: 34.1s\tremaining: 4.17s\n",
      "891:\tlearn: 0.5765004\ttotal: 34.1s\tremaining: 4.13s\n",
      "892:\tlearn: 0.5764708\ttotal: 34.1s\tremaining: 4.09s\n",
      "893:\tlearn: 0.5764250\ttotal: 34.2s\tremaining: 4.05s\n",
      "894:\tlearn: 0.5764155\ttotal: 34.2s\tremaining: 4.01s\n",
      "895:\tlearn: 0.5763773\ttotal: 34.3s\tremaining: 3.98s\n",
      "896:\tlearn: 0.5763430\ttotal: 34.3s\tremaining: 3.94s\n",
      "897:\tlearn: 0.5763069\ttotal: 34.3s\tremaining: 3.9s\n",
      "898:\tlearn: 0.5762259\ttotal: 34.4s\tremaining: 3.86s\n",
      "899:\tlearn: 0.5761548\ttotal: 34.4s\tremaining: 3.82s\n",
      "900:\tlearn: 0.5760726\ttotal: 34.5s\tremaining: 3.79s\n",
      "901:\tlearn: 0.5759980\ttotal: 34.5s\tremaining: 3.75s\n",
      "902:\tlearn: 0.5759743\ttotal: 34.5s\tremaining: 3.71s\n",
      "903:\tlearn: 0.5759080\ttotal: 34.6s\tremaining: 3.67s\n",
      "904:\tlearn: 0.5757674\ttotal: 34.6s\tremaining: 3.63s\n",
      "905:\tlearn: 0.5757345\ttotal: 34.6s\tremaining: 3.59s\n",
      "906:\tlearn: 0.5757208\ttotal: 34.7s\tremaining: 3.56s\n",
      "907:\tlearn: 0.5756959\ttotal: 34.7s\tremaining: 3.52s\n",
      "908:\tlearn: 0.5756563\ttotal: 34.8s\tremaining: 3.48s\n",
      "909:\tlearn: 0.5756119\ttotal: 34.8s\tremaining: 3.44s\n",
      "910:\tlearn: 0.5755492\ttotal: 34.8s\tremaining: 3.4s\n",
      "911:\tlearn: 0.5755321\ttotal: 34.9s\tremaining: 3.36s\n",
      "912:\tlearn: 0.5754428\ttotal: 34.9s\tremaining: 3.33s\n",
      "913:\tlearn: 0.5753830\ttotal: 34.9s\tremaining: 3.29s\n",
      "914:\tlearn: 0.5753212\ttotal: 35s\tremaining: 3.25s\n",
      "915:\tlearn: 0.5752754\ttotal: 35s\tremaining: 3.21s\n",
      "916:\tlearn: 0.5752235\ttotal: 35.1s\tremaining: 3.17s\n",
      "917:\tlearn: 0.5751784\ttotal: 35.1s\tremaining: 3.13s\n",
      "918:\tlearn: 0.5751208\ttotal: 35.1s\tremaining: 3.1s\n",
      "919:\tlearn: 0.5750839\ttotal: 35.2s\tremaining: 3.06s\n",
      "920:\tlearn: 0.5750487\ttotal: 35.2s\tremaining: 3.02s\n",
      "921:\tlearn: 0.5750065\ttotal: 35.3s\tremaining: 2.98s\n",
      "922:\tlearn: 0.5748999\ttotal: 35.3s\tremaining: 2.94s\n",
      "923:\tlearn: 0.5748754\ttotal: 35.3s\tremaining: 2.91s\n",
      "924:\tlearn: 0.5748256\ttotal: 35.4s\tremaining: 2.87s\n",
      "925:\tlearn: 0.5747837\ttotal: 35.4s\tremaining: 2.83s\n",
      "926:\tlearn: 0.5746868\ttotal: 35.5s\tremaining: 2.79s\n",
      "927:\tlearn: 0.5746517\ttotal: 35.5s\tremaining: 2.75s\n",
      "928:\tlearn: 0.5746001\ttotal: 35.5s\tremaining: 2.71s\n",
      "929:\tlearn: 0.5745216\ttotal: 35.6s\tremaining: 2.68s\n",
      "930:\tlearn: 0.5744581\ttotal: 35.6s\tremaining: 2.64s\n",
      "931:\tlearn: 0.5744379\ttotal: 35.6s\tremaining: 2.6s\n",
      "932:\tlearn: 0.5743553\ttotal: 35.7s\tremaining: 2.56s\n",
      "933:\tlearn: 0.5742971\ttotal: 35.7s\tremaining: 2.52s\n",
      "934:\tlearn: 0.5742544\ttotal: 35.8s\tremaining: 2.49s\n",
      "935:\tlearn: 0.5742392\ttotal: 35.8s\tremaining: 2.45s\n",
      "936:\tlearn: 0.5741683\ttotal: 35.8s\tremaining: 2.41s\n",
      "937:\tlearn: 0.5741065\ttotal: 35.9s\tremaining: 2.37s\n",
      "938:\tlearn: 0.5740770\ttotal: 35.9s\tremaining: 2.33s\n",
      "939:\tlearn: 0.5740306\ttotal: 36s\tremaining: 2.29s\n",
      "940:\tlearn: 0.5740100\ttotal: 36s\tremaining: 2.26s\n",
      "941:\tlearn: 0.5739574\ttotal: 36s\tremaining: 2.22s\n",
      "942:\tlearn: 0.5739095\ttotal: 36.1s\tremaining: 2.18s\n",
      "943:\tlearn: 0.5738793\ttotal: 36.1s\tremaining: 2.14s\n",
      "944:\tlearn: 0.5738390\ttotal: 36.1s\tremaining: 2.1s\n",
      "945:\tlearn: 0.5737711\ttotal: 36.2s\tremaining: 2.06s\n",
      "946:\tlearn: 0.5737295\ttotal: 36.2s\tremaining: 2.03s\n",
      "947:\tlearn: 0.5737092\ttotal: 36.2s\tremaining: 1.99s\n",
      "948:\tlearn: 0.5736434\ttotal: 36.3s\tremaining: 1.95s\n",
      "949:\tlearn: 0.5735892\ttotal: 36.3s\tremaining: 1.91s\n",
      "950:\tlearn: 0.5734685\ttotal: 36.4s\tremaining: 1.87s\n",
      "951:\tlearn: 0.5734359\ttotal: 36.4s\tremaining: 1.83s\n",
      "952:\tlearn: 0.5734170\ttotal: 36.4s\tremaining: 1.8s\n",
      "953:\tlearn: 0.5733840\ttotal: 36.5s\tremaining: 1.76s\n",
      "954:\tlearn: 0.5733541\ttotal: 36.5s\tremaining: 1.72s\n",
      "955:\tlearn: 0.5733000\ttotal: 36.5s\tremaining: 1.68s\n",
      "956:\tlearn: 0.5732352\ttotal: 36.6s\tremaining: 1.64s\n",
      "957:\tlearn: 0.5731592\ttotal: 36.6s\tremaining: 1.6s\n",
      "958:\tlearn: 0.5730422\ttotal: 36.7s\tremaining: 1.57s\n",
      "959:\tlearn: 0.5729645\ttotal: 36.7s\tremaining: 1.53s\n",
      "960:\tlearn: 0.5729414\ttotal: 36.7s\tremaining: 1.49s\n",
      "961:\tlearn: 0.5729148\ttotal: 36.8s\tremaining: 1.45s\n",
      "962:\tlearn: 0.5728342\ttotal: 36.8s\tremaining: 1.41s\n"
     ]
    },
    {
     "name": "stdout",
     "output_type": "stream",
     "text": [
      "963:\tlearn: 0.5726966\ttotal: 36.9s\tremaining: 1.38s\n",
      "964:\tlearn: 0.5726547\ttotal: 36.9s\tremaining: 1.34s\n",
      "965:\tlearn: 0.5726272\ttotal: 36.9s\tremaining: 1.3s\n",
      "966:\tlearn: 0.5725760\ttotal: 37s\tremaining: 1.26s\n",
      "967:\tlearn: 0.5725422\ttotal: 37s\tremaining: 1.22s\n",
      "968:\tlearn: 0.5725019\ttotal: 37s\tremaining: 1.18s\n",
      "969:\tlearn: 0.5724157\ttotal: 37.1s\tremaining: 1.15s\n",
      "970:\tlearn: 0.5723809\ttotal: 37.1s\tremaining: 1.11s\n",
      "971:\tlearn: 0.5723395\ttotal: 37.1s\tremaining: 1.07s\n",
      "972:\tlearn: 0.5722809\ttotal: 37.2s\tremaining: 1.03s\n",
      "973:\tlearn: 0.5722491\ttotal: 37.2s\tremaining: 993ms\n",
      "974:\tlearn: 0.5722181\ttotal: 37.2s\tremaining: 955ms\n",
      "975:\tlearn: 0.5721392\ttotal: 37.3s\tremaining: 917ms\n",
      "976:\tlearn: 0.5721117\ttotal: 37.3s\tremaining: 878ms\n",
      "977:\tlearn: 0.5720800\ttotal: 37.3s\tremaining: 840ms\n",
      "978:\tlearn: 0.5720144\ttotal: 37.4s\tremaining: 802ms\n",
      "979:\tlearn: 0.5719824\ttotal: 37.4s\tremaining: 764ms\n",
      "980:\tlearn: 0.5719448\ttotal: 37.5s\tremaining: 726ms\n",
      "981:\tlearn: 0.5718810\ttotal: 37.5s\tremaining: 688ms\n",
      "982:\tlearn: 0.5718347\ttotal: 37.5s\tremaining: 649ms\n",
      "983:\tlearn: 0.5717996\ttotal: 37.6s\tremaining: 611ms\n",
      "984:\tlearn: 0.5717668\ttotal: 37.6s\tremaining: 573ms\n",
      "985:\tlearn: 0.5717251\ttotal: 37.7s\tremaining: 535ms\n",
      "986:\tlearn: 0.5716500\ttotal: 37.7s\tremaining: 497ms\n",
      "987:\tlearn: 0.5716126\ttotal: 37.7s\tremaining: 458ms\n",
      "988:\tlearn: 0.5715848\ttotal: 37.8s\tremaining: 420ms\n",
      "989:\tlearn: 0.5715148\ttotal: 37.8s\tremaining: 382ms\n",
      "990:\tlearn: 0.5714693\ttotal: 37.9s\tremaining: 344ms\n",
      "991:\tlearn: 0.5713887\ttotal: 37.9s\tremaining: 306ms\n",
      "992:\tlearn: 0.5713324\ttotal: 37.9s\tremaining: 267ms\n",
      "993:\tlearn: 0.5712731\ttotal: 38s\tremaining: 229ms\n",
      "994:\tlearn: 0.5712487\ttotal: 38s\tremaining: 191ms\n",
      "995:\tlearn: 0.5712098\ttotal: 38s\tremaining: 153ms\n",
      "996:\tlearn: 0.5711849\ttotal: 38.1s\tremaining: 115ms\n",
      "997:\tlearn: 0.5711453\ttotal: 38.1s\tremaining: 76.4ms\n",
      "998:\tlearn: 0.5711172\ttotal: 38.1s\tremaining: 38.2ms\n",
      "999:\tlearn: 0.5710844\ttotal: 38.2s\tremaining: 0us\n"
     ]
    }
   ],
   "source": [
    "eclf = eclf.fit(x_train, y_train)"
   ]
  },
  {
   "cell_type": "code",
   "execution_count": 112,
   "id": "ccb88e44",
   "metadata": {},
   "outputs": [],
   "source": [
    "y_pred =eclf.predict(x_test)"
   ]
  },
  {
   "cell_type": "code",
   "execution_count": 113,
   "id": "1676ecb1",
   "metadata": {},
   "outputs": [
    {
     "data": {
      "text/plain": [
       "0.7251203929318317"
      ]
     },
     "execution_count": 113,
     "metadata": {},
     "output_type": "execute_result"
    }
   ],
   "source": [
    "accuracy_score(y_test, y_pred)"
   ]
  },
  {
   "cell_type": "code",
   "execution_count": 126,
   "id": "efba14c9",
   "metadata": {},
   "outputs": [
    {
     "name": "stderr",
     "output_type": "stream",
     "text": [
      "/home/fscaccheri/.local/lib/python3.6/site-packages/sklearn/utils/validation.py:63: DataConversionWarning: A column-vector y was passed when a 1d array was expected. Please change the shape of y to (n_samples, ), for example using ravel().\n",
      "  return f(*args, **kwargs)\n",
      "/home/fscaccheri/.local/lib/python3.6/site-packages/xgboost/sklearn.py:1146: UserWarning: The use of label encoder in XGBClassifier is deprecated and will be removed in a future release. To remove this warning, do the following: 1) Pass option use_label_encoder=False when constructing XGBClassifier object; and 2) Encode your labels (y) as integers starting with 0, i.e. 0, 1, 2, ..., [num_class - 1].\n",
      "  warnings.warn(label_encoder_deprecation_msg, UserWarning)\n"
     ]
    },
    {
     "name": "stdout",
     "output_type": "stream",
     "text": [
      "[21:34:28] WARNING: ../src/learner.cc:1095: Starting in XGBoost 1.3.0, the default evaluation metric used with the objective 'multi:softprob' was changed from 'merror' to 'mlogloss'. Explicitly set eval_metric if you'd like to restore the old behavior.\n",
      "0:\tlearn: 0.9676455\ttotal: 41.8ms\tremaining: 41.7s\n",
      "1:\tlearn: 0.8862174\ttotal: 81.2ms\tremaining: 40.5s\n",
      "2:\tlearn: 0.8423965\ttotal: 119ms\tremaining: 39.4s\n",
      "3:\tlearn: 0.8100768\ttotal: 155ms\tremaining: 38.5s\n",
      "4:\tlearn: 0.7874932\ttotal: 195ms\tremaining: 38.7s\n",
      "5:\tlearn: 0.7711127\ttotal: 237ms\tremaining: 39.2s\n",
      "6:\tlearn: 0.7623528\ttotal: 279ms\tremaining: 39.6s\n",
      "7:\tlearn: 0.7530237\ttotal: 317ms\tremaining: 39.4s\n",
      "8:\tlearn: 0.7454301\ttotal: 347ms\tremaining: 38.3s\n",
      "9:\tlearn: 0.7413175\ttotal: 385ms\tremaining: 38.1s\n",
      "10:\tlearn: 0.7375856\ttotal: 422ms\tremaining: 37.9s\n",
      "11:\tlearn: 0.7340904\ttotal: 455ms\tremaining: 37.5s\n",
      "12:\tlearn: 0.7312689\ttotal: 492ms\tremaining: 37.4s\n",
      "13:\tlearn: 0.7286741\ttotal: 533ms\tremaining: 37.5s\n",
      "14:\tlearn: 0.7210874\ttotal: 578ms\tremaining: 38s\n",
      "15:\tlearn: 0.7173896\ttotal: 617ms\tremaining: 38s\n",
      "16:\tlearn: 0.7147082\ttotal: 653ms\tremaining: 37.8s\n",
      "17:\tlearn: 0.7130704\ttotal: 691ms\tremaining: 37.7s\n",
      "18:\tlearn: 0.7115088\ttotal: 725ms\tremaining: 37.4s\n",
      "19:\tlearn: 0.7094836\ttotal: 755ms\tremaining: 37s\n",
      "20:\tlearn: 0.7066381\ttotal: 792ms\tremaining: 36.9s\n",
      "21:\tlearn: 0.7050934\ttotal: 828ms\tremaining: 36.8s\n",
      "22:\tlearn: 0.7045341\ttotal: 861ms\tremaining: 36.6s\n",
      "23:\tlearn: 0.7035442\ttotal: 893ms\tremaining: 36.3s\n",
      "24:\tlearn: 0.7027586\ttotal: 929ms\tremaining: 36.2s\n",
      "25:\tlearn: 0.7005233\ttotal: 969ms\tremaining: 36.3s\n",
      "26:\tlearn: 0.6995346\ttotal: 1s\tremaining: 36.2s\n",
      "27:\tlearn: 0.6980052\ttotal: 1.05s\tremaining: 36.3s\n",
      "28:\tlearn: 0.6969947\ttotal: 1.09s\tremaining: 36.4s\n",
      "29:\tlearn: 0.6951504\ttotal: 1.13s\tremaining: 36.6s\n",
      "30:\tlearn: 0.6945699\ttotal: 1.17s\tremaining: 36.6s\n",
      "31:\tlearn: 0.6936995\ttotal: 1.21s\tremaining: 36.6s\n",
      "32:\tlearn: 0.6931895\ttotal: 1.25s\tremaining: 36.6s\n",
      "33:\tlearn: 0.6915850\ttotal: 1.28s\tremaining: 36.4s\n",
      "34:\tlearn: 0.6908862\ttotal: 1.31s\tremaining: 36.3s\n",
      "35:\tlearn: 0.6900140\ttotal: 1.36s\tremaining: 36.4s\n",
      "36:\tlearn: 0.6893641\ttotal: 1.4s\tremaining: 36.5s\n",
      "37:\tlearn: 0.6886995\ttotal: 1.44s\tremaining: 36.5s\n",
      "38:\tlearn: 0.6879819\ttotal: 1.47s\tremaining: 36.3s\n",
      "39:\tlearn: 0.6874549\ttotal: 1.51s\tremaining: 36.3s\n",
      "40:\tlearn: 0.6870651\ttotal: 1.54s\tremaining: 36.1s\n",
      "41:\tlearn: 0.6866801\ttotal: 1.58s\tremaining: 36.1s\n",
      "42:\tlearn: 0.6860256\ttotal: 1.62s\tremaining: 36s\n",
      "43:\tlearn: 0.6853560\ttotal: 1.65s\tremaining: 36s\n",
      "44:\tlearn: 0.6848087\ttotal: 1.69s\tremaining: 35.8s\n",
      "45:\tlearn: 0.6843177\ttotal: 1.72s\tremaining: 35.7s\n",
      "46:\tlearn: 0.6834972\ttotal: 1.76s\tremaining: 35.7s\n",
      "47:\tlearn: 0.6824761\ttotal: 1.8s\tremaining: 35.7s\n",
      "48:\tlearn: 0.6819432\ttotal: 1.84s\tremaining: 35.7s\n",
      "49:\tlearn: 0.6811436\ttotal: 1.89s\tremaining: 35.9s\n",
      "50:\tlearn: 0.6805618\ttotal: 1.92s\tremaining: 35.8s\n",
      "51:\tlearn: 0.6801344\ttotal: 1.96s\tremaining: 35.8s\n",
      "52:\tlearn: 0.6796952\ttotal: 2s\tremaining: 35.7s\n",
      "53:\tlearn: 0.6792004\ttotal: 2.04s\tremaining: 35.7s\n",
      "54:\tlearn: 0.6788946\ttotal: 2.08s\tremaining: 35.7s\n",
      "55:\tlearn: 0.6782891\ttotal: 2.12s\tremaining: 35.8s\n",
      "56:\tlearn: 0.6776190\ttotal: 2.17s\tremaining: 35.9s\n",
      "57:\tlearn: 0.6772342\ttotal: 2.21s\tremaining: 35.8s\n",
      "58:\tlearn: 0.6768762\ttotal: 2.25s\tremaining: 35.8s\n",
      "59:\tlearn: 0.6762212\ttotal: 2.29s\tremaining: 35.9s\n",
      "60:\tlearn: 0.6758474\ttotal: 2.32s\tremaining: 35.8s\n",
      "61:\tlearn: 0.6753995\ttotal: 2.36s\tremaining: 35.7s\n",
      "62:\tlearn: 0.6748991\ttotal: 2.4s\tremaining: 35.7s\n",
      "63:\tlearn: 0.6743838\ttotal: 2.44s\tremaining: 35.7s\n",
      "64:\tlearn: 0.6740924\ttotal: 2.48s\tremaining: 35.7s\n",
      "65:\tlearn: 0.6737865\ttotal: 2.52s\tremaining: 35.6s\n",
      "66:\tlearn: 0.6733469\ttotal: 2.55s\tremaining: 35.5s\n",
      "67:\tlearn: 0.6729737\ttotal: 2.59s\tremaining: 35.4s\n",
      "68:\tlearn: 0.6727041\ttotal: 2.62s\tremaining: 35.4s\n",
      "69:\tlearn: 0.6721790\ttotal: 2.66s\tremaining: 35.4s\n",
      "70:\tlearn: 0.6716404\ttotal: 2.71s\tremaining: 35.4s\n",
      "71:\tlearn: 0.6713712\ttotal: 2.74s\tremaining: 35.3s\n",
      "72:\tlearn: 0.6709656\ttotal: 2.77s\tremaining: 35.2s\n",
      "73:\tlearn: 0.6707522\ttotal: 2.8s\tremaining: 35.1s\n",
      "74:\tlearn: 0.6703422\ttotal: 2.84s\tremaining: 35s\n",
      "75:\tlearn: 0.6698289\ttotal: 2.88s\tremaining: 35s\n",
      "76:\tlearn: 0.6695859\ttotal: 2.9s\tremaining: 34.8s\n",
      "77:\tlearn: 0.6692482\ttotal: 2.95s\tremaining: 34.9s\n",
      "78:\tlearn: 0.6689375\ttotal: 2.99s\tremaining: 34.9s\n",
      "79:\tlearn: 0.6685592\ttotal: 3.03s\tremaining: 34.9s\n",
      "80:\tlearn: 0.6681654\ttotal: 3.08s\tremaining: 34.9s\n",
      "81:\tlearn: 0.6679243\ttotal: 3.11s\tremaining: 34.8s\n",
      "82:\tlearn: 0.6677678\ttotal: 3.14s\tremaining: 34.7s\n",
      "83:\tlearn: 0.6675857\ttotal: 3.18s\tremaining: 34.7s\n",
      "84:\tlearn: 0.6673556\ttotal: 3.21s\tremaining: 34.6s\n",
      "85:\tlearn: 0.6671151\ttotal: 3.25s\tremaining: 34.5s\n",
      "86:\tlearn: 0.6665632\ttotal: 3.29s\tremaining: 34.5s\n",
      "87:\tlearn: 0.6660223\ttotal: 3.33s\tremaining: 34.5s\n",
      "88:\tlearn: 0.6655960\ttotal: 3.37s\tremaining: 34.5s\n",
      "89:\tlearn: 0.6651848\ttotal: 3.41s\tremaining: 34.5s\n",
      "90:\tlearn: 0.6649407\ttotal: 3.45s\tremaining: 34.5s\n",
      "91:\tlearn: 0.6644908\ttotal: 3.49s\tremaining: 34.4s\n",
      "92:\tlearn: 0.6642859\ttotal: 3.52s\tremaining: 34.3s\n",
      "93:\tlearn: 0.6635073\ttotal: 3.56s\tremaining: 34.4s\n",
      "94:\tlearn: 0.6631048\ttotal: 3.6s\tremaining: 34.3s\n",
      "95:\tlearn: 0.6627297\ttotal: 3.65s\tremaining: 34.3s\n",
      "96:\tlearn: 0.6623575\ttotal: 3.68s\tremaining: 34.2s\n",
      "97:\tlearn: 0.6619410\ttotal: 3.72s\tremaining: 34.2s\n",
      "98:\tlearn: 0.6615697\ttotal: 3.77s\tremaining: 34.3s\n",
      "99:\tlearn: 0.6611148\ttotal: 3.8s\tremaining: 34.2s\n",
      "100:\tlearn: 0.6606817\ttotal: 3.84s\tremaining: 34.2s\n",
      "101:\tlearn: 0.6602412\ttotal: 3.89s\tremaining: 34.2s\n",
      "102:\tlearn: 0.6600845\ttotal: 3.92s\tremaining: 34.2s\n",
      "103:\tlearn: 0.6591740\ttotal: 3.97s\tremaining: 34.2s\n",
      "104:\tlearn: 0.6586158\ttotal: 4.02s\tremaining: 34.2s\n",
      "105:\tlearn: 0.6583225\ttotal: 4.05s\tremaining: 34.2s\n",
      "106:\tlearn: 0.6580717\ttotal: 4.09s\tremaining: 34.2s\n",
      "107:\tlearn: 0.6578493\ttotal: 4.14s\tremaining: 34.2s\n",
      "108:\tlearn: 0.6575257\ttotal: 4.18s\tremaining: 34.2s\n",
      "109:\tlearn: 0.6571748\ttotal: 4.22s\tremaining: 34.2s\n",
      "110:\tlearn: 0.6569239\ttotal: 4.27s\tremaining: 34.2s\n",
      "111:\tlearn: 0.6562531\ttotal: 4.32s\tremaining: 34.2s\n",
      "112:\tlearn: 0.6559761\ttotal: 4.36s\tremaining: 34.2s\n",
      "113:\tlearn: 0.6558438\ttotal: 4.39s\tremaining: 34.1s\n",
      "114:\tlearn: 0.6555729\ttotal: 4.43s\tremaining: 34.1s\n",
      "115:\tlearn: 0.6551552\ttotal: 4.47s\tremaining: 34.1s\n",
      "116:\tlearn: 0.6549567\ttotal: 4.51s\tremaining: 34.1s\n",
      "117:\tlearn: 0.6547173\ttotal: 4.55s\tremaining: 34s\n",
      "118:\tlearn: 0.6545025\ttotal: 4.59s\tremaining: 34s\n",
      "119:\tlearn: 0.6542745\ttotal: 4.63s\tremaining: 33.9s\n",
      "120:\tlearn: 0.6540074\ttotal: 4.66s\tremaining: 33.9s\n",
      "121:\tlearn: 0.6537331\ttotal: 4.7s\tremaining: 33.8s\n",
      "122:\tlearn: 0.6533815\ttotal: 4.73s\tremaining: 33.7s\n",
      "123:\tlearn: 0.6528908\ttotal: 4.78s\tremaining: 33.7s\n",
      "124:\tlearn: 0.6525430\ttotal: 4.81s\tremaining: 33.7s\n",
      "125:\tlearn: 0.6521987\ttotal: 4.85s\tremaining: 33.6s\n",
      "126:\tlearn: 0.6520669\ttotal: 4.88s\tremaining: 33.6s\n",
      "127:\tlearn: 0.6519520\ttotal: 4.92s\tremaining: 33.5s\n",
      "128:\tlearn: 0.6517817\ttotal: 4.95s\tremaining: 33.4s\n",
      "129:\tlearn: 0.6516287\ttotal: 4.99s\tremaining: 33.4s\n",
      "130:\tlearn: 0.6514044\ttotal: 5.03s\tremaining: 33.3s\n",
      "131:\tlearn: 0.6510828\ttotal: 5.07s\tremaining: 33.3s\n",
      "132:\tlearn: 0.6508793\ttotal: 5.11s\tremaining: 33.3s\n",
      "133:\tlearn: 0.6505715\ttotal: 5.15s\tremaining: 33.3s\n",
      "134:\tlearn: 0.6503367\ttotal: 5.19s\tremaining: 33.2s\n",
      "135:\tlearn: 0.6501768\ttotal: 5.23s\tremaining: 33.2s\n",
      "136:\tlearn: 0.6499381\ttotal: 5.26s\tremaining: 33.2s\n",
      "137:\tlearn: 0.6494993\ttotal: 5.3s\tremaining: 33.1s\n",
      "138:\tlearn: 0.6493322\ttotal: 5.34s\tremaining: 33.1s\n",
      "139:\tlearn: 0.6491993\ttotal: 5.38s\tremaining: 33s\n",
      "140:\tlearn: 0.6490401\ttotal: 5.41s\tremaining: 33s\n",
      "141:\tlearn: 0.6488750\ttotal: 5.45s\tremaining: 32.9s\n",
      "142:\tlearn: 0.6486667\ttotal: 5.49s\tremaining: 32.9s\n",
      "143:\tlearn: 0.6480224\ttotal: 5.54s\tremaining: 32.9s\n",
      "144:\tlearn: 0.6478278\ttotal: 5.57s\tremaining: 32.8s\n",
      "145:\tlearn: 0.6476495\ttotal: 5.61s\tremaining: 32.8s\n",
      "146:\tlearn: 0.6475364\ttotal: 5.64s\tremaining: 32.8s\n",
      "147:\tlearn: 0.6473742\ttotal: 5.68s\tremaining: 32.7s\n",
      "148:\tlearn: 0.6471995\ttotal: 5.71s\tremaining: 32.6s\n",
      "149:\tlearn: 0.6470725\ttotal: 5.75s\tremaining: 32.6s\n",
      "150:\tlearn: 0.6467706\ttotal: 5.79s\tremaining: 32.5s\n",
      "151:\tlearn: 0.6465843\ttotal: 5.82s\tremaining: 32.5s\n",
      "152:\tlearn: 0.6464813\ttotal: 5.86s\tremaining: 32.4s\n",
      "153:\tlearn: 0.6463520\ttotal: 5.9s\tremaining: 32.4s\n",
      "154:\tlearn: 0.6462181\ttotal: 5.93s\tremaining: 32.3s\n",
      "155:\tlearn: 0.6460297\ttotal: 5.97s\tremaining: 32.3s\n",
      "156:\tlearn: 0.6458845\ttotal: 6s\tremaining: 32.2s\n"
     ]
    },
    {
     "name": "stdout",
     "output_type": "stream",
     "text": [
      "157:\tlearn: 0.6455715\ttotal: 6.04s\tremaining: 32.2s\n",
      "158:\tlearn: 0.6452709\ttotal: 6.08s\tremaining: 32.1s\n",
      "159:\tlearn: 0.6450223\ttotal: 6.12s\tremaining: 32.1s\n",
      "160:\tlearn: 0.6447796\ttotal: 6.15s\tremaining: 32.1s\n",
      "161:\tlearn: 0.6443494\ttotal: 6.19s\tremaining: 32s\n",
      "162:\tlearn: 0.6441594\ttotal: 6.23s\tremaining: 32s\n",
      "163:\tlearn: 0.6438900\ttotal: 6.28s\tremaining: 32s\n",
      "164:\tlearn: 0.6438163\ttotal: 6.32s\tremaining: 32s\n",
      "165:\tlearn: 0.6435119\ttotal: 6.36s\tremaining: 32s\n",
      "166:\tlearn: 0.6434320\ttotal: 6.39s\tremaining: 31.9s\n",
      "167:\tlearn: 0.6431005\ttotal: 6.44s\tremaining: 31.9s\n",
      "168:\tlearn: 0.6429477\ttotal: 6.48s\tremaining: 31.9s\n",
      "169:\tlearn: 0.6427608\ttotal: 6.52s\tremaining: 31.8s\n",
      "170:\tlearn: 0.6425928\ttotal: 6.56s\tremaining: 31.8s\n",
      "171:\tlearn: 0.6421934\ttotal: 6.59s\tremaining: 31.7s\n",
      "172:\tlearn: 0.6419951\ttotal: 6.63s\tremaining: 31.7s\n",
      "173:\tlearn: 0.6418485\ttotal: 6.67s\tremaining: 31.7s\n",
      "174:\tlearn: 0.6416830\ttotal: 6.7s\tremaining: 31.6s\n",
      "175:\tlearn: 0.6415153\ttotal: 6.75s\tremaining: 31.6s\n",
      "176:\tlearn: 0.6412333\ttotal: 6.78s\tremaining: 31.5s\n",
      "177:\tlearn: 0.6407927\ttotal: 6.82s\tremaining: 31.5s\n",
      "178:\tlearn: 0.6405698\ttotal: 6.85s\tremaining: 31.4s\n",
      "179:\tlearn: 0.6403914\ttotal: 6.88s\tremaining: 31.4s\n",
      "180:\tlearn: 0.6401658\ttotal: 6.92s\tremaining: 31.3s\n",
      "181:\tlearn: 0.6398526\ttotal: 6.97s\tremaining: 31.3s\n",
      "182:\tlearn: 0.6396365\ttotal: 7.01s\tremaining: 31.3s\n",
      "183:\tlearn: 0.6394272\ttotal: 7.05s\tremaining: 31.3s\n",
      "184:\tlearn: 0.6392857\ttotal: 7.09s\tremaining: 31.2s\n",
      "185:\tlearn: 0.6390468\ttotal: 7.12s\tremaining: 31.2s\n",
      "186:\tlearn: 0.6388631\ttotal: 7.16s\tremaining: 31.1s\n",
      "187:\tlearn: 0.6385612\ttotal: 7.2s\tremaining: 31.1s\n",
      "188:\tlearn: 0.6384192\ttotal: 7.24s\tremaining: 31s\n",
      "189:\tlearn: 0.6382591\ttotal: 7.27s\tremaining: 31s\n",
      "190:\tlearn: 0.6378445\ttotal: 7.31s\tremaining: 31s\n",
      "191:\tlearn: 0.6376389\ttotal: 7.35s\tremaining: 30.9s\n",
      "192:\tlearn: 0.6374919\ttotal: 7.38s\tremaining: 30.9s\n",
      "193:\tlearn: 0.6372709\ttotal: 7.42s\tremaining: 30.8s\n",
      "194:\tlearn: 0.6370879\ttotal: 7.46s\tremaining: 30.8s\n",
      "195:\tlearn: 0.6369583\ttotal: 7.5s\tremaining: 30.8s\n",
      "196:\tlearn: 0.6367959\ttotal: 7.53s\tremaining: 30.7s\n",
      "197:\tlearn: 0.6366869\ttotal: 7.57s\tremaining: 30.6s\n",
      "198:\tlearn: 0.6365419\ttotal: 7.61s\tremaining: 30.6s\n",
      "199:\tlearn: 0.6363755\ttotal: 7.65s\tremaining: 30.6s\n",
      "200:\tlearn: 0.6362591\ttotal: 7.69s\tremaining: 30.6s\n",
      "201:\tlearn: 0.6360008\ttotal: 7.72s\tremaining: 30.5s\n",
      "202:\tlearn: 0.6358297\ttotal: 7.76s\tremaining: 30.5s\n",
      "203:\tlearn: 0.6357155\ttotal: 7.8s\tremaining: 30.4s\n",
      "204:\tlearn: 0.6355766\ttotal: 7.84s\tremaining: 30.4s\n",
      "205:\tlearn: 0.6354802\ttotal: 7.88s\tremaining: 30.4s\n",
      "206:\tlearn: 0.6353674\ttotal: 7.92s\tremaining: 30.3s\n",
      "207:\tlearn: 0.6351704\ttotal: 7.95s\tremaining: 30.3s\n",
      "208:\tlearn: 0.6348816\ttotal: 8s\tremaining: 30.3s\n",
      "209:\tlearn: 0.6347119\ttotal: 8.04s\tremaining: 30.2s\n",
      "210:\tlearn: 0.6346201\ttotal: 8.07s\tremaining: 30.2s\n",
      "211:\tlearn: 0.6344919\ttotal: 8.11s\tremaining: 30.2s\n",
      "212:\tlearn: 0.6342631\ttotal: 8.15s\tremaining: 30.1s\n",
      "213:\tlearn: 0.6341340\ttotal: 8.18s\tremaining: 30.1s\n",
      "214:\tlearn: 0.6339257\ttotal: 8.22s\tremaining: 30s\n",
      "215:\tlearn: 0.6335517\ttotal: 8.27s\tremaining: 30s\n",
      "216:\tlearn: 0.6333987\ttotal: 8.3s\tremaining: 30s\n",
      "217:\tlearn: 0.6332876\ttotal: 8.34s\tremaining: 29.9s\n",
      "218:\tlearn: 0.6331977\ttotal: 8.38s\tremaining: 29.9s\n",
      "219:\tlearn: 0.6328320\ttotal: 8.43s\tremaining: 29.9s\n",
      "220:\tlearn: 0.6326810\ttotal: 8.47s\tremaining: 29.9s\n",
      "221:\tlearn: 0.6325274\ttotal: 8.51s\tremaining: 29.8s\n",
      "222:\tlearn: 0.6322612\ttotal: 8.54s\tremaining: 29.8s\n",
      "223:\tlearn: 0.6320974\ttotal: 8.59s\tremaining: 29.7s\n",
      "224:\tlearn: 0.6319099\ttotal: 8.63s\tremaining: 29.7s\n",
      "225:\tlearn: 0.6317819\ttotal: 8.67s\tremaining: 29.7s\n",
      "226:\tlearn: 0.6315445\ttotal: 8.71s\tremaining: 29.6s\n",
      "227:\tlearn: 0.6314035\ttotal: 8.74s\tremaining: 29.6s\n",
      "228:\tlearn: 0.6311770\ttotal: 8.78s\tremaining: 29.6s\n",
      "229:\tlearn: 0.6309470\ttotal: 8.82s\tremaining: 29.5s\n",
      "230:\tlearn: 0.6307335\ttotal: 8.85s\tremaining: 29.5s\n",
      "231:\tlearn: 0.6306670\ttotal: 8.88s\tremaining: 29.4s\n",
      "232:\tlearn: 0.6305973\ttotal: 8.91s\tremaining: 29.3s\n",
      "233:\tlearn: 0.6302662\ttotal: 8.95s\tremaining: 29.3s\n",
      "234:\tlearn: 0.6301538\ttotal: 8.98s\tremaining: 29.2s\n",
      "235:\tlearn: 0.6299312\ttotal: 9.03s\tremaining: 29.2s\n",
      "236:\tlearn: 0.6297392\ttotal: 9.07s\tremaining: 29.2s\n",
      "237:\tlearn: 0.6295984\ttotal: 9.1s\tremaining: 29.1s\n",
      "238:\tlearn: 0.6294826\ttotal: 9.14s\tremaining: 29.1s\n",
      "239:\tlearn: 0.6294014\ttotal: 9.17s\tremaining: 29.1s\n",
      "240:\tlearn: 0.6293200\ttotal: 9.22s\tremaining: 29s\n",
      "241:\tlearn: 0.6292546\ttotal: 9.25s\tremaining: 29s\n",
      "242:\tlearn: 0.6291095\ttotal: 9.29s\tremaining: 28.9s\n",
      "243:\tlearn: 0.6290334\ttotal: 9.32s\tremaining: 28.9s\n",
      "244:\tlearn: 0.6289806\ttotal: 9.36s\tremaining: 28.8s\n",
      "245:\tlearn: 0.6288547\ttotal: 9.39s\tremaining: 28.8s\n",
      "246:\tlearn: 0.6287227\ttotal: 9.43s\tremaining: 28.7s\n",
      "247:\tlearn: 0.6286711\ttotal: 9.47s\tremaining: 28.7s\n",
      "248:\tlearn: 0.6285625\ttotal: 9.51s\tremaining: 28.7s\n",
      "249:\tlearn: 0.6283653\ttotal: 9.54s\tremaining: 28.6s\n",
      "250:\tlearn: 0.6281694\ttotal: 9.59s\tremaining: 28.6s\n",
      "251:\tlearn: 0.6277218\ttotal: 9.63s\tremaining: 28.6s\n",
      "252:\tlearn: 0.6276258\ttotal: 9.68s\tremaining: 28.6s\n",
      "253:\tlearn: 0.6273221\ttotal: 9.72s\tremaining: 28.5s\n",
      "254:\tlearn: 0.6272330\ttotal: 9.75s\tremaining: 28.5s\n",
      "255:\tlearn: 0.6271651\ttotal: 9.79s\tremaining: 28.4s\n",
      "256:\tlearn: 0.6270874\ttotal: 9.82s\tremaining: 28.4s\n",
      "257:\tlearn: 0.6268418\ttotal: 9.87s\tremaining: 28.4s\n",
      "258:\tlearn: 0.6267406\ttotal: 9.9s\tremaining: 28.3s\n",
      "259:\tlearn: 0.6266791\ttotal: 9.93s\tremaining: 28.3s\n",
      "260:\tlearn: 0.6265576\ttotal: 9.97s\tremaining: 28.2s\n",
      "261:\tlearn: 0.6263950\ttotal: 10s\tremaining: 28.2s\n",
      "262:\tlearn: 0.6263104\ttotal: 10s\tremaining: 28.2s\n",
      "263:\tlearn: 0.6262195\ttotal: 10.1s\tremaining: 28.1s\n",
      "264:\tlearn: 0.6261334\ttotal: 10.1s\tremaining: 28.1s\n",
      "265:\tlearn: 0.6259794\ttotal: 10.2s\tremaining: 28s\n",
      "266:\tlearn: 0.6258886\ttotal: 10.2s\tremaining: 28s\n",
      "267:\tlearn: 0.6258308\ttotal: 10.2s\tremaining: 28s\n",
      "268:\tlearn: 0.6257707\ttotal: 10.3s\tremaining: 27.9s\n",
      "269:\tlearn: 0.6256246\ttotal: 10.3s\tremaining: 27.9s\n",
      "270:\tlearn: 0.6255567\ttotal: 10.4s\tremaining: 27.9s\n",
      "271:\tlearn: 0.6255231\ttotal: 10.4s\tremaining: 27.8s\n",
      "272:\tlearn: 0.6254079\ttotal: 10.4s\tremaining: 27.8s\n",
      "273:\tlearn: 0.6253088\ttotal: 10.5s\tremaining: 27.7s\n",
      "274:\tlearn: 0.6252503\ttotal: 10.5s\tremaining: 27.7s\n",
      "275:\tlearn: 0.6252201\ttotal: 10.5s\tremaining: 27.6s\n",
      "276:\tlearn: 0.6251213\ttotal: 10.6s\tremaining: 27.6s\n",
      "277:\tlearn: 0.6248137\ttotal: 10.6s\tremaining: 27.6s\n",
      "278:\tlearn: 0.6245976\ttotal: 10.7s\tremaining: 27.5s\n",
      "279:\tlearn: 0.6243533\ttotal: 10.7s\tremaining: 27.5s\n",
      "280:\tlearn: 0.6242804\ttotal: 10.7s\tremaining: 27.4s\n",
      "281:\tlearn: 0.6241622\ttotal: 10.8s\tremaining: 27.4s\n",
      "282:\tlearn: 0.6239848\ttotal: 10.8s\tremaining: 27.4s\n",
      "283:\tlearn: 0.6237450\ttotal: 10.8s\tremaining: 27.3s\n",
      "284:\tlearn: 0.6234610\ttotal: 10.9s\tremaining: 27.3s\n",
      "285:\tlearn: 0.6233424\ttotal: 10.9s\tremaining: 27.2s\n",
      "286:\tlearn: 0.6232145\ttotal: 10.9s\tremaining: 27.2s\n",
      "287:\tlearn: 0.6230579\ttotal: 11s\tremaining: 27.2s\n",
      "288:\tlearn: 0.6227776\ttotal: 11s\tremaining: 27.2s\n",
      "289:\tlearn: 0.6225696\ttotal: 11.1s\tremaining: 27.1s\n",
      "290:\tlearn: 0.6224635\ttotal: 11.1s\tremaining: 27.1s\n",
      "291:\tlearn: 0.6224348\ttotal: 11.2s\tremaining: 27.1s\n",
      "292:\tlearn: 0.6223384\ttotal: 11.2s\tremaining: 27s\n",
      "293:\tlearn: 0.6221778\ttotal: 11.2s\tremaining: 27s\n",
      "294:\tlearn: 0.6221131\ttotal: 11.3s\tremaining: 26.9s\n",
      "295:\tlearn: 0.6220076\ttotal: 11.3s\tremaining: 26.9s\n",
      "296:\tlearn: 0.6218245\ttotal: 11.3s\tremaining: 26.9s\n",
      "297:\tlearn: 0.6216921\ttotal: 11.4s\tremaining: 26.8s\n",
      "298:\tlearn: 0.6215953\ttotal: 11.4s\tremaining: 26.8s\n",
      "299:\tlearn: 0.6215134\ttotal: 11.5s\tremaining: 26.8s\n",
      "300:\tlearn: 0.6213536\ttotal: 11.5s\tremaining: 26.7s\n",
      "301:\tlearn: 0.6211713\ttotal: 11.5s\tremaining: 26.7s\n",
      "302:\tlearn: 0.6210806\ttotal: 11.6s\tremaining: 26.7s\n",
      "303:\tlearn: 0.6209752\ttotal: 11.6s\tremaining: 26.6s\n",
      "304:\tlearn: 0.6209162\ttotal: 11.7s\tremaining: 26.6s\n",
      "305:\tlearn: 0.6207705\ttotal: 11.7s\tremaining: 26.5s\n",
      "306:\tlearn: 0.6206045\ttotal: 11.7s\tremaining: 26.5s\n",
      "307:\tlearn: 0.6204910\ttotal: 11.8s\tremaining: 26.4s\n",
      "308:\tlearn: 0.6203670\ttotal: 11.8s\tremaining: 26.4s\n",
      "309:\tlearn: 0.6202610\ttotal: 11.8s\tremaining: 26.4s\n",
      "310:\tlearn: 0.6202025\ttotal: 11.9s\tremaining: 26.3s\n",
      "311:\tlearn: 0.6200968\ttotal: 11.9s\tremaining: 26.3s\n",
      "312:\tlearn: 0.6199476\ttotal: 12s\tremaining: 26.3s\n",
      "313:\tlearn: 0.6198180\ttotal: 12s\tremaining: 26.2s\n",
      "314:\tlearn: 0.6197225\ttotal: 12s\tremaining: 26.2s\n",
      "315:\tlearn: 0.6195525\ttotal: 12.1s\tremaining: 26.1s\n",
      "316:\tlearn: 0.6195178\ttotal: 12.1s\tremaining: 26.1s\n",
      "317:\tlearn: 0.6194668\ttotal: 12.1s\tremaining: 26s\n",
      "318:\tlearn: 0.6193509\ttotal: 12.2s\tremaining: 26s\n",
      "319:\tlearn: 0.6192989\ttotal: 12.2s\tremaining: 26s\n",
      "320:\tlearn: 0.6192082\ttotal: 12.2s\tremaining: 25.9s\n"
     ]
    },
    {
     "name": "stdout",
     "output_type": "stream",
     "text": [
      "321:\tlearn: 0.6191210\ttotal: 12.3s\tremaining: 25.9s\n",
      "322:\tlearn: 0.6190492\ttotal: 12.3s\tremaining: 25.8s\n",
      "323:\tlearn: 0.6189871\ttotal: 12.4s\tremaining: 25.8s\n",
      "324:\tlearn: 0.6189167\ttotal: 12.4s\tremaining: 25.8s\n",
      "325:\tlearn: 0.6188892\ttotal: 12.4s\tremaining: 25.7s\n",
      "326:\tlearn: 0.6188539\ttotal: 12.5s\tremaining: 25.7s\n",
      "327:\tlearn: 0.6186767\ttotal: 12.5s\tremaining: 25.7s\n",
      "328:\tlearn: 0.6186222\ttotal: 12.6s\tremaining: 25.6s\n",
      "329:\tlearn: 0.6185239\ttotal: 12.6s\tremaining: 25.6s\n",
      "330:\tlearn: 0.6184568\ttotal: 12.6s\tremaining: 25.5s\n",
      "331:\tlearn: 0.6184158\ttotal: 12.7s\tremaining: 25.5s\n",
      "332:\tlearn: 0.6182783\ttotal: 12.7s\tremaining: 25.5s\n",
      "333:\tlearn: 0.6180804\ttotal: 12.8s\tremaining: 25.4s\n",
      "334:\tlearn: 0.6179943\ttotal: 12.8s\tremaining: 25.4s\n",
      "335:\tlearn: 0.6179127\ttotal: 12.8s\tremaining: 25.4s\n",
      "336:\tlearn: 0.6177643\ttotal: 12.9s\tremaining: 25.3s\n",
      "337:\tlearn: 0.6176510\ttotal: 12.9s\tremaining: 25.3s\n",
      "338:\tlearn: 0.6175910\ttotal: 12.9s\tremaining: 25.2s\n",
      "339:\tlearn: 0.6175341\ttotal: 13s\tremaining: 25.2s\n",
      "340:\tlearn: 0.6174192\ttotal: 13s\tremaining: 25.2s\n",
      "341:\tlearn: 0.6172828\ttotal: 13.1s\tremaining: 25.1s\n",
      "342:\tlearn: 0.6171340\ttotal: 13.1s\tremaining: 25.1s\n",
      "343:\tlearn: 0.6170822\ttotal: 13.1s\tremaining: 25s\n",
      "344:\tlearn: 0.6169730\ttotal: 13.2s\tremaining: 25s\n",
      "345:\tlearn: 0.6168606\ttotal: 13.2s\tremaining: 25s\n",
      "346:\tlearn: 0.6167580\ttotal: 13.2s\tremaining: 24.9s\n",
      "347:\tlearn: 0.6166231\ttotal: 13.3s\tremaining: 24.9s\n",
      "348:\tlearn: 0.6165535\ttotal: 13.3s\tremaining: 24.8s\n",
      "349:\tlearn: 0.6164706\ttotal: 13.4s\tremaining: 24.8s\n",
      "350:\tlearn: 0.6163925\ttotal: 13.4s\tremaining: 24.8s\n",
      "351:\tlearn: 0.6163184\ttotal: 13.4s\tremaining: 24.7s\n",
      "352:\tlearn: 0.6162539\ttotal: 13.5s\tremaining: 24.7s\n",
      "353:\tlearn: 0.6160313\ttotal: 13.5s\tremaining: 24.6s\n",
      "354:\tlearn: 0.6158918\ttotal: 13.5s\tremaining: 24.6s\n",
      "355:\tlearn: 0.6157615\ttotal: 13.6s\tremaining: 24.6s\n",
      "356:\tlearn: 0.6156891\ttotal: 13.6s\tremaining: 24.5s\n",
      "357:\tlearn: 0.6154578\ttotal: 13.7s\tremaining: 24.5s\n",
      "358:\tlearn: 0.6153860\ttotal: 13.7s\tremaining: 24.4s\n",
      "359:\tlearn: 0.6152011\ttotal: 13.7s\tremaining: 24.4s\n",
      "360:\tlearn: 0.6151614\ttotal: 13.8s\tremaining: 24.4s\n",
      "361:\tlearn: 0.6150817\ttotal: 13.8s\tremaining: 24.3s\n",
      "362:\tlearn: 0.6148521\ttotal: 13.9s\tremaining: 24.3s\n",
      "363:\tlearn: 0.6146466\ttotal: 13.9s\tremaining: 24.3s\n",
      "364:\tlearn: 0.6145685\ttotal: 13.9s\tremaining: 24.2s\n",
      "365:\tlearn: 0.6145155\ttotal: 14s\tremaining: 24.2s\n",
      "366:\tlearn: 0.6144609\ttotal: 14s\tremaining: 24.1s\n",
      "367:\tlearn: 0.6143812\ttotal: 14s\tremaining: 24.1s\n",
      "368:\tlearn: 0.6143254\ttotal: 14.1s\tremaining: 24s\n",
      "369:\tlearn: 0.6142344\ttotal: 14.1s\tremaining: 24s\n",
      "370:\tlearn: 0.6141496\ttotal: 14.1s\tremaining: 24s\n",
      "371:\tlearn: 0.6141244\ttotal: 14.2s\tremaining: 23.9s\n",
      "372:\tlearn: 0.6140313\ttotal: 14.2s\tremaining: 23.9s\n",
      "373:\tlearn: 0.6138737\ttotal: 14.3s\tremaining: 23.9s\n",
      "374:\tlearn: 0.6137697\ttotal: 14.3s\tremaining: 23.8s\n",
      "375:\tlearn: 0.6136934\ttotal: 14.3s\tremaining: 23.8s\n",
      "376:\tlearn: 0.6136383\ttotal: 14.4s\tremaining: 23.7s\n",
      "377:\tlearn: 0.6135664\ttotal: 14.4s\tremaining: 23.7s\n",
      "378:\tlearn: 0.6135287\ttotal: 14.4s\tremaining: 23.7s\n",
      "379:\tlearn: 0.6134886\ttotal: 14.5s\tremaining: 23.6s\n",
      "380:\tlearn: 0.6134206\ttotal: 14.5s\tremaining: 23.6s\n",
      "381:\tlearn: 0.6133709\ttotal: 14.5s\tremaining: 23.5s\n",
      "382:\tlearn: 0.6133128\ttotal: 14.6s\tremaining: 23.5s\n",
      "383:\tlearn: 0.6131875\ttotal: 14.6s\tremaining: 23.5s\n",
      "384:\tlearn: 0.6131041\ttotal: 14.7s\tremaining: 23.4s\n",
      "385:\tlearn: 0.6130008\ttotal: 14.7s\tremaining: 23.4s\n",
      "386:\tlearn: 0.6129371\ttotal: 14.7s\tremaining: 23.3s\n",
      "387:\tlearn: 0.6128782\ttotal: 14.8s\tremaining: 23.3s\n",
      "388:\tlearn: 0.6127235\ttotal: 14.8s\tremaining: 23.3s\n",
      "389:\tlearn: 0.6126540\ttotal: 14.8s\tremaining: 23.2s\n",
      "390:\tlearn: 0.6125293\ttotal: 14.9s\tremaining: 23.2s\n",
      "391:\tlearn: 0.6124865\ttotal: 14.9s\tremaining: 23.1s\n",
      "392:\tlearn: 0.6123660\ttotal: 14.9s\tremaining: 23.1s\n",
      "393:\tlearn: 0.6122792\ttotal: 15s\tremaining: 23.1s\n",
      "394:\tlearn: 0.6121170\ttotal: 15s\tremaining: 23s\n",
      "395:\tlearn: 0.6119345\ttotal: 15.1s\tremaining: 23s\n",
      "396:\tlearn: 0.6118938\ttotal: 15.1s\tremaining: 22.9s\n",
      "397:\tlearn: 0.6116569\ttotal: 15.1s\tremaining: 22.9s\n",
      "398:\tlearn: 0.6116204\ttotal: 15.2s\tremaining: 22.9s\n",
      "399:\tlearn: 0.6115351\ttotal: 15.2s\tremaining: 22.8s\n",
      "400:\tlearn: 0.6114409\ttotal: 15.3s\tremaining: 22.8s\n",
      "401:\tlearn: 0.6112772\ttotal: 15.3s\tremaining: 22.8s\n",
      "402:\tlearn: 0.6111954\ttotal: 15.3s\tremaining: 22.7s\n",
      "403:\tlearn: 0.6111513\ttotal: 15.4s\tremaining: 22.7s\n",
      "404:\tlearn: 0.6111211\ttotal: 15.4s\tremaining: 22.6s\n",
      "405:\tlearn: 0.6110270\ttotal: 15.4s\tremaining: 22.6s\n",
      "406:\tlearn: 0.6109994\ttotal: 15.5s\tremaining: 22.6s\n",
      "407:\tlearn: 0.6109387\ttotal: 15.5s\tremaining: 22.5s\n",
      "408:\tlearn: 0.6108644\ttotal: 15.6s\tremaining: 22.5s\n",
      "409:\tlearn: 0.6108073\ttotal: 15.6s\tremaining: 22.4s\n",
      "410:\tlearn: 0.6107592\ttotal: 15.6s\tremaining: 22.4s\n",
      "411:\tlearn: 0.6107094\ttotal: 15.7s\tremaining: 22.3s\n",
      "412:\tlearn: 0.6106052\ttotal: 15.7s\tremaining: 22.3s\n",
      "413:\tlearn: 0.6104342\ttotal: 15.7s\tremaining: 22.3s\n",
      "414:\tlearn: 0.6103631\ttotal: 15.8s\tremaining: 22.2s\n",
      "415:\tlearn: 0.6103379\ttotal: 15.8s\tremaining: 22.2s\n",
      "416:\tlearn: 0.6101029\ttotal: 15.9s\tremaining: 22.2s\n",
      "417:\tlearn: 0.6099711\ttotal: 15.9s\tremaining: 22.1s\n",
      "418:\tlearn: 0.6098794\ttotal: 15.9s\tremaining: 22.1s\n",
      "419:\tlearn: 0.6098354\ttotal: 16s\tremaining: 22.1s\n",
      "420:\tlearn: 0.6097290\ttotal: 16s\tremaining: 22s\n",
      "421:\tlearn: 0.6094866\ttotal: 16s\tremaining: 22s\n",
      "422:\tlearn: 0.6093594\ttotal: 16.1s\tremaining: 22s\n",
      "423:\tlearn: 0.6092961\ttotal: 16.1s\tremaining: 21.9s\n",
      "424:\tlearn: 0.6092242\ttotal: 16.2s\tremaining: 21.9s\n",
      "425:\tlearn: 0.6091647\ttotal: 16.2s\tremaining: 21.8s\n",
      "426:\tlearn: 0.6090273\ttotal: 16.2s\tremaining: 21.8s\n",
      "427:\tlearn: 0.6089802\ttotal: 16.3s\tremaining: 21.7s\n",
      "428:\tlearn: 0.6089400\ttotal: 16.3s\tremaining: 21.7s\n",
      "429:\tlearn: 0.6088693\ttotal: 16.3s\tremaining: 21.7s\n",
      "430:\tlearn: 0.6088295\ttotal: 16.4s\tremaining: 21.6s\n",
      "431:\tlearn: 0.6087634\ttotal: 16.4s\tremaining: 21.6s\n",
      "432:\tlearn: 0.6086702\ttotal: 16.5s\tremaining: 21.6s\n",
      "433:\tlearn: 0.6086035\ttotal: 16.5s\tremaining: 21.5s\n",
      "434:\tlearn: 0.6085415\ttotal: 16.5s\tremaining: 21.5s\n",
      "435:\tlearn: 0.6084562\ttotal: 16.6s\tremaining: 21.4s\n",
      "436:\tlearn: 0.6082601\ttotal: 16.6s\tremaining: 21.4s\n",
      "437:\tlearn: 0.6081921\ttotal: 16.7s\tremaining: 21.4s\n",
      "438:\tlearn: 0.6081275\ttotal: 16.7s\tremaining: 21.3s\n",
      "439:\tlearn: 0.6080158\ttotal: 16.7s\tremaining: 21.3s\n",
      "440:\tlearn: 0.6079411\ttotal: 16.8s\tremaining: 21.3s\n",
      "441:\tlearn: 0.6078485\ttotal: 16.8s\tremaining: 21.2s\n",
      "442:\tlearn: 0.6076748\ttotal: 16.8s\tremaining: 21.2s\n",
      "443:\tlearn: 0.6075944\ttotal: 16.9s\tremaining: 21.1s\n",
      "444:\tlearn: 0.6075066\ttotal: 16.9s\tremaining: 21.1s\n",
      "445:\tlearn: 0.6073991\ttotal: 17s\tremaining: 21.1s\n",
      "446:\tlearn: 0.6072857\ttotal: 17s\tremaining: 21s\n",
      "447:\tlearn: 0.6072310\ttotal: 17s\tremaining: 21s\n",
      "448:\tlearn: 0.6071917\ttotal: 17.1s\tremaining: 20.9s\n",
      "449:\tlearn: 0.6071611\ttotal: 17.1s\tremaining: 20.9s\n",
      "450:\tlearn: 0.6070850\ttotal: 17.1s\tremaining: 20.9s\n",
      "451:\tlearn: 0.6070214\ttotal: 17.2s\tremaining: 20.8s\n",
      "452:\tlearn: 0.6069748\ttotal: 17.2s\tremaining: 20.8s\n",
      "453:\tlearn: 0.6069159\ttotal: 17.3s\tremaining: 20.8s\n",
      "454:\tlearn: 0.6067781\ttotal: 17.3s\tremaining: 20.7s\n",
      "455:\tlearn: 0.6066856\ttotal: 17.3s\tremaining: 20.7s\n",
      "456:\tlearn: 0.6065585\ttotal: 17.4s\tremaining: 20.6s\n",
      "457:\tlearn: 0.6064168\ttotal: 17.4s\tremaining: 20.6s\n",
      "458:\tlearn: 0.6063840\ttotal: 17.5s\tremaining: 20.6s\n",
      "459:\tlearn: 0.6062756\ttotal: 17.5s\tremaining: 20.5s\n",
      "460:\tlearn: 0.6062407\ttotal: 17.5s\tremaining: 20.5s\n",
      "461:\tlearn: 0.6061290\ttotal: 17.6s\tremaining: 20.5s\n",
      "462:\tlearn: 0.6060452\ttotal: 17.6s\tremaining: 20.4s\n",
      "463:\tlearn: 0.6060023\ttotal: 17.6s\tremaining: 20.4s\n",
      "464:\tlearn: 0.6059255\ttotal: 17.7s\tremaining: 20.4s\n",
      "465:\tlearn: 0.6057673\ttotal: 17.7s\tremaining: 20.3s\n",
      "466:\tlearn: 0.6056379\ttotal: 17.8s\tremaining: 20.3s\n",
      "467:\tlearn: 0.6055849\ttotal: 17.8s\tremaining: 20.3s\n",
      "468:\tlearn: 0.6055070\ttotal: 17.9s\tremaining: 20.2s\n",
      "469:\tlearn: 0.6054138\ttotal: 17.9s\tremaining: 20.2s\n",
      "470:\tlearn: 0.6053298\ttotal: 17.9s\tremaining: 20.1s\n",
      "471:\tlearn: 0.6052911\ttotal: 18s\tremaining: 20.1s\n",
      "472:\tlearn: 0.6051418\ttotal: 18s\tremaining: 20.1s\n",
      "473:\tlearn: 0.6050769\ttotal: 18.1s\tremaining: 20s\n",
      "474:\tlearn: 0.6050185\ttotal: 18.1s\tremaining: 20s\n",
      "475:\tlearn: 0.6049709\ttotal: 18.1s\tremaining: 20s\n",
      "476:\tlearn: 0.6049107\ttotal: 18.2s\tremaining: 19.9s\n",
      "477:\tlearn: 0.6048282\ttotal: 18.2s\tremaining: 19.9s\n",
      "478:\tlearn: 0.6047794\ttotal: 18.2s\tremaining: 19.8s\n",
      "479:\tlearn: 0.6047013\ttotal: 18.3s\tremaining: 19.8s\n",
      "480:\tlearn: 0.6046608\ttotal: 18.3s\tremaining: 19.8s\n",
      "481:\tlearn: 0.6046044\ttotal: 18.3s\tremaining: 19.7s\n",
      "482:\tlearn: 0.6045684\ttotal: 18.4s\tremaining: 19.7s\n",
      "483:\tlearn: 0.6045294\ttotal: 18.4s\tremaining: 19.6s\n",
      "484:\tlearn: 0.6044877\ttotal: 18.4s\tremaining: 19.6s\n"
     ]
    },
    {
     "name": "stdout",
     "output_type": "stream",
     "text": [
      "485:\tlearn: 0.6044546\ttotal: 18.5s\tremaining: 19.5s\n",
      "486:\tlearn: 0.6044029\ttotal: 18.5s\tremaining: 19.5s\n",
      "487:\tlearn: 0.6042530\ttotal: 18.6s\tremaining: 19.5s\n",
      "488:\tlearn: 0.6039362\ttotal: 18.6s\tremaining: 19.4s\n",
      "489:\tlearn: 0.6038720\ttotal: 18.6s\tremaining: 19.4s\n",
      "490:\tlearn: 0.6037503\ttotal: 18.7s\tremaining: 19.4s\n",
      "491:\tlearn: 0.6037207\ttotal: 18.7s\tremaining: 19.3s\n",
      "492:\tlearn: 0.6036667\ttotal: 18.8s\tremaining: 19.3s\n",
      "493:\tlearn: 0.6033505\ttotal: 18.8s\tremaining: 19.3s\n",
      "494:\tlearn: 0.6033054\ttotal: 18.8s\tremaining: 19.2s\n",
      "495:\tlearn: 0.6032597\ttotal: 18.9s\tremaining: 19.2s\n",
      "496:\tlearn: 0.6031642\ttotal: 18.9s\tremaining: 19.1s\n",
      "497:\tlearn: 0.6030468\ttotal: 18.9s\tremaining: 19.1s\n",
      "498:\tlearn: 0.6029946\ttotal: 19s\tremaining: 19.1s\n",
      "499:\tlearn: 0.6028695\ttotal: 19s\tremaining: 19s\n",
      "500:\tlearn: 0.6028222\ttotal: 19.1s\tremaining: 19s\n",
      "501:\tlearn: 0.6027421\ttotal: 19.1s\tremaining: 19s\n",
      "502:\tlearn: 0.6026580\ttotal: 19.1s\tremaining: 18.9s\n",
      "503:\tlearn: 0.6025922\ttotal: 19.2s\tremaining: 18.9s\n",
      "504:\tlearn: 0.6024652\ttotal: 19.2s\tremaining: 18.8s\n",
      "505:\tlearn: 0.6023982\ttotal: 19.3s\tremaining: 18.8s\n",
      "506:\tlearn: 0.6023181\ttotal: 19.3s\tremaining: 18.8s\n",
      "507:\tlearn: 0.6022500\ttotal: 19.3s\tremaining: 18.7s\n",
      "508:\tlearn: 0.6021865\ttotal: 19.4s\tremaining: 18.7s\n",
      "509:\tlearn: 0.6021167\ttotal: 19.4s\tremaining: 18.6s\n",
      "510:\tlearn: 0.6020265\ttotal: 19.4s\tremaining: 18.6s\n",
      "511:\tlearn: 0.6019642\ttotal: 19.5s\tremaining: 18.6s\n",
      "512:\tlearn: 0.6018612\ttotal: 19.5s\tremaining: 18.5s\n",
      "513:\tlearn: 0.6016851\ttotal: 19.6s\tremaining: 18.5s\n",
      "514:\tlearn: 0.6016357\ttotal: 19.6s\tremaining: 18.5s\n",
      "515:\tlearn: 0.6015767\ttotal: 19.6s\tremaining: 18.4s\n",
      "516:\tlearn: 0.6014833\ttotal: 19.7s\tremaining: 18.4s\n",
      "517:\tlearn: 0.6014276\ttotal: 19.7s\tremaining: 18.3s\n",
      "518:\tlearn: 0.6013466\ttotal: 19.7s\tremaining: 18.3s\n",
      "519:\tlearn: 0.6013033\ttotal: 19.8s\tremaining: 18.3s\n",
      "520:\tlearn: 0.6012373\ttotal: 19.8s\tremaining: 18.2s\n",
      "521:\tlearn: 0.6011238\ttotal: 19.9s\tremaining: 18.2s\n",
      "522:\tlearn: 0.6010444\ttotal: 19.9s\tremaining: 18.1s\n",
      "523:\tlearn: 0.6009811\ttotal: 19.9s\tremaining: 18.1s\n",
      "524:\tlearn: 0.6009278\ttotal: 20s\tremaining: 18.1s\n",
      "525:\tlearn: 0.6008914\ttotal: 20s\tremaining: 18s\n",
      "526:\tlearn: 0.6008550\ttotal: 20s\tremaining: 18s\n",
      "527:\tlearn: 0.6008319\ttotal: 20.1s\tremaining: 18s\n",
      "528:\tlearn: 0.6007578\ttotal: 20.1s\tremaining: 17.9s\n",
      "529:\tlearn: 0.6006696\ttotal: 20.2s\tremaining: 17.9s\n",
      "530:\tlearn: 0.6004968\ttotal: 20.2s\tremaining: 17.8s\n",
      "531:\tlearn: 0.6004463\ttotal: 20.2s\tremaining: 17.8s\n",
      "532:\tlearn: 0.6004050\ttotal: 20.3s\tremaining: 17.8s\n",
      "533:\tlearn: 0.6003766\ttotal: 20.3s\tremaining: 17.7s\n",
      "534:\tlearn: 0.6003405\ttotal: 20.3s\tremaining: 17.7s\n",
      "535:\tlearn: 0.6002822\ttotal: 20.4s\tremaining: 17.6s\n",
      "536:\tlearn: 0.6002491\ttotal: 20.4s\tremaining: 17.6s\n",
      "537:\tlearn: 0.6001984\ttotal: 20.4s\tremaining: 17.6s\n",
      "538:\tlearn: 0.6001650\ttotal: 20.5s\tremaining: 17.5s\n",
      "539:\tlearn: 0.6000870\ttotal: 20.5s\tremaining: 17.5s\n",
      "540:\tlearn: 0.6000407\ttotal: 20.6s\tremaining: 17.4s\n",
      "541:\tlearn: 0.5999916\ttotal: 20.6s\tremaining: 17.4s\n",
      "542:\tlearn: 0.5999261\ttotal: 20.6s\tremaining: 17.4s\n",
      "543:\tlearn: 0.5998929\ttotal: 20.7s\tremaining: 17.3s\n",
      "544:\tlearn: 0.5998624\ttotal: 20.7s\tremaining: 17.3s\n",
      "545:\tlearn: 0.5997334\ttotal: 20.7s\tremaining: 17.2s\n",
      "546:\tlearn: 0.5997117\ttotal: 20.8s\tremaining: 17.2s\n",
      "547:\tlearn: 0.5996523\ttotal: 20.8s\tremaining: 17.1s\n",
      "548:\tlearn: 0.5995998\ttotal: 20.8s\tremaining: 17.1s\n",
      "549:\tlearn: 0.5995526\ttotal: 20.8s\tremaining: 17.1s\n",
      "550:\tlearn: 0.5995318\ttotal: 20.9s\tremaining: 17s\n",
      "551:\tlearn: 0.5994744\ttotal: 20.9s\tremaining: 17s\n",
      "552:\tlearn: 0.5994358\ttotal: 21s\tremaining: 16.9s\n",
      "553:\tlearn: 0.5992975\ttotal: 21s\tremaining: 16.9s\n",
      "554:\tlearn: 0.5992438\ttotal: 21s\tremaining: 16.9s\n",
      "555:\tlearn: 0.5991573\ttotal: 21.1s\tremaining: 16.8s\n",
      "556:\tlearn: 0.5990067\ttotal: 21.1s\tremaining: 16.8s\n",
      "557:\tlearn: 0.5989348\ttotal: 21.2s\tremaining: 16.8s\n",
      "558:\tlearn: 0.5988784\ttotal: 21.2s\tremaining: 16.7s\n",
      "559:\tlearn: 0.5987521\ttotal: 21.2s\tremaining: 16.7s\n",
      "560:\tlearn: 0.5987103\ttotal: 21.3s\tremaining: 16.6s\n",
      "561:\tlearn: 0.5985882\ttotal: 21.3s\tremaining: 16.6s\n",
      "562:\tlearn: 0.5985318\ttotal: 21.4s\tremaining: 16.6s\n",
      "563:\tlearn: 0.5984604\ttotal: 21.4s\tremaining: 16.5s\n",
      "564:\tlearn: 0.5984000\ttotal: 21.4s\tremaining: 16.5s\n",
      "565:\tlearn: 0.5983564\ttotal: 21.5s\tremaining: 16.5s\n",
      "566:\tlearn: 0.5983437\ttotal: 21.5s\tremaining: 16.4s\n",
      "567:\tlearn: 0.5982310\ttotal: 21.5s\tremaining: 16.4s\n",
      "568:\tlearn: 0.5982179\ttotal: 21.6s\tremaining: 16.3s\n",
      "569:\tlearn: 0.5981710\ttotal: 21.6s\tremaining: 16.3s\n",
      "570:\tlearn: 0.5981049\ttotal: 21.6s\tremaining: 16.3s\n",
      "571:\tlearn: 0.5980233\ttotal: 21.7s\tremaining: 16.2s\n",
      "572:\tlearn: 0.5979205\ttotal: 21.7s\tremaining: 16.2s\n",
      "573:\tlearn: 0.5978139\ttotal: 21.8s\tremaining: 16.1s\n",
      "574:\tlearn: 0.5977535\ttotal: 21.8s\tremaining: 16.1s\n",
      "575:\tlearn: 0.5976603\ttotal: 21.8s\tremaining: 16.1s\n",
      "576:\tlearn: 0.5976313\ttotal: 21.9s\tremaining: 16s\n",
      "577:\tlearn: 0.5975819\ttotal: 21.9s\tremaining: 16s\n",
      "578:\tlearn: 0.5975139\ttotal: 21.9s\tremaining: 16s\n",
      "579:\tlearn: 0.5974748\ttotal: 22s\tremaining: 15.9s\n",
      "580:\tlearn: 0.5974129\ttotal: 22s\tremaining: 15.9s\n",
      "581:\tlearn: 0.5973029\ttotal: 22.1s\tremaining: 15.8s\n",
      "582:\tlearn: 0.5972091\ttotal: 22.1s\tremaining: 15.8s\n",
      "583:\tlearn: 0.5971368\ttotal: 22.1s\tremaining: 15.8s\n",
      "584:\tlearn: 0.5970062\ttotal: 22.2s\tremaining: 15.7s\n",
      "585:\tlearn: 0.5969313\ttotal: 22.2s\tremaining: 15.7s\n",
      "586:\tlearn: 0.5968841\ttotal: 22.3s\tremaining: 15.7s\n",
      "587:\tlearn: 0.5968401\ttotal: 22.3s\tremaining: 15.6s\n",
      "588:\tlearn: 0.5967988\ttotal: 22.3s\tremaining: 15.6s\n",
      "589:\tlearn: 0.5967389\ttotal: 22.4s\tremaining: 15.5s\n",
      "590:\tlearn: 0.5967127\ttotal: 22.4s\tremaining: 15.5s\n",
      "591:\tlearn: 0.5966421\ttotal: 22.4s\tremaining: 15.5s\n",
      "592:\tlearn: 0.5965850\ttotal: 22.5s\tremaining: 15.4s\n",
      "593:\tlearn: 0.5965096\ttotal: 22.5s\tremaining: 15.4s\n",
      "594:\tlearn: 0.5964879\ttotal: 22.5s\tremaining: 15.3s\n",
      "595:\tlearn: 0.5964088\ttotal: 22.6s\tremaining: 15.3s\n",
      "596:\tlearn: 0.5963421\ttotal: 22.6s\tremaining: 15.3s\n",
      "597:\tlearn: 0.5962425\ttotal: 22.6s\tremaining: 15.2s\n",
      "598:\tlearn: 0.5961986\ttotal: 22.7s\tremaining: 15.2s\n",
      "599:\tlearn: 0.5961357\ttotal: 22.7s\tremaining: 15.1s\n",
      "600:\tlearn: 0.5960193\ttotal: 22.8s\tremaining: 15.1s\n",
      "601:\tlearn: 0.5959705\ttotal: 22.8s\tremaining: 15.1s\n",
      "602:\tlearn: 0.5958772\ttotal: 22.8s\tremaining: 15s\n",
      "603:\tlearn: 0.5958330\ttotal: 22.9s\tremaining: 15s\n",
      "604:\tlearn: 0.5957585\ttotal: 22.9s\tremaining: 15s\n",
      "605:\tlearn: 0.5957242\ttotal: 22.9s\tremaining: 14.9s\n",
      "606:\tlearn: 0.5956782\ttotal: 23s\tremaining: 14.9s\n",
      "607:\tlearn: 0.5955575\ttotal: 23s\tremaining: 14.8s\n",
      "608:\tlearn: 0.5955008\ttotal: 23.1s\tremaining: 14.8s\n",
      "609:\tlearn: 0.5954623\ttotal: 23.1s\tremaining: 14.8s\n",
      "610:\tlearn: 0.5954191\ttotal: 23.1s\tremaining: 14.7s\n",
      "611:\tlearn: 0.5953570\ttotal: 23.2s\tremaining: 14.7s\n",
      "612:\tlearn: 0.5953107\ttotal: 23.2s\tremaining: 14.6s\n",
      "613:\tlearn: 0.5952705\ttotal: 23.2s\tremaining: 14.6s\n",
      "614:\tlearn: 0.5952231\ttotal: 23.3s\tremaining: 14.6s\n",
      "615:\tlearn: 0.5951247\ttotal: 23.3s\tremaining: 14.5s\n",
      "616:\tlearn: 0.5949585\ttotal: 23.4s\tremaining: 14.5s\n",
      "617:\tlearn: 0.5949073\ttotal: 23.4s\tremaining: 14.5s\n",
      "618:\tlearn: 0.5948892\ttotal: 23.4s\tremaining: 14.4s\n",
      "619:\tlearn: 0.5948524\ttotal: 23.5s\tremaining: 14.4s\n",
      "620:\tlearn: 0.5947962\ttotal: 23.5s\tremaining: 14.4s\n",
      "621:\tlearn: 0.5947723\ttotal: 23.6s\tremaining: 14.3s\n",
      "622:\tlearn: 0.5946628\ttotal: 23.6s\tremaining: 14.3s\n",
      "623:\tlearn: 0.5946036\ttotal: 23.6s\tremaining: 14.2s\n",
      "624:\tlearn: 0.5945651\ttotal: 23.7s\tremaining: 14.2s\n",
      "625:\tlearn: 0.5943780\ttotal: 23.7s\tremaining: 14.2s\n",
      "626:\tlearn: 0.5943363\ttotal: 23.7s\tremaining: 14.1s\n",
      "627:\tlearn: 0.5942348\ttotal: 23.8s\tremaining: 14.1s\n",
      "628:\tlearn: 0.5941815\ttotal: 23.8s\tremaining: 14.1s\n",
      "629:\tlearn: 0.5941221\ttotal: 23.9s\tremaining: 14s\n",
      "630:\tlearn: 0.5940953\ttotal: 23.9s\tremaining: 14s\n",
      "631:\tlearn: 0.5940273\ttotal: 23.9s\tremaining: 13.9s\n",
      "632:\tlearn: 0.5939583\ttotal: 24s\tremaining: 13.9s\n",
      "633:\tlearn: 0.5938854\ttotal: 24s\tremaining: 13.9s\n",
      "634:\tlearn: 0.5938453\ttotal: 24.1s\tremaining: 13.8s\n",
      "635:\tlearn: 0.5937751\ttotal: 24.1s\tremaining: 13.8s\n",
      "636:\tlearn: 0.5936960\ttotal: 24.1s\tremaining: 13.8s\n",
      "637:\tlearn: 0.5936543\ttotal: 24.2s\tremaining: 13.7s\n",
      "638:\tlearn: 0.5934930\ttotal: 24.2s\tremaining: 13.7s\n",
      "639:\tlearn: 0.5934487\ttotal: 24.3s\tremaining: 13.6s\n",
      "640:\tlearn: 0.5933651\ttotal: 24.3s\tremaining: 13.6s\n",
      "641:\tlearn: 0.5933278\ttotal: 24.3s\tremaining: 13.6s\n",
      "642:\tlearn: 0.5932607\ttotal: 24.4s\tremaining: 13.5s\n",
      "643:\tlearn: 0.5932021\ttotal: 24.4s\tremaining: 13.5s\n",
      "644:\tlearn: 0.5930660\ttotal: 24.4s\tremaining: 13.5s\n"
     ]
    },
    {
     "name": "stdout",
     "output_type": "stream",
     "text": [
      "645:\tlearn: 0.5930316\ttotal: 24.5s\tremaining: 13.4s\n",
      "646:\tlearn: 0.5929669\ttotal: 24.5s\tremaining: 13.4s\n",
      "647:\tlearn: 0.5929316\ttotal: 24.6s\tremaining: 13.3s\n",
      "648:\tlearn: 0.5928126\ttotal: 24.6s\tremaining: 13.3s\n",
      "649:\tlearn: 0.5927557\ttotal: 24.6s\tremaining: 13.3s\n",
      "650:\tlearn: 0.5926925\ttotal: 24.7s\tremaining: 13.2s\n",
      "651:\tlearn: 0.5926639\ttotal: 24.7s\tremaining: 13.2s\n",
      "652:\tlearn: 0.5926373\ttotal: 24.7s\tremaining: 13.1s\n",
      "653:\tlearn: 0.5925854\ttotal: 24.8s\tremaining: 13.1s\n",
      "654:\tlearn: 0.5925509\ttotal: 24.8s\tremaining: 13.1s\n",
      "655:\tlearn: 0.5925145\ttotal: 24.8s\tremaining: 13s\n",
      "656:\tlearn: 0.5924377\ttotal: 24.9s\tremaining: 13s\n",
      "657:\tlearn: 0.5924162\ttotal: 24.9s\tremaining: 12.9s\n",
      "658:\tlearn: 0.5923557\ttotal: 24.9s\tremaining: 12.9s\n",
      "659:\tlearn: 0.5922452\ttotal: 25s\tremaining: 12.9s\n",
      "660:\tlearn: 0.5921634\ttotal: 25s\tremaining: 12.8s\n",
      "661:\tlearn: 0.5921234\ttotal: 25.1s\tremaining: 12.8s\n",
      "662:\tlearn: 0.5920377\ttotal: 25.1s\tremaining: 12.8s\n",
      "663:\tlearn: 0.5919806\ttotal: 25.2s\tremaining: 12.7s\n",
      "664:\tlearn: 0.5919011\ttotal: 25.2s\tremaining: 12.7s\n",
      "665:\tlearn: 0.5918781\ttotal: 25.2s\tremaining: 12.7s\n",
      "666:\tlearn: 0.5918483\ttotal: 25.3s\tremaining: 12.6s\n",
      "667:\tlearn: 0.5917549\ttotal: 25.3s\tremaining: 12.6s\n",
      "668:\tlearn: 0.5917020\ttotal: 25.3s\tremaining: 12.5s\n",
      "669:\tlearn: 0.5916802\ttotal: 25.4s\tremaining: 12.5s\n",
      "670:\tlearn: 0.5916405\ttotal: 25.4s\tremaining: 12.5s\n",
      "671:\tlearn: 0.5916082\ttotal: 25.5s\tremaining: 12.4s\n",
      "672:\tlearn: 0.5915509\ttotal: 25.5s\tremaining: 12.4s\n",
      "673:\tlearn: 0.5914662\ttotal: 25.5s\tremaining: 12.3s\n",
      "674:\tlearn: 0.5914133\ttotal: 25.6s\tremaining: 12.3s\n",
      "675:\tlearn: 0.5913147\ttotal: 25.6s\tremaining: 12.3s\n",
      "676:\tlearn: 0.5912559\ttotal: 25.6s\tremaining: 12.2s\n",
      "677:\tlearn: 0.5911610\ttotal: 25.7s\tremaining: 12.2s\n",
      "678:\tlearn: 0.5910671\ttotal: 25.7s\tremaining: 12.2s\n",
      "679:\tlearn: 0.5910551\ttotal: 25.8s\tremaining: 12.1s\n",
      "680:\tlearn: 0.5910227\ttotal: 25.8s\tremaining: 12.1s\n",
      "681:\tlearn: 0.5909768\ttotal: 25.8s\tremaining: 12s\n",
      "682:\tlearn: 0.5909260\ttotal: 25.9s\tremaining: 12s\n",
      "683:\tlearn: 0.5908631\ttotal: 25.9s\tremaining: 12s\n",
      "684:\tlearn: 0.5908190\ttotal: 25.9s\tremaining: 11.9s\n",
      "685:\tlearn: 0.5906941\ttotal: 26s\tremaining: 11.9s\n",
      "686:\tlearn: 0.5906051\ttotal: 26s\tremaining: 11.9s\n",
      "687:\tlearn: 0.5905598\ttotal: 26.1s\tremaining: 11.8s\n",
      "688:\tlearn: 0.5904511\ttotal: 26.1s\tremaining: 11.8s\n",
      "689:\tlearn: 0.5904283\ttotal: 26.1s\tremaining: 11.7s\n",
      "690:\tlearn: 0.5903387\ttotal: 26.2s\tremaining: 11.7s\n",
      "691:\tlearn: 0.5903167\ttotal: 26.2s\tremaining: 11.7s\n",
      "692:\tlearn: 0.5902629\ttotal: 26.2s\tremaining: 11.6s\n",
      "693:\tlearn: 0.5901920\ttotal: 26.3s\tremaining: 11.6s\n",
      "694:\tlearn: 0.5901633\ttotal: 26.3s\tremaining: 11.5s\n",
      "695:\tlearn: 0.5900747\ttotal: 26.4s\tremaining: 11.5s\n",
      "696:\tlearn: 0.5900321\ttotal: 26.4s\tremaining: 11.5s\n",
      "697:\tlearn: 0.5899964\ttotal: 26.4s\tremaining: 11.4s\n",
      "698:\tlearn: 0.5899392\ttotal: 26.5s\tremaining: 11.4s\n",
      "699:\tlearn: 0.5898578\ttotal: 26.5s\tremaining: 11.4s\n",
      "700:\tlearn: 0.5897931\ttotal: 26.5s\tremaining: 11.3s\n",
      "701:\tlearn: 0.5897543\ttotal: 26.6s\tremaining: 11.3s\n",
      "702:\tlearn: 0.5897194\ttotal: 26.6s\tremaining: 11.2s\n",
      "703:\tlearn: 0.5896248\ttotal: 26.6s\tremaining: 11.2s\n",
      "704:\tlearn: 0.5895813\ttotal: 26.7s\tremaining: 11.2s\n",
      "705:\tlearn: 0.5895497\ttotal: 26.7s\tremaining: 11.1s\n",
      "706:\tlearn: 0.5894695\ttotal: 26.8s\tremaining: 11.1s\n",
      "707:\tlearn: 0.5894390\ttotal: 26.8s\tremaining: 11.1s\n",
      "708:\tlearn: 0.5893893\ttotal: 26.8s\tremaining: 11s\n",
      "709:\tlearn: 0.5893644\ttotal: 26.9s\tremaining: 11s\n",
      "710:\tlearn: 0.5893288\ttotal: 26.9s\tremaining: 10.9s\n",
      "711:\tlearn: 0.5893083\ttotal: 26.9s\tremaining: 10.9s\n",
      "712:\tlearn: 0.5892852\ttotal: 27s\tremaining: 10.9s\n",
      "713:\tlearn: 0.5892378\ttotal: 27s\tremaining: 10.8s\n",
      "714:\tlearn: 0.5891578\ttotal: 27.1s\tremaining: 10.8s\n",
      "715:\tlearn: 0.5891211\ttotal: 27.1s\tremaining: 10.7s\n",
      "716:\tlearn: 0.5890794\ttotal: 27.1s\tremaining: 10.7s\n",
      "717:\tlearn: 0.5890376\ttotal: 27.2s\tremaining: 10.7s\n",
      "718:\tlearn: 0.5889286\ttotal: 27.2s\tremaining: 10.6s\n",
      "719:\tlearn: 0.5888671\ttotal: 27.2s\tremaining: 10.6s\n",
      "720:\tlearn: 0.5888010\ttotal: 27.3s\tremaining: 10.6s\n",
      "721:\tlearn: 0.5887697\ttotal: 27.3s\tremaining: 10.5s\n",
      "722:\tlearn: 0.5887163\ttotal: 27.4s\tremaining: 10.5s\n",
      "723:\tlearn: 0.5886564\ttotal: 27.4s\tremaining: 10.4s\n",
      "724:\tlearn: 0.5885914\ttotal: 27.4s\tremaining: 10.4s\n",
      "725:\tlearn: 0.5885659\ttotal: 27.5s\tremaining: 10.4s\n",
      "726:\tlearn: 0.5885459\ttotal: 27.5s\tremaining: 10.3s\n",
      "727:\tlearn: 0.5884922\ttotal: 27.5s\tremaining: 10.3s\n",
      "728:\tlearn: 0.5884098\ttotal: 27.6s\tremaining: 10.3s\n",
      "729:\tlearn: 0.5883320\ttotal: 27.6s\tremaining: 10.2s\n",
      "730:\tlearn: 0.5883056\ttotal: 27.7s\tremaining: 10.2s\n",
      "731:\tlearn: 0.5882520\ttotal: 27.7s\tremaining: 10.1s\n",
      "732:\tlearn: 0.5882110\ttotal: 27.7s\tremaining: 10.1s\n",
      "733:\tlearn: 0.5881374\ttotal: 27.8s\tremaining: 10.1s\n",
      "734:\tlearn: 0.5880755\ttotal: 27.8s\tremaining: 10s\n",
      "735:\tlearn: 0.5880186\ttotal: 27.9s\tremaining: 9.99s\n",
      "736:\tlearn: 0.5878982\ttotal: 27.9s\tremaining: 9.96s\n",
      "737:\tlearn: 0.5878184\ttotal: 28s\tremaining: 9.93s\n",
      "738:\tlearn: 0.5877686\ttotal: 28s\tremaining: 9.89s\n",
      "739:\tlearn: 0.5876687\ttotal: 28.1s\tremaining: 9.86s\n",
      "740:\tlearn: 0.5876460\ttotal: 28.1s\tremaining: 9.82s\n",
      "741:\tlearn: 0.5875995\ttotal: 28.1s\tremaining: 9.78s\n",
      "742:\tlearn: 0.5875119\ttotal: 28.2s\tremaining: 9.74s\n",
      "743:\tlearn: 0.5874848\ttotal: 28.2s\tremaining: 9.71s\n",
      "744:\tlearn: 0.5874259\ttotal: 28.2s\tremaining: 9.67s\n",
      "745:\tlearn: 0.5873144\ttotal: 28.3s\tremaining: 9.63s\n",
      "746:\tlearn: 0.5873004\ttotal: 28.3s\tremaining: 9.59s\n",
      "747:\tlearn: 0.5872696\ttotal: 28.4s\tremaining: 9.55s\n",
      "748:\tlearn: 0.5872325\ttotal: 28.4s\tremaining: 9.52s\n",
      "749:\tlearn: 0.5871663\ttotal: 28.4s\tremaining: 9.48s\n",
      "750:\tlearn: 0.5870630\ttotal: 28.5s\tremaining: 9.44s\n",
      "751:\tlearn: 0.5870014\ttotal: 28.5s\tremaining: 9.4s\n",
      "752:\tlearn: 0.5869360\ttotal: 28.6s\tremaining: 9.37s\n",
      "753:\tlearn: 0.5869047\ttotal: 28.6s\tremaining: 9.33s\n",
      "754:\tlearn: 0.5868447\ttotal: 28.6s\tremaining: 9.29s\n",
      "755:\tlearn: 0.5868308\ttotal: 28.7s\tremaining: 9.25s\n",
      "756:\tlearn: 0.5867861\ttotal: 28.7s\tremaining: 9.21s\n",
      "757:\tlearn: 0.5867561\ttotal: 28.7s\tremaining: 9.17s\n",
      "758:\tlearn: 0.5867068\ttotal: 28.8s\tremaining: 9.13s\n",
      "759:\tlearn: 0.5866618\ttotal: 28.8s\tremaining: 9.09s\n",
      "760:\tlearn: 0.5866038\ttotal: 28.8s\tremaining: 9.05s\n",
      "761:\tlearn: 0.5865281\ttotal: 28.9s\tremaining: 9.02s\n",
      "762:\tlearn: 0.5864369\ttotal: 28.9s\tremaining: 8.98s\n",
      "763:\tlearn: 0.5863991\ttotal: 28.9s\tremaining: 8.94s\n",
      "764:\tlearn: 0.5863395\ttotal: 29s\tremaining: 8.9s\n",
      "765:\tlearn: 0.5863067\ttotal: 29s\tremaining: 8.86s\n",
      "766:\tlearn: 0.5861439\ttotal: 29s\tremaining: 8.82s\n",
      "767:\tlearn: 0.5860348\ttotal: 29.1s\tremaining: 8.79s\n",
      "768:\tlearn: 0.5859049\ttotal: 29.1s\tremaining: 8.75s\n",
      "769:\tlearn: 0.5858543\ttotal: 29.2s\tremaining: 8.71s\n",
      "770:\tlearn: 0.5858015\ttotal: 29.2s\tremaining: 8.68s\n",
      "771:\tlearn: 0.5857450\ttotal: 29.3s\tremaining: 8.64s\n",
      "772:\tlearn: 0.5857110\ttotal: 29.3s\tremaining: 8.6s\n",
      "773:\tlearn: 0.5856776\ttotal: 29.3s\tremaining: 8.56s\n",
      "774:\tlearn: 0.5856230\ttotal: 29.4s\tremaining: 8.52s\n",
      "775:\tlearn: 0.5855891\ttotal: 29.4s\tremaining: 8.48s\n",
      "776:\tlearn: 0.5854910\ttotal: 29.4s\tremaining: 8.45s\n",
      "777:\tlearn: 0.5854348\ttotal: 29.5s\tremaining: 8.41s\n",
      "778:\tlearn: 0.5853131\ttotal: 29.5s\tremaining: 8.37s\n",
      "779:\tlearn: 0.5852164\ttotal: 29.6s\tremaining: 8.34s\n",
      "780:\tlearn: 0.5851849\ttotal: 29.6s\tremaining: 8.3s\n",
      "781:\tlearn: 0.5851653\ttotal: 29.6s\tremaining: 8.26s\n",
      "782:\tlearn: 0.5851050\ttotal: 29.7s\tremaining: 8.22s\n",
      "783:\tlearn: 0.5850085\ttotal: 29.7s\tremaining: 8.19s\n",
      "784:\tlearn: 0.5849427\ttotal: 29.8s\tremaining: 8.15s\n",
      "785:\tlearn: 0.5849144\ttotal: 29.8s\tremaining: 8.11s\n",
      "786:\tlearn: 0.5848632\ttotal: 29.8s\tremaining: 8.07s\n",
      "787:\tlearn: 0.5848129\ttotal: 29.9s\tremaining: 8.04s\n",
      "788:\tlearn: 0.5847023\ttotal: 29.9s\tremaining: 8s\n",
      "789:\tlearn: 0.5846412\ttotal: 30s\tremaining: 7.96s\n",
      "790:\tlearn: 0.5846117\ttotal: 30s\tremaining: 7.92s\n",
      "791:\tlearn: 0.5845609\ttotal: 30s\tremaining: 7.89s\n",
      "792:\tlearn: 0.5845215\ttotal: 30.1s\tremaining: 7.85s\n",
      "793:\tlearn: 0.5844676\ttotal: 30.1s\tremaining: 7.81s\n",
      "794:\tlearn: 0.5843566\ttotal: 30.2s\tremaining: 7.78s\n",
      "795:\tlearn: 0.5843271\ttotal: 30.2s\tremaining: 7.74s\n",
      "796:\tlearn: 0.5842111\ttotal: 30.2s\tremaining: 7.7s\n",
      "797:\tlearn: 0.5841539\ttotal: 30.3s\tremaining: 7.66s\n",
      "798:\tlearn: 0.5841091\ttotal: 30.3s\tremaining: 7.63s\n",
      "799:\tlearn: 0.5840443\ttotal: 30.4s\tremaining: 7.59s\n",
      "800:\tlearn: 0.5839483\ttotal: 30.4s\tremaining: 7.55s\n",
      "801:\tlearn: 0.5838916\ttotal: 30.4s\tremaining: 7.51s\n",
      "802:\tlearn: 0.5838765\ttotal: 30.5s\tremaining: 7.47s\n",
      "803:\tlearn: 0.5837870\ttotal: 30.5s\tremaining: 7.43s\n",
      "804:\tlearn: 0.5837559\ttotal: 30.5s\tremaining: 7.4s\n",
      "805:\tlearn: 0.5837143\ttotal: 30.6s\tremaining: 7.36s\n",
      "806:\tlearn: 0.5836685\ttotal: 30.6s\tremaining: 7.32s\n",
      "807:\tlearn: 0.5836356\ttotal: 30.6s\tremaining: 7.28s\n",
      "808:\tlearn: 0.5835907\ttotal: 30.7s\tremaining: 7.24s\n"
     ]
    },
    {
     "name": "stdout",
     "output_type": "stream",
     "text": [
      "809:\tlearn: 0.5835276\ttotal: 30.7s\tremaining: 7.2s\n",
      "810:\tlearn: 0.5835024\ttotal: 30.7s\tremaining: 7.17s\n",
      "811:\tlearn: 0.5834605\ttotal: 30.8s\tremaining: 7.13s\n",
      "812:\tlearn: 0.5834189\ttotal: 30.8s\tremaining: 7.09s\n",
      "813:\tlearn: 0.5833787\ttotal: 30.8s\tremaining: 7.05s\n",
      "814:\tlearn: 0.5833397\ttotal: 30.9s\tremaining: 7.01s\n",
      "815:\tlearn: 0.5832852\ttotal: 30.9s\tremaining: 6.97s\n",
      "816:\tlearn: 0.5832382\ttotal: 31s\tremaining: 6.93s\n",
      "817:\tlearn: 0.5832020\ttotal: 31s\tremaining: 6.9s\n",
      "818:\tlearn: 0.5831740\ttotal: 31s\tremaining: 6.86s\n",
      "819:\tlearn: 0.5830776\ttotal: 31.1s\tremaining: 6.82s\n",
      "820:\tlearn: 0.5829929\ttotal: 31.1s\tremaining: 6.78s\n",
      "821:\tlearn: 0.5829424\ttotal: 31.1s\tremaining: 6.74s\n",
      "822:\tlearn: 0.5828812\ttotal: 31.2s\tremaining: 6.71s\n",
      "823:\tlearn: 0.5828338\ttotal: 31.2s\tremaining: 6.67s\n",
      "824:\tlearn: 0.5827832\ttotal: 31.3s\tremaining: 6.63s\n",
      "825:\tlearn: 0.5827347\ttotal: 31.3s\tremaining: 6.59s\n",
      "826:\tlearn: 0.5826528\ttotal: 31.3s\tremaining: 6.55s\n",
      "827:\tlearn: 0.5826048\ttotal: 31.4s\tremaining: 6.52s\n",
      "828:\tlearn: 0.5825055\ttotal: 31.4s\tremaining: 6.48s\n",
      "829:\tlearn: 0.5824623\ttotal: 31.4s\tremaining: 6.44s\n",
      "830:\tlearn: 0.5824283\ttotal: 31.5s\tremaining: 6.4s\n",
      "831:\tlearn: 0.5823370\ttotal: 31.5s\tremaining: 6.36s\n",
      "832:\tlearn: 0.5823216\ttotal: 31.5s\tremaining: 6.32s\n",
      "833:\tlearn: 0.5822579\ttotal: 31.6s\tremaining: 6.29s\n",
      "834:\tlearn: 0.5821896\ttotal: 31.6s\tremaining: 6.25s\n",
      "835:\tlearn: 0.5821300\ttotal: 31.7s\tremaining: 6.21s\n",
      "836:\tlearn: 0.5820546\ttotal: 31.7s\tremaining: 6.18s\n",
      "837:\tlearn: 0.5819727\ttotal: 31.8s\tremaining: 6.14s\n",
      "838:\tlearn: 0.5819190\ttotal: 31.8s\tremaining: 6.1s\n",
      "839:\tlearn: 0.5818810\ttotal: 31.8s\tremaining: 6.06s\n",
      "840:\tlearn: 0.5818410\ttotal: 31.9s\tremaining: 6.03s\n",
      "841:\tlearn: 0.5817945\ttotal: 31.9s\tremaining: 5.99s\n",
      "842:\tlearn: 0.5817446\ttotal: 32s\tremaining: 5.95s\n",
      "843:\tlearn: 0.5817000\ttotal: 32s\tremaining: 5.91s\n",
      "844:\tlearn: 0.5816636\ttotal: 32s\tremaining: 5.88s\n",
      "845:\tlearn: 0.5816100\ttotal: 32.1s\tremaining: 5.84s\n",
      "846:\tlearn: 0.5815647\ttotal: 32.1s\tremaining: 5.8s\n",
      "847:\tlearn: 0.5815050\ttotal: 32.1s\tremaining: 5.76s\n",
      "848:\tlearn: 0.5814797\ttotal: 32.2s\tremaining: 5.72s\n",
      "849:\tlearn: 0.5814037\ttotal: 32.2s\tremaining: 5.68s\n",
      "850:\tlearn: 0.5813852\ttotal: 32.2s\tremaining: 5.64s\n",
      "851:\tlearn: 0.5813526\ttotal: 32.3s\tremaining: 5.61s\n",
      "852:\tlearn: 0.5813042\ttotal: 32.3s\tremaining: 5.57s\n",
      "853:\tlearn: 0.5812480\ttotal: 32.4s\tremaining: 5.53s\n",
      "854:\tlearn: 0.5812211\ttotal: 32.4s\tremaining: 5.49s\n",
      "855:\tlearn: 0.5811271\ttotal: 32.4s\tremaining: 5.46s\n",
      "856:\tlearn: 0.5811102\ttotal: 32.5s\tremaining: 5.42s\n",
      "857:\tlearn: 0.5809881\ttotal: 32.5s\tremaining: 5.38s\n",
      "858:\tlearn: 0.5809542\ttotal: 32.5s\tremaining: 5.34s\n",
      "859:\tlearn: 0.5809118\ttotal: 32.6s\tremaining: 5.3s\n",
      "860:\tlearn: 0.5808707\ttotal: 32.6s\tremaining: 5.27s\n",
      "861:\tlearn: 0.5808475\ttotal: 32.7s\tremaining: 5.23s\n",
      "862:\tlearn: 0.5808071\ttotal: 32.7s\tremaining: 5.19s\n",
      "863:\tlearn: 0.5807902\ttotal: 32.7s\tremaining: 5.15s\n",
      "864:\tlearn: 0.5807405\ttotal: 32.8s\tremaining: 5.11s\n",
      "865:\tlearn: 0.5806485\ttotal: 32.8s\tremaining: 5.07s\n",
      "866:\tlearn: 0.5806135\ttotal: 32.8s\tremaining: 5.04s\n",
      "867:\tlearn: 0.5805392\ttotal: 32.9s\tremaining: 5s\n",
      "868:\tlearn: 0.5804734\ttotal: 32.9s\tremaining: 4.96s\n",
      "869:\tlearn: 0.5804365\ttotal: 33s\tremaining: 4.92s\n",
      "870:\tlearn: 0.5803997\ttotal: 33s\tremaining: 4.88s\n",
      "871:\tlearn: 0.5803712\ttotal: 33s\tremaining: 4.85s\n",
      "872:\tlearn: 0.5803554\ttotal: 33.1s\tremaining: 4.81s\n",
      "873:\tlearn: 0.5802439\ttotal: 33.1s\tremaining: 4.77s\n",
      "874:\tlearn: 0.5802027\ttotal: 33.1s\tremaining: 4.73s\n",
      "875:\tlearn: 0.5801694\ttotal: 33.2s\tremaining: 4.7s\n",
      "876:\tlearn: 0.5800890\ttotal: 33.2s\tremaining: 4.66s\n",
      "877:\tlearn: 0.5800677\ttotal: 33.2s\tremaining: 4.62s\n",
      "878:\tlearn: 0.5800068\ttotal: 33.3s\tremaining: 4.58s\n",
      "879:\tlearn: 0.5799687\ttotal: 33.3s\tremaining: 4.54s\n",
      "880:\tlearn: 0.5799411\ttotal: 33.4s\tremaining: 4.51s\n",
      "881:\tlearn: 0.5799053\ttotal: 33.4s\tremaining: 4.47s\n",
      "882:\tlearn: 0.5798699\ttotal: 33.4s\tremaining: 4.43s\n",
      "883:\tlearn: 0.5798345\ttotal: 33.5s\tremaining: 4.39s\n",
      "884:\tlearn: 0.5797802\ttotal: 33.5s\tremaining: 4.36s\n",
      "885:\tlearn: 0.5797417\ttotal: 33.6s\tremaining: 4.32s\n",
      "886:\tlearn: 0.5796960\ttotal: 33.6s\tremaining: 4.28s\n",
      "887:\tlearn: 0.5796699\ttotal: 33.6s\tremaining: 4.24s\n",
      "888:\tlearn: 0.5796303\ttotal: 33.7s\tremaining: 4.2s\n",
      "889:\tlearn: 0.5795650\ttotal: 33.7s\tremaining: 4.17s\n",
      "890:\tlearn: 0.5795017\ttotal: 33.8s\tremaining: 4.13s\n",
      "891:\tlearn: 0.5794876\ttotal: 33.8s\tremaining: 4.09s\n",
      "892:\tlearn: 0.5794532\ttotal: 33.8s\tremaining: 4.05s\n",
      "893:\tlearn: 0.5794371\ttotal: 33.9s\tremaining: 4.01s\n",
      "894:\tlearn: 0.5794169\ttotal: 33.9s\tremaining: 3.98s\n",
      "895:\tlearn: 0.5793492\ttotal: 33.9s\tremaining: 3.94s\n",
      "896:\tlearn: 0.5792997\ttotal: 34s\tremaining: 3.9s\n",
      "897:\tlearn: 0.5792701\ttotal: 34s\tremaining: 3.86s\n",
      "898:\tlearn: 0.5792383\ttotal: 34.1s\tremaining: 3.83s\n",
      "899:\tlearn: 0.5791501\ttotal: 34.1s\tremaining: 3.79s\n",
      "900:\tlearn: 0.5791074\ttotal: 34.1s\tremaining: 3.75s\n",
      "901:\tlearn: 0.5790398\ttotal: 34.2s\tremaining: 3.71s\n",
      "902:\tlearn: 0.5789371\ttotal: 34.2s\tremaining: 3.67s\n",
      "903:\tlearn: 0.5789005\ttotal: 34.3s\tremaining: 3.64s\n",
      "904:\tlearn: 0.5788170\ttotal: 34.3s\tremaining: 3.6s\n",
      "905:\tlearn: 0.5787659\ttotal: 34.3s\tremaining: 3.56s\n",
      "906:\tlearn: 0.5787065\ttotal: 34.4s\tremaining: 3.52s\n",
      "907:\tlearn: 0.5786682\ttotal: 34.4s\tremaining: 3.49s\n",
      "908:\tlearn: 0.5786190\ttotal: 34.5s\tremaining: 3.45s\n",
      "909:\tlearn: 0.5785828\ttotal: 34.5s\tremaining: 3.41s\n",
      "910:\tlearn: 0.5785023\ttotal: 34.5s\tremaining: 3.37s\n",
      "911:\tlearn: 0.5784416\ttotal: 34.6s\tremaining: 3.33s\n",
      "912:\tlearn: 0.5784061\ttotal: 34.6s\tremaining: 3.3s\n",
      "913:\tlearn: 0.5783258\ttotal: 34.6s\tremaining: 3.26s\n",
      "914:\tlearn: 0.5782491\ttotal: 34.7s\tremaining: 3.22s\n",
      "915:\tlearn: 0.5782159\ttotal: 34.7s\tremaining: 3.18s\n",
      "916:\tlearn: 0.5781952\ttotal: 34.7s\tremaining: 3.14s\n",
      "917:\tlearn: 0.5781375\ttotal: 34.8s\tremaining: 3.11s\n",
      "918:\tlearn: 0.5781256\ttotal: 34.8s\tremaining: 3.07s\n",
      "919:\tlearn: 0.5780896\ttotal: 34.9s\tremaining: 3.03s\n",
      "920:\tlearn: 0.5780420\ttotal: 34.9s\tremaining: 2.99s\n",
      "921:\tlearn: 0.5780173\ttotal: 34.9s\tremaining: 2.95s\n",
      "922:\tlearn: 0.5779963\ttotal: 35s\tremaining: 2.92s\n",
      "923:\tlearn: 0.5779552\ttotal: 35s\tremaining: 2.88s\n",
      "924:\tlearn: 0.5779145\ttotal: 35s\tremaining: 2.84s\n",
      "925:\tlearn: 0.5778841\ttotal: 35.1s\tremaining: 2.8s\n",
      "926:\tlearn: 0.5778285\ttotal: 35.1s\tremaining: 2.76s\n",
      "927:\tlearn: 0.5777174\ttotal: 35.1s\tremaining: 2.73s\n",
      "928:\tlearn: 0.5776954\ttotal: 35.2s\tremaining: 2.69s\n",
      "929:\tlearn: 0.5776522\ttotal: 35.2s\tremaining: 2.65s\n",
      "930:\tlearn: 0.5776104\ttotal: 35.3s\tremaining: 2.61s\n",
      "931:\tlearn: 0.5775682\ttotal: 35.3s\tremaining: 2.58s\n",
      "932:\tlearn: 0.5775096\ttotal: 35.3s\tremaining: 2.54s\n",
      "933:\tlearn: 0.5774572\ttotal: 35.4s\tremaining: 2.5s\n",
      "934:\tlearn: 0.5774123\ttotal: 35.4s\tremaining: 2.46s\n",
      "935:\tlearn: 0.5773778\ttotal: 35.5s\tremaining: 2.42s\n",
      "936:\tlearn: 0.5773373\ttotal: 35.5s\tremaining: 2.39s\n",
      "937:\tlearn: 0.5772916\ttotal: 35.5s\tremaining: 2.35s\n",
      "938:\tlearn: 0.5772779\ttotal: 35.6s\tremaining: 2.31s\n",
      "939:\tlearn: 0.5772650\ttotal: 35.6s\tremaining: 2.27s\n",
      "940:\tlearn: 0.5772199\ttotal: 35.6s\tremaining: 2.23s\n",
      "941:\tlearn: 0.5771705\ttotal: 35.7s\tremaining: 2.2s\n",
      "942:\tlearn: 0.5771479\ttotal: 35.7s\tremaining: 2.16s\n",
      "943:\tlearn: 0.5771190\ttotal: 35.7s\tremaining: 2.12s\n",
      "944:\tlearn: 0.5770656\ttotal: 35.8s\tremaining: 2.08s\n",
      "945:\tlearn: 0.5770360\ttotal: 35.8s\tremaining: 2.04s\n",
      "946:\tlearn: 0.5769839\ttotal: 35.9s\tremaining: 2.01s\n",
      "947:\tlearn: 0.5769393\ttotal: 35.9s\tremaining: 1.97s\n",
      "948:\tlearn: 0.5769156\ttotal: 35.9s\tremaining: 1.93s\n",
      "949:\tlearn: 0.5768988\ttotal: 36s\tremaining: 1.89s\n",
      "950:\tlearn: 0.5768466\ttotal: 36s\tremaining: 1.85s\n",
      "951:\tlearn: 0.5768081\ttotal: 36.1s\tremaining: 1.82s\n",
      "952:\tlearn: 0.5767703\ttotal: 36.1s\tremaining: 1.78s\n",
      "953:\tlearn: 0.5767467\ttotal: 36.1s\tremaining: 1.74s\n",
      "954:\tlearn: 0.5767082\ttotal: 36.2s\tremaining: 1.7s\n",
      "955:\tlearn: 0.5766652\ttotal: 36.2s\tremaining: 1.67s\n",
      "956:\tlearn: 0.5766523\ttotal: 36.2s\tremaining: 1.63s\n",
      "957:\tlearn: 0.5765737\ttotal: 36.3s\tremaining: 1.59s\n",
      "958:\tlearn: 0.5765221\ttotal: 36.3s\tremaining: 1.55s\n",
      "959:\tlearn: 0.5764698\ttotal: 36.3s\tremaining: 1.51s\n",
      "960:\tlearn: 0.5764380\ttotal: 36.4s\tremaining: 1.48s\n",
      "961:\tlearn: 0.5764010\ttotal: 36.4s\tremaining: 1.44s\n",
      "962:\tlearn: 0.5763523\ttotal: 36.5s\tremaining: 1.4s\n",
      "963:\tlearn: 0.5763025\ttotal: 36.5s\tremaining: 1.36s\n",
      "964:\tlearn: 0.5762594\ttotal: 36.5s\tremaining: 1.32s\n",
      "965:\tlearn: 0.5761985\ttotal: 36.6s\tremaining: 1.29s\n",
      "966:\tlearn: 0.5761799\ttotal: 36.6s\tremaining: 1.25s\n",
      "967:\tlearn: 0.5761036\ttotal: 36.6s\tremaining: 1.21s\n",
      "968:\tlearn: 0.5760705\ttotal: 36.7s\tremaining: 1.17s\n"
     ]
    },
    {
     "name": "stdout",
     "output_type": "stream",
     "text": [
      "969:\tlearn: 0.5759953\ttotal: 36.7s\tremaining: 1.14s\n",
      "970:\tlearn: 0.5759522\ttotal: 36.8s\tremaining: 1.1s\n",
      "971:\tlearn: 0.5759163\ttotal: 36.8s\tremaining: 1.06s\n",
      "972:\tlearn: 0.5758845\ttotal: 36.8s\tremaining: 1.02s\n",
      "973:\tlearn: 0.5758332\ttotal: 36.9s\tremaining: 984ms\n",
      "974:\tlearn: 0.5758062\ttotal: 36.9s\tremaining: 946ms\n",
      "975:\tlearn: 0.5757186\ttotal: 36.9s\tremaining: 908ms\n",
      "976:\tlearn: 0.5756713\ttotal: 37s\tremaining: 871ms\n",
      "977:\tlearn: 0.5756368\ttotal: 37s\tremaining: 833ms\n",
      "978:\tlearn: 0.5755664\ttotal: 37.1s\tremaining: 795ms\n",
      "979:\tlearn: 0.5755294\ttotal: 37.1s\tremaining: 757ms\n",
      "980:\tlearn: 0.5754827\ttotal: 37.1s\tremaining: 719ms\n",
      "981:\tlearn: 0.5754125\ttotal: 37.2s\tremaining: 681ms\n",
      "982:\tlearn: 0.5753865\ttotal: 37.2s\tremaining: 643ms\n",
      "983:\tlearn: 0.5753482\ttotal: 37.2s\tremaining: 606ms\n",
      "984:\tlearn: 0.5753228\ttotal: 37.3s\tremaining: 568ms\n",
      "985:\tlearn: 0.5752292\ttotal: 37.3s\tremaining: 530ms\n",
      "986:\tlearn: 0.5751605\ttotal: 37.4s\tremaining: 492ms\n",
      "987:\tlearn: 0.5750643\ttotal: 37.4s\tremaining: 454ms\n",
      "988:\tlearn: 0.5750108\ttotal: 37.4s\tremaining: 416ms\n",
      "989:\tlearn: 0.5749724\ttotal: 37.5s\tremaining: 378ms\n",
      "990:\tlearn: 0.5749407\ttotal: 37.5s\tremaining: 341ms\n",
      "991:\tlearn: 0.5749026\ttotal: 37.5s\tremaining: 303ms\n",
      "992:\tlearn: 0.5748608\ttotal: 37.6s\tremaining: 265ms\n",
      "993:\tlearn: 0.5748069\ttotal: 37.6s\tremaining: 227ms\n",
      "994:\tlearn: 0.5747503\ttotal: 37.6s\tremaining: 189ms\n",
      "995:\tlearn: 0.5747204\ttotal: 37.7s\tremaining: 151ms\n",
      "996:\tlearn: 0.5746799\ttotal: 37.7s\tremaining: 114ms\n",
      "997:\tlearn: 0.5746470\ttotal: 37.8s\tremaining: 75.7ms\n",
      "998:\tlearn: 0.5745651\ttotal: 37.8s\tremaining: 37.8ms\n",
      "999:\tlearn: 0.5745313\ttotal: 37.8s\tremaining: 0us\n"
     ]
    }
   ],
   "source": [
    "# Ahora entrenamos con el set completo de datos\n",
    "eclf = eclf.fit(x, y)"
   ]
  },
  {
   "cell_type": "code",
   "execution_count": 115,
   "id": "2550b332",
   "metadata": {},
   "outputs": [
    {
     "name": "stdout",
     "output_type": "stream",
     "text": [
      "<class 'pandas.core.frame.DataFrame'>\n",
      "Int64Index: 86868 entries, 300051 to 501372\n",
      "Data columns (total 61 columns):\n",
      " #   Column                                  Non-Null Count  Dtype \n",
      "---  ------                                  --------------  ----- \n",
      " 0   geo_level_1_id                          86868 non-null  int64 \n",
      " 1   geo_level_2_id                          86868 non-null  int64 \n",
      " 2   geo_level_3_id                          86868 non-null  int64 \n",
      " 3   count_floors_pre_eq                     86868 non-null  int64 \n",
      " 4   age                                     86868 non-null  int64 \n",
      " 5   area_percentage                         86868 non-null  int64 \n",
      " 6   height_percentage                       86868 non-null  int64 \n",
      " 7   land_surface_condition                  86868 non-null  object\n",
      " 8   foundation_type                         86868 non-null  object\n",
      " 9   roof_type                               86868 non-null  object\n",
      " 10  ground_floor_type                       86868 non-null  object\n",
      " 11  other_floor_type                        86868 non-null  object\n",
      " 12  position                                86868 non-null  object\n",
      " 13  plan_configuration                      86868 non-null  object\n",
      " 14  has_superstructure_adobe_mud            86868 non-null  int64 \n",
      " 15  has_superstructure_mud_mortar_stone     86868 non-null  int64 \n",
      " 16  has_superstructure_stone_flag           86868 non-null  int64 \n",
      " 17  has_superstructure_cement_mortar_stone  86868 non-null  int64 \n",
      " 18  has_superstructure_mud_mortar_brick     86868 non-null  int64 \n",
      " 19  has_superstructure_cement_mortar_brick  86868 non-null  int64 \n",
      " 20  has_superstructure_timber               86868 non-null  int64 \n",
      " 21  has_superstructure_bamboo               86868 non-null  int64 \n",
      " 22  has_superstructure_rc_non_engineered    86868 non-null  int64 \n",
      " 23  has_superstructure_rc_engineered        86868 non-null  int64 \n",
      " 24  has_superstructure_other                86868 non-null  int64 \n",
      " 25  legal_ownership_status                  86868 non-null  object\n",
      " 26  count_families                          86868 non-null  int64 \n",
      " 27  has_secondary_use                       86868 non-null  int64 \n",
      " 28  has_secondary_use_agriculture           86868 non-null  int64 \n",
      " 29  has_secondary_use_hotel                 86868 non-null  int64 \n",
      " 30  has_secondary_use_rental                86868 non-null  int64 \n",
      " 31  has_secondary_use_institution           86868 non-null  int64 \n",
      " 32  has_secondary_use_school                86868 non-null  int64 \n",
      " 33  has_secondary_use_industry              86868 non-null  int64 \n",
      " 34  has_secondary_use_health_post           86868 non-null  int64 \n",
      " 35  has_secondary_use_gov_office            86868 non-null  int64 \n",
      " 36  has_secondary_use_use_police            86868 non-null  int64 \n",
      " 37  has_secondary_use_other                 86868 non-null  int64 \n",
      " 38  roof_type_C1                            86868 non-null  int64 \n",
      " 39  roof_type_C0                            86868 non-null  int64 \n",
      " 40  land_surface_condition_C1               86868 non-null  int64 \n",
      " 41  land_surface_condition_C0               86868 non-null  int64 \n",
      " 42  foundation_type_C0                      86868 non-null  int64 \n",
      " 43  foundation_type_C1                      86868 non-null  int64 \n",
      " 44  foundation_type_C2                      86868 non-null  int64 \n",
      " 45  ground_floor_type_C0                    86868 non-null  int64 \n",
      " 46  ground_floor_type_C1                    86868 non-null  int64 \n",
      " 47  ground_floor_type_C2                    86868 non-null  int64 \n",
      " 48  other_floor_type_C0                     86868 non-null  int64 \n",
      " 49  other_floor_type_C1                     86868 non-null  int64 \n",
      " 50  other_floor_type_C2                     86868 non-null  int64 \n",
      " 51  position_C0                             86868 non-null  int64 \n",
      " 52  position_C1                             86868 non-null  int64 \n",
      " 53  position_C2                             86868 non-null  int64 \n",
      " 54  plan_configuration_C0                   86868 non-null  int64 \n",
      " 55  plan_configuration_C1                   86868 non-null  int64 \n",
      " 56  plan_configuration_C2                   86868 non-null  int64 \n",
      " 57  plan_configuration_C3                   86868 non-null  int64 \n",
      " 58  legal_ownership_status_C0               86868 non-null  int64 \n",
      " 59  legal_ownership_status_C1               86868 non-null  int64 \n",
      " 60  legal_ownership_status_C2               86868 non-null  int64 \n",
      "dtypes: int64(53), object(8)\n",
      "memory usage: 41.1+ MB\n"
     ]
    }
   ],
   "source": [
    "test_values = pd.read_csv('encoded_test_values.csv').set_index('building_id')\n",
    "test_values.info()"
   ]
  },
  {
   "cell_type": "code",
   "execution_count": 116,
   "id": "bf437f32",
   "metadata": {},
   "outputs": [
    {
     "name": "stdout",
     "output_type": "stream",
     "text": [
      "<class 'pandas.core.frame.DataFrame'>\n",
      "Int64Index: 86868 entries, 300051 to 501372\n",
      "Data columns (total 53 columns):\n",
      " #   Column                                  Non-Null Count  Dtype\n",
      "---  ------                                  --------------  -----\n",
      " 0   geo_level_1_id                          86868 non-null  int64\n",
      " 1   geo_level_2_id                          86868 non-null  int64\n",
      " 2   geo_level_3_id                          86868 non-null  int64\n",
      " 3   count_floors_pre_eq                     86868 non-null  int64\n",
      " 4   age                                     86868 non-null  int64\n",
      " 5   area_percentage                         86868 non-null  int64\n",
      " 6   height_percentage                       86868 non-null  int64\n",
      " 7   has_superstructure_adobe_mud            86868 non-null  bool \n",
      " 8   has_superstructure_mud_mortar_stone     86868 non-null  bool \n",
      " 9   has_superstructure_stone_flag           86868 non-null  bool \n",
      " 10  has_superstructure_cement_mortar_stone  86868 non-null  bool \n",
      " 11  has_superstructure_mud_mortar_brick     86868 non-null  bool \n",
      " 12  has_superstructure_cement_mortar_brick  86868 non-null  bool \n",
      " 13  has_superstructure_timber               86868 non-null  bool \n",
      " 14  has_superstructure_bamboo               86868 non-null  bool \n",
      " 15  has_superstructure_rc_non_engineered    86868 non-null  bool \n",
      " 16  has_superstructure_rc_engineered        86868 non-null  bool \n",
      " 17  has_superstructure_other                86868 non-null  bool \n",
      " 18  count_families                          86868 non-null  int64\n",
      " 19  has_secondary_use                       86868 non-null  bool \n",
      " 20  has_secondary_use_agriculture           86868 non-null  bool \n",
      " 21  has_secondary_use_hotel                 86868 non-null  bool \n",
      " 22  has_secondary_use_rental                86868 non-null  bool \n",
      " 23  has_secondary_use_institution           86868 non-null  bool \n",
      " 24  has_secondary_use_school                86868 non-null  bool \n",
      " 25  has_secondary_use_industry              86868 non-null  bool \n",
      " 26  has_secondary_use_health_post           86868 non-null  bool \n",
      " 27  has_secondary_use_gov_office            86868 non-null  bool \n",
      " 28  has_secondary_use_use_police            86868 non-null  bool \n",
      " 29  has_secondary_use_other                 86868 non-null  bool \n",
      " 30  roof_type_C0                            86868 non-null  int64\n",
      " 31  roof_type_C1                            86868 non-null  int64\n",
      " 32  land_surface_condition_C1               86868 non-null  int64\n",
      " 33  land_surface_condition_C0               86868 non-null  int64\n",
      " 34  foundation_type_C0                      86868 non-null  int64\n",
      " 35  foundation_type_C1                      86868 non-null  int64\n",
      " 36  foundation_type_C2                      86868 non-null  int64\n",
      " 37  ground_floor_type_C0                    86868 non-null  int64\n",
      " 38  ground_floor_type_C1                    86868 non-null  int64\n",
      " 39  ground_floor_type_C2                    86868 non-null  int64\n",
      " 40  other_floor_type_C0                     86868 non-null  int64\n",
      " 41  other_floor_type_C1                     86868 non-null  int64\n",
      " 42  other_floor_type_C2                     86868 non-null  int64\n",
      " 43  position_C0                             86868 non-null  int64\n",
      " 44  position_C1                             86868 non-null  int64\n",
      " 45  position_C2                             86868 non-null  int64\n",
      " 46  plan_configuration_C0                   86868 non-null  int64\n",
      " 47  plan_configuration_C1                   86868 non-null  int64\n",
      " 48  plan_configuration_C2                   86868 non-null  int64\n",
      " 49  plan_configuration_C3                   86868 non-null  int64\n",
      " 50  legal_ownership_status_C0               86868 non-null  int64\n",
      " 51  legal_ownership_status_C1               86868 non-null  int64\n",
      " 52  legal_ownership_status_C2               86868 non-null  int64\n",
      "dtypes: bool(22), int64(31)\n",
      "memory usage: 23.0 MB\n"
     ]
    }
   ],
   "source": [
    "test_values = test_values[\n",
    "    ['geo_level_1_id', 'geo_level_2_id', 'geo_level_3_id',\n",
    "       'count_floors_pre_eq', 'age', 'area_percentage', 'height_percentage',\n",
    "       'has_superstructure_adobe_mud',\n",
    "       'has_superstructure_mud_mortar_stone', 'has_superstructure_stone_flag',\n",
    "       'has_superstructure_cement_mortar_stone',\n",
    "       'has_superstructure_mud_mortar_brick',\n",
    "       'has_superstructure_cement_mortar_brick', 'has_superstructure_timber',\n",
    "       'has_superstructure_bamboo', 'has_superstructure_rc_non_engineered',\n",
    "       'has_superstructure_rc_engineered', 'has_superstructure_other',\n",
    "       'count_families', 'has_secondary_use',\n",
    "       'has_secondary_use_agriculture', 'has_secondary_use_hotel',\n",
    "       'has_secondary_use_rental', 'has_secondary_use_institution',\n",
    "       'has_secondary_use_school', 'has_secondary_use_industry',\n",
    "       'has_secondary_use_health_post', 'has_secondary_use_gov_office',\n",
    "       'has_secondary_use_use_police', 'has_secondary_use_other',\n",
    "       'roof_type_C0', 'roof_type_C1', 'land_surface_condition_C1',\n",
    "       'land_surface_condition_C0', 'foundation_type_C0', 'foundation_type_C1',\n",
    "       'foundation_type_C2', 'ground_floor_type_C0', 'ground_floor_type_C1',\n",
    "       'ground_floor_type_C2', 'other_floor_type_C0', 'other_floor_type_C1',\n",
    "       'other_floor_type_C2', 'position_C0', 'position_C1', 'position_C2',\n",
    "       'plan_configuration_C0', 'plan_configuration_C1',\n",
    "       'plan_configuration_C2', 'plan_configuration_C3',\n",
    "       'legal_ownership_status_C0', 'legal_ownership_status_C1',\n",
    "       'legal_ownership_status_C2']\n",
    "]\n",
    "\n",
    "for col in test_values.columns:\n",
    "    if col.startswith('has_superstructure') or col.startswith('has_secondary_use'):\n",
    "        test_values[col] = test_values[col].astype(bool)\n",
    "\n",
    "test_values.info()"
   ]
  },
  {
   "cell_type": "code",
   "execution_count": 127,
   "id": "2187abbf",
   "metadata": {},
   "outputs": [],
   "source": [
    "prediction =eclf.predict(test_values)"
   ]
  },
  {
   "cell_type": "code",
   "execution_count": 128,
   "id": "85a1782a",
   "metadata": {},
   "outputs": [],
   "source": [
    "sub_format = pd.read_csv('submission_format.csv', index_col='building_id')"
   ]
  },
  {
   "cell_type": "code",
   "execution_count": 129,
   "id": "8c5cb9b4",
   "metadata": {},
   "outputs": [],
   "source": [
    "submission = pd.DataFrame(data=prediction, columns=sub_format.columns, index=sub_format.index)\n",
    "submission.to_csv('submission_ensamble_3_modelos_sin_grid_search.csv')"
   ]
  },
  {
   "cell_type": "code",
   "execution_count": 130,
   "id": "8d46d380",
   "metadata": {},
   "outputs": [
    {
     "data": {
      "text/html": [
       "<div>\n",
       "<style scoped>\n",
       "    .dataframe tbody tr th:only-of-type {\n",
       "        vertical-align: middle;\n",
       "    }\n",
       "\n",
       "    .dataframe tbody tr th {\n",
       "        vertical-align: top;\n",
       "    }\n",
       "\n",
       "    .dataframe thead th {\n",
       "        text-align: right;\n",
       "    }\n",
       "</style>\n",
       "<table border=\"1\" class=\"dataframe\">\n",
       "  <thead>\n",
       "    <tr style=\"text-align: right;\">\n",
       "      <th></th>\n",
       "      <th>damage_grade</th>\n",
       "    </tr>\n",
       "    <tr>\n",
       "      <th>building_id</th>\n",
       "      <th></th>\n",
       "    </tr>\n",
       "  </thead>\n",
       "  <tbody>\n",
       "    <tr>\n",
       "      <th>300051</th>\n",
       "      <td>3</td>\n",
       "    </tr>\n",
       "    <tr>\n",
       "      <th>99355</th>\n",
       "      <td>2</td>\n",
       "    </tr>\n",
       "    <tr>\n",
       "      <th>890251</th>\n",
       "      <td>2</td>\n",
       "    </tr>\n",
       "    <tr>\n",
       "      <th>745817</th>\n",
       "      <td>1</td>\n",
       "    </tr>\n",
       "    <tr>\n",
       "      <th>421793</th>\n",
       "      <td>3</td>\n",
       "    </tr>\n",
       "  </tbody>\n",
       "</table>\n",
       "</div>"
      ],
      "text/plain": [
       "             damage_grade\n",
       "building_id              \n",
       "300051                  3\n",
       "99355                   2\n",
       "890251                  2\n",
       "745817                  1\n",
       "421793                  3"
      ]
     },
     "execution_count": 130,
     "metadata": {},
     "output_type": "execute_result"
    }
   ],
   "source": [
    "submission.head()"
   ]
  }
 ],
 "metadata": {
  "kernelspec": {
   "display_name": "Python 3",
   "language": "python",
   "name": "python3"
  },
  "language_info": {
   "codemirror_mode": {
    "name": "ipython",
    "version": 3
   },
   "file_extension": ".py",
   "mimetype": "text/x-python",
   "name": "python",
   "nbconvert_exporter": "python",
   "pygments_lexer": "ipython3",
   "version": "3.6.9"
  }
 },
 "nbformat": 4,
 "nbformat_minor": 5
}
