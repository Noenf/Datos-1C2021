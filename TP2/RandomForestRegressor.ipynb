{
 "cells": [
  {
   "cell_type": "code",
   "execution_count": 1,
   "metadata": {},
   "outputs": [
    {
     "name": "stderr",
     "output_type": "stream",
     "text": [
      "/usr/local/lib/python3.5/dist-packages/sklearn/ensemble/weight_boosting.py:29: DeprecationWarning: numpy.core.umath_tests is an internal NumPy module and should not be imported. It will be removed in a future NumPy release.\n",
      "  from numpy.core.umath_tests import inner1d\n"
     ]
    }
   ],
   "source": [
    "import pandas as pd\n",
    "import numpy as np\n",
    "from sklearn.ensemble import RandomForestRegressor\n",
    "from sklearn.datasets import make_regression"
   ]
  },
  {
   "cell_type": "code",
   "execution_count": 5,
   "metadata": {},
   "outputs": [],
   "source": [
    "train_v3 = pd.read_csv('dataset_v3')"
   ]
  },
  {
   "cell_type": "code",
   "execution_count": 6,
   "metadata": {},
   "outputs": [
    {
     "name": "stdout",
     "output_type": "stream",
     "text": [
      "<class 'pandas.core.frame.DataFrame'>\n",
      "RangeIndex: 260601 entries, 0 to 260600\n",
      "Data columns (total 44 columns):\n",
      "building_id                                    260601 non-null int64\n",
      "geo_level_1_id                                 260601 non-null int64\n",
      "geo_level_2_id                                 260601 non-null int64\n",
      "geo_level_3_id                                 260601 non-null int64\n",
      "count_floors_pre_eq                            260601 non-null int64\n",
      "age                                            260601 non-null int64\n",
      "count_families                                 260601 non-null int64\n",
      "damage_grade                                   260601 non-null int64\n",
      "roof_type_C1                                   260601 non-null int64\n",
      "roof_type_C0                                   260601 non-null int64\n",
      "land_surface_condition_C0                      260601 non-null int64\n",
      "land_surface_condition_C1                      260601 non-null int64\n",
      "foundation_type_C0                             260601 non-null int64\n",
      "foundation_type_C1                             260601 non-null int64\n",
      "foundation_type_C2                             260601 non-null int64\n",
      "ground_floor_type_C0                           260601 non-null int64\n",
      "ground_floor_type_C1                           260601 non-null int64\n",
      "ground_floor_type_C2                           260601 non-null int64\n",
      "other_floor_type_C0                            260601 non-null int64\n",
      "other_floor_type_C1                            260601 non-null int64\n",
      "other_floor_type_C2                            260601 non-null int64\n",
      "position_C0                                    260601 non-null int64\n",
      "position_C1                                    260601 non-null int64\n",
      "position_C2                                    260601 non-null int64\n",
      "plan_configuration_C0                          260601 non-null int64\n",
      "plan_configuration_C1                          260601 non-null int64\n",
      "plan_configuration_C2                          260601 non-null int64\n",
      "plan_configuration_C3                          260601 non-null int64\n",
      "legal_ownership_status_C0                      260601 non-null int64\n",
      "legal_ownership_status_C1                      260601 non-null int64\n",
      "legal_ownership_status_C2                      260601 non-null int64\n",
      "has_superstructure_adobe_mud_mean              260601 non-null float64\n",
      "has_superstructure_mud_mortar_stone_mean       260601 non-null float64\n",
      "has_superstructure_stone_flag_mean             260601 non-null float64\n",
      "has_superstructure_cement_mortar_stone_mean    260601 non-null float64\n",
      "has_superstructure_mud_mortar_brick_mean       260601 non-null float64\n",
      "has_superstructure_cement_mortar_brick_mean    260601 non-null float64\n",
      "has_superstructure_timber_mean                 260601 non-null float64\n",
      "has_superstructure_bamboo_mean                 260601 non-null float64\n",
      "has_superstructure_rc_non_engineered_mean      260601 non-null float64\n",
      "has_superstructure_rc_engineered_mean          260601 non-null float64\n",
      "has_superstructure_other_mean                  260601 non-null float64\n",
      "area_percentage_norm                           260601 non-null float64\n",
      "height_percentage_norm                         260601 non-null float64\n",
      "dtypes: float64(13), int64(31)\n",
      "memory usage: 87.5 MB\n"
     ]
    }
   ],
   "source": [
    "train_v3.info()"
   ]
  },
  {
   "cell_type": "code",
   "execution_count": null,
   "metadata": {},
   "outputs": [],
   "source": [
    "train"
   ]
  },
  {
   "cell_type": "code",
   "execution_count": 4,
   "metadata": {},
   "outputs": [],
   "source": [
    "train_labels = train_v3['damage_grade']\n",
    "del train_v3['damage_grade']"
   ]
  },
  {
   "cell_type": "code",
   "execution_count": 15,
   "metadata": {},
   "outputs": [],
   "source": [
    "##Usaremos train_v3 para realizar este modelo \n",
    "\n",
    "x = np.array(train_v3.iloc[1:100000,1:42])\n",
    "y = np.array(train_labels.iloc[1:100000])\n"
   ]
  },
  {
   "cell_type": "code",
   "execution_count": 16,
   "metadata": {},
   "outputs": [
    {
     "data": {
      "text/plain": [
       "RandomForestRegressor(bootstrap=True, criterion='mae', max_depth=5,\n",
       "           max_features='auto', max_leaf_nodes=None,\n",
       "           min_impurity_decrease=0.0, min_impurity_split=None,\n",
       "           min_samples_leaf=1, min_samples_split=2,\n",
       "           min_weight_fraction_leaf=0.0, n_estimators=20, n_jobs=1,\n",
       "           oob_score=False, random_state=None, verbose=0, warm_start=False)"
      ]
     },
     "execution_count": 16,
     "metadata": {},
     "output_type": "execute_result"
    }
   ],
   "source": [
    "model = RandomForestRegressor(n_estimators=20,criterion=\"mae\",max_depth=5)\n",
    "model.fit(x,y)"
   ]
  },
  {
   "cell_type": "code",
   "execution_count": 18,
   "metadata": {},
   "outputs": [
    {
     "data": {
      "text/plain": [
       "RandomForestRegressor(bootstrap=True, criterion='mae', max_depth=5,\n",
       "           max_features='auto', max_leaf_nodes=None,\n",
       "           min_impurity_decrease=0.0, min_impurity_split=None,\n",
       "           min_samples_leaf=1, min_samples_split=2,\n",
       "           min_weight_fraction_leaf=0.0, n_estimators=20, n_jobs=1,\n",
       "           oob_score=False, random_state=None, verbose=0, warm_start=False)"
      ]
     },
     "execution_count": 18,
     "metadata": {},
     "output_type": "execute_result"
    }
   ],
   "source": [
    "x2 = np.array(train_v3.iloc[100000:200000,1:42])\n",
    "y2 = np.array(train_labels.iloc[100000:200000])\n",
    "model.fit(x2,y2)"
   ]
  },
  {
   "cell_type": "code",
   "execution_count": 17,
   "metadata": {},
   "outputs": [
    {
     "name": "stdout",
     "output_type": "stream",
     "text": [
      "accuracy=100.00%\n"
     ]
    }
   ],
   "source": [
    "score = model.score(x, y)\n",
    "print(\"accuracy=%.2f%%\" % ( score * 100))"
   ]
  },
  {
   "cell_type": "code",
   "execution_count": 19,
   "metadata": {},
   "outputs": [
    {
     "name": "stdout",
     "output_type": "stream",
     "text": [
      "accuracy=100.00%\n"
     ]
    }
   ],
   "source": [
    "score = model.score(x, y)\n",
    "print(\"accuracy=%.2f%%\" % ( score * 100))"
   ]
  },
  {
   "cell_type": "code",
   "execution_count": 20,
   "metadata": {},
   "outputs": [
    {
     "name": "stdout",
     "output_type": "stream",
     "text": [
      "accuracy2=100.00%\n"
     ]
    }
   ],
   "source": [
    "score = model.score(x2, y2)\n",
    "print(\"accuracy2=%.2f%%\" % ( score * 100))"
   ]
  },
  {
   "cell_type": "code",
   "execution_count": null,
   "metadata": {},
   "outputs": [],
   "source": [
    "##Se puede observar que el modelo  "
   ]
  },
  {
   "cell_type": "code",
   "execution_count": 21,
   "metadata": {},
   "outputs": [],
   "source": [
    "from sklearn.metrics import accuracy_score"
   ]
  },
  {
   "cell_type": "code",
   "execution_count": 22,
   "metadata": {},
   "outputs": [
    {
     "name": "stdout",
     "output_type": "stream",
     "text": [
      "<class 'pandas.core.frame.DataFrame'>\n",
      "RangeIndex: 86868 entries, 0 to 86867\n",
      "Data columns (total 43 columns):\n",
      "building_id                               86868 non-null int64\n",
      "geo_level_1_id                            86868 non-null int64\n",
      "geo_level_2_id                            86868 non-null int64\n",
      "geo_level_3_id                            86868 non-null int64\n",
      "count_floors_pre_eq                       86868 non-null int64\n",
      "age                                       86868 non-null int64\n",
      "area_percentage                           86868 non-null int64\n",
      "height_percentage                         86868 non-null int64\n",
      "has_superstructure_adobe_mud              86868 non-null int64\n",
      "has_superstructure_mud_mortar_stone       86868 non-null int64\n",
      "has_superstructure_stone_flag             86868 non-null int64\n",
      "has_superstructure_cement_mortar_stone    86868 non-null int64\n",
      "has_superstructure_mud_mortar_brick       86868 non-null int64\n",
      "has_superstructure_cement_mortar_brick    86868 non-null int64\n",
      "has_superstructure_timber                 86868 non-null int64\n",
      "has_superstructure_bamboo                 86868 non-null int64\n",
      "has_superstructure_rc_non_engineered      86868 non-null int64\n",
      "has_superstructure_rc_engineered          86868 non-null int64\n",
      "has_superstructure_other                  86868 non-null int64\n",
      "count_families                            86868 non-null int64\n",
      "roof_type_C1                              86868 non-null int64\n",
      "roof_type_C0                              86868 non-null int64\n",
      "land_surface_condition_C1                 86868 non-null int64\n",
      "land_surface_condition_C0                 86868 non-null int64\n",
      "foundation_type_C0                        86868 non-null int64\n",
      "foundation_type_C1                        86868 non-null int64\n",
      "foundation_type_C2                        86868 non-null int64\n",
      "ground_floor_type_C0                      86868 non-null int64\n",
      "ground_floor_type_C1                      86868 non-null int64\n",
      "ground_floor_type_C2                      86868 non-null int64\n",
      "other_floor_type_C0                       86868 non-null int64\n",
      "other_floor_type_C1                       86868 non-null int64\n",
      "other_floor_type_C2                       86868 non-null int64\n",
      "position_C0                               86868 non-null int64\n",
      "position_C1                               86868 non-null int64\n",
      "position_C2                               86868 non-null int64\n",
      "plan_configuration_C0                     86868 non-null int64\n",
      "plan_configuration_C1                     86868 non-null int64\n",
      "plan_configuration_C2                     86868 non-null int64\n",
      "plan_configuration_C3                     86868 non-null int64\n",
      "legal_ownership_status_C0                 86868 non-null int64\n",
      "legal_ownership_status_C1                 86868 non-null int64\n",
      "legal_ownership_status_C2                 86868 non-null int64\n",
      "dtypes: int64(43)\n",
      "memory usage: 28.5 MB\n"
     ]
    }
   ],
   "source": [
    "\n",
    "test_data = pd.read_csv('encoded_test_values.csv')\n",
    "\n",
    "test_data = test_data.drop(labels=['land_surface_condition','foundation_type','roof_type',\\\n",
    "'ground_floor_type','other_floor_type','position', 'plan_configuration','legal_ownership_status',\\\n",
    " 'has_secondary_use','has_secondary_use_agriculture','has_secondary_use_hotel','has_secondary_use_rental',\\\n",
    "'has_secondary_use_institution','has_secondary_use_school','has_secondary_use_industry','has_secondary_use_health_post',\\\n",
    "'has_secondary_use_gov_office','has_secondary_use_use_police','has_secondary_use_other'],axis=1)\n",
    "\n",
    "test_data.info()\n"
   ]
  },
  {
   "cell_type": "code",
   "execution_count": 23,
   "metadata": {},
   "outputs": [],
   "source": [
    "test_data.to_csv('test_data_43C.csv')"
   ]
  },
  {
   "cell_type": "code",
   "execution_count": 25,
   "metadata": {},
   "outputs": [],
   "source": [
    "predictions = model.predict(test_data.iloc[:,1:42])"
   ]
  },
  {
   "cell_type": "code",
   "execution_count": 28,
   "metadata": {},
   "outputs": [
    {
     "data": {
      "text/plain": [
       "array([3., 3., 3., ..., 3., 3., 3.])"
      ]
     },
     "execution_count": 28,
     "metadata": {},
     "output_type": "execute_result"
    }
   ],
   "source": [
    "predictions"
   ]
  },
  {
   "cell_type": "code",
   "execution_count": 43,
   "metadata": {},
   "outputs": [],
   "source": [
    "\n",
    "\n",
    "submit = pd.read_csv('submission_format.csv', index_col='building_id')\n",
    "submission = pd.DataFrame(\n",
    "    data=predictions,\n",
    "    columns=submit.columns,\n",
    "    index=submit.index\n",
    ")"
   ]
  },
  {
   "cell_type": "code",
   "execution_count": 46,
   "metadata": {},
   "outputs": [
    {
     "data": {
      "text/plain": [
       "3.0    83825\n",
       "2.0     3043\n",
       "Name: damage_grade, dtype: int64"
      ]
     },
     "execution_count": 46,
     "metadata": {},
     "output_type": "execute_result"
    }
   ],
   "source": [
    "submission['damage_grade'].value_counts()"
   ]
  },
  {
   "cell_type": "code",
   "execution_count": 48,
   "metadata": {},
   "outputs": [
    {
     "data": {
      "text/plain": [
       "2    56790\n",
       "3    33597\n",
       "1     9613\n",
       "Name: damage_grade, dtype: int64"
      ]
     },
     "execution_count": 48,
     "metadata": {},
     "output_type": "execute_result"
    }
   ],
   "source": [
    "train_labels.iloc[:100000].value_counts()"
   ]
  },
  {
   "cell_type": "code",
   "execution_count": 49,
   "metadata": {},
   "outputs": [
    {
     "name": "stdout",
     "output_type": "stream",
     "text": [
      "<class 'pandas.core.frame.DataFrame'>\n",
      "Int64Index: 86868 entries, 300051 to 501372\n",
      "Data columns (total 1 columns):\n",
      "damage_grade    86868 non-null int64\n",
      "dtypes: int64(1)\n",
      "memory usage: 1.3 MB\n"
     ]
    }
   ],
   "source": [
    "submit.info()"
   ]
  },
  {
   "cell_type": "code",
   "execution_count": 50,
   "metadata": {},
   "outputs": [
    {
     "name": "stdout",
     "output_type": "stream",
     "text": [
      "<class 'pandas.core.frame.DataFrame'>\n",
      "Int64Index: 86868 entries, 300051 to 501372\n",
      "Data columns (total 1 columns):\n",
      "damage_grade    86868 non-null float64\n",
      "dtypes: float64(1)\n",
      "memory usage: 1.3 MB\n"
     ]
    }
   ],
   "source": [
    "submission.info()"
   ]
  },
  {
   "cell_type": "code",
   "execution_count": 52,
   "metadata": {},
   "outputs": [],
   "source": [
    "submission.to_csv('submitRFRegressor.csv')"
   ]
  },
  {
   "cell_type": "code",
   "execution_count": 56,
   "metadata": {},
   "outputs": [
    {
     "data": {
      "text/html": [
       "<div>\n",
       "<style scoped>\n",
       "    .dataframe tbody tr th:only-of-type {\n",
       "        vertical-align: middle;\n",
       "    }\n",
       "\n",
       "    .dataframe tbody tr th {\n",
       "        vertical-align: top;\n",
       "    }\n",
       "\n",
       "    .dataframe thead th {\n",
       "        text-align: right;\n",
       "    }\n",
       "</style>\n",
       "<table border=\"1\" class=\"dataframe\">\n",
       "  <thead>\n",
       "    <tr style=\"text-align: right;\">\n",
       "      <th></th>\n",
       "      <th>damage_grade</th>\n",
       "    </tr>\n",
       "    <tr>\n",
       "      <th>building_id</th>\n",
       "      <th></th>\n",
       "    </tr>\n",
       "  </thead>\n",
       "  <tbody>\n",
       "    <tr>\n",
       "      <th>300051</th>\n",
       "      <td>3.0</td>\n",
       "    </tr>\n",
       "    <tr>\n",
       "      <th>99355</th>\n",
       "      <td>3.0</td>\n",
       "    </tr>\n",
       "    <tr>\n",
       "      <th>890251</th>\n",
       "      <td>3.0</td>\n",
       "    </tr>\n",
       "    <tr>\n",
       "      <th>745817</th>\n",
       "      <td>3.0</td>\n",
       "    </tr>\n",
       "    <tr>\n",
       "      <th>421793</th>\n",
       "      <td>3.0</td>\n",
       "    </tr>\n",
       "  </tbody>\n",
       "</table>\n",
       "</div>"
      ],
      "text/plain": [
       "             damage_grade\n",
       "building_id              \n",
       "300051                3.0\n",
       "99355                 3.0\n",
       "890251                3.0\n",
       "745817                3.0\n",
       "421793                3.0"
      ]
     },
     "execution_count": 56,
     "metadata": {},
     "output_type": "execute_result"
    }
   ],
   "source": [
    "submission.head()"
   ]
  },
  {
   "cell_type": "code",
   "execution_count": 57,
   "metadata": {},
   "outputs": [],
   "source": [
    "submit2 = pd.read_csv('submission_format.csv')"
   ]
  },
  {
   "cell_type": "code",
   "execution_count": 58,
   "metadata": {},
   "outputs": [
    {
     "data": {
      "text/html": [
       "<div>\n",
       "<style scoped>\n",
       "    .dataframe tbody tr th:only-of-type {\n",
       "        vertical-align: middle;\n",
       "    }\n",
       "\n",
       "    .dataframe tbody tr th {\n",
       "        vertical-align: top;\n",
       "    }\n",
       "\n",
       "    .dataframe thead th {\n",
       "        text-align: right;\n",
       "    }\n",
       "</style>\n",
       "<table border=\"1\" class=\"dataframe\">\n",
       "  <thead>\n",
       "    <tr style=\"text-align: right;\">\n",
       "      <th></th>\n",
       "      <th>building_id</th>\n",
       "      <th>damage_grade</th>\n",
       "    </tr>\n",
       "  </thead>\n",
       "  <tbody>\n",
       "    <tr>\n",
       "      <th>0</th>\n",
       "      <td>300051</td>\n",
       "      <td>1</td>\n",
       "    </tr>\n",
       "    <tr>\n",
       "      <th>1</th>\n",
       "      <td>99355</td>\n",
       "      <td>1</td>\n",
       "    </tr>\n",
       "    <tr>\n",
       "      <th>2</th>\n",
       "      <td>890251</td>\n",
       "      <td>1</td>\n",
       "    </tr>\n",
       "    <tr>\n",
       "      <th>3</th>\n",
       "      <td>745817</td>\n",
       "      <td>1</td>\n",
       "    </tr>\n",
       "    <tr>\n",
       "      <th>4</th>\n",
       "      <td>421793</td>\n",
       "      <td>1</td>\n",
       "    </tr>\n",
       "  </tbody>\n",
       "</table>\n",
       "</div>"
      ],
      "text/plain": [
       "   building_id  damage_grade\n",
       "0       300051             1\n",
       "1        99355             1\n",
       "2       890251             1\n",
       "3       745817             1\n",
       "4       421793             1"
      ]
     },
     "execution_count": 58,
     "metadata": {},
     "output_type": "execute_result"
    }
   ],
   "source": [
    "submit2.head()"
   ]
  },
  {
   "cell_type": "code",
   "execution_count": 60,
   "metadata": {},
   "outputs": [],
   "source": [
    "submission = submission.reset_index()"
   ]
  },
  {
   "cell_type": "code",
   "execution_count": 61,
   "metadata": {},
   "outputs": [],
   "source": [
    "submission.to_csv('submitRFRegressor.csv')"
   ]
  },
  {
   "cell_type": "code",
   "execution_count": 62,
   "metadata": {},
   "outputs": [],
   "source": [
    "submit2 = pd.read_csv('submitRFRegressor.csv',index_col='building_id')"
   ]
  },
  {
   "cell_type": "code",
   "execution_count": 65,
   "metadata": {},
   "outputs": [
    {
     "data": {
      "text/html": [
       "<div>\n",
       "<style scoped>\n",
       "    .dataframe tbody tr th:only-of-type {\n",
       "        vertical-align: middle;\n",
       "    }\n",
       "\n",
       "    .dataframe tbody tr th {\n",
       "        vertical-align: top;\n",
       "    }\n",
       "\n",
       "    .dataframe thead th {\n",
       "        text-align: right;\n",
       "    }\n",
       "</style>\n",
       "<table border=\"1\" class=\"dataframe\">\n",
       "  <thead>\n",
       "    <tr style=\"text-align: right;\">\n",
       "      <th></th>\n",
       "      <th>damage_grade</th>\n",
       "    </tr>\n",
       "    <tr>\n",
       "      <th>building_id</th>\n",
       "      <th></th>\n",
       "    </tr>\n",
       "  </thead>\n",
       "  <tbody>\n",
       "    <tr>\n",
       "      <th>300051</th>\n",
       "      <td>3.0</td>\n",
       "    </tr>\n",
       "    <tr>\n",
       "      <th>99355</th>\n",
       "      <td>3.0</td>\n",
       "    </tr>\n",
       "    <tr>\n",
       "      <th>890251</th>\n",
       "      <td>3.0</td>\n",
       "    </tr>\n",
       "    <tr>\n",
       "      <th>745817</th>\n",
       "      <td>3.0</td>\n",
       "    </tr>\n",
       "    <tr>\n",
       "      <th>421793</th>\n",
       "      <td>3.0</td>\n",
       "    </tr>\n",
       "  </tbody>\n",
       "</table>\n",
       "</div>"
      ],
      "text/plain": [
       "             damage_grade\n",
       "building_id              \n",
       "300051                3.0\n",
       "99355                 3.0\n",
       "890251                3.0\n",
       "745817                3.0\n",
       "421793                3.0"
      ]
     },
     "execution_count": 65,
     "metadata": {},
     "output_type": "execute_result"
    }
   ],
   "source": [
    "submit2.head()"
   ]
  },
  {
   "cell_type": "code",
   "execution_count": 66,
   "metadata": {},
   "outputs": [],
   "source": [
    "submit2.to_csv('submitRFRegressor.csv')"
   ]
  },
  {
   "cell_type": "code",
   "execution_count": 67,
   "metadata": {},
   "outputs": [
    {
     "name": "stdout",
     "output_type": "stream",
     "text": [
      "<class 'pandas.core.frame.DataFrame'>\n",
      "Int64Index: 86868 entries, 300051 to 501372\n",
      "Data columns (total 1 columns):\n",
      "damage_grade    86868 non-null float64\n",
      "dtypes: float64(1)\n",
      "memory usage: 1.3 MB\n"
     ]
    }
   ],
   "source": [
    "submit2.info()"
   ]
  },
  {
   "cell_type": "code",
   "execution_count": 68,
   "metadata": {},
   "outputs": [],
   "source": [
    "submit2['damage_grade'] = submit2['damage_grade'].astype('int64')"
   ]
  },
  {
   "cell_type": "code",
   "execution_count": 69,
   "metadata": {},
   "outputs": [],
   "source": [
    "submit2.to_csv('submitRFRegressor.csv')"
   ]
  },
  {
   "cell_type": "code",
   "execution_count": 70,
   "metadata": {},
   "outputs": [],
   "source": [
    "##Submit procesado 0.3424\n",
    "##Procesamos el modelo nuevamente sin las columnas Booleanas que tienen tipo int64"
   ]
  },
  {
   "cell_type": "code",
   "execution_count": 73,
   "metadata": {},
   "outputs": [
    {
     "name": "stdout",
     "output_type": "stream",
     "text": [
      "<class 'pandas.core.frame.DataFrame'>\n",
      "RangeIndex: 260601 entries, 0 to 260600\n",
      "Data columns (total 44 columns):\n",
      "building_id                                    260601 non-null int64\n",
      "geo_level_1_id                                 260601 non-null int64\n",
      "geo_level_2_id                                 260601 non-null int64\n",
      "geo_level_3_id                                 260601 non-null int64\n",
      "count_floors_pre_eq                            260601 non-null int64\n",
      "age                                            260601 non-null int64\n",
      "count_families                                 260601 non-null int64\n",
      "damage_grade                                   260601 non-null int64\n",
      "roof_type_C1                                   260601 non-null int64\n",
      "roof_type_C0                                   260601 non-null int64\n",
      "land_surface_condition_C0                      260601 non-null int64\n",
      "land_surface_condition_C1                      260601 non-null int64\n",
      "foundation_type_C0                             260601 non-null int64\n",
      "foundation_type_C1                             260601 non-null int64\n",
      "foundation_type_C2                             260601 non-null int64\n",
      "ground_floor_type_C0                           260601 non-null int64\n",
      "ground_floor_type_C1                           260601 non-null int64\n",
      "ground_floor_type_C2                           260601 non-null int64\n",
      "other_floor_type_C0                            260601 non-null int64\n",
      "other_floor_type_C1                            260601 non-null int64\n",
      "other_floor_type_C2                            260601 non-null int64\n",
      "position_C0                                    260601 non-null int64\n",
      "position_C1                                    260601 non-null int64\n",
      "position_C2                                    260601 non-null int64\n",
      "plan_configuration_C0                          260601 non-null int64\n",
      "plan_configuration_C1                          260601 non-null int64\n",
      "plan_configuration_C2                          260601 non-null int64\n",
      "plan_configuration_C3                          260601 non-null int64\n",
      "legal_ownership_status_C0                      260601 non-null int64\n",
      "legal_ownership_status_C1                      260601 non-null int64\n",
      "legal_ownership_status_C2                      260601 non-null int64\n",
      "has_superstructure_adobe_mud_mean              260601 non-null float64\n",
      "has_superstructure_mud_mortar_stone_mean       260601 non-null float64\n",
      "has_superstructure_stone_flag_mean             260601 non-null float64\n",
      "has_superstructure_cement_mortar_stone_mean    260601 non-null float64\n",
      "has_superstructure_mud_mortar_brick_mean       260601 non-null float64\n",
      "has_superstructure_cement_mortar_brick_mean    260601 non-null float64\n",
      "has_superstructure_timber_mean                 260601 non-null float64\n",
      "has_superstructure_bamboo_mean                 260601 non-null float64\n",
      "has_superstructure_rc_non_engineered_mean      260601 non-null float64\n",
      "has_superstructure_rc_engineered_mean          260601 non-null float64\n",
      "has_superstructure_other_mean                  260601 non-null float64\n",
      "area_percentage_norm                           260601 non-null float64\n",
      "height_percentage_norm                         260601 non-null float64\n",
      "dtypes: float64(13), int64(31)\n",
      "memory usage: 87.5 MB\n"
     ]
    }
   ],
   "source": [
    "train_v3.info()"
   ]
  },
  {
   "cell_type": "code",
   "execution_count": 74,
   "metadata": {},
   "outputs": [],
   "source": [
    "train = train_v3.drop(labels=[\n",
    " 'has_superstructure_adobe_mud_mean','has_superstructure_mud_mortar_stone_mean','has_superstructure_stone_flag_mean','has_superstructure_cement_mortar_stone_mean',\\\n",
    "'has_superstructure_mud_mortar_brick_mean','has_superstructure_cement_mortar_brick_mean','has_superstructure_timber_mean','has_superstructure_bamboo_mean',\\\n",
    "'has_superstructure_rc_non_engineered_mean','has_superstructure_other_mean','has_superstructure_rc_engineered_mean'],axis=1)"
   ]
  },
  {
   "cell_type": "code",
   "execution_count": 75,
   "metadata": {},
   "outputs": [
    {
     "name": "stdout",
     "output_type": "stream",
     "text": [
      "<class 'pandas.core.frame.DataFrame'>\n",
      "RangeIndex: 260601 entries, 0 to 260600\n",
      "Data columns (total 33 columns):\n",
      "building_id                  260601 non-null int64\n",
      "geo_level_1_id               260601 non-null int64\n",
      "geo_level_2_id               260601 non-null int64\n",
      "geo_level_3_id               260601 non-null int64\n",
      "count_floors_pre_eq          260601 non-null int64\n",
      "age                          260601 non-null int64\n",
      "count_families               260601 non-null int64\n",
      "damage_grade                 260601 non-null int64\n",
      "roof_type_C1                 260601 non-null int64\n",
      "roof_type_C0                 260601 non-null int64\n",
      "land_surface_condition_C0    260601 non-null int64\n",
      "land_surface_condition_C1    260601 non-null int64\n",
      "foundation_type_C0           260601 non-null int64\n",
      "foundation_type_C1           260601 non-null int64\n",
      "foundation_type_C2           260601 non-null int64\n",
      "ground_floor_type_C0         260601 non-null int64\n",
      "ground_floor_type_C1         260601 non-null int64\n",
      "ground_floor_type_C2         260601 non-null int64\n",
      "other_floor_type_C0          260601 non-null int64\n",
      "other_floor_type_C1          260601 non-null int64\n",
      "other_floor_type_C2          260601 non-null int64\n",
      "position_C0                  260601 non-null int64\n",
      "position_C1                  260601 non-null int64\n",
      "position_C2                  260601 non-null int64\n",
      "plan_configuration_C0        260601 non-null int64\n",
      "plan_configuration_C1        260601 non-null int64\n",
      "plan_configuration_C2        260601 non-null int64\n",
      "plan_configuration_C3        260601 non-null int64\n",
      "legal_ownership_status_C0    260601 non-null int64\n",
      "legal_ownership_status_C1    260601 non-null int64\n",
      "legal_ownership_status_C2    260601 non-null int64\n",
      "area_percentage_norm         260601 non-null float64\n",
      "height_percentage_norm       260601 non-null float64\n",
      "dtypes: float64(2), int64(31)\n",
      "memory usage: 65.6 MB\n"
     ]
    }
   ],
   "source": [
    "train.info()"
   ]
  },
  {
   "cell_type": "code",
   "execution_count": 76,
   "metadata": {},
   "outputs": [],
   "source": [
    "train_labels_v2 = train['damage_grade']"
   ]
  },
  {
   "cell_type": "code",
   "execution_count": 77,
   "metadata": {},
   "outputs": [],
   "source": [
    "del train['damage_grade']"
   ]
  },
  {
   "cell_type": "code",
   "execution_count": 78,
   "metadata": {},
   "outputs": [],
   "source": [
    "x3 = np.array(train.iloc[1:100000,1:42])\n",
    "y3 = np.array(train_labels_v2.iloc[1:100000])"
   ]
  },
  {
   "cell_type": "code",
   "execution_count": 79,
   "metadata": {},
   "outputs": [
    {
     "data": {
      "text/plain": [
       "RandomForestRegressor(bootstrap=True, criterion='mae', max_depth=5,\n",
       "           max_features='auto', max_leaf_nodes=None,\n",
       "           min_impurity_decrease=0.0, min_impurity_split=None,\n",
       "           min_samples_leaf=1, min_samples_split=2,\n",
       "           min_weight_fraction_leaf=0.0, n_estimators=20, n_jobs=1,\n",
       "           oob_score=False, random_state=None, verbose=0, warm_start=False)"
      ]
     },
     "execution_count": 79,
     "metadata": {},
     "output_type": "execute_result"
    }
   ],
   "source": [
    "model = RandomForestRegressor(n_estimators=20,criterion=\"mae\",max_depth=5)\n",
    "model.fit(x3,y3)"
   ]
  },
  {
   "cell_type": "code",
   "execution_count": 80,
   "metadata": {},
   "outputs": [],
   "source": [
    "test_data_v2 = test_data.drop(labels=[\n",
    " 'has_superstructure_adobe_mud','has_superstructure_mud_mortar_stone','has_superstructure_stone_flag','has_superstructure_cement_mortar_stone',\\\n",
    "'has_superstructure_mud_mortar_brick','has_superstructure_cement_mortar_brick','has_superstructure_timber','has_superstructure_bamboo',\\\n",
    "'has_superstructure_rc_non_engineered','has_superstructure_other','has_superstructure_rc_engineered'],axis=1)"
   ]
  },
  {
   "cell_type": "code",
   "execution_count": 85,
   "metadata": {},
   "outputs": [],
   "source": [
    "predictions_v2 = model.predict(test_data_v2.iloc[:,1:42])"
   ]
  },
  {
   "cell_type": "code",
   "execution_count": 86,
   "metadata": {},
   "outputs": [],
   "source": [
    "predictions_v3 = model.predict(np.array(test_data_v2.iloc[:,1:42]))"
   ]
  },
  {
   "cell_type": "code",
   "execution_count": 87,
   "metadata": {},
   "outputs": [
    {
     "data": {
      "text/html": [
       "<div>\n",
       "<style scoped>\n",
       "    .dataframe tbody tr th:only-of-type {\n",
       "        vertical-align: middle;\n",
       "    }\n",
       "\n",
       "    .dataframe tbody tr th {\n",
       "        vertical-align: top;\n",
       "    }\n",
       "\n",
       "    .dataframe thead th {\n",
       "        text-align: right;\n",
       "    }\n",
       "</style>\n",
       "<table border=\"1\" class=\"dataframe\">\n",
       "  <thead>\n",
       "    <tr style=\"text-align: right;\">\n",
       "      <th></th>\n",
       "      <th>damage_grade</th>\n",
       "    </tr>\n",
       "    <tr>\n",
       "      <th>building_id</th>\n",
       "      <th></th>\n",
       "    </tr>\n",
       "  </thead>\n",
       "  <tbody>\n",
       "    <tr>\n",
       "      <th>300051</th>\n",
       "      <td>1.8</td>\n",
       "    </tr>\n",
       "    <tr>\n",
       "      <th>99355</th>\n",
       "      <td>1.3</td>\n",
       "    </tr>\n",
       "    <tr>\n",
       "      <th>890251</th>\n",
       "      <td>1.2</td>\n",
       "    </tr>\n",
       "    <tr>\n",
       "      <th>745817</th>\n",
       "      <td>1.2</td>\n",
       "    </tr>\n",
       "    <tr>\n",
       "      <th>421793</th>\n",
       "      <td>1.6</td>\n",
       "    </tr>\n",
       "  </tbody>\n",
       "</table>\n",
       "</div>"
      ],
      "text/plain": [
       "             damage_grade\n",
       "building_id              \n",
       "300051                1.8\n",
       "99355                 1.3\n",
       "890251                1.2\n",
       "745817                1.2\n",
       "421793                1.6"
      ]
     },
     "execution_count": 87,
     "metadata": {},
     "output_type": "execute_result"
    }
   ],
   "source": [
    "\n",
    "\n",
    "submit2 = pd.read_csv('submission_format.csv', index_col='building_id')\n",
    "submission2 = pd.DataFrame(\n",
    "    data=predictions_v2,\n",
    "    columns=submit2.columns,\n",
    "    index=submit2.index\n",
    ")\n",
    "submission2.head()\n",
    "\n"
   ]
  },
  {
   "cell_type": "code",
   "execution_count": 88,
   "metadata": {},
   "outputs": [
    {
     "data": {
      "text/html": [
       "<div>\n",
       "<style scoped>\n",
       "    .dataframe tbody tr th:only-of-type {\n",
       "        vertical-align: middle;\n",
       "    }\n",
       "\n",
       "    .dataframe tbody tr th {\n",
       "        vertical-align: top;\n",
       "    }\n",
       "\n",
       "    .dataframe thead th {\n",
       "        text-align: right;\n",
       "    }\n",
       "</style>\n",
       "<table border=\"1\" class=\"dataframe\">\n",
       "  <thead>\n",
       "    <tr style=\"text-align: right;\">\n",
       "      <th></th>\n",
       "      <th>damage_grade</th>\n",
       "    </tr>\n",
       "    <tr>\n",
       "      <th>building_id</th>\n",
       "      <th></th>\n",
       "    </tr>\n",
       "  </thead>\n",
       "  <tbody>\n",
       "    <tr>\n",
       "      <th>300051</th>\n",
       "      <td>1.8</td>\n",
       "    </tr>\n",
       "    <tr>\n",
       "      <th>99355</th>\n",
       "      <td>1.3</td>\n",
       "    </tr>\n",
       "    <tr>\n",
       "      <th>890251</th>\n",
       "      <td>1.2</td>\n",
       "    </tr>\n",
       "    <tr>\n",
       "      <th>745817</th>\n",
       "      <td>1.2</td>\n",
       "    </tr>\n",
       "    <tr>\n",
       "      <th>421793</th>\n",
       "      <td>1.6</td>\n",
       "    </tr>\n",
       "  </tbody>\n",
       "</table>\n",
       "</div>"
      ],
      "text/plain": [
       "             damage_grade\n",
       "building_id              \n",
       "300051                1.8\n",
       "99355                 1.3\n",
       "890251                1.2\n",
       "745817                1.2\n",
       "421793                1.6"
      ]
     },
     "execution_count": 88,
     "metadata": {},
     "output_type": "execute_result"
    }
   ],
   "source": [
    "submit3 = pd.read_csv('submission_format.csv', index_col='building_id')\n",
    "submission3= pd.DataFrame(\n",
    "    data=predictions_v3,\n",
    "    columns=submit3.columns,\n",
    "    index=submit3.index\n",
    ")\n",
    "submission3.head()"
   ]
  },
  {
   "cell_type": "code",
   "execution_count": 89,
   "metadata": {},
   "outputs": [
    {
     "name": "stdout",
     "output_type": "stream",
     "text": [
      "<class 'pandas.core.frame.DataFrame'>\n",
      "Int64Index: 86868 entries, 300051 to 501372\n",
      "Data columns (total 1 columns):\n",
      "damage_grade    86868 non-null float64\n",
      "dtypes: float64(1)\n",
      "memory usage: 1.3 MB\n"
     ]
    }
   ],
   "source": [
    "submission3.info()"
   ]
  },
  {
   "cell_type": "code",
   "execution_count": 90,
   "metadata": {},
   "outputs": [],
   "source": [
    "submission3['damage_grade'] = submission3['damage_grade'].astype('int64')\n",
    "submission2['damage_grade'] = submission2['damage_grade'].astype('int64')"
   ]
  },
  {
   "cell_type": "code",
   "execution_count": 91,
   "metadata": {},
   "outputs": [
    {
     "data": {
      "text/plain": [
       "1    69876\n",
       "2    16990\n",
       "3        2\n",
       "Name: damage_grade, dtype: int64"
      ]
     },
     "execution_count": 91,
     "metadata": {},
     "output_type": "execute_result"
    }
   ],
   "source": [
    "submission3['damage_grade'].value_counts()"
   ]
  },
  {
   "cell_type": "code",
   "execution_count": 92,
   "metadata": {},
   "outputs": [
    {
     "data": {
      "text/plain": [
       "1    69876\n",
       "2    16990\n",
       "3        2\n",
       "Name: damage_grade, dtype: int64"
      ]
     },
     "execution_count": 92,
     "metadata": {},
     "output_type": "execute_result"
    }
   ],
   "source": [
    "submission2['damage_grade'].value_counts()"
   ]
  },
  {
   "cell_type": "code",
   "execution_count": 93,
   "metadata": {},
   "outputs": [],
   "source": [
    "submission2.to_csv('submitRFRegressor2.csv')"
   ]
  },
  {
   "cell_type": "code",
   "execution_count": 94,
   "metadata": {},
   "outputs": [
    {
     "data": {
      "text/html": [
       "<div>\n",
       "<style scoped>\n",
       "    .dataframe tbody tr th:only-of-type {\n",
       "        vertical-align: middle;\n",
       "    }\n",
       "\n",
       "    .dataframe tbody tr th {\n",
       "        vertical-align: top;\n",
       "    }\n",
       "\n",
       "    .dataframe thead th {\n",
       "        text-align: right;\n",
       "    }\n",
       "</style>\n",
       "<table border=\"1\" class=\"dataframe\">\n",
       "  <thead>\n",
       "    <tr style=\"text-align: right;\">\n",
       "      <th></th>\n",
       "      <th>building_id</th>\n",
       "      <th>geo_level_1_id</th>\n",
       "      <th>geo_level_2_id</th>\n",
       "      <th>geo_level_3_id</th>\n",
       "      <th>count_floors_pre_eq</th>\n",
       "      <th>age</th>\n",
       "      <th>area_percentage</th>\n",
       "      <th>height_percentage</th>\n",
       "      <th>count_families</th>\n",
       "      <th>roof_type_C1</th>\n",
       "      <th>...</th>\n",
       "      <th>position_C0</th>\n",
       "      <th>position_C1</th>\n",
       "      <th>position_C2</th>\n",
       "      <th>plan_configuration_C0</th>\n",
       "      <th>plan_configuration_C1</th>\n",
       "      <th>plan_configuration_C2</th>\n",
       "      <th>plan_configuration_C3</th>\n",
       "      <th>legal_ownership_status_C0</th>\n",
       "      <th>legal_ownership_status_C1</th>\n",
       "      <th>legal_ownership_status_C2</th>\n",
       "    </tr>\n",
       "  </thead>\n",
       "  <tbody>\n",
       "    <tr>\n",
       "      <th>0</th>\n",
       "      <td>300051</td>\n",
       "      <td>17</td>\n",
       "      <td>596</td>\n",
       "      <td>11307</td>\n",
       "      <td>3</td>\n",
       "      <td>20</td>\n",
       "      <td>7</td>\n",
       "      <td>6</td>\n",
       "      <td>1</td>\n",
       "      <td>0</td>\n",
       "      <td>...</td>\n",
       "      <td>0</td>\n",
       "      <td>1</td>\n",
       "      <td>0</td>\n",
       "      <td>1</td>\n",
       "      <td>0</td>\n",
       "      <td>0</td>\n",
       "      <td>0</td>\n",
       "      <td>1</td>\n",
       "      <td>0</td>\n",
       "      <td>0</td>\n",
       "    </tr>\n",
       "    <tr>\n",
       "      <th>1</th>\n",
       "      <td>99355</td>\n",
       "      <td>6</td>\n",
       "      <td>141</td>\n",
       "      <td>11987</td>\n",
       "      <td>2</td>\n",
       "      <td>25</td>\n",
       "      <td>13</td>\n",
       "      <td>5</td>\n",
       "      <td>1</td>\n",
       "      <td>0</td>\n",
       "      <td>...</td>\n",
       "      <td>0</td>\n",
       "      <td>1</td>\n",
       "      <td>0</td>\n",
       "      <td>1</td>\n",
       "      <td>0</td>\n",
       "      <td>0</td>\n",
       "      <td>0</td>\n",
       "      <td>1</td>\n",
       "      <td>0</td>\n",
       "      <td>0</td>\n",
       "    </tr>\n",
       "    <tr>\n",
       "      <th>2</th>\n",
       "      <td>890251</td>\n",
       "      <td>22</td>\n",
       "      <td>19</td>\n",
       "      <td>10044</td>\n",
       "      <td>2</td>\n",
       "      <td>5</td>\n",
       "      <td>4</td>\n",
       "      <td>5</td>\n",
       "      <td>1</td>\n",
       "      <td>0</td>\n",
       "      <td>...</td>\n",
       "      <td>0</td>\n",
       "      <td>1</td>\n",
       "      <td>0</td>\n",
       "      <td>1</td>\n",
       "      <td>0</td>\n",
       "      <td>0</td>\n",
       "      <td>0</td>\n",
       "      <td>1</td>\n",
       "      <td>0</td>\n",
       "      <td>0</td>\n",
       "    </tr>\n",
       "    <tr>\n",
       "      <th>3</th>\n",
       "      <td>745817</td>\n",
       "      <td>26</td>\n",
       "      <td>39</td>\n",
       "      <td>633</td>\n",
       "      <td>1</td>\n",
       "      <td>0</td>\n",
       "      <td>19</td>\n",
       "      <td>3</td>\n",
       "      <td>2</td>\n",
       "      <td>1</td>\n",
       "      <td>...</td>\n",
       "      <td>1</td>\n",
       "      <td>0</td>\n",
       "      <td>0</td>\n",
       "      <td>1</td>\n",
       "      <td>0</td>\n",
       "      <td>0</td>\n",
       "      <td>0</td>\n",
       "      <td>1</td>\n",
       "      <td>0</td>\n",
       "      <td>0</td>\n",
       "    </tr>\n",
       "    <tr>\n",
       "      <th>4</th>\n",
       "      <td>421793</td>\n",
       "      <td>17</td>\n",
       "      <td>289</td>\n",
       "      <td>7970</td>\n",
       "      <td>3</td>\n",
       "      <td>15</td>\n",
       "      <td>8</td>\n",
       "      <td>7</td>\n",
       "      <td>1</td>\n",
       "      <td>1</td>\n",
       "      <td>...</td>\n",
       "      <td>1</td>\n",
       "      <td>0</td>\n",
       "      <td>0</td>\n",
       "      <td>1</td>\n",
       "      <td>0</td>\n",
       "      <td>0</td>\n",
       "      <td>0</td>\n",
       "      <td>1</td>\n",
       "      <td>0</td>\n",
       "      <td>0</td>\n",
       "    </tr>\n",
       "  </tbody>\n",
       "</table>\n",
       "<p>5 rows × 32 columns</p>\n",
       "</div>"
      ],
      "text/plain": [
       "   building_id  geo_level_1_id  geo_level_2_id  geo_level_3_id  \\\n",
       "0       300051              17             596           11307   \n",
       "1        99355               6             141           11987   \n",
       "2       890251              22              19           10044   \n",
       "3       745817              26              39             633   \n",
       "4       421793              17             289            7970   \n",
       "\n",
       "   count_floors_pre_eq  age  area_percentage  height_percentage  \\\n",
       "0                    3   20                7                  6   \n",
       "1                    2   25               13                  5   \n",
       "2                    2    5                4                  5   \n",
       "3                    1    0               19                  3   \n",
       "4                    3   15                8                  7   \n",
       "\n",
       "   count_families  roof_type_C1  ...  position_C0  position_C1  position_C2  \\\n",
       "0               1             0  ...            0            1            0   \n",
       "1               1             0  ...            0            1            0   \n",
       "2               1             0  ...            0            1            0   \n",
       "3               2             1  ...            1            0            0   \n",
       "4               1             1  ...            1            0            0   \n",
       "\n",
       "   plan_configuration_C0  plan_configuration_C1  plan_configuration_C2  \\\n",
       "0                      1                      0                      0   \n",
       "1                      1                      0                      0   \n",
       "2                      1                      0                      0   \n",
       "3                      1                      0                      0   \n",
       "4                      1                      0                      0   \n",
       "\n",
       "   plan_configuration_C3  legal_ownership_status_C0  \\\n",
       "0                      0                          1   \n",
       "1                      0                          1   \n",
       "2                      0                          1   \n",
       "3                      0                          1   \n",
       "4                      0                          1   \n",
       "\n",
       "   legal_ownership_status_C1  legal_ownership_status_C2  \n",
       "0                          0                          0  \n",
       "1                          0                          0  \n",
       "2                          0                          0  \n",
       "3                          0                          0  \n",
       "4                          0                          0  \n",
       "\n",
       "[5 rows x 32 columns]"
      ]
     },
     "execution_count": 94,
     "metadata": {},
     "output_type": "execute_result"
    }
   ],
   "source": [
    "##Submit 0.1542\n",
    "##Probamos con este modelo NFL Para encontrar la predicción con un score mas alto\n",
    "test_data_v2.head()"
   ]
  },
  {
   "cell_type": "code",
   "execution_count": 104,
   "metadata": {},
   "outputs": [
    {
     "data": {
      "text/plain": [
       "1    84692\n",
       "0     2176\n",
       "Name: plan_configuration_C0, dtype: int64"
      ]
     },
     "execution_count": 104,
     "metadata": {},
     "output_type": "execute_result"
    }
   ],
   "source": [
    "test_data_v2['plan_configuration_C0'].value_counts()"
   ]
  },
  {
   "cell_type": "code",
   "execution_count": 122,
   "metadata": {},
   "outputs": [],
   "source": [
    "def inversa(x):\n",
    "    if x == 0:\n",
    "        x=1\n",
    "    else:\n",
    "        x=0;\n",
    "    return x;"
   ]
  },
  {
   "cell_type": "code",
   "execution_count": 125,
   "metadata": {},
   "outputs": [],
   "source": [
    "test_data_v2['roof_type_C1'] = test_data_v2['roof_type_C1'].apply(inversa)"
   ]
  },
  {
   "cell_type": "code",
   "execution_count": 127,
   "metadata": {},
   "outputs": [
    {
     "data": {
      "text/plain": [
       "1    61133\n",
       "0    25735\n",
       "Name: roof_type_C1, dtype: int64"
      ]
     },
     "execution_count": 127,
     "metadata": {},
     "output_type": "execute_result"
    }
   ],
   "source": [
    "test_data_v2['roof_type_C1'].value_counts()"
   ]
  },
  {
   "cell_type": "code",
   "execution_count": 128,
   "metadata": {},
   "outputs": [
    {
     "data": {
      "text/plain": [
       "0    84692\n",
       "1     2176\n",
       "Name: plan_configuration_C0, dtype: int64"
      ]
     },
     "execution_count": 128,
     "metadata": {},
     "output_type": "execute_result"
    }
   ],
   "source": [
    "test_data_v2['plan_configuration_C0'] = test_data_v2['plan_configuration_C0'].apply(inversa)\n",
    "test_data_v2['plan_configuration_C0'].value_counts()"
   ]
  },
  {
   "cell_type": "code",
   "execution_count": 129,
   "metadata": {},
   "outputs": [],
   "source": [
    "test_data_v2['plan_configuration_C1'] = test_data_v2['plan_configuration_C1'].apply(inversa)\n",
    "test_data_v2['plan_configuration_C2'] = test_data_v2['plan_configuration_C2'].apply(inversa)\n",
    "test_data_v2['plan_configuration_C3'] = test_data_v2['plan_configuration_C3'].apply(inversa)\n",
    "test_data_v2['roof_type_C0'] = test_data_v2['roof_type_C0'].apply(inversa)\n",
    "test_data_v2['land_surface_condition_C0'] = test_data_v2['land_surface_condition_C0'].apply(inversa)\n",
    "test_data_v2['land_surface_condition_C1'] = test_data_v2['land_surface_condition_C1'].apply(inversa)\n",
    "test_data_v2['foundation_type_C0'] = test_data_v2['foundation_type_C0'].apply(inversa)\n",
    "test_data_v2['foundation_type_C1'] = test_data_v2['foundation_type_C1'].apply(inversa)\n",
    "test_data_v2['foundation_type_C2'] = test_data_v2['foundation_type_C2'].apply(inversa)\n",
    "test_data_v2['ground_floor_type_C0'] = test_data_v2['ground_floor_type_C0'].apply(inversa)\n",
    "test_data_v2['ground_floor_type_C1'] = test_data_v2['ground_floor_type_C1'].apply(inversa)\n",
    "test_data_v2['ground_floor_type_C2'] = test_data_v2['ground_floor_type_C2'].apply(inversa)\n",
    "test_data_v2['other_floor_type_C0'] = test_data_v2['other_floor_type_C0'].apply(inversa)\n",
    "test_data_v2['other_floor_type_C1'] = test_data_v2['other_floor_type_C1'].apply(inversa)\n",
    "test_data_v2['other_floor_type_C2'] = test_data_v2['other_floor_type_C2'].apply(inversa)\n",
    "test_data_v2['position_C0'] = test_data_v2['position_C0'].apply(inversa)\n",
    "test_data_v2['position_C1'] = test_data_v2['position_C1'].apply(inversa)\n",
    "test_data_v2['position_C2'] = test_data_v2['position_C2'].apply(inversa)\n",
    "test_data_v2['legal_ownership_status_C0'] = test_data_v2['legal_ownership_status_C0'].apply(inversa)\n",
    "test_data_v2['legal_ownership_status_C1'] = test_data_v2['legal_ownership_status_C1'].apply(inversa)\n",
    "test_data_v2['legal_ownership_status_C2'] = test_data_v2['legal_ownership_status_C2'].apply(inversa)"
   ]
  },
  {
   "cell_type": "code",
   "execution_count": 130,
   "metadata": {},
   "outputs": [],
   "source": [
    "predictions_v3 = model.predict(np.array(test_data_v2.iloc[:,1:42]))"
   ]
  },
  {
   "cell_type": "code",
   "execution_count": 131,
   "metadata": {},
   "outputs": [
    {
     "data": {
      "text/html": [
       "<div>\n",
       "<style scoped>\n",
       "    .dataframe tbody tr th:only-of-type {\n",
       "        vertical-align: middle;\n",
       "    }\n",
       "\n",
       "    .dataframe tbody tr th {\n",
       "        vertical-align: top;\n",
       "    }\n",
       "\n",
       "    .dataframe thead th {\n",
       "        text-align: right;\n",
       "    }\n",
       "</style>\n",
       "<table border=\"1\" class=\"dataframe\">\n",
       "  <thead>\n",
       "    <tr style=\"text-align: right;\">\n",
       "      <th></th>\n",
       "      <th>damage_grade</th>\n",
       "    </tr>\n",
       "    <tr>\n",
       "      <th>building_id</th>\n",
       "      <th></th>\n",
       "    </tr>\n",
       "  </thead>\n",
       "  <tbody>\n",
       "    <tr>\n",
       "      <th>300051</th>\n",
       "      <td>2.85</td>\n",
       "    </tr>\n",
       "    <tr>\n",
       "      <th>99355</th>\n",
       "      <td>2.85</td>\n",
       "    </tr>\n",
       "    <tr>\n",
       "      <th>890251</th>\n",
       "      <td>2.85</td>\n",
       "    </tr>\n",
       "    <tr>\n",
       "      <th>745817</th>\n",
       "      <td>2.90</td>\n",
       "    </tr>\n",
       "    <tr>\n",
       "      <th>421793</th>\n",
       "      <td>2.90</td>\n",
       "    </tr>\n",
       "  </tbody>\n",
       "</table>\n",
       "</div>"
      ],
      "text/plain": [
       "             damage_grade\n",
       "building_id              \n",
       "300051               2.85\n",
       "99355                2.85\n",
       "890251               2.85\n",
       "745817               2.90\n",
       "421793               2.90"
      ]
     },
     "execution_count": 131,
     "metadata": {},
     "output_type": "execute_result"
    }
   ],
   "source": [
    "submission3= pd.DataFrame(\n",
    "    data=predictions_v3,\n",
    "    columns=submit3.columns,\n",
    "    index=submit3.index\n",
    ")\n",
    "submission3.head()"
   ]
  },
  {
   "cell_type": "code",
   "execution_count": 132,
   "metadata": {},
   "outputs": [
    {
     "data": {
      "text/plain": [
       "2.85    62024\n",
       "2.90    13669\n",
       "1.45     2514\n",
       "1.20     1985\n",
       "1.95     1123\n",
       "2.80      879\n",
       "2.95      801\n",
       "1.60      515\n",
       "1.50      390\n",
       "1.70      377\n",
       "1.80      357\n",
       "1.85      299\n",
       "2.30      297\n",
       "1.35      252\n",
       "2.00      242\n",
       "1.25      196\n",
       "1.40      162\n",
       "1.65      149\n",
       "1.90      141\n",
       "2.10      110\n",
       "1.55       89\n",
       "1.75       80\n",
       "2.05       64\n",
       "1.00       30\n",
       "2.70       30\n",
       "2.20       28\n",
       "2.75       27\n",
       "2.25       12\n",
       "1.30        9\n",
       "3.00        7\n",
       "2.65        4\n",
       "2.60        4\n",
       "2.15        1\n",
       "2.40        1\n",
       "Name: damage_grade, dtype: int64"
      ]
     },
     "execution_count": 132,
     "metadata": {},
     "output_type": "execute_result"
    }
   ],
   "source": [
    "submission3['damage_grade'].value_counts()"
   ]
  },
  {
   "cell_type": "code",
   "execution_count": 133,
   "metadata": {},
   "outputs": [
    {
     "data": {
      "text/plain": [
       "3.0    77445\n",
       "1.0     5148\n",
       "2.0     4275\n",
       "Name: damage_grade, dtype: int64"
      ]
     },
     "execution_count": 133,
     "metadata": {},
     "output_type": "execute_result"
    }
   ],
   "source": [
    "submission3['damage_grade'] = submission3['damage_grade'].apply(np.round)\n",
    "submission3['damage_grade'].value_counts()"
   ]
  },
  {
   "cell_type": "code",
   "execution_count": 136,
   "metadata": {},
   "outputs": [
    {
     "name": "stdout",
     "output_type": "stream",
     "text": [
      "<class 'pandas.core.frame.DataFrame'>\n",
      "Int64Index: 86868 entries, 300051 to 501372\n",
      "Data columns (total 1 columns):\n",
      "damage_grade    86868 non-null int64\n",
      "dtypes: int64(1)\n",
      "memory usage: 1.3 MB\n"
     ]
    }
   ],
   "source": [
    "submission3['damage_grade'] = submission3['damage_grade'].astype('int64')\n",
    "submission3.info()"
   ]
  },
  {
   "cell_type": "code",
   "execution_count": 137,
   "metadata": {},
   "outputs": [],
   "source": [
    "submission3.to_csv('submitRFRegressor3.csv')"
   ]
  },
  {
   "cell_type": "code",
   "execution_count": 138,
   "metadata": {},
   "outputs": [],
   "source": [
    "## Cambiando trasponiendo los valores booleanos el score sube a 0.3785"
   ]
  },
  {
   "cell_type": "code",
   "execution_count": 139,
   "metadata": {},
   "outputs": [
    {
     "name": "stdout",
     "output_type": "stream",
     "text": [
      "<class 'pandas.core.frame.DataFrame'>\n",
      "RangeIndex: 86868 entries, 0 to 86867\n",
      "Data columns (total 32 columns):\n",
      "building_id                  86868 non-null int64\n",
      "geo_level_1_id               86868 non-null int64\n",
      "geo_level_2_id               86868 non-null int64\n",
      "geo_level_3_id               86868 non-null int64\n",
      "count_floors_pre_eq          86868 non-null int64\n",
      "age                          86868 non-null int64\n",
      "area_percentage              86868 non-null int64\n",
      "height_percentage            86868 non-null int64\n",
      "count_families               86868 non-null int64\n",
      "roof_type_C1                 86868 non-null int64\n",
      "roof_type_C0                 86868 non-null int64\n",
      "land_surface_condition_C1    86868 non-null int64\n",
      "land_surface_condition_C0    86868 non-null int64\n",
      "foundation_type_C0           86868 non-null int64\n",
      "foundation_type_C1           86868 non-null int64\n",
      "foundation_type_C2           86868 non-null int64\n",
      "ground_floor_type_C0         86868 non-null int64\n",
      "ground_floor_type_C1         86868 non-null int64\n",
      "ground_floor_type_C2         86868 non-null int64\n",
      "other_floor_type_C0          86868 non-null int64\n",
      "other_floor_type_C1          86868 non-null int64\n",
      "other_floor_type_C2          86868 non-null int64\n",
      "position_C0                  86868 non-null int64\n",
      "position_C1                  86868 non-null int64\n",
      "position_C2                  86868 non-null int64\n",
      "plan_configuration_C0        86868 non-null int64\n",
      "plan_configuration_C1        86868 non-null int64\n",
      "plan_configuration_C2        86868 non-null int64\n",
      "plan_configuration_C3        86868 non-null int64\n",
      "legal_ownership_status_C0    86868 non-null int64\n",
      "legal_ownership_status_C1    86868 non-null int64\n",
      "legal_ownership_status_C2    86868 non-null int64\n",
      "dtypes: int64(32)\n",
      "memory usage: 21.2 MB\n"
     ]
    }
   ],
   "source": [
    "test_data_v2.info()"
   ]
  },
  {
   "cell_type": "code",
   "execution_count": 140,
   "metadata": {},
   "outputs": [
    {
     "data": {
      "text/plain": [
       "10     12784\n",
       "15     12064\n",
       "5      11348\n",
       "20     10610\n",
       "0       8684\n",
       "25      8220\n",
       "30      5949\n",
       "35      3710\n",
       "40      3491\n",
       "50      2362\n",
       "45      1544\n",
       "60      1161\n",
       "80      1032\n",
       "70       704\n",
       "55       662\n",
       "100      516\n",
       "995      461\n",
       "65       374\n",
       "90       341\n",
       "85       286\n",
       "75       181\n",
       "95       133\n",
       "120       56\n",
       "110       42\n",
       "150       37\n",
       "200       34\n",
       "105       30\n",
       "125       25\n",
       "115        9\n",
       "180        4\n",
       "130        4\n",
       "155        3\n",
       "140        2\n",
       "160        2\n",
       "190        2\n",
       "170        1\n",
       "Name: age, dtype: int64"
      ]
     },
     "execution_count": 140,
     "metadata": {},
     "output_type": "execute_result"
    }
   ],
   "source": [
    "test_data_v2['age'].value_counts() ##Age 1000 - valor"
   ]
  },
  {
   "cell_type": "code",
   "execution_count": 153,
   "metadata": {},
   "outputs": [
    {
     "data": {
      "text/plain": [
       "6     8104\n",
       "17    7452\n",
       "26    7387\n",
       "10    7320\n",
       "7     6571\n",
       "8     6385\n",
       "20    5545\n",
       "21    5055\n",
       "4     4894\n",
       "27    4254\n",
       "13    3238\n",
       "11    2675\n",
       "3     2455\n",
       "22    2106\n",
       "25    1865\n",
       "16    1392\n",
       "0     1347\n",
       "9     1255\n",
       "18    1011\n",
       "12    1010\n",
       "30     909\n",
       "5      889\n",
       "1      887\n",
       "15     814\n",
       "14     605\n",
       "24     427\n",
       "23     377\n",
       "2      290\n",
       "29     141\n",
       "19     124\n",
       "28      84\n",
       "Name: geo_level_1_id, dtype: int64"
      ]
     },
     "execution_count": 153,
     "metadata": {},
     "output_type": "execute_result"
    }
   ],
   "source": [
    "##test_data_v2.loc[test_data_v2['height_percentage']>30,:] \n",
    "##100 - valor area/height porque son porcentajes\n",
    "##10 - numero de familias veamos relacion con la cantidad de pisos count_floors_pre_eq (tambien como maximo seria el 10)\n",
    "test_data_v2['geo_level_1_id'].value_counts() "
   ]
  },
  {
   "cell_type": "code",
   "execution_count": null,
   "metadata": {},
   "outputs": [],
   "source": []
  }
 ],
 "metadata": {
  "kernelspec": {
   "display_name": "Python 3",
   "language": "python",
   "name": "python3"
  },
  "language_info": {
   "codemirror_mode": {
    "name": "ipython",
    "version": 3
   },
   "file_extension": ".py",
   "mimetype": "text/x-python",
   "name": "python",
   "nbconvert_exporter": "python",
   "pygments_lexer": "ipython3",
   "version": "3.5.2"
  }
 },
 "nbformat": 4,
 "nbformat_minor": 2
}
