{
 "cells": [
  {
   "cell_type": "code",
   "execution_count": 1,
   "metadata": {},
   "outputs": [],
   "source": [
    "import pandas as pd\n",
    "import numpy as np"
   ]
  },
  {
   "cell_type": "code",
   "execution_count": 2,
   "metadata": {},
   "outputs": [],
   "source": [
    "train = pd.read_csv('dataset_v3')"
   ]
  },
  {
   "cell_type": "code",
   "execution_count": 3,
   "metadata": {},
   "outputs": [],
   "source": [
    "train_labels = train['damage_grade']\n",
    "del train['damage_grade']"
   ]
  },
  {
   "cell_type": "code",
   "execution_count": 4,
   "metadata": {},
   "outputs": [],
   "source": [
    "train = train.drop(labels=['building_id','geo_level_2_id','geo_level_3_id'],axis=1)"
   ]
  },
  {
   "cell_type": "code",
   "execution_count": 5,
   "metadata": {},
   "outputs": [
    {
     "name": "stdout",
     "output_type": "stream",
     "text": [
      "<class 'pandas.core.frame.DataFrame'>\n",
      "RangeIndex: 260601 entries, 0 to 260600\n",
      "Data columns (total 40 columns):\n",
      "geo_level_1_id                                 260601 non-null int64\n",
      "count_floors_pre_eq                            260601 non-null int64\n",
      "age                                            260601 non-null int64\n",
      "count_families                                 260601 non-null int64\n",
      "roof_type_C1                                   260601 non-null int64\n",
      "roof_type_C0                                   260601 non-null int64\n",
      "land_surface_condition_C0                      260601 non-null int64\n",
      "land_surface_condition_C1                      260601 non-null int64\n",
      "foundation_type_C0                             260601 non-null int64\n",
      "foundation_type_C1                             260601 non-null int64\n",
      "foundation_type_C2                             260601 non-null int64\n",
      "ground_floor_type_C0                           260601 non-null int64\n",
      "ground_floor_type_C1                           260601 non-null int64\n",
      "ground_floor_type_C2                           260601 non-null int64\n",
      "other_floor_type_C0                            260601 non-null int64\n",
      "other_floor_type_C1                            260601 non-null int64\n",
      "other_floor_type_C2                            260601 non-null int64\n",
      "position_C0                                    260601 non-null int64\n",
      "position_C1                                    260601 non-null int64\n",
      "position_C2                                    260601 non-null int64\n",
      "plan_configuration_C0                          260601 non-null int64\n",
      "plan_configuration_C1                          260601 non-null int64\n",
      "plan_configuration_C2                          260601 non-null int64\n",
      "plan_configuration_C3                          260601 non-null int64\n",
      "legal_ownership_status_C0                      260601 non-null int64\n",
      "legal_ownership_status_C1                      260601 non-null int64\n",
      "legal_ownership_status_C2                      260601 non-null int64\n",
      "has_superstructure_adobe_mud_mean              260601 non-null float64\n",
      "has_superstructure_mud_mortar_stone_mean       260601 non-null float64\n",
      "has_superstructure_stone_flag_mean             260601 non-null float64\n",
      "has_superstructure_cement_mortar_stone_mean    260601 non-null float64\n",
      "has_superstructure_mud_mortar_brick_mean       260601 non-null float64\n",
      "has_superstructure_cement_mortar_brick_mean    260601 non-null float64\n",
      "has_superstructure_timber_mean                 260601 non-null float64\n",
      "has_superstructure_bamboo_mean                 260601 non-null float64\n",
      "has_superstructure_rc_non_engineered_mean      260601 non-null float64\n",
      "has_superstructure_rc_engineered_mean          260601 non-null float64\n",
      "has_superstructure_other_mean                  260601 non-null float64\n",
      "area_percentage_norm                           260601 non-null float64\n",
      "height_percentage_norm                         260601 non-null float64\n",
      "dtypes: float64(13), int64(27)\n",
      "memory usage: 79.5 MB\n"
     ]
    }
   ],
   "source": [
    "train.info()"
   ]
  },
  {
   "cell_type": "code",
   "execution_count": 6,
   "metadata": {},
   "outputs": [
    {
     "name": "stdout",
     "output_type": "stream",
     "text": [
      "<class 'pandas.core.frame.DataFrame'>\n",
      "RangeIndex: 86868 entries, 0 to 86867\n",
      "Data columns (total 62 columns):\n",
      "building_id                               86868 non-null int64\n",
      "geo_level_1_id                            86868 non-null int64\n",
      "geo_level_2_id                            86868 non-null int64\n",
      "geo_level_3_id                            86868 non-null int64\n",
      "count_floors_pre_eq                       86868 non-null int64\n",
      "age                                       86868 non-null int64\n",
      "area_percentage                           86868 non-null int64\n",
      "height_percentage                         86868 non-null int64\n",
      "land_surface_condition                    86868 non-null object\n",
      "foundation_type                           86868 non-null object\n",
      "roof_type                                 86868 non-null object\n",
      "ground_floor_type                         86868 non-null object\n",
      "other_floor_type                          86868 non-null object\n",
      "position                                  86868 non-null object\n",
      "plan_configuration                        86868 non-null object\n",
      "has_superstructure_adobe_mud              86868 non-null int64\n",
      "has_superstructure_mud_mortar_stone       86868 non-null int64\n",
      "has_superstructure_stone_flag             86868 non-null int64\n",
      "has_superstructure_cement_mortar_stone    86868 non-null int64\n",
      "has_superstructure_mud_mortar_brick       86868 non-null int64\n",
      "has_superstructure_cement_mortar_brick    86868 non-null int64\n",
      "has_superstructure_timber                 86868 non-null int64\n",
      "has_superstructure_bamboo                 86868 non-null int64\n",
      "has_superstructure_rc_non_engineered      86868 non-null int64\n",
      "has_superstructure_rc_engineered          86868 non-null int64\n",
      "has_superstructure_other                  86868 non-null int64\n",
      "legal_ownership_status                    86868 non-null object\n",
      "count_families                            86868 non-null int64\n",
      "has_secondary_use                         86868 non-null int64\n",
      "has_secondary_use_agriculture             86868 non-null int64\n",
      "has_secondary_use_hotel                   86868 non-null int64\n",
      "has_secondary_use_rental                  86868 non-null int64\n",
      "has_secondary_use_institution             86868 non-null int64\n",
      "has_secondary_use_school                  86868 non-null int64\n",
      "has_secondary_use_industry                86868 non-null int64\n",
      "has_secondary_use_health_post             86868 non-null int64\n",
      "has_secondary_use_gov_office              86868 non-null int64\n",
      "has_secondary_use_use_police              86868 non-null int64\n",
      "has_secondary_use_other                   86868 non-null int64\n",
      "roof_type_C1                              86868 non-null int64\n",
      "roof_type_C0                              86868 non-null int64\n",
      "land_surface_condition_C1                 86868 non-null int64\n",
      "land_surface_condition_C0                 86868 non-null int64\n",
      "foundation_type_C0                        86868 non-null int64\n",
      "foundation_type_C1                        86868 non-null int64\n",
      "foundation_type_C2                        86868 non-null int64\n",
      "ground_floor_type_C0                      86868 non-null int64\n",
      "ground_floor_type_C1                      86868 non-null int64\n",
      "ground_floor_type_C2                      86868 non-null int64\n",
      "other_floor_type_C0                       86868 non-null int64\n",
      "other_floor_type_C1                       86868 non-null int64\n",
      "other_floor_type_C2                       86868 non-null int64\n",
      "position_C0                               86868 non-null int64\n",
      "position_C1                               86868 non-null int64\n",
      "position_C2                               86868 non-null int64\n",
      "plan_configuration_C0                     86868 non-null int64\n",
      "plan_configuration_C1                     86868 non-null int64\n",
      "plan_configuration_C2                     86868 non-null int64\n",
      "plan_configuration_C3                     86868 non-null int64\n",
      "legal_ownership_status_C0                 86868 non-null int64\n",
      "legal_ownership_status_C1                 86868 non-null int64\n",
      "legal_ownership_status_C2                 86868 non-null int64\n",
      "dtypes: int64(54), object(8)\n",
      "memory usage: 41.1+ MB\n"
     ]
    }
   ],
   "source": [
    "test_data = pd.read_csv('encoded_test_values.csv')\n",
    "test_data.info()"
   ]
  },
  {
   "cell_type": "code",
   "execution_count": 7,
   "metadata": {},
   "outputs": [],
   "source": [
    "train = train.drop(labels=[\n",
    " 'has_superstructure_adobe_mud_mean','has_superstructure_mud_mortar_stone_mean','has_superstructure_stone_flag_mean','has_superstructure_cement_mortar_stone_mean',\\\n",
    "'has_superstructure_mud_mortar_brick_mean','has_superstructure_cement_mortar_brick_mean','has_superstructure_timber_mean','has_superstructure_bamboo_mean',\\\n",
    "'has_superstructure_rc_non_engineered_mean','has_superstructure_other_mean','has_superstructure_rc_engineered_mean'],axis=1)"
   ]
  },
  {
   "cell_type": "code",
   "execution_count": 10,
   "metadata": {},
   "outputs": [],
   "source": [
    "test_data = test_data.drop(labels=['land_surface_condition','foundation_type','roof_type',\\\n",
    "'ground_floor_type','other_floor_type','position', 'plan_configuration','legal_ownership_status',\\\n",
    " 'has_secondary_use','has_secondary_use_agriculture','has_secondary_use_hotel','has_secondary_use_rental',\\\n",
    "'has_secondary_use_institution','has_secondary_use_school','has_secondary_use_industry','has_secondary_use_health_post',\\\n",
    "'has_secondary_use_gov_office','has_secondary_use_use_police','has_secondary_use_other'],axis=1)"
   ]
  },
  {
   "cell_type": "code",
   "execution_count": 11,
   "metadata": {},
   "outputs": [],
   "source": [
    "test_data = test_data.drop(labels=[\n",
    " 'has_superstructure_adobe_mud','has_superstructure_mud_mortar_stone','has_superstructure_stone_flag','has_superstructure_cement_mortar_stone',\\\n",
    "'has_superstructure_mud_mortar_brick','has_superstructure_cement_mortar_brick','has_superstructure_timber','has_superstructure_bamboo',\\\n",
    "'has_superstructure_rc_non_engineered','has_superstructure_other','has_superstructure_rc_engineered'],axis=1)"
   ]
  },
  {
   "cell_type": "code",
   "execution_count": 12,
   "metadata": {},
   "outputs": [],
   "source": [
    "test_data = test_data.drop(labels=['building_id','geo_level_2_id','geo_level_3_id'],axis=1)"
   ]
  },
  {
   "cell_type": "code",
   "execution_count": 13,
   "metadata": {},
   "outputs": [],
   "source": [
    "##Hasta aca se tiene la misma cantidad de columnas que el set de entrenamiento, normalizaremos \n",
    "##los valores de area y high\n",
    "nums = test_data.loc[:, ['area_percentage', 'height_percentage']]"
   ]
  },
  {
   "cell_type": "code",
   "execution_count": 14,
   "metadata": {},
   "outputs": [
    {
     "name": "stderr",
     "output_type": "stream",
     "text": [
      "/usr/local/lib/python3.5/dist-packages/sklearn/utils/validation.py:475: DataConversionWarning: Data with input dtype int64 was converted to float64 by MinMaxScaler.\n",
      "  warnings.warn(msg, DataConversionWarning)\n"
     ]
    },
    {
     "data": {
      "text/html": [
       "<div>\n",
       "<style scoped>\n",
       "    .dataframe tbody tr th:only-of-type {\n",
       "        vertical-align: middle;\n",
       "    }\n",
       "\n",
       "    .dataframe tbody tr th {\n",
       "        vertical-align: top;\n",
       "    }\n",
       "\n",
       "    .dataframe thead th {\n",
       "        text-align: right;\n",
       "    }\n",
       "</style>\n",
       "<table border=\"1\" class=\"dataframe\">\n",
       "  <thead>\n",
       "    <tr style=\"text-align: right;\">\n",
       "      <th></th>\n",
       "      <th>area_percentage_norm</th>\n",
       "      <th>height_percentage_norm</th>\n",
       "    </tr>\n",
       "  </thead>\n",
       "  <tbody>\n",
       "    <tr>\n",
       "      <th>0</th>\n",
       "      <td>0.065934</td>\n",
       "      <td>0.133333</td>\n",
       "    </tr>\n",
       "    <tr>\n",
       "      <th>1</th>\n",
       "      <td>0.131868</td>\n",
       "      <td>0.100000</td>\n",
       "    </tr>\n",
       "    <tr>\n",
       "      <th>2</th>\n",
       "      <td>0.032967</td>\n",
       "      <td>0.100000</td>\n",
       "    </tr>\n",
       "    <tr>\n",
       "      <th>3</th>\n",
       "      <td>0.197802</td>\n",
       "      <td>0.033333</td>\n",
       "    </tr>\n",
       "    <tr>\n",
       "      <th>4</th>\n",
       "      <td>0.076923</td>\n",
       "      <td>0.166667</td>\n",
       "    </tr>\n",
       "  </tbody>\n",
       "</table>\n",
       "</div>"
      ],
      "text/plain": [
       "   area_percentage_norm  height_percentage_norm\n",
       "0              0.065934                0.133333\n",
       "1              0.131868                0.100000\n",
       "2              0.032967                0.100000\n",
       "3              0.197802                0.033333\n",
       "4              0.076923                0.166667"
      ]
     },
     "execution_count": 14,
     "metadata": {},
     "output_type": "execute_result"
    }
   ],
   "source": [
    "from sklearn import preprocessing\n",
    "\n",
    "values = nums.values\n",
    "scaler = preprocessing.MinMaxScaler()\n",
    "scaled_values = scaler.fit_transform(values)\n",
    "scaled_nums = pd.DataFrame(scaled_values)\n",
    "scaled_nums.rename(\n",
    "    columns={0: 'area_percentage_norm', 1: 'height_percentage_norm'},\n",
    "    inplace=True\n",
    ")\n",
    "scaled_nums.head()"
   ]
  },
  {
   "cell_type": "code",
   "execution_count": 15,
   "metadata": {},
   "outputs": [],
   "source": [
    "test_data = test_data.join(scaled_nums)"
   ]
  },
  {
   "cell_type": "code",
   "execution_count": 16,
   "metadata": {},
   "outputs": [
    {
     "name": "stdout",
     "output_type": "stream",
     "text": [
      "<class 'pandas.core.frame.DataFrame'>\n",
      "RangeIndex: 86868 entries, 0 to 86867\n",
      "Data columns (total 29 columns):\n",
      "geo_level_1_id               86868 non-null int64\n",
      "count_floors_pre_eq          86868 non-null int64\n",
      "age                          86868 non-null int64\n",
      "count_families               86868 non-null int64\n",
      "roof_type_C1                 86868 non-null int64\n",
      "roof_type_C0                 86868 non-null int64\n",
      "land_surface_condition_C1    86868 non-null int64\n",
      "land_surface_condition_C0    86868 non-null int64\n",
      "foundation_type_C0           86868 non-null int64\n",
      "foundation_type_C1           86868 non-null int64\n",
      "foundation_type_C2           86868 non-null int64\n",
      "ground_floor_type_C0         86868 non-null int64\n",
      "ground_floor_type_C1         86868 non-null int64\n",
      "ground_floor_type_C2         86868 non-null int64\n",
      "other_floor_type_C0          86868 non-null int64\n",
      "other_floor_type_C1          86868 non-null int64\n",
      "other_floor_type_C2          86868 non-null int64\n",
      "position_C0                  86868 non-null int64\n",
      "position_C1                  86868 non-null int64\n",
      "position_C2                  86868 non-null int64\n",
      "plan_configuration_C0        86868 non-null int64\n",
      "plan_configuration_C1        86868 non-null int64\n",
      "plan_configuration_C2        86868 non-null int64\n",
      "plan_configuration_C3        86868 non-null int64\n",
      "legal_ownership_status_C0    86868 non-null int64\n",
      "legal_ownership_status_C1    86868 non-null int64\n",
      "legal_ownership_status_C2    86868 non-null int64\n",
      "area_percentage_norm         86868 non-null float64\n",
      "height_percentage_norm       86868 non-null float64\n",
      "dtypes: float64(2), int64(27)\n",
      "memory usage: 19.2 MB\n"
     ]
    }
   ],
   "source": [
    "test_data = test_data.drop(labels=['area_percentage','height_percentage'],axis=1)\n",
    "test_data.info()"
   ]
  },
  {
   "cell_type": "code",
   "execution_count": 17,
   "metadata": {},
   "outputs": [],
   "source": [
    "test = test_data\n",
    "test['land_surface_condition_C0'] = test_data['land_surface_condition_C1']\n",
    "test['land_surface_condition_C1'] = test_data['land_surface_condition_C0']\n"
   ]
  },
  {
   "cell_type": "code",
   "execution_count": 18,
   "metadata": {},
   "outputs": [],
   "source": [
    "test = test.rename(columns={'land_surface_condition_C0':'land_surface_condition_C','land_surface_condition_C1':'land_surface_condition_C0'})"
   ]
  },
  {
   "cell_type": "code",
   "execution_count": 19,
   "metadata": {},
   "outputs": [
    {
     "name": "stdout",
     "output_type": "stream",
     "text": [
      "<class 'pandas.core.frame.DataFrame'>\n",
      "RangeIndex: 86868 entries, 0 to 86867\n",
      "Data columns (total 29 columns):\n",
      "geo_level_1_id               86868 non-null int64\n",
      "count_floors_pre_eq          86868 non-null int64\n",
      "age                          86868 non-null int64\n",
      "count_families               86868 non-null int64\n",
      "roof_type_C1                 86868 non-null int64\n",
      "roof_type_C0                 86868 non-null int64\n",
      "land_surface_condition_C0    86868 non-null int64\n",
      "land_surface_condition_C1    86868 non-null int64\n",
      "foundation_type_C0           86868 non-null int64\n",
      "foundation_type_C1           86868 non-null int64\n",
      "foundation_type_C2           86868 non-null int64\n",
      "ground_floor_type_C0         86868 non-null int64\n",
      "ground_floor_type_C1         86868 non-null int64\n",
      "ground_floor_type_C2         86868 non-null int64\n",
      "other_floor_type_C0          86868 non-null int64\n",
      "other_floor_type_C1          86868 non-null int64\n",
      "other_floor_type_C2          86868 non-null int64\n",
      "position_C0                  86868 non-null int64\n",
      "position_C1                  86868 non-null int64\n",
      "position_C2                  86868 non-null int64\n",
      "plan_configuration_C0        86868 non-null int64\n",
      "plan_configuration_C1        86868 non-null int64\n",
      "plan_configuration_C2        86868 non-null int64\n",
      "plan_configuration_C3        86868 non-null int64\n",
      "legal_ownership_status_C0    86868 non-null int64\n",
      "legal_ownership_status_C1    86868 non-null int64\n",
      "legal_ownership_status_C2    86868 non-null int64\n",
      "area_percentage_norm         86868 non-null float64\n",
      "height_percentage_norm       86868 non-null float64\n",
      "dtypes: float64(2), int64(27)\n",
      "memory usage: 19.2 MB\n"
     ]
    }
   ],
   "source": [
    "test = test.rename(columns={'land_surface_condition_C':'land_surface_condition_C1'})\n",
    "test.info()"
   ]
  },
  {
   "cell_type": "code",
   "execution_count": 20,
   "metadata": {},
   "outputs": [],
   "source": [
    "train_labels = pd.DataFrame(\n",
    "    data=train_labels,\n",
    "    columns=['damage_grade'],\n",
    "    index=train.index\n",
    ")"
   ]
  },
  {
   "cell_type": "code",
   "execution_count": 21,
   "metadata": {},
   "outputs": [
    {
     "name": "stdout",
     "output_type": "stream",
     "text": [
      "<class 'pandas.core.frame.DataFrame'>\n",
      "RangeIndex: 260601 entries, 0 to 260600\n",
      "Data columns (total 1 columns):\n",
      "damage_grade    260601 non-null int64\n",
      "dtypes: int64(1)\n",
      "memory usage: 2.0 MB\n"
     ]
    }
   ],
   "source": [
    "train_labels.info()"
   ]
  },
  {
   "cell_type": "code",
   "execution_count": 22,
   "metadata": {},
   "outputs": [],
   "source": [
    "train.to_csv('settrain.csv',index=False)\n",
    "train_labels.to_csv('settrainlabels.csv',index=False)\n",
    "test.to_csv('settest.csv',index=False)"
   ]
  },
  {
   "cell_type": "code",
   "execution_count": 8,
   "metadata": {},
   "outputs": [],
   "source": [
    "test_data_v2 = pd.read_csv('encoded_test_values.csv')"
   ]
  },
  {
   "cell_type": "code",
   "execution_count": 9,
   "metadata": {},
   "outputs": [],
   "source": [
    "test_v2 = test_data_v2\n",
    "test_v2['land_surface_condition_C0'] = test_data_v2['land_surface_condition_C1']\n",
    "test_v2['land_surface_condition_C1'] = test_data_v2['land_surface_condition_C0']"
   ]
  },
  {
   "cell_type": "code",
   "execution_count": 11,
   "metadata": {},
   "outputs": [],
   "source": [
    "test_v2 = test_data_v2.rename(columns={'land_surface_condition_C0':'land_surface_condition_C','land_surface_condition_C1':'land_surface_condition_C0'})"
   ]
  },
  {
   "cell_type": "code",
   "execution_count": 13,
   "metadata": {},
   "outputs": [
    {
     "name": "stdout",
     "output_type": "stream",
     "text": [
      "<class 'pandas.core.frame.DataFrame'>\n",
      "RangeIndex: 86868 entries, 0 to 86867\n",
      "Data columns (total 62 columns):\n",
      "building_id                               86868 non-null int64\n",
      "geo_level_1_id                            86868 non-null int64\n",
      "geo_level_2_id                            86868 non-null int64\n",
      "geo_level_3_id                            86868 non-null int64\n",
      "count_floors_pre_eq                       86868 non-null int64\n",
      "age                                       86868 non-null int64\n",
      "area_percentage                           86868 non-null int64\n",
      "height_percentage                         86868 non-null int64\n",
      "land_surface_condition                    86868 non-null object\n",
      "foundation_type                           86868 non-null object\n",
      "roof_type                                 86868 non-null object\n",
      "ground_floor_type                         86868 non-null object\n",
      "other_floor_type                          86868 non-null object\n",
      "position                                  86868 non-null object\n",
      "plan_configuration                        86868 non-null object\n",
      "has_superstructure_adobe_mud              86868 non-null int64\n",
      "has_superstructure_mud_mortar_stone       86868 non-null int64\n",
      "has_superstructure_stone_flag             86868 non-null int64\n",
      "has_superstructure_cement_mortar_stone    86868 non-null int64\n",
      "has_superstructure_mud_mortar_brick       86868 non-null int64\n",
      "has_superstructure_cement_mortar_brick    86868 non-null int64\n",
      "has_superstructure_timber                 86868 non-null int64\n",
      "has_superstructure_bamboo                 86868 non-null int64\n",
      "has_superstructure_rc_non_engineered      86868 non-null int64\n",
      "has_superstructure_rc_engineered          86868 non-null int64\n",
      "has_superstructure_other                  86868 non-null int64\n",
      "legal_ownership_status                    86868 non-null object\n",
      "count_families                            86868 non-null int64\n",
      "has_secondary_use                         86868 non-null int64\n",
      "has_secondary_use_agriculture             86868 non-null int64\n",
      "has_secondary_use_hotel                   86868 non-null int64\n",
      "has_secondary_use_rental                  86868 non-null int64\n",
      "has_secondary_use_institution             86868 non-null int64\n",
      "has_secondary_use_school                  86868 non-null int64\n",
      "has_secondary_use_industry                86868 non-null int64\n",
      "has_secondary_use_health_post             86868 non-null int64\n",
      "has_secondary_use_gov_office              86868 non-null int64\n",
      "has_secondary_use_use_police              86868 non-null int64\n",
      "has_secondary_use_other                   86868 non-null int64\n",
      "roof_type_C1                              86868 non-null int64\n",
      "roof_type_C0                              86868 non-null int64\n",
      "land_surface_condition_C0                 86868 non-null int64\n",
      "land_surface_condition_C1                 86868 non-null int64\n",
      "foundation_type_C0                        86868 non-null int64\n",
      "foundation_type_C1                        86868 non-null int64\n",
      "foundation_type_C2                        86868 non-null int64\n",
      "ground_floor_type_C0                      86868 non-null int64\n",
      "ground_floor_type_C1                      86868 non-null int64\n",
      "ground_floor_type_C2                      86868 non-null int64\n",
      "other_floor_type_C0                       86868 non-null int64\n",
      "other_floor_type_C1                       86868 non-null int64\n",
      "other_floor_type_C2                       86868 non-null int64\n",
      "position_C0                               86868 non-null int64\n",
      "position_C1                               86868 non-null int64\n",
      "position_C2                               86868 non-null int64\n",
      "plan_configuration_C0                     86868 non-null int64\n",
      "plan_configuration_C1                     86868 non-null int64\n",
      "plan_configuration_C2                     86868 non-null int64\n",
      "plan_configuration_C3                     86868 non-null int64\n",
      "legal_ownership_status_C0                 86868 non-null int64\n",
      "legal_ownership_status_C1                 86868 non-null int64\n",
      "legal_ownership_status_C2                 86868 non-null int64\n",
      "dtypes: int64(54), object(8)\n",
      "memory usage: 41.1+ MB\n"
     ]
    }
   ],
   "source": [
    "test_v2 = test_v2.rename(columns={'land_surface_condition_C':'land_surface_condition_C1'})\n",
    "test_v2.info()"
   ]
  },
  {
   "cell_type": "code",
   "execution_count": 14,
   "metadata": {},
   "outputs": [],
   "source": [
    "test_v2.to_csv('encoded_test_values2.csv',index=False)"
   ]
  },
  {
   "cell_type": "code",
   "execution_count": null,
   "metadata": {},
   "outputs": [],
   "source": []
  }
 ],
 "metadata": {
  "kernelspec": {
   "display_name": "Python 3",
   "language": "python",
   "name": "python3"
  },
  "language_info": {
   "codemirror_mode": {
    "name": "ipython",
    "version": 3
   },
   "file_extension": ".py",
   "mimetype": "text/x-python",
   "name": "python",
   "nbconvert_exporter": "python",
   "pygments_lexer": "ipython3",
   "version": "3.7.2"
  }
 },
 "nbformat": 4,
 "nbformat_minor": 2
}
