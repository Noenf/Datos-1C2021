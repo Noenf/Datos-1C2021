{
 "cells": [
  {
   "cell_type": "code",
   "execution_count": 1,
   "metadata": {},
   "outputs": [],
   "source": [
    "import pandas as pd\n",
    "import numpy as np\n",
    "from sklearn.ensemble import RandomForestRegressor\n",
    "from sklearn.datasets import make_regression"
   ]
  },
  {
   "cell_type": "code",
   "execution_count": 2,
   "metadata": {},
   "outputs": [],
   "source": [
    "train_v3 = pd.read_csv('dataset_v3')"
   ]
  },
  {
   "cell_type": "code",
   "execution_count": 3,
   "metadata": {},
   "outputs": [
    {
     "name": "stdout",
     "output_type": "stream",
     "text": [
      "<class 'pandas.core.frame.DataFrame'>\n",
      "RangeIndex: 260601 entries, 0 to 260600\n",
      "Data columns (total 44 columns):\n",
      " #   Column                                       Non-Null Count   Dtype  \n",
      "---  ------                                       --------------   -----  \n",
      " 0   building_id                                  260601 non-null  int64  \n",
      " 1   geo_level_1_id                               260601 non-null  int64  \n",
      " 2   geo_level_2_id                               260601 non-null  int64  \n",
      " 3   geo_level_3_id                               260601 non-null  int64  \n",
      " 4   count_floors_pre_eq                          260601 non-null  int64  \n",
      " 5   age                                          260601 non-null  int64  \n",
      " 6   count_families                               260601 non-null  int64  \n",
      " 7   damage_grade                                 260601 non-null  int64  \n",
      " 8   roof_type_C1                                 260601 non-null  int64  \n",
      " 9   roof_type_C0                                 260601 non-null  int64  \n",
      " 10  land_surface_condition_C0                    260601 non-null  int64  \n",
      " 11  land_surface_condition_C1                    260601 non-null  int64  \n",
      " 12  foundation_type_C0                           260601 non-null  int64  \n",
      " 13  foundation_type_C1                           260601 non-null  int64  \n",
      " 14  foundation_type_C2                           260601 non-null  int64  \n",
      " 15  ground_floor_type_C0                         260601 non-null  int64  \n",
      " 16  ground_floor_type_C1                         260601 non-null  int64  \n",
      " 17  ground_floor_type_C2                         260601 non-null  int64  \n",
      " 18  other_floor_type_C0                          260601 non-null  int64  \n",
      " 19  other_floor_type_C1                          260601 non-null  int64  \n",
      " 20  other_floor_type_C2                          260601 non-null  int64  \n",
      " 21  position_C0                                  260601 non-null  int64  \n",
      " 22  position_C1                                  260601 non-null  int64  \n",
      " 23  position_C2                                  260601 non-null  int64  \n",
      " 24  plan_configuration_C0                        260601 non-null  int64  \n",
      " 25  plan_configuration_C1                        260601 non-null  int64  \n",
      " 26  plan_configuration_C2                        260601 non-null  int64  \n",
      " 27  plan_configuration_C3                        260601 non-null  int64  \n",
      " 28  legal_ownership_status_C0                    260601 non-null  int64  \n",
      " 29  legal_ownership_status_C1                    260601 non-null  int64  \n",
      " 30  legal_ownership_status_C2                    260601 non-null  int64  \n",
      " 31  has_superstructure_adobe_mud_mean            260601 non-null  float64\n",
      " 32  has_superstructure_mud_mortar_stone_mean     260601 non-null  float64\n",
      " 33  has_superstructure_stone_flag_mean           260601 non-null  float64\n",
      " 34  has_superstructure_cement_mortar_stone_mean  260601 non-null  float64\n",
      " 35  has_superstructure_mud_mortar_brick_mean     260601 non-null  float64\n",
      " 36  has_superstructure_cement_mortar_brick_mean  260601 non-null  float64\n",
      " 37  has_superstructure_timber_mean               260601 non-null  float64\n",
      " 38  has_superstructure_bamboo_mean               260601 non-null  float64\n",
      " 39  has_superstructure_rc_non_engineered_mean    260601 non-null  float64\n",
      " 40  has_superstructure_rc_engineered_mean        260601 non-null  float64\n",
      " 41  has_superstructure_other_mean                260601 non-null  float64\n",
      " 42  area_percentage_norm                         260601 non-null  float64\n",
      " 43  height_percentage_norm                       260601 non-null  float64\n",
      "dtypes: float64(13), int64(31)\n",
      "memory usage: 87.5 MB\n"
     ]
    }
   ],
   "source": [
    "train_v3.info()"
   ]
  },
  {
   "cell_type": "code",
   "execution_count": 4,
   "metadata": {},
   "outputs": [
    {
     "ename": "NameError",
     "evalue": "name 'train' is not defined",
     "output_type": "error",
     "traceback": [
      "\u001b[1;31m---------------------------------------------------------------------------\u001b[0m",
      "\u001b[1;31mNameError\u001b[0m                                 Traceback (most recent call last)",
      "\u001b[1;32m<ipython-input-4-3536571a9bc3>\u001b[0m in \u001b[0;36m<module>\u001b[1;34m\u001b[0m\n\u001b[1;32m----> 1\u001b[1;33m \u001b[0mtrain\u001b[0m\u001b[1;33m\u001b[0m\u001b[1;33m\u001b[0m\u001b[0m\n\u001b[0m",
      "\u001b[1;31mNameError\u001b[0m: name 'train' is not defined"
     ]
    }
   ],
   "source": [
    "train"
   ]
  },
  {
   "cell_type": "code",
   "execution_count": null,
   "metadata": {},
   "outputs": [],
   "source": [
    "train_labels = train_v3['damage_grade']\n",
    "del train_v3['damage_grade']"
   ]
  },
  {
   "cell_type": "code",
   "execution_count": null,
   "metadata": {},
   "outputs": [],
   "source": [
    "##Usaremos train_v3 para realizar este modelo \n",
    "\n",
    "x = np.array(train_v3.iloc[1:100000,1:42])\n",
    "y = np.array(train_labels.iloc[1:100000])\n"
   ]
  },
  {
   "cell_type": "code",
   "execution_count": null,
   "metadata": {},
   "outputs": [],
   "source": [
    "model = RandomForestRegressor(n_estimators=20,criterion=\"mae\",max_depth=5)\n",
    "model.fit(x,y)"
   ]
  },
  {
   "cell_type": "code",
   "execution_count": null,
   "metadata": {},
   "outputs": [],
   "source": [
    "x2 = np.array(train_v3.iloc[100000:200000,1:42])\n",
    "y2 = np.array(train_labels.iloc[100000:200000])\n",
    "model.fit(x2,y2)"
   ]
  },
  {
   "cell_type": "code",
   "execution_count": null,
   "metadata": {},
   "outputs": [],
   "source": [
    "score = model.score(x, y)\n",
    "print(\"accuracy=%.2f%%\" % ( score * 100))"
   ]
  },
  {
   "cell_type": "code",
   "execution_count": null,
   "metadata": {},
   "outputs": [],
   "source": [
    "score = model.score(x, y)\n",
    "print(\"accuracy=%.2f%%\" % ( score * 100))"
   ]
  },
  {
   "cell_type": "code",
   "execution_count": null,
   "metadata": {},
   "outputs": [],
   "source": [
    "score = model.score(x2, y2)\n",
    "print(\"accuracy2=%.2f%%\" % ( score * 100))"
   ]
  },
  {
   "cell_type": "code",
   "execution_count": null,
   "metadata": {},
   "outputs": [],
   "source": [
    "##Se puede observar que el modelo  "
   ]
  },
  {
   "cell_type": "code",
   "execution_count": null,
   "metadata": {},
   "outputs": [],
   "source": [
    "from sklearn.metrics import accuracy_score"
   ]
  },
  {
   "cell_type": "code",
   "execution_count": null,
   "metadata": {},
   "outputs": [],
   "source": [
    "\n",
    "test_data = pd.read_csv('encoded_test_values.csv')\n",
    "\n",
    "test_data = test_data.drop(labels=['land_surface_condition','foundation_type','roof_type',\\\n",
    "'ground_floor_type','other_floor_type','position', 'plan_configuration','legal_ownership_status',\\\n",
    " 'has_secondary_use','has_secondary_use_agriculture','has_secondary_use_hotel','has_secondary_use_rental',\\\n",
    "'has_secondary_use_institution','has_secondary_use_school','has_secondary_use_industry','has_secondary_use_health_post',\\\n",
    "'has_secondary_use_gov_office','has_secondary_use_use_police','has_secondary_use_other'],axis=1)\n",
    "\n",
    "test_data.info()\n"
   ]
  },
  {
   "cell_type": "code",
   "execution_count": null,
   "metadata": {},
   "outputs": [],
   "source": [
    "test_data.to_csv('test_data_43C.csv')"
   ]
  },
  {
   "cell_type": "code",
   "execution_count": null,
   "metadata": {},
   "outputs": [],
   "source": [
    "predictions = model.predict(test_data.iloc[:,1:42])"
   ]
  },
  {
   "cell_type": "code",
   "execution_count": null,
   "metadata": {},
   "outputs": [],
   "source": [
    "predictions"
   ]
  },
  {
   "cell_type": "code",
   "execution_count": null,
   "metadata": {},
   "outputs": [],
   "source": [
    "\n",
    "\n",
    "submit = pd.read_csv('submission_format.csv', index_col='building_id')\n",
    "submission = pd.DataFrame(\n",
    "    data=predictions,\n",
    "    columns=submit.columns,\n",
    "    index=submit.index\n",
    ")"
   ]
  },
  {
   "cell_type": "code",
   "execution_count": null,
   "metadata": {},
   "outputs": [],
   "source": [
    "submission['damage_grade'].value_counts()"
   ]
  },
  {
   "cell_type": "code",
   "execution_count": null,
   "metadata": {},
   "outputs": [],
   "source": [
    "train_labels.iloc[:100000].value_counts()"
   ]
  },
  {
   "cell_type": "code",
   "execution_count": null,
   "metadata": {},
   "outputs": [],
   "source": [
    "submit.info()"
   ]
  },
  {
   "cell_type": "code",
   "execution_count": null,
   "metadata": {},
   "outputs": [],
   "source": [
    "submission.info()"
   ]
  },
  {
   "cell_type": "code",
   "execution_count": null,
   "metadata": {},
   "outputs": [],
   "source": [
    "submission.to_csv('submitRFRegressor.csv')"
   ]
  },
  {
   "cell_type": "code",
   "execution_count": null,
   "metadata": {},
   "outputs": [],
   "source": [
    "submission.head()"
   ]
  },
  {
   "cell_type": "code",
   "execution_count": null,
   "metadata": {},
   "outputs": [],
   "source": [
    "submit2 = pd.read_csv('submission_format.csv')"
   ]
  },
  {
   "cell_type": "code",
   "execution_count": null,
   "metadata": {},
   "outputs": [],
   "source": [
    "submit2.head()"
   ]
  },
  {
   "cell_type": "code",
   "execution_count": null,
   "metadata": {},
   "outputs": [],
   "source": [
    "submission = submission.reset_index()"
   ]
  },
  {
   "cell_type": "code",
   "execution_count": null,
   "metadata": {},
   "outputs": [],
   "source": [
    "submission.to_csv('submitRFRegressor.csv')"
   ]
  },
  {
   "cell_type": "code",
   "execution_count": null,
   "metadata": {},
   "outputs": [],
   "source": [
    "submit2 = pd.read_csv('submitRFRegressor.csv',index_col='building_id')"
   ]
  },
  {
   "cell_type": "code",
   "execution_count": null,
   "metadata": {},
   "outputs": [],
   "source": [
    "submit2.head()"
   ]
  },
  {
   "cell_type": "code",
   "execution_count": null,
   "metadata": {},
   "outputs": [],
   "source": [
    "submit2.to_csv('submitRFRegressor.csv')"
   ]
  },
  {
   "cell_type": "code",
   "execution_count": null,
   "metadata": {},
   "outputs": [],
   "source": [
    "submit2.info()"
   ]
  },
  {
   "cell_type": "code",
   "execution_count": null,
   "metadata": {},
   "outputs": [],
   "source": [
    "submit2['damage_grade'] = submit2['damage_grade'].astype('int64')"
   ]
  },
  {
   "cell_type": "code",
   "execution_count": null,
   "metadata": {},
   "outputs": [],
   "source": [
    "submit2.to_csv('submitRFRegressor.csv')"
   ]
  },
  {
   "cell_type": "code",
   "execution_count": null,
   "metadata": {},
   "outputs": [],
   "source": [
    "##Submit procesado 0.3424\n",
    "##Procesamos el modelo nuevamente sin las columnas Booleanas que tienen tipo int64"
   ]
  },
  {
   "cell_type": "code",
   "execution_count": null,
   "metadata": {},
   "outputs": [],
   "source": [
    "train_v3.info()"
   ]
  },
  {
   "cell_type": "code",
   "execution_count": null,
   "metadata": {},
   "outputs": [],
   "source": [
    "train = train_v3.drop(labels=[\n",
    " 'has_superstructure_adobe_mud_mean','has_superstructure_mud_mortar_stone_mean','has_superstructure_stone_flag_mean','has_superstructure_cement_mortar_stone_mean',\\\n",
    "'has_superstructure_mud_mortar_brick_mean','has_superstructure_cement_mortar_brick_mean','has_superstructure_timber_mean','has_superstructure_bamboo_mean',\\\n",
    "'has_superstructure_rc_non_engineered_mean','has_superstructure_other_mean','has_superstructure_rc_engineered_mean'],axis=1)"
   ]
  },
  {
   "cell_type": "code",
   "execution_count": null,
   "metadata": {},
   "outputs": [],
   "source": [
    "train.info()"
   ]
  },
  {
   "cell_type": "code",
   "execution_count": null,
   "metadata": {},
   "outputs": [],
   "source": [
    "train_labels_v2 = train['damage_grade']"
   ]
  },
  {
   "cell_type": "code",
   "execution_count": null,
   "metadata": {},
   "outputs": [],
   "source": [
    "del train['damage_grade']"
   ]
  },
  {
   "cell_type": "code",
   "execution_count": null,
   "metadata": {},
   "outputs": [],
   "source": [
    "x3 = np.array(train.iloc[1:100000,1:42])\n",
    "y3 = np.array(train_labels_v2.iloc[1:100000])"
   ]
  },
  {
   "cell_type": "code",
   "execution_count": null,
   "metadata": {},
   "outputs": [],
   "source": [
    "model = RandomForestRegressor(n_estimators=20,criterion=\"mae\",max_depth=5)\n",
    "model.fit(x3,y3)"
   ]
  },
  {
   "cell_type": "code",
   "execution_count": null,
   "metadata": {},
   "outputs": [],
   "source": [
    "test_data_v2 = test_data.drop(labels=[\n",
    " 'has_superstructure_adobe_mud','has_superstructure_mud_mortar_stone','has_superstructure_stone_flag','has_superstructure_cement_mortar_stone',\\\n",
    "'has_superstructure_mud_mortar_brick','has_superstructure_cement_mortar_brick','has_superstructure_timber','has_superstructure_bamboo',\\\n",
    "'has_superstructure_rc_non_engineered','has_superstructure_other','has_superstructure_rc_engineered'],axis=1)"
   ]
  },
  {
   "cell_type": "code",
   "execution_count": null,
   "metadata": {},
   "outputs": [],
   "source": [
    "predictions_v2 = model.predict(test_data_v2.iloc[:,1:42])"
   ]
  },
  {
   "cell_type": "code",
   "execution_count": null,
   "metadata": {},
   "outputs": [],
   "source": [
    "predictions_v3 = model.predict(np.array(test_data_v2.iloc[:,1:42]))"
   ]
  },
  {
   "cell_type": "code",
   "execution_count": null,
   "metadata": {},
   "outputs": [],
   "source": [
    "\n",
    "\n",
    "submit2 = pd.read_csv('submission_format.csv', index_col='building_id')\n",
    "submission2 = pd.DataFrame(\n",
    "    data=predictions_v2,\n",
    "    columns=submit2.columns,\n",
    "    index=submit2.index\n",
    ")\n",
    "submission2.head()\n",
    "\n"
   ]
  },
  {
   "cell_type": "code",
   "execution_count": null,
   "metadata": {},
   "outputs": [],
   "source": [
    "submit3 = pd.read_csv('submission_format.csv', index_col='building_id')\n",
    "submission3= pd.DataFrame(\n",
    "    data=predictions_v3,\n",
    "    columns=submit3.columns,\n",
    "    index=submit3.index\n",
    ")\n",
    "submission3.head()"
   ]
  },
  {
   "cell_type": "code",
   "execution_count": null,
   "metadata": {},
   "outputs": [],
   "source": [
    "submission3.info()"
   ]
  },
  {
   "cell_type": "code",
   "execution_count": null,
   "metadata": {},
   "outputs": [],
   "source": [
    "submission3['damage_grade'] = submission3['damage_grade'].astype('int64')\n",
    "submission2['damage_grade'] = submission2['damage_grade'].astype('int64')"
   ]
  },
  {
   "cell_type": "code",
   "execution_count": null,
   "metadata": {},
   "outputs": [],
   "source": [
    "submission3['damage_grade'].value_counts()"
   ]
  },
  {
   "cell_type": "code",
   "execution_count": null,
   "metadata": {},
   "outputs": [],
   "source": [
    "submission2['damage_grade'].value_counts()"
   ]
  },
  {
   "cell_type": "code",
   "execution_count": null,
   "metadata": {},
   "outputs": [],
   "source": [
    "submission2.to_csv('submitRFRegressor2.csv')"
   ]
  },
  {
   "cell_type": "code",
   "execution_count": null,
   "metadata": {},
   "outputs": [],
   "source": [
    "##Submit 0.1542\n",
    "##Probamos con este modelo NFL Para encontrar la predicción con un score mas alto\n",
    "test_data_v2.head()"
   ]
  },
  {
   "cell_type": "code",
   "execution_count": null,
   "metadata": {},
   "outputs": [],
   "source": [
    "test_data_v2['plan_configuration_C0'].value_counts()"
   ]
  },
  {
   "cell_type": "code",
   "execution_count": null,
   "metadata": {},
   "outputs": [],
   "source": [
    "def inversa(x):\n",
    "    if x == 0:\n",
    "        x=1\n",
    "    else:\n",
    "        x=0;\n",
    "    return x;"
   ]
  },
  {
   "cell_type": "code",
   "execution_count": null,
   "metadata": {},
   "outputs": [],
   "source": [
    "test_data_v2['roof_type_C1'] = test_data_v2['roof_type_C1'].apply(inversa)"
   ]
  },
  {
   "cell_type": "code",
   "execution_count": null,
   "metadata": {},
   "outputs": [],
   "source": [
    "test_data_v2['roof_type_C1'].value_counts()"
   ]
  },
  {
   "cell_type": "code",
   "execution_count": null,
   "metadata": {},
   "outputs": [],
   "source": [
    "test_data_v2['plan_configuration_C0'] = test_data_v2['plan_configuration_C0'].apply(inversa)\n",
    "test_data_v2['plan_configuration_C0'].value_counts()"
   ]
  },
  {
   "cell_type": "code",
   "execution_count": null,
   "metadata": {},
   "outputs": [],
   "source": [
    "test_data_v2['plan_configuration_C1'] = test_data_v2['plan_configuration_C1'].apply(inversa)\n",
    "test_data_v2['plan_configuration_C2'] = test_data_v2['plan_configuration_C2'].apply(inversa)\n",
    "test_data_v2['plan_configuration_C3'] = test_data_v2['plan_configuration_C3'].apply(inversa)\n",
    "test_data_v2['roof_type_C0'] = test_data_v2['roof_type_C0'].apply(inversa)\n",
    "test_data_v2['land_surface_condition_C0'] = test_data_v2['land_surface_condition_C0'].apply(inversa)\n",
    "test_data_v2['land_surface_condition_C1'] = test_data_v2['land_surface_condition_C1'].apply(inversa)\n",
    "test_data_v2['foundation_type_C0'] = test_data_v2['foundation_type_C0'].apply(inversa)\n",
    "test_data_v2['foundation_type_C1'] = test_data_v2['foundation_type_C1'].apply(inversa)\n",
    "test_data_v2['foundation_type_C2'] = test_data_v2['foundation_type_C2'].apply(inversa)\n",
    "test_data_v2['ground_floor_type_C0'] = test_data_v2['ground_floor_type_C0'].apply(inversa)\n",
    "test_data_v2['ground_floor_type_C1'] = test_data_v2['ground_floor_type_C1'].apply(inversa)\n",
    "test_data_v2['ground_floor_type_C2'] = test_data_v2['ground_floor_type_C2'].apply(inversa)\n",
    "test_data_v2['other_floor_type_C0'] = test_data_v2['other_floor_type_C0'].apply(inversa)\n",
    "test_data_v2['other_floor_type_C1'] = test_data_v2['other_floor_type_C1'].apply(inversa)\n",
    "test_data_v2['other_floor_type_C2'] = test_data_v2['other_floor_type_C2'].apply(inversa)\n",
    "test_data_v2['position_C0'] = test_data_v2['position_C0'].apply(inversa)\n",
    "test_data_v2['position_C1'] = test_data_v2['position_C1'].apply(inversa)\n",
    "test_data_v2['position_C2'] = test_data_v2['position_C2'].apply(inversa)\n",
    "test_data_v2['legal_ownership_status_C0'] = test_data_v2['legal_ownership_status_C0'].apply(inversa)\n",
    "test_data_v2['legal_ownership_status_C1'] = test_data_v2['legal_ownership_status_C1'].apply(inversa)\n",
    "test_data_v2['legal_ownership_status_C2'] = test_data_v2['legal_ownership_status_C2'].apply(inversa)"
   ]
  },
  {
   "cell_type": "code",
   "execution_count": null,
   "metadata": {},
   "outputs": [],
   "source": [
    "predictions_v3 = model.predict(np.array(test_data_v2.iloc[:,1:42]))"
   ]
  },
  {
   "cell_type": "code",
   "execution_count": null,
   "metadata": {},
   "outputs": [],
   "source": [
    "submission3= pd.DataFrame(\n",
    "    data=predictions_v3,\n",
    "    columns=submit3.columns,\n",
    "    index=submit3.index\n",
    ")\n",
    "submission3.head()"
   ]
  },
  {
   "cell_type": "code",
   "execution_count": null,
   "metadata": {},
   "outputs": [],
   "source": [
    "submission3['damage_grade'].value_counts()"
   ]
  },
  {
   "cell_type": "code",
   "execution_count": null,
   "metadata": {},
   "outputs": [],
   "source": [
    "submission3['damage_grade'] = submission3['damage_grade'].apply(np.round)\n",
    "submission3['damage_grade'].value_counts()"
   ]
  },
  {
   "cell_type": "code",
   "execution_count": null,
   "metadata": {},
   "outputs": [],
   "source": [
    "submission3['damage_grade'] = submission3['damage_grade'].astype('int64')\n",
    "submission3.info()"
   ]
  },
  {
   "cell_type": "code",
   "execution_count": null,
   "metadata": {},
   "outputs": [],
   "source": [
    "submission3.to_csv('submitRFRegressor3.csv')"
   ]
  },
  {
   "cell_type": "code",
   "execution_count": null,
   "metadata": {},
   "outputs": [],
   "source": [
    "## Cambiando trasponiendo los valores booleanos el score sube a 0.3785"
   ]
  },
  {
   "cell_type": "code",
   "execution_count": null,
   "metadata": {},
   "outputs": [],
   "source": [
    "test_data_v2.info()"
   ]
  },
  {
   "cell_type": "code",
   "execution_count": null,
   "metadata": {},
   "outputs": [],
   "source": [
    "test_data_v2['age'].value_counts() ##Age 1000 - valor"
   ]
  },
  {
   "cell_type": "code",
   "execution_count": null,
   "metadata": {},
   "outputs": [],
   "source": [
    "##test_data_v2.loc[test_data_v2['height_percentage']>30,:] \n",
    "##100 - valor area/height porque son porcentajes\n",
    "##10 - numero de familias veamos relacion con la cantidad de pisos count_floors_pre_eq (tambien como maximo seria el 10)\n",
    "test_data_v2['geo_level_1_id'].value_counts() "
   ]
  },
  {
   "cell_type": "code",
   "execution_count": null,
   "metadata": {},
   "outputs": [],
   "source": []
  }
 ],
 "metadata": {
  "kernelspec": {
   "display_name": "Python 3",
   "language": "python",
   "name": "python3"
  },
  "language_info": {
   "codemirror_mode": {
    "name": "ipython",
    "version": 3
   },
   "file_extension": ".py",
   "mimetype": "text/x-python",
   "name": "python",
   "nbconvert_exporter": "python",
   "pygments_lexer": "ipython3",
   "version": "3.7.2"
  }
 },
 "nbformat": 4,
 "nbformat_minor": 2
}
