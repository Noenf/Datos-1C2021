{
 "cells": [
  {
   "cell_type": "code",
   "execution_count": 1,
   "metadata": {},
   "outputs": [],
   "source": [
    "%matplotlib inline\n",
    "\n",
    "from pathlib import Path\n",
    "\n",
    "import numpy as np\n",
    "import pandas as pd\n",
    "\n",
    "import matplotlib.pyplot as plt\n",
    "import seaborn as sns"
   ]
  },
  {
   "cell_type": "code",
   "execution_count": 2,
   "metadata": {},
   "outputs": [],
   "source": [
    "df4 = pd.read_csv('dataset_v4.csv').set_index('building_id')\n",
    "\n",
    "df1 = pd.read_csv('dataset_v1').set_index('building_id')\n",
    "\n",
    "\n",
    "train_labels = pd.read_csv('train_labels.csv').set_index('building_id')"
   ]
  },
  {
   "cell_type": "code",
   "execution_count": 3,
   "metadata": {},
   "outputs": [],
   "source": [
    "df1_cats = [\n",
    "    'land_surface_condition',\n",
    "    'foundation_type',\n",
    "    'foundation_type',\n",
    "    'roof_type',\n",
    "    'ground_floor_type',\n",
    "    'other_floor_type',\n",
    "    'position',\n",
    "    'plan_configuration',\n",
    "    'legal_ownership_status'\n",
    "]\n",
    "\n",
    "for cat in df1_cats:\n",
    "    df1[cat] = df1[cat].astype('category')"
   ]
  },
  {
   "cell_type": "code",
   "execution_count": 4,
   "metadata": {},
   "outputs": [
    {
     "name": "stdout",
     "output_type": "stream",
     "text": [
      "<class 'pandas.core.frame.DataFrame'>\n",
      "Int64Index: 260601 entries, 802906 to 747594\n",
      "Data columns (total 39 columns):\n",
      " #   Column                                  Non-Null Count   Dtype   \n",
      "---  ------                                  --------------   -----   \n",
      " 0   geo_level_1_id                          260601 non-null  int64   \n",
      " 1   geo_level_2_id                          260601 non-null  int64   \n",
      " 2   geo_level_3_id                          260601 non-null  int64   \n",
      " 3   count_floors_pre_eq                     260601 non-null  int64   \n",
      " 4   age                                     260601 non-null  int64   \n",
      " 5   area_percentage                         260601 non-null  int64   \n",
      " 6   height_percentage                       260601 non-null  int64   \n",
      " 7   land_surface_condition                  260601 non-null  category\n",
      " 8   foundation_type                         260601 non-null  category\n",
      " 9   roof_type                               260601 non-null  category\n",
      " 10  ground_floor_type                       260601 non-null  category\n",
      " 11  other_floor_type                        260601 non-null  category\n",
      " 12  position                                260601 non-null  category\n",
      " 13  plan_configuration                      260601 non-null  category\n",
      " 14  has_superstructure_adobe_mud            260601 non-null  bool    \n",
      " 15  has_superstructure_mud_mortar_stone     260601 non-null  bool    \n",
      " 16  has_superstructure_stone_flag           260601 non-null  bool    \n",
      " 17  has_superstructure_cement_mortar_stone  260601 non-null  bool    \n",
      " 18  has_superstructure_mud_mortar_brick     260601 non-null  bool    \n",
      " 19  has_superstructure_cement_mortar_brick  260601 non-null  bool    \n",
      " 20  has_superstructure_timber               260601 non-null  bool    \n",
      " 21  has_superstructure_bamboo               260601 non-null  bool    \n",
      " 22  has_superstructure_rc_non_engineered    260601 non-null  bool    \n",
      " 23  has_superstructure_rc_engineered        260601 non-null  bool    \n",
      " 24  has_superstructure_other                260601 non-null  bool    \n",
      " 25  legal_ownership_status                  260601 non-null  category\n",
      " 26  count_families                          260601 non-null  int64   \n",
      " 27  has_secondary_use                       260601 non-null  bool    \n",
      " 28  has_secondary_use_agriculture           260601 non-null  bool    \n",
      " 29  has_secondary_use_hotel                 260601 non-null  bool    \n",
      " 30  has_secondary_use_rental                260601 non-null  bool    \n",
      " 31  has_secondary_use_institution           260601 non-null  bool    \n",
      " 32  has_secondary_use_school                260601 non-null  bool    \n",
      " 33  has_secondary_use_industry              260601 non-null  bool    \n",
      " 34  has_secondary_use_health_post           260601 non-null  bool    \n",
      " 35  has_secondary_use_gov_office            260601 non-null  bool    \n",
      " 36  has_secondary_use_use_police            260601 non-null  bool    \n",
      " 37  has_secondary_use_other                 260601 non-null  bool    \n",
      " 38  damage_grade                            260601 non-null  int64   \n",
      "dtypes: bool(22), category(8), int64(9)\n",
      "memory usage: 27.3 MB\n"
     ]
    }
   ],
   "source": [
    "# df1 es mi set de entrenamiento\n",
    "df1.info()"
   ]
  },
  {
   "cell_type": "code",
   "execution_count": null,
   "metadata": {},
   "outputs": [],
   "source": [
    "from sklearn.model_selection import train_test_split\n",
    "from catboost import Pool, CatBoostClassifier"
   ]
  },
  {
   "cell_type": "code",
   "execution_count": null,
   "metadata": {},
   "outputs": [],
   "source": [
    "x, y = df1.iloc[:,:-1], df1.iloc[:, -1]"
   ]
  },
  {
   "cell_type": "markdown",
   "metadata": {},
   "source": [
    "Pruebo inicialmente entrenando con un subset del dataset de entrenamiento"
   ]
  },
  {
   "cell_type": "code",
   "execution_count": null,
   "metadata": {},
   "outputs": [],
   "source": [
    "x_train, x_test, y_train, y_test = train_test_split(x, y, test_size=0.2, random_state=2048)"
   ]
  },
  {
   "cell_type": "code",
   "execution_count": null,
   "metadata": {},
   "outputs": [],
   "source": [
    "x_train.head()"
   ]
  },
  {
   "cell_type": "code",
   "execution_count": null,
   "metadata": {},
   "outputs": [],
   "source": [
    "train_dataset = Pool(data=x_train,\n",
    "                     label=y_train,\n",
    "                     cat_features=df1_cats)\n",
    "\n",
    "eval_dataset = Pool(data=x_test,\n",
    "                    label=y_test,\n",
    "                    cat_features=df1_cats)\n",
    "\n",
    "catboost_model = CatBoostClassifier(\n",
    "    learning_rate=1,\n",
    "    depth=2,\n",
    "    loss_function='MultiClass'\n",
    ")\n",
    "catboost_model.fit(train_dataset)\n",
    "preds = catboost_model.predict(eval_dataset)"
   ]
  },
  {
   "cell_type": "code",
   "execution_count": null,
   "metadata": {},
   "outputs": [],
   "source": [
    "from sklearn.metrics import f1_score\n",
    "\n",
    "f1_score(y_test, preds, average='micro')"
   ]
  },
  {
   "cell_type": "markdown",
   "metadata": {},
   "source": [
    "Ahora pruebo con el dataset de entrenamiento completo"
   ]
  },
  {
   "cell_type": "code",
   "execution_count": null,
   "metadata": {},
   "outputs": [],
   "source": [
    "test_values = pd.read_csv('encoded_test_values.csv', index_col='building_id')"
   ]
  },
  {
   "cell_type": "code",
   "execution_count": null,
   "metadata": {},
   "outputs": [],
   "source": [
    "train_dataset = Pool(data=x,\n",
    "                     label=y,\n",
    "                     cat_features=df1_cats)\n",
    "\n",
    "catboost_model = CatBoostClassifier(\n",
    "    learning_rate=0.3,\n",
    "    depth=5,\n",
    "    loss_function='MultiClass'\n",
    ")\n",
    "catboost_model.fit(train_dataset, verbose=False)\n",
    "preds = catboost_model.predict(train_dataset)\n",
    "f1_score(y, preds, average='micro')"
   ]
  },
  {
   "cell_type": "code",
   "execution_count": null,
   "metadata": {},
   "outputs": [],
   "source": [
    "test_values = pd.read_csv('test_values.csv').set_index('building_id')\n",
    "\n",
    "for cat in df1_cats:\n",
    "    test_values[cat] = test_values[cat].astype('category')\n",
    "test_values.info()"
   ]
  },
  {
   "cell_type": "code",
   "execution_count": null,
   "metadata": {},
   "outputs": [],
   "source": [
    "test_dataset = Pool(data=test_values,\n",
    "                    cat_features=df1_cats)\n",
    "\n",
    "predictions = catboost_model.predict(test_dataset)"
   ]
  },
  {
   "cell_type": "code",
   "execution_count": null,
   "metadata": {},
   "outputs": [],
   "source": [
    "sub_format = pd.read_csv('submission_format.csv', index_col='building_id')"
   ]
  },
  {
   "cell_type": "code",
   "execution_count": null,
   "metadata": {},
   "outputs": [],
   "source": [
    "submission = pd.DataFrame(data=predictions, columns=sub_format.columns, index=sub_format.index)\n",
    "submission.to_csv('submission_catboost.csv')"
   ]
  }
 ],
 "metadata": {
  "kernelspec": {
   "display_name": "Python 3",
   "language": "python",
   "name": "python3"
  },
  "language_info": {
   "codemirror_mode": {
    "name": "ipython",
    "version": 3
   },
   "file_extension": ".py",
   "mimetype": "text/x-python",
   "name": "python",
   "nbconvert_exporter": "python",
   "pygments_lexer": "ipython3",
   "version": "3.6.9"
  }
 },
 "nbformat": 4,
 "nbformat_minor": 5
}
