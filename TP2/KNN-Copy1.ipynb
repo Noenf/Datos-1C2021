{
 "cells": [
  {
   "cell_type": "code",
   "execution_count": 1,
   "metadata": {},
   "outputs": [],
   "source": [
    "import datetime as datetime\n",
    "import pandas as pd\n",
    "import numpy as np\n",
    "import matplotlib.pyplot as plt\n",
    "%matplotlib inline"
   ]
  },
  {
   "cell_type": "code",
   "execution_count": 2,
   "metadata": {
    "scrolled": true
   },
   "outputs": [],
   "source": [
    "train_values = pd.read_csv('train_oneHotEncoding.csv')\n",
    "d = dict.fromkeys(train_values.select_dtypes(np.int64).columns, np.int16)\n",
    "train_values = train_values.astype(d)"
   ]
  },
  {
   "cell_type": "code",
   "execution_count": 3,
   "metadata": {},
   "outputs": [
    {
     "name": "stdout",
     "output_type": "stream",
     "text": [
      "<class 'pandas.core.frame.DataFrame'>\n",
      "RangeIndex: 260601 entries, 0 to 260600\n",
      "Data columns (total 69 columns):\n",
      " #   Column                                  Non-Null Count   Dtype\n",
      "---  ------                                  --------------   -----\n",
      " 0   building_id                             260601 non-null  int16\n",
      " 1   geo_level_1_id                          260601 non-null  int16\n",
      " 2   geo_level_2_id                          260601 non-null  int16\n",
      " 3   geo_level_3_id                          260601 non-null  int16\n",
      " 4   count_floors_pre_eq                     260601 non-null  int16\n",
      " 5   age                                     260601 non-null  int16\n",
      " 6   area_percentage                         260601 non-null  int16\n",
      " 7   height_percentage                       260601 non-null  int16\n",
      " 8   has_superstructure_adobe_mud            260601 non-null  int16\n",
      " 9   has_superstructure_mud_mortar_stone     260601 non-null  int16\n",
      " 10  has_superstructure_stone_flag           260601 non-null  int16\n",
      " 11  has_superstructure_cement_mortar_stone  260601 non-null  int16\n",
      " 12  has_superstructure_mud_mortar_brick     260601 non-null  int16\n",
      " 13  has_superstructure_cement_mortar_brick  260601 non-null  int16\n",
      " 14  has_superstructure_timber               260601 non-null  int16\n",
      " 15  has_superstructure_bamboo               260601 non-null  int16\n",
      " 16  has_superstructure_rc_non_engineered    260601 non-null  int16\n",
      " 17  has_superstructure_rc_engineered        260601 non-null  int16\n",
      " 18  has_superstructure_other                260601 non-null  int16\n",
      " 19  count_families                          260601 non-null  int16\n",
      " 20  has_secondary_use                       260601 non-null  int16\n",
      " 21  has_secondary_use_agriculture           260601 non-null  int16\n",
      " 22  has_secondary_use_hotel                 260601 non-null  int16\n",
      " 23  has_secondary_use_rental                260601 non-null  int16\n",
      " 24  has_secondary_use_institution           260601 non-null  int16\n",
      " 25  has_secondary_use_school                260601 non-null  int16\n",
      " 26  has_secondary_use_industry              260601 non-null  int16\n",
      " 27  has_secondary_use_health_post           260601 non-null  int16\n",
      " 28  has_secondary_use_gov_office            260601 non-null  int16\n",
      " 29  has_secondary_use_use_police            260601 non-null  int16\n",
      " 30  has_secondary_use_other                 260601 non-null  int16\n",
      " 31  land_surface_condition_n                260601 non-null  int16\n",
      " 32  land_surface_condition_o                260601 non-null  int16\n",
      " 33  land_surface_condition_t                260601 non-null  int16\n",
      " 34  foundation_type_h                       260601 non-null  int16\n",
      " 35  foundation_type_i                       260601 non-null  int16\n",
      " 36  foundation_type_r                       260601 non-null  int16\n",
      " 37  foundation_type_u                       260601 non-null  int16\n",
      " 38  foundation_type_w                       260601 non-null  int16\n",
      " 39  roof_type_n                             260601 non-null  int16\n",
      " 40  roof_type_q                             260601 non-null  int16\n",
      " 41  roof_type_x                             260601 non-null  int16\n",
      " 42  ground_floor_type_f                     260601 non-null  int16\n",
      " 43  ground_floor_type_m                     260601 non-null  int16\n",
      " 44  ground_floor_type_v                     260601 non-null  int16\n",
      " 45  ground_floor_type_x                     260601 non-null  int16\n",
      " 46  ground_floor_type_z                     260601 non-null  int16\n",
      " 47  other_floor_type_j                      260601 non-null  int16\n",
      " 48  other_floor_type_q                      260601 non-null  int16\n",
      " 49  other_floor_type_s                      260601 non-null  int16\n",
      " 50  other_floor_type_x                      260601 non-null  int16\n",
      " 51  position_j                              260601 non-null  int16\n",
      " 52  position_o                              260601 non-null  int16\n",
      " 53  position_s                              260601 non-null  int16\n",
      " 54  position_t                              260601 non-null  int16\n",
      " 55  plan_configuration_a                    260601 non-null  int16\n",
      " 56  plan_configuration_c                    260601 non-null  int16\n",
      " 57  plan_configuration_d                    260601 non-null  int16\n",
      " 58  plan_configuration_f                    260601 non-null  int16\n",
      " 59  plan_configuration_m                    260601 non-null  int16\n",
      " 60  plan_configuration_n                    260601 non-null  int16\n",
      " 61  plan_configuration_o                    260601 non-null  int16\n",
      " 62  plan_configuration_q                    260601 non-null  int16\n",
      " 63  plan_configuration_s                    260601 non-null  int16\n",
      " 64  plan_configuration_u                    260601 non-null  int16\n",
      " 65  legal_ownership_status_a                260601 non-null  int16\n",
      " 66  legal_ownership_status_r                260601 non-null  int16\n",
      " 67  legal_ownership_status_v                260601 non-null  int16\n",
      " 68  legal_ownership_status_w                260601 non-null  int16\n",
      "dtypes: int16(69)\n",
      "memory usage: 34.3 MB\n"
     ]
    }
   ],
   "source": [
    "train_values.info()"
   ]
  },
  {
   "cell_type": "code",
   "execution_count": 4,
   "metadata": {
    "scrolled": true
   },
   "outputs": [],
   "source": [
    "test_values = pd.read_csv('test_oneHotEncoding.csv')\n",
    "d = dict.fromkeys(test_values.select_dtypes(np.int64).columns, np.int16)\n",
    "test_values = test_values.astype(d)"
   ]
  },
  {
   "cell_type": "code",
   "execution_count": 5,
   "metadata": {},
   "outputs": [
    {
     "name": "stdout",
     "output_type": "stream",
     "text": [
      "<class 'pandas.core.frame.DataFrame'>\n",
      "RangeIndex: 86868 entries, 0 to 86867\n",
      "Data columns (total 69 columns):\n",
      " #   Column                                  Non-Null Count  Dtype\n",
      "---  ------                                  --------------  -----\n",
      " 0   building_id                             86868 non-null  int16\n",
      " 1   geo_level_1_id                          86868 non-null  int16\n",
      " 2   geo_level_2_id                          86868 non-null  int16\n",
      " 3   geo_level_3_id                          86868 non-null  int16\n",
      " 4   count_floors_pre_eq                     86868 non-null  int16\n",
      " 5   age                                     86868 non-null  int16\n",
      " 6   area_percentage                         86868 non-null  int16\n",
      " 7   height_percentage                       86868 non-null  int16\n",
      " 8   has_superstructure_adobe_mud            86868 non-null  int16\n",
      " 9   has_superstructure_mud_mortar_stone     86868 non-null  int16\n",
      " 10  has_superstructure_stone_flag           86868 non-null  int16\n",
      " 11  has_superstructure_cement_mortar_stone  86868 non-null  int16\n",
      " 12  has_superstructure_mud_mortar_brick     86868 non-null  int16\n",
      " 13  has_superstructure_cement_mortar_brick  86868 non-null  int16\n",
      " 14  has_superstructure_timber               86868 non-null  int16\n",
      " 15  has_superstructure_bamboo               86868 non-null  int16\n",
      " 16  has_superstructure_rc_non_engineered    86868 non-null  int16\n",
      " 17  has_superstructure_rc_engineered        86868 non-null  int16\n",
      " 18  has_superstructure_other                86868 non-null  int16\n",
      " 19  count_families                          86868 non-null  int16\n",
      " 20  has_secondary_use                       86868 non-null  int16\n",
      " 21  has_secondary_use_agriculture           86868 non-null  int16\n",
      " 22  has_secondary_use_hotel                 86868 non-null  int16\n",
      " 23  has_secondary_use_rental                86868 non-null  int16\n",
      " 24  has_secondary_use_institution           86868 non-null  int16\n",
      " 25  has_secondary_use_school                86868 non-null  int16\n",
      " 26  has_secondary_use_industry              86868 non-null  int16\n",
      " 27  has_secondary_use_health_post           86868 non-null  int16\n",
      " 28  has_secondary_use_gov_office            86868 non-null  int16\n",
      " 29  has_secondary_use_use_police            86868 non-null  int16\n",
      " 30  has_secondary_use_other                 86868 non-null  int16\n",
      " 31  land_surface_condition_n                86868 non-null  int16\n",
      " 32  land_surface_condition_o                86868 non-null  int16\n",
      " 33  land_surface_condition_t                86868 non-null  int16\n",
      " 34  foundation_type_h                       86868 non-null  int16\n",
      " 35  foundation_type_i                       86868 non-null  int16\n",
      " 36  foundation_type_r                       86868 non-null  int16\n",
      " 37  foundation_type_u                       86868 non-null  int16\n",
      " 38  foundation_type_w                       86868 non-null  int16\n",
      " 39  roof_type_n                             86868 non-null  int16\n",
      " 40  roof_type_q                             86868 non-null  int16\n",
      " 41  roof_type_x                             86868 non-null  int16\n",
      " 42  ground_floor_type_f                     86868 non-null  int16\n",
      " 43  ground_floor_type_m                     86868 non-null  int16\n",
      " 44  ground_floor_type_v                     86868 non-null  int16\n",
      " 45  ground_floor_type_x                     86868 non-null  int16\n",
      " 46  ground_floor_type_z                     86868 non-null  int16\n",
      " 47  other_floor_type_j                      86868 non-null  int16\n",
      " 48  other_floor_type_q                      86868 non-null  int16\n",
      " 49  other_floor_type_s                      86868 non-null  int16\n",
      " 50  other_floor_type_x                      86868 non-null  int16\n",
      " 51  position_j                              86868 non-null  int16\n",
      " 52  position_o                              86868 non-null  int16\n",
      " 53  position_s                              86868 non-null  int16\n",
      " 54  position_t                              86868 non-null  int16\n",
      " 55  plan_configuration_a                    86868 non-null  int16\n",
      " 56  plan_configuration_c                    86868 non-null  int16\n",
      " 57  plan_configuration_d                    86868 non-null  int16\n",
      " 58  plan_configuration_f                    86868 non-null  int16\n",
      " 59  plan_configuration_m                    86868 non-null  int16\n",
      " 60  plan_configuration_n                    86868 non-null  int16\n",
      " 61  plan_configuration_o                    86868 non-null  int16\n",
      " 62  plan_configuration_q                    86868 non-null  int16\n",
      " 63  plan_configuration_s                    86868 non-null  int16\n",
      " 64  plan_configuration_u                    86868 non-null  int16\n",
      " 65  legal_ownership_status_a                86868 non-null  int16\n",
      " 66  legal_ownership_status_r                86868 non-null  int16\n",
      " 67  legal_ownership_status_v                86868 non-null  int16\n",
      " 68  legal_ownership_status_w                86868 non-null  int16\n",
      "dtypes: int16(69)\n",
      "memory usage: 11.4 MB\n"
     ]
    }
   ],
   "source": [
    "test_values.info()"
   ]
  },
  {
   "cell_type": "code",
   "execution_count": 6,
   "metadata": {},
   "outputs": [],
   "source": [
    "train_labels = pd.read_csv('train_labels.csv')\n",
    "d = dict.fromkeys(train_labels.select_dtypes(np.int64).columns, np.int16)\n",
    "train_labels = train_labels.astype(d)"
   ]
  },
  {
   "cell_type": "code",
   "execution_count": 7,
   "metadata": {
    "scrolled": true
   },
   "outputs": [
    {
     "name": "stdout",
     "output_type": "stream",
     "text": [
      "<class 'pandas.core.frame.DataFrame'>\n",
      "RangeIndex: 260601 entries, 0 to 260600\n",
      "Data columns (total 2 columns):\n",
      " #   Column        Non-Null Count   Dtype\n",
      "---  ------        --------------   -----\n",
      " 0   building_id   260601 non-null  int16\n",
      " 1   damage_grade  260601 non-null  int16\n",
      "dtypes: int16(2)\n",
      "memory usage: 1018.1 KB\n"
     ]
    }
   ],
   "source": [
    "train_labels.info()"
   ]
  },
  {
   "cell_type": "code",
   "execution_count": 8,
   "metadata": {},
   "outputs": [],
   "source": [
    "## librerias para entrenar\n",
    "from sklearn.neighbors import KNeighborsClassifier"
   ]
  },
  {
   "cell_type": "code",
   "execution_count": 9,
   "metadata": {
    "scrolled": true
   },
   "outputs": [
    {
     "data": {
      "text/plain": [
       "KNeighborsClassifier(n_neighbors=1000)"
      ]
     },
     "execution_count": 9,
     "metadata": {},
     "output_type": "execute_result"
    }
   ],
   "source": [
    "#clasificador\n",
    "clasificador = KNeighborsClassifier(1000)\n",
    "clasificador.fit(train_values, train_labels['damage_grade'])"
   ]
  },
  {
   "cell_type": "code",
   "execution_count": null,
   "metadata": {
    "scrolled": true
   },
   "outputs": [],
   "source": [
    "predictions = clasificador.predict(test_values)"
   ]
  },
  {
   "cell_type": "code",
   "execution_count": null,
   "metadata": {},
   "outputs": [],
   "source": [
    "submit = pd.read_csv('submission_format.csv', index_col='building_id')\n",
    "submission = pd.DataFrame(\n",
    "    data=predictions,\n",
    "    columns=submit.columns,\n",
    "    index=submit.index\n",
    ")\n",
    "submission.head()"
   ]
  },
  {
   "cell_type": "code",
   "execution_count": null,
   "metadata": {},
   "outputs": [],
   "source": [
    "submission.info()"
   ]
  },
  {
   "cell_type": "code",
   "execution_count": null,
   "metadata": {},
   "outputs": [],
   "source": [
    "submission.to_csv('submissionKNN_15300.csv')"
   ]
  }
 ],
 "metadata": {
  "kernelspec": {
   "display_name": "Python 3 (ipykernel)",
   "language": "python",
   "name": "python3"
  },
  "language_info": {
   "codemirror_mode": {
    "name": "ipython",
    "version": 3
   },
   "file_extension": ".py",
   "mimetype": "text/x-python",
   "name": "python",
   "nbconvert_exporter": "python",
   "pygments_lexer": "ipython3",
   "version": "3.9.6"
  }
 },
 "nbformat": 4,
 "nbformat_minor": 2
}
