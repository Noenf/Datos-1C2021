{
 "cells": [
  {
   "cell_type": "code",
   "execution_count": 31,
   "metadata": {},
   "outputs": [],
   "source": [
    "import datetime as datetime\n",
    "import pandas as pd\n",
    "import numpy as np\n",
    "import matplotlib.pyplot as plt\n",
    "%matplotlib inline\n",
    "import seaborn as sns"
   ]
  },
  {
   "cell_type": "code",
   "execution_count": 3,
   "metadata": {},
   "outputs": [
    {
     "data": {
      "text/html": [
       "<div>\n",
       "<style scoped>\n",
       "    .dataframe tbody tr th:only-of-type {\n",
       "        vertical-align: middle;\n",
       "    }\n",
       "\n",
       "    .dataframe tbody tr th {\n",
       "        vertical-align: top;\n",
       "    }\n",
       "\n",
       "    .dataframe thead th {\n",
       "        text-align: right;\n",
       "    }\n",
       "</style>\n",
       "<table border=\"1\" class=\"dataframe\">\n",
       "  <thead>\n",
       "    <tr style=\"text-align: right;\">\n",
       "      <th></th>\n",
       "      <th>building_id</th>\n",
       "      <th>geo_level_1_id</th>\n",
       "      <th>geo_level_2_id</th>\n",
       "      <th>geo_level_3_id</th>\n",
       "      <th>count_floors_pre_eq</th>\n",
       "      <th>age</th>\n",
       "      <th>area_percentage</th>\n",
       "      <th>height_percentage</th>\n",
       "      <th>land_surface_condition</th>\n",
       "      <th>foundation_type</th>\n",
       "      <th>...</th>\n",
       "      <th>has_secondary_use_agriculture</th>\n",
       "      <th>has_secondary_use_hotel</th>\n",
       "      <th>has_secondary_use_rental</th>\n",
       "      <th>has_secondary_use_institution</th>\n",
       "      <th>has_secondary_use_school</th>\n",
       "      <th>has_secondary_use_industry</th>\n",
       "      <th>has_secondary_use_health_post</th>\n",
       "      <th>has_secondary_use_gov_office</th>\n",
       "      <th>has_secondary_use_use_police</th>\n",
       "      <th>has_secondary_use_other</th>\n",
       "    </tr>\n",
       "  </thead>\n",
       "  <tbody>\n",
       "    <tr>\n",
       "      <th>0</th>\n",
       "      <td>802906</td>\n",
       "      <td>6</td>\n",
       "      <td>487</td>\n",
       "      <td>12198</td>\n",
       "      <td>2</td>\n",
       "      <td>30</td>\n",
       "      <td>6</td>\n",
       "      <td>5</td>\n",
       "      <td>t</td>\n",
       "      <td>r</td>\n",
       "      <td>...</td>\n",
       "      <td>0</td>\n",
       "      <td>0</td>\n",
       "      <td>0</td>\n",
       "      <td>0</td>\n",
       "      <td>0</td>\n",
       "      <td>0</td>\n",
       "      <td>0</td>\n",
       "      <td>0</td>\n",
       "      <td>0</td>\n",
       "      <td>0</td>\n",
       "    </tr>\n",
       "    <tr>\n",
       "      <th>1</th>\n",
       "      <td>28830</td>\n",
       "      <td>8</td>\n",
       "      <td>900</td>\n",
       "      <td>2812</td>\n",
       "      <td>2</td>\n",
       "      <td>10</td>\n",
       "      <td>8</td>\n",
       "      <td>7</td>\n",
       "      <td>o</td>\n",
       "      <td>r</td>\n",
       "      <td>...</td>\n",
       "      <td>0</td>\n",
       "      <td>0</td>\n",
       "      <td>0</td>\n",
       "      <td>0</td>\n",
       "      <td>0</td>\n",
       "      <td>0</td>\n",
       "      <td>0</td>\n",
       "      <td>0</td>\n",
       "      <td>0</td>\n",
       "      <td>0</td>\n",
       "    </tr>\n",
       "    <tr>\n",
       "      <th>2</th>\n",
       "      <td>94947</td>\n",
       "      <td>21</td>\n",
       "      <td>363</td>\n",
       "      <td>8973</td>\n",
       "      <td>2</td>\n",
       "      <td>10</td>\n",
       "      <td>5</td>\n",
       "      <td>5</td>\n",
       "      <td>t</td>\n",
       "      <td>r</td>\n",
       "      <td>...</td>\n",
       "      <td>0</td>\n",
       "      <td>0</td>\n",
       "      <td>0</td>\n",
       "      <td>0</td>\n",
       "      <td>0</td>\n",
       "      <td>0</td>\n",
       "      <td>0</td>\n",
       "      <td>0</td>\n",
       "      <td>0</td>\n",
       "      <td>0</td>\n",
       "    </tr>\n",
       "    <tr>\n",
       "      <th>3</th>\n",
       "      <td>590882</td>\n",
       "      <td>22</td>\n",
       "      <td>418</td>\n",
       "      <td>10694</td>\n",
       "      <td>2</td>\n",
       "      <td>10</td>\n",
       "      <td>6</td>\n",
       "      <td>5</td>\n",
       "      <td>t</td>\n",
       "      <td>r</td>\n",
       "      <td>...</td>\n",
       "      <td>0</td>\n",
       "      <td>0</td>\n",
       "      <td>0</td>\n",
       "      <td>0</td>\n",
       "      <td>0</td>\n",
       "      <td>0</td>\n",
       "      <td>0</td>\n",
       "      <td>0</td>\n",
       "      <td>0</td>\n",
       "      <td>0</td>\n",
       "    </tr>\n",
       "    <tr>\n",
       "      <th>4</th>\n",
       "      <td>201944</td>\n",
       "      <td>11</td>\n",
       "      <td>131</td>\n",
       "      <td>1488</td>\n",
       "      <td>3</td>\n",
       "      <td>30</td>\n",
       "      <td>8</td>\n",
       "      <td>9</td>\n",
       "      <td>t</td>\n",
       "      <td>r</td>\n",
       "      <td>...</td>\n",
       "      <td>0</td>\n",
       "      <td>0</td>\n",
       "      <td>0</td>\n",
       "      <td>0</td>\n",
       "      <td>0</td>\n",
       "      <td>0</td>\n",
       "      <td>0</td>\n",
       "      <td>0</td>\n",
       "      <td>0</td>\n",
       "      <td>0</td>\n",
       "    </tr>\n",
       "  </tbody>\n",
       "</table>\n",
       "<p>5 rows × 39 columns</p>\n",
       "</div>"
      ],
      "text/plain": [
       "   building_id  geo_level_1_id  geo_level_2_id  geo_level_3_id  \\\n",
       "0       802906               6             487           12198   \n",
       "1        28830               8             900            2812   \n",
       "2        94947              21             363            8973   \n",
       "3       590882              22             418           10694   \n",
       "4       201944              11             131            1488   \n",
       "\n",
       "   count_floors_pre_eq  age  area_percentage  height_percentage  \\\n",
       "0                    2   30                6                  5   \n",
       "1                    2   10                8                  7   \n",
       "2                    2   10                5                  5   \n",
       "3                    2   10                6                  5   \n",
       "4                    3   30                8                  9   \n",
       "\n",
       "  land_surface_condition foundation_type  ... has_secondary_use_agriculture  \\\n",
       "0                      t               r  ...                             0   \n",
       "1                      o               r  ...                             0   \n",
       "2                      t               r  ...                             0   \n",
       "3                      t               r  ...                             0   \n",
       "4                      t               r  ...                             0   \n",
       "\n",
       "  has_secondary_use_hotel has_secondary_use_rental  \\\n",
       "0                       0                        0   \n",
       "1                       0                        0   \n",
       "2                       0                        0   \n",
       "3                       0                        0   \n",
       "4                       0                        0   \n",
       "\n",
       "  has_secondary_use_institution has_secondary_use_school  \\\n",
       "0                             0                        0   \n",
       "1                             0                        0   \n",
       "2                             0                        0   \n",
       "3                             0                        0   \n",
       "4                             0                        0   \n",
       "\n",
       "   has_secondary_use_industry  has_secondary_use_health_post  \\\n",
       "0                           0                              0   \n",
       "1                           0                              0   \n",
       "2                           0                              0   \n",
       "3                           0                              0   \n",
       "4                           0                              0   \n",
       "\n",
       "   has_secondary_use_gov_office  has_secondary_use_use_police  \\\n",
       "0                             0                             0   \n",
       "1                             0                             0   \n",
       "2                             0                             0   \n",
       "3                             0                             0   \n",
       "4                             0                             0   \n",
       "\n",
       "   has_secondary_use_other  \n",
       "0                        0  \n",
       "1                        0  \n",
       "2                        0  \n",
       "3                        0  \n",
       "4                        0  \n",
       "\n",
       "[5 rows x 39 columns]"
      ]
     },
     "execution_count": 3,
     "metadata": {},
     "output_type": "execute_result"
    }
   ],
   "source": [
    "df = pd.read_csv('train_values.csv')\n",
    "df.head()"
   ]
  },
  {
   "cell_type": "code",
   "execution_count": 35,
   "metadata": {
    "scrolled": false
   },
   "outputs": [
    {
     "name": "stdout",
     "output_type": "stream",
     "text": [
      "<class 'pandas.core.frame.DataFrame'>\n",
      "Int64Index: 260601 entries, 0 to 260600\n",
      "Data columns (total 40 columns):\n",
      " #   Column                                  Non-Null Count   Dtype   \n",
      "---  ------                                  --------------   -----   \n",
      " 0   building_id                             260601 non-null  int64   \n",
      " 1   geo_level_1_id                          260601 non-null  int64   \n",
      " 2   geo_level_2_id                          260601 non-null  int64   \n",
      " 3   geo_level_3_id                          260601 non-null  int64   \n",
      " 4   count_floors_pre_eq                     260601 non-null  int64   \n",
      " 5   age                                     260601 non-null  int64   \n",
      " 6   area_percentage                         260601 non-null  int64   \n",
      " 7   height_percentage                       260601 non-null  int64   \n",
      " 8   land_surface_condition                  260601 non-null  category\n",
      " 9   foundation_type                         260601 non-null  category\n",
      " 10  roof_type                               260601 non-null  category\n",
      " 11  ground_floor_type                       260601 non-null  category\n",
      " 12  other_floor_type                        260601 non-null  category\n",
      " 13  position                                260601 non-null  category\n",
      " 14  plan_configuration                      260601 non-null  category\n",
      " 15  has_superstructure_adobe_mud            260601 non-null  bool    \n",
      " 16  has_superstructure_mud_mortar_stone     260601 non-null  bool    \n",
      " 17  has_superstructure_stone_flag           260601 non-null  bool    \n",
      " 18  has_superstructure_cement_mortar_stone  260601 non-null  bool    \n",
      " 19  has_superstructure_mud_mortar_brick     260601 non-null  bool    \n",
      " 20  has_superstructure_cement_mortar_brick  260601 non-null  bool    \n",
      " 21  has_superstructure_timber               260601 non-null  bool    \n",
      " 22  has_superstructure_bamboo               260601 non-null  bool    \n",
      " 23  has_superstructure_rc_non_engineered    260601 non-null  bool    \n",
      " 24  has_superstructure_rc_engineered        260601 non-null  bool    \n",
      " 25  has_superstructure_other                260601 non-null  bool    \n",
      " 26  legal_ownership_status                  260601 non-null  category\n",
      " 27  count_families                          260601 non-null  int64   \n",
      " 28  has_secondary_use                       260601 non-null  bool    \n",
      " 29  has_secondary_use_agriculture           260601 non-null  bool    \n",
      " 30  has_secondary_use_hotel                 260601 non-null  bool    \n",
      " 31  has_secondary_use_rental                260601 non-null  bool    \n",
      " 32  has_secondary_use_institution           260601 non-null  bool    \n",
      " 33  has_secondary_use_school                260601 non-null  bool    \n",
      " 34  has_secondary_use_industry              260601 non-null  bool    \n",
      " 35  has_secondary_use_health_post           260601 non-null  bool    \n",
      " 36  has_secondary_use_gov_office            260601 non-null  bool    \n",
      " 37  has_secondary_use_use_police            260601 non-null  bool    \n",
      " 38  has_secondary_use_other                 260601 non-null  bool    \n",
      " 39  damage_grade                            260601 non-null  int64   \n",
      "dtypes: bool(22), category(8), int64(10)\n",
      "memory usage: 29.3 MB\n"
     ]
    }
   ],
   "source": [
    "df.info()"
   ]
  },
  {
   "cell_type": "code",
   "execution_count": 36,
   "metadata": {},
   "outputs": [
    {
     "name": "stdout",
     "output_type": "stream",
     "text": [
      "<class 'pandas.core.frame.DataFrame'>\n",
      "RangeIndex: 260601 entries, 0 to 260600\n",
      "Data columns (total 2 columns):\n",
      " #   Column        Non-Null Count   Dtype\n",
      "---  ------        --------------   -----\n",
      " 0   building_id   260601 non-null  int64\n",
      " 1   damage_grade  260601 non-null  int64\n",
      "dtypes: int64(2)\n",
      "memory usage: 4.0 MB\n"
     ]
    }
   ],
   "source": [
    "df2 = pd.read_csv('train_labels.csv')\n",
    "df2.info()"
   ]
  },
  {
   "cell_type": "code",
   "execution_count": 37,
   "metadata": {},
   "outputs": [],
   "source": [
    "df['land_surface_condition'] = df['land_surface_condition'].astype('category')\n",
    "df['legal_ownership_status'] = df['legal_ownership_status'].astype('category')\n",
    "df['land_surface_condition'] = df['land_surface_condition'].astype('category')\n",
    "df['foundation_type'] = df['foundation_type'].astype('category')\n",
    "df['roof_type'] = df['roof_type'].astype('category')\n",
    "df['ground_floor_type'] = df['ground_floor_type'].astype('category')\n",
    "df['other_floor_type'] = df['other_floor_type'].astype('category')\n",
    "df['position'] = df['position'].astype('category')\n",
    "df['plan_configuration'] = df['plan_configuration'].astype('category')"
   ]
  },
  {
   "cell_type": "code",
   "execution_count": 38,
   "metadata": {},
   "outputs": [],
   "source": [
    "df['has_secondary_use'] = df['has_secondary_use'].astype('bool')\n",
    "df['has_secondary_use_agriculture'] = df['has_secondary_use_agriculture'].astype('bool')\n",
    "df['has_secondary_use_hotel'] = df['has_secondary_use_hotel'].astype('bool')\n",
    "df['has_secondary_use_rental'] = df['has_secondary_use_rental'].astype('bool')\n",
    "df['has_secondary_use_institution'] = df['has_secondary_use_institution'].astype('bool')\n",
    "df['has_secondary_use_school'] = df['has_secondary_use_school'].astype('bool')\n",
    "df['has_secondary_use_industry'] = df['has_secondary_use_industry'].astype('bool')\n",
    "df['has_secondary_use_health_post'] = df['has_secondary_use_health_post'].astype('bool')\n",
    "df['has_secondary_use_gov_office'] = df['has_secondary_use_gov_office'].astype('bool')\n",
    "df['has_secondary_use_use_police'] = df['has_secondary_use_use_police'].astype('bool')\n",
    "df['has_secondary_use_other'] = df['has_secondary_use_other'].astype('bool')\n",
    "\n",
    "df['has_superstructure_adobe_mud'] = df['has_superstructure_adobe_mud'].astype('bool')\n",
    "df['has_superstructure_mud_mortar_stone'] = df['has_superstructure_mud_mortar_stone'].astype('bool')\n",
    "df['has_superstructure_stone_flag'] = df['has_superstructure_stone_flag'].astype('bool')\n",
    "df['has_superstructure_cement_mortar_stone'] = df['has_superstructure_cement_mortar_stone'].astype('bool')\n",
    "df['has_superstructure_mud_mortar_brick'] = df['has_superstructure_mud_mortar_brick'].astype('bool')\n",
    "\n",
    "df['has_superstructure_cement_mortar_brick'] = df['has_superstructure_cement_mortar_brick'].astype('bool')\n",
    "df['has_superstructure_timber'] = df['has_superstructure_timber'].astype('bool')\n",
    "df['has_superstructure_bamboo'] = df['has_superstructure_bamboo'].astype('bool')\n",
    "df['has_superstructure_rc_non_engineered'] = df['has_superstructure_rc_non_engineered'].astype('bool')\n",
    "df['has_superstructure_rc_engineered'] = df['has_superstructure_rc_engineered'].astype('bool')\n",
    "df['has_superstructure_other'] = df['has_superstructure_other'].astype('bool')"
   ]
  },
  {
   "cell_type": "code",
   "execution_count": 39,
   "metadata": {},
   "outputs": [
    {
     "name": "stdout",
     "output_type": "stream",
     "text": [
      "<class 'pandas.core.frame.DataFrame'>\n",
      "Int64Index: 260601 entries, 0 to 260600\n",
      "Data columns (total 40 columns):\n",
      " #   Column                                  Non-Null Count   Dtype   \n",
      "---  ------                                  --------------   -----   \n",
      " 0   building_id                             260601 non-null  int64   \n",
      " 1   geo_level_1_id                          260601 non-null  int64   \n",
      " 2   geo_level_2_id                          260601 non-null  int64   \n",
      " 3   geo_level_3_id                          260601 non-null  int64   \n",
      " 4   count_floors_pre_eq                     260601 non-null  int64   \n",
      " 5   age                                     260601 non-null  int64   \n",
      " 6   area_percentage                         260601 non-null  int64   \n",
      " 7   height_percentage                       260601 non-null  int64   \n",
      " 8   land_surface_condition                  260601 non-null  category\n",
      " 9   foundation_type                         260601 non-null  category\n",
      " 10  roof_type                               260601 non-null  category\n",
      " 11  ground_floor_type                       260601 non-null  category\n",
      " 12  other_floor_type                        260601 non-null  category\n",
      " 13  position                                260601 non-null  category\n",
      " 14  plan_configuration                      260601 non-null  category\n",
      " 15  has_superstructure_adobe_mud            260601 non-null  bool    \n",
      " 16  has_superstructure_mud_mortar_stone     260601 non-null  bool    \n",
      " 17  has_superstructure_stone_flag           260601 non-null  bool    \n",
      " 18  has_superstructure_cement_mortar_stone  260601 non-null  bool    \n",
      " 19  has_superstructure_mud_mortar_brick     260601 non-null  bool    \n",
      " 20  has_superstructure_cement_mortar_brick  260601 non-null  bool    \n",
      " 21  has_superstructure_timber               260601 non-null  bool    \n",
      " 22  has_superstructure_bamboo               260601 non-null  bool    \n",
      " 23  has_superstructure_rc_non_engineered    260601 non-null  bool    \n",
      " 24  has_superstructure_rc_engineered        260601 non-null  bool    \n",
      " 25  has_superstructure_other                260601 non-null  bool    \n",
      " 26  legal_ownership_status                  260601 non-null  category\n",
      " 27  count_families                          260601 non-null  int64   \n",
      " 28  has_secondary_use                       260601 non-null  bool    \n",
      " 29  has_secondary_use_agriculture           260601 non-null  bool    \n",
      " 30  has_secondary_use_hotel                 260601 non-null  bool    \n",
      " 31  has_secondary_use_rental                260601 non-null  bool    \n",
      " 32  has_secondary_use_institution           260601 non-null  bool    \n",
      " 33  has_secondary_use_school                260601 non-null  bool    \n",
      " 34  has_secondary_use_industry              260601 non-null  bool    \n",
      " 35  has_secondary_use_health_post           260601 non-null  bool    \n",
      " 36  has_secondary_use_gov_office            260601 non-null  bool    \n",
      " 37  has_secondary_use_use_police            260601 non-null  bool    \n",
      " 38  has_secondary_use_other                 260601 non-null  bool    \n",
      " 39  damage_grade                            260601 non-null  int64   \n",
      "dtypes: bool(22), category(8), int64(10)\n",
      "memory usage: 29.3 MB\n"
     ]
    }
   ],
   "source": [
    "df.info()"
   ]
  },
  {
   "cell_type": "code",
   "execution_count": 40,
   "metadata": {},
   "outputs": [
    {
     "data": {
      "text/html": [
       "<div>\n",
       "<style scoped>\n",
       "    .dataframe tbody tr th:only-of-type {\n",
       "        vertical-align: middle;\n",
       "    }\n",
       "\n",
       "    .dataframe tbody tr th {\n",
       "        vertical-align: top;\n",
       "    }\n",
       "\n",
       "    .dataframe thead th {\n",
       "        text-align: right;\n",
       "    }\n",
       "</style>\n",
       "<table border=\"1\" class=\"dataframe\">\n",
       "  <thead>\n",
       "    <tr style=\"text-align: right;\">\n",
       "      <th></th>\n",
       "      <th>building_id</th>\n",
       "      <th>geo_level_1_id</th>\n",
       "      <th>geo_level_2_id</th>\n",
       "      <th>geo_level_3_id</th>\n",
       "      <th>count_floors_pre_eq</th>\n",
       "      <th>age</th>\n",
       "      <th>area_percentage</th>\n",
       "      <th>height_percentage</th>\n",
       "      <th>land_surface_condition</th>\n",
       "      <th>foundation_type</th>\n",
       "      <th>...</th>\n",
       "      <th>has_secondary_use_hotel</th>\n",
       "      <th>has_secondary_use_rental</th>\n",
       "      <th>has_secondary_use_institution</th>\n",
       "      <th>has_secondary_use_school</th>\n",
       "      <th>has_secondary_use_industry</th>\n",
       "      <th>has_secondary_use_health_post</th>\n",
       "      <th>has_secondary_use_gov_office</th>\n",
       "      <th>has_secondary_use_use_police</th>\n",
       "      <th>has_secondary_use_other</th>\n",
       "      <th>damage_grade</th>\n",
       "    </tr>\n",
       "  </thead>\n",
       "  <tbody>\n",
       "    <tr>\n",
       "      <th>0</th>\n",
       "      <td>802906</td>\n",
       "      <td>6</td>\n",
       "      <td>487</td>\n",
       "      <td>12198</td>\n",
       "      <td>2</td>\n",
       "      <td>30</td>\n",
       "      <td>6</td>\n",
       "      <td>5</td>\n",
       "      <td>t</td>\n",
       "      <td>r</td>\n",
       "      <td>...</td>\n",
       "      <td>False</td>\n",
       "      <td>False</td>\n",
       "      <td>False</td>\n",
       "      <td>False</td>\n",
       "      <td>False</td>\n",
       "      <td>False</td>\n",
       "      <td>False</td>\n",
       "      <td>False</td>\n",
       "      <td>False</td>\n",
       "      <td>3</td>\n",
       "    </tr>\n",
       "    <tr>\n",
       "      <th>1</th>\n",
       "      <td>28830</td>\n",
       "      <td>8</td>\n",
       "      <td>900</td>\n",
       "      <td>2812</td>\n",
       "      <td>2</td>\n",
       "      <td>10</td>\n",
       "      <td>8</td>\n",
       "      <td>7</td>\n",
       "      <td>o</td>\n",
       "      <td>r</td>\n",
       "      <td>...</td>\n",
       "      <td>False</td>\n",
       "      <td>False</td>\n",
       "      <td>False</td>\n",
       "      <td>False</td>\n",
       "      <td>False</td>\n",
       "      <td>False</td>\n",
       "      <td>False</td>\n",
       "      <td>False</td>\n",
       "      <td>False</td>\n",
       "      <td>2</td>\n",
       "    </tr>\n",
       "    <tr>\n",
       "      <th>2</th>\n",
       "      <td>94947</td>\n",
       "      <td>21</td>\n",
       "      <td>363</td>\n",
       "      <td>8973</td>\n",
       "      <td>2</td>\n",
       "      <td>10</td>\n",
       "      <td>5</td>\n",
       "      <td>5</td>\n",
       "      <td>t</td>\n",
       "      <td>r</td>\n",
       "      <td>...</td>\n",
       "      <td>False</td>\n",
       "      <td>False</td>\n",
       "      <td>False</td>\n",
       "      <td>False</td>\n",
       "      <td>False</td>\n",
       "      <td>False</td>\n",
       "      <td>False</td>\n",
       "      <td>False</td>\n",
       "      <td>False</td>\n",
       "      <td>3</td>\n",
       "    </tr>\n",
       "    <tr>\n",
       "      <th>3</th>\n",
       "      <td>590882</td>\n",
       "      <td>22</td>\n",
       "      <td>418</td>\n",
       "      <td>10694</td>\n",
       "      <td>2</td>\n",
       "      <td>10</td>\n",
       "      <td>6</td>\n",
       "      <td>5</td>\n",
       "      <td>t</td>\n",
       "      <td>r</td>\n",
       "      <td>...</td>\n",
       "      <td>False</td>\n",
       "      <td>False</td>\n",
       "      <td>False</td>\n",
       "      <td>False</td>\n",
       "      <td>False</td>\n",
       "      <td>False</td>\n",
       "      <td>False</td>\n",
       "      <td>False</td>\n",
       "      <td>False</td>\n",
       "      <td>2</td>\n",
       "    </tr>\n",
       "    <tr>\n",
       "      <th>4</th>\n",
       "      <td>201944</td>\n",
       "      <td>11</td>\n",
       "      <td>131</td>\n",
       "      <td>1488</td>\n",
       "      <td>3</td>\n",
       "      <td>30</td>\n",
       "      <td>8</td>\n",
       "      <td>9</td>\n",
       "      <td>t</td>\n",
       "      <td>r</td>\n",
       "      <td>...</td>\n",
       "      <td>False</td>\n",
       "      <td>False</td>\n",
       "      <td>False</td>\n",
       "      <td>False</td>\n",
       "      <td>False</td>\n",
       "      <td>False</td>\n",
       "      <td>False</td>\n",
       "      <td>False</td>\n",
       "      <td>False</td>\n",
       "      <td>3</td>\n",
       "    </tr>\n",
       "  </tbody>\n",
       "</table>\n",
       "<p>5 rows × 40 columns</p>\n",
       "</div>"
      ],
      "text/plain": [
       "   building_id  geo_level_1_id  geo_level_2_id  geo_level_3_id  \\\n",
       "0       802906               6             487           12198   \n",
       "1        28830               8             900            2812   \n",
       "2        94947              21             363            8973   \n",
       "3       590882              22             418           10694   \n",
       "4       201944              11             131            1488   \n",
       "\n",
       "   count_floors_pre_eq  age  area_percentage  height_percentage  \\\n",
       "0                    2   30                6                  5   \n",
       "1                    2   10                8                  7   \n",
       "2                    2   10                5                  5   \n",
       "3                    2   10                6                  5   \n",
       "4                    3   30                8                  9   \n",
       "\n",
       "  land_surface_condition foundation_type  ... has_secondary_use_hotel  \\\n",
       "0                      t               r  ...                   False   \n",
       "1                      o               r  ...                   False   \n",
       "2                      t               r  ...                   False   \n",
       "3                      t               r  ...                   False   \n",
       "4                      t               r  ...                   False   \n",
       "\n",
       "  has_secondary_use_rental has_secondary_use_institution  \\\n",
       "0                    False                         False   \n",
       "1                    False                         False   \n",
       "2                    False                         False   \n",
       "3                    False                         False   \n",
       "4                    False                         False   \n",
       "\n",
       "  has_secondary_use_school has_secondary_use_industry  \\\n",
       "0                    False                      False   \n",
       "1                    False                      False   \n",
       "2                    False                      False   \n",
       "3                    False                      False   \n",
       "4                    False                      False   \n",
       "\n",
       "   has_secondary_use_health_post  has_secondary_use_gov_office  \\\n",
       "0                          False                         False   \n",
       "1                          False                         False   \n",
       "2                          False                         False   \n",
       "3                          False                         False   \n",
       "4                          False                         False   \n",
       "\n",
       "   has_secondary_use_use_police  has_secondary_use_other  damage_grade  \n",
       "0                         False                    False             3  \n",
       "1                         False                    False             2  \n",
       "2                         False                    False             3  \n",
       "3                         False                    False             2  \n",
       "4                         False                    False             3  \n",
       "\n",
       "[5 rows x 40 columns]"
      ]
     },
     "execution_count": 40,
     "metadata": {},
     "output_type": "execute_result"
    }
   ],
   "source": [
    "df = df.merge(df2)\n",
    "df.head()"
   ]
  },
  {
   "cell_type": "code",
   "execution_count": 41,
   "metadata": {},
   "outputs": [],
   "source": [
    "df.to_csv('dataset_v1')"
   ]
  },
  {
   "cell_type": "markdown",
   "metadata": {},
   "source": [
    "### ¿Existe relacion entre la antiguedad de las edificaciones y el nivel de daños registrado a causa del terremoto?"
   ]
  },
  {
   "cell_type": "raw",
   "metadata": {},
   "source": [
    "Hipótesis: \"Es probable que a mayor antiguedad, por el desgaste de los materiales con el tiempo, y el menor avance del desarrollo tecnológico en las construcciones, se evidencien mayores niveles de daño\""
   ]
  },
  {
   "cell_type": "code",
   "execution_count": 42,
   "metadata": {},
   "outputs": [
    {
     "data": {
      "text/plain": [
       "0         30\n",
       "1         10\n",
       "2         10\n",
       "3         10\n",
       "4         30\n",
       "          ..\n",
       "260596    55\n",
       "260597     0\n",
       "260598    55\n",
       "260599    10\n",
       "260600    10\n",
       "Name: age, Length: 260601, dtype: int64"
      ]
     },
     "execution_count": 42,
     "metadata": {},
     "output_type": "execute_result"
    }
   ],
   "source": [
    "df['age']"
   ]
  },
  {
   "cell_type": "code",
   "execution_count": 43,
   "metadata": {},
   "outputs": [
    {
     "data": {
      "text/plain": [
       "Text(0.5, 0, 'nivel de daño')"
      ]
     },
     "execution_count": 43,
     "metadata": {},
     "output_type": "execute_result"
    },
    {
     "data": {
      "image/png": "[encoded data removed]",
      "text/plain": [
       "<Figure size 720x432 with 1 Axes>"
      ]
     },
     "metadata": {
      "needs_background": "light"
     },
     "output_type": "display_data"
    }
   ],
   "source": [
    "grouped_age=df.groupby(['damage_grade']).agg({'age':'mean'}).plot(kind='bar', title='Promedio de antiguedad por el nivel de daños causados con el terremoto', linewidth=2, figsize=(10,6), color='turquoise');\n",
    "ax=plt.gca()\n",
    "ax.set_ylabel('Antiguedad promedio de las edificaciones');\n",
    "ax.set_xlabel('nivel de daño')"
   ]
  },
  {
   "cell_type": "markdown",
   "metadata": {},
   "source": [
    "Las edificaciones con menor nivel de daños, tienen en promedio alrededor de 17 años de antigüedad, y efectivamente para los edificios con mayores daños hay un promedio mayor de años de antiguedad. Sin embargo no se observa demasiada diferencia en años entre las edificaciones con daños medios y las con daños graves. Esto puede dar cuenta de otros factores, más allá de la edad interviniendo."
   ]
  },
  {
   "cell_type": "markdown",
   "metadata": {},
   "source": [
    "A continuacion creo una nueva columna para el data frame, consistente en la variable de interés, restandole 1 a cada valor. Asi daño leve será 0, daño medio será 1 y daño grave será 0"
   ]
  },
  {
   "cell_type": "code",
   "execution_count": 65,
   "metadata": {
    "scrolled": true
   },
   "outputs": [
    {
     "data": {
      "text/plain": [
       "count    260601.000000\n",
       "mean          1.238272\n",
       "std           0.611814\n",
       "min           0.000000\n",
       "25%           1.000000\n",
       "50%           1.000000\n",
       "75%           2.000000\n",
       "max           2.000000\n",
       "Name: damage_grade_b, dtype: float64"
      ]
     },
     "execution_count": 65,
     "metadata": {},
     "output_type": "execute_result"
    }
   ],
   "source": [
    "df['damage_grade_b']=df['damage_grade']-1\n",
    "df['damage_grade_b'].describe()"
   ]
  },
  {
   "cell_type": "code",
   "execution_count": 64,
   "metadata": {},
   "outputs": [
    {
     "data": {
      "text/plain": [
       "Text(0.5, 0, 'Condicion de la superficie de la construccion')"
      ]
     },
     "execution_count": 64,
     "metadata": {},
     "output_type": "execute_result"
    },
    {
     "data": {
      "image/png": "[encoded data removed]",
      "text/plain": [
       "<Figure size 720x432 with 1 Axes>"
      ]
     },
     "metadata": {
      "needs_background": "light"
     },
     "output_type": "display_data"
    }
   ],
   "source": [
    "grouped_age=df.groupby(['age']).agg({'damage_grade':'mean'}).plot(kind='line', title='Niveles de daño con el terremoto segun la condicion de la superficie', linewidth=2, figsize=(10,6), color='turquoise');\n",
    "ax=plt.gca()\n",
    "ax.set_ylabel('Nivel de daño');\n",
    "ax.set_xlabel('Antiguedad en años de la construccion')"
   ]
  },
  {
   "cell_type": "code",
   "execution_count": 72,
   "metadata": {},
   "outputs": [
    {
     "data": {
      "text/plain": [
       "Text(0.5, 0, 'Antiguedad en años de la construccion')"
      ]
     },
     "execution_count": 72,
     "metadata": {},
     "output_type": "execute_result"
    },
    {
     "data": {
      "image/png": "[encoded data removed]",
      "text/plain": [
       "<Figure size 1440x720 with 1 Axes>"
      ]
     },
     "metadata": {
      "needs_background": "light"
     },
     "output_type": "display_data"
    }
   ],
   "source": [
    "grouped_age=df.groupby(['age']).agg({'damage_grade_b':'mean'}).plot(kind='line', title='Niveles de daño con el terremoto segun la condicion de la superficie', linewidth=2, figsize=(20,10), color='turquoise');\n",
    "ax=plt.gca()\n",
    "ax.set_ylabel('Nivel de daño');\n",
    "ax.set_xlabel('Antiguedad en años de la construccion')"
   ]
  },
  {
   "cell_type": "markdown",
   "metadata": {},
   "source": [
    "Aparentemente los edificios muy nuevos son los que tuvieron menor grado de daño. El Nivel de daño aumenta de manera continua hasta los primeros 40 años de antiguedad aproximadamente, luego se experimenta un descenso irregular del grado de daño, pero pasando los 100 años se producen tendencias muy radicales y distintas en cuanto a las consecuencias que dejó el sismo, por lo cual no aventuraría una interpretación al respecto."
   ]
  },
  {
   "cell_type": "code",
   "execution_count": 44,
   "metadata": {},
   "outputs": [
    {
     "data": {
      "text/html": [
       "<div>\n",
       "<style scoped>\n",
       "    .dataframe tbody tr th:only-of-type {\n",
       "        vertical-align: middle;\n",
       "    }\n",
       "\n",
       "    .dataframe tbody tr th {\n",
       "        vertical-align: top;\n",
       "    }\n",
       "\n",
       "    .dataframe thead th {\n",
       "        text-align: right;\n",
       "    }\n",
       "</style>\n",
       "<table border=\"1\" class=\"dataframe\">\n",
       "  <thead>\n",
       "    <tr style=\"text-align: right;\">\n",
       "      <th></th>\n",
       "      <th>geo_level_1_id</th>\n",
       "      <th>geo_level_2_id</th>\n",
       "      <th>geo_level_3_id</th>\n",
       "      <th>count_floors_pre_eq</th>\n",
       "      <th>height_percentage</th>\n",
       "      <th>area_percentage</th>\n",
       "      <th>count_families</th>\n",
       "      <th>age</th>\n",
       "    </tr>\n",
       "  </thead>\n",
       "  <tbody>\n",
       "    <tr>\n",
       "      <th>0</th>\n",
       "      <td>6</td>\n",
       "      <td>487</td>\n",
       "      <td>12198</td>\n",
       "      <td>2</td>\n",
       "      <td>5</td>\n",
       "      <td>6</td>\n",
       "      <td>1</td>\n",
       "      <td>30</td>\n",
       "    </tr>\n",
       "    <tr>\n",
       "      <th>1</th>\n",
       "      <td>8</td>\n",
       "      <td>900</td>\n",
       "      <td>2812</td>\n",
       "      <td>2</td>\n",
       "      <td>7</td>\n",
       "      <td>8</td>\n",
       "      <td>1</td>\n",
       "      <td>10</td>\n",
       "    </tr>\n",
       "    <tr>\n",
       "      <th>2</th>\n",
       "      <td>21</td>\n",
       "      <td>363</td>\n",
       "      <td>8973</td>\n",
       "      <td>2</td>\n",
       "      <td>5</td>\n",
       "      <td>5</td>\n",
       "      <td>1</td>\n",
       "      <td>10</td>\n",
       "    </tr>\n",
       "    <tr>\n",
       "      <th>3</th>\n",
       "      <td>22</td>\n",
       "      <td>418</td>\n",
       "      <td>10694</td>\n",
       "      <td>2</td>\n",
       "      <td>5</td>\n",
       "      <td>6</td>\n",
       "      <td>1</td>\n",
       "      <td>10</td>\n",
       "    </tr>\n",
       "    <tr>\n",
       "      <th>4</th>\n",
       "      <td>11</td>\n",
       "      <td>131</td>\n",
       "      <td>1488</td>\n",
       "      <td>3</td>\n",
       "      <td>9</td>\n",
       "      <td>8</td>\n",
       "      <td>1</td>\n",
       "      <td>30</td>\n",
       "    </tr>\n",
       "    <tr>\n",
       "      <th>...</th>\n",
       "      <td>...</td>\n",
       "      <td>...</td>\n",
       "      <td>...</td>\n",
       "      <td>...</td>\n",
       "      <td>...</td>\n",
       "      <td>...</td>\n",
       "      <td>...</td>\n",
       "      <td>...</td>\n",
       "    </tr>\n",
       "    <tr>\n",
       "      <th>260596</th>\n",
       "      <td>25</td>\n",
       "      <td>1335</td>\n",
       "      <td>1621</td>\n",
       "      <td>1</td>\n",
       "      <td>3</td>\n",
       "      <td>6</td>\n",
       "      <td>1</td>\n",
       "      <td>55</td>\n",
       "    </tr>\n",
       "    <tr>\n",
       "      <th>260597</th>\n",
       "      <td>17</td>\n",
       "      <td>715</td>\n",
       "      <td>2060</td>\n",
       "      <td>2</td>\n",
       "      <td>5</td>\n",
       "      <td>6</td>\n",
       "      <td>1</td>\n",
       "      <td>0</td>\n",
       "    </tr>\n",
       "    <tr>\n",
       "      <th>260598</th>\n",
       "      <td>17</td>\n",
       "      <td>51</td>\n",
       "      <td>8163</td>\n",
       "      <td>3</td>\n",
       "      <td>7</td>\n",
       "      <td>6</td>\n",
       "      <td>1</td>\n",
       "      <td>55</td>\n",
       "    </tr>\n",
       "    <tr>\n",
       "      <th>260599</th>\n",
       "      <td>26</td>\n",
       "      <td>39</td>\n",
       "      <td>1851</td>\n",
       "      <td>2</td>\n",
       "      <td>6</td>\n",
       "      <td>14</td>\n",
       "      <td>1</td>\n",
       "      <td>10</td>\n",
       "    </tr>\n",
       "    <tr>\n",
       "      <th>260600</th>\n",
       "      <td>21</td>\n",
       "      <td>9</td>\n",
       "      <td>9101</td>\n",
       "      <td>3</td>\n",
       "      <td>6</td>\n",
       "      <td>7</td>\n",
       "      <td>3</td>\n",
       "      <td>10</td>\n",
       "    </tr>\n",
       "  </tbody>\n",
       "</table>\n",
       "<p>260601 rows × 8 columns</p>\n",
       "</div>"
      ],
      "text/plain": [
       "        geo_level_1_id  geo_level_2_id  geo_level_3_id  count_floors_pre_eq  \\\n",
       "0                    6             487           12198                    2   \n",
       "1                    8             900            2812                    2   \n",
       "2                   21             363            8973                    2   \n",
       "3                   22             418           10694                    2   \n",
       "4                   11             131            1488                    3   \n",
       "...                ...             ...             ...                  ...   \n",
       "260596              25            1335            1621                    1   \n",
       "260597              17             715            2060                    2   \n",
       "260598              17              51            8163                    3   \n",
       "260599              26              39            1851                    2   \n",
       "260600              21               9            9101                    3   \n",
       "\n",
       "        height_percentage  area_percentage  count_families  age  \n",
       "0                       5                6               1   30  \n",
       "1                       7                8               1   10  \n",
       "2                       5                5               1   10  \n",
       "3                       5                6               1   10  \n",
       "4                       9                8               1   30  \n",
       "...                   ...              ...             ...  ...  \n",
       "260596                  3                6               1   55  \n",
       "260597                  5                6               1    0  \n",
       "260598                  7                6               1   55  \n",
       "260599                  6               14               1   10  \n",
       "260600                  6                7               3   10  \n",
       "\n",
       "[260601 rows x 8 columns]"
      ]
     },
     "execution_count": 44,
     "metadata": {},
     "output_type": "execute_result"
    }
   ],
   "source": [
    "df_entero=df[['geo_level_1_id','geo_level_2_id','geo_level_3_id','count_floors_pre_eq','height_percentage','area_percentage','count_families','age']]\n",
    "df_entero"
   ]
  },
  {
   "cell_type": "code",
   "execution_count": 45,
   "metadata": {},
   "outputs": [
    {
     "data": {
      "text/plain": [
       "count    260601.000000\n",
       "mean          5.434365\n",
       "std           1.918418\n",
       "min           2.000000\n",
       "25%           4.000000\n",
       "50%           5.000000\n",
       "75%           6.000000\n",
       "max          32.000000\n",
       "Name: height_percentage, dtype: float64"
      ]
     },
     "execution_count": 45,
     "metadata": {},
     "output_type": "execute_result"
    }
   ],
   "source": [
    "df_entero['height_percentage'].describe()"
   ]
  },
  {
   "cell_type": "code",
   "execution_count": 46,
   "metadata": {},
   "outputs": [
    {
     "data": {
      "text/plain": [
       "count    260601.000000\n",
       "mean          8.018051\n",
       "std           4.392231\n",
       "min           1.000000\n",
       "25%           5.000000\n",
       "50%           7.000000\n",
       "75%           9.000000\n",
       "max         100.000000\n",
       "Name: area_percentage, dtype: float64"
      ]
     },
     "execution_count": 46,
     "metadata": {},
     "output_type": "execute_result"
    }
   ],
   "source": [
    "df_entero['area_percentage'].describe()"
   ]
  },
  {
   "cell_type": "code",
   "execution_count": 47,
   "metadata": {},
   "outputs": [],
   "source": [
    "df_int_escalado_simple=pd.DataFrame()"
   ]
  },
  {
   "cell_type": "code",
   "execution_count": 48,
   "metadata": {},
   "outputs": [
    {
     "data": {
      "text/html": [
       "<div>\n",
       "<style scoped>\n",
       "    .dataframe tbody tr th:only-of-type {\n",
       "        vertical-align: middle;\n",
       "    }\n",
       "\n",
       "    .dataframe tbody tr th {\n",
       "        vertical-align: top;\n",
       "    }\n",
       "\n",
       "    .dataframe thead th {\n",
       "        text-align: right;\n",
       "    }\n",
       "</style>\n",
       "<table border=\"1\" class=\"dataframe\">\n",
       "  <thead>\n",
       "    <tr style=\"text-align: right;\">\n",
       "      <th></th>\n",
       "      <th>count_floors_pre_eq</th>\n",
       "      <th>height_percentage</th>\n",
       "      <th>area_percentage</th>\n",
       "      <th>count_families</th>\n",
       "      <th>age</th>\n",
       "    </tr>\n",
       "  </thead>\n",
       "  <tbody>\n",
       "    <tr>\n",
       "      <th>0</th>\n",
       "      <td>0.222222</td>\n",
       "      <td>0.15625</td>\n",
       "      <td>0.06</td>\n",
       "      <td>0.111111</td>\n",
       "      <td>0.030151</td>\n",
       "    </tr>\n",
       "    <tr>\n",
       "      <th>1</th>\n",
       "      <td>0.222222</td>\n",
       "      <td>0.21875</td>\n",
       "      <td>0.08</td>\n",
       "      <td>0.111111</td>\n",
       "      <td>0.010050</td>\n",
       "    </tr>\n",
       "    <tr>\n",
       "      <th>2</th>\n",
       "      <td>0.222222</td>\n",
       "      <td>0.15625</td>\n",
       "      <td>0.05</td>\n",
       "      <td>0.111111</td>\n",
       "      <td>0.010050</td>\n",
       "    </tr>\n",
       "    <tr>\n",
       "      <th>3</th>\n",
       "      <td>0.222222</td>\n",
       "      <td>0.15625</td>\n",
       "      <td>0.06</td>\n",
       "      <td>0.111111</td>\n",
       "      <td>0.010050</td>\n",
       "    </tr>\n",
       "    <tr>\n",
       "      <th>4</th>\n",
       "      <td>0.333333</td>\n",
       "      <td>0.28125</td>\n",
       "      <td>0.08</td>\n",
       "      <td>0.111111</td>\n",
       "      <td>0.030151</td>\n",
       "    </tr>\n",
       "    <tr>\n",
       "      <th>...</th>\n",
       "      <td>...</td>\n",
       "      <td>...</td>\n",
       "      <td>...</td>\n",
       "      <td>...</td>\n",
       "      <td>...</td>\n",
       "    </tr>\n",
       "    <tr>\n",
       "      <th>260596</th>\n",
       "      <td>0.111111</td>\n",
       "      <td>0.09375</td>\n",
       "      <td>0.06</td>\n",
       "      <td>0.111111</td>\n",
       "      <td>0.055276</td>\n",
       "    </tr>\n",
       "    <tr>\n",
       "      <th>260597</th>\n",
       "      <td>0.222222</td>\n",
       "      <td>0.15625</td>\n",
       "      <td>0.06</td>\n",
       "      <td>0.111111</td>\n",
       "      <td>0.000000</td>\n",
       "    </tr>\n",
       "    <tr>\n",
       "      <th>260598</th>\n",
       "      <td>0.333333</td>\n",
       "      <td>0.21875</td>\n",
       "      <td>0.06</td>\n",
       "      <td>0.111111</td>\n",
       "      <td>0.055276</td>\n",
       "    </tr>\n",
       "    <tr>\n",
       "      <th>260599</th>\n",
       "      <td>0.222222</td>\n",
       "      <td>0.18750</td>\n",
       "      <td>0.14</td>\n",
       "      <td>0.111111</td>\n",
       "      <td>0.010050</td>\n",
       "    </tr>\n",
       "    <tr>\n",
       "      <th>260600</th>\n",
       "      <td>0.333333</td>\n",
       "      <td>0.18750</td>\n",
       "      <td>0.07</td>\n",
       "      <td>0.333333</td>\n",
       "      <td>0.010050</td>\n",
       "    </tr>\n",
       "  </tbody>\n",
       "</table>\n",
       "<p>260601 rows × 5 columns</p>\n",
       "</div>"
      ],
      "text/plain": [
       "        count_floors_pre_eq  height_percentage  area_percentage  \\\n",
       "0                  0.222222            0.15625             0.06   \n",
       "1                  0.222222            0.21875             0.08   \n",
       "2                  0.222222            0.15625             0.05   \n",
       "3                  0.222222            0.15625             0.06   \n",
       "4                  0.333333            0.28125             0.08   \n",
       "...                     ...                ...              ...   \n",
       "260596             0.111111            0.09375             0.06   \n",
       "260597             0.222222            0.15625             0.06   \n",
       "260598             0.333333            0.21875             0.06   \n",
       "260599             0.222222            0.18750             0.14   \n",
       "260600             0.333333            0.18750             0.07   \n",
       "\n",
       "        count_families       age  \n",
       "0             0.111111  0.030151  \n",
       "1             0.111111  0.010050  \n",
       "2             0.111111  0.010050  \n",
       "3             0.111111  0.010050  \n",
       "4             0.111111  0.030151  \n",
       "...                ...       ...  \n",
       "260596        0.111111  0.055276  \n",
       "260597        0.111111  0.000000  \n",
       "260598        0.111111  0.055276  \n",
       "260599        0.111111  0.010050  \n",
       "260600        0.333333  0.010050  \n",
       "\n",
       "[260601 rows x 5 columns]"
      ]
     },
     "execution_count": 48,
     "metadata": {},
     "output_type": "execute_result"
    }
   ],
   "source": [
    "df_int_escalado_simple['count_floors_pre_eq']=df_entero['count_floors_pre_eq']/df_entero['count_floors_pre_eq'].max()\n",
    "df_int_escalado_simple['height_percentage']=df_entero['height_percentage']/df_entero['height_percentage'].max()\n",
    "df_int_escalado_simple['area_percentage']=df_entero['area_percentage']/100\n",
    "df_int_escalado_simple['count_families']=df_entero['count_families']/df_entero['count_families'].max()\n",
    "df_int_escalado_simple['age']=df_entero['age']/df_entero['age'].max()\n",
    "df_int_escalado_simple"
   ]
  },
  {
   "cell_type": "code",
   "execution_count": 49,
   "metadata": {},
   "outputs": [
    {
     "name": "stderr",
     "output_type": "stream",
     "text": [
      "c:\\users\\patricio\\appdata\\local\\programs\\python\\python37-32\\lib\\site-packages\\ipykernel_launcher.py:6: MatplotlibDeprecationWarning: Case-insensitive properties were deprecated in 3.3 and support will be removed two minor releases later\n",
      "  \n"
     ]
    },
    {
     "data": {
      "text/plain": [
       "Text(0.5, 1.0, 'Análsis de correlación de los datos numéricos')"
      ]
     },
     "execution_count": 49,
     "metadata": {},
     "output_type": "execute_result"
    },
    {
     "data": {
      "image/png": "[encoded data removed]",
      "text/plain": [
       "<Figure size 1080x1080 with 2 Axes>"
      ]
     },
     "metadata": {
      "needs_background": "light"
     },
     "output_type": "display_data"
    }
   ],
   "source": [
    "plt.figure(figsize=(15, 15))\n",
    "titulo='Análsis de correlación de los datos numéricos'\n",
    "\n",
    "sns.heatmap(df_int_escalado_simple.corr(), square=True, annot=True, fmt='.2f', cmap=\"YlGnBu\");\n",
    "plt.xticks(rotation=75)\n",
    "plt.title(titulo,fontSize=18)\n"
   ]
  },
  {
   "cell_type": "code",
   "execution_count": 50,
   "metadata": {},
   "outputs": [],
   "source": [
    "df_int_minimo_maximo=pd.DataFrame()"
   ]
  },
  {
   "cell_type": "code",
   "execution_count": 52,
   "metadata": {},
   "outputs": [
    {
     "data": {
      "text/html": [
       "<div>\n",
       "<style scoped>\n",
       "    .dataframe tbody tr th:only-of-type {\n",
       "        vertical-align: middle;\n",
       "    }\n",
       "\n",
       "    .dataframe tbody tr th {\n",
       "        vertical-align: top;\n",
       "    }\n",
       "\n",
       "    .dataframe thead th {\n",
       "        text-align: right;\n",
       "    }\n",
       "</style>\n",
       "<table border=\"1\" class=\"dataframe\">\n",
       "  <thead>\n",
       "    <tr style=\"text-align: right;\">\n",
       "      <th></th>\n",
       "      <th>count_floors_pre_eq</th>\n",
       "      <th>height_percentage</th>\n",
       "      <th>area_percentage</th>\n",
       "      <th>count_families</th>\n",
       "      <th>age</th>\n",
       "    </tr>\n",
       "  </thead>\n",
       "  <tbody>\n",
       "    <tr>\n",
       "      <th>0</th>\n",
       "      <td>0.125</td>\n",
       "      <td>0.100000</td>\n",
       "      <td>0.050505</td>\n",
       "      <td>0.111111</td>\n",
       "      <td>0.030151</td>\n",
       "    </tr>\n",
       "    <tr>\n",
       "      <th>1</th>\n",
       "      <td>0.125</td>\n",
       "      <td>0.166667</td>\n",
       "      <td>0.070707</td>\n",
       "      <td>0.111111</td>\n",
       "      <td>0.010050</td>\n",
       "    </tr>\n",
       "    <tr>\n",
       "      <th>2</th>\n",
       "      <td>0.125</td>\n",
       "      <td>0.100000</td>\n",
       "      <td>0.040404</td>\n",
       "      <td>0.111111</td>\n",
       "      <td>0.010050</td>\n",
       "    </tr>\n",
       "    <tr>\n",
       "      <th>3</th>\n",
       "      <td>0.125</td>\n",
       "      <td>0.100000</td>\n",
       "      <td>0.050505</td>\n",
       "      <td>0.111111</td>\n",
       "      <td>0.010050</td>\n",
       "    </tr>\n",
       "    <tr>\n",
       "      <th>4</th>\n",
       "      <td>0.250</td>\n",
       "      <td>0.233333</td>\n",
       "      <td>0.070707</td>\n",
       "      <td>0.111111</td>\n",
       "      <td>0.030151</td>\n",
       "    </tr>\n",
       "    <tr>\n",
       "      <th>...</th>\n",
       "      <td>...</td>\n",
       "      <td>...</td>\n",
       "      <td>...</td>\n",
       "      <td>...</td>\n",
       "      <td>...</td>\n",
       "    </tr>\n",
       "    <tr>\n",
       "      <th>260596</th>\n",
       "      <td>0.000</td>\n",
       "      <td>0.033333</td>\n",
       "      <td>0.050505</td>\n",
       "      <td>0.111111</td>\n",
       "      <td>0.055276</td>\n",
       "    </tr>\n",
       "    <tr>\n",
       "      <th>260597</th>\n",
       "      <td>0.125</td>\n",
       "      <td>0.100000</td>\n",
       "      <td>0.050505</td>\n",
       "      <td>0.111111</td>\n",
       "      <td>0.000000</td>\n",
       "    </tr>\n",
       "    <tr>\n",
       "      <th>260598</th>\n",
       "      <td>0.250</td>\n",
       "      <td>0.166667</td>\n",
       "      <td>0.050505</td>\n",
       "      <td>0.111111</td>\n",
       "      <td>0.055276</td>\n",
       "    </tr>\n",
       "    <tr>\n",
       "      <th>260599</th>\n",
       "      <td>0.125</td>\n",
       "      <td>0.133333</td>\n",
       "      <td>0.131313</td>\n",
       "      <td>0.111111</td>\n",
       "      <td>0.010050</td>\n",
       "    </tr>\n",
       "    <tr>\n",
       "      <th>260600</th>\n",
       "      <td>0.250</td>\n",
       "      <td>0.133333</td>\n",
       "      <td>0.060606</td>\n",
       "      <td>0.333333</td>\n",
       "      <td>0.010050</td>\n",
       "    </tr>\n",
       "  </tbody>\n",
       "</table>\n",
       "<p>260601 rows × 5 columns</p>\n",
       "</div>"
      ],
      "text/plain": [
       "        count_floors_pre_eq  height_percentage  area_percentage  \\\n",
       "0                     0.125           0.100000         0.050505   \n",
       "1                     0.125           0.166667         0.070707   \n",
       "2                     0.125           0.100000         0.040404   \n",
       "3                     0.125           0.100000         0.050505   \n",
       "4                     0.250           0.233333         0.070707   \n",
       "...                     ...                ...              ...   \n",
       "260596                0.000           0.033333         0.050505   \n",
       "260597                0.125           0.100000         0.050505   \n",
       "260598                0.250           0.166667         0.050505   \n",
       "260599                0.125           0.133333         0.131313   \n",
       "260600                0.250           0.133333         0.060606   \n",
       "\n",
       "        count_families       age  \n",
       "0             0.111111  0.030151  \n",
       "1             0.111111  0.010050  \n",
       "2             0.111111  0.010050  \n",
       "3             0.111111  0.010050  \n",
       "4             0.111111  0.030151  \n",
       "...                ...       ...  \n",
       "260596        0.111111  0.055276  \n",
       "260597        0.111111  0.000000  \n",
       "260598        0.111111  0.055276  \n",
       "260599        0.111111  0.010050  \n",
       "260600        0.333333  0.010050  \n",
       "\n",
       "[260601 rows x 5 columns]"
      ]
     },
     "execution_count": 52,
     "metadata": {},
     "output_type": "execute_result"
    }
   ],
   "source": [
    "df_int_minimo_maximo['count_floors_pre_eq']=(df_entero['count_floors_pre_eq']-df_entero['count_floors_pre_eq'].min())/(df_entero['count_floors_pre_eq'].max()-df_entero['count_floors_pre_eq'].min())\n",
    "df_int_minimo_maximo['height_percentage']=(df_entero['height_percentage']-df_entero['height_percentage'].min())/(df_entero['height_percentage'].max()-df_entero['height_percentage'].min())\n",
    "df_int_minimo_maximo['area_percentage']=(df_entero['area_percentage']-df_entero['area_percentage'].min())/(df_entero['area_percentage'].max()-df_entero['area_percentage'].min())\n",
    "df_int_minimo_maximo['count_families']=(df_entero['count_families']-df_entero['count_families'].min())/(df_entero['count_families'].max()-df_entero['count_families'].min())\n",
    "df_int_minimo_maximo['age']=(df_entero['age']-df_entero['age'].min())/(df_entero['age'].max()-df_entero['age'].min())\n",
    "df_int_minimo_maximo"
   ]
  },
  {
   "cell_type": "code",
   "execution_count": 53,
   "metadata": {},
   "outputs": [
    {
     "name": "stderr",
     "output_type": "stream",
     "text": [
      "c:\\users\\patricio\\appdata\\local\\programs\\python\\python37-32\\lib\\site-packages\\ipykernel_launcher.py:6: MatplotlibDeprecationWarning: Case-insensitive properties were deprecated in 3.3 and support will be removed two minor releases later\n",
      "  \n"
     ]
    },
    {
     "data": {
      "text/plain": [
       "Text(0.5, 1.0, 'Análsis de correlación de los datos numéricos')"
      ]
     },
     "execution_count": 53,
     "metadata": {},
     "output_type": "execute_result"
    },
    {
     "data": {
      "image/png": "[encoded data removed]",
      "text/plain": [
       "<Figure size 1080x1080 with 2 Axes>"
      ]
     },
     "metadata": {
      "needs_background": "light"
     },
     "output_type": "display_data"
    }
   ],
   "source": [
    "plt.figure(figsize=(15, 15))\n",
    "titulo='Análsis de correlación de los datos numéricos'\n",
    "\n",
    "sns.heatmap(df_int_minimo_maximo.corr(), square=True, annot=True, fmt='.2f', cmap=\"YlGnBu\");\n",
    "plt.xticks(rotation=75)\n",
    "plt.title(titulo,fontSize=18)\n"
   ]
  },
  {
   "cell_type": "code",
   "execution_count": 54,
   "metadata": {},
   "outputs": [],
   "source": [
    "df_int_z_score=pd.DataFrame()"
   ]
  },
  {
   "cell_type": "code",
   "execution_count": 56,
   "metadata": {},
   "outputs": [
    {
     "data": {
      "text/html": [
       "<div>\n",
       "<style scoped>\n",
       "    .dataframe tbody tr th:only-of-type {\n",
       "        vertical-align: middle;\n",
       "    }\n",
       "\n",
       "    .dataframe tbody tr th {\n",
       "        vertical-align: top;\n",
       "    }\n",
       "\n",
       "    .dataframe thead th {\n",
       "        text-align: right;\n",
       "    }\n",
       "</style>\n",
       "<table border=\"1\" class=\"dataframe\">\n",
       "  <thead>\n",
       "    <tr style=\"text-align: right;\">\n",
       "      <th></th>\n",
       "      <th>count_floors_pre_eq</th>\n",
       "      <th>height_percentage</th>\n",
       "      <th>area_percentage</th>\n",
       "      <th>count_families</th>\n",
       "      <th>age</th>\n",
       "    </tr>\n",
       "  </thead>\n",
       "  <tbody>\n",
       "    <tr>\n",
       "      <th>0</th>\n",
       "      <td>-0.178273</td>\n",
       "      <td>-0.226418</td>\n",
       "      <td>-0.459459</td>\n",
       "      <td>0.038365</td>\n",
       "      <td>0.047100</td>\n",
       "    </tr>\n",
       "    <tr>\n",
       "      <th>1</th>\n",
       "      <td>-0.178273</td>\n",
       "      <td>0.816107</td>\n",
       "      <td>-0.004110</td>\n",
       "      <td>0.038365</td>\n",
       "      <td>-0.224765</td>\n",
       "    </tr>\n",
       "    <tr>\n",
       "      <th>2</th>\n",
       "      <td>-0.178273</td>\n",
       "      <td>-0.226418</td>\n",
       "      <td>-0.687134</td>\n",
       "      <td>0.038365</td>\n",
       "      <td>-0.224765</td>\n",
       "    </tr>\n",
       "    <tr>\n",
       "      <th>3</th>\n",
       "      <td>-0.178273</td>\n",
       "      <td>-0.226418</td>\n",
       "      <td>-0.459459</td>\n",
       "      <td>0.038365</td>\n",
       "      <td>-0.224765</td>\n",
       "    </tr>\n",
       "    <tr>\n",
       "      <th>4</th>\n",
       "      <td>1.195986</td>\n",
       "      <td>1.858633</td>\n",
       "      <td>-0.004110</td>\n",
       "      <td>0.038365</td>\n",
       "      <td>0.047100</td>\n",
       "    </tr>\n",
       "    <tr>\n",
       "      <th>...</th>\n",
       "      <td>...</td>\n",
       "      <td>...</td>\n",
       "      <td>...</td>\n",
       "      <td>...</td>\n",
       "      <td>...</td>\n",
       "    </tr>\n",
       "    <tr>\n",
       "      <th>260596</th>\n",
       "      <td>-1.552533</td>\n",
       "      <td>-1.268944</td>\n",
       "      <td>-0.459459</td>\n",
       "      <td>0.038365</td>\n",
       "      <td>0.386931</td>\n",
       "    </tr>\n",
       "    <tr>\n",
       "      <th>260597</th>\n",
       "      <td>-0.178273</td>\n",
       "      <td>-0.226418</td>\n",
       "      <td>-0.459459</td>\n",
       "      <td>0.038365</td>\n",
       "      <td>-0.360697</td>\n",
       "    </tr>\n",
       "    <tr>\n",
       "      <th>260598</th>\n",
       "      <td>1.195986</td>\n",
       "      <td>0.816107</td>\n",
       "      <td>-0.459459</td>\n",
       "      <td>0.038365</td>\n",
       "      <td>0.386931</td>\n",
       "    </tr>\n",
       "    <tr>\n",
       "      <th>260599</th>\n",
       "      <td>-0.178273</td>\n",
       "      <td>0.294844</td>\n",
       "      <td>1.361939</td>\n",
       "      <td>0.038365</td>\n",
       "      <td>-0.224765</td>\n",
       "    </tr>\n",
       "    <tr>\n",
       "      <th>260600</th>\n",
       "      <td>1.195986</td>\n",
       "      <td>0.294844</td>\n",
       "      <td>-0.231784</td>\n",
       "      <td>4.818605</td>\n",
       "      <td>-0.224765</td>\n",
       "    </tr>\n",
       "  </tbody>\n",
       "</table>\n",
       "<p>260601 rows × 5 columns</p>\n",
       "</div>"
      ],
      "text/plain": [
       "        count_floors_pre_eq  height_percentage  area_percentage  \\\n",
       "0                 -0.178273          -0.226418        -0.459459   \n",
       "1                 -0.178273           0.816107        -0.004110   \n",
       "2                 -0.178273          -0.226418        -0.687134   \n",
       "3                 -0.178273          -0.226418        -0.459459   \n",
       "4                  1.195986           1.858633        -0.004110   \n",
       "...                     ...                ...              ...   \n",
       "260596            -1.552533          -1.268944        -0.459459   \n",
       "260597            -0.178273          -0.226418        -0.459459   \n",
       "260598             1.195986           0.816107        -0.459459   \n",
       "260599            -0.178273           0.294844         1.361939   \n",
       "260600             1.195986           0.294844        -0.231784   \n",
       "\n",
       "        count_families       age  \n",
       "0             0.038365  0.047100  \n",
       "1             0.038365 -0.224765  \n",
       "2             0.038365 -0.224765  \n",
       "3             0.038365 -0.224765  \n",
       "4             0.038365  0.047100  \n",
       "...                ...       ...  \n",
       "260596        0.038365  0.386931  \n",
       "260597        0.038365 -0.360697  \n",
       "260598        0.038365  0.386931  \n",
       "260599        0.038365 -0.224765  \n",
       "260600        4.818605 -0.224765  \n",
       "\n",
       "[260601 rows x 5 columns]"
      ]
     },
     "execution_count": 56,
     "metadata": {},
     "output_type": "execute_result"
    }
   ],
   "source": [
    "df_int_z_score['count_floors_pre_eq']=(df_entero['count_floors_pre_eq']-df_entero['count_floors_pre_eq'].mean())/df_entero['count_floors_pre_eq'].std()\n",
    "df_int_z_score['height_percentage']=(df_entero['height_percentage']-df_entero['height_percentage'].mean())/df_entero['height_percentage'].std()\n",
    "df_int_z_score['area_percentage']=(df_entero['area_percentage']-df_entero['area_percentage'].mean())/df_entero['area_percentage'].std()\n",
    "df_int_z_score['count_families']=(df_entero['count_families']-df_entero['count_families'].mean())/df_entero['count_families'].std()\n",
    "df_int_z_score['age']=(df_entero['age']-df_entero['age'].mean())/df_entero['age'].std()\n",
    "df_int_z_score"
   ]
  },
  {
   "cell_type": "code",
   "execution_count": 57,
   "metadata": {},
   "outputs": [
    {
     "name": "stderr",
     "output_type": "stream",
     "text": [
      "c:\\users\\patricio\\appdata\\local\\programs\\python\\python37-32\\lib\\site-packages\\ipykernel_launcher.py:6: MatplotlibDeprecationWarning: Case-insensitive properties were deprecated in 3.3 and support will be removed two minor releases later\n",
      "  \n"
     ]
    },
    {
     "data": {
      "text/plain": [
       "Text(0.5, 1.0, 'Análsis de correlación de los datos numéricos')"
      ]
     },
     "execution_count": 57,
     "metadata": {},
     "output_type": "execute_result"
    },
    {
     "data": {
      "image/png": "[encoded data removed]",
      "text/plain": [
       "<Figure size 1080x1080 with 2 Axes>"
      ]
     },
     "metadata": {
      "needs_background": "light"
     },
     "output_type": "display_data"
    }
   ],
   "source": [
    "plt.figure(figsize=(15, 15))\n",
    "titulo='Análsis de correlación de los datos numéricos'\n",
    "\n",
    "sns.heatmap(df_int_z_score.corr(), square=True, annot=True, fmt='.2f', cmap=\"YlGnBu\");\n",
    "plt.xticks(rotation=75)\n",
    "plt.title(titulo,fontSize=18)"
   ]
  },
  {
   "cell_type": "markdown",
   "metadata": {},
   "source": [
    "### ¿Habrá ciertos tipos de condiciones de la superficie terrestre en que los edificios fueron construidos, asociadas a los niveles de daño registrados en estos?"
   ]
  },
  {
   "cell_type": "markdown",
   "metadata": {},
   "source": [
    "Hipótesis: “Parece razonable que distintas condiciones en el suelo de la edificación haya contribuido a resistir mejor o peor a la catástrofe”"
   ]
  },
  {
   "cell_type": "code",
   "execution_count": 76,
   "metadata": {},
   "outputs": [
    {
     "data": {
      "text/plain": [
       "Text(0.5, 0, 'Condicion de la superficie de la construccion')"
      ]
     },
     "execution_count": 76,
     "metadata": {},
     "output_type": "execute_result"
    },
    {
     "data": {
      "image/png": "[encoded data removed]",
      "text/plain": [
       "<Figure size 720x432 with 1 Axes>"
      ]
     },
     "metadata": {
      "needs_background": "light"
     },
     "output_type": "display_data"
    }
   ],
   "source": [
    "grouped_age=df.groupby(['land_surface_condition']).agg({'damage_grade':'mean'}).plot(kind='bar', title='Niveles de daño con el terremoto segun la condicion de la superficie', linewidth=2, figsize=(10,6), color='skyblue');\n",
    "ax=plt.gca()\n",
    "ax.set_ylabel('Nivel de daño');\n",
    "ax.set_xlabel('Condicion de la superficie de la construccion')"
   ]
  },
  {
   "cell_type": "code",
   "execution_count": 77,
   "metadata": {},
   "outputs": [
    {
     "data": {
      "text/plain": [
       "Text(0.5, 0, 'Condicion de la superficie de la construccion')"
      ]
     },
     "execution_count": 77,
     "metadata": {},
     "output_type": "execute_result"
    },
    {
     "data": {
      "image/png": "[encoded data removed]",
      "text/plain": [
       "<Figure size 720x432 with 1 Axes>"
      ]
     },
     "metadata": {
      "needs_background": "light"
     },
     "output_type": "display_data"
    }
   ],
   "source": [
    "grouped_age=df.groupby(['land_surface_condition']).agg({'damage_grade_b':'mean'}).plot(kind='bar', title='Niveles de daño con el terremoto segun la condicion de la superficie', linewidth=2, figsize=(10,6), color='indigo');\n",
    "ax=plt.gca()\n",
    "ax.set_ylabel('Nivel de daño');\n",
    "ax.set_xlabel('Condicion de la superficie de la construccion')"
   ]
  },
  {
   "cell_type": "code",
   "execution_count": 73,
   "metadata": {},
   "outputs": [
    {
     "data": {
      "text/plain": [
       "Text(0.5, 0, 'Nivel de daño')"
      ]
     },
     "execution_count": 73,
     "metadata": {},
     "output_type": "execute_result"
    },
    {
     "data": {
      "image/png": "[encoded data removed]",
      "text/plain": [
       "<Figure size 720x432 with 1 Axes>"
      ]
     },
     "metadata": {
      "needs_background": "light"
     },
     "output_type": "display_data"
    }
   ],
   "source": [
    "grouped_count_families=df.groupby(['damage_grade']).agg({'count_families':'mean'}).plot(kind='bar', title='Niveles de daño con el terremoto segun la condicion de la superficie', linewidth=2, figsize=(10,6), color='turquoise');\n",
    "ax=plt.gca()\n",
    "ax.set_ylabel('Cantidad de miembros promedio en el grupo familiar');\n",
    "ax.set_xlabel('Nivel de daño')"
   ]
  },
  {
   "cell_type": "code",
   "execution_count": 74,
   "metadata": {},
   "outputs": [
    {
     "data": {
      "text/plain": [
       "1    226115\n",
       "0     20862\n",
       "2     11294\n",
       "3      1802\n",
       "4       389\n",
       "5       104\n",
       "6        22\n",
       "7         7\n",
       "9         4\n",
       "8         2\n",
       "Name: count_families, dtype: int64"
      ]
     },
     "execution_count": 74,
     "metadata": {},
     "output_type": "execute_result"
    }
   ],
   "source": [
    "df['count_families'].value_counts()"
   ]
  },
  {
   "cell_type": "code",
   "execution_count": 88,
   "metadata": {},
   "outputs": [
    {
     "data": {
      "text/plain": [
       "Text(0.5, 0, 'Nivel de daño')"
      ]
     },
     "execution_count": 88,
     "metadata": {},
     "output_type": "execute_result"
    },
    {
     "data": {
      "image/png": "[encoded data removed]",
      "text/plain": [
       "<Figure size 720x432 with 1 Axes>"
      ]
     },
     "metadata": {
      "needs_background": "light"
     },
     "output_type": "display_data"
    }
   ],
   "source": [
    "grouped_count_families=df.groupby(['damage_grade']).agg({'area_percentage':'mean'}).plot(kind='bar', title='Niveles de daño con el terremoto segun la condicion de la superficie', linewidth=2, figsize=(10,6), color='royalblue');\n",
    "ax=plt.gca()\n",
    "ax.set_ylabel('Superficie normalizada ocupada por la edificación');\n",
    "ax.set_xlabel('Nivel de daño')"
   ]
  },
  {
   "cell_type": "markdown",
   "metadata": {},
   "source": [
    "Existe una relacion inversa, no tan marcada entre area y gravedad de daños con el terremoto. Los niveles mas leves de daño están asociados con areas más amplias, y a la inversa los niveles más graves de daño se asocian a areas en promedio más reducidas."
   ]
  }
 ],
 "metadata": {
  "kernelspec": {
   "display_name": "Python 3",
   "language": "python",
   "name": "python3"
  },
  "language_info": {
   "codemirror_mode": {
    "name": "ipython",
    "version": 3
   },
   "file_extension": ".py",
   "mimetype": "text/x-python",
   "name": "python",
   "nbconvert_exporter": "python",
   "pygments_lexer": "ipython3",
   "version": "3.7.2"
  }
 },
 "nbformat": 4,
 "nbformat_minor": 2
}
