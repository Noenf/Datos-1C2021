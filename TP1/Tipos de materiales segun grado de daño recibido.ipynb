{
 "cells": [
  {
   "cell_type": "code",
   "execution_count": 1,
   "metadata": {},
   "outputs": [],
   "source": [
    "import pandas as pd\n",
    "import matplotlib.pyplot as plt\n",
    "import numpy as np"
   ]
  },
  {
   "cell_type": "markdown",
   "metadata": {},
   "source": [
    "## Analisis sobre el tipo de material utilizado en la construcción y el grado de daño obtenido"
   ]
  },
  {
   "cell_type": "markdown",
   "metadata": {},
   "source": [
    "De este tipo de relación se puede llegar a observar cuales son los materiales que son mas propensos a tener mayor magnitud de daño"
   ]
  },
  {
   "cell_type": "code",
   "execution_count": 2,
   "metadata": {},
   "outputs": [],
   "source": [
    "edificacion = pd.read_csv('dataset_v1')"
   ]
  },
  {
   "cell_type": "code",
   "execution_count": 4,
   "metadata": {},
   "outputs": [
    {
     "data": {
      "text/plain": [
       "2    148259\n",
       "3     87218\n",
       "1     25124\n",
       "Name: damage_grade, dtype: int64"
      ]
     },
     "execution_count": 4,
     "metadata": {},
     "output_type": "execute_result"
    }
   ],
   "source": [
    "edificacion.damage_grade.value_counts()"
   ]
  },
  {
   "cell_type": "code",
   "execution_count": 5,
   "metadata": {},
   "outputs": [],
   "source": [
    "edificacion_segun_daño_1 = edificacion.loc[edificacion['damage_grade']==1,['has_superstructure_adobe_mud',\\\n",
    "                'has_superstructure_mud_mortar_stone','has_superstructure_stone_flag',\\\n",
    "                'has_superstructure_cement_mortar_stone','has_superstructure_mud_mortar_brick',\\\n",
    "                'has_superstructure_cement_mortar_brick', 'has_superstructure_timber',\\\n",
    "                'has_superstructure_bamboo','has_superstructure_rc_non_engineered',\\\n",
    "                'has_superstructure_rc_engineered','has_superstructure_other'     \n",
    "]]"
   ]
  },
  {
   "cell_type": "code",
   "execution_count": 6,
   "metadata": {},
   "outputs": [],
   "source": [
    "edificacion_segun_daño_2 = edificacion.loc[edificacion['damage_grade']==2,['has_superstructure_adobe_mud',\\\n",
    "                'has_superstructure_mud_mortar_stone','has_superstructure_stone_flag',\\\n",
    "                'has_superstructure_cement_mortar_stone','has_superstructure_mud_mortar_brick',\\\n",
    "                'has_superstructure_cement_mortar_brick', 'has_superstructure_timber',\\\n",
    "                'has_superstructure_bamboo','has_superstructure_rc_non_engineered',\\\n",
    "                'has_superstructure_rc_engineered','has_superstructure_other'     \n",
    "]]"
   ]
  },
  {
   "cell_type": "code",
   "execution_count": 7,
   "metadata": {},
   "outputs": [],
   "source": [
    "edificacion_segun_daño_3 = edificacion.loc[edificacion['damage_grade']==3,['has_superstructure_adobe_mud',\\\n",
    "                'has_superstructure_mud_mortar_stone','has_superstructure_stone_flag',\\\n",
    "                'has_superstructure_cement_mortar_stone','has_superstructure_mud_mortar_brick',\\\n",
    "                'has_superstructure_cement_mortar_brick', 'has_superstructure_timber',\\\n",
    "                'has_superstructure_bamboo','has_superstructure_rc_non_engineered',\\\n",
    "                'has_superstructure_rc_engineered','has_superstructure_other'     \n",
    "]]"
   ]
  },
  {
   "cell_type": "code",
   "execution_count": 24,
   "metadata": {},
   "outputs": [
    {
     "data": {
      "text/plain": [
       "False"
      ]
     },
     "execution_count": 24,
     "metadata": {},
     "output_type": "execute_result"
    }
   ],
   "source": [
    "edificacion_segun_daño_3.loc[edificacion_segun_daño_3.has_superstructure_adobe_mud == True,\\\n",
    "                             ['has_superstructure_adobe_mud']].count().isnull().tolist()[0]"
   ]
  },
  {
   "cell_type": "code",
   "execution_count": 31,
   "metadata": {},
   "outputs": [],
   "source": [
    "def cantidad(df,columna):\n",
    "    if(df[columna].isnull().tolist()[0]):\n",
    "        return 0;\n",
    "    else:\n",
    "        return df.loc[df[columna]==True,[columna]].count().tolist()[0];\n",
    "        "
   ]
  },
  {
   "cell_type": "code",
   "execution_count": 32,
   "metadata": {},
   "outputs": [
    {
     "data": {
      "text/plain": [
       "594"
      ]
     },
     "execution_count": 32,
     "metadata": {},
     "output_type": "execute_result"
    }
   ],
   "source": [
    "cantidad(edificacion_segun_daño_1,'has_superstructure_adobe_mud')"
   ]
  },
  {
   "cell_type": "code",
   "execution_count": 42,
   "metadata": {},
   "outputs": [
    {
     "data": {
      "image/png": "[encoded data removed]",
      "text/plain": [
       "<Figure size 1080x360 with 1 Axes>"
      ]
     },
     "metadata": {},
     "output_type": "display_data"
    }
   ],
   "source": [
    "labels = ['Barro','Barro-Piedra','Piedra','Cemento-Piedra','Barro-Ladrillo',\\\n",
    "         'Cemento-Ladrillo','Madera','Caña','Concr. refor. ND',\\\n",
    "         'Concr. refor. D','Otro']\n",
    "\n",
    "damage_1 = [cantidad(edificacion_segun_daño_1,'has_superstructure_adobe_mud'),\\\n",
    "            cantidad(edificacion_segun_daño_1,'has_superstructure_mud_mortar_stone'),\\\n",
    "            cantidad(edificacion_segun_daño_1,'has_superstructure_stone_flag'),\\\n",
    "            cantidad(edificacion_segun_daño_1,'has_superstructure_cement_mortar_stone'),\\\n",
    "            cantidad(edificacion_segun_daño_1,'has_superstructure_mud_mortar_brick'),\\\n",
    "            cantidad(edificacion_segun_daño_1,'has_superstructure_cement_mortar_brick'),\\\n",
    "            cantidad(edificacion_segun_daño_1,'has_superstructure_timber'),\\\n",
    "            cantidad(edificacion_segun_daño_1,'has_superstructure_bamboo'),\\\n",
    "            cantidad(edificacion_segun_daño_1,'has_superstructure_rc_non_engineered'),\\\n",
    "            cantidad(edificacion_segun_daño_1,'has_superstructure_rc_engineered'),\\\n",
    "            cantidad(edificacion_segun_daño_1,'has_superstructure_other')]\n",
    "           \n",
    "            \n",
    "damage_2 = [cantidad(edificacion_segun_daño_2,'has_superstructure_adobe_mud'),\\\n",
    "            cantidad(edificacion_segun_daño_2,'has_superstructure_mud_mortar_stone'),\\\n",
    "            cantidad(edificacion_segun_daño_2,'has_superstructure_stone_flag'),\\\n",
    "            cantidad(edificacion_segun_daño_2,'has_superstructure_cement_mortar_stone'),\\\n",
    "            cantidad(edificacion_segun_daño_2,'has_superstructure_mud_mortar_brick'),\\\n",
    "            cantidad(edificacion_segun_daño_2,'has_superstructure_cement_mortar_brick'),\\\n",
    "            cantidad(edificacion_segun_daño_2,'has_superstructure_timber'),\\\n",
    "            cantidad(edificacion_segun_daño_2,'has_superstructure_bamboo'),\\\n",
    "            cantidad(edificacion_segun_daño_2,'has_superstructure_rc_non_engineered'),\\\n",
    "            cantidad(edificacion_segun_daño_2,'has_superstructure_rc_engineered'),\\\n",
    "            cantidad(edificacion_segun_daño_2,'has_superstructure_other')]\n",
    "\n",
    "damage_3 = [cantidad(edificacion_segun_daño_3,'has_superstructure_adobe_mud'),\\\n",
    "            cantidad(edificacion_segun_daño_3,'has_superstructure_mud_mortar_stone'),\\\n",
    "            cantidad(edificacion_segun_daño_3,'has_superstructure_stone_flag'),\\\n",
    "            cantidad(edificacion_segun_daño_3,'has_superstructure_cement_mortar_stone'),\\\n",
    "            cantidad(edificacion_segun_daño_3,'has_superstructure_mud_mortar_brick'),\\\n",
    "            cantidad(edificacion_segun_daño_3,'has_superstructure_cement_mortar_brick'),\\\n",
    "            cantidad(edificacion_segun_daño_3,'has_superstructure_timber'),\\\n",
    "            cantidad(edificacion_segun_daño_3,'has_superstructure_bamboo'),\\\n",
    "            cantidad(edificacion_segun_daño_3,'has_superstructure_rc_non_engineered'),\\\n",
    "            cantidad(edificacion_segun_daño_3,'has_superstructure_rc_engineered'),\\\n",
    "            cantidad(edificacion_segun_daño_3,'has_superstructure_other')]\n",
    "\n",
    "x = np.arange(len(labels))  # the label locations\n",
    "width = 0.35  # the width of the bars\n",
    "\n",
    "fig, ax = plt.subplots(figsize=(15, 5))\n",
    "rects1 = ax.bar(x - width/2, damage_1, width, label='Grado 1')\n",
    "rects2 = ax.bar(x + width/2, damage_2, width, label='Grado 2')\n",
    "rects3 = ax.bar(x + width, damage_3, width, label='Grado 3')\n",
    "\n",
    "# Add some text for labels, title and custom x-axis tick labels, etc.\n",
    "ax.set_ylabel('Cantidad de edificaciones')\n",
    "ax.set_title('Tipos de materiales mas dañados')\n",
    "ax.set_xticks(x)\n",
    "ax.set_xticklabels(labels)\n",
    "ax.legend()\n",
    "\n",
    "\n",
    "fig.tight_layout()\n"
   ]
  },
  {
   "cell_type": "markdown",
   "metadata": {},
   "source": [
    "Podemos ver que las edificaciones hechos en Barro-Piedra poseen una mayor cantidad de daño de grado 2 y 3 que las demas, esto puede darse ya que casi todas las estructuras poseen este compuesto de materiales "
   ]
  },
  {
   "cell_type": "code",
   "execution_count": 43,
   "metadata": {},
   "outputs": [
    {
     "data": {
      "text/plain": [
       "260601"
      ]
     },
     "execution_count": 43,
     "metadata": {},
     "output_type": "execute_result"
    }
   ],
   "source": [
    "edificacion['has_superstructure_mud_mortar_stone'].count()"
   ]
  },
  {
   "cell_type": "code",
   "execution_count": 44,
   "metadata": {},
   "outputs": [
    {
     "data": {
      "text/plain": [
       "has_superstructure_mud_mortar_stone    198561\n",
       "dtype: int64"
      ]
     },
     "execution_count": 44,
     "metadata": {},
     "output_type": "execute_result"
    }
   ],
   "source": [
    "edificacion.loc[edificacion['has_superstructure_mud_mortar_stone']==True,['has_superstructure_mud_mortar_stone']].count()"
   ]
  },
  {
   "cell_type": "code",
   "execution_count": 47,
   "metadata": {},
   "outputs": [
    {
     "data": {
      "text/plain": [
       "has_superstructure_timber    66450\n",
       "dtype: int64"
      ]
     },
     "execution_count": 47,
     "metadata": {},
     "output_type": "execute_result"
    }
   ],
   "source": [
    "edificacion.loc[edificacion['has_superstructure_timber'],['has_superstructure_timber']].count()"
   ]
  },
  {
   "cell_type": "code",
   "execution_count": null,
   "metadata": {},
   "outputs": [],
   "source": []
  }
 ],
 "metadata": {
  "kernelspec": {
   "display_name": "Python 3",
   "language": "python",
   "name": "python3"
  },
  "language_info": {
   "codemirror_mode": {
    "name": "ipython",
    "version": 3
   },
   "file_extension": ".py",
   "mimetype": "text/x-python",
   "name": "python",
   "nbconvert_exporter": "python",
   "pygments_lexer": "ipython3",
   "version": "3.5.2"
  }
 },
 "nbformat": 4,
 "nbformat_minor": 2
}
